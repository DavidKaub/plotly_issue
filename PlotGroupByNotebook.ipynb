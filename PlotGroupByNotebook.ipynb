{
 "cells": [
  {
   "cell_type": "markdown",
   "metadata": {
    "collapsed": true,
    "pycharm": {
     "name": "#%% md\n"
    }
   },
   "source": [
    "# Plot time series data with plotly using multiindex data frame\n",
    "\n",
    "## imports"
   ]
  },
  {
   "cell_type": "code",
   "execution_count": 75,
   "outputs": [],
   "source": [
    "import pandas as pd\n",
    "import numpy as np\n",
    "import math\n",
    "import scipy.stats as st\n",
    "import json\n",
    "import cufflinks as cf\n",
    "import plotly.express as px\n",
    "#%matplotlib inline\n",
    "from plotly.offline import download_plotlyjs\n",
    "#from plotly.offline import init_notebook_mode\n",
    "from plotly.offline import plot, iplot\n",
    "#init_notebook_mode(connected=True)\n",
    "#cf.go_offline()\n",
    "import chart_studio.plotly as py\n",
    "import plotly.graph_objects as go\n"
   ],
   "metadata": {
    "collapsed": false,
    "pycharm": {
     "name": "#%%\n"
    }
   }
  },
  {
   "cell_type": "markdown",
   "source": [
    "# Function definition"
   ],
   "metadata": {
    "collapsed": false
   }
  },
  {
   "cell_type": "code",
   "execution_count": 2,
   "outputs": [],
   "source": [
    "def aggregate_data(data_in, grouping_variables, aggregation_variable, confidence_level=0.95, use_t_dist_for_ci=True):\n",
    "    # todo code here!\n",
    "    stats = data_in.groupby(grouping_variables)[aggregation_variable].agg(['mean','median', 'count', 'std', 'min', 'max'])\n",
    "\n",
    "    intervals_hi = []\n",
    "    intervals_lo = []\n",
    "\n",
    "    for i in stats.index:\n",
    "        mean, median, count, std, min, max = stats.loc[i]\n",
    "        SE = std/(math.sqrt(count))\n",
    "\n",
    "        #deceide which distribution to use\n",
    "        if use_t_dist_for_ci:\n",
    "            degrees = count - 1\n",
    "            intervals = st.t.interval(confidence_level, degrees, loc=mean, scale = SE)\n",
    "        else:\n",
    "            intervals = st.norm.interval(confidence_level, loc=mean, scale = SE)\n",
    "\n",
    "\n",
    "        #apply the upper and lower intervals according to their values\n",
    "        if intervals[0] > intervals [1]:\n",
    "            intervals_hi.append(intervals[0])\n",
    "            intervals_lo.append(intervals[1])\n",
    "        else:\n",
    "            intervals_lo.append(intervals[0])\n",
    "            intervals_hi.append(intervals[1])\n",
    "\n",
    "    stats['ci95_lo'] = intervals_lo\n",
    "    stats['ci95_hi'] = intervals_hi\n",
    "    return stats\n",
    "\n",
    "#TODO compare different types to calculate confidence interval"
   ],
   "metadata": {
    "collapsed": false,
    "pycharm": {
     "name": "#%%\n"
    }
   }
  },
  {
   "cell_type": "markdown",
   "source": [
    "## Read data\n"
   ],
   "metadata": {
    "collapsed": false
   }
  },
  {
   "cell_type": "code",
   "execution_count": 261,
   "outputs": [
    {
     "data": {
      "text/plain": "       run   tick  DesireBelonging  DesireEsteem  DesirePhysio  DesireSafety  \\\n0        1    1.0         0.485641      0.490231      0.480647      0.495891   \n1        1    4.0         0.485261      0.491049      0.455044      0.486306   \n2        1    7.0         0.507690      0.519677      0.437024      0.474030   \n3        1   10.0         0.519846      0.535806      0.415691      0.458816   \n4        1   13.0         0.526231      0.545860      0.396946      0.445523   \n...    ...    ...              ...           ...           ...           ...   \n26995  300  256.0         0.451272      0.483169      0.241910      0.387933   \n26996  300  259.0         0.449687      0.481221      0.240781      0.386295   \n26997  300  262.0         0.449275      0.481212      0.240060      0.385607   \n26998  300  265.0         0.451021      0.482652      0.240290      0.385624   \n26999  300  268.0         0.450560      0.482173      0.241338      0.386073   \n\n       DesireSelfActualization  \n0                     0.489781  \n1                     0.488067  \n2                     0.515645  \n3                     0.531892  \n4                     0.544049  \n...                        ...  \n26995                 0.524744  \n26996                 0.522446  \n26997                 0.522565  \n26998                 0.523227  \n26999                 0.524389  \n\n[27000 rows x 7 columns]",
      "text/html": "<div>\n<style scoped>\n    .dataframe tbody tr th:only-of-type {\n        vertical-align: middle;\n    }\n\n    .dataframe tbody tr th {\n        vertical-align: top;\n    }\n\n    .dataframe thead th {\n        text-align: right;\n    }\n</style>\n<table border=\"1\" class=\"dataframe\">\n  <thead>\n    <tr style=\"text-align: right;\">\n      <th></th>\n      <th>run</th>\n      <th>tick</th>\n      <th>DesireBelonging</th>\n      <th>DesireEsteem</th>\n      <th>DesirePhysio</th>\n      <th>DesireSafety</th>\n      <th>DesireSelfActualization</th>\n    </tr>\n  </thead>\n  <tbody>\n    <tr>\n      <th>0</th>\n      <td>1</td>\n      <td>1.0</td>\n      <td>0.485641</td>\n      <td>0.490231</td>\n      <td>0.480647</td>\n      <td>0.495891</td>\n      <td>0.489781</td>\n    </tr>\n    <tr>\n      <th>1</th>\n      <td>1</td>\n      <td>4.0</td>\n      <td>0.485261</td>\n      <td>0.491049</td>\n      <td>0.455044</td>\n      <td>0.486306</td>\n      <td>0.488067</td>\n    </tr>\n    <tr>\n      <th>2</th>\n      <td>1</td>\n      <td>7.0</td>\n      <td>0.507690</td>\n      <td>0.519677</td>\n      <td>0.437024</td>\n      <td>0.474030</td>\n      <td>0.515645</td>\n    </tr>\n    <tr>\n      <th>3</th>\n      <td>1</td>\n      <td>10.0</td>\n      <td>0.519846</td>\n      <td>0.535806</td>\n      <td>0.415691</td>\n      <td>0.458816</td>\n      <td>0.531892</td>\n    </tr>\n    <tr>\n      <th>4</th>\n      <td>1</td>\n      <td>13.0</td>\n      <td>0.526231</td>\n      <td>0.545860</td>\n      <td>0.396946</td>\n      <td>0.445523</td>\n      <td>0.544049</td>\n    </tr>\n    <tr>\n      <th>...</th>\n      <td>...</td>\n      <td>...</td>\n      <td>...</td>\n      <td>...</td>\n      <td>...</td>\n      <td>...</td>\n      <td>...</td>\n    </tr>\n    <tr>\n      <th>26995</th>\n      <td>300</td>\n      <td>256.0</td>\n      <td>0.451272</td>\n      <td>0.483169</td>\n      <td>0.241910</td>\n      <td>0.387933</td>\n      <td>0.524744</td>\n    </tr>\n    <tr>\n      <th>26996</th>\n      <td>300</td>\n      <td>259.0</td>\n      <td>0.449687</td>\n      <td>0.481221</td>\n      <td>0.240781</td>\n      <td>0.386295</td>\n      <td>0.522446</td>\n    </tr>\n    <tr>\n      <th>26997</th>\n      <td>300</td>\n      <td>262.0</td>\n      <td>0.449275</td>\n      <td>0.481212</td>\n      <td>0.240060</td>\n      <td>0.385607</td>\n      <td>0.522565</td>\n    </tr>\n    <tr>\n      <th>26998</th>\n      <td>300</td>\n      <td>265.0</td>\n      <td>0.451021</td>\n      <td>0.482652</td>\n      <td>0.240290</td>\n      <td>0.385624</td>\n      <td>0.523227</td>\n    </tr>\n    <tr>\n      <th>26999</th>\n      <td>300</td>\n      <td>268.0</td>\n      <td>0.450560</td>\n      <td>0.482173</td>\n      <td>0.241338</td>\n      <td>0.386073</td>\n      <td>0.524389</td>\n    </tr>\n  </tbody>\n</table>\n<p>27000 rows × 7 columns</p>\n</div>"
     },
     "execution_count": 261,
     "metadata": {},
     "output_type": "execute_result"
    }
   ],
   "source": [
    "#read data\n",
    "how = \"inner\"\n",
    "column_name = \"run\"\n",
    "#merge data\n",
    "data_in = pd.read_csv(\"data_ma/compareTwoParam/AverageDesireSatisfactionLevel.2021.Mai.29.21_56_10.csv\")\n",
    "param_in = pd.read_csv(\"data_ma/compareTwoParam/AverageDesireSatisfactionLevel.2021.Mai.29.21_56_10.batch_param_map.csv\")\n",
    "#data_in = pd.read_json(\"data_uni/infections.2021.aug.17.08_53_42.json\")\n",
    "#param_in = pd.read_json(\"data_uni/infections.2021.aug.17.08_53_42.batch_param_map.json\")\n",
    "data_in"
   ],
   "metadata": {
    "collapsed": false,
    "pycharm": {
     "name": "#%%\n"
    }
   }
  },
  {
   "cell_type": "code",
   "execution_count": 185,
   "outputs": [],
   "source": [
    "#find unique experiments\n",
    "all_params = param_in.drop(columns=['run', 'randomSeed'])\n",
    "#all_params\n",
    "params_unique = all_params.drop_duplicates()\n",
    "#params_unique#.columns,\n",
    "#variables are:\n",
    "number_of_distinct_experiments = len(params_unique)"
   ],
   "metadata": {
    "collapsed": false,
    "pycharm": {
     "name": "#%%\n"
    }
   }
  },
  {
   "cell_type": "code",
   "execution_count": null,
   "outputs": [],
   "source": [
    "nunique = params_unique.nunique()\n",
    "cols_to_drop = nunique[nunique == 1].index\n",
    "params_unique.drop(cols_to_drop, axis=1)\n",
    "\n",
    "#USE_EMOTIONAL_AUTONOMY_FOR_SOCIAL_PRESSURE\n",
    "#USE_EMOTIONAL_AUTONOMY_FOR_SOCIAL_LEARNING\n",
    "#USE_SOCIAL_PRESSURE\n",
    "#USE_SOCIAL_LEARNING\n",
    "\n"
   ],
   "metadata": {
    "collapsed": false,
    "pycharm": {
     "name": "#%%\n"
    }
   }
  },
  {
   "cell_type": "code",
   "execution_count": 336,
   "outputs": [
    {
     "data": {
      "text/plain": "       run   tick  DesireBelonging  DesireEsteem  DesirePhysio  DesireSafety  \\\n0        1    1.0         0.485641      0.490231      0.480647      0.495891   \n1        1    4.0         0.485261      0.491049      0.455044      0.486306   \n2        1    7.0         0.507690      0.519677      0.437024      0.474030   \n3        1   10.0         0.519846      0.535806      0.415691      0.458816   \n4        1   13.0         0.526231      0.545860      0.396946      0.445523   \n...    ...    ...              ...           ...           ...           ...   \n26995  300  256.0         0.451272      0.483169      0.241910      0.387933   \n26996  300  259.0         0.449687      0.481221      0.240781      0.386295   \n26997  300  262.0         0.449275      0.481212      0.240060      0.385607   \n26998  300  265.0         0.451021      0.482652      0.240290      0.385624   \n26999  300  268.0         0.450560      0.482173      0.241338      0.386073   \n\n       DesireSelfActualization  USE_EMOTIONAL_AUTONOMY_FOR_SOCIAL_LEARNING  \\\n0                     0.489781                                       False   \n1                     0.488067                                       False   \n2                     0.515645                                       False   \n3                     0.531892                                       False   \n4                     0.544049                                       False   \n...                        ...                                         ...   \n26995                 0.524744                                       False   \n26996                 0.522446                                       False   \n26997                 0.522565                                       False   \n26998                 0.523227                                       False   \n26999                 0.524389                                       False   \n\n       DESIRE_SAFETY_DECAY  DRF_MAX_TOTAL_INPUT  ...  \\\n0                      0.2                  1.0  ...   \n1                      0.2                  1.0  ...   \n2                      0.2                  1.0  ...   \n3                      0.2                  1.0  ...   \n4                      0.2                  1.0  ...   \n...                    ...                  ...  ...   \n26995                  0.2                  1.0  ...   \n26996                  0.2                  1.0  ...   \n26997                  0.2                  1.0  ...   \n26998                  0.2                  1.0  ...   \n26999                  0.2                  1.0  ...   \n\n       LIMIT_INTENTION_REFLECTING_UTIL_BASED_ON_DSL  SOCIAL_SUPPORT_EFFECT  \\\n0                                             False                    0.5   \n1                                             False                    0.5   \n2                                             False                    0.5   \n3                                             False                    0.5   \n4                                             False                    0.5   \n...                                             ...                    ...   \n26995                                         False                    0.5   \n26996                                         False                    0.5   \n26997                                         False                    0.5   \n26998                                         False                    0.5   \n26999                                         False                    0.5   \n\n       DAYS_TO_SIMULATE  randomSeed  \\\n0                    90 -1186300987   \n1                    90 -1186300987   \n2                    90 -1186300987   \n3                    90 -1186300987   \n4                    90 -1186300987   \n...                 ...         ...   \n26995                90 -1179697960   \n26996                90 -1179697960   \n26997                90 -1179697960   \n26998                90 -1179697960   \n26999                90 -1179697960   \n\n       SOCIAL_LEARNING_EMOTIONAL_AUTONOMY_FACTOR  DESIRE_DECAY_BASE_RATE  \\\n0                                            1.0                    0.25   \n1                                            1.0                    0.25   \n2                                            1.0                    0.25   \n3                                            1.0                    0.25   \n4                                            1.0                    0.25   \n...                                          ...                     ...   \n26995                                        1.0                    0.25   \n26996                                        1.0                    0.25   \n26997                                        1.0                    0.25   \n26998                                        1.0                    0.25   \n26999                                        1.0                    0.25   \n\n       DRF_CALCULATION_STATIC_INFLUENCE  DESIRE_ESTEEM_IMPORTANCE_FACTOR  \\\n0                                   0.3                              1.0   \n1                                   0.3                              1.0   \n2                                   0.3                              1.0   \n3                                   0.3                              1.0   \n4                                   0.3                              1.0   \n...                                 ...                              ...   \n26995                               0.3                              1.0   \n26996                               0.3                              1.0   \n26997                               0.3                              1.0   \n26998                               0.3                              1.0   \n26999                               0.3                              1.0   \n\n       DESIRE_PHYSIO_IMPORTANCE_FACTOR  ALLWAYS_INIT_NETWORK  \n0                                  1.0                 False  \n1                                  1.0                 False  \n2                                  1.0                 False  \n3                                  1.0                 False  \n4                                  1.0                 False  \n...                                ...                   ...  \n26995                              1.0                 False  \n26996                              1.0                 False  \n26997                              1.0                 False  \n26998                              1.0                 False  \n26999                              1.0                 False  \n\n[27000 rows x 52 columns]",
      "text/html": "<div>\n<style scoped>\n    .dataframe tbody tr th:only-of-type {\n        vertical-align: middle;\n    }\n\n    .dataframe tbody tr th {\n        vertical-align: top;\n    }\n\n    .dataframe thead th {\n        text-align: right;\n    }\n</style>\n<table border=\"1\" class=\"dataframe\">\n  <thead>\n    <tr style=\"text-align: right;\">\n      <th></th>\n      <th>run</th>\n      <th>tick</th>\n      <th>DesireBelonging</th>\n      <th>DesireEsteem</th>\n      <th>DesirePhysio</th>\n      <th>DesireSafety</th>\n      <th>DesireSelfActualization</th>\n      <th>USE_EMOTIONAL_AUTONOMY_FOR_SOCIAL_LEARNING</th>\n      <th>DESIRE_SAFETY_DECAY</th>\n      <th>DRF_MAX_TOTAL_INPUT</th>\n      <th>...</th>\n      <th>LIMIT_INTENTION_REFLECTING_UTIL_BASED_ON_DSL</th>\n      <th>SOCIAL_SUPPORT_EFFECT</th>\n      <th>DAYS_TO_SIMULATE</th>\n      <th>randomSeed</th>\n      <th>SOCIAL_LEARNING_EMOTIONAL_AUTONOMY_FACTOR</th>\n      <th>DESIRE_DECAY_BASE_RATE</th>\n      <th>DRF_CALCULATION_STATIC_INFLUENCE</th>\n      <th>DESIRE_ESTEEM_IMPORTANCE_FACTOR</th>\n      <th>DESIRE_PHYSIO_IMPORTANCE_FACTOR</th>\n      <th>ALLWAYS_INIT_NETWORK</th>\n    </tr>\n  </thead>\n  <tbody>\n    <tr>\n      <th>0</th>\n      <td>1</td>\n      <td>1.0</td>\n      <td>0.485641</td>\n      <td>0.490231</td>\n      <td>0.480647</td>\n      <td>0.495891</td>\n      <td>0.489781</td>\n      <td>False</td>\n      <td>0.2</td>\n      <td>1.0</td>\n      <td>...</td>\n      <td>False</td>\n      <td>0.5</td>\n      <td>90</td>\n      <td>-1186300987</td>\n      <td>1.0</td>\n      <td>0.25</td>\n      <td>0.3</td>\n      <td>1.0</td>\n      <td>1.0</td>\n      <td>False</td>\n    </tr>\n    <tr>\n      <th>1</th>\n      <td>1</td>\n      <td>4.0</td>\n      <td>0.485261</td>\n      <td>0.491049</td>\n      <td>0.455044</td>\n      <td>0.486306</td>\n      <td>0.488067</td>\n      <td>False</td>\n      <td>0.2</td>\n      <td>1.0</td>\n      <td>...</td>\n      <td>False</td>\n      <td>0.5</td>\n      <td>90</td>\n      <td>-1186300987</td>\n      <td>1.0</td>\n      <td>0.25</td>\n      <td>0.3</td>\n      <td>1.0</td>\n      <td>1.0</td>\n      <td>False</td>\n    </tr>\n    <tr>\n      <th>2</th>\n      <td>1</td>\n      <td>7.0</td>\n      <td>0.507690</td>\n      <td>0.519677</td>\n      <td>0.437024</td>\n      <td>0.474030</td>\n      <td>0.515645</td>\n      <td>False</td>\n      <td>0.2</td>\n      <td>1.0</td>\n      <td>...</td>\n      <td>False</td>\n      <td>0.5</td>\n      <td>90</td>\n      <td>-1186300987</td>\n      <td>1.0</td>\n      <td>0.25</td>\n      <td>0.3</td>\n      <td>1.0</td>\n      <td>1.0</td>\n      <td>False</td>\n    </tr>\n    <tr>\n      <th>3</th>\n      <td>1</td>\n      <td>10.0</td>\n      <td>0.519846</td>\n      <td>0.535806</td>\n      <td>0.415691</td>\n      <td>0.458816</td>\n      <td>0.531892</td>\n      <td>False</td>\n      <td>0.2</td>\n      <td>1.0</td>\n      <td>...</td>\n      <td>False</td>\n      <td>0.5</td>\n      <td>90</td>\n      <td>-1186300987</td>\n      <td>1.0</td>\n      <td>0.25</td>\n      <td>0.3</td>\n      <td>1.0</td>\n      <td>1.0</td>\n      <td>False</td>\n    </tr>\n    <tr>\n      <th>4</th>\n      <td>1</td>\n      <td>13.0</td>\n      <td>0.526231</td>\n      <td>0.545860</td>\n      <td>0.396946</td>\n      <td>0.445523</td>\n      <td>0.544049</td>\n      <td>False</td>\n      <td>0.2</td>\n      <td>1.0</td>\n      <td>...</td>\n      <td>False</td>\n      <td>0.5</td>\n      <td>90</td>\n      <td>-1186300987</td>\n      <td>1.0</td>\n      <td>0.25</td>\n      <td>0.3</td>\n      <td>1.0</td>\n      <td>1.0</td>\n      <td>False</td>\n    </tr>\n    <tr>\n      <th>...</th>\n      <td>...</td>\n      <td>...</td>\n      <td>...</td>\n      <td>...</td>\n      <td>...</td>\n      <td>...</td>\n      <td>...</td>\n      <td>...</td>\n      <td>...</td>\n      <td>...</td>\n      <td>...</td>\n      <td>...</td>\n      <td>...</td>\n      <td>...</td>\n      <td>...</td>\n      <td>...</td>\n      <td>...</td>\n      <td>...</td>\n      <td>...</td>\n      <td>...</td>\n      <td>...</td>\n    </tr>\n    <tr>\n      <th>26995</th>\n      <td>300</td>\n      <td>256.0</td>\n      <td>0.451272</td>\n      <td>0.483169</td>\n      <td>0.241910</td>\n      <td>0.387933</td>\n      <td>0.524744</td>\n      <td>False</td>\n      <td>0.2</td>\n      <td>1.0</td>\n      <td>...</td>\n      <td>False</td>\n      <td>0.5</td>\n      <td>90</td>\n      <td>-1179697960</td>\n      <td>1.0</td>\n      <td>0.25</td>\n      <td>0.3</td>\n      <td>1.0</td>\n      <td>1.0</td>\n      <td>False</td>\n    </tr>\n    <tr>\n      <th>26996</th>\n      <td>300</td>\n      <td>259.0</td>\n      <td>0.449687</td>\n      <td>0.481221</td>\n      <td>0.240781</td>\n      <td>0.386295</td>\n      <td>0.522446</td>\n      <td>False</td>\n      <td>0.2</td>\n      <td>1.0</td>\n      <td>...</td>\n      <td>False</td>\n      <td>0.5</td>\n      <td>90</td>\n      <td>-1179697960</td>\n      <td>1.0</td>\n      <td>0.25</td>\n      <td>0.3</td>\n      <td>1.0</td>\n      <td>1.0</td>\n      <td>False</td>\n    </tr>\n    <tr>\n      <th>26997</th>\n      <td>300</td>\n      <td>262.0</td>\n      <td>0.449275</td>\n      <td>0.481212</td>\n      <td>0.240060</td>\n      <td>0.385607</td>\n      <td>0.522565</td>\n      <td>False</td>\n      <td>0.2</td>\n      <td>1.0</td>\n      <td>...</td>\n      <td>False</td>\n      <td>0.5</td>\n      <td>90</td>\n      <td>-1179697960</td>\n      <td>1.0</td>\n      <td>0.25</td>\n      <td>0.3</td>\n      <td>1.0</td>\n      <td>1.0</td>\n      <td>False</td>\n    </tr>\n    <tr>\n      <th>26998</th>\n      <td>300</td>\n      <td>265.0</td>\n      <td>0.451021</td>\n      <td>0.482652</td>\n      <td>0.240290</td>\n      <td>0.385624</td>\n      <td>0.523227</td>\n      <td>False</td>\n      <td>0.2</td>\n      <td>1.0</td>\n      <td>...</td>\n      <td>False</td>\n      <td>0.5</td>\n      <td>90</td>\n      <td>-1179697960</td>\n      <td>1.0</td>\n      <td>0.25</td>\n      <td>0.3</td>\n      <td>1.0</td>\n      <td>1.0</td>\n      <td>False</td>\n    </tr>\n    <tr>\n      <th>26999</th>\n      <td>300</td>\n      <td>268.0</td>\n      <td>0.450560</td>\n      <td>0.482173</td>\n      <td>0.241338</td>\n      <td>0.386073</td>\n      <td>0.524389</td>\n      <td>False</td>\n      <td>0.2</td>\n      <td>1.0</td>\n      <td>...</td>\n      <td>False</td>\n      <td>0.5</td>\n      <td>90</td>\n      <td>-1179697960</td>\n      <td>1.0</td>\n      <td>0.25</td>\n      <td>0.3</td>\n      <td>1.0</td>\n      <td>1.0</td>\n      <td>False</td>\n    </tr>\n  </tbody>\n</table>\n<p>27000 rows × 52 columns</p>\n</div>"
     },
     "execution_count": 336,
     "metadata": {},
     "output_type": "execute_result"
    }
   ],
   "source": [
    "merged_data = data_in.merge(param_in, left_on=column_name, right_on=column_name, how=how)\n",
    "\n",
    "merged_data"
   ],
   "metadata": {
    "collapsed": false,
    "pycharm": {
     "name": "#%%merge data\n"
    }
   }
  },
  {
   "cell_type": "code",
   "execution_count": 340,
   "outputs": [
    {
     "data": {
      "text/plain": "0         True\n1         True\n2         True\n3         True\n4         True\n         ...  \n26995    False\n26996    False\n26997    False\n26998    False\n26999    False\nName: second_factor, Length: 27000, dtype: bool"
     },
     "execution_count": 340,
     "metadata": {},
     "output_type": "execute_result"
    }
   ],
   "source": [
    "merged_data[\"first_factor\"] = merged_data[\"SOCIAL_PRESSURE_EFFECT\"]\n",
    "merged_data[\"second_factor\"] = merged_data[\"USE_EMOTIONAL_AUTONOMY_FOR_SOCIAL_PRESSURE\"]\n",
    "#update true / false to yes / no\n",
    "filter_true = (merged_data[\"second_factor\"] == True)\n",
    "filter_false = (merged_data[\"second_factor\"] == False)\n",
    "merged_data[\"second_factor\"]"
   ],
   "metadata": {
    "collapsed": false,
    "pycharm": {
     "name": "#%%\n"
    }
   }
  },
  {
   "cell_type": "code",
   "execution_count": 343,
   "outputs": [],
   "source": [
    "merged_data.loc[filter_true, \"second_factor\"] = \"yes\"\n",
    "merged_data.loc[filter_false, \"second_factor\"] = \"no\"\n",
    "subset = merged_data.loc[:, [\"run\", \"tick\", \"DesireBelonging\", \"first_factor\", \"second_factor\"]]\n",
    "subset.to_json(\"pandas_data_frame.json\")"
   ],
   "metadata": {
    "collapsed": false,
    "pycharm": {
     "name": "#%%\n"
    }
   }
  },
  {
   "cell_type": "code",
   "execution_count": 266,
   "outputs": [
    {
     "data": {
      "text/plain": "                                      mean    median  count       std  \\\ntick  first_factor second_factor                                        \n1.0   0.00         no             0.489803  0.489291     30  0.004103   \n                   yes            0.489626  0.489175     30  0.004610   \n      0.25         no             0.490416  0.490188     30  0.003058   \n                   yes            0.490440  0.490955     30  0.003531   \n      0.50         no             0.490133  0.490833     30  0.003642   \n...                                    ...       ...    ...       ...   \n268.0 0.50         yes            0.469987  0.469942     30  0.000963   \n      0.75         no             0.459094  0.459207     30  0.001609   \n                   yes            0.467484  0.467925     30  0.001422   \n      1.00         no             0.449855  0.449570     30  0.001749   \n                   yes            0.464206  0.464293     30  0.001207   \n\n                                       min       max   ci95_lo   ci95_hi  \ntick  first_factor second_factor                                          \n1.0   0.00         no             0.480890  0.499673  0.488271  0.491335  \n                   yes            0.479253  0.499235  0.487905  0.491348  \n      0.25         no             0.483497  0.495958  0.489274  0.491557  \n                   yes            0.483509  0.497344  0.489122  0.491759  \n      0.50         no             0.483114  0.496181  0.488773  0.491493  \n...                                    ...       ...       ...       ...  \n268.0 0.50         yes            0.468108  0.471690  0.469627  0.470346  \n      0.75         no             0.456083  0.461940  0.458494  0.459695  \n                   yes            0.464921  0.470434  0.466953  0.468015  \n      1.00         no             0.445721  0.452786  0.449202  0.450508  \n                   yes            0.461878  0.466715  0.463756  0.464657  \n\n[900 rows x 8 columns]",
      "text/html": "<div>\n<style scoped>\n    .dataframe tbody tr th:only-of-type {\n        vertical-align: middle;\n    }\n\n    .dataframe tbody tr th {\n        vertical-align: top;\n    }\n\n    .dataframe thead th {\n        text-align: right;\n    }\n</style>\n<table border=\"1\" class=\"dataframe\">\n  <thead>\n    <tr style=\"text-align: right;\">\n      <th></th>\n      <th></th>\n      <th></th>\n      <th>mean</th>\n      <th>median</th>\n      <th>count</th>\n      <th>std</th>\n      <th>min</th>\n      <th>max</th>\n      <th>ci95_lo</th>\n      <th>ci95_hi</th>\n    </tr>\n    <tr>\n      <th>tick</th>\n      <th>first_factor</th>\n      <th>second_factor</th>\n      <th></th>\n      <th></th>\n      <th></th>\n      <th></th>\n      <th></th>\n      <th></th>\n      <th></th>\n      <th></th>\n    </tr>\n  </thead>\n  <tbody>\n    <tr>\n      <th rowspan=\"5\" valign=\"top\">1.0</th>\n      <th rowspan=\"2\" valign=\"top\">0.00</th>\n      <th>no</th>\n      <td>0.489803</td>\n      <td>0.489291</td>\n      <td>30</td>\n      <td>0.004103</td>\n      <td>0.480890</td>\n      <td>0.499673</td>\n      <td>0.488271</td>\n      <td>0.491335</td>\n    </tr>\n    <tr>\n      <th>yes</th>\n      <td>0.489626</td>\n      <td>0.489175</td>\n      <td>30</td>\n      <td>0.004610</td>\n      <td>0.479253</td>\n      <td>0.499235</td>\n      <td>0.487905</td>\n      <td>0.491348</td>\n    </tr>\n    <tr>\n      <th rowspan=\"2\" valign=\"top\">0.25</th>\n      <th>no</th>\n      <td>0.490416</td>\n      <td>0.490188</td>\n      <td>30</td>\n      <td>0.003058</td>\n      <td>0.483497</td>\n      <td>0.495958</td>\n      <td>0.489274</td>\n      <td>0.491557</td>\n    </tr>\n    <tr>\n      <th>yes</th>\n      <td>0.490440</td>\n      <td>0.490955</td>\n      <td>30</td>\n      <td>0.003531</td>\n      <td>0.483509</td>\n      <td>0.497344</td>\n      <td>0.489122</td>\n      <td>0.491759</td>\n    </tr>\n    <tr>\n      <th>0.50</th>\n      <th>no</th>\n      <td>0.490133</td>\n      <td>0.490833</td>\n      <td>30</td>\n      <td>0.003642</td>\n      <td>0.483114</td>\n      <td>0.496181</td>\n      <td>0.488773</td>\n      <td>0.491493</td>\n    </tr>\n    <tr>\n      <th>...</th>\n      <th>...</th>\n      <th>...</th>\n      <td>...</td>\n      <td>...</td>\n      <td>...</td>\n      <td>...</td>\n      <td>...</td>\n      <td>...</td>\n      <td>...</td>\n      <td>...</td>\n    </tr>\n    <tr>\n      <th rowspan=\"5\" valign=\"top\">268.0</th>\n      <th>0.50</th>\n      <th>yes</th>\n      <td>0.469987</td>\n      <td>0.469942</td>\n      <td>30</td>\n      <td>0.000963</td>\n      <td>0.468108</td>\n      <td>0.471690</td>\n      <td>0.469627</td>\n      <td>0.470346</td>\n    </tr>\n    <tr>\n      <th rowspan=\"2\" valign=\"top\">0.75</th>\n      <th>no</th>\n      <td>0.459094</td>\n      <td>0.459207</td>\n      <td>30</td>\n      <td>0.001609</td>\n      <td>0.456083</td>\n      <td>0.461940</td>\n      <td>0.458494</td>\n      <td>0.459695</td>\n    </tr>\n    <tr>\n      <th>yes</th>\n      <td>0.467484</td>\n      <td>0.467925</td>\n      <td>30</td>\n      <td>0.001422</td>\n      <td>0.464921</td>\n      <td>0.470434</td>\n      <td>0.466953</td>\n      <td>0.468015</td>\n    </tr>\n    <tr>\n      <th rowspan=\"2\" valign=\"top\">1.00</th>\n      <th>no</th>\n      <td>0.449855</td>\n      <td>0.449570</td>\n      <td>30</td>\n      <td>0.001749</td>\n      <td>0.445721</td>\n      <td>0.452786</td>\n      <td>0.449202</td>\n      <td>0.450508</td>\n    </tr>\n    <tr>\n      <th>yes</th>\n      <td>0.464206</td>\n      <td>0.464293</td>\n      <td>30</td>\n      <td>0.001207</td>\n      <td>0.461878</td>\n      <td>0.466715</td>\n      <td>0.463756</td>\n      <td>0.464657</td>\n    </tr>\n  </tbody>\n</table>\n<p>900 rows × 8 columns</p>\n</div>"
     },
     "execution_count": 266,
     "metadata": {},
     "output_type": "execute_result"
    }
   ],
   "source": [
    "#set aggregation type\n",
    "aggregationVariable = 'DesireBelonging'\n",
    "#group_by_string = '[\"tick\"]'\n",
    "#group_by_string = '[\"tick\",\"USE_EMOTIONAL_AUTONOMY_FOR_SOCIAL_PRESSURE\",\"USE_EMOTIONAL_AUTONOMY_FOR_SOCIAL_LEARNING\",\"USE_SOCIAL_PRESSURE\",\"USE_SOCIAL_LEARNING\"]'\n",
    "#group_by_string = '[\"tick\",\"USE_EMOTIONAL_AUTONOMY_FOR_SOCIAL_PRESSURE\",\"SOCIAL_PRESSURE_EFFECT\"]'\n",
    "\n",
    "group_by_string = '[\"tick\",\"first_factor\",\"second_factor\"]'\n",
    "\n",
    "groupingVariables = json.loads(group_by_string)\n",
    "\n",
    "#aggregate\n",
    "my_stats = aggregate_data(merged_data, groupingVariables, aggregationVariable)\n",
    "#my_stats.to_json(\"data_ma/sampleData.json\")\n",
    "my_stats\n",
    "\n",
    "\n"
   ],
   "metadata": {
    "collapsed": false,
    "pycharm": {
     "name": "#%%\n"
    }
   }
  },
  {
   "cell_type": "markdown",
   "source": [
    "## Plot default plot without groups but with ci"
   ],
   "metadata": {
    "collapsed": false,
    "pycharm": {
     "name": "#%% md\n"
    }
   }
  },
  {
   "cell_type": "code",
   "execution_count": 256,
   "outputs": [
    {
     "data": {
      "text/plain": "                                      mean    median  count       std  \\\ntick  first_factor second_factor                                        \n1.0   0.00         no             0.489803  0.489291     30  0.004103   \n                   yes            0.489626  0.489175     30  0.004610   \n      0.25         no             0.490416  0.490188     30  0.003058   \n                   yes            0.490440  0.490955     30  0.003531   \n      0.50         no             0.490133  0.490833     30  0.003642   \n...                                    ...       ...    ...       ...   \n268.0 0.50         yes            0.469987  0.469942     30  0.000963   \n      0.75         no             0.459094  0.459207     30  0.001609   \n                   yes            0.467484  0.467925     30  0.001422   \n      1.00         no             0.449855  0.449570     30  0.001749   \n                   yes            0.464206  0.464293     30  0.001207   \n\n                                       min       max   ci95_lo   ci95_hi  \ntick  first_factor second_factor                                          \n1.0   0.00         no             0.480890  0.499673  0.488271  0.491335  \n                   yes            0.479253  0.499235  0.487905  0.491348  \n      0.25         no             0.483497  0.495958  0.489274  0.491557  \n                   yes            0.483509  0.497344  0.489122  0.491759  \n      0.50         no             0.483114  0.496181  0.488773  0.491493  \n...                                    ...       ...       ...       ...  \n268.0 0.50         yes            0.468108  0.471690  0.469627  0.470346  \n      0.75         no             0.456083  0.461940  0.458494  0.459695  \n                   yes            0.464921  0.470434  0.466953  0.468015  \n      1.00         no             0.445721  0.452786  0.449202  0.450508  \n                   yes            0.461878  0.466715  0.463756  0.464657  \n\n[900 rows x 8 columns]",
      "text/html": "<div>\n<style scoped>\n    .dataframe tbody tr th:only-of-type {\n        vertical-align: middle;\n    }\n\n    .dataframe tbody tr th {\n        vertical-align: top;\n    }\n\n    .dataframe thead th {\n        text-align: right;\n    }\n</style>\n<table border=\"1\" class=\"dataframe\">\n  <thead>\n    <tr style=\"text-align: right;\">\n      <th></th>\n      <th></th>\n      <th></th>\n      <th>mean</th>\n      <th>median</th>\n      <th>count</th>\n      <th>std</th>\n      <th>min</th>\n      <th>max</th>\n      <th>ci95_lo</th>\n      <th>ci95_hi</th>\n    </tr>\n    <tr>\n      <th>tick</th>\n      <th>first_factor</th>\n      <th>second_factor</th>\n      <th></th>\n      <th></th>\n      <th></th>\n      <th></th>\n      <th></th>\n      <th></th>\n      <th></th>\n      <th></th>\n    </tr>\n  </thead>\n  <tbody>\n    <tr>\n      <th rowspan=\"5\" valign=\"top\">1.0</th>\n      <th rowspan=\"2\" valign=\"top\">0.00</th>\n      <th>no</th>\n      <td>0.489803</td>\n      <td>0.489291</td>\n      <td>30</td>\n      <td>0.004103</td>\n      <td>0.480890</td>\n      <td>0.499673</td>\n      <td>0.488271</td>\n      <td>0.491335</td>\n    </tr>\n    <tr>\n      <th>yes</th>\n      <td>0.489626</td>\n      <td>0.489175</td>\n      <td>30</td>\n      <td>0.004610</td>\n      <td>0.479253</td>\n      <td>0.499235</td>\n      <td>0.487905</td>\n      <td>0.491348</td>\n    </tr>\n    <tr>\n      <th rowspan=\"2\" valign=\"top\">0.25</th>\n      <th>no</th>\n      <td>0.490416</td>\n      <td>0.490188</td>\n      <td>30</td>\n      <td>0.003058</td>\n      <td>0.483497</td>\n      <td>0.495958</td>\n      <td>0.489274</td>\n      <td>0.491557</td>\n    </tr>\n    <tr>\n      <th>yes</th>\n      <td>0.490440</td>\n      <td>0.490955</td>\n      <td>30</td>\n      <td>0.003531</td>\n      <td>0.483509</td>\n      <td>0.497344</td>\n      <td>0.489122</td>\n      <td>0.491759</td>\n    </tr>\n    <tr>\n      <th>0.50</th>\n      <th>no</th>\n      <td>0.490133</td>\n      <td>0.490833</td>\n      <td>30</td>\n      <td>0.003642</td>\n      <td>0.483114</td>\n      <td>0.496181</td>\n      <td>0.488773</td>\n      <td>0.491493</td>\n    </tr>\n    <tr>\n      <th>...</th>\n      <th>...</th>\n      <th>...</th>\n      <td>...</td>\n      <td>...</td>\n      <td>...</td>\n      <td>...</td>\n      <td>...</td>\n      <td>...</td>\n      <td>...</td>\n      <td>...</td>\n    </tr>\n    <tr>\n      <th rowspan=\"5\" valign=\"top\">268.0</th>\n      <th>0.50</th>\n      <th>yes</th>\n      <td>0.469987</td>\n      <td>0.469942</td>\n      <td>30</td>\n      <td>0.000963</td>\n      <td>0.468108</td>\n      <td>0.471690</td>\n      <td>0.469627</td>\n      <td>0.470346</td>\n    </tr>\n    <tr>\n      <th rowspan=\"2\" valign=\"top\">0.75</th>\n      <th>no</th>\n      <td>0.459094</td>\n      <td>0.459207</td>\n      <td>30</td>\n      <td>0.001609</td>\n      <td>0.456083</td>\n      <td>0.461940</td>\n      <td>0.458494</td>\n      <td>0.459695</td>\n    </tr>\n    <tr>\n      <th>yes</th>\n      <td>0.467484</td>\n      <td>0.467925</td>\n      <td>30</td>\n      <td>0.001422</td>\n      <td>0.464921</td>\n      <td>0.470434</td>\n      <td>0.466953</td>\n      <td>0.468015</td>\n    </tr>\n    <tr>\n      <th rowspan=\"2\" valign=\"top\">1.00</th>\n      <th>no</th>\n      <td>0.449855</td>\n      <td>0.449570</td>\n      <td>30</td>\n      <td>0.001749</td>\n      <td>0.445721</td>\n      <td>0.452786</td>\n      <td>0.449202</td>\n      <td>0.450508</td>\n    </tr>\n    <tr>\n      <th>yes</th>\n      <td>0.464206</td>\n      <td>0.464293</td>\n      <td>30</td>\n      <td>0.001207</td>\n      <td>0.461878</td>\n      <td>0.466715</td>\n      <td>0.463756</td>\n      <td>0.464657</td>\n    </tr>\n  </tbody>\n</table>\n<p>900 rows × 8 columns</p>\n</div>"
     },
     "execution_count": 256,
     "metadata": {},
     "output_type": "execute_result"
    }
   ],
   "source": [
    "df = my_stats\n",
    "#df = df.loc[(slice(None),1, True)]\n",
    "df"
   ],
   "metadata": {
    "collapsed": false,
    "pycharm": {
     "name": "#%%\n"
    }
   }
  },
  {
   "cell_type": "code",
   "execution_count": 344,
   "outputs": [
    {
     "data": {
      "application/vnd.plotly.v1+json": {
       "config": {
        "plotlyServerURL": "https://plot.ly"
       },
       "data": [
        {
         "line": {
          "color": "rgb(31, 119, 255)"
         },
         "mode": "lines",
         "name": "Mittelwert",
         "type": "scatter",
         "y": [
          0.4898029948878537,
          0.4896262993579566,
          0.49041559500571097,
          0.4904402456333798,
          0.49013306532241113,
          0.4899426278445931,
          0.48988453645481916,
          0.4904602243455,
          0.48886640012316385,
          0.4895215995099306,
          0.4887162939873177,
          0.4884215716688495,
          0.48906511336142,
          0.4886624873218447,
          0.48800153145870834,
          0.4884333282822161,
          0.48706701956771337,
          0.4891863178224908,
          0.48505737291738876,
          0.48710839640806003,
          0.5110577581042366,
          0.510987468235698,
          0.5114731344015753,
          0.511262905676071,
          0.5093711501011992,
          0.5106632325547602,
          0.5066266468356632,
          0.510663581358809,
          0.5030887124187572,
          0.5077985497785525,
          0.5235851694133075,
          0.5235221373247017,
          0.523009754876382,
          0.5232452553148347,
          0.5207449598437907,
          0.5226368723356406,
          0.5163400149941267,
          0.5217928582884929,
          0.5115083270790025,
          0.5186436697155444,
          0.5297896354998624,
          0.529716540342203,
          0.529144705890354,
          0.5294865386376633,
          0.5263238674318997,
          0.5284931424297769,
          0.5211311940897217,
          0.5276129405001833,
          0.5151021293098237,
          0.5240511344085489,
          0.5280153426269958,
          0.5282235365265797,
          0.5276901893762582,
          0.5279473395664994,
          0.5245198197396483,
          0.5266297117113683,
          0.5186957371547372,
          0.5252868180501923,
          0.511763508509964,
          0.5218104187050353,
          0.5265213016143653,
          0.5265242316528825,
          0.5258504719499295,
          0.5268995929588302,
          0.5227690112671707,
          0.5249526961901834,
          0.516268721768722,
          0.5235136309115306,
          0.5087517940158044,
          0.5201658960652329,
          0.524757175259221,
          0.5251032802944188,
          0.5241587630423842,
          0.525075421349915,
          0.5207252928029488,
          0.5233054605286432,
          0.5140609159744347,
          0.5215581582786719,
          0.505922186468374,
          0.5180177350804371,
          0.521164798530118,
          0.5215212230032018,
          0.5202709823072601,
          0.5214020612048891,
          0.5171358011128772,
          0.5197197051145788,
          0.5100341601231136,
          0.517865915097066,
          0.5014233774577764,
          0.5141891212804084,
          0.5158980069700112,
          0.5165158163930138,
          0.5149448805355199,
          0.5160451417686827,
          0.5115623410770651,
          0.5145414748295194,
          0.5041454180802075,
          0.5123271568820156,
          0.49576308031833777,
          0.509221543440582,
          0.5127955738859613,
          0.5127638504316806,
          0.5114585010429131,
          0.5126265632613592,
          0.5081919899288456,
          0.5109910867207199,
          0.5003434953431884,
          0.5088519157681237,
          0.4921656960333241,
          0.5055910693750272,
          0.5097159136364167,
          0.5095011808693942,
          0.5086628994394335,
          0.5092155127717025,
          0.5047573607757945,
          0.5075067119983315,
          0.4969235431004978,
          0.5055646728138374,
          0.4883448030247212,
          0.5021226052768625,
          0.5055253970792817,
          0.505164931621836,
          0.5044050689557161,
          0.5052516593769245,
          0.5008445008435033,
          0.5037173984492594,
          0.49301359682635026,
          0.5014228176895125,
          0.48380264718024685,
          0.49795931060818416,
          0.5023913699266089,
          0.5018991953946017,
          0.5013026516102629,
          0.5017736297730777,
          0.4973777711278356,
          0.5003859603708393,
          0.48963178735236396,
          0.49789091810122843,
          0.4805556275479058,
          0.4944376218303527,
          0.5001483177909799,
          0.4995929407149579,
          0.4988763893159048,
          0.499879513823454,
          0.494912608517271,
          0.4982780072414096,
          0.48712066743662646,
          0.49553048676467787,
          0.47793060581125507,
          0.4922785468666338,
          0.49744330201622083,
          0.49712904187502527,
          0.49606239567241356,
          0.49707088704276625,
          0.4922939734943374,
          0.4954005329911837,
          0.48471550486070675,
          0.493054429181199,
          0.4750824128788323,
          0.48986190476741925,
          0.49476110207682883,
          0.4946005309516685,
          0.4934967408555065,
          0.4944362585357491,
          0.4896108001152176,
          0.4930707826979133,
          0.4814125124029101,
          0.4903528862270054,
          0.4722431746122494,
          0.4869160244525485,
          0.493011632163519,
          0.4928975576592308,
          0.4918414087449156,
          0.492624924196833,
          0.4879279034274106,
          0.4913327766551225,
          0.47977701717829824,
          0.48877257916752925,
          0.4707077544186405,
          0.4850712312565881,
          0.4913978276672824,
          0.49140702262912145,
          0.4905366944542965,
          0.4910250509444988,
          0.48674120094587636,
          0.4895335791575755,
          0.47829047606694736,
          0.4871626433203388,
          0.46938246474450207,
          0.48370842897259275,
          0.48998126910421785,
          0.4893735972353086,
          0.4886560704412663,
          0.48944030063376637,
          0.48472567501737834,
          0.48806560074034916,
          0.47676385932324733,
          0.4853641250635337,
          0.46728089922567534,
          0.48208122029494677,
          0.48830511008651956,
          0.48807462308279403,
          0.48732144319046405,
          0.4881601245667327,
          0.48343263276065035,
          0.4866493320260719,
          0.47497232505297293,
          0.48391623722207416,
          0.4657243840583376,
          0.4805726371994049,
          0.48745841939422097,
          0.48709089673786393,
          0.4862362376746368,
          0.487167336778893,
          0.4824938875718944,
          0.4854245555232439,
          0.47436092275210495,
          0.48280667951608314,
          0.4648942777530715,
          0.4795343663966935,
          0.4866846513531417,
          0.48625580172642313,
          0.4847764523919226,
          0.4861999708337664,
          0.4814101764443366,
          0.4848609650070117,
          0.47334471527125277,
          0.4818364654675483,
          0.4638309233989192,
          0.47885436100407053,
          0.4851845458751745,
          0.48481817764182433,
          0.48396135191179174,
          0.48482487720671624,
          0.4798562614835426,
          0.4835319097078211,
          0.4720507161967781,
          0.4807315557481331,
          0.46258084015995776,
          0.47744209393572484,
          0.4841405963104218,
          0.48441220970073284,
          0.48324883381239864,
          0.4841679396000745,
          0.479333540908125,
          0.48260812375520296,
          0.47109576906115874,
          0.48035010237119297,
          0.4621992740975068,
          0.4763284336135303,
          0.48378081332604933,
          0.4834595637894329,
          0.4822675562775746,
          0.48311602919863383,
          0.47869533090724786,
          0.48183300268911,
          0.4706728546860014,
          0.47919895641172033,
          0.46146501157267195,
          0.4757371237005176,
          0.4828762064133152,
          0.48238073713636254,
          0.4816403216613337,
          0.4825032905233194,
          0.4776978162253337,
          0.48103431548063597,
          0.4698476905073456,
          0.47842059376917934,
          0.4603910691804776,
          0.4751671443578037,
          0.4822250963621083,
          0.48198818086413114,
          0.48085420139297713,
          0.48179363201471137,
          0.47707390848760034,
          0.4801025698426013,
          0.4692251619783315,
          0.4778295539671399,
          0.45952854429165046,
          0.47431268876030874,
          0.4816447800072918,
          0.4813406876406795,
          0.48012526922761917,
          0.48113589856903,
          0.47637553128380977,
          0.47968331388099167,
          0.46838559038550287,
          0.4771890678218751,
          0.4593721076964309,
          0.47362221012414546,
          0.48091946458281704,
          0.4804812113660242,
          0.4795830921310555,
          0.4806605167690663,
          0.4756881096582544,
          0.47944508100926186,
          0.4680424599245933,
          0.4764670733360194,
          0.45827307799256345,
          0.47341873478200414,
          0.48062258871875946,
          0.4801621538257643,
          0.47900994816316717,
          0.4800277609712234,
          0.4750344636848924,
          0.4785643932791761,
          0.4671808061505132,
          0.4761431222663163,
          0.45789383575604775,
          0.47288961318126677,
          0.4800359509269034,
          0.4799337355779546,
          0.4786067384336838,
          0.47921085584376855,
          0.47465146463119723,
          0.47812873845213505,
          0.4666501394948244,
          0.47561824703661354,
          0.45735136309487084,
          0.47231831394342605,
          0.4791318253182379,
          0.4793869062205013,
          0.47840470694197346,
          0.47877805765028486,
          0.4740895087062905,
          0.4776823315213155,
          0.46626236302832474,
          0.4752103964464117,
          0.4571161260289177,
          0.4716257468635278,
          0.4792792549884212,
          0.47840605987839785,
          0.4778595628248149,
          0.47866727158496203,
          0.47348247369982227,
          0.47714177005605757,
          0.4662006920972279,
          0.47475424583803144,
          0.45649629671444814,
          0.4714241703984063,
          0.4786468979458229,
          0.47800149912106565,
          0.4774000535418979,
          0.47827702562993024,
          0.4732224285508212,
          0.4767280374143855,
          0.465316053519224,
          0.47398011168578924,
          0.4563699016719341,
          0.4708192121780377,
          0.4782096616366414,
          0.47801530653591395,
          0.4769293937511388,
          0.4779294744145621,
          0.4729183906148197,
          0.47651380782361286,
          0.4653866924745812,
          0.47368386880533925,
          0.4559613501547571,
          0.47062630884651907,
          0.47785120719393637,
          0.47770016030666723,
          0.47651859255568346,
          0.47748294233737437,
          0.4724375648526649,
          0.47612608544415996,
          0.46464831300262815,
          0.47341554309666484,
          0.4556222772547836,
          0.47043127911807503,
          0.47771179075861436,
          0.4771810181628065,
          0.4760421343009821,
          0.4768936917885585,
          0.4724895247940964,
          0.4756239597108905,
          0.46451100337175844,
          0.4731130897059896,
          0.45523763805002987,
          0.47010509746864176,
          0.47730984428870804,
          0.47693553710603237,
          0.47575385012565286,
          0.47657010173513004,
          0.4719745843060768,
          0.47559776659891,
          0.46411379514852613,
          0.4727949438596564,
          0.45481753323415613,
          0.4695579626989944,
          0.47673015435959043,
          0.47675778524997514,
          0.4755810082944121,
          0.47632645559735864,
          0.47177781110382905,
          0.4748949328394474,
          0.46403112790318396,
          0.4724737105925021,
          0.4546904512370056,
          0.46918960080930117,
          0.47690362984788376,
          0.476137774345528,
          0.47513850320902873,
          0.47632956571675417,
          0.47148567214266607,
          0.47491449881907155,
          0.46350059932554555,
          0.47193619443857016,
          0.4545265748400669,
          0.4688840924672456,
          0.47633785420503055,
          0.4760092547644871,
          0.4749428593541027,
          0.4763798024535635,
          0.4712595356086208,
          0.4743885581528419,
          0.4633831221566315,
          0.47190185034179666,
          0.4539884493110643,
          0.4685643744295509,
          0.4759470287658364,
          0.4758724582547564,
          0.47476219123008406,
          0.47584800194691573,
          0.47085197064973705,
          0.4744291915632423,
          0.4630155888593875,
          0.47149921853964105,
          0.4539221307848942,
          0.46842104587900996,
          0.47630540196240434,
          0.47559663598820945,
          0.4741957752360649,
          0.4755812723647312,
          0.47062628859864236,
          0.47402949670018535,
          0.46275153279517683,
          0.47149319705750786,
          0.45386425414727294,
          0.468025922851515,
          0.47577632788665514,
          0.4754383447253851,
          0.4741889380808009,
          0.47538549639347116,
          0.4704502728366119,
          0.4738321147920109,
          0.46247629092534626,
          0.4714294285162649,
          0.4537904884851836,
          0.46785049590348177,
          0.47533444347193665,
          0.47542890133370774,
          0.4741562696419467,
          0.47513360159052537,
          0.47038032147656517,
          0.4735896360115177,
          0.4623070356812002,
          0.47106919283272447,
          0.45317554661792037,
          0.46768194677721325,
          0.4751741653363764,
          0.4751633683005777,
          0.47415733824739553,
          0.47462213300400874,
          0.4699026902221319,
          0.4733737746233778,
          0.4619064578291427,
          0.4707934262812054,
          0.4535193856282448,
          0.46719928001327643,
          0.4752553002083644,
          0.47473436594447593,
          0.4737071593869596,
          0.47441231888320023,
          0.47008289434751727,
          0.4731144982484023,
          0.4621098558526702,
          0.4706645532692106,
          0.45292009130751487,
          0.46706509138932834,
          0.4747268074444706,
          0.4745302256322637,
          0.4736265682690029,
          0.47470360482198115,
          0.46970234049074094,
          0.4730167062733904,
          0.46194915417350646,
          0.4705076526360023,
          0.4528592512846351,
          0.46698074643617216,
          0.4747963845666746,
          0.4745484452348238,
          0.47357664868910254,
          0.4744486883096569,
          0.46951371013484144,
          0.4729859692852955,
          0.4617700438444611,
          0.47030203520424113,
          0.4524621249858523,
          0.4668444197625262,
          0.4747794381881975,
          0.4741870485444017,
          0.47314011838484377,
          0.4741343373184765,
          0.469457255545193,
          0.47293278387113435,
          0.4615205888236122,
          0.4701194885915591,
          0.4527294505690272,
          0.4668409124449312,
          0.47459589889227954,
          0.4744381671023611,
          0.47304648773493435,
          0.47393900948927514,
          0.46937553835368095,
          0.4725325623925106,
          0.46142194260358704,
          0.47042702852276574,
          0.45234900276575657,
          0.46685521820829934,
          0.47420740335020384,
          0.4742707677027077,
          0.4732587199694495,
          0.4738753038799977,
          0.46931926008492436,
          0.4724594891767199,
          0.46131613550096356,
          0.4701136914709822,
          0.4523326507518808,
          0.466390420972398,
          0.4740764589041059,
          0.4740965308566785,
          0.47308270439557787,
          0.4735261821534175,
          0.4689424704680149,
          0.4724940454861333,
          0.4612545480289198,
          0.46977274336601005,
          0.452270196656776,
          0.46635863664268246,
          0.47419656457975673,
          0.4737140020139355,
          0.47287291541856297,
          0.47355039665730203,
          0.4688278297181639,
          0.4722026377298379,
          0.4610195010749039,
          0.46956792849773343,
          0.4518631154081873,
          0.46602970792476744,
          0.4737820473652334,
          0.4737117836095753,
          0.47268335000339695,
          0.4737901596043681,
          0.4686605100482547,
          0.4719813711004535,
          0.46097048582139644,
          0.4696780255407761,
          0.45209248735764984,
          0.46613398278670304,
          0.47376119474461303,
          0.47336605118357605,
          0.4725493648960748,
          0.4731871058820898,
          0.4687241085520786,
          0.4721303627973054,
          0.46096427343666885,
          0.4695080543273345,
          0.45152330592115014,
          0.46620627931102365,
          0.47391138499257135,
          0.47351684028643365,
          0.47212704170406145,
          0.47351549089304595,
          0.4685325909065962,
          0.47185557544636547,
          0.46070401145351775,
          0.4693849607842381,
          0.45156911297645036,
          0.46596167326554383,
          0.47379637287106335,
          0.473201088485945,
          0.4722577587064947,
          0.4732154992208739,
          0.46854137254584577,
          0.47189161054535356,
          0.46040709113877404,
          0.4694144722169603,
          0.45164411797099924,
          0.4659703945782944,
          0.47350883801292515,
          0.4734515394615325,
          0.472232827624495,
          0.4730697763260257,
          0.46826919449426146,
          0.4717293583584307,
          0.4603425971714563,
          0.4693947382212842,
          0.4516696462832087,
          0.4657816131831914,
          0.473159963420809,
          0.4731876155188381,
          0.47203327357471114,
          0.472740506987014,
          0.4681801913157511,
          0.4716097624251855,
          0.4604596071535126,
          0.46913878950212523,
          0.45153263001650884,
          0.46572063912253975,
          0.4733547828796737,
          0.47298800994191326,
          0.4722099061495738,
          0.47286055713181063,
          0.4681322870381658,
          0.4715713743545819,
          0.46038756784015616,
          0.46929183735879904,
          0.4512700057014372,
          0.4656249258526355,
          0.4732659512894197,
          0.47316809352352873,
          0.472299187176234,
          0.47284532629866965,
          0.4683412271138715,
          0.4716682571331868,
          0.46046338778667095,
          0.46895446541465713,
          0.45158566519496723,
          0.46566946361680167,
          0.47302831758533787,
          0.4730113150501979,
          0.472132334290741,
          0.47284256925508233,
          0.46796598679936197,
          0.47117641285994166,
          0.4604939284545858,
          0.46896663775242875,
          0.450893197329127,
          0.4655980210473214,
          0.4728679134329468,
          0.47286764633860295,
          0.4717981710442106,
          0.47277801884474396,
          0.46791729982530417,
          0.4715154431911738,
          0.4604342559216098,
          0.4688410245488554,
          0.45091850069219136,
          0.46563251726481536,
          0.4730725116808799,
          0.47282400512338507,
          0.4715056194811298,
          0.4722871898567537,
          0.467679444300296,
          0.4715678464741149,
          0.4598898619871626,
          0.46891547667441047,
          0.4510262338953012,
          0.46553768342061586,
          0.4726640778144659,
          0.4728387740932734,
          0.4718817267807765,
          0.4723777071869955,
          0.4678919000533489,
          0.47107777398577627,
          0.4601077954975904,
          0.4690200687489899,
          0.45080903750904083,
          0.46542092743028235,
          0.47276495832482274,
          0.4728181807039455,
          0.47160865098822946,
          0.4721094198342171,
          0.4678064180413488,
          0.47081030127939216,
          0.4599691418790556,
          0.4686690844739021,
          0.4507840066071311,
          0.4650064835237764,
          0.4730928088371613,
          0.4725040918097359,
          0.4718529809411277,
          0.4720606708991942,
          0.46755126600438696,
          0.47134093610858674,
          0.4597976637871424,
          0.4687961840909624,
          0.45089341438231006,
          0.46511502892684226,
          0.4727267001326642,
          0.47251961260877967,
          0.4714375124978802,
          0.4726709583585164,
          0.46741820317010635,
          0.4708529381587565,
          0.45967642920107205,
          0.4685930571222849,
          0.450677824503481,
          0.4647925499177015,
          0.47282313844510165,
          0.47244999423806,
          0.47153136716334515,
          0.47232615279621065,
          0.467474093002316,
          0.4709346817609993,
          0.45997278488964355,
          0.468633219869191,
          0.4505139124378206,
          0.4653611650673669,
          0.472629960816542,
          0.47261125685740824,
          0.4715379232688918,
          0.4720331484304188,
          0.4673343121311423,
          0.4708734644908357,
          0.4598679510903683,
          0.4684098666333958,
          0.4507149071567834,
          0.4650316001898254,
          0.4726633512996034,
          0.4725250115091938,
          0.47121161961474745,
          0.47206328928378954,
          0.4672087200393887,
          0.4708470092266243,
          0.45943124599719776,
          0.4687840206548425,
          0.4506197693104278,
          0.46481448988858004,
          0.47260246091357155,
          0.4727744401075462,
          0.4712959916783392,
          0.4719060483223111,
          0.46742542240052587,
          0.4706309827870726,
          0.45936203909879797,
          0.4684366790673858,
          0.45037859924952844,
          0.4648781092796647,
          0.4724798818995856,
          0.47236648814733895,
          0.4715089479270296,
          0.47177737986804974,
          0.46754774920066566,
          0.47087570543966845,
          0.4593135402399023,
          0.468279454800355,
          0.4506712505578291,
          0.46488705276274883,
          0.4726215141009168,
          0.4721844500298372,
          0.47153413322438453,
          0.47185753700498884,
          0.4673034666673414,
          0.47078277067601193,
          0.4595481465868054,
          0.46831906070301416,
          0.450459212947688,
          0.46451450458265325,
          0.4725148904079583,
          0.47217396327521466,
          0.47123375224006236,
          0.47204139433447095,
          0.46706658033103976,
          0.47035942519010604,
          0.45930391923952213,
          0.46831794146175615,
          0.4503811316026061,
          0.46480528836671764,
          0.4724514317741173,
          0.47193317740564994,
          0.4709486741534981,
          0.4720349450239763,
          0.46709645592768356,
          0.4708708121960094,
          0.45958388470676764,
          0.46813012898476725,
          0.4506885347104567,
          0.4644524097301002,
          0.47230883374470173,
          0.4718394153596997,
          0.47105145661453834,
          0.4717878054719743,
          0.46741313122493744,
          0.4707640885681975,
          0.4594626908395733,
          0.4681906356023711,
          0.4502540372296175,
          0.46464808237573574,
          0.47243321267055144,
          0.4721332244987679,
          0.47133835195316837,
          0.47159955312148477,
          0.4671946394986286,
          0.47046694084486596,
          0.45921070354567284,
          0.46809019379818056,
          0.45027405651683117,
          0.4644238324063725,
          0.47227533210920086,
          0.4721409116335246,
          0.4710085289882499,
          0.47167918595026276,
          0.46709113575286154,
          0.47044857073100227,
          0.45911471439156787,
          0.4682686523974436,
          0.4503914730518727,
          0.4646479059228957,
          0.4723109355328852,
          0.4720417094709987,
          0.4711540665473774,
          0.4716678778644205,
          0.4671606922462439,
          0.4704748699778653,
          0.4593998925038332,
          0.4677723525893001,
          0.45060544139697495,
          0.46449582334155176,
          0.4722744312505738,
          0.47183956888516376,
          0.47103173282226596,
          0.47153561656344756,
          0.4672809149260659,
          0.47022608232406615,
          0.4590621429088826,
          0.4679165456556189,
          0.4499366588265474,
          0.464249715097779,
          0.47214153422350036,
          0.47170885701600745,
          0.47129385700755155,
          0.471721756870769,
          0.4668645986001643,
          0.4699894824956925,
          0.4592243594075426,
          0.46762087873263736,
          0.45014410012446493,
          0.4642232102693253,
          0.4722155303448118,
          0.4718314262506142,
          0.4708630300228407,
          0.4716826499950335,
          0.4667770319471151,
          0.4702226803472859,
          0.4593408586158722,
          0.46795106885999577,
          0.45024703771694535,
          0.4644837667941833,
          0.47218179796986426,
          0.4718760237837403,
          0.47095261956527873,
          0.47154964868785904,
          0.4669665925693561,
          0.47016269524378607,
          0.4592752187386702,
          0.467835875256049,
          0.4498514353799952,
          0.46432795543568994,
          0.4722276450975764,
          0.47206968907948227,
          0.4710031162938426,
          0.47135055143052423,
          0.4667821717389186,
          0.47003267114637265,
          0.45877049721901453,
          0.4677956551359967,
          0.44989194590185666,
          0.4643111176120963,
          0.47186338836793895,
          0.47169062071569834,
          0.4708361890999361,
          0.47142440241797356,
          0.4668487361491577,
          0.47026260336187714,
          0.45882269690220523,
          0.4679610269815194,
          0.4501640855845139,
          0.46398014192592885,
          0.47194968939245957,
          0.4718403439572825,
          0.47075039189376955,
          0.4713326700210321,
          0.4665257332782735,
          0.46995304417116,
          0.45943243707458675,
          0.46780302647197275,
          0.4500333825987544,
          0.4641105466836952,
          0.4722274010325838,
          0.4712802710654488,
          0.4706713848815541,
          0.47133790210109694,
          0.4668561127910655,
          0.4699865715156427,
          0.4590944595409093,
          0.46748447085380174,
          0.4498553888764834,
          0.46420630461765294
         ]
        },
        {
         "line": {
          "width": 0
         },
         "marker": {
          "color": "#644"
         },
         "mode": "lines",
         "name": "Konfidenzintervall",
         "showlegend": true,
         "type": "scatter",
         "y": [
          0.4913350688695232,
          0.491347578162747,
          0.49155748625664464,
          0.49175861204470994,
          0.4914931116781193,
          0.49117655299441626,
          0.4910461470031088,
          0.4915656359195961,
          0.49033831056842647,
          0.4904377174009801,
          0.4902370471875468,
          0.49009875899784366,
          0.4903114849050864,
          0.4896864630452936,
          0.48932317623871346,
          0.489600865438887,
          0.4882224497261869,
          0.49029736637489596,
          0.4864391827373865,
          0.4879475324006533,
          0.5123614222675665,
          0.5124315829055509,
          0.5126362254750977,
          0.5124784772359825,
          0.5105039754021672,
          0.5118196285907763,
          0.5076653509303383,
          0.511757731306304,
          0.5042133530260495,
          0.5086545416266559,
          0.5247973122498015,
          0.524592882467042,
          0.523793059590557,
          0.5242694364936823,
          0.5216940517992887,
          0.523688694395854,
          0.5173923228827106,
          0.5226735030312065,
          0.5126155533730387,
          0.5194263971349524,
          0.5307084795037234,
          0.5306642666251952,
          0.5298700376534597,
          0.5303658732703265,
          0.5271630673934256,
          0.5293876329757552,
          0.5220313484381411,
          0.528384733807866,
          0.5160420055395311,
          0.5248027364613111,
          0.5288646170098897,
          0.5290044732119988,
          0.5284732723015082,
          0.5287258749814046,
          0.525262441402734,
          0.5274266446360721,
          0.5195947421322293,
          0.5261391090570138,
          0.5126170652895712,
          0.5224328722867735,
          0.5273293485640796,
          0.527170164823719,
          0.5265720343655723,
          0.5275484472552366,
          0.5235187903131648,
          0.5258431469676743,
          0.5169308411735479,
          0.524231709443682,
          0.5095570928824772,
          0.5207600473400319,
          0.525422366251554,
          0.5256268464536662,
          0.5247662961480122,
          0.525751290324538,
          0.5215051931380593,
          0.5240652975980509,
          0.5147636172456473,
          0.5221939272848937,
          0.5067297798187838,
          0.5185203840895872,
          0.5217464581514903,
          0.5220919984352224,
          0.5209475630304105,
          0.5219433412182983,
          0.5176972455186931,
          0.5204195630324225,
          0.5107358088074385,
          0.5184829610091894,
          0.5021242628733239,
          0.5147155153937646,
          0.5163983560144292,
          0.5170811952559305,
          0.5155287642535998,
          0.5166073633822944,
          0.512139344150434,
          0.5151042945992393,
          0.5048225507746562,
          0.5129145191962167,
          0.4965807492479743,
          0.5096547697141072,
          0.5133560481658737,
          0.5133022262541452,
          0.5120021684213248,
          0.5130616622877602,
          0.5086853759147438,
          0.5115194171522511,
          0.5009873862733459,
          0.5093969504750866,
          0.492962050096657,
          0.5059888819631956,
          0.5102376012945303,
          0.5098852441356364,
          0.5091359665316427,
          0.5097542902234824,
          0.5052804706257459,
          0.5081165282990994,
          0.49753636184721534,
          0.5059523052187559,
          0.4890858623790119,
          0.5025659113655921,
          0.5059994583278087,
          0.50558116813125,
          0.5048209511187902,
          0.5057764583538671,
          0.5014206975792421,
          0.5041792882686558,
          0.49367544399401037,
          0.5020431121006295,
          0.48443058286123025,
          0.49837690023911574,
          0.502815051060236,
          0.5024106451013027,
          0.5017771545413082,
          0.5022518801559992,
          0.4978247263200432,
          0.5008590374799307,
          0.4901309012779691,
          0.4983071543835445,
          0.48117448397686174,
          0.4948691678142047,
          0.5005688160819242,
          0.49996244513558585,
          0.4992225225233947,
          0.5003485517039364,
          0.49544714240745674,
          0.49871368756599005,
          0.4875724503695469,
          0.49606972621103607,
          0.47856437338895524,
          0.4927661992033141,
          0.4979091876068414,
          0.49750248226900173,
          0.49646880752641875,
          0.49749836853055907,
          0.4927327167891558,
          0.49584118472014405,
          0.4853319333734643,
          0.4935081371403312,
          0.47572733121168337,
          0.49026866850631934,
          0.49513327806775426,
          0.4950052368281314,
          0.49387469655629435,
          0.49476694341108945,
          0.49012748111711285,
          0.49347514514899826,
          0.4820204778461441,
          0.49092196288673423,
          0.4729481430186594,
          0.4874242702019169,
          0.49343742557720455,
          0.493375474874468,
          0.4922451949504297,
          0.49296776423282085,
          0.4885016576607945,
          0.49176869872375517,
          0.48037481760238504,
          0.48922466426954225,
          0.4713612921881257,
          0.48553384444878117,
          0.49182152145892466,
          0.49175466011908436,
          0.4909519615091958,
          0.4914693412789632,
          0.48727595377472477,
          0.49005566623089164,
          0.47886061237691774,
          0.48760309585611317,
          0.4700421903986364,
          0.48417707003616267,
          0.49038553783383454,
          0.48982111146771645,
          0.4889750594573899,
          0.48992986415273365,
          0.4852642274395921,
          0.488513201124593,
          0.477369313093148,
          0.48586914759219973,
          0.4678824560699033,
          0.48256157337045236,
          0.48864275393770457,
          0.48839221223030904,
          0.48779510366682205,
          0.4885322848856844,
          0.48399337425207106,
          0.48699309474501035,
          0.4755211095420525,
          0.4843512720713969,
          0.46641445494589956,
          0.4810694120497177,
          0.48771737471288684,
          0.4874927759367886,
          0.4865809234780073,
          0.4876075998053725,
          0.482997191251889,
          0.4858953147671708,
          0.4748971708684577,
          0.4832535690796465,
          0.4655121175466277,
          0.4799779905681365,
          0.48704474225664657,
          0.4866515879196287,
          0.48520388587740915,
          0.48652531326597515,
          0.4818665832241508,
          0.4853930065901131,
          0.47403386054793706,
          0.4823087212936245,
          0.4644313011789412,
          0.47937956667511783,
          0.48554149877281094,
          0.48515965492245317,
          0.4843328937663438,
          0.48524279403192866,
          0.48036926433445737,
          0.48392440408091436,
          0.47272299468309537,
          0.481179512037119,
          0.4631844583325341,
          0.47790696367528135,
          0.48453220847023293,
          0.48472910603631786,
          0.48365163289981417,
          0.48451413415322275,
          0.4798448593211344,
          0.4830958039038508,
          0.47165700011880946,
          0.480811044905563,
          0.46297611671322847,
          0.4768650698642142,
          0.4841805424881992,
          0.4838633326068988,
          0.48268324884620634,
          0.4835355297762322,
          0.4791240671024611,
          0.48229277227006495,
          0.47133138232296035,
          0.47964553387209113,
          0.4621484708403805,
          0.476250774838137,
          0.4832219468349794,
          0.48278708480490895,
          0.48207258474510845,
          0.4830165776803311,
          0.47819335881912467,
          0.4815285137441373,
          0.470427198776614,
          0.4788789275618583,
          0.461087418046211,
          0.4756092580215171,
          0.4826285501548168,
          0.48246858529065295,
          0.48129534108233857,
          0.482107407787942,
          0.4775407677119005,
          0.4805947202981351,
          0.46991596559304105,
          0.4782789550392656,
          0.4601666066454863,
          0.4747522829756123,
          0.48196915478005087,
          0.4818189702667779,
          0.4804737348180267,
          0.4814758239567319,
          0.4768223902734242,
          0.48006321984201455,
          0.4691559921292121,
          0.47764726572171806,
          0.4600699523621976,
          0.4740885138521143,
          0.48128162372547934,
          0.4808524879428116,
          0.4799796140673091,
          0.4810273112842804,
          0.47623679503302757,
          0.47985754629729793,
          0.46861165633541013,
          0.4769058415160412,
          0.45884664845513684,
          0.47392271032505795,
          0.4809833003427409,
          0.48056484841645947,
          0.47940411520263865,
          0.4803902161984541,
          0.4755436824172064,
          0.47897447222859807,
          0.46774492870304,
          0.4765830724781064,
          0.458513776238214,
          0.47339711352870734,
          0.4804531775953052,
          0.48023340022514954,
          0.4789863873556105,
          0.4796159561297705,
          0.4752315300803251,
          0.4784810874673488,
          0.4674080845582331,
          0.47604260003325255,
          0.4581201122662682,
          0.4727774942386063,
          0.4794974637946296,
          0.4797145378370434,
          0.478864564391432,
          0.4791941645507501,
          0.47457775900787846,
          0.47815880424471974,
          0.4668173034006284,
          0.4756419393227971,
          0.4576935106083194,
          0.4721107268932479,
          0.47963476386243775,
          0.4787272257653051,
          0.4782355725333433,
          0.47912682184489364,
          0.4739560835008422,
          0.4775343582169942,
          0.4667219801207997,
          0.47518316143926687,
          0.45709211660832993,
          0.4719289648052013,
          0.478982268114846,
          0.4783366809031302,
          0.4778448285740922,
          0.478667048150322,
          0.47363215308297413,
          0.47711674550603733,
          0.46588737624852083,
          0.4744027915494834,
          0.4570463894657759,
          0.4713996631760775,
          0.478526970353374,
          0.4783552172773898,
          0.4773573130028051,
          0.4782912372707048,
          0.47335166562496156,
          0.47684571910057605,
          0.46602459009094466,
          0.4742298511301666,
          0.4566449446377583,
          0.4711097635086744,
          0.4782081104136057,
          0.47804185653947157,
          0.47689044961456495,
          0.4778903790715283,
          0.4728965130667506,
          0.4765879386459308,
          0.46523816686177816,
          0.4738720657557973,
          0.4563165054805873,
          0.470873508811131,
          0.4780772273025968,
          0.4775757698533746,
          0.4764292123892156,
          0.4772715565912566,
          0.4729296855202324,
          0.47609988597083813,
          0.4651470620661524,
          0.47361505251304464,
          0.4558852731516447,
          0.4706813139515282,
          0.47770780883672764,
          0.4772589204636527,
          0.47615459107325403,
          0.476923584294739,
          0.4725617550236466,
          0.4761491288372685,
          0.464554070218673,
          0.473284926120893,
          0.45552312196686384,
          0.47008800138705314,
          0.4770946067761466,
          0.4771443960161362,
          0.47595950132077763,
          0.47669858274365584,
          0.4722711428467487,
          0.4754039397349723,
          0.4646304002178323,
          0.47293263390580026,
          0.4554086467821819,
          0.46963568104960657,
          0.4772505189709542,
          0.47654175301313384,
          0.47555084648673296,
          0.4767920687455938,
          0.47199973918020105,
          0.47524183114734403,
          0.4640075738728894,
          0.47235639181737554,
          0.4552453678069061,
          0.4693701807591636,
          0.47675859180202496,
          0.4764029378786919,
          0.4753754462057609,
          0.4767984998022774,
          0.471775161775778,
          0.47480676605179534,
          0.46396612936268766,
          0.4723175144142276,
          0.4547173549296218,
          0.4691147787532059,
          0.4764078025511423,
          0.47617045636452027,
          0.4751854474265866,
          0.4762577660615039,
          0.4712381405944552,
          0.4748116422077554,
          0.46357192046871165,
          0.4720194313061679,
          0.4547078142490777,
          0.46891621886470786,
          0.4765768478336789,
          0.4759965634184165,
          0.47461675206155607,
          0.4759494041907953,
          0.4711068908140433,
          0.47450996361496944,
          0.4633626017658589,
          0.47199813121392575,
          0.4545730843702553,
          0.4685524653126831,
          0.4760741642335818,
          0.475861348737573,
          0.4745583405274549,
          0.4757096488339421,
          0.471031003802891,
          0.4742434798839855,
          0.46304432414908087,
          0.4719417388334207,
          0.454448253588855,
          0.4682771520781789,
          0.47574011781408576,
          0.4757436274114172,
          0.474517627950503,
          0.47556513938324024,
          0.4709473369868009,
          0.47400062698857076,
          0.46288214286094764,
          0.4715779333301816,
          0.4540130000986978,
          0.4681865330433209,
          0.4755825558247182,
          0.47552123810014435,
          0.4746811749661734,
          0.47502024681339483,
          0.47042425221985906,
          0.473764490463138,
          0.4625377885725775,
          0.4712264576256609,
          0.4542122333253897,
          0.467681265127425,
          0.475753882569709,
          0.47510084734682706,
          0.4740617815901585,
          0.47478085237817186,
          0.47058493008386737,
          0.47360091964145834,
          0.46273372484072584,
          0.47113401913985775,
          0.4536300222691833,
          0.46752177247159193,
          0.4751074691522844,
          0.47484978355173724,
          0.47404293655089064,
          0.47516339945470243,
          0.47033367807289284,
          0.4733608255389187,
          0.46252766175848753,
          0.47104502427608463,
          0.4535347101965187,
          0.46751813760979205,
          0.4751915551375531,
          0.4750082627879004,
          0.47391264989219195,
          0.47487539579940613,
          0.4699559344452057,
          0.4733680812703255,
          0.46233940692975123,
          0.47072904235599894,
          0.4530839932734522,
          0.46731933930856967,
          0.475175911817997,
          0.4746038280064016,
          0.47355500144507134,
          0.47443609057745567,
          0.4699765353406652,
          0.47342312387884317,
          0.462091277231405,
          0.47060050462434183,
          0.4534213611912788,
          0.4673271715498425,
          0.47500636624624176,
          0.474778321957161,
          0.4734171529590831,
          0.47424713914089234,
          0.4697998211057266,
          0.472980110120166,
          0.46208015498618366,
          0.470969583614012,
          0.45305176743497505,
          0.46733217746088196,
          0.4746499149810101,
          0.4746282834209695,
          0.47355643833099587,
          0.4742783527750377,
          0.46978630291565987,
          0.4728502013794181,
          0.461980672419764,
          0.4705206187018542,
          0.45295794830675795,
          0.46685369213501776,
          0.4745058935718667,
          0.4744895181540263,
          0.4734296309102082,
          0.4739041666608227,
          0.4694402479039464,
          0.4729270487106586,
          0.46179852692569096,
          0.4701365716967582,
          0.45293370985442005,
          0.4668275090174566,
          0.47458145004211266,
          0.47411682027442437,
          0.4733150432099905,
          0.4740526401714087,
          0.4694078537407881,
          0.47261858436995186,
          0.46151838487576236,
          0.4699949305458838,
          0.4525993174972084,
          0.4664902134376063,
          0.47416875361371175,
          0.4740699598189148,
          0.4730389267646649,
          0.4741436058419893,
          0.4690942387680413,
          0.4723793436097185,
          0.46150717901295873,
          0.4702297638890584,
          0.45266442723155825,
          0.4666956628508543,
          0.47414413481997764,
          0.47379951665332304,
          0.472978009164925,
          0.4735345087291453,
          0.46923312913743664,
          0.4725453243424372,
          0.46150043950984065,
          0.469911172198763,
          0.45226651913901783,
          0.46660715037495165,
          0.4742112910820824,
          0.47386598392188717,
          0.4725157811135947,
          0.4738678411765068,
          0.46906882592980514,
          0.47226881650979136,
          0.4613677291437177,
          0.46983317846709455,
          0.4522133411424282,
          0.46655024255323324,
          0.47411987438029196,
          0.4735734642203087,
          0.47268851759139596,
          0.4735981260202388,
          0.4690558435971371,
          0.47234938287276035,
          0.46095911385627747,
          0.46987322717046104,
          0.45238880012270316,
          0.4665145100364175,
          0.4739765009235169,
          0.4738068555108367,
          0.47268957137721446,
          0.4734586811995252,
          0.4688961401964814,
          0.4721299856178391,
          0.46094062717032125,
          0.4697598187714572,
          0.4524553655264012,
          0.4663040835946636,
          0.4735123396396144,
          0.47357559547545774,
          0.4725464110602296,
          0.4732059843914732,
          0.468655568553012,
          0.4720397271992022,
          0.4610020661581975,
          0.46957817841836375,
          0.45221605809848675,
          0.4661359067949392,
          0.4737622160200775,
          0.4734550270222187,
          0.4725962310052701,
          0.4733337821669306,
          0.4685785526391206,
          0.47191122554347603,
          0.4609323266027844,
          0.46975838666370073,
          0.45202150561900356,
          0.4661813115181838,
          0.4736613132475008,
          0.47355391292808674,
          0.47273775027326015,
          0.4732684774844983,
          0.4688124033368065,
          0.4721044179868597,
          0.46109195427305055,
          0.4693678387313009,
          0.45220672880577406,
          0.466220509611522,
          0.4733761343250279,
          0.47340929095559775,
          0.47244224169519866,
          0.47327735330303206,
          0.46849048406659716,
          0.4714655074593107,
          0.46109476814960426,
          0.469504018319253,
          0.4515551937576477,
          0.4661512759475979,
          0.47326155624397875,
          0.4732147395107709,
          0.4721991992324749,
          0.4731183704623693,
          0.46839752417090835,
          0.47186135607371793,
          0.46106256314387833,
          0.4692961722022862,
          0.4515999929309878,
          0.4662484288778127,
          0.47349023570965476,
          0.47314203519531206,
          0.47200043956264004,
          0.47260690948382755,
          0.46811260555059375,
          0.47201373661447577,
          0.46053136933056577,
          0.46930609848888216,
          0.4517686490102692,
          0.46616032613999353,
          0.47310863916773516,
          0.47314027682714627,
          0.47230801573392345,
          0.47277385901966074,
          0.46845872304717384,
          0.4716301957191028,
          0.4606793168246763,
          0.46942489156765566,
          0.4515189572551105,
          0.4658219237695119,
          0.4731353056586838,
          0.4731806211657232,
          0.4719753737002917,
          0.47249515757648103,
          0.46820273113519995,
          0.4712241780817891,
          0.4605296770215405,
          0.46909191942562883,
          0.4515509452955244,
          0.46551977414503204,
          0.4735141587328458,
          0.4727941424731811,
          0.47226035492667323,
          0.4725146786145468,
          0.46802643428090984,
          0.4717380530059727,
          0.4602953784896326,
          0.4692448351666356,
          0.45164068634287874,
          0.4655774219827249,
          0.4731466176398313,
          0.472855346547227,
          0.4718634409369873,
          0.4730661667330539,
          0.4678533953393059,
          0.4712624711319182,
          0.4602026499359623,
          0.46895701184155847,
          0.4513908196050717,
          0.46529305477210436,
          0.4732795326359768,
          0.4728366503106616,
          0.47192582295169855,
          0.47272394148283536,
          0.4679503141156742,
          0.4714013599712018,
          0.4605736714723393,
          0.46907233280414207,
          0.4511356981033968,
          0.46581584073752497,
          0.47310372313109017,
          0.47295619625790675,
          0.47191886068746297,
          0.4723766269745126,
          0.46778653990150004,
          0.4713568217354258,
          0.46050397263518594,
          0.4688834017196264,
          0.4514520376924263,
          0.46562721230736726,
          0.4730948711326414,
          0.47283271129283994,
          0.4715835179203961,
          0.47246746106520693,
          0.46769690742083514,
          0.4713064603560207,
          0.45998767436613186,
          0.46933109309074045,
          0.4513074481002304,
          0.4653665659631072,
          0.47296301742099883,
          0.47314743494566164,
          0.4717044976174779,
          0.4722901658511624,
          0.46794535508355106,
          0.4710469554523692,
          0.45989175039734514,
          0.46880458979762896,
          0.45095879638308906,
          0.4653403758801644,
          0.47285925602103057,
          0.47283114324558895,
          0.47185014982675705,
          0.47214203921406855,
          0.4680194858024002,
          0.4712969165975801,
          0.4598835424714934,
          0.4687640964634408,
          0.45138204578249314,
          0.46536132237368333,
          0.4730521575495622,
          0.4725102492406746,
          0.4719289447320448,
          0.47221670659375653,
          0.46771525008522413,
          0.4711726491675149,
          0.4601293538707304,
          0.46881414436713087,
          0.4512038320390129,
          0.4649910170158674,
          0.47291649383856366,
          0.47253032595118416,
          0.4715866190109364,
          0.47244984907964793,
          0.46762473295258855,
          0.4707392758654613,
          0.45991517560067885,
          0.4687453361254689,
          0.45104879803093745,
          0.465263715370271,
          0.4727814206998577,
          0.47226828048324687,
          0.47132164936508325,
          0.47237812036170684,
          0.46750693689997214,
          0.47115403425801516,
          0.4601229923838294,
          0.46864102316981293,
          0.45132651216526554,
          0.46503569593471666,
          0.47274563331007013,
          0.47215162475534633,
          0.47150061787859743,
          0.47208227652901186,
          0.46795271097736446,
          0.4711720875477596,
          0.4600971799333363,
          0.4685917766250331,
          0.45090616893046787,
          0.4651758082172737,
          0.4728031142611647,
          0.4724703986640332,
          0.4717791504844377,
          0.4720348327558605,
          0.4675944691260888,
          0.4709057044176616,
          0.4597672261133061,
          0.46852738579521064,
          0.45096307460701196,
          0.4649279651385445,
          0.472702644933489,
          0.47256836391107987,
          0.4713816993579381,
          0.4721044519235862,
          0.4676768948494498,
          0.4709168397171344,
          0.45979992290018745,
          0.468764628834296,
          0.45113190345111437,
          0.4651010718466954,
          0.47267532179021815,
          0.47236165075284264,
          0.47157782131325193,
          0.4719728218810964,
          0.46762570749802806,
          0.47084860391958283,
          0.45988686040827653,
          0.4682860757466551,
          0.4512825292345046,
          0.4649510701344136,
          0.47263669078460796,
          0.4722086449873257,
          0.47137938438873345,
          0.4719495631854347,
          0.46781892809716774,
          0.47065559358572623,
          0.4597342062955052,
          0.46838666368950926,
          0.4506801702329132,
          0.4648184704331295,
          0.4724516589433778,
          0.4720496229688961,
          0.47170911702217166,
          0.47214513661388563,
          0.4673887894422622,
          0.4704177323338541,
          0.459929857278451,
          0.4681045265631445,
          0.4508787910671005,
          0.46468154713694526,
          0.4726081774768721,
          0.4721856854921071,
          0.4712243377663541,
          0.4720404309296243,
          0.4671586148231257,
          0.47067057796704165,
          0.45995212004844477,
          0.46846465801357234,
          0.4509088380758062,
          0.4649227451128583,
          0.4724670532902415,
          0.472233661813132,
          0.47135823752530126,
          0.47195081014997864,
          0.46739334746665606,
          0.4705425164785399,
          0.4599261477355142,
          0.4683837524152893,
          0.4504902380214773,
          0.46483634034667193,
          0.47261156117584946,
          0.4724762392756144,
          0.4713935107767597,
          0.4716448957618749,
          0.4671419253059245,
          0.47053016664829417,
          0.45943511717466956,
          0.4682871023381233,
          0.4507102309266406,
          0.46478482457475695,
          0.472253388109142,
          0.47200302346955103,
          0.4711778458924384,
          0.4717936310163316,
          0.46734825320798146,
          0.4706296575127724,
          0.45947429987753363,
          0.4683986578972933,
          0.4508155634113074,
          0.46448301651272483,
          0.4722893963564685,
          0.47223420030204233,
          0.471163276294083,
          0.47171896181532297,
          0.4670795229771817,
          0.47032850287142014,
          0.4600301995776198,
          0.4682626597276902,
          0.45068670504081265,
          0.46457965163576254,
          0.47268645165408996,
          0.4716541358158139,
          0.4711306319205236,
          0.4718568749557397,
          0.4673544976200137,
          0.47034602245908624,
          0.45969509340955456,
          0.4680154595921601,
          0.4505084973887156,
          0.46465684272391244
         ]
        },
        {
         "fill": "tonexty",
         "fillcolor": "rgba(130, 68, 68, 0.5)",
         "line": {
          "width": 0
         },
         "marker": {
          "color": "#448"
         },
         "mode": "lines",
         "name": "Konfidenzintervall",
         "showlegend": true,
         "type": "scatter",
         "y": [
          0.48827092090618424,
          0.4879050205531662,
          0.4892737037547773,
          0.48912187922204964,
          0.48877301896670294,
          0.4887087026947699,
          0.48872292590652955,
          0.4893548127714039,
          0.4873944896779012,
          0.4886054816188812,
          0.4871955407870886,
          0.4867443843398553,
          0.4878187418177536,
          0.4876385115983958,
          0.4866798866787032,
          0.4872657911255452,
          0.48591158940923984,
          0.4880752692700856,
          0.483675563097391,
          0.48626926041546675,
          0.5097540939409066,
          0.509543353565845,
          0.5103100433280529,
          0.5100473341161595,
          0.5082383248002311,
          0.5095068365187441,
          0.5055879427409881,
          0.5095694314113139,
          0.5019640718114649,
          0.5069425579304492,
          0.5223730265768134,
          0.5224513921823613,
          0.522226450162207,
          0.5222210741359871,
          0.5197958678882926,
          0.5215850502754272,
          0.5152877071055428,
          0.5209122135457792,
          0.5104011007849664,
          0.5178609422961364,
          0.5288707914960014,
          0.5287688140592107,
          0.5284193741272483,
          0.528607204005,
          0.5254846674703739,
          0.5275986518837985,
          0.5202310397413024,
          0.5268411471925005,
          0.5141622530801163,
          0.5232995323557866,
          0.5271660682441018,
          0.5274425998411606,
          0.5269071064510082,
          0.5271688041515943,
          0.5237771980765626,
          0.5258327787866645,
          0.517796732177245,
          0.5244345270433708,
          0.5109099517303568,
          0.5211879651232971,
          0.5257132546646509,
          0.525878298482046,
          0.5251289095342867,
          0.5262507386624237,
          0.5220192322211765,
          0.5240622454126924,
          0.515606602363896,
          0.5227955523793791,
          0.5079464951491316,
          0.5195717447904339,
          0.5240919842668881,
          0.5245797141351713,
          0.5235512299367562,
          0.524399552375292,
          0.5199453924678382,
          0.5225456234592356,
          0.5133582147032221,
          0.5209223892724502,
          0.5051145931179641,
          0.517515086071287,
          0.5205831389087456,
          0.5209504475711813,
          0.5195944015841097,
          0.5208607811914798,
          0.5165743567070612,
          0.519019847196735,
          0.5093325114387888,
          0.5172488691849426,
          0.500722492042229,
          0.5136627271670522,
          0.5153976579255932,
          0.5159504375300971,
          0.51436099681744,
          0.5154829201550709,
          0.5109853380036962,
          0.5139786550597994,
          0.5034682853857588,
          0.5117397945678145,
          0.49494541138870124,
          0.5087883171670569,
          0.512235099606049,
          0.512225474609216,
          0.5109148336645014,
          0.5121914642349583,
          0.5076986039429474,
          0.5104627562891887,
          0.49969960441303096,
          0.5083068810611608,
          0.4913693419699912,
          0.5051932567868588,
          0.509194225978303,
          0.509117117603152,
          0.5081898323472244,
          0.5086767353199226,
          0.5042342509258431,
          0.5068968956975637,
          0.49631072435378026,
          0.505177040408919,
          0.4876037436704305,
          0.5016792991881328,
          0.5050513358307547,
          0.5047486951124219,
          0.503989186792642,
          0.5047268603999819,
          0.5002683041077645,
          0.5032555086298631,
          0.49235174965869016,
          0.5008025232783955,
          0.48317471149926344,
          0.4975417209772526,
          0.5019676887929818,
          0.5013877456879007,
          0.5008281486792175,
          0.5012953793901562,
          0.496930815935628,
          0.4999128832617479,
          0.4891326734267588,
          0.49747468181891236,
          0.4799367711189499,
          0.49400607584650075,
          0.4997278195000357,
          0.49922343629432997,
          0.49853025610841484,
          0.49941047594297167,
          0.4943780746270852,
          0.4978423269168291,
          0.48666888450370605,
          0.49499124731831967,
          0.4772968382335549,
          0.4917908945299535,
          0.4969774164256003,
          0.4967556014810488,
          0.49565598381840836,
          0.49664340555497344,
          0.491855230199519,
          0.49495988126222334,
          0.4840990763479492,
          0.49260072122206683,
          0.4744374945459812,
          0.48945514102851917,
          0.4943889260859034,
          0.4941958250752056,
          0.49311878515471863,
          0.4941055736604087,
          0.4890941191133224,
          0.4926664202468284,
          0.4808045469596761,
          0.4897838095672766,
          0.4715382062058394,
          0.4864077787031801,
          0.49258583874983347,
          0.49241964044399367,
          0.49143762253940154,
          0.4922820841608452,
          0.4873541491940267,
          0.4908968545864898,
          0.47917921675421143,
          0.48832049406551625,
          0.47005421664915525,
          0.484608618064395,
          0.49097413387564015,
          0.49105938513915853,
          0.4901214273993972,
          0.49058076061003436,
          0.48620644811702796,
          0.48901149208425937,
          0.477720339756977,
          0.48672219078456447,
          0.46872273909036777,
          0.48323978790902283,
          0.48957700037460117,
          0.48892608300290075,
          0.4883370814251427,
          0.4889507371147991,
          0.4841871225951646,
          0.4876180003561053,
          0.47615840555334665,
          0.4848591025348677,
          0.46667934238144737,
          0.4816008672194412,
          0.48796746623533455,
          0.487757033935279,
          0.48684778271410606,
          0.487787964247781,
          0.48287189126922964,
          0.4863055693071335,
          0.47442354056389335,
          0.48348120237275144,
          0.46503431317077565,
          0.4800758623490921,
          0.4871994640755551,
          0.4866890175389393,
          0.4858915518712663,
          0.48672707375241353,
          0.48199058389189975,
          0.48495379627931695,
          0.47382467463575223,
          0.48235978995251977,
          0.46427643795951534,
          0.4790907422252505,
          0.48632456044963684,
          0.48586001553321756,
          0.484349018906436,
          0.4858746284015577,
          0.48095376966452236,
          0.4843289234239103,
          0.4726555699945685,
          0.48136420964147214,
          0.46323054561889715,
          0.4783291553330232,
          0.4848275929775381,
          0.4844767003611955,
          0.48358981005723967,
          0.4844069603815038,
          0.47934325863262783,
          0.4831394153347279,
          0.4713784377104608,
          0.48028359945914717,
          0.46197722198738145,
          0.47697722419616834,
          0.48374898415061063,
          0.48409531336514783,
          0.4828460347249831,
          0.4838217450469262,
          0.47882222249511563,
          0.4821204436065551,
          0.47053453800350803,
          0.47988915983682295,
          0.4614224314817851,
          0.4757917973628464,
          0.48338108416389947,
          0.483055794971967,
          0.4818518637089429,
          0.48269652862103546,
          0.47826659471203464,
          0.48137323310815505,
          0.47001432704904245,
          0.47875237895134953,
          0.46078155230496337,
          0.47522347256289815,
          0.482530465991651,
          0.4819743894678161,
          0.48120805857755894,
          0.4819900033663077,
          0.4772022736315427,
          0.48054011721713463,
          0.4692681822380772,
          0.4779622599765004,
          0.45969472031474423,
          0.47472503069409033,
          0.4818216425693998,
          0.48150777643760934,
          0.4804130617036157,
          0.48147985624148076,
          0.47660704926330016,
          0.4796104193870675,
          0.4685343583636219,
          0.4773801528950142,
          0.4588904819378146,
          0.4738730945450052,
          0.4813204052345327,
          0.4808624050145811,
          0.47977680363721165,
          0.4807959731813281,
          0.47592867229419533,
          0.4793034079199688,
          0.46761518864179363,
          0.4767308699220321,
          0.45867426303066416,
          0.4731559063961766,
          0.48055730544015474,
          0.48010993478923675,
          0.4791865701948019,
          0.4802937222538522,
          0.47513942428348127,
          0.4790326157212258,
          0.4674732635137765,
          0.4760283051559976,
          0.45769950752999006,
          0.4729147592389503,
          0.480261877094778,
          0.4797594592350692,
          0.4786157811236957,
          0.4796653057439927,
          0.47452524495257836,
          0.47815431432975414,
          0.4666166835979864,
          0.47570317205452617,
          0.4572738952738815,
          0.4723821128338262,
          0.47961872425850155,
          0.47963407093075966,
          0.4782270895117571,
          0.4788057555577666,
          0.47407139918206936,
          0.4777763894369213,
          0.4658921944314158,
          0.47519389403997453,
          0.4565826139234735,
          0.4718591336482458,
          0.4787661868418462,
          0.4790592746039592,
          0.4779448494925149,
          0.47836195074981963,
          0.4736012584047026,
          0.4772058587979113,
          0.4657074226560211,
          0.47477885357002636,
          0.456538741449516,
          0.47114076683380773,
          0.4789237461144047,
          0.4780848939914906,
          0.4774835531162865,
          0.4782077213250304,
          0.47300886389880237,
          0.47674918189512094,
          0.46567940407365616,
          0.474325330236796,
          0.45590047682056634,
          0.47091937599161127,
          0.47831152777679975,
          0.4776663173390011,
          0.4769552785097036,
          0.47788700310953847,
          0.47281270401866826,
          0.4763393293227337,
          0.4647447307899272,
          0.4735574318220951,
          0.45569341387809226,
          0.47023876117999786,
          0.47789235291990884,
          0.47767539579443813,
          0.4765014744994725,
          0.4775677115584194,
          0.4724851156046779,
          0.47618189654664966,
          0.46474879485821774,
          0.4731378864805119,
          0.4552777556717559,
          0.47014285418436375,
          0.477494303974267,
          0.4773584640738629,
          0.476146735496802,
          0.47707550560322043,
          0.4719786166385792,
          0.47566423224238913,
          0.46405845914347815,
          0.47295902043753235,
          0.45492804902897993,
          0.46998904942501907,
          0.47734635421463195,
          0.47678626647223843,
          0.47565505621274856,
          0.4765158269858604,
          0.4720493640679604,
          0.47514803345094286,
          0.46387494467736445,
          0.47261112689893453,
          0.45459000294841506,
          0.46952888098575535,
          0.47691187974068844,
          0.47661215374841204,
          0.4753531091780517,
          0.47621661917552105,
          0.471387413588507,
          0.4750464043605515,
          0.46367352007837925,
          0.47230496159841984,
          0.45411194450144843,
          0.4690279240109357,
          0.47636570194303424,
          0.4763711744838141,
          0.4752025152680465,
          0.47595432845106145,
          0.4712844793609094,
          0.4743859259439225,
          0.4634318555885356,
          0.47201478727920393,
          0.45397225569182925,
          0.46874352056899576,
          0.4765567407248133,
          0.4757337956779222,
          0.4747261599313245,
          0.4758670626879145,
          0.4709716051051311,
          0.4745871664907991,
          0.4629936247782017,
          0.47151599705976477,
          0.45380778187322773,
          0.4683980041753276,
          0.47591711660803615,
          0.47561557165028223,
          0.4745102725024445,
          0.47596110510484957,
          0.47074390944146366,
          0.4739703502538885,
          0.4628001149505754,
          0.4714861862693657,
          0.4532595436925068,
          0.4680139701058959,
          0.4754862549805305,
          0.4755744601449925,
          0.47433893503358154,
          0.4754382378323276,
          0.4704658007050189,
          0.4740467409187292,
          0.4624592572500633,
          0.4709790057731142,
          0.4531364473207107,
          0.46792587289331206,
          0.4760339560911298,
          0.4751967085580024,
          0.4737747984105737,
          0.4752131405386671,
          0.47014568638324145,
          0.47354902978540125,
          0.46214046382449475,
          0.47098826290108997,
          0.4531554239242906,
          0.46749938039034694,
          0.4754784915397285,
          0.4750153407131972,
          0.47381953563414697,
          0.4750613439530002,
          0.4698695418703328,
          0.47342074970003634,
          0.46190825770161165,
          0.4709171181991091,
          0.4531327233815122,
          0.46742383972878465,
          0.47492876912978754,
          0.4751141752559983,
          0.47379491133339036,
          0.4747020637978105,
          0.4698133059663294,
          0.47317864503446466,
          0.4617319285014527,
          0.47056045233526733,
          0.4523380931371429,
          0.4671773605111056,
          0.4747657748480346,
          0.47480549850101106,
          0.47363350152861766,
          0.47422401919462265,
          0.4693811282244047,
          0.4729830587836176,
          0.4612751270857079,
          0.4703603949367499,
          0.4528265379310999,
          0.46671729489912783,
          0.4747567178470197,
          0.4743678845421248,
          0.47335253718376075,
          0.4740437853882286,
          0.46958085861116716,
          0.47262807685534625,
          0.4614859868646146,
          0.4701950873985634,
          0.45221016034584643,
          0.46660841030706474,
          0.4743461457366568,
          0.4742106677127902,
          0.47321019998711517,
          0.4742438101892599,
          0.46907100290858905,
          0.4726725870078621,
          0.4613706465885254,
          0.46997028099592,
          0.4521837923727515,
          0.46644335526255226,
          0.4744012139957961,
          0.4740886276817472,
          0.47324064748601313,
          0.4740219808199077,
          0.46907148582447716,
          0.47260385730026555,
          0.4612006807591709,
          0.4698750280524833,
          0.4518402566982524,
          0.46636950021648277,
          0.474382964558398,
          0.4737702690824018,
          0.4727252353246162,
          0.4738325840594973,
          0.46893797574972085,
          0.47244244386342554,
          0.4609499004158194,
          0.4696384725587764,
          0.4520375399467756,
          0.4663546533400199,
          0.4741854315383173,
          0.47409801224756115,
          0.4726758225107856,
          0.47363087983765795,
          0.4689512556016353,
          0.47208501466485525,
          0.46076373022099043,
          0.4698844734315195,
          0.4516462380965381,
          0.4663782589557167,
          0.47376489171939756,
          0.4739132519844459,
          0.47296100160790316,
          0.4734722549849577,
          0.46885221725418885,
          0.4720687769740218,
          0.46065159858216315,
          0.4697067642401102,
          0.4517073531970036,
          0.4659271498097783,
          0.4736470242363451,
          0.47370354355933075,
          0.47273577788094756,
          0.47314819764601235,
          0.4684446930320834,
          0.47206104226160794,
          0.46071056913214864,
          0.4694089150352619,
          0.4516066834591319,
          0.4658897642679083,
          0.4738116791174008,
          0.4733111837534466,
          0.4724307876271354,
          0.47304815314319537,
          0.4682478056955397,
          0.47178669108972393,
          0.4605206172740455,
          0.46914092644958305,
          0.4511269133191662,
          0.46556920241192856,
          0.473395341116755,
          0.47335360740023574,
          0.472327773242129,
          0.4734367133667469,
          0.4682267813284681,
          0.47158339859118853,
          0.46043379262983414,
          0.4691262871924938,
          0.45152054748374143,
          0.4655723027225518,
          0.47337825466924843,
          0.47293258571382907,
          0.4721207206272246,
          0.47283970303503425,
          0.4682150879667205,
          0.47171540125217365,
          0.46042810736349704,
          0.469104936455906,
          0.45078009270328245,
          0.46580540824709565,
          0.4736114789030603,
          0.47316769665098013,
          0.4717383022945282,
          0.4731631406095851,
          0.4679963558833873,
          0.4714423343829396,
          0.4600402937633178,
          0.4689367431013816,
          0.4509248848104725,
          0.4653731039778544,
          0.47347287136183475,
          0.4728287127515813,
          0.4718269998215935,
          0.472832872421509,
          0.46802690149455445,
          0.47143383821794677,
          0.4598550684212706,
          0.4689557172634596,
          0.4508994358192953,
          0.46542627912017137,
          0.4730411751023334,
          0.47309622341222834,
          0.4717760838717755,
          0.4726808714525262,
          0.4676422487920415,
          0.47132873109902235,
          0.4597445671725914,
          0.46902965767111116,
          0.45088392704001623,
          0.4652591427717192,
          0.4728075872020036,
          0.47279963556221843,
          0.4715201360891927,
          0.47227502958255474,
          0.46770481407849024,
          0.4711797976511688,
          0.45991714814882767,
          0.4686994005858867,
          0.45084920193453093,
          0.4653053714501403,
          0.4729473497392699,
          0.4725209928616078,
          0.4718235812938775,
          0.47238733209669065,
          0.46768602143721094,
          0.4712315231656878,
          0.45984280907752795,
          0.46882528805389734,
          0.45051850578387087,
          0.46506854018708715,
          0.4728705893313385,
          0.4727822741189707,
          0.4718606240792078,
          0.472422175112841,
          0.4678700508909365,
          0.47123209627951385,
          0.45983482130029135,
          0.46854109209801337,
          0.4509646015841604,
          0.46511841762208134,
          0.47268050084564783,
          0.47261333914479803,
          0.4718224268862833,
          0.4724077852071326,
          0.4674414895321268,
          0.4708873182605726,
          0.45989308875956736,
          0.4684292571856045,
          0.45023120090060637,
          0.4650447661470449,
          0.4724742706219149,
          0.472520553166435,
          0.47139714285594636,
          0.4724376672271186,
          0.4674370754797,
          0.4711695303086296,
          0.45980594869934127,
          0.4683858768954246,
          0.4502370084533949,
          0.465016605651818,
          0.472654787652105,
          0.4725059750514581,
          0.47101079939961954,
          0.4719674702296799,
          0.46724628304999827,
          0.4711219563337541,
          0.4592483546437594,
          0.4685248548599388,
          0.45028381878033324,
          0.4649150407012382,
          0.47221951646119664,
          0.47253727135940055,
          0.47145543782762955,
          0.4719815553543303,
          0.467325077059524,
          0.47052535225244974,
          0.4595362741705045,
          0.4686152459303241,
          0.4500991177629712,
          0.4650199310910528,
          0.4723946109909617,
          0.4724557402421678,
          0.47124192827616723,
          0.4717236820919532,
          0.4674101049474977,
          0.4703964244769952,
          0.45940860673657063,
          0.46824624952217536,
          0.45001706791873775,
          0.4644931929025207,
          0.47267145894147683,
          0.47221404114629073,
          0.4714456069555822,
          0.47160666318384153,
          0.46707609772786407,
          0.47094381921120076,
          0.45929994908465216,
          0.4683475330152892,
          0.4501461424217414,
          0.4646526358709596,
          0.47230678262549713,
          0.47218387867033235,
          0.4710115840587731,
          0.4722757499839789,
          0.4669830110009068,
          0.4704434051855948,
          0.45915020846618176,
          0.4682291024030113,
          0.44996482940189025,
          0.4642920450632987,
          0.47236674425422653,
          0.4720633381654584,
          0.47113691137499175,
          0.47192836410958594,
          0.4669978718889578,
          0.47046800355079677,
          0.4593718983069478,
          0.4681941069342399,
          0.4498921267722443,
          0.46490648939720886,
          0.47215619850199386,
          0.4722663174569097,
          0.4711569858503207,
          0.47168966988632505,
          0.46688208436078454,
          0.47039010724624564,
          0.4592319295455507,
          0.4679363315471652,
          0.4499777766211405,
          0.4644359880722836,
          0.4722318314665654,
          0.47221731172554765,
          0.4708397213090988,
          0.47165911750237216,
          0.4667205326579422,
          0.47038755809722793,
          0.45887481762826365,
          0.4682369482189445,
          0.4499320905206252,
          0.46426241381405287,
          0.4722419044061443,
          0.4724014452694308,
          0.4708874857392005,
          0.4715219307934598,
          0.4669054897175007,
          0.470215010121776,
          0.4588323278002508,
          0.4680687683371426,
          0.44979840211596783,
          0.464415842679165,
          0.47210050777814067,
          0.47190183304908895,
          0.4711677460273021,
          0.4714127205220309,
          0.4670760125989311,
          0.4704544942817568,
          0.4587435380083112,
          0.46779481313726917,
          0.44996045533316503,
          0.46441278315181433,
          0.4721908706522714,
          0.47185865081899986,
          0.4711393217167243,
          0.47149836741622114,
          0.4668916832494587,
          0.47039289218450897,
          0.45896693930288035,
          0.46782397703889744,
          0.4497145938563631,
          0.4640379921494391,
          0.47211328697735294,
          0.47181760059924516,
          0.4708808854691883,
          0.471632939589294,
          0.46650842770949097,
          0.46997957451475075,
          0.4586926628783654,
          0.46789054679804337,
          0.4497134651742748,
          0.4643468613631643,
          0.4721214428483769,
          0.471598074328053,
          0.470575698941913,
          0.47169176968624577,
          0.466685974955395,
          0.47058759013400364,
          0.45904477702970586,
          0.46761923479972156,
          0.4500505572556479,
          0.46386912352548376,
          0.4718720341793333,
          0.47152720596405306,
          0.47060229535047926,
          0.47149333441493674,
          0.4668735514725104,
          0.47035608958863545,
          0.4588282017458103,
          0.46778949457970914,
          0.4496019055287671,
          0.46412035653419775,
          0.47206331107993815,
          0.4717960503335026,
          0.47089755342189904,
          0.47116427348710904,
          0.4667948098711684,
          0.4700281772720703,
          0.45865418097803956,
          0.4676530018011505,
          0.4495850384266504,
          0.46391969967420055,
          0.4718480192849127,
          0.47171345935596937,
          0.4706353586185617,
          0.47125391997693933,
          0.4665053766562733,
          0.46998030174487015,
          0.4584295058829483,
          0.4677726759605912,
          0.44965104265263106,
          0.46419473999909594,
          0.4719465492755523,
          0.4717217681891548,
          0.4707303117815029,
          0.4713629338477446,
          0.46669567699445974,
          0.4701011360361478,
          0.4589129245993898,
          0.4672586294319451,
          0.44992835355944527,
          0.4640405765486899,
          0.4719121717165396,
          0.47147049278300185,
          0.47068408125579847,
          0.47112166994146043,
          0.466742901754964,
          0.4697965710624061,
          0.45839007952225996,
          0.46744642762172856,
          0.44919314742018157,
          0.4636809597624285,
          0.4718314095036229,
          0.47136809106311883,
          0.47087859699293144,
          0.4712983771276524,
          0.46634040775806646,
          0.4695612326575309,
          0.4585188615366342,
          0.4671372309021302,
          0.44940940918182937,
          0.4637648734017053,
          0.47182288321275145,
          0.4714771670091213,
          0.4705017222793273,
          0.47132486906044274,
          0.46639544907110453,
          0.4697747827275302,
          0.45872959718329964,
          0.4674374797064192,
          0.44958523735808453,
          0.4640447884755083,
          0.471896542649487,
          0.47151838575434857,
          0.4705470016052562,
          0.47114848722573943,
          0.4665398376720561,
          0.46978287400903224,
          0.45862428974182623,
          0.46728799809680877,
          0.44921263273851314,
          0.46381957052470796,
          0.4718437290193034,
          0.47166313888335015,
          0.4706127218109255,
          0.47105620709917356,
          0.4664224181719127,
          0.46953517564445113,
          0.4581058772633595,
          0.46730420793387006,
          0.44907366087707273,
          0.4638374106494357,
          0.4714733886267359,
          0.47137821796184565,
          0.47049453230743377,
          0.47105517381961554,
          0.4663492190903339,
          0.46989554921098187,
          0.4581710939268768,
          0.46752339606574556,
          0.44951260775772034,
          0.46347726733913286,
          0.47160998242845065,
          0.4714464876125227,
          0.4703375074934561,
          0.4709463782267412,
          0.46597194357936533,
          0.4695775854708999,
          0.4588346745715537,
          0.4673433932162553,
          0.4493800601566962,
          0.4636414417316279,
          0.4717683504110777,
          0.4709064063150837,
          0.47021213784258453,
          0.4708189292464542,
          0.4663577279621173,
          0.4696271205721992,
          0.4584938256722641,
          0.46695348211544335,
          0.4492022803642512,
          0.46375576651139344
         ]
        }
       ],
       "layout": {
        "hovermode": "x",
        "template": {
         "data": {
          "bar": [
           {
            "error_x": {
             "color": "#2a3f5f"
            },
            "error_y": {
             "color": "#2a3f5f"
            },
            "marker": {
             "line": {
              "color": "#E5ECF6",
              "width": 0.5
             },
             "pattern": {
              "fillmode": "overlay",
              "size": 10,
              "solidity": 0.2
             }
            },
            "type": "bar"
           }
          ],
          "barpolar": [
           {
            "marker": {
             "line": {
              "color": "#E5ECF6",
              "width": 0.5
             },
             "pattern": {
              "fillmode": "overlay",
              "size": 10,
              "solidity": 0.2
             }
            },
            "type": "barpolar"
           }
          ],
          "carpet": [
           {
            "aaxis": {
             "endlinecolor": "#2a3f5f",
             "gridcolor": "white",
             "linecolor": "white",
             "minorgridcolor": "white",
             "startlinecolor": "#2a3f5f"
            },
            "baxis": {
             "endlinecolor": "#2a3f5f",
             "gridcolor": "white",
             "linecolor": "white",
             "minorgridcolor": "white",
             "startlinecolor": "#2a3f5f"
            },
            "type": "carpet"
           }
          ],
          "choropleth": [
           {
            "colorbar": {
             "outlinewidth": 0,
             "ticks": ""
            },
            "type": "choropleth"
           }
          ],
          "contour": [
           {
            "colorbar": {
             "outlinewidth": 0,
             "ticks": ""
            },
            "colorscale": [
             [
              0.0,
              "#0d0887"
             ],
             [
              0.1111111111111111,
              "#46039f"
             ],
             [
              0.2222222222222222,
              "#7201a8"
             ],
             [
              0.3333333333333333,
              "#9c179e"
             ],
             [
              0.4444444444444444,
              "#bd3786"
             ],
             [
              0.5555555555555556,
              "#d8576b"
             ],
             [
              0.6666666666666666,
              "#ed7953"
             ],
             [
              0.7777777777777778,
              "#fb9f3a"
             ],
             [
              0.8888888888888888,
              "#fdca26"
             ],
             [
              1.0,
              "#f0f921"
             ]
            ],
            "type": "contour"
           }
          ],
          "contourcarpet": [
           {
            "colorbar": {
             "outlinewidth": 0,
             "ticks": ""
            },
            "type": "contourcarpet"
           }
          ],
          "heatmap": [
           {
            "colorbar": {
             "outlinewidth": 0,
             "ticks": ""
            },
            "colorscale": [
             [
              0.0,
              "#0d0887"
             ],
             [
              0.1111111111111111,
              "#46039f"
             ],
             [
              0.2222222222222222,
              "#7201a8"
             ],
             [
              0.3333333333333333,
              "#9c179e"
             ],
             [
              0.4444444444444444,
              "#bd3786"
             ],
             [
              0.5555555555555556,
              "#d8576b"
             ],
             [
              0.6666666666666666,
              "#ed7953"
             ],
             [
              0.7777777777777778,
              "#fb9f3a"
             ],
             [
              0.8888888888888888,
              "#fdca26"
             ],
             [
              1.0,
              "#f0f921"
             ]
            ],
            "type": "heatmap"
           }
          ],
          "heatmapgl": [
           {
            "colorbar": {
             "outlinewidth": 0,
             "ticks": ""
            },
            "colorscale": [
             [
              0.0,
              "#0d0887"
             ],
             [
              0.1111111111111111,
              "#46039f"
             ],
             [
              0.2222222222222222,
              "#7201a8"
             ],
             [
              0.3333333333333333,
              "#9c179e"
             ],
             [
              0.4444444444444444,
              "#bd3786"
             ],
             [
              0.5555555555555556,
              "#d8576b"
             ],
             [
              0.6666666666666666,
              "#ed7953"
             ],
             [
              0.7777777777777778,
              "#fb9f3a"
             ],
             [
              0.8888888888888888,
              "#fdca26"
             ],
             [
              1.0,
              "#f0f921"
             ]
            ],
            "type": "heatmapgl"
           }
          ],
          "histogram": [
           {
            "marker": {
             "pattern": {
              "fillmode": "overlay",
              "size": 10,
              "solidity": 0.2
             }
            },
            "type": "histogram"
           }
          ],
          "histogram2d": [
           {
            "colorbar": {
             "outlinewidth": 0,
             "ticks": ""
            },
            "colorscale": [
             [
              0.0,
              "#0d0887"
             ],
             [
              0.1111111111111111,
              "#46039f"
             ],
             [
              0.2222222222222222,
              "#7201a8"
             ],
             [
              0.3333333333333333,
              "#9c179e"
             ],
             [
              0.4444444444444444,
              "#bd3786"
             ],
             [
              0.5555555555555556,
              "#d8576b"
             ],
             [
              0.6666666666666666,
              "#ed7953"
             ],
             [
              0.7777777777777778,
              "#fb9f3a"
             ],
             [
              0.8888888888888888,
              "#fdca26"
             ],
             [
              1.0,
              "#f0f921"
             ]
            ],
            "type": "histogram2d"
           }
          ],
          "histogram2dcontour": [
           {
            "colorbar": {
             "outlinewidth": 0,
             "ticks": ""
            },
            "colorscale": [
             [
              0.0,
              "#0d0887"
             ],
             [
              0.1111111111111111,
              "#46039f"
             ],
             [
              0.2222222222222222,
              "#7201a8"
             ],
             [
              0.3333333333333333,
              "#9c179e"
             ],
             [
              0.4444444444444444,
              "#bd3786"
             ],
             [
              0.5555555555555556,
              "#d8576b"
             ],
             [
              0.6666666666666666,
              "#ed7953"
             ],
             [
              0.7777777777777778,
              "#fb9f3a"
             ],
             [
              0.8888888888888888,
              "#fdca26"
             ],
             [
              1.0,
              "#f0f921"
             ]
            ],
            "type": "histogram2dcontour"
           }
          ],
          "mesh3d": [
           {
            "colorbar": {
             "outlinewidth": 0,
             "ticks": ""
            },
            "type": "mesh3d"
           }
          ],
          "parcoords": [
           {
            "line": {
             "colorbar": {
              "outlinewidth": 0,
              "ticks": ""
             }
            },
            "type": "parcoords"
           }
          ],
          "pie": [
           {
            "automargin": true,
            "type": "pie"
           }
          ],
          "scatter": [
           {
            "marker": {
             "colorbar": {
              "outlinewidth": 0,
              "ticks": ""
             }
            },
            "type": "scatter"
           }
          ],
          "scatter3d": [
           {
            "line": {
             "colorbar": {
              "outlinewidth": 0,
              "ticks": ""
             }
            },
            "marker": {
             "colorbar": {
              "outlinewidth": 0,
              "ticks": ""
             }
            },
            "type": "scatter3d"
           }
          ],
          "scattercarpet": [
           {
            "marker": {
             "colorbar": {
              "outlinewidth": 0,
              "ticks": ""
             }
            },
            "type": "scattercarpet"
           }
          ],
          "scattergeo": [
           {
            "marker": {
             "colorbar": {
              "outlinewidth": 0,
              "ticks": ""
             }
            },
            "type": "scattergeo"
           }
          ],
          "scattergl": [
           {
            "marker": {
             "colorbar": {
              "outlinewidth": 0,
              "ticks": ""
             }
            },
            "type": "scattergl"
           }
          ],
          "scattermapbox": [
           {
            "marker": {
             "colorbar": {
              "outlinewidth": 0,
              "ticks": ""
             }
            },
            "type": "scattermapbox"
           }
          ],
          "scatterpolar": [
           {
            "marker": {
             "colorbar": {
              "outlinewidth": 0,
              "ticks": ""
             }
            },
            "type": "scatterpolar"
           }
          ],
          "scatterpolargl": [
           {
            "marker": {
             "colorbar": {
              "outlinewidth": 0,
              "ticks": ""
             }
            },
            "type": "scatterpolargl"
           }
          ],
          "scatterternary": [
           {
            "marker": {
             "colorbar": {
              "outlinewidth": 0,
              "ticks": ""
             }
            },
            "type": "scatterternary"
           }
          ],
          "surface": [
           {
            "colorbar": {
             "outlinewidth": 0,
             "ticks": ""
            },
            "colorscale": [
             [
              0.0,
              "#0d0887"
             ],
             [
              0.1111111111111111,
              "#46039f"
             ],
             [
              0.2222222222222222,
              "#7201a8"
             ],
             [
              0.3333333333333333,
              "#9c179e"
             ],
             [
              0.4444444444444444,
              "#bd3786"
             ],
             [
              0.5555555555555556,
              "#d8576b"
             ],
             [
              0.6666666666666666,
              "#ed7953"
             ],
             [
              0.7777777777777778,
              "#fb9f3a"
             ],
             [
              0.8888888888888888,
              "#fdca26"
             ],
             [
              1.0,
              "#f0f921"
             ]
            ],
            "type": "surface"
           }
          ],
          "table": [
           {
            "cells": {
             "fill": {
              "color": "#EBF0F8"
             },
             "line": {
              "color": "white"
             }
            },
            "header": {
             "fill": {
              "color": "#C8D4E3"
             },
             "line": {
              "color": "white"
             }
            },
            "type": "table"
           }
          ]
         },
         "layout": {
          "annotationdefaults": {
           "arrowcolor": "#2a3f5f",
           "arrowhead": 0,
           "arrowwidth": 1
          },
          "autotypenumbers": "strict",
          "coloraxis": {
           "colorbar": {
            "outlinewidth": 0,
            "ticks": ""
           }
          },
          "colorscale": {
           "diverging": [
            [
             0,
             "#8e0152"
            ],
            [
             0.1,
             "#c51b7d"
            ],
            [
             0.2,
             "#de77ae"
            ],
            [
             0.3,
             "#f1b6da"
            ],
            [
             0.4,
             "#fde0ef"
            ],
            [
             0.5,
             "#f7f7f7"
            ],
            [
             0.6,
             "#e6f5d0"
            ],
            [
             0.7,
             "#b8e186"
            ],
            [
             0.8,
             "#7fbc41"
            ],
            [
             0.9,
             "#4d9221"
            ],
            [
             1,
             "#276419"
            ]
           ],
           "sequential": [
            [
             0.0,
             "#0d0887"
            ],
            [
             0.1111111111111111,
             "#46039f"
            ],
            [
             0.2222222222222222,
             "#7201a8"
            ],
            [
             0.3333333333333333,
             "#9c179e"
            ],
            [
             0.4444444444444444,
             "#bd3786"
            ],
            [
             0.5555555555555556,
             "#d8576b"
            ],
            [
             0.6666666666666666,
             "#ed7953"
            ],
            [
             0.7777777777777778,
             "#fb9f3a"
            ],
            [
             0.8888888888888888,
             "#fdca26"
            ],
            [
             1.0,
             "#f0f921"
            ]
           ],
           "sequentialminus": [
            [
             0.0,
             "#0d0887"
            ],
            [
             0.1111111111111111,
             "#46039f"
            ],
            [
             0.2222222222222222,
             "#7201a8"
            ],
            [
             0.3333333333333333,
             "#9c179e"
            ],
            [
             0.4444444444444444,
             "#bd3786"
            ],
            [
             0.5555555555555556,
             "#d8576b"
            ],
            [
             0.6666666666666666,
             "#ed7953"
            ],
            [
             0.7777777777777778,
             "#fb9f3a"
            ],
            [
             0.8888888888888888,
             "#fdca26"
            ],
            [
             1.0,
             "#f0f921"
            ]
           ]
          },
          "colorway": [
           "#636efa",
           "#EF553B",
           "#00cc96",
           "#ab63fa",
           "#FFA15A",
           "#19d3f3",
           "#FF6692",
           "#B6E880",
           "#FF97FF",
           "#FECB52"
          ],
          "font": {
           "color": "#2a3f5f"
          },
          "geo": {
           "bgcolor": "white",
           "lakecolor": "white",
           "landcolor": "#E5ECF6",
           "showlakes": true,
           "showland": true,
           "subunitcolor": "white"
          },
          "hoverlabel": {
           "align": "left"
          },
          "hovermode": "closest",
          "mapbox": {
           "style": "light"
          },
          "paper_bgcolor": "white",
          "plot_bgcolor": "#E5ECF6",
          "polar": {
           "angularaxis": {
            "gridcolor": "white",
            "linecolor": "white",
            "ticks": ""
           },
           "bgcolor": "#E5ECF6",
           "radialaxis": {
            "gridcolor": "white",
            "linecolor": "white",
            "ticks": ""
           }
          },
          "scene": {
           "xaxis": {
            "backgroundcolor": "#E5ECF6",
            "gridcolor": "white",
            "gridwidth": 2,
            "linecolor": "white",
            "showbackground": true,
            "ticks": "",
            "zerolinecolor": "white"
           },
           "yaxis": {
            "backgroundcolor": "#E5ECF6",
            "gridcolor": "white",
            "gridwidth": 2,
            "linecolor": "white",
            "showbackground": true,
            "ticks": "",
            "zerolinecolor": "white"
           },
           "zaxis": {
            "backgroundcolor": "#E5ECF6",
            "gridcolor": "white",
            "gridwidth": 2,
            "linecolor": "white",
            "showbackground": true,
            "ticks": "",
            "zerolinecolor": "white"
           }
          },
          "shapedefaults": {
           "line": {
            "color": "#2a3f5f"
           }
          },
          "ternary": {
           "aaxis": {
            "gridcolor": "white",
            "linecolor": "white",
            "ticks": ""
           },
           "baxis": {
            "gridcolor": "white",
            "linecolor": "white",
            "ticks": ""
           },
           "bgcolor": "#E5ECF6",
           "caxis": {
            "gridcolor": "white",
            "linecolor": "white",
            "ticks": ""
           }
          },
          "title": {
           "x": 0.05
          },
          "xaxis": {
           "automargin": true,
           "gridcolor": "white",
           "linecolor": "white",
           "ticks": "",
           "title": {
            "standoff": 15
           },
           "zerolinecolor": "white",
           "zerolinewidth": 2
          },
          "yaxis": {
           "automargin": true,
           "gridcolor": "white",
           "linecolor": "white",
           "ticks": "",
           "title": {
            "standoff": 15
           },
           "zerolinecolor": "white",
           "zerolinewidth": 2
          }
         }
        },
        "title": {
         "text": "Continuous, variable value error bars"
        },
        "xaxis": {
         "title": {
          "text": "X Achse"
         }
        },
        "yaxis": {
         "title": {
          "text": "Y Achse"
         }
        }
       }
      },
      "text/html": "<div>                            <div id=\"0e2dadd2-897a-47ab-a594-a4a962a3bfa7\" class=\"plotly-graph-div\" style=\"height:525px; width:100%;\"></div>            <script type=\"text/javascript\">                require([\"plotly\"], function(Plotly) {                    window.PLOTLYENV=window.PLOTLYENV || {};                                    if (document.getElementById(\"0e2dadd2-897a-47ab-a594-a4a962a3bfa7\")) {                    Plotly.newPlot(                        \"0e2dadd2-897a-47ab-a594-a4a962a3bfa7\",                        [{\"line\":{\"color\":\"rgb(31, 119, 255)\"},\"mode\":\"lines\",\"name\":\"Mittelwert\",\"type\":\"scatter\",\"y\":[0.4898029948878537,0.4896262993579566,0.49041559500571097,0.4904402456333798,0.49013306532241113,0.4899426278445931,0.48988453645481916,0.4904602243455,0.48886640012316385,0.4895215995099306,0.4887162939873177,0.4884215716688495,0.48906511336142,0.4886624873218447,0.48800153145870834,0.4884333282822161,0.48706701956771337,0.4891863178224908,0.48505737291738876,0.48710839640806003,0.5110577581042366,0.510987468235698,0.5114731344015753,0.511262905676071,0.5093711501011992,0.5106632325547602,0.5066266468356632,0.510663581358809,0.5030887124187572,0.5077985497785525,0.5235851694133075,0.5235221373247017,0.523009754876382,0.5232452553148347,0.5207449598437907,0.5226368723356406,0.5163400149941267,0.5217928582884929,0.5115083270790025,0.5186436697155444,0.5297896354998624,0.529716540342203,0.529144705890354,0.5294865386376633,0.5263238674318997,0.5284931424297769,0.5211311940897217,0.5276129405001833,0.5151021293098237,0.5240511344085489,0.5280153426269958,0.5282235365265797,0.5276901893762582,0.5279473395664994,0.5245198197396483,0.5266297117113683,0.5186957371547372,0.5252868180501923,0.511763508509964,0.5218104187050353,0.5265213016143653,0.5265242316528825,0.5258504719499295,0.5268995929588302,0.5227690112671707,0.5249526961901834,0.516268721768722,0.5235136309115306,0.5087517940158044,0.5201658960652329,0.524757175259221,0.5251032802944188,0.5241587630423842,0.525075421349915,0.5207252928029488,0.5233054605286432,0.5140609159744347,0.5215581582786719,0.505922186468374,0.5180177350804371,0.521164798530118,0.5215212230032018,0.5202709823072601,0.5214020612048891,0.5171358011128772,0.5197197051145788,0.5100341601231136,0.517865915097066,0.5014233774577764,0.5141891212804084,0.5158980069700112,0.5165158163930138,0.5149448805355199,0.5160451417686827,0.5115623410770651,0.5145414748295194,0.5041454180802075,0.5123271568820156,0.49576308031833777,0.509221543440582,0.5127955738859613,0.5127638504316806,0.5114585010429131,0.5126265632613592,0.5081919899288456,0.5109910867207199,0.5003434953431884,0.5088519157681237,0.4921656960333241,0.5055910693750272,0.5097159136364167,0.5095011808693942,0.5086628994394335,0.5092155127717025,0.5047573607757945,0.5075067119983315,0.4969235431004978,0.5055646728138374,0.4883448030247212,0.5021226052768625,0.5055253970792817,0.505164931621836,0.5044050689557161,0.5052516593769245,0.5008445008435033,0.5037173984492594,0.49301359682635026,0.5014228176895125,0.48380264718024685,0.49795931060818416,0.5023913699266089,0.5018991953946017,0.5013026516102629,0.5017736297730777,0.4973777711278356,0.5003859603708393,0.48963178735236396,0.49789091810122843,0.4805556275479058,0.4944376218303527,0.5001483177909799,0.4995929407149579,0.4988763893159048,0.499879513823454,0.494912608517271,0.4982780072414096,0.48712066743662646,0.49553048676467787,0.47793060581125507,0.4922785468666338,0.49744330201622083,0.49712904187502527,0.49606239567241356,0.49707088704276625,0.4922939734943374,0.4954005329911837,0.48471550486070675,0.493054429181199,0.4750824128788323,0.48986190476741925,0.49476110207682883,0.4946005309516685,0.4934967408555065,0.4944362585357491,0.4896108001152176,0.4930707826979133,0.4814125124029101,0.4903528862270054,0.4722431746122494,0.4869160244525485,0.493011632163519,0.4928975576592308,0.4918414087449156,0.492624924196833,0.4879279034274106,0.4913327766551225,0.47977701717829824,0.48877257916752925,0.4707077544186405,0.4850712312565881,0.4913978276672824,0.49140702262912145,0.4905366944542965,0.4910250509444988,0.48674120094587636,0.4895335791575755,0.47829047606694736,0.4871626433203388,0.46938246474450207,0.48370842897259275,0.48998126910421785,0.4893735972353086,0.4886560704412663,0.48944030063376637,0.48472567501737834,0.48806560074034916,0.47676385932324733,0.4853641250635337,0.46728089922567534,0.48208122029494677,0.48830511008651956,0.48807462308279403,0.48732144319046405,0.4881601245667327,0.48343263276065035,0.4866493320260719,0.47497232505297293,0.48391623722207416,0.4657243840583376,0.4805726371994049,0.48745841939422097,0.48709089673786393,0.4862362376746368,0.487167336778893,0.4824938875718944,0.4854245555232439,0.47436092275210495,0.48280667951608314,0.4648942777530715,0.4795343663966935,0.4866846513531417,0.48625580172642313,0.4847764523919226,0.4861999708337664,0.4814101764443366,0.4848609650070117,0.47334471527125277,0.4818364654675483,0.4638309233989192,0.47885436100407053,0.4851845458751745,0.48481817764182433,0.48396135191179174,0.48482487720671624,0.4798562614835426,0.4835319097078211,0.4720507161967781,0.4807315557481331,0.46258084015995776,0.47744209393572484,0.4841405963104218,0.48441220970073284,0.48324883381239864,0.4841679396000745,0.479333540908125,0.48260812375520296,0.47109576906115874,0.48035010237119297,0.4621992740975068,0.4763284336135303,0.48378081332604933,0.4834595637894329,0.4822675562775746,0.48311602919863383,0.47869533090724786,0.48183300268911,0.4706728546860014,0.47919895641172033,0.46146501157267195,0.4757371237005176,0.4828762064133152,0.48238073713636254,0.4816403216613337,0.4825032905233194,0.4776978162253337,0.48103431548063597,0.4698476905073456,0.47842059376917934,0.4603910691804776,0.4751671443578037,0.4822250963621083,0.48198818086413114,0.48085420139297713,0.48179363201471137,0.47707390848760034,0.4801025698426013,0.4692251619783315,0.4778295539671399,0.45952854429165046,0.47431268876030874,0.4816447800072918,0.4813406876406795,0.48012526922761917,0.48113589856903,0.47637553128380977,0.47968331388099167,0.46838559038550287,0.4771890678218751,0.4593721076964309,0.47362221012414546,0.48091946458281704,0.4804812113660242,0.4795830921310555,0.4806605167690663,0.4756881096582544,0.47944508100926186,0.4680424599245933,0.4764670733360194,0.45827307799256345,0.47341873478200414,0.48062258871875946,0.4801621538257643,0.47900994816316717,0.4800277609712234,0.4750344636848924,0.4785643932791761,0.4671808061505132,0.4761431222663163,0.45789383575604775,0.47288961318126677,0.4800359509269034,0.4799337355779546,0.4786067384336838,0.47921085584376855,0.47465146463119723,0.47812873845213505,0.4666501394948244,0.47561824703661354,0.45735136309487084,0.47231831394342605,0.4791318253182379,0.4793869062205013,0.47840470694197346,0.47877805765028486,0.4740895087062905,0.4776823315213155,0.46626236302832474,0.4752103964464117,0.4571161260289177,0.4716257468635278,0.4792792549884212,0.47840605987839785,0.4778595628248149,0.47866727158496203,0.47348247369982227,0.47714177005605757,0.4662006920972279,0.47475424583803144,0.45649629671444814,0.4714241703984063,0.4786468979458229,0.47800149912106565,0.4774000535418979,0.47827702562993024,0.4732224285508212,0.4767280374143855,0.465316053519224,0.47398011168578924,0.4563699016719341,0.4708192121780377,0.4782096616366414,0.47801530653591395,0.4769293937511388,0.4779294744145621,0.4729183906148197,0.47651380782361286,0.4653866924745812,0.47368386880533925,0.4559613501547571,0.47062630884651907,0.47785120719393637,0.47770016030666723,0.47651859255568346,0.47748294233737437,0.4724375648526649,0.47612608544415996,0.46464831300262815,0.47341554309666484,0.4556222772547836,0.47043127911807503,0.47771179075861436,0.4771810181628065,0.4760421343009821,0.4768936917885585,0.4724895247940964,0.4756239597108905,0.46451100337175844,0.4731130897059896,0.45523763805002987,0.47010509746864176,0.47730984428870804,0.47693553710603237,0.47575385012565286,0.47657010173513004,0.4719745843060768,0.47559776659891,0.46411379514852613,0.4727949438596564,0.45481753323415613,0.4695579626989944,0.47673015435959043,0.47675778524997514,0.4755810082944121,0.47632645559735864,0.47177781110382905,0.4748949328394474,0.46403112790318396,0.4724737105925021,0.4546904512370056,0.46918960080930117,0.47690362984788376,0.476137774345528,0.47513850320902873,0.47632956571675417,0.47148567214266607,0.47491449881907155,0.46350059932554555,0.47193619443857016,0.4545265748400669,0.4688840924672456,0.47633785420503055,0.4760092547644871,0.4749428593541027,0.4763798024535635,0.4712595356086208,0.4743885581528419,0.4633831221566315,0.47190185034179666,0.4539884493110643,0.4685643744295509,0.4759470287658364,0.4758724582547564,0.47476219123008406,0.47584800194691573,0.47085197064973705,0.4744291915632423,0.4630155888593875,0.47149921853964105,0.4539221307848942,0.46842104587900996,0.47630540196240434,0.47559663598820945,0.4741957752360649,0.4755812723647312,0.47062628859864236,0.47402949670018535,0.46275153279517683,0.47149319705750786,0.45386425414727294,0.468025922851515,0.47577632788665514,0.4754383447253851,0.4741889380808009,0.47538549639347116,0.4704502728366119,0.4738321147920109,0.46247629092534626,0.4714294285162649,0.4537904884851836,0.46785049590348177,0.47533444347193665,0.47542890133370774,0.4741562696419467,0.47513360159052537,0.47038032147656517,0.4735896360115177,0.4623070356812002,0.47106919283272447,0.45317554661792037,0.46768194677721325,0.4751741653363764,0.4751633683005777,0.47415733824739553,0.47462213300400874,0.4699026902221319,0.4733737746233778,0.4619064578291427,0.4707934262812054,0.4535193856282448,0.46719928001327643,0.4752553002083644,0.47473436594447593,0.4737071593869596,0.47441231888320023,0.47008289434751727,0.4731144982484023,0.4621098558526702,0.4706645532692106,0.45292009130751487,0.46706509138932834,0.4747268074444706,0.4745302256322637,0.4736265682690029,0.47470360482198115,0.46970234049074094,0.4730167062733904,0.46194915417350646,0.4705076526360023,0.4528592512846351,0.46698074643617216,0.4747963845666746,0.4745484452348238,0.47357664868910254,0.4744486883096569,0.46951371013484144,0.4729859692852955,0.4617700438444611,0.47030203520424113,0.4524621249858523,0.4668444197625262,0.4747794381881975,0.4741870485444017,0.47314011838484377,0.4741343373184765,0.469457255545193,0.47293278387113435,0.4615205888236122,0.4701194885915591,0.4527294505690272,0.4668409124449312,0.47459589889227954,0.4744381671023611,0.47304648773493435,0.47393900948927514,0.46937553835368095,0.4725325623925106,0.46142194260358704,0.47042702852276574,0.45234900276575657,0.46685521820829934,0.47420740335020384,0.4742707677027077,0.4732587199694495,0.4738753038799977,0.46931926008492436,0.4724594891767199,0.46131613550096356,0.4701136914709822,0.4523326507518808,0.466390420972398,0.4740764589041059,0.4740965308566785,0.47308270439557787,0.4735261821534175,0.4689424704680149,0.4724940454861333,0.4612545480289198,0.46977274336601005,0.452270196656776,0.46635863664268246,0.47419656457975673,0.4737140020139355,0.47287291541856297,0.47355039665730203,0.4688278297181639,0.4722026377298379,0.4610195010749039,0.46956792849773343,0.4518631154081873,0.46602970792476744,0.4737820473652334,0.4737117836095753,0.47268335000339695,0.4737901596043681,0.4686605100482547,0.4719813711004535,0.46097048582139644,0.4696780255407761,0.45209248735764984,0.46613398278670304,0.47376119474461303,0.47336605118357605,0.4725493648960748,0.4731871058820898,0.4687241085520786,0.4721303627973054,0.46096427343666885,0.4695080543273345,0.45152330592115014,0.46620627931102365,0.47391138499257135,0.47351684028643365,0.47212704170406145,0.47351549089304595,0.4685325909065962,0.47185557544636547,0.46070401145351775,0.4693849607842381,0.45156911297645036,0.46596167326554383,0.47379637287106335,0.473201088485945,0.4722577587064947,0.4732154992208739,0.46854137254584577,0.47189161054535356,0.46040709113877404,0.4694144722169603,0.45164411797099924,0.4659703945782944,0.47350883801292515,0.4734515394615325,0.472232827624495,0.4730697763260257,0.46826919449426146,0.4717293583584307,0.4603425971714563,0.4693947382212842,0.4516696462832087,0.4657816131831914,0.473159963420809,0.4731876155188381,0.47203327357471114,0.472740506987014,0.4681801913157511,0.4716097624251855,0.4604596071535126,0.46913878950212523,0.45153263001650884,0.46572063912253975,0.4733547828796737,0.47298800994191326,0.4722099061495738,0.47286055713181063,0.4681322870381658,0.4715713743545819,0.46038756784015616,0.46929183735879904,0.4512700057014372,0.4656249258526355,0.4732659512894197,0.47316809352352873,0.472299187176234,0.47284532629866965,0.4683412271138715,0.4716682571331868,0.46046338778667095,0.46895446541465713,0.45158566519496723,0.46566946361680167,0.47302831758533787,0.4730113150501979,0.472132334290741,0.47284256925508233,0.46796598679936197,0.47117641285994166,0.4604939284545858,0.46896663775242875,0.450893197329127,0.4655980210473214,0.4728679134329468,0.47286764633860295,0.4717981710442106,0.47277801884474396,0.46791729982530417,0.4715154431911738,0.4604342559216098,0.4688410245488554,0.45091850069219136,0.46563251726481536,0.4730725116808799,0.47282400512338507,0.4715056194811298,0.4722871898567537,0.467679444300296,0.4715678464741149,0.4598898619871626,0.46891547667441047,0.4510262338953012,0.46553768342061586,0.4726640778144659,0.4728387740932734,0.4718817267807765,0.4723777071869955,0.4678919000533489,0.47107777398577627,0.4601077954975904,0.4690200687489899,0.45080903750904083,0.46542092743028235,0.47276495832482274,0.4728181807039455,0.47160865098822946,0.4721094198342171,0.4678064180413488,0.47081030127939216,0.4599691418790556,0.4686690844739021,0.4507840066071311,0.4650064835237764,0.4730928088371613,0.4725040918097359,0.4718529809411277,0.4720606708991942,0.46755126600438696,0.47134093610858674,0.4597976637871424,0.4687961840909624,0.45089341438231006,0.46511502892684226,0.4727267001326642,0.47251961260877967,0.4714375124978802,0.4726709583585164,0.46741820317010635,0.4708529381587565,0.45967642920107205,0.4685930571222849,0.450677824503481,0.4647925499177015,0.47282313844510165,0.47244999423806,0.47153136716334515,0.47232615279621065,0.467474093002316,0.4709346817609993,0.45997278488964355,0.468633219869191,0.4505139124378206,0.4653611650673669,0.472629960816542,0.47261125685740824,0.4715379232688918,0.4720331484304188,0.4673343121311423,0.4708734644908357,0.4598679510903683,0.4684098666333958,0.4507149071567834,0.4650316001898254,0.4726633512996034,0.4725250115091938,0.47121161961474745,0.47206328928378954,0.4672087200393887,0.4708470092266243,0.45943124599719776,0.4687840206548425,0.4506197693104278,0.46481448988858004,0.47260246091357155,0.4727744401075462,0.4712959916783392,0.4719060483223111,0.46742542240052587,0.4706309827870726,0.45936203909879797,0.4684366790673858,0.45037859924952844,0.4648781092796647,0.4724798818995856,0.47236648814733895,0.4715089479270296,0.47177737986804974,0.46754774920066566,0.47087570543966845,0.4593135402399023,0.468279454800355,0.4506712505578291,0.46488705276274883,0.4726215141009168,0.4721844500298372,0.47153413322438453,0.47185753700498884,0.4673034666673414,0.47078277067601193,0.4595481465868054,0.46831906070301416,0.450459212947688,0.46451450458265325,0.4725148904079583,0.47217396327521466,0.47123375224006236,0.47204139433447095,0.46706658033103976,0.47035942519010604,0.45930391923952213,0.46831794146175615,0.4503811316026061,0.46480528836671764,0.4724514317741173,0.47193317740564994,0.4709486741534981,0.4720349450239763,0.46709645592768356,0.4708708121960094,0.45958388470676764,0.46813012898476725,0.4506885347104567,0.4644524097301002,0.47230883374470173,0.4718394153596997,0.47105145661453834,0.4717878054719743,0.46741313122493744,0.4707640885681975,0.4594626908395733,0.4681906356023711,0.4502540372296175,0.46464808237573574,0.47243321267055144,0.4721332244987679,0.47133835195316837,0.47159955312148477,0.4671946394986286,0.47046694084486596,0.45921070354567284,0.46809019379818056,0.45027405651683117,0.4644238324063725,0.47227533210920086,0.4721409116335246,0.4710085289882499,0.47167918595026276,0.46709113575286154,0.47044857073100227,0.45911471439156787,0.4682686523974436,0.4503914730518727,0.4646479059228957,0.4723109355328852,0.4720417094709987,0.4711540665473774,0.4716678778644205,0.4671606922462439,0.4704748699778653,0.4593998925038332,0.4677723525893001,0.45060544139697495,0.46449582334155176,0.4722744312505738,0.47183956888516376,0.47103173282226596,0.47153561656344756,0.4672809149260659,0.47022608232406615,0.4590621429088826,0.4679165456556189,0.4499366588265474,0.464249715097779,0.47214153422350036,0.47170885701600745,0.47129385700755155,0.471721756870769,0.4668645986001643,0.4699894824956925,0.4592243594075426,0.46762087873263736,0.45014410012446493,0.4642232102693253,0.4722155303448118,0.4718314262506142,0.4708630300228407,0.4716826499950335,0.4667770319471151,0.4702226803472859,0.4593408586158722,0.46795106885999577,0.45024703771694535,0.4644837667941833,0.47218179796986426,0.4718760237837403,0.47095261956527873,0.47154964868785904,0.4669665925693561,0.47016269524378607,0.4592752187386702,0.467835875256049,0.4498514353799952,0.46432795543568994,0.4722276450975764,0.47206968907948227,0.4710031162938426,0.47135055143052423,0.4667821717389186,0.47003267114637265,0.45877049721901453,0.4677956551359967,0.44989194590185666,0.4643111176120963,0.47186338836793895,0.47169062071569834,0.4708361890999361,0.47142440241797356,0.4668487361491577,0.47026260336187714,0.45882269690220523,0.4679610269815194,0.4501640855845139,0.46398014192592885,0.47194968939245957,0.4718403439572825,0.47075039189376955,0.4713326700210321,0.4665257332782735,0.46995304417116,0.45943243707458675,0.46780302647197275,0.4500333825987544,0.4641105466836952,0.4722274010325838,0.4712802710654488,0.4706713848815541,0.47133790210109694,0.4668561127910655,0.4699865715156427,0.4590944595409093,0.46748447085380174,0.4498553888764834,0.46420630461765294]},{\"line\":{\"width\":0},\"marker\":{\"color\":\"#644\"},\"mode\":\"lines\",\"name\":\"Konfidenzintervall\",\"showlegend\":true,\"type\":\"scatter\",\"y\":[0.4913350688695232,0.491347578162747,0.49155748625664464,0.49175861204470994,0.4914931116781193,0.49117655299441626,0.4910461470031088,0.4915656359195961,0.49033831056842647,0.4904377174009801,0.4902370471875468,0.49009875899784366,0.4903114849050864,0.4896864630452936,0.48932317623871346,0.489600865438887,0.4882224497261869,0.49029736637489596,0.4864391827373865,0.4879475324006533,0.5123614222675665,0.5124315829055509,0.5126362254750977,0.5124784772359825,0.5105039754021672,0.5118196285907763,0.5076653509303383,0.511757731306304,0.5042133530260495,0.5086545416266559,0.5247973122498015,0.524592882467042,0.523793059590557,0.5242694364936823,0.5216940517992887,0.523688694395854,0.5173923228827106,0.5226735030312065,0.5126155533730387,0.5194263971349524,0.5307084795037234,0.5306642666251952,0.5298700376534597,0.5303658732703265,0.5271630673934256,0.5293876329757552,0.5220313484381411,0.528384733807866,0.5160420055395311,0.5248027364613111,0.5288646170098897,0.5290044732119988,0.5284732723015082,0.5287258749814046,0.525262441402734,0.5274266446360721,0.5195947421322293,0.5261391090570138,0.5126170652895712,0.5224328722867735,0.5273293485640796,0.527170164823719,0.5265720343655723,0.5275484472552366,0.5235187903131648,0.5258431469676743,0.5169308411735479,0.524231709443682,0.5095570928824772,0.5207600473400319,0.525422366251554,0.5256268464536662,0.5247662961480122,0.525751290324538,0.5215051931380593,0.5240652975980509,0.5147636172456473,0.5221939272848937,0.5067297798187838,0.5185203840895872,0.5217464581514903,0.5220919984352224,0.5209475630304105,0.5219433412182983,0.5176972455186931,0.5204195630324225,0.5107358088074385,0.5184829610091894,0.5021242628733239,0.5147155153937646,0.5163983560144292,0.5170811952559305,0.5155287642535998,0.5166073633822944,0.512139344150434,0.5151042945992393,0.5048225507746562,0.5129145191962167,0.4965807492479743,0.5096547697141072,0.5133560481658737,0.5133022262541452,0.5120021684213248,0.5130616622877602,0.5086853759147438,0.5115194171522511,0.5009873862733459,0.5093969504750866,0.492962050096657,0.5059888819631956,0.5102376012945303,0.5098852441356364,0.5091359665316427,0.5097542902234824,0.5052804706257459,0.5081165282990994,0.49753636184721534,0.5059523052187559,0.4890858623790119,0.5025659113655921,0.5059994583278087,0.50558116813125,0.5048209511187902,0.5057764583538671,0.5014206975792421,0.5041792882686558,0.49367544399401037,0.5020431121006295,0.48443058286123025,0.49837690023911574,0.502815051060236,0.5024106451013027,0.5017771545413082,0.5022518801559992,0.4978247263200432,0.5008590374799307,0.4901309012779691,0.4983071543835445,0.48117448397686174,0.4948691678142047,0.5005688160819242,0.49996244513558585,0.4992225225233947,0.5003485517039364,0.49544714240745674,0.49871368756599005,0.4875724503695469,0.49606972621103607,0.47856437338895524,0.4927661992033141,0.4979091876068414,0.49750248226900173,0.49646880752641875,0.49749836853055907,0.4927327167891558,0.49584118472014405,0.4853319333734643,0.4935081371403312,0.47572733121168337,0.49026866850631934,0.49513327806775426,0.4950052368281314,0.49387469655629435,0.49476694341108945,0.49012748111711285,0.49347514514899826,0.4820204778461441,0.49092196288673423,0.4729481430186594,0.4874242702019169,0.49343742557720455,0.493375474874468,0.4922451949504297,0.49296776423282085,0.4885016576607945,0.49176869872375517,0.48037481760238504,0.48922466426954225,0.4713612921881257,0.48553384444878117,0.49182152145892466,0.49175466011908436,0.4909519615091958,0.4914693412789632,0.48727595377472477,0.49005566623089164,0.47886061237691774,0.48760309585611317,0.4700421903986364,0.48417707003616267,0.49038553783383454,0.48982111146771645,0.4889750594573899,0.48992986415273365,0.4852642274395921,0.488513201124593,0.477369313093148,0.48586914759219973,0.4678824560699033,0.48256157337045236,0.48864275393770457,0.48839221223030904,0.48779510366682205,0.4885322848856844,0.48399337425207106,0.48699309474501035,0.4755211095420525,0.4843512720713969,0.46641445494589956,0.4810694120497177,0.48771737471288684,0.4874927759367886,0.4865809234780073,0.4876075998053725,0.482997191251889,0.4858953147671708,0.4748971708684577,0.4832535690796465,0.4655121175466277,0.4799779905681365,0.48704474225664657,0.4866515879196287,0.48520388587740915,0.48652531326597515,0.4818665832241508,0.4853930065901131,0.47403386054793706,0.4823087212936245,0.4644313011789412,0.47937956667511783,0.48554149877281094,0.48515965492245317,0.4843328937663438,0.48524279403192866,0.48036926433445737,0.48392440408091436,0.47272299468309537,0.481179512037119,0.4631844583325341,0.47790696367528135,0.48453220847023293,0.48472910603631786,0.48365163289981417,0.48451413415322275,0.4798448593211344,0.4830958039038508,0.47165700011880946,0.480811044905563,0.46297611671322847,0.4768650698642142,0.4841805424881992,0.4838633326068988,0.48268324884620634,0.4835355297762322,0.4791240671024611,0.48229277227006495,0.47133138232296035,0.47964553387209113,0.4621484708403805,0.476250774838137,0.4832219468349794,0.48278708480490895,0.48207258474510845,0.4830165776803311,0.47819335881912467,0.4815285137441373,0.470427198776614,0.4788789275618583,0.461087418046211,0.4756092580215171,0.4826285501548168,0.48246858529065295,0.48129534108233857,0.482107407787942,0.4775407677119005,0.4805947202981351,0.46991596559304105,0.4782789550392656,0.4601666066454863,0.4747522829756123,0.48196915478005087,0.4818189702667779,0.4804737348180267,0.4814758239567319,0.4768223902734242,0.48006321984201455,0.4691559921292121,0.47764726572171806,0.4600699523621976,0.4740885138521143,0.48128162372547934,0.4808524879428116,0.4799796140673091,0.4810273112842804,0.47623679503302757,0.47985754629729793,0.46861165633541013,0.4769058415160412,0.45884664845513684,0.47392271032505795,0.4809833003427409,0.48056484841645947,0.47940411520263865,0.4803902161984541,0.4755436824172064,0.47897447222859807,0.46774492870304,0.4765830724781064,0.458513776238214,0.47339711352870734,0.4804531775953052,0.48023340022514954,0.4789863873556105,0.4796159561297705,0.4752315300803251,0.4784810874673488,0.4674080845582331,0.47604260003325255,0.4581201122662682,0.4727774942386063,0.4794974637946296,0.4797145378370434,0.478864564391432,0.4791941645507501,0.47457775900787846,0.47815880424471974,0.4668173034006284,0.4756419393227971,0.4576935106083194,0.4721107268932479,0.47963476386243775,0.4787272257653051,0.4782355725333433,0.47912682184489364,0.4739560835008422,0.4775343582169942,0.4667219801207997,0.47518316143926687,0.45709211660832993,0.4719289648052013,0.478982268114846,0.4783366809031302,0.4778448285740922,0.478667048150322,0.47363215308297413,0.47711674550603733,0.46588737624852083,0.4744027915494834,0.4570463894657759,0.4713996631760775,0.478526970353374,0.4783552172773898,0.4773573130028051,0.4782912372707048,0.47335166562496156,0.47684571910057605,0.46602459009094466,0.4742298511301666,0.4566449446377583,0.4711097635086744,0.4782081104136057,0.47804185653947157,0.47689044961456495,0.4778903790715283,0.4728965130667506,0.4765879386459308,0.46523816686177816,0.4738720657557973,0.4563165054805873,0.470873508811131,0.4780772273025968,0.4775757698533746,0.4764292123892156,0.4772715565912566,0.4729296855202324,0.47609988597083813,0.4651470620661524,0.47361505251304464,0.4558852731516447,0.4706813139515282,0.47770780883672764,0.4772589204636527,0.47615459107325403,0.476923584294739,0.4725617550236466,0.4761491288372685,0.464554070218673,0.473284926120893,0.45552312196686384,0.47008800138705314,0.4770946067761466,0.4771443960161362,0.47595950132077763,0.47669858274365584,0.4722711428467487,0.4754039397349723,0.4646304002178323,0.47293263390580026,0.4554086467821819,0.46963568104960657,0.4772505189709542,0.47654175301313384,0.47555084648673296,0.4767920687455938,0.47199973918020105,0.47524183114734403,0.4640075738728894,0.47235639181737554,0.4552453678069061,0.4693701807591636,0.47675859180202496,0.4764029378786919,0.4753754462057609,0.4767984998022774,0.471775161775778,0.47480676605179534,0.46396612936268766,0.4723175144142276,0.4547173549296218,0.4691147787532059,0.4764078025511423,0.47617045636452027,0.4751854474265866,0.4762577660615039,0.4712381405944552,0.4748116422077554,0.46357192046871165,0.4720194313061679,0.4547078142490777,0.46891621886470786,0.4765768478336789,0.4759965634184165,0.47461675206155607,0.4759494041907953,0.4711068908140433,0.47450996361496944,0.4633626017658589,0.47199813121392575,0.4545730843702553,0.4685524653126831,0.4760741642335818,0.475861348737573,0.4745583405274549,0.4757096488339421,0.471031003802891,0.4742434798839855,0.46304432414908087,0.4719417388334207,0.454448253588855,0.4682771520781789,0.47574011781408576,0.4757436274114172,0.474517627950503,0.47556513938324024,0.4709473369868009,0.47400062698857076,0.46288214286094764,0.4715779333301816,0.4540130000986978,0.4681865330433209,0.4755825558247182,0.47552123810014435,0.4746811749661734,0.47502024681339483,0.47042425221985906,0.473764490463138,0.4625377885725775,0.4712264576256609,0.4542122333253897,0.467681265127425,0.475753882569709,0.47510084734682706,0.4740617815901585,0.47478085237817186,0.47058493008386737,0.47360091964145834,0.46273372484072584,0.47113401913985775,0.4536300222691833,0.46752177247159193,0.4751074691522844,0.47484978355173724,0.47404293655089064,0.47516339945470243,0.47033367807289284,0.4733608255389187,0.46252766175848753,0.47104502427608463,0.4535347101965187,0.46751813760979205,0.4751915551375531,0.4750082627879004,0.47391264989219195,0.47487539579940613,0.4699559344452057,0.4733680812703255,0.46233940692975123,0.47072904235599894,0.4530839932734522,0.46731933930856967,0.475175911817997,0.4746038280064016,0.47355500144507134,0.47443609057745567,0.4699765353406652,0.47342312387884317,0.462091277231405,0.47060050462434183,0.4534213611912788,0.4673271715498425,0.47500636624624176,0.474778321957161,0.4734171529590831,0.47424713914089234,0.4697998211057266,0.472980110120166,0.46208015498618366,0.470969583614012,0.45305176743497505,0.46733217746088196,0.4746499149810101,0.4746282834209695,0.47355643833099587,0.4742783527750377,0.46978630291565987,0.4728502013794181,0.461980672419764,0.4705206187018542,0.45295794830675795,0.46685369213501776,0.4745058935718667,0.4744895181540263,0.4734296309102082,0.4739041666608227,0.4694402479039464,0.4729270487106586,0.46179852692569096,0.4701365716967582,0.45293370985442005,0.4668275090174566,0.47458145004211266,0.47411682027442437,0.4733150432099905,0.4740526401714087,0.4694078537407881,0.47261858436995186,0.46151838487576236,0.4699949305458838,0.4525993174972084,0.4664902134376063,0.47416875361371175,0.4740699598189148,0.4730389267646649,0.4741436058419893,0.4690942387680413,0.4723793436097185,0.46150717901295873,0.4702297638890584,0.45266442723155825,0.4666956628508543,0.47414413481997764,0.47379951665332304,0.472978009164925,0.4735345087291453,0.46923312913743664,0.4725453243424372,0.46150043950984065,0.469911172198763,0.45226651913901783,0.46660715037495165,0.4742112910820824,0.47386598392188717,0.4725157811135947,0.4738678411765068,0.46906882592980514,0.47226881650979136,0.4613677291437177,0.46983317846709455,0.4522133411424282,0.46655024255323324,0.47411987438029196,0.4735734642203087,0.47268851759139596,0.4735981260202388,0.4690558435971371,0.47234938287276035,0.46095911385627747,0.46987322717046104,0.45238880012270316,0.4665145100364175,0.4739765009235169,0.4738068555108367,0.47268957137721446,0.4734586811995252,0.4688961401964814,0.4721299856178391,0.46094062717032125,0.4697598187714572,0.4524553655264012,0.4663040835946636,0.4735123396396144,0.47357559547545774,0.4725464110602296,0.4732059843914732,0.468655568553012,0.4720397271992022,0.4610020661581975,0.46957817841836375,0.45221605809848675,0.4661359067949392,0.4737622160200775,0.4734550270222187,0.4725962310052701,0.4733337821669306,0.4685785526391206,0.47191122554347603,0.4609323266027844,0.46975838666370073,0.45202150561900356,0.4661813115181838,0.4736613132475008,0.47355391292808674,0.47273775027326015,0.4732684774844983,0.4688124033368065,0.4721044179868597,0.46109195427305055,0.4693678387313009,0.45220672880577406,0.466220509611522,0.4733761343250279,0.47340929095559775,0.47244224169519866,0.47327735330303206,0.46849048406659716,0.4714655074593107,0.46109476814960426,0.469504018319253,0.4515551937576477,0.4661512759475979,0.47326155624397875,0.4732147395107709,0.4721991992324749,0.4731183704623693,0.46839752417090835,0.47186135607371793,0.46106256314387833,0.4692961722022862,0.4515999929309878,0.4662484288778127,0.47349023570965476,0.47314203519531206,0.47200043956264004,0.47260690948382755,0.46811260555059375,0.47201373661447577,0.46053136933056577,0.46930609848888216,0.4517686490102692,0.46616032613999353,0.47310863916773516,0.47314027682714627,0.47230801573392345,0.47277385901966074,0.46845872304717384,0.4716301957191028,0.4606793168246763,0.46942489156765566,0.4515189572551105,0.4658219237695119,0.4731353056586838,0.4731806211657232,0.4719753737002917,0.47249515757648103,0.46820273113519995,0.4712241780817891,0.4605296770215405,0.46909191942562883,0.4515509452955244,0.46551977414503204,0.4735141587328458,0.4727941424731811,0.47226035492667323,0.4725146786145468,0.46802643428090984,0.4717380530059727,0.4602953784896326,0.4692448351666356,0.45164068634287874,0.4655774219827249,0.4731466176398313,0.472855346547227,0.4718634409369873,0.4730661667330539,0.4678533953393059,0.4712624711319182,0.4602026499359623,0.46895701184155847,0.4513908196050717,0.46529305477210436,0.4732795326359768,0.4728366503106616,0.47192582295169855,0.47272394148283536,0.4679503141156742,0.4714013599712018,0.4605736714723393,0.46907233280414207,0.4511356981033968,0.46581584073752497,0.47310372313109017,0.47295619625790675,0.47191886068746297,0.4723766269745126,0.46778653990150004,0.4713568217354258,0.46050397263518594,0.4688834017196264,0.4514520376924263,0.46562721230736726,0.4730948711326414,0.47283271129283994,0.4715835179203961,0.47246746106520693,0.46769690742083514,0.4713064603560207,0.45998767436613186,0.46933109309074045,0.4513074481002304,0.4653665659631072,0.47296301742099883,0.47314743494566164,0.4717044976174779,0.4722901658511624,0.46794535508355106,0.4710469554523692,0.45989175039734514,0.46880458979762896,0.45095879638308906,0.4653403758801644,0.47285925602103057,0.47283114324558895,0.47185014982675705,0.47214203921406855,0.4680194858024002,0.4712969165975801,0.4598835424714934,0.4687640964634408,0.45138204578249314,0.46536132237368333,0.4730521575495622,0.4725102492406746,0.4719289447320448,0.47221670659375653,0.46771525008522413,0.4711726491675149,0.4601293538707304,0.46881414436713087,0.4512038320390129,0.4649910170158674,0.47291649383856366,0.47253032595118416,0.4715866190109364,0.47244984907964793,0.46762473295258855,0.4707392758654613,0.45991517560067885,0.4687453361254689,0.45104879803093745,0.465263715370271,0.4727814206998577,0.47226828048324687,0.47132164936508325,0.47237812036170684,0.46750693689997214,0.47115403425801516,0.4601229923838294,0.46864102316981293,0.45132651216526554,0.46503569593471666,0.47274563331007013,0.47215162475534633,0.47150061787859743,0.47208227652901186,0.46795271097736446,0.4711720875477596,0.4600971799333363,0.4685917766250331,0.45090616893046787,0.4651758082172737,0.4728031142611647,0.4724703986640332,0.4717791504844377,0.4720348327558605,0.4675944691260888,0.4709057044176616,0.4597672261133061,0.46852738579521064,0.45096307460701196,0.4649279651385445,0.472702644933489,0.47256836391107987,0.4713816993579381,0.4721044519235862,0.4676768948494498,0.4709168397171344,0.45979992290018745,0.468764628834296,0.45113190345111437,0.4651010718466954,0.47267532179021815,0.47236165075284264,0.47157782131325193,0.4719728218810964,0.46762570749802806,0.47084860391958283,0.45988686040827653,0.4682860757466551,0.4512825292345046,0.4649510701344136,0.47263669078460796,0.4722086449873257,0.47137938438873345,0.4719495631854347,0.46781892809716774,0.47065559358572623,0.4597342062955052,0.46838666368950926,0.4506801702329132,0.4648184704331295,0.4724516589433778,0.4720496229688961,0.47170911702217166,0.47214513661388563,0.4673887894422622,0.4704177323338541,0.459929857278451,0.4681045265631445,0.4508787910671005,0.46468154713694526,0.4726081774768721,0.4721856854921071,0.4712243377663541,0.4720404309296243,0.4671586148231257,0.47067057796704165,0.45995212004844477,0.46846465801357234,0.4509088380758062,0.4649227451128583,0.4724670532902415,0.472233661813132,0.47135823752530126,0.47195081014997864,0.46739334746665606,0.4705425164785399,0.4599261477355142,0.4683837524152893,0.4504902380214773,0.46483634034667193,0.47261156117584946,0.4724762392756144,0.4713935107767597,0.4716448957618749,0.4671419253059245,0.47053016664829417,0.45943511717466956,0.4682871023381233,0.4507102309266406,0.46478482457475695,0.472253388109142,0.47200302346955103,0.4711778458924384,0.4717936310163316,0.46734825320798146,0.4706296575127724,0.45947429987753363,0.4683986578972933,0.4508155634113074,0.46448301651272483,0.4722893963564685,0.47223420030204233,0.471163276294083,0.47171896181532297,0.4670795229771817,0.47032850287142014,0.4600301995776198,0.4682626597276902,0.45068670504081265,0.46457965163576254,0.47268645165408996,0.4716541358158139,0.4711306319205236,0.4718568749557397,0.4673544976200137,0.47034602245908624,0.45969509340955456,0.4680154595921601,0.4505084973887156,0.46465684272391244]},{\"fill\":\"tonexty\",\"fillcolor\":\"rgba(130, 68, 68, 0.5)\",\"line\":{\"width\":0},\"marker\":{\"color\":\"#448\"},\"mode\":\"lines\",\"name\":\"Konfidenzintervall\",\"showlegend\":true,\"type\":\"scatter\",\"y\":[0.48827092090618424,0.4879050205531662,0.4892737037547773,0.48912187922204964,0.48877301896670294,0.4887087026947699,0.48872292590652955,0.4893548127714039,0.4873944896779012,0.4886054816188812,0.4871955407870886,0.4867443843398553,0.4878187418177536,0.4876385115983958,0.4866798866787032,0.4872657911255452,0.48591158940923984,0.4880752692700856,0.483675563097391,0.48626926041546675,0.5097540939409066,0.509543353565845,0.5103100433280529,0.5100473341161595,0.5082383248002311,0.5095068365187441,0.5055879427409881,0.5095694314113139,0.5019640718114649,0.5069425579304492,0.5223730265768134,0.5224513921823613,0.522226450162207,0.5222210741359871,0.5197958678882926,0.5215850502754272,0.5152877071055428,0.5209122135457792,0.5104011007849664,0.5178609422961364,0.5288707914960014,0.5287688140592107,0.5284193741272483,0.528607204005,0.5254846674703739,0.5275986518837985,0.5202310397413024,0.5268411471925005,0.5141622530801163,0.5232995323557866,0.5271660682441018,0.5274425998411606,0.5269071064510082,0.5271688041515943,0.5237771980765626,0.5258327787866645,0.517796732177245,0.5244345270433708,0.5109099517303568,0.5211879651232971,0.5257132546646509,0.525878298482046,0.5251289095342867,0.5262507386624237,0.5220192322211765,0.5240622454126924,0.515606602363896,0.5227955523793791,0.5079464951491316,0.5195717447904339,0.5240919842668881,0.5245797141351713,0.5235512299367562,0.524399552375292,0.5199453924678382,0.5225456234592356,0.5133582147032221,0.5209223892724502,0.5051145931179641,0.517515086071287,0.5205831389087456,0.5209504475711813,0.5195944015841097,0.5208607811914798,0.5165743567070612,0.519019847196735,0.5093325114387888,0.5172488691849426,0.500722492042229,0.5136627271670522,0.5153976579255932,0.5159504375300971,0.51436099681744,0.5154829201550709,0.5109853380036962,0.5139786550597994,0.5034682853857588,0.5117397945678145,0.49494541138870124,0.5087883171670569,0.512235099606049,0.512225474609216,0.5109148336645014,0.5121914642349583,0.5076986039429474,0.5104627562891887,0.49969960441303096,0.5083068810611608,0.4913693419699912,0.5051932567868588,0.509194225978303,0.509117117603152,0.5081898323472244,0.5086767353199226,0.5042342509258431,0.5068968956975637,0.49631072435378026,0.505177040408919,0.4876037436704305,0.5016792991881328,0.5050513358307547,0.5047486951124219,0.503989186792642,0.5047268603999819,0.5002683041077645,0.5032555086298631,0.49235174965869016,0.5008025232783955,0.48317471149926344,0.4975417209772526,0.5019676887929818,0.5013877456879007,0.5008281486792175,0.5012953793901562,0.496930815935628,0.4999128832617479,0.4891326734267588,0.49747468181891236,0.4799367711189499,0.49400607584650075,0.4997278195000357,0.49922343629432997,0.49853025610841484,0.49941047594297167,0.4943780746270852,0.4978423269168291,0.48666888450370605,0.49499124731831967,0.4772968382335549,0.4917908945299535,0.4969774164256003,0.4967556014810488,0.49565598381840836,0.49664340555497344,0.491855230199519,0.49495988126222334,0.4840990763479492,0.49260072122206683,0.4744374945459812,0.48945514102851917,0.4943889260859034,0.4941958250752056,0.49311878515471863,0.4941055736604087,0.4890941191133224,0.4926664202468284,0.4808045469596761,0.4897838095672766,0.4715382062058394,0.4864077787031801,0.49258583874983347,0.49241964044399367,0.49143762253940154,0.4922820841608452,0.4873541491940267,0.4908968545864898,0.47917921675421143,0.48832049406551625,0.47005421664915525,0.484608618064395,0.49097413387564015,0.49105938513915853,0.4901214273993972,0.49058076061003436,0.48620644811702796,0.48901149208425937,0.477720339756977,0.48672219078456447,0.46872273909036777,0.48323978790902283,0.48957700037460117,0.48892608300290075,0.4883370814251427,0.4889507371147991,0.4841871225951646,0.4876180003561053,0.47615840555334665,0.4848591025348677,0.46667934238144737,0.4816008672194412,0.48796746623533455,0.487757033935279,0.48684778271410606,0.487787964247781,0.48287189126922964,0.4863055693071335,0.47442354056389335,0.48348120237275144,0.46503431317077565,0.4800758623490921,0.4871994640755551,0.4866890175389393,0.4858915518712663,0.48672707375241353,0.48199058389189975,0.48495379627931695,0.47382467463575223,0.48235978995251977,0.46427643795951534,0.4790907422252505,0.48632456044963684,0.48586001553321756,0.484349018906436,0.4858746284015577,0.48095376966452236,0.4843289234239103,0.4726555699945685,0.48136420964147214,0.46323054561889715,0.4783291553330232,0.4848275929775381,0.4844767003611955,0.48358981005723967,0.4844069603815038,0.47934325863262783,0.4831394153347279,0.4713784377104608,0.48028359945914717,0.46197722198738145,0.47697722419616834,0.48374898415061063,0.48409531336514783,0.4828460347249831,0.4838217450469262,0.47882222249511563,0.4821204436065551,0.47053453800350803,0.47988915983682295,0.4614224314817851,0.4757917973628464,0.48338108416389947,0.483055794971967,0.4818518637089429,0.48269652862103546,0.47826659471203464,0.48137323310815505,0.47001432704904245,0.47875237895134953,0.46078155230496337,0.47522347256289815,0.482530465991651,0.4819743894678161,0.48120805857755894,0.4819900033663077,0.4772022736315427,0.48054011721713463,0.4692681822380772,0.4779622599765004,0.45969472031474423,0.47472503069409033,0.4818216425693998,0.48150777643760934,0.4804130617036157,0.48147985624148076,0.47660704926330016,0.4796104193870675,0.4685343583636219,0.4773801528950142,0.4588904819378146,0.4738730945450052,0.4813204052345327,0.4808624050145811,0.47977680363721165,0.4807959731813281,0.47592867229419533,0.4793034079199688,0.46761518864179363,0.4767308699220321,0.45867426303066416,0.4731559063961766,0.48055730544015474,0.48010993478923675,0.4791865701948019,0.4802937222538522,0.47513942428348127,0.4790326157212258,0.4674732635137765,0.4760283051559976,0.45769950752999006,0.4729147592389503,0.480261877094778,0.4797594592350692,0.4786157811236957,0.4796653057439927,0.47452524495257836,0.47815431432975414,0.4666166835979864,0.47570317205452617,0.4572738952738815,0.4723821128338262,0.47961872425850155,0.47963407093075966,0.4782270895117571,0.4788057555577666,0.47407139918206936,0.4777763894369213,0.4658921944314158,0.47519389403997453,0.4565826139234735,0.4718591336482458,0.4787661868418462,0.4790592746039592,0.4779448494925149,0.47836195074981963,0.4736012584047026,0.4772058587979113,0.4657074226560211,0.47477885357002636,0.456538741449516,0.47114076683380773,0.4789237461144047,0.4780848939914906,0.4774835531162865,0.4782077213250304,0.47300886389880237,0.47674918189512094,0.46567940407365616,0.474325330236796,0.45590047682056634,0.47091937599161127,0.47831152777679975,0.4776663173390011,0.4769552785097036,0.47788700310953847,0.47281270401866826,0.4763393293227337,0.4647447307899272,0.4735574318220951,0.45569341387809226,0.47023876117999786,0.47789235291990884,0.47767539579443813,0.4765014744994725,0.4775677115584194,0.4724851156046779,0.47618189654664966,0.46474879485821774,0.4731378864805119,0.4552777556717559,0.47014285418436375,0.477494303974267,0.4773584640738629,0.476146735496802,0.47707550560322043,0.4719786166385792,0.47566423224238913,0.46405845914347815,0.47295902043753235,0.45492804902897993,0.46998904942501907,0.47734635421463195,0.47678626647223843,0.47565505621274856,0.4765158269858604,0.4720493640679604,0.47514803345094286,0.46387494467736445,0.47261112689893453,0.45459000294841506,0.46952888098575535,0.47691187974068844,0.47661215374841204,0.4753531091780517,0.47621661917552105,0.471387413588507,0.4750464043605515,0.46367352007837925,0.47230496159841984,0.45411194450144843,0.4690279240109357,0.47636570194303424,0.4763711744838141,0.4752025152680465,0.47595432845106145,0.4712844793609094,0.4743859259439225,0.4634318555885356,0.47201478727920393,0.45397225569182925,0.46874352056899576,0.4765567407248133,0.4757337956779222,0.4747261599313245,0.4758670626879145,0.4709716051051311,0.4745871664907991,0.4629936247782017,0.47151599705976477,0.45380778187322773,0.4683980041753276,0.47591711660803615,0.47561557165028223,0.4745102725024445,0.47596110510484957,0.47074390944146366,0.4739703502538885,0.4628001149505754,0.4714861862693657,0.4532595436925068,0.4680139701058959,0.4754862549805305,0.4755744601449925,0.47433893503358154,0.4754382378323276,0.4704658007050189,0.4740467409187292,0.4624592572500633,0.4709790057731142,0.4531364473207107,0.46792587289331206,0.4760339560911298,0.4751967085580024,0.4737747984105737,0.4752131405386671,0.47014568638324145,0.47354902978540125,0.46214046382449475,0.47098826290108997,0.4531554239242906,0.46749938039034694,0.4754784915397285,0.4750153407131972,0.47381953563414697,0.4750613439530002,0.4698695418703328,0.47342074970003634,0.46190825770161165,0.4709171181991091,0.4531327233815122,0.46742383972878465,0.47492876912978754,0.4751141752559983,0.47379491133339036,0.4747020637978105,0.4698133059663294,0.47317864503446466,0.4617319285014527,0.47056045233526733,0.4523380931371429,0.4671773605111056,0.4747657748480346,0.47480549850101106,0.47363350152861766,0.47422401919462265,0.4693811282244047,0.4729830587836176,0.4612751270857079,0.4703603949367499,0.4528265379310999,0.46671729489912783,0.4747567178470197,0.4743678845421248,0.47335253718376075,0.4740437853882286,0.46958085861116716,0.47262807685534625,0.4614859868646146,0.4701950873985634,0.45221016034584643,0.46660841030706474,0.4743461457366568,0.4742106677127902,0.47321019998711517,0.4742438101892599,0.46907100290858905,0.4726725870078621,0.4613706465885254,0.46997028099592,0.4521837923727515,0.46644335526255226,0.4744012139957961,0.4740886276817472,0.47324064748601313,0.4740219808199077,0.46907148582447716,0.47260385730026555,0.4612006807591709,0.4698750280524833,0.4518402566982524,0.46636950021648277,0.474382964558398,0.4737702690824018,0.4727252353246162,0.4738325840594973,0.46893797574972085,0.47244244386342554,0.4609499004158194,0.4696384725587764,0.4520375399467756,0.4663546533400199,0.4741854315383173,0.47409801224756115,0.4726758225107856,0.47363087983765795,0.4689512556016353,0.47208501466485525,0.46076373022099043,0.4698844734315195,0.4516462380965381,0.4663782589557167,0.47376489171939756,0.4739132519844459,0.47296100160790316,0.4734722549849577,0.46885221725418885,0.4720687769740218,0.46065159858216315,0.4697067642401102,0.4517073531970036,0.4659271498097783,0.4736470242363451,0.47370354355933075,0.47273577788094756,0.47314819764601235,0.4684446930320834,0.47206104226160794,0.46071056913214864,0.4694089150352619,0.4516066834591319,0.4658897642679083,0.4738116791174008,0.4733111837534466,0.4724307876271354,0.47304815314319537,0.4682478056955397,0.47178669108972393,0.4605206172740455,0.46914092644958305,0.4511269133191662,0.46556920241192856,0.473395341116755,0.47335360740023574,0.472327773242129,0.4734367133667469,0.4682267813284681,0.47158339859118853,0.46043379262983414,0.4691262871924938,0.45152054748374143,0.4655723027225518,0.47337825466924843,0.47293258571382907,0.4721207206272246,0.47283970303503425,0.4682150879667205,0.47171540125217365,0.46042810736349704,0.469104936455906,0.45078009270328245,0.46580540824709565,0.4736114789030603,0.47316769665098013,0.4717383022945282,0.4731631406095851,0.4679963558833873,0.4714423343829396,0.4600402937633178,0.4689367431013816,0.4509248848104725,0.4653731039778544,0.47347287136183475,0.4728287127515813,0.4718269998215935,0.472832872421509,0.46802690149455445,0.47143383821794677,0.4598550684212706,0.4689557172634596,0.4508994358192953,0.46542627912017137,0.4730411751023334,0.47309622341222834,0.4717760838717755,0.4726808714525262,0.4676422487920415,0.47132873109902235,0.4597445671725914,0.46902965767111116,0.45088392704001623,0.4652591427717192,0.4728075872020036,0.47279963556221843,0.4715201360891927,0.47227502958255474,0.46770481407849024,0.4711797976511688,0.45991714814882767,0.4686994005858867,0.45084920193453093,0.4653053714501403,0.4729473497392699,0.4725209928616078,0.4718235812938775,0.47238733209669065,0.46768602143721094,0.4712315231656878,0.45984280907752795,0.46882528805389734,0.45051850578387087,0.46506854018708715,0.4728705893313385,0.4727822741189707,0.4718606240792078,0.472422175112841,0.4678700508909365,0.47123209627951385,0.45983482130029135,0.46854109209801337,0.4509646015841604,0.46511841762208134,0.47268050084564783,0.47261333914479803,0.4718224268862833,0.4724077852071326,0.4674414895321268,0.4708873182605726,0.45989308875956736,0.4684292571856045,0.45023120090060637,0.4650447661470449,0.4724742706219149,0.472520553166435,0.47139714285594636,0.4724376672271186,0.4674370754797,0.4711695303086296,0.45980594869934127,0.4683858768954246,0.4502370084533949,0.465016605651818,0.472654787652105,0.4725059750514581,0.47101079939961954,0.4719674702296799,0.46724628304999827,0.4711219563337541,0.4592483546437594,0.4685248548599388,0.45028381878033324,0.4649150407012382,0.47221951646119664,0.47253727135940055,0.47145543782762955,0.4719815553543303,0.467325077059524,0.47052535225244974,0.4595362741705045,0.4686152459303241,0.4500991177629712,0.4650199310910528,0.4723946109909617,0.4724557402421678,0.47124192827616723,0.4717236820919532,0.4674101049474977,0.4703964244769952,0.45940860673657063,0.46824624952217536,0.45001706791873775,0.4644931929025207,0.47267145894147683,0.47221404114629073,0.4714456069555822,0.47160666318384153,0.46707609772786407,0.47094381921120076,0.45929994908465216,0.4683475330152892,0.4501461424217414,0.4646526358709596,0.47230678262549713,0.47218387867033235,0.4710115840587731,0.4722757499839789,0.4669830110009068,0.4704434051855948,0.45915020846618176,0.4682291024030113,0.44996482940189025,0.4642920450632987,0.47236674425422653,0.4720633381654584,0.47113691137499175,0.47192836410958594,0.4669978718889578,0.47046800355079677,0.4593718983069478,0.4681941069342399,0.4498921267722443,0.46490648939720886,0.47215619850199386,0.4722663174569097,0.4711569858503207,0.47168966988632505,0.46688208436078454,0.47039010724624564,0.4592319295455507,0.4679363315471652,0.4499777766211405,0.4644359880722836,0.4722318314665654,0.47221731172554765,0.4708397213090988,0.47165911750237216,0.4667205326579422,0.47038755809722793,0.45887481762826365,0.4682369482189445,0.4499320905206252,0.46426241381405287,0.4722419044061443,0.4724014452694308,0.4708874857392005,0.4715219307934598,0.4669054897175007,0.470215010121776,0.4588323278002508,0.4680687683371426,0.44979840211596783,0.464415842679165,0.47210050777814067,0.47190183304908895,0.4711677460273021,0.4714127205220309,0.4670760125989311,0.4704544942817568,0.4587435380083112,0.46779481313726917,0.44996045533316503,0.46441278315181433,0.4721908706522714,0.47185865081899986,0.4711393217167243,0.47149836741622114,0.4668916832494587,0.47039289218450897,0.45896693930288035,0.46782397703889744,0.4497145938563631,0.4640379921494391,0.47211328697735294,0.47181760059924516,0.4708808854691883,0.471632939589294,0.46650842770949097,0.46997957451475075,0.4586926628783654,0.46789054679804337,0.4497134651742748,0.4643468613631643,0.4721214428483769,0.471598074328053,0.470575698941913,0.47169176968624577,0.466685974955395,0.47058759013400364,0.45904477702970586,0.46761923479972156,0.4500505572556479,0.46386912352548376,0.4718720341793333,0.47152720596405306,0.47060229535047926,0.47149333441493674,0.4668735514725104,0.47035608958863545,0.4588282017458103,0.46778949457970914,0.4496019055287671,0.46412035653419775,0.47206331107993815,0.4717960503335026,0.47089755342189904,0.47116427348710904,0.4667948098711684,0.4700281772720703,0.45865418097803956,0.4676530018011505,0.4495850384266504,0.46391969967420055,0.4718480192849127,0.47171345935596937,0.4706353586185617,0.47125391997693933,0.4665053766562733,0.46998030174487015,0.4584295058829483,0.4677726759605912,0.44965104265263106,0.46419473999909594,0.4719465492755523,0.4717217681891548,0.4707303117815029,0.4713629338477446,0.46669567699445974,0.4701011360361478,0.4589129245993898,0.4672586294319451,0.44992835355944527,0.4640405765486899,0.4719121717165396,0.47147049278300185,0.47068408125579847,0.47112166994146043,0.466742901754964,0.4697965710624061,0.45839007952225996,0.46744642762172856,0.44919314742018157,0.4636809597624285,0.4718314095036229,0.47136809106311883,0.47087859699293144,0.4712983771276524,0.46634040775806646,0.4695612326575309,0.4585188615366342,0.4671372309021302,0.44940940918182937,0.4637648734017053,0.47182288321275145,0.4714771670091213,0.4705017222793273,0.47132486906044274,0.46639544907110453,0.4697747827275302,0.45872959718329964,0.4674374797064192,0.44958523735808453,0.4640447884755083,0.471896542649487,0.47151838575434857,0.4705470016052562,0.47114848722573943,0.4665398376720561,0.46978287400903224,0.45862428974182623,0.46728799809680877,0.44921263273851314,0.46381957052470796,0.4718437290193034,0.47166313888335015,0.4706127218109255,0.47105620709917356,0.4664224181719127,0.46953517564445113,0.4581058772633595,0.46730420793387006,0.44907366087707273,0.4638374106494357,0.4714733886267359,0.47137821796184565,0.47049453230743377,0.47105517381961554,0.4663492190903339,0.46989554921098187,0.4581710939268768,0.46752339606574556,0.44951260775772034,0.46347726733913286,0.47160998242845065,0.4714464876125227,0.4703375074934561,0.4709463782267412,0.46597194357936533,0.4695775854708999,0.4588346745715537,0.4673433932162553,0.4493800601566962,0.4636414417316279,0.4717683504110777,0.4709064063150837,0.47021213784258453,0.4708189292464542,0.4663577279621173,0.4696271205721992,0.4584938256722641,0.46695348211544335,0.4492022803642512,0.46375576651139344]}],                        {\"hovermode\":\"x\",\"template\":{\"data\":{\"bar\":[{\"error_x\":{\"color\":\"#2a3f5f\"},\"error_y\":{\"color\":\"#2a3f5f\"},\"marker\":{\"line\":{\"color\":\"#E5ECF6\",\"width\":0.5},\"pattern\":{\"fillmode\":\"overlay\",\"size\":10,\"solidity\":0.2}},\"type\":\"bar\"}],\"barpolar\":[{\"marker\":{\"line\":{\"color\":\"#E5ECF6\",\"width\":0.5},\"pattern\":{\"fillmode\":\"overlay\",\"size\":10,\"solidity\":0.2}},\"type\":\"barpolar\"}],\"carpet\":[{\"aaxis\":{\"endlinecolor\":\"#2a3f5f\",\"gridcolor\":\"white\",\"linecolor\":\"white\",\"minorgridcolor\":\"white\",\"startlinecolor\":\"#2a3f5f\"},\"baxis\":{\"endlinecolor\":\"#2a3f5f\",\"gridcolor\":\"white\",\"linecolor\":\"white\",\"minorgridcolor\":\"white\",\"startlinecolor\":\"#2a3f5f\"},\"type\":\"carpet\"}],\"choropleth\":[{\"colorbar\":{\"outlinewidth\":0,\"ticks\":\"\"},\"type\":\"choropleth\"}],\"contour\":[{\"colorbar\":{\"outlinewidth\":0,\"ticks\":\"\"},\"colorscale\":[[0.0,\"#0d0887\"],[0.1111111111111111,\"#46039f\"],[0.2222222222222222,\"#7201a8\"],[0.3333333333333333,\"#9c179e\"],[0.4444444444444444,\"#bd3786\"],[0.5555555555555556,\"#d8576b\"],[0.6666666666666666,\"#ed7953\"],[0.7777777777777778,\"#fb9f3a\"],[0.8888888888888888,\"#fdca26\"],[1.0,\"#f0f921\"]],\"type\":\"contour\"}],\"contourcarpet\":[{\"colorbar\":{\"outlinewidth\":0,\"ticks\":\"\"},\"type\":\"contourcarpet\"}],\"heatmap\":[{\"colorbar\":{\"outlinewidth\":0,\"ticks\":\"\"},\"colorscale\":[[0.0,\"#0d0887\"],[0.1111111111111111,\"#46039f\"],[0.2222222222222222,\"#7201a8\"],[0.3333333333333333,\"#9c179e\"],[0.4444444444444444,\"#bd3786\"],[0.5555555555555556,\"#d8576b\"],[0.6666666666666666,\"#ed7953\"],[0.7777777777777778,\"#fb9f3a\"],[0.8888888888888888,\"#fdca26\"],[1.0,\"#f0f921\"]],\"type\":\"heatmap\"}],\"heatmapgl\":[{\"colorbar\":{\"outlinewidth\":0,\"ticks\":\"\"},\"colorscale\":[[0.0,\"#0d0887\"],[0.1111111111111111,\"#46039f\"],[0.2222222222222222,\"#7201a8\"],[0.3333333333333333,\"#9c179e\"],[0.4444444444444444,\"#bd3786\"],[0.5555555555555556,\"#d8576b\"],[0.6666666666666666,\"#ed7953\"],[0.7777777777777778,\"#fb9f3a\"],[0.8888888888888888,\"#fdca26\"],[1.0,\"#f0f921\"]],\"type\":\"heatmapgl\"}],\"histogram\":[{\"marker\":{\"pattern\":{\"fillmode\":\"overlay\",\"size\":10,\"solidity\":0.2}},\"type\":\"histogram\"}],\"histogram2d\":[{\"colorbar\":{\"outlinewidth\":0,\"ticks\":\"\"},\"colorscale\":[[0.0,\"#0d0887\"],[0.1111111111111111,\"#46039f\"],[0.2222222222222222,\"#7201a8\"],[0.3333333333333333,\"#9c179e\"],[0.4444444444444444,\"#bd3786\"],[0.5555555555555556,\"#d8576b\"],[0.6666666666666666,\"#ed7953\"],[0.7777777777777778,\"#fb9f3a\"],[0.8888888888888888,\"#fdca26\"],[1.0,\"#f0f921\"]],\"type\":\"histogram2d\"}],\"histogram2dcontour\":[{\"colorbar\":{\"outlinewidth\":0,\"ticks\":\"\"},\"colorscale\":[[0.0,\"#0d0887\"],[0.1111111111111111,\"#46039f\"],[0.2222222222222222,\"#7201a8\"],[0.3333333333333333,\"#9c179e\"],[0.4444444444444444,\"#bd3786\"],[0.5555555555555556,\"#d8576b\"],[0.6666666666666666,\"#ed7953\"],[0.7777777777777778,\"#fb9f3a\"],[0.8888888888888888,\"#fdca26\"],[1.0,\"#f0f921\"]],\"type\":\"histogram2dcontour\"}],\"mesh3d\":[{\"colorbar\":{\"outlinewidth\":0,\"ticks\":\"\"},\"type\":\"mesh3d\"}],\"parcoords\":[{\"line\":{\"colorbar\":{\"outlinewidth\":0,\"ticks\":\"\"}},\"type\":\"parcoords\"}],\"pie\":[{\"automargin\":true,\"type\":\"pie\"}],\"scatter\":[{\"marker\":{\"colorbar\":{\"outlinewidth\":0,\"ticks\":\"\"}},\"type\":\"scatter\"}],\"scatter3d\":[{\"line\":{\"colorbar\":{\"outlinewidth\":0,\"ticks\":\"\"}},\"marker\":{\"colorbar\":{\"outlinewidth\":0,\"ticks\":\"\"}},\"type\":\"scatter3d\"}],\"scattercarpet\":[{\"marker\":{\"colorbar\":{\"outlinewidth\":0,\"ticks\":\"\"}},\"type\":\"scattercarpet\"}],\"scattergeo\":[{\"marker\":{\"colorbar\":{\"outlinewidth\":0,\"ticks\":\"\"}},\"type\":\"scattergeo\"}],\"scattergl\":[{\"marker\":{\"colorbar\":{\"outlinewidth\":0,\"ticks\":\"\"}},\"type\":\"scattergl\"}],\"scattermapbox\":[{\"marker\":{\"colorbar\":{\"outlinewidth\":0,\"ticks\":\"\"}},\"type\":\"scattermapbox\"}],\"scatterpolar\":[{\"marker\":{\"colorbar\":{\"outlinewidth\":0,\"ticks\":\"\"}},\"type\":\"scatterpolar\"}],\"scatterpolargl\":[{\"marker\":{\"colorbar\":{\"outlinewidth\":0,\"ticks\":\"\"}},\"type\":\"scatterpolargl\"}],\"scatterternary\":[{\"marker\":{\"colorbar\":{\"outlinewidth\":0,\"ticks\":\"\"}},\"type\":\"scatterternary\"}],\"surface\":[{\"colorbar\":{\"outlinewidth\":0,\"ticks\":\"\"},\"colorscale\":[[0.0,\"#0d0887\"],[0.1111111111111111,\"#46039f\"],[0.2222222222222222,\"#7201a8\"],[0.3333333333333333,\"#9c179e\"],[0.4444444444444444,\"#bd3786\"],[0.5555555555555556,\"#d8576b\"],[0.6666666666666666,\"#ed7953\"],[0.7777777777777778,\"#fb9f3a\"],[0.8888888888888888,\"#fdca26\"],[1.0,\"#f0f921\"]],\"type\":\"surface\"}],\"table\":[{\"cells\":{\"fill\":{\"color\":\"#EBF0F8\"},\"line\":{\"color\":\"white\"}},\"header\":{\"fill\":{\"color\":\"#C8D4E3\"},\"line\":{\"color\":\"white\"}},\"type\":\"table\"}]},\"layout\":{\"annotationdefaults\":{\"arrowcolor\":\"#2a3f5f\",\"arrowhead\":0,\"arrowwidth\":1},\"autotypenumbers\":\"strict\",\"coloraxis\":{\"colorbar\":{\"outlinewidth\":0,\"ticks\":\"\"}},\"colorscale\":{\"diverging\":[[0,\"#8e0152\"],[0.1,\"#c51b7d\"],[0.2,\"#de77ae\"],[0.3,\"#f1b6da\"],[0.4,\"#fde0ef\"],[0.5,\"#f7f7f7\"],[0.6,\"#e6f5d0\"],[0.7,\"#b8e186\"],[0.8,\"#7fbc41\"],[0.9,\"#4d9221\"],[1,\"#276419\"]],\"sequential\":[[0.0,\"#0d0887\"],[0.1111111111111111,\"#46039f\"],[0.2222222222222222,\"#7201a8\"],[0.3333333333333333,\"#9c179e\"],[0.4444444444444444,\"#bd3786\"],[0.5555555555555556,\"#d8576b\"],[0.6666666666666666,\"#ed7953\"],[0.7777777777777778,\"#fb9f3a\"],[0.8888888888888888,\"#fdca26\"],[1.0,\"#f0f921\"]],\"sequentialminus\":[[0.0,\"#0d0887\"],[0.1111111111111111,\"#46039f\"],[0.2222222222222222,\"#7201a8\"],[0.3333333333333333,\"#9c179e\"],[0.4444444444444444,\"#bd3786\"],[0.5555555555555556,\"#d8576b\"],[0.6666666666666666,\"#ed7953\"],[0.7777777777777778,\"#fb9f3a\"],[0.8888888888888888,\"#fdca26\"],[1.0,\"#f0f921\"]]},\"colorway\":[\"#636efa\",\"#EF553B\",\"#00cc96\",\"#ab63fa\",\"#FFA15A\",\"#19d3f3\",\"#FF6692\",\"#B6E880\",\"#FF97FF\",\"#FECB52\"],\"font\":{\"color\":\"#2a3f5f\"},\"geo\":{\"bgcolor\":\"white\",\"lakecolor\":\"white\",\"landcolor\":\"#E5ECF6\",\"showlakes\":true,\"showland\":true,\"subunitcolor\":\"white\"},\"hoverlabel\":{\"align\":\"left\"},\"hovermode\":\"closest\",\"mapbox\":{\"style\":\"light\"},\"paper_bgcolor\":\"white\",\"plot_bgcolor\":\"#E5ECF6\",\"polar\":{\"angularaxis\":{\"gridcolor\":\"white\",\"linecolor\":\"white\",\"ticks\":\"\"},\"bgcolor\":\"#E5ECF6\",\"radialaxis\":{\"gridcolor\":\"white\",\"linecolor\":\"white\",\"ticks\":\"\"}},\"scene\":{\"xaxis\":{\"backgroundcolor\":\"#E5ECF6\",\"gridcolor\":\"white\",\"gridwidth\":2,\"linecolor\":\"white\",\"showbackground\":true,\"ticks\":\"\",\"zerolinecolor\":\"white\"},\"yaxis\":{\"backgroundcolor\":\"#E5ECF6\",\"gridcolor\":\"white\",\"gridwidth\":2,\"linecolor\":\"white\",\"showbackground\":true,\"ticks\":\"\",\"zerolinecolor\":\"white\"},\"zaxis\":{\"backgroundcolor\":\"#E5ECF6\",\"gridcolor\":\"white\",\"gridwidth\":2,\"linecolor\":\"white\",\"showbackground\":true,\"ticks\":\"\",\"zerolinecolor\":\"white\"}},\"shapedefaults\":{\"line\":{\"color\":\"#2a3f5f\"}},\"ternary\":{\"aaxis\":{\"gridcolor\":\"white\",\"linecolor\":\"white\",\"ticks\":\"\"},\"baxis\":{\"gridcolor\":\"white\",\"linecolor\":\"white\",\"ticks\":\"\"},\"bgcolor\":\"#E5ECF6\",\"caxis\":{\"gridcolor\":\"white\",\"linecolor\":\"white\",\"ticks\":\"\"}},\"title\":{\"x\":0.05},\"xaxis\":{\"automargin\":true,\"gridcolor\":\"white\",\"linecolor\":\"white\",\"ticks\":\"\",\"title\":{\"standoff\":15},\"zerolinecolor\":\"white\",\"zerolinewidth\":2},\"yaxis\":{\"automargin\":true,\"gridcolor\":\"white\",\"linecolor\":\"white\",\"ticks\":\"\",\"title\":{\"standoff\":15},\"zerolinecolor\":\"white\",\"zerolinewidth\":2}}},\"title\":{\"text\":\"Continuous, variable value error bars\"},\"xaxis\":{\"title\":{\"text\":\"X Achse\"}},\"yaxis\":{\"title\":{\"text\":\"Y Achse\"}}},                        {\"responsive\": true}                    ).then(function(){\n                            \nvar gd = document.getElementById('0e2dadd2-897a-47ab-a594-a4a962a3bfa7');\nvar x = new MutationObserver(function (mutations, observer) {{\n        var display = window.getComputedStyle(gd).display;\n        if (!display || display === 'none') {{\n            console.log([gd, 'removed!']);\n            Plotly.purge(gd);\n            observer.disconnect();\n        }}\n}});\n\n// Listen for the removal of the full notebook cells\nvar notebookContainer = gd.closest('#notebook-container');\nif (notebookContainer) {{\n    x.observe(notebookContainer, {childList: true});\n}}\n\n// Listen for the clearing of the current output cell\nvar outputEl = gd.closest('.output');\nif (outputEl) {{\n    x.observe(outputEl, {childList: true});\n}}\n\n                        })                };                });            </script>        </div>"
     },
     "metadata": {},
     "output_type": "display_data"
    }
   ],
   "source": [
    "myFig = go.Figure([\n",
    "    go.Scatter(\n",
    "        name='Mittelwert',\n",
    "        #x=df['tick'],\n",
    "        y=df['mean'],\n",
    "        mode='lines',\n",
    "        line=dict(color='rgb(31, 119, 255)'),\n",
    "    ),\n",
    "    go.Scatter(\n",
    "        name='Konfidenzintervall',\n",
    "        #x=df['tick'],\n",
    "        y=df['ci95_hi'],\n",
    "        mode='lines',\n",
    "        marker=dict(color=\"#644\"),\n",
    "        line=dict(width=0),\n",
    "        showlegend=True\n",
    "    ),\n",
    "    go.Scatter(\n",
    "        name='Konfidenzintervall',\n",
    "        #x=df['tick'],\n",
    "        y=df['ci95_lo'],\n",
    "        marker=dict(color=\"#448\"),\n",
    "        line=dict(width=0),\n",
    "        mode='lines',\n",
    "        fillcolor='rgba(130, 68, 68, 0.5)',\n",
    "        fill='tonexty',\n",
    "        showlegend=True\n",
    "    )\n",
    "])\n",
    "myFig.update_layout(\n",
    "    xaxis_title='X Achse',\n",
    "    yaxis_title='Y Achse',\n",
    "    title='Continuous, variable value error bars',\n",
    "    hovermode=\"x\"\n",
    ")\n",
    "myFig.show()\n"
   ],
   "metadata": {
    "collapsed": false,
    "pycharm": {
     "name": "#%%\n"
    }
   }
  },
  {
   "cell_type": "markdown",
   "source": [
    "## add groups somehow\n",
    "\n",
    "### simple example with facet without aggregated data"
   ],
   "metadata": {
    "collapsed": false,
    "pycharm": {
     "name": "#%% md\n"
    }
   }
  },
  {
   "cell_type": "code",
   "execution_count": 48,
   "outputs": [
    {
     "data": {
      "text/plain": "Float64Index([  1.0,   4.0,   7.0,  10.0,  13.0,  16.0,  19.0,  22.0,  25.0,\n               28.0,  31.0,  34.0,  37.0,  40.0,  43.0,  46.0,  49.0,  52.0,\n               55.0,  58.0,  61.0,  64.0,  67.0,  70.0,  73.0,  76.0,  79.0,\n               82.0,  85.0,  88.0,  91.0,  94.0,  97.0, 100.0, 103.0, 106.0,\n              109.0, 112.0, 115.0, 118.0, 121.0, 124.0, 127.0, 130.0, 133.0,\n              136.0, 139.0, 142.0, 145.0, 148.0, 151.0, 154.0, 157.0, 160.0,\n              163.0, 166.0, 169.0, 172.0, 175.0, 178.0, 181.0, 184.0, 187.0,\n              190.0, 193.0, 196.0, 199.0, 202.0, 205.0, 208.0, 211.0, 214.0,\n              217.0, 220.0, 223.0, 226.0, 229.0, 232.0, 235.0, 238.0, 241.0,\n              244.0, 247.0, 250.0, 253.0, 256.0, 259.0, 262.0, 265.0, 268.0],\n             dtype='float64', name='tick')"
     },
     "execution_count": 48,
     "metadata": {},
     "output_type": "execute_result"
    }
   ],
   "source": [
    "#since there is a multi index - unstack it or reset the index\n",
    "unstacked_df = df.unstack().unstack()\n",
    "unstacked_df.index"
   ],
   "metadata": {
    "collapsed": false,
    "pycharm": {
     "name": "#%%\n"
    }
   }
  },
  {
   "cell_type": "code",
   "execution_count": 289,
   "outputs": [
    {
     "data": {
      "text/plain": "                   mean                                                    \\\nsecond_factor     False                                              True   \nfirst_factor       0.00      0.25      0.50      0.75      1.00      0.00   \ntick                                                                        \n1.0            0.489803  0.490416  0.490133  0.489885  0.488866  0.489626   \n4.0            0.488716  0.489065  0.488002  0.487067  0.485057  0.488422   \n7.0            0.511058  0.511473  0.509371  0.506627  0.503089  0.510987   \n10.0           0.523585  0.523010  0.520745  0.516340  0.511508  0.523522   \n13.0           0.529790  0.529145  0.526324  0.521131  0.515102  0.529717   \n...                 ...       ...       ...       ...       ...       ...   \n256.0          0.472182  0.470953  0.466967  0.459275  0.449851  0.471876   \n259.0          0.472228  0.471003  0.466782  0.458770  0.449892  0.472070   \n262.0          0.471863  0.470836  0.466849  0.458823  0.450164  0.471691   \n265.0          0.471950  0.470750  0.466526  0.459432  0.450033  0.471840   \n268.0          0.472227  0.470671  0.466856  0.459094  0.449855  0.471280   \n\n                                                       ...   ci95_hi  \\\nsecond_factor                                          ...     False   \nfirst_factor       0.25      0.50      0.75      1.00  ...      0.00   \ntick                                                   ...             \n1.0            0.490440  0.489943  0.490460  0.489522  ...  0.491335   \n4.0            0.488662  0.488433  0.489186  0.487108  ...  0.490237   \n7.0            0.511263  0.510663  0.510664  0.507799  ...  0.512361   \n10.0           0.523245  0.522637  0.521793  0.518644  ...  0.524797   \n13.0           0.529487  0.528493  0.527613  0.524051  ...  0.530708   \n...                 ...       ...       ...       ...  ...       ...   \n256.0          0.471550  0.470163  0.467836  0.464328  ...  0.472467   \n259.0          0.471351  0.470033  0.467796  0.464311  ...  0.472612   \n262.0          0.471424  0.470263  0.467961  0.463980  ...  0.472253   \n265.0          0.471333  0.469953  0.467803  0.464111  ...  0.472289   \n268.0          0.471338  0.469987  0.467484  0.464206  ...  0.472686   \n\n                                                                           \\\nsecond_factor                                              True             \nfirst_factor       0.25      0.50      0.75      1.00      0.00      0.25   \ntick                                                                        \n1.0            0.491557  0.491493  0.491046  0.490338  0.491348  0.491759   \n4.0            0.490311  0.489323  0.488222  0.486439  0.490099  0.489686   \n7.0            0.512636  0.510504  0.507665  0.504213  0.512432  0.512478   \n10.0           0.523793  0.521694  0.517392  0.512616  0.524593  0.524269   \n13.0           0.529870  0.527163  0.522031  0.516042  0.530664  0.530366   \n...                 ...       ...       ...       ...       ...       ...   \n256.0          0.471358  0.467393  0.459926  0.450490  0.472234  0.471951   \n259.0          0.471394  0.467142  0.459435  0.450710  0.472476  0.471645   \n262.0          0.471178  0.467348  0.459474  0.450816  0.472003  0.471794   \n265.0          0.471163  0.467080  0.460030  0.450687  0.472234  0.471719   \n268.0          0.471131  0.467354  0.459695  0.450508  0.471654  0.471857   \n\n                                             \nsecond_factor                                \nfirst_factor       0.50      0.75      1.00  \ntick                                         \n1.0            0.491177  0.491566  0.490438  \n4.0            0.489601  0.490297  0.487948  \n7.0            0.511820  0.511758  0.508655  \n10.0           0.523689  0.522674  0.519426  \n13.0           0.529388  0.528385  0.524803  \n...                 ...       ...       ...  \n256.0          0.470543  0.468384  0.464836  \n259.0          0.470530  0.468287  0.464785  \n262.0          0.470630  0.468399  0.464483  \n265.0          0.470329  0.468263  0.464580  \n268.0          0.470346  0.468015  0.464657  \n\n[90 rows x 80 columns]",
      "text/html": "<div>\n<style scoped>\n    .dataframe tbody tr th:only-of-type {\n        vertical-align: middle;\n    }\n\n    .dataframe tbody tr th {\n        vertical-align: top;\n    }\n\n    .dataframe thead tr th {\n        text-align: left;\n    }\n\n    .dataframe thead tr:last-of-type th {\n        text-align: right;\n    }\n</style>\n<table border=\"1\" class=\"dataframe\">\n  <thead>\n    <tr>\n      <th></th>\n      <th colspan=\"10\" halign=\"left\">mean</th>\n      <th>...</th>\n      <th colspan=\"10\" halign=\"left\">ci95_hi</th>\n    </tr>\n    <tr>\n      <th>second_factor</th>\n      <th colspan=\"5\" halign=\"left\">False</th>\n      <th colspan=\"5\" halign=\"left\">True</th>\n      <th>...</th>\n      <th colspan=\"5\" halign=\"left\">False</th>\n      <th colspan=\"5\" halign=\"left\">True</th>\n    </tr>\n    <tr>\n      <th>first_factor</th>\n      <th>0.00</th>\n      <th>0.25</th>\n      <th>0.50</th>\n      <th>0.75</th>\n      <th>1.00</th>\n      <th>0.00</th>\n      <th>0.25</th>\n      <th>0.50</th>\n      <th>0.75</th>\n      <th>1.00</th>\n      <th>...</th>\n      <th>0.00</th>\n      <th>0.25</th>\n      <th>0.50</th>\n      <th>0.75</th>\n      <th>1.00</th>\n      <th>0.00</th>\n      <th>0.25</th>\n      <th>0.50</th>\n      <th>0.75</th>\n      <th>1.00</th>\n    </tr>\n    <tr>\n      <th>tick</th>\n      <th></th>\n      <th></th>\n      <th></th>\n      <th></th>\n      <th></th>\n      <th></th>\n      <th></th>\n      <th></th>\n      <th></th>\n      <th></th>\n      <th></th>\n      <th></th>\n      <th></th>\n      <th></th>\n      <th></th>\n      <th></th>\n      <th></th>\n      <th></th>\n      <th></th>\n      <th></th>\n      <th></th>\n    </tr>\n  </thead>\n  <tbody>\n    <tr>\n      <th>1.0</th>\n      <td>0.489803</td>\n      <td>0.490416</td>\n      <td>0.490133</td>\n      <td>0.489885</td>\n      <td>0.488866</td>\n      <td>0.489626</td>\n      <td>0.490440</td>\n      <td>0.489943</td>\n      <td>0.490460</td>\n      <td>0.489522</td>\n      <td>...</td>\n      <td>0.491335</td>\n      <td>0.491557</td>\n      <td>0.491493</td>\n      <td>0.491046</td>\n      <td>0.490338</td>\n      <td>0.491348</td>\n      <td>0.491759</td>\n      <td>0.491177</td>\n      <td>0.491566</td>\n      <td>0.490438</td>\n    </tr>\n    <tr>\n      <th>4.0</th>\n      <td>0.488716</td>\n      <td>0.489065</td>\n      <td>0.488002</td>\n      <td>0.487067</td>\n      <td>0.485057</td>\n      <td>0.488422</td>\n      <td>0.488662</td>\n      <td>0.488433</td>\n      <td>0.489186</td>\n      <td>0.487108</td>\n      <td>...</td>\n      <td>0.490237</td>\n      <td>0.490311</td>\n      <td>0.489323</td>\n      <td>0.488222</td>\n      <td>0.486439</td>\n      <td>0.490099</td>\n      <td>0.489686</td>\n      <td>0.489601</td>\n      <td>0.490297</td>\n      <td>0.487948</td>\n    </tr>\n    <tr>\n      <th>7.0</th>\n      <td>0.511058</td>\n      <td>0.511473</td>\n      <td>0.509371</td>\n      <td>0.506627</td>\n      <td>0.503089</td>\n      <td>0.510987</td>\n      <td>0.511263</td>\n      <td>0.510663</td>\n      <td>0.510664</td>\n      <td>0.507799</td>\n      <td>...</td>\n      <td>0.512361</td>\n      <td>0.512636</td>\n      <td>0.510504</td>\n      <td>0.507665</td>\n      <td>0.504213</td>\n      <td>0.512432</td>\n      <td>0.512478</td>\n      <td>0.511820</td>\n      <td>0.511758</td>\n      <td>0.508655</td>\n    </tr>\n    <tr>\n      <th>10.0</th>\n      <td>0.523585</td>\n      <td>0.523010</td>\n      <td>0.520745</td>\n      <td>0.516340</td>\n      <td>0.511508</td>\n      <td>0.523522</td>\n      <td>0.523245</td>\n      <td>0.522637</td>\n      <td>0.521793</td>\n      <td>0.518644</td>\n      <td>...</td>\n      <td>0.524797</td>\n      <td>0.523793</td>\n      <td>0.521694</td>\n      <td>0.517392</td>\n      <td>0.512616</td>\n      <td>0.524593</td>\n      <td>0.524269</td>\n      <td>0.523689</td>\n      <td>0.522674</td>\n      <td>0.519426</td>\n    </tr>\n    <tr>\n      <th>13.0</th>\n      <td>0.529790</td>\n      <td>0.529145</td>\n      <td>0.526324</td>\n      <td>0.521131</td>\n      <td>0.515102</td>\n      <td>0.529717</td>\n      <td>0.529487</td>\n      <td>0.528493</td>\n      <td>0.527613</td>\n      <td>0.524051</td>\n      <td>...</td>\n      <td>0.530708</td>\n      <td>0.529870</td>\n      <td>0.527163</td>\n      <td>0.522031</td>\n      <td>0.516042</td>\n      <td>0.530664</td>\n      <td>0.530366</td>\n      <td>0.529388</td>\n      <td>0.528385</td>\n      <td>0.524803</td>\n    </tr>\n    <tr>\n      <th>...</th>\n      <td>...</td>\n      <td>...</td>\n      <td>...</td>\n      <td>...</td>\n      <td>...</td>\n      <td>...</td>\n      <td>...</td>\n      <td>...</td>\n      <td>...</td>\n      <td>...</td>\n      <td>...</td>\n      <td>...</td>\n      <td>...</td>\n      <td>...</td>\n      <td>...</td>\n      <td>...</td>\n      <td>...</td>\n      <td>...</td>\n      <td>...</td>\n      <td>...</td>\n      <td>...</td>\n    </tr>\n    <tr>\n      <th>256.0</th>\n      <td>0.472182</td>\n      <td>0.470953</td>\n      <td>0.466967</td>\n      <td>0.459275</td>\n      <td>0.449851</td>\n      <td>0.471876</td>\n      <td>0.471550</td>\n      <td>0.470163</td>\n      <td>0.467836</td>\n      <td>0.464328</td>\n      <td>...</td>\n      <td>0.472467</td>\n      <td>0.471358</td>\n      <td>0.467393</td>\n      <td>0.459926</td>\n      <td>0.450490</td>\n      <td>0.472234</td>\n      <td>0.471951</td>\n      <td>0.470543</td>\n      <td>0.468384</td>\n      <td>0.464836</td>\n    </tr>\n    <tr>\n      <th>259.0</th>\n      <td>0.472228</td>\n      <td>0.471003</td>\n      <td>0.466782</td>\n      <td>0.458770</td>\n      <td>0.449892</td>\n      <td>0.472070</td>\n      <td>0.471351</td>\n      <td>0.470033</td>\n      <td>0.467796</td>\n      <td>0.464311</td>\n      <td>...</td>\n      <td>0.472612</td>\n      <td>0.471394</td>\n      <td>0.467142</td>\n      <td>0.459435</td>\n      <td>0.450710</td>\n      <td>0.472476</td>\n      <td>0.471645</td>\n      <td>0.470530</td>\n      <td>0.468287</td>\n      <td>0.464785</td>\n    </tr>\n    <tr>\n      <th>262.0</th>\n      <td>0.471863</td>\n      <td>0.470836</td>\n      <td>0.466849</td>\n      <td>0.458823</td>\n      <td>0.450164</td>\n      <td>0.471691</td>\n      <td>0.471424</td>\n      <td>0.470263</td>\n      <td>0.467961</td>\n      <td>0.463980</td>\n      <td>...</td>\n      <td>0.472253</td>\n      <td>0.471178</td>\n      <td>0.467348</td>\n      <td>0.459474</td>\n      <td>0.450816</td>\n      <td>0.472003</td>\n      <td>0.471794</td>\n      <td>0.470630</td>\n      <td>0.468399</td>\n      <td>0.464483</td>\n    </tr>\n    <tr>\n      <th>265.0</th>\n      <td>0.471950</td>\n      <td>0.470750</td>\n      <td>0.466526</td>\n      <td>0.459432</td>\n      <td>0.450033</td>\n      <td>0.471840</td>\n      <td>0.471333</td>\n      <td>0.469953</td>\n      <td>0.467803</td>\n      <td>0.464111</td>\n      <td>...</td>\n      <td>0.472289</td>\n      <td>0.471163</td>\n      <td>0.467080</td>\n      <td>0.460030</td>\n      <td>0.450687</td>\n      <td>0.472234</td>\n      <td>0.471719</td>\n      <td>0.470329</td>\n      <td>0.468263</td>\n      <td>0.464580</td>\n    </tr>\n    <tr>\n      <th>268.0</th>\n      <td>0.472227</td>\n      <td>0.470671</td>\n      <td>0.466856</td>\n      <td>0.459094</td>\n      <td>0.449855</td>\n      <td>0.471280</td>\n      <td>0.471338</td>\n      <td>0.469987</td>\n      <td>0.467484</td>\n      <td>0.464206</td>\n      <td>...</td>\n      <td>0.472686</td>\n      <td>0.471131</td>\n      <td>0.467354</td>\n      <td>0.459695</td>\n      <td>0.450508</td>\n      <td>0.471654</td>\n      <td>0.471857</td>\n      <td>0.470346</td>\n      <td>0.468015</td>\n      <td>0.464657</td>\n    </tr>\n  </tbody>\n</table>\n<p>90 rows × 80 columns</p>\n</div>"
     },
     "execution_count": 289,
     "metadata": {},
     "output_type": "execute_result"
    }
   ],
   "source": [
    "unstacked_df"
   ],
   "metadata": {
    "collapsed": false,
    "pycharm": {
     "name": "#%%\n"
    }
   }
  },
  {
   "cell_type": "code",
   "execution_count": 50,
   "outputs": [
    {
     "data": {
      "text/plain": "RangeIndex(start=0, stop=900, step=1)"
     },
     "execution_count": 50,
     "metadata": {},
     "output_type": "execute_result"
    }
   ],
   "source": [
    "reset_df = df.reset_index()\n",
    "reset_df.index"
   ],
   "metadata": {
    "collapsed": false,
    "pycharm": {
     "name": "#%%\n"
    }
   }
  },
  {
   "cell_type": "code",
   "execution_count": 274,
   "outputs": [
    {
     "name": "stderr",
     "output_type": "stream",
     "text": [
      "c:\\users\\kaub\\plotlygroupby\\lib\\site-packages\\pandas\\io\\formats\\format.py:1429: FutureWarning:\n",
      "\n",
      "Index.ravel returning ndarray is deprecated; in a future version this will return a view on self.\n",
      "\n"
     ]
    },
    {
     "data": {
      "text/plain": "0    0.00\n2    0.25\n4    0.50\n6    0.75\n8    1.00\nName: first_factor, dtype: category\nCategories (5, float64): [0.00, 0.25, 0.50, 0.75, 1.00]"
     },
     "execution_count": 274,
     "metadata": {},
     "output_type": "execute_result"
    }
   ],
   "source": [
    "first_factor = reset_df[\"first_factor\"]\n",
    "first_factor = first_factor.drop_duplicates()\n",
    "first_factor"
   ],
   "metadata": {
    "collapsed": false,
    "pycharm": {
     "name": "#%%\n"
    }
   }
  },
  {
   "cell_type": "code",
   "execution_count": 275,
   "outputs": [
    {
     "data": {
      "text/plain": "0    False\n1     True\nName: second_factor, dtype: bool"
     },
     "execution_count": 275,
     "metadata": {},
     "output_type": "execute_result"
    }
   ],
   "source": [
    "second_factor = reset_df[\"second_factor\"]\n",
    "second_factor = second_factor.drop_duplicates()\n",
    "#second_factor"
   ],
   "metadata": {
    "collapsed": false,
    "pycharm": {
     "name": "#%%\n"
    }
   }
  },
  {
   "cell_type": "code",
   "execution_count": 288,
   "outputs": [
    {
     "data": {
      "text/plain": "5      0.489943\n15     0.488433\n25     0.510663\n35     0.522637\n45     0.528493\n         ...   \n855    0.470163\n865    0.470033\n875    0.470263\n885    0.469953\n895    0.469987\nName: mean, Length: 90, dtype: float64"
     },
     "execution_count": 288,
     "metadata": {},
     "output_type": "execute_result"
    }
   ],
   "source": [
    "#select data where second factor is true\n",
    "#row / column\n",
    "one_experiment = reset_df.loc[(reset_df[\"first_factor\"] == 0.5) & reset_df[\"second_factor\"] == True]\n",
    "one_experiment[\"mean\"]\n",
    "#help(df.loc)"
   ],
   "metadata": {
    "collapsed": false,
    "pycharm": {
     "name": "#%%\n"
    }
   }
  },
  {
   "cell_type": "code",
   "execution_count": 280,
   "outputs": [
    {
     "data": {
      "text/plain": "pandas.core.series.Series"
     },
     "execution_count": 280,
     "metadata": {},
     "output_type": "execute_result"
    }
   ],
   "source": [
    "#set social pressure effect as factor:\n",
    "#type(reset_df['SOCIAL_PRESSURE_EFFECT'])\n",
    "reset_df['first_factor'] = reset_df['first_factor'].astype('category')\n",
    "type(reset_df['first_factor'])"
   ],
   "metadata": {
    "collapsed": false,
    "pycharm": {
     "name": "#%%\n"
    }
   }
  },
  {
   "cell_type": "code",
   "execution_count": 272,
   "outputs": [
    {
     "ename": "AttributeError",
     "evalue": "'Figure' object has no attribute 'unique'",
     "output_type": "error",
     "traceback": [
      "\u001B[1;31m---------------------------------------------------------------------------\u001B[0m",
      "\u001B[1;31mAttributeError\u001B[0m                            Traceback (most recent call last)",
      "\u001B[1;32m~\\AppData\\Local\\Temp/ipykernel_12500/2446548709.py\u001B[0m in \u001B[0;36m<module>\u001B[1;34m\u001B[0m\n\u001B[0;32m      1\u001B[0m \u001B[1;31m#plot code!\u001B[0m\u001B[1;33m\u001B[0m\u001B[1;33m\u001B[0m\u001B[1;33m\u001B[0m\u001B[0m\n\u001B[0;32m      2\u001B[0m \u001B[0mmean_plot\u001B[0m \u001B[1;33m=\u001B[0m \u001B[0mpx\u001B[0m\u001B[1;33m.\u001B[0m\u001B[0mline\u001B[0m\u001B[1;33m(\u001B[0m\u001B[0mreset_df\u001B[0m\u001B[1;33m,\u001B[0m \u001B[0my\u001B[0m\u001B[1;33m=\u001B[0m\u001B[1;34m\"mean\"\u001B[0m\u001B[1;33m)\u001B[0m\u001B[1;31m#, facet_row=\"yetAnother\"\u001B[0m\u001B[1;33m\u001B[0m\u001B[1;33m\u001B[0m\u001B[0m\n\u001B[1;32m----> 3\u001B[1;33m \u001B[0mmean_plot\u001B[0m\u001B[1;33m.\u001B[0m\u001B[0munique\u001B[0m\u001B[1;33m(\u001B[0m\u001B[1;33m)\u001B[0m\u001B[1;33m\u001B[0m\u001B[1;33m\u001B[0m\u001B[0m\n\u001B[0m\u001B[0;32m      4\u001B[0m \u001B[1;33m\u001B[0m\u001B[0m\n",
      "\u001B[1;31mAttributeError\u001B[0m: 'Figure' object has no attribute 'unique'"
     ]
    }
   ],
   "source": [
    "#plot code!\n",
    "mean_plot = px.line(reset_df, y=\"mean\")#, facet_row=\"yetAnother\"\n",
    "mean_plot.unique()"
   ],
   "metadata": {
    "collapsed": false,
    "pycharm": {
     "name": "#%%\n"
    }
   }
  },
  {
   "cell_type": "code",
   "execution_count": 73,
   "outputs": [
    {
     "data": {
      "application/vnd.plotly.v1+json": {
       "config": {
        "plotlyServerURL": "https://plot.ly"
       },
       "data": [
        {
         "hovertemplate": "first_factor=0.0<br>second_factor=False<br>tick=%{x}<br>mean=%{y}<extra></extra>",
         "legendgroup": "0.0",
         "line": {
          "color": "#636efa",
          "dash": "solid"
         },
         "marker": {
          "symbol": "circle"
         },
         "mode": "lines",
         "name": "0.0",
         "orientation": "v",
         "showlegend": true,
         "type": "scatter",
         "x": [
          1.0,
          4.0,
          7.0,
          10.0,
          13.0,
          16.0,
          19.0,
          22.0,
          25.0,
          28.0,
          31.0,
          34.0,
          37.0,
          40.0,
          43.0,
          46.0,
          49.0,
          52.0,
          55.0,
          58.0,
          61.0,
          64.0,
          67.0,
          70.0,
          73.0,
          76.0,
          79.0,
          82.0,
          85.0,
          88.0,
          91.0,
          94.0,
          97.0,
          100.0,
          103.0,
          106.0,
          109.0,
          112.0,
          115.0,
          118.0,
          121.0,
          124.0,
          127.0,
          130.0,
          133.0,
          136.0,
          139.0,
          142.0,
          145.0,
          148.0,
          151.0,
          154.0,
          157.0,
          160.0,
          163.0,
          166.0,
          169.0,
          172.0,
          175.0,
          178.0,
          181.0,
          184.0,
          187.0,
          190.0,
          193.0,
          196.0,
          199.0,
          202.0,
          205.0,
          208.0,
          211.0,
          214.0,
          217.0,
          220.0,
          223.0,
          226.0,
          229.0,
          232.0,
          235.0,
          238.0,
          241.0,
          244.0,
          247.0,
          250.0,
          253.0,
          256.0,
          259.0,
          262.0,
          265.0,
          268.0
         ],
         "xaxis": "x",
         "y": [
          0.4898029948878537,
          0.4887162939873177,
          0.5110577581042366,
          0.5235851694133075,
          0.5297896354998624,
          0.5280153426269958,
          0.5265213016143653,
          0.524757175259221,
          0.521164798530118,
          0.5158980069700112,
          0.5127955738859613,
          0.5097159136364167,
          0.5055253970792817,
          0.5023913699266089,
          0.5001483177909799,
          0.49744330201622083,
          0.49476110207682883,
          0.493011632163519,
          0.4913978276672824,
          0.48998126910421785,
          0.48830511008651956,
          0.48745841939422097,
          0.4866846513531417,
          0.4851845458751745,
          0.4841405963104218,
          0.48378081332604933,
          0.4828762064133152,
          0.4822250963621083,
          0.4816447800072918,
          0.48091946458281704,
          0.48062258871875946,
          0.4800359509269034,
          0.4791318253182379,
          0.4792792549884212,
          0.4786468979458229,
          0.4782096616366414,
          0.47785120719393637,
          0.47771179075861436,
          0.47730984428870804,
          0.47673015435959043,
          0.47690362984788376,
          0.47633785420503055,
          0.4759470287658364,
          0.47630540196240434,
          0.47577632788665514,
          0.47533444347193665,
          0.4751741653363764,
          0.4752553002083644,
          0.4747268074444706,
          0.4747963845666746,
          0.4747794381881975,
          0.47459589889227954,
          0.47420740335020384,
          0.4740764589041059,
          0.47419656457975673,
          0.4737820473652334,
          0.47376119474461303,
          0.47391138499257135,
          0.47379637287106335,
          0.47350883801292515,
          0.473159963420809,
          0.4733547828796737,
          0.4732659512894197,
          0.47302831758533787,
          0.4728679134329468,
          0.4730725116808799,
          0.4726640778144659,
          0.47276495832482274,
          0.4730928088371613,
          0.4727267001326642,
          0.47282313844510165,
          0.472629960816542,
          0.4726633512996034,
          0.47260246091357155,
          0.4724798818995856,
          0.4726215141009168,
          0.4725148904079583,
          0.4724514317741173,
          0.47230883374470173,
          0.47243321267055144,
          0.47227533210920086,
          0.4723109355328852,
          0.4722744312505738,
          0.47214153422350036,
          0.4722155303448118,
          0.47218179796986426,
          0.4722276450975764,
          0.47186338836793895,
          0.47194968939245957,
          0.4722274010325838
         ],
         "yaxis": "y"
        },
        {
         "hovertemplate": "first_factor=0.0<br>second_factor=True<br>tick=%{x}<br>mean=%{y}<extra></extra>",
         "legendgroup": "0.0",
         "line": {
          "color": "#636efa",
          "dash": "solid"
         },
         "marker": {
          "symbol": "circle"
         },
         "mode": "lines",
         "name": "0.0",
         "orientation": "v",
         "showlegend": false,
         "type": "scatter",
         "x": [
          1.0,
          4.0,
          7.0,
          10.0,
          13.0,
          16.0,
          19.0,
          22.0,
          25.0,
          28.0,
          31.0,
          34.0,
          37.0,
          40.0,
          43.0,
          46.0,
          49.0,
          52.0,
          55.0,
          58.0,
          61.0,
          64.0,
          67.0,
          70.0,
          73.0,
          76.0,
          79.0,
          82.0,
          85.0,
          88.0,
          91.0,
          94.0,
          97.0,
          100.0,
          103.0,
          106.0,
          109.0,
          112.0,
          115.0,
          118.0,
          121.0,
          124.0,
          127.0,
          130.0,
          133.0,
          136.0,
          139.0,
          142.0,
          145.0,
          148.0,
          151.0,
          154.0,
          157.0,
          160.0,
          163.0,
          166.0,
          169.0,
          172.0,
          175.0,
          178.0,
          181.0,
          184.0,
          187.0,
          190.0,
          193.0,
          196.0,
          199.0,
          202.0,
          205.0,
          208.0,
          211.0,
          214.0,
          217.0,
          220.0,
          223.0,
          226.0,
          229.0,
          232.0,
          235.0,
          238.0,
          241.0,
          244.0,
          247.0,
          250.0,
          253.0,
          256.0,
          259.0,
          262.0,
          265.0,
          268.0
         ],
         "xaxis": "x2",
         "y": [
          0.4896262993579566,
          0.4884215716688495,
          0.510987468235698,
          0.5235221373247017,
          0.529716540342203,
          0.5282235365265797,
          0.5265242316528825,
          0.5251032802944188,
          0.5215212230032018,
          0.5165158163930138,
          0.5127638504316806,
          0.5095011808693942,
          0.505164931621836,
          0.5018991953946017,
          0.4995929407149579,
          0.49712904187502527,
          0.4946005309516685,
          0.4928975576592308,
          0.49140702262912145,
          0.4893735972353086,
          0.48807462308279403,
          0.48709089673786393,
          0.48625580172642313,
          0.48481817764182433,
          0.48441220970073284,
          0.4834595637894329,
          0.48238073713636254,
          0.48198818086413114,
          0.4813406876406795,
          0.4804812113660242,
          0.4801621538257643,
          0.4799337355779546,
          0.4793869062205013,
          0.47840605987839785,
          0.47800149912106565,
          0.47801530653591395,
          0.47770016030666723,
          0.4771810181628065,
          0.47693553710603237,
          0.47675778524997514,
          0.476137774345528,
          0.4760092547644871,
          0.4758724582547564,
          0.47559663598820945,
          0.4754383447253851,
          0.47542890133370774,
          0.4751633683005777,
          0.47473436594447593,
          0.4745302256322637,
          0.4745484452348238,
          0.4741870485444017,
          0.4744381671023611,
          0.4742707677027077,
          0.4740965308566785,
          0.4737140020139355,
          0.4737117836095753,
          0.47336605118357605,
          0.47351684028643365,
          0.473201088485945,
          0.4734515394615325,
          0.4731876155188381,
          0.47298800994191326,
          0.47316809352352873,
          0.4730113150501979,
          0.47286764633860295,
          0.47282400512338507,
          0.4728387740932734,
          0.4728181807039455,
          0.4725040918097359,
          0.47251961260877967,
          0.47244999423806,
          0.47261125685740824,
          0.4725250115091938,
          0.4727744401075462,
          0.47236648814733895,
          0.4721844500298372,
          0.47217396327521466,
          0.47193317740564994,
          0.4718394153596997,
          0.4721332244987679,
          0.4721409116335246,
          0.4720417094709987,
          0.47183956888516376,
          0.47170885701600745,
          0.4718314262506142,
          0.4718760237837403,
          0.47206968907948227,
          0.47169062071569834,
          0.4718403439572825,
          0.4712802710654488
         ],
         "yaxis": "y2"
        },
        {
         "hovertemplate": "first_factor=0.25<br>second_factor=False<br>tick=%{x}<br>mean=%{y}<extra></extra>",
         "legendgroup": "0.25",
         "line": {
          "color": "#EF553B",
          "dash": "solid"
         },
         "marker": {
          "symbol": "circle"
         },
         "mode": "lines",
         "name": "0.25",
         "orientation": "v",
         "showlegend": true,
         "type": "scatter",
         "x": [
          1.0,
          4.0,
          7.0,
          10.0,
          13.0,
          16.0,
          19.0,
          22.0,
          25.0,
          28.0,
          31.0,
          34.0,
          37.0,
          40.0,
          43.0,
          46.0,
          49.0,
          52.0,
          55.0,
          58.0,
          61.0,
          64.0,
          67.0,
          70.0,
          73.0,
          76.0,
          79.0,
          82.0,
          85.0,
          88.0,
          91.0,
          94.0,
          97.0,
          100.0,
          103.0,
          106.0,
          109.0,
          112.0,
          115.0,
          118.0,
          121.0,
          124.0,
          127.0,
          130.0,
          133.0,
          136.0,
          139.0,
          142.0,
          145.0,
          148.0,
          151.0,
          154.0,
          157.0,
          160.0,
          163.0,
          166.0,
          169.0,
          172.0,
          175.0,
          178.0,
          181.0,
          184.0,
          187.0,
          190.0,
          193.0,
          196.0,
          199.0,
          202.0,
          205.0,
          208.0,
          211.0,
          214.0,
          217.0,
          220.0,
          223.0,
          226.0,
          229.0,
          232.0,
          235.0,
          238.0,
          241.0,
          244.0,
          247.0,
          250.0,
          253.0,
          256.0,
          259.0,
          262.0,
          265.0,
          268.0
         ],
         "xaxis": "x",
         "y": [
          0.49041559500571097,
          0.48906511336142,
          0.5114731344015753,
          0.523009754876382,
          0.529144705890354,
          0.5276901893762582,
          0.5258504719499295,
          0.5241587630423842,
          0.5202709823072601,
          0.5149448805355199,
          0.5114585010429131,
          0.5086628994394335,
          0.5044050689557161,
          0.5013026516102629,
          0.4988763893159048,
          0.49606239567241356,
          0.4934967408555065,
          0.4918414087449156,
          0.4905366944542965,
          0.4886560704412663,
          0.48732144319046405,
          0.4862362376746368,
          0.4847764523919226,
          0.48396135191179174,
          0.48324883381239864,
          0.4822675562775746,
          0.4816403216613337,
          0.48085420139297713,
          0.48012526922761917,
          0.4795830921310555,
          0.47900994816316717,
          0.4786067384336838,
          0.47840470694197346,
          0.4778595628248149,
          0.4774000535418979,
          0.4769293937511388,
          0.47651859255568346,
          0.4760421343009821,
          0.47575385012565286,
          0.4755810082944121,
          0.47513850320902873,
          0.4749428593541027,
          0.47476219123008406,
          0.4741957752360649,
          0.4741889380808009,
          0.4741562696419467,
          0.47415733824739553,
          0.4737071593869596,
          0.4736265682690029,
          0.47357664868910254,
          0.47314011838484377,
          0.47304648773493435,
          0.4732587199694495,
          0.47308270439557787,
          0.47287291541856297,
          0.47268335000339695,
          0.4725493648960748,
          0.47212704170406145,
          0.4722577587064947,
          0.472232827624495,
          0.47203327357471114,
          0.4722099061495738,
          0.472299187176234,
          0.472132334290741,
          0.4717981710442106,
          0.4715056194811298,
          0.4718817267807765,
          0.47160865098822946,
          0.4718529809411277,
          0.4714375124978802,
          0.47153136716334515,
          0.4715379232688918,
          0.47121161961474745,
          0.4712959916783392,
          0.4715089479270296,
          0.47153413322438453,
          0.47123375224006236,
          0.4709486741534981,
          0.47105145661453834,
          0.47133835195316837,
          0.4710085289882499,
          0.4711540665473774,
          0.47103173282226596,
          0.47129385700755155,
          0.4708630300228407,
          0.47095261956527873,
          0.4710031162938426,
          0.4708361890999361,
          0.47075039189376955,
          0.4706713848815541
         ],
         "yaxis": "y"
        },
        {
         "hovertemplate": "first_factor=0.25<br>second_factor=True<br>tick=%{x}<br>mean=%{y}<extra></extra>",
         "legendgroup": "0.25",
         "line": {
          "color": "#EF553B",
          "dash": "solid"
         },
         "marker": {
          "symbol": "circle"
         },
         "mode": "lines",
         "name": "0.25",
         "orientation": "v",
         "showlegend": false,
         "type": "scatter",
         "x": [
          1.0,
          4.0,
          7.0,
          10.0,
          13.0,
          16.0,
          19.0,
          22.0,
          25.0,
          28.0,
          31.0,
          34.0,
          37.0,
          40.0,
          43.0,
          46.0,
          49.0,
          52.0,
          55.0,
          58.0,
          61.0,
          64.0,
          67.0,
          70.0,
          73.0,
          76.0,
          79.0,
          82.0,
          85.0,
          88.0,
          91.0,
          94.0,
          97.0,
          100.0,
          103.0,
          106.0,
          109.0,
          112.0,
          115.0,
          118.0,
          121.0,
          124.0,
          127.0,
          130.0,
          133.0,
          136.0,
          139.0,
          142.0,
          145.0,
          148.0,
          151.0,
          154.0,
          157.0,
          160.0,
          163.0,
          166.0,
          169.0,
          172.0,
          175.0,
          178.0,
          181.0,
          184.0,
          187.0,
          190.0,
          193.0,
          196.0,
          199.0,
          202.0,
          205.0,
          208.0,
          211.0,
          214.0,
          217.0,
          220.0,
          223.0,
          226.0,
          229.0,
          232.0,
          235.0,
          238.0,
          241.0,
          244.0,
          247.0,
          250.0,
          253.0,
          256.0,
          259.0,
          262.0,
          265.0,
          268.0
         ],
         "xaxis": "x2",
         "y": [
          0.4904402456333798,
          0.4886624873218447,
          0.511262905676071,
          0.5232452553148347,
          0.5294865386376633,
          0.5279473395664994,
          0.5268995929588302,
          0.525075421349915,
          0.5214020612048891,
          0.5160451417686827,
          0.5126265632613592,
          0.5092155127717025,
          0.5052516593769245,
          0.5017736297730777,
          0.499879513823454,
          0.49707088704276625,
          0.4944362585357491,
          0.492624924196833,
          0.4910250509444988,
          0.48944030063376637,
          0.4881601245667327,
          0.487167336778893,
          0.4861999708337664,
          0.48482487720671624,
          0.4841679396000745,
          0.48311602919863383,
          0.4825032905233194,
          0.48179363201471137,
          0.48113589856903,
          0.4806605167690663,
          0.4800277609712234,
          0.47921085584376855,
          0.47877805765028486,
          0.47866727158496203,
          0.47827702562993024,
          0.4779294744145621,
          0.47748294233737437,
          0.4768936917885585,
          0.47657010173513004,
          0.47632645559735864,
          0.47632956571675417,
          0.4763798024535635,
          0.47584800194691573,
          0.4755812723647312,
          0.47538549639347116,
          0.47513360159052537,
          0.47462213300400874,
          0.47441231888320023,
          0.47470360482198115,
          0.4744486883096569,
          0.4741343373184765,
          0.47393900948927514,
          0.4738753038799977,
          0.4735261821534175,
          0.47355039665730203,
          0.4737901596043681,
          0.4731871058820898,
          0.47351549089304595,
          0.4732154992208739,
          0.4730697763260257,
          0.472740506987014,
          0.47286055713181063,
          0.47284532629866965,
          0.47284256925508233,
          0.47277801884474396,
          0.4722871898567537,
          0.4723777071869955,
          0.4721094198342171,
          0.4720606708991942,
          0.4726709583585164,
          0.47232615279621065,
          0.4720331484304188,
          0.47206328928378954,
          0.4719060483223111,
          0.47177737986804974,
          0.47185753700498884,
          0.47204139433447095,
          0.4720349450239763,
          0.4717878054719743,
          0.47159955312148477,
          0.47167918595026276,
          0.4716678778644205,
          0.47153561656344756,
          0.471721756870769,
          0.4716826499950335,
          0.47154964868785904,
          0.47135055143052423,
          0.47142440241797356,
          0.4713326700210321,
          0.47133790210109694
         ],
         "yaxis": "y2"
        },
        {
         "hovertemplate": "first_factor=0.5<br>second_factor=False<br>tick=%{x}<br>mean=%{y}<extra></extra>",
         "legendgroup": "0.5",
         "line": {
          "color": "#00cc96",
          "dash": "solid"
         },
         "marker": {
          "symbol": "circle"
         },
         "mode": "lines",
         "name": "0.5",
         "orientation": "v",
         "showlegend": true,
         "type": "scatter",
         "x": [
          1.0,
          4.0,
          7.0,
          10.0,
          13.0,
          16.0,
          19.0,
          22.0,
          25.0,
          28.0,
          31.0,
          34.0,
          37.0,
          40.0,
          43.0,
          46.0,
          49.0,
          52.0,
          55.0,
          58.0,
          61.0,
          64.0,
          67.0,
          70.0,
          73.0,
          76.0,
          79.0,
          82.0,
          85.0,
          88.0,
          91.0,
          94.0,
          97.0,
          100.0,
          103.0,
          106.0,
          109.0,
          112.0,
          115.0,
          118.0,
          121.0,
          124.0,
          127.0,
          130.0,
          133.0,
          136.0,
          139.0,
          142.0,
          145.0,
          148.0,
          151.0,
          154.0,
          157.0,
          160.0,
          163.0,
          166.0,
          169.0,
          172.0,
          175.0,
          178.0,
          181.0,
          184.0,
          187.0,
          190.0,
          193.0,
          196.0,
          199.0,
          202.0,
          205.0,
          208.0,
          211.0,
          214.0,
          217.0,
          220.0,
          223.0,
          226.0,
          229.0,
          232.0,
          235.0,
          238.0,
          241.0,
          244.0,
          247.0,
          250.0,
          253.0,
          256.0,
          259.0,
          262.0,
          265.0,
          268.0
         ],
         "xaxis": "x",
         "y": [
          0.49013306532241113,
          0.48800153145870834,
          0.5093711501011992,
          0.5207449598437907,
          0.5263238674318997,
          0.5245198197396483,
          0.5227690112671707,
          0.5207252928029488,
          0.5171358011128772,
          0.5115623410770651,
          0.5081919899288456,
          0.5047573607757945,
          0.5008445008435033,
          0.4973777711278356,
          0.494912608517271,
          0.4922939734943374,
          0.4896108001152176,
          0.4879279034274106,
          0.48674120094587636,
          0.48472567501737834,
          0.48343263276065035,
          0.4824938875718944,
          0.4814101764443366,
          0.4798562614835426,
          0.479333540908125,
          0.47869533090724786,
          0.4776978162253337,
          0.47707390848760034,
          0.47637553128380977,
          0.4756881096582544,
          0.4750344636848924,
          0.47465146463119723,
          0.4740895087062905,
          0.47348247369982227,
          0.4732224285508212,
          0.4729183906148197,
          0.4724375648526649,
          0.4724895247940964,
          0.4719745843060768,
          0.47177781110382905,
          0.47148567214266607,
          0.4712595356086208,
          0.47085197064973705,
          0.47062628859864236,
          0.4704502728366119,
          0.47038032147656517,
          0.4699026902221319,
          0.47008289434751727,
          0.46970234049074094,
          0.46951371013484144,
          0.469457255545193,
          0.46937553835368095,
          0.46931926008492436,
          0.4689424704680149,
          0.4688278297181639,
          0.4686605100482547,
          0.4687241085520786,
          0.4685325909065962,
          0.46854137254584577,
          0.46826919449426146,
          0.4681801913157511,
          0.4681322870381658,
          0.4683412271138715,
          0.46796598679936197,
          0.46791729982530417,
          0.467679444300296,
          0.4678919000533489,
          0.4678064180413488,
          0.46755126600438696,
          0.46741820317010635,
          0.467474093002316,
          0.4673343121311423,
          0.4672087200393887,
          0.46742542240052587,
          0.46754774920066566,
          0.4673034666673414,
          0.46706658033103976,
          0.46709645592768356,
          0.46741313122493744,
          0.4671946394986286,
          0.46709113575286154,
          0.4671606922462439,
          0.4672809149260659,
          0.4668645986001643,
          0.4667770319471151,
          0.4669665925693561,
          0.4667821717389186,
          0.4668487361491577,
          0.4665257332782735,
          0.4668561127910655
         ],
         "yaxis": "y"
        },
        {
         "hovertemplate": "first_factor=0.5<br>second_factor=True<br>tick=%{x}<br>mean=%{y}<extra></extra>",
         "legendgroup": "0.5",
         "line": {
          "color": "#00cc96",
          "dash": "solid"
         },
         "marker": {
          "symbol": "circle"
         },
         "mode": "lines",
         "name": "0.5",
         "orientation": "v",
         "showlegend": false,
         "type": "scatter",
         "x": [
          1.0,
          4.0,
          7.0,
          10.0,
          13.0,
          16.0,
          19.0,
          22.0,
          25.0,
          28.0,
          31.0,
          34.0,
          37.0,
          40.0,
          43.0,
          46.0,
          49.0,
          52.0,
          55.0,
          58.0,
          61.0,
          64.0,
          67.0,
          70.0,
          73.0,
          76.0,
          79.0,
          82.0,
          85.0,
          88.0,
          91.0,
          94.0,
          97.0,
          100.0,
          103.0,
          106.0,
          109.0,
          112.0,
          115.0,
          118.0,
          121.0,
          124.0,
          127.0,
          130.0,
          133.0,
          136.0,
          139.0,
          142.0,
          145.0,
          148.0,
          151.0,
          154.0,
          157.0,
          160.0,
          163.0,
          166.0,
          169.0,
          172.0,
          175.0,
          178.0,
          181.0,
          184.0,
          187.0,
          190.0,
          193.0,
          196.0,
          199.0,
          202.0,
          205.0,
          208.0,
          211.0,
          214.0,
          217.0,
          220.0,
          223.0,
          226.0,
          229.0,
          232.0,
          235.0,
          238.0,
          241.0,
          244.0,
          247.0,
          250.0,
          253.0,
          256.0,
          259.0,
          262.0,
          265.0,
          268.0
         ],
         "xaxis": "x2",
         "y": [
          0.4899426278445931,
          0.4884333282822161,
          0.5106632325547602,
          0.5226368723356406,
          0.5284931424297769,
          0.5266297117113683,
          0.5249526961901834,
          0.5233054605286432,
          0.5197197051145788,
          0.5145414748295194,
          0.5109910867207199,
          0.5075067119983315,
          0.5037173984492594,
          0.5003859603708393,
          0.4982780072414096,
          0.4954005329911837,
          0.4930707826979133,
          0.4913327766551225,
          0.4895335791575755,
          0.48806560074034916,
          0.4866493320260719,
          0.4854245555232439,
          0.4848609650070117,
          0.4835319097078211,
          0.48260812375520296,
          0.48183300268911,
          0.48103431548063597,
          0.4801025698426013,
          0.47968331388099167,
          0.47944508100926186,
          0.4785643932791761,
          0.47812873845213505,
          0.4776823315213155,
          0.47714177005605757,
          0.4767280374143855,
          0.47651380782361286,
          0.47612608544415996,
          0.4756239597108905,
          0.47559776659891,
          0.4748949328394474,
          0.47491449881907155,
          0.4743885581528419,
          0.4744291915632423,
          0.47402949670018535,
          0.4738321147920109,
          0.4735896360115177,
          0.4733737746233778,
          0.4731144982484023,
          0.4730167062733904,
          0.4729859692852955,
          0.47293278387113435,
          0.4725325623925106,
          0.4724594891767199,
          0.4724940454861333,
          0.4722026377298379,
          0.4719813711004535,
          0.4721303627973054,
          0.47185557544636547,
          0.47189161054535356,
          0.4717293583584307,
          0.4716097624251855,
          0.4715713743545819,
          0.4716682571331868,
          0.47117641285994166,
          0.4715154431911738,
          0.4715678464741149,
          0.47107777398577627,
          0.47081030127939216,
          0.47134093610858674,
          0.4708529381587565,
          0.4709346817609993,
          0.4708734644908357,
          0.4708470092266243,
          0.4706309827870726,
          0.47087570543966845,
          0.47078277067601193,
          0.47035942519010604,
          0.4708708121960094,
          0.4707640885681975,
          0.47046694084486596,
          0.47044857073100227,
          0.4704748699778653,
          0.47022608232406615,
          0.4699894824956925,
          0.4702226803472859,
          0.47016269524378607,
          0.47003267114637265,
          0.47026260336187714,
          0.46995304417116,
          0.4699865715156427
         ],
         "yaxis": "y2"
        },
        {
         "hovertemplate": "first_factor=0.75<br>second_factor=False<br>tick=%{x}<br>mean=%{y}<extra></extra>",
         "legendgroup": "0.75",
         "line": {
          "color": "#ab63fa",
          "dash": "solid"
         },
         "marker": {
          "symbol": "circle"
         },
         "mode": "lines",
         "name": "0.75",
         "orientation": "v",
         "showlegend": true,
         "type": "scatter",
         "x": [
          1.0,
          4.0,
          7.0,
          10.0,
          13.0,
          16.0,
          19.0,
          22.0,
          25.0,
          28.0,
          31.0,
          34.0,
          37.0,
          40.0,
          43.0,
          46.0,
          49.0,
          52.0,
          55.0,
          58.0,
          61.0,
          64.0,
          67.0,
          70.0,
          73.0,
          76.0,
          79.0,
          82.0,
          85.0,
          88.0,
          91.0,
          94.0,
          97.0,
          100.0,
          103.0,
          106.0,
          109.0,
          112.0,
          115.0,
          118.0,
          121.0,
          124.0,
          127.0,
          130.0,
          133.0,
          136.0,
          139.0,
          142.0,
          145.0,
          148.0,
          151.0,
          154.0,
          157.0,
          160.0,
          163.0,
          166.0,
          169.0,
          172.0,
          175.0,
          178.0,
          181.0,
          184.0,
          187.0,
          190.0,
          193.0,
          196.0,
          199.0,
          202.0,
          205.0,
          208.0,
          211.0,
          214.0,
          217.0,
          220.0,
          223.0,
          226.0,
          229.0,
          232.0,
          235.0,
          238.0,
          241.0,
          244.0,
          247.0,
          250.0,
          253.0,
          256.0,
          259.0,
          262.0,
          265.0,
          268.0
         ],
         "xaxis": "x",
         "y": [
          0.48988453645481916,
          0.48706701956771337,
          0.5066266468356632,
          0.5163400149941267,
          0.5211311940897217,
          0.5186957371547372,
          0.516268721768722,
          0.5140609159744347,
          0.5100341601231136,
          0.5041454180802075,
          0.5003434953431884,
          0.4969235431004978,
          0.49301359682635026,
          0.48963178735236396,
          0.48712066743662646,
          0.48471550486070675,
          0.4814125124029101,
          0.47977701717829824,
          0.47829047606694736,
          0.47676385932324733,
          0.47497232505297293,
          0.47436092275210495,
          0.47334471527125277,
          0.4720507161967781,
          0.47109576906115874,
          0.4706728546860014,
          0.4698476905073456,
          0.4692251619783315,
          0.46838559038550287,
          0.4680424599245933,
          0.4671808061505132,
          0.4666501394948244,
          0.46626236302832474,
          0.4662006920972279,
          0.465316053519224,
          0.4653866924745812,
          0.46464831300262815,
          0.46451100337175844,
          0.46411379514852613,
          0.46403112790318396,
          0.46350059932554555,
          0.4633831221566315,
          0.4630155888593875,
          0.46275153279517683,
          0.46247629092534626,
          0.4623070356812002,
          0.4619064578291427,
          0.4621098558526702,
          0.46194915417350646,
          0.4617700438444611,
          0.4615205888236122,
          0.46142194260358704,
          0.46131613550096356,
          0.4612545480289198,
          0.4610195010749039,
          0.46097048582139644,
          0.46096427343666885,
          0.46070401145351775,
          0.46040709113877404,
          0.4603425971714563,
          0.4604596071535126,
          0.46038756784015616,
          0.46046338778667095,
          0.4604939284545858,
          0.4604342559216098,
          0.4598898619871626,
          0.4601077954975904,
          0.4599691418790556,
          0.4597976637871424,
          0.45967642920107205,
          0.45997278488964355,
          0.4598679510903683,
          0.45943124599719776,
          0.45936203909879797,
          0.4593135402399023,
          0.4595481465868054,
          0.45930391923952213,
          0.45958388470676764,
          0.4594626908395733,
          0.45921070354567284,
          0.45911471439156787,
          0.4593998925038332,
          0.4590621429088826,
          0.4592243594075426,
          0.4593408586158722,
          0.4592752187386702,
          0.45877049721901453,
          0.45882269690220523,
          0.45943243707458675,
          0.4590944595409093
         ],
         "yaxis": "y"
        },
        {
         "hovertemplate": "first_factor=0.75<br>second_factor=True<br>tick=%{x}<br>mean=%{y}<extra></extra>",
         "legendgroup": "0.75",
         "line": {
          "color": "#ab63fa",
          "dash": "solid"
         },
         "marker": {
          "symbol": "circle"
         },
         "mode": "lines",
         "name": "0.75",
         "orientation": "v",
         "showlegend": false,
         "type": "scatter",
         "x": [
          1.0,
          4.0,
          7.0,
          10.0,
          13.0,
          16.0,
          19.0,
          22.0,
          25.0,
          28.0,
          31.0,
          34.0,
          37.0,
          40.0,
          43.0,
          46.0,
          49.0,
          52.0,
          55.0,
          58.0,
          61.0,
          64.0,
          67.0,
          70.0,
          73.0,
          76.0,
          79.0,
          82.0,
          85.0,
          88.0,
          91.0,
          94.0,
          97.0,
          100.0,
          103.0,
          106.0,
          109.0,
          112.0,
          115.0,
          118.0,
          121.0,
          124.0,
          127.0,
          130.0,
          133.0,
          136.0,
          139.0,
          142.0,
          145.0,
          148.0,
          151.0,
          154.0,
          157.0,
          160.0,
          163.0,
          166.0,
          169.0,
          172.0,
          175.0,
          178.0,
          181.0,
          184.0,
          187.0,
          190.0,
          193.0,
          196.0,
          199.0,
          202.0,
          205.0,
          208.0,
          211.0,
          214.0,
          217.0,
          220.0,
          223.0,
          226.0,
          229.0,
          232.0,
          235.0,
          238.0,
          241.0,
          244.0,
          247.0,
          250.0,
          253.0,
          256.0,
          259.0,
          262.0,
          265.0,
          268.0
         ],
         "xaxis": "x2",
         "y": [
          0.4904602243455,
          0.4891863178224908,
          0.510663581358809,
          0.5217928582884929,
          0.5276129405001833,
          0.5252868180501923,
          0.5235136309115306,
          0.5215581582786719,
          0.517865915097066,
          0.5123271568820156,
          0.5088519157681237,
          0.5055646728138374,
          0.5014228176895125,
          0.49789091810122843,
          0.49553048676467787,
          0.493054429181199,
          0.4903528862270054,
          0.48877257916752925,
          0.4871626433203388,
          0.4853641250635337,
          0.48391623722207416,
          0.48280667951608314,
          0.4818364654675483,
          0.4807315557481331,
          0.48035010237119297,
          0.47919895641172033,
          0.47842059376917934,
          0.4778295539671399,
          0.4771890678218751,
          0.4764670733360194,
          0.4761431222663163,
          0.47561824703661354,
          0.4752103964464117,
          0.47475424583803144,
          0.47398011168578924,
          0.47368386880533925,
          0.47341554309666484,
          0.4731130897059896,
          0.4727949438596564,
          0.4724737105925021,
          0.47193619443857016,
          0.47190185034179666,
          0.47149921853964105,
          0.47149319705750786,
          0.4714294285162649,
          0.47106919283272447,
          0.4707934262812054,
          0.4706645532692106,
          0.4705076526360023,
          0.47030203520424113,
          0.4701194885915591,
          0.47042702852276574,
          0.4701136914709822,
          0.46977274336601005,
          0.46956792849773343,
          0.4696780255407761,
          0.4695080543273345,
          0.4693849607842381,
          0.4694144722169603,
          0.4693947382212842,
          0.46913878950212523,
          0.46929183735879904,
          0.46895446541465713,
          0.46896663775242875,
          0.4688410245488554,
          0.46891547667441047,
          0.4690200687489899,
          0.4686690844739021,
          0.4687961840909624,
          0.4685930571222849,
          0.468633219869191,
          0.4684098666333958,
          0.4687840206548425,
          0.4684366790673858,
          0.468279454800355,
          0.46831906070301416,
          0.46831794146175615,
          0.46813012898476725,
          0.4681906356023711,
          0.46809019379818056,
          0.4682686523974436,
          0.4677723525893001,
          0.4679165456556189,
          0.46762087873263736,
          0.46795106885999577,
          0.467835875256049,
          0.4677956551359967,
          0.4679610269815194,
          0.46780302647197275,
          0.46748447085380174
         ],
         "yaxis": "y2"
        },
        {
         "hovertemplate": "first_factor=1.0<br>second_factor=False<br>tick=%{x}<br>mean=%{y}<extra></extra>",
         "legendgroup": "1.0",
         "line": {
          "color": "#FFA15A",
          "dash": "solid"
         },
         "marker": {
          "symbol": "circle"
         },
         "mode": "lines",
         "name": "1.0",
         "orientation": "v",
         "showlegend": true,
         "type": "scatter",
         "x": [
          1.0,
          4.0,
          7.0,
          10.0,
          13.0,
          16.0,
          19.0,
          22.0,
          25.0,
          28.0,
          31.0,
          34.0,
          37.0,
          40.0,
          43.0,
          46.0,
          49.0,
          52.0,
          55.0,
          58.0,
          61.0,
          64.0,
          67.0,
          70.0,
          73.0,
          76.0,
          79.0,
          82.0,
          85.0,
          88.0,
          91.0,
          94.0,
          97.0,
          100.0,
          103.0,
          106.0,
          109.0,
          112.0,
          115.0,
          118.0,
          121.0,
          124.0,
          127.0,
          130.0,
          133.0,
          136.0,
          139.0,
          142.0,
          145.0,
          148.0,
          151.0,
          154.0,
          157.0,
          160.0,
          163.0,
          166.0,
          169.0,
          172.0,
          175.0,
          178.0,
          181.0,
          184.0,
          187.0,
          190.0,
          193.0,
          196.0,
          199.0,
          202.0,
          205.0,
          208.0,
          211.0,
          214.0,
          217.0,
          220.0,
          223.0,
          226.0,
          229.0,
          232.0,
          235.0,
          238.0,
          241.0,
          244.0,
          247.0,
          250.0,
          253.0,
          256.0,
          259.0,
          262.0,
          265.0,
          268.0
         ],
         "xaxis": "x",
         "y": [
          0.48886640012316385,
          0.48505737291738876,
          0.5030887124187572,
          0.5115083270790025,
          0.5151021293098237,
          0.511763508509964,
          0.5087517940158044,
          0.505922186468374,
          0.5014233774577764,
          0.49576308031833777,
          0.4921656960333241,
          0.4883448030247212,
          0.48380264718024685,
          0.4805556275479058,
          0.47793060581125507,
          0.4750824128788323,
          0.4722431746122494,
          0.4707077544186405,
          0.46938246474450207,
          0.46728089922567534,
          0.4657243840583376,
          0.4648942777530715,
          0.4638309233989192,
          0.46258084015995776,
          0.4621992740975068,
          0.46146501157267195,
          0.4603910691804776,
          0.45952854429165046,
          0.4593721076964309,
          0.45827307799256345,
          0.45789383575604775,
          0.45735136309487084,
          0.4571161260289177,
          0.45649629671444814,
          0.4563699016719341,
          0.4559613501547571,
          0.4556222772547836,
          0.45523763805002987,
          0.45481753323415613,
          0.4546904512370056,
          0.4545265748400669,
          0.4539884493110643,
          0.4539221307848942,
          0.45386425414727294,
          0.4537904884851836,
          0.45317554661792037,
          0.4535193856282448,
          0.45292009130751487,
          0.4528592512846351,
          0.4524621249858523,
          0.4527294505690272,
          0.45234900276575657,
          0.4523326507518808,
          0.452270196656776,
          0.4518631154081873,
          0.45209248735764984,
          0.45152330592115014,
          0.45156911297645036,
          0.45164411797099924,
          0.4516696462832087,
          0.45153263001650884,
          0.4512700057014372,
          0.45158566519496723,
          0.450893197329127,
          0.45091850069219136,
          0.4510262338953012,
          0.45080903750904083,
          0.4507840066071311,
          0.45089341438231006,
          0.450677824503481,
          0.4505139124378206,
          0.4507149071567834,
          0.4506197693104278,
          0.45037859924952844,
          0.4506712505578291,
          0.450459212947688,
          0.4503811316026061,
          0.4506885347104567,
          0.4502540372296175,
          0.45027405651683117,
          0.4503914730518727,
          0.45060544139697495,
          0.4499366588265474,
          0.45014410012446493,
          0.45024703771694535,
          0.4498514353799952,
          0.44989194590185666,
          0.4501640855845139,
          0.4500333825987544,
          0.4498553888764834
         ],
         "yaxis": "y"
        },
        {
         "hovertemplate": "first_factor=1.0<br>second_factor=True<br>tick=%{x}<br>mean=%{y}<extra></extra>",
         "legendgroup": "1.0",
         "line": {
          "color": "#FFA15A",
          "dash": "solid"
         },
         "marker": {
          "symbol": "circle"
         },
         "mode": "lines",
         "name": "1.0",
         "orientation": "v",
         "showlegend": false,
         "type": "scatter",
         "x": [
          1.0,
          4.0,
          7.0,
          10.0,
          13.0,
          16.0,
          19.0,
          22.0,
          25.0,
          28.0,
          31.0,
          34.0,
          37.0,
          40.0,
          43.0,
          46.0,
          49.0,
          52.0,
          55.0,
          58.0,
          61.0,
          64.0,
          67.0,
          70.0,
          73.0,
          76.0,
          79.0,
          82.0,
          85.0,
          88.0,
          91.0,
          94.0,
          97.0,
          100.0,
          103.0,
          106.0,
          109.0,
          112.0,
          115.0,
          118.0,
          121.0,
          124.0,
          127.0,
          130.0,
          133.0,
          136.0,
          139.0,
          142.0,
          145.0,
          148.0,
          151.0,
          154.0,
          157.0,
          160.0,
          163.0,
          166.0,
          169.0,
          172.0,
          175.0,
          178.0,
          181.0,
          184.0,
          187.0,
          190.0,
          193.0,
          196.0,
          199.0,
          202.0,
          205.0,
          208.0,
          211.0,
          214.0,
          217.0,
          220.0,
          223.0,
          226.0,
          229.0,
          232.0,
          235.0,
          238.0,
          241.0,
          244.0,
          247.0,
          250.0,
          253.0,
          256.0,
          259.0,
          262.0,
          265.0,
          268.0
         ],
         "xaxis": "x2",
         "y": [
          0.4895215995099306,
          0.48710839640806003,
          0.5077985497785525,
          0.5186436697155444,
          0.5240511344085489,
          0.5218104187050353,
          0.5201658960652329,
          0.5180177350804371,
          0.5141891212804084,
          0.509221543440582,
          0.5055910693750272,
          0.5021226052768625,
          0.49795931060818416,
          0.4944376218303527,
          0.4922785468666338,
          0.48986190476741925,
          0.4869160244525485,
          0.4850712312565881,
          0.48370842897259275,
          0.48208122029494677,
          0.4805726371994049,
          0.4795343663966935,
          0.47885436100407053,
          0.47744209393572484,
          0.4763284336135303,
          0.4757371237005176,
          0.4751671443578037,
          0.47431268876030874,
          0.47362221012414546,
          0.47341873478200414,
          0.47288961318126677,
          0.47231831394342605,
          0.4716257468635278,
          0.4714241703984063,
          0.4708192121780377,
          0.47062630884651907,
          0.47043127911807503,
          0.47010509746864176,
          0.4695579626989944,
          0.46918960080930117,
          0.4688840924672456,
          0.4685643744295509,
          0.46842104587900996,
          0.468025922851515,
          0.46785049590348177,
          0.46768194677721325,
          0.46719928001327643,
          0.46706509138932834,
          0.46698074643617216,
          0.4668444197625262,
          0.4668409124449312,
          0.46685521820829934,
          0.466390420972398,
          0.46635863664268246,
          0.46602970792476744,
          0.46613398278670304,
          0.46620627931102365,
          0.46596167326554383,
          0.4659703945782944,
          0.4657816131831914,
          0.46572063912253975,
          0.4656249258526355,
          0.46566946361680167,
          0.4655980210473214,
          0.46563251726481536,
          0.46553768342061586,
          0.46542092743028235,
          0.4650064835237764,
          0.46511502892684226,
          0.4647925499177015,
          0.4653611650673669,
          0.4650316001898254,
          0.46481448988858004,
          0.4648781092796647,
          0.46488705276274883,
          0.46451450458265325,
          0.46480528836671764,
          0.4644524097301002,
          0.46464808237573574,
          0.4644238324063725,
          0.4646479059228957,
          0.46449582334155176,
          0.464249715097779,
          0.4642232102693253,
          0.4644837667941833,
          0.46432795543568994,
          0.4643111176120963,
          0.46398014192592885,
          0.4641105466836952,
          0.46420630461765294
         ],
         "yaxis": "y2"
        }
       ],
       "layout": {
        "annotations": [
         {
          "font": {},
          "showarrow": false,
          "text": "second_factor=False",
          "x": 0.245,
          "xanchor": "center",
          "xref": "paper",
          "y": 1.0,
          "yanchor": "bottom",
          "yref": "paper"
         },
         {
          "font": {},
          "showarrow": false,
          "text": "second_factor=True",
          "x": 0.755,
          "xanchor": "center",
          "xref": "paper",
          "y": 1.0,
          "yanchor": "bottom",
          "yref": "paper"
         }
        ],
        "legend": {
         "title": {
          "text": "first_factor"
         },
         "tracegroupgap": 0
        },
        "margin": {
         "t": 60
        },
        "template": {
         "data": {
          "bar": [
           {
            "error_x": {
             "color": "#2a3f5f"
            },
            "error_y": {
             "color": "#2a3f5f"
            },
            "marker": {
             "line": {
              "color": "#E5ECF6",
              "width": 0.5
             },
             "pattern": {
              "fillmode": "overlay",
              "size": 10,
              "solidity": 0.2
             }
            },
            "type": "bar"
           }
          ],
          "barpolar": [
           {
            "marker": {
             "line": {
              "color": "#E5ECF6",
              "width": 0.5
             },
             "pattern": {
              "fillmode": "overlay",
              "size": 10,
              "solidity": 0.2
             }
            },
            "type": "barpolar"
           }
          ],
          "carpet": [
           {
            "aaxis": {
             "endlinecolor": "#2a3f5f",
             "gridcolor": "white",
             "linecolor": "white",
             "minorgridcolor": "white",
             "startlinecolor": "#2a3f5f"
            },
            "baxis": {
             "endlinecolor": "#2a3f5f",
             "gridcolor": "white",
             "linecolor": "white",
             "minorgridcolor": "white",
             "startlinecolor": "#2a3f5f"
            },
            "type": "carpet"
           }
          ],
          "choropleth": [
           {
            "colorbar": {
             "outlinewidth": 0,
             "ticks": ""
            },
            "type": "choropleth"
           }
          ],
          "contour": [
           {
            "colorbar": {
             "outlinewidth": 0,
             "ticks": ""
            },
            "colorscale": [
             [
              0.0,
              "#0d0887"
             ],
             [
              0.1111111111111111,
              "#46039f"
             ],
             [
              0.2222222222222222,
              "#7201a8"
             ],
             [
              0.3333333333333333,
              "#9c179e"
             ],
             [
              0.4444444444444444,
              "#bd3786"
             ],
             [
              0.5555555555555556,
              "#d8576b"
             ],
             [
              0.6666666666666666,
              "#ed7953"
             ],
             [
              0.7777777777777778,
              "#fb9f3a"
             ],
             [
              0.8888888888888888,
              "#fdca26"
             ],
             [
              1.0,
              "#f0f921"
             ]
            ],
            "type": "contour"
           }
          ],
          "contourcarpet": [
           {
            "colorbar": {
             "outlinewidth": 0,
             "ticks": ""
            },
            "type": "contourcarpet"
           }
          ],
          "heatmap": [
           {
            "colorbar": {
             "outlinewidth": 0,
             "ticks": ""
            },
            "colorscale": [
             [
              0.0,
              "#0d0887"
             ],
             [
              0.1111111111111111,
              "#46039f"
             ],
             [
              0.2222222222222222,
              "#7201a8"
             ],
             [
              0.3333333333333333,
              "#9c179e"
             ],
             [
              0.4444444444444444,
              "#bd3786"
             ],
             [
              0.5555555555555556,
              "#d8576b"
             ],
             [
              0.6666666666666666,
              "#ed7953"
             ],
             [
              0.7777777777777778,
              "#fb9f3a"
             ],
             [
              0.8888888888888888,
              "#fdca26"
             ],
             [
              1.0,
              "#f0f921"
             ]
            ],
            "type": "heatmap"
           }
          ],
          "heatmapgl": [
           {
            "colorbar": {
             "outlinewidth": 0,
             "ticks": ""
            },
            "colorscale": [
             [
              0.0,
              "#0d0887"
             ],
             [
              0.1111111111111111,
              "#46039f"
             ],
             [
              0.2222222222222222,
              "#7201a8"
             ],
             [
              0.3333333333333333,
              "#9c179e"
             ],
             [
              0.4444444444444444,
              "#bd3786"
             ],
             [
              0.5555555555555556,
              "#d8576b"
             ],
             [
              0.6666666666666666,
              "#ed7953"
             ],
             [
              0.7777777777777778,
              "#fb9f3a"
             ],
             [
              0.8888888888888888,
              "#fdca26"
             ],
             [
              1.0,
              "#f0f921"
             ]
            ],
            "type": "heatmapgl"
           }
          ],
          "histogram": [
           {
            "marker": {
             "pattern": {
              "fillmode": "overlay",
              "size": 10,
              "solidity": 0.2
             }
            },
            "type": "histogram"
           }
          ],
          "histogram2d": [
           {
            "colorbar": {
             "outlinewidth": 0,
             "ticks": ""
            },
            "colorscale": [
             [
              0.0,
              "#0d0887"
             ],
             [
              0.1111111111111111,
              "#46039f"
             ],
             [
              0.2222222222222222,
              "#7201a8"
             ],
             [
              0.3333333333333333,
              "#9c179e"
             ],
             [
              0.4444444444444444,
              "#bd3786"
             ],
             [
              0.5555555555555556,
              "#d8576b"
             ],
             [
              0.6666666666666666,
              "#ed7953"
             ],
             [
              0.7777777777777778,
              "#fb9f3a"
             ],
             [
              0.8888888888888888,
              "#fdca26"
             ],
             [
              1.0,
              "#f0f921"
             ]
            ],
            "type": "histogram2d"
           }
          ],
          "histogram2dcontour": [
           {
            "colorbar": {
             "outlinewidth": 0,
             "ticks": ""
            },
            "colorscale": [
             [
              0.0,
              "#0d0887"
             ],
             [
              0.1111111111111111,
              "#46039f"
             ],
             [
              0.2222222222222222,
              "#7201a8"
             ],
             [
              0.3333333333333333,
              "#9c179e"
             ],
             [
              0.4444444444444444,
              "#bd3786"
             ],
             [
              0.5555555555555556,
              "#d8576b"
             ],
             [
              0.6666666666666666,
              "#ed7953"
             ],
             [
              0.7777777777777778,
              "#fb9f3a"
             ],
             [
              0.8888888888888888,
              "#fdca26"
             ],
             [
              1.0,
              "#f0f921"
             ]
            ],
            "type": "histogram2dcontour"
           }
          ],
          "mesh3d": [
           {
            "colorbar": {
             "outlinewidth": 0,
             "ticks": ""
            },
            "type": "mesh3d"
           }
          ],
          "parcoords": [
           {
            "line": {
             "colorbar": {
              "outlinewidth": 0,
              "ticks": ""
             }
            },
            "type": "parcoords"
           }
          ],
          "pie": [
           {
            "automargin": true,
            "type": "pie"
           }
          ],
          "scatter": [
           {
            "marker": {
             "colorbar": {
              "outlinewidth": 0,
              "ticks": ""
             }
            },
            "type": "scatter"
           }
          ],
          "scatter3d": [
           {
            "line": {
             "colorbar": {
              "outlinewidth": 0,
              "ticks": ""
             }
            },
            "marker": {
             "colorbar": {
              "outlinewidth": 0,
              "ticks": ""
             }
            },
            "type": "scatter3d"
           }
          ],
          "scattercarpet": [
           {
            "marker": {
             "colorbar": {
              "outlinewidth": 0,
              "ticks": ""
             }
            },
            "type": "scattercarpet"
           }
          ],
          "scattergeo": [
           {
            "marker": {
             "colorbar": {
              "outlinewidth": 0,
              "ticks": ""
             }
            },
            "type": "scattergeo"
           }
          ],
          "scattergl": [
           {
            "marker": {
             "colorbar": {
              "outlinewidth": 0,
              "ticks": ""
             }
            },
            "type": "scattergl"
           }
          ],
          "scattermapbox": [
           {
            "marker": {
             "colorbar": {
              "outlinewidth": 0,
              "ticks": ""
             }
            },
            "type": "scattermapbox"
           }
          ],
          "scatterpolar": [
           {
            "marker": {
             "colorbar": {
              "outlinewidth": 0,
              "ticks": ""
             }
            },
            "type": "scatterpolar"
           }
          ],
          "scatterpolargl": [
           {
            "marker": {
             "colorbar": {
              "outlinewidth": 0,
              "ticks": ""
             }
            },
            "type": "scatterpolargl"
           }
          ],
          "scatterternary": [
           {
            "marker": {
             "colorbar": {
              "outlinewidth": 0,
              "ticks": ""
             }
            },
            "type": "scatterternary"
           }
          ],
          "surface": [
           {
            "colorbar": {
             "outlinewidth": 0,
             "ticks": ""
            },
            "colorscale": [
             [
              0.0,
              "#0d0887"
             ],
             [
              0.1111111111111111,
              "#46039f"
             ],
             [
              0.2222222222222222,
              "#7201a8"
             ],
             [
              0.3333333333333333,
              "#9c179e"
             ],
             [
              0.4444444444444444,
              "#bd3786"
             ],
             [
              0.5555555555555556,
              "#d8576b"
             ],
             [
              0.6666666666666666,
              "#ed7953"
             ],
             [
              0.7777777777777778,
              "#fb9f3a"
             ],
             [
              0.8888888888888888,
              "#fdca26"
             ],
             [
              1.0,
              "#f0f921"
             ]
            ],
            "type": "surface"
           }
          ],
          "table": [
           {
            "cells": {
             "fill": {
              "color": "#EBF0F8"
             },
             "line": {
              "color": "white"
             }
            },
            "header": {
             "fill": {
              "color": "#C8D4E3"
             },
             "line": {
              "color": "white"
             }
            },
            "type": "table"
           }
          ]
         },
         "layout": {
          "annotationdefaults": {
           "arrowcolor": "#2a3f5f",
           "arrowhead": 0,
           "arrowwidth": 1
          },
          "autotypenumbers": "strict",
          "coloraxis": {
           "colorbar": {
            "outlinewidth": 0,
            "ticks": ""
           }
          },
          "colorscale": {
           "diverging": [
            [
             0,
             "#8e0152"
            ],
            [
             0.1,
             "#c51b7d"
            ],
            [
             0.2,
             "#de77ae"
            ],
            [
             0.3,
             "#f1b6da"
            ],
            [
             0.4,
             "#fde0ef"
            ],
            [
             0.5,
             "#f7f7f7"
            ],
            [
             0.6,
             "#e6f5d0"
            ],
            [
             0.7,
             "#b8e186"
            ],
            [
             0.8,
             "#7fbc41"
            ],
            [
             0.9,
             "#4d9221"
            ],
            [
             1,
             "#276419"
            ]
           ],
           "sequential": [
            [
             0.0,
             "#0d0887"
            ],
            [
             0.1111111111111111,
             "#46039f"
            ],
            [
             0.2222222222222222,
             "#7201a8"
            ],
            [
             0.3333333333333333,
             "#9c179e"
            ],
            [
             0.4444444444444444,
             "#bd3786"
            ],
            [
             0.5555555555555556,
             "#d8576b"
            ],
            [
             0.6666666666666666,
             "#ed7953"
            ],
            [
             0.7777777777777778,
             "#fb9f3a"
            ],
            [
             0.8888888888888888,
             "#fdca26"
            ],
            [
             1.0,
             "#f0f921"
            ]
           ],
           "sequentialminus": [
            [
             0.0,
             "#0d0887"
            ],
            [
             0.1111111111111111,
             "#46039f"
            ],
            [
             0.2222222222222222,
             "#7201a8"
            ],
            [
             0.3333333333333333,
             "#9c179e"
            ],
            [
             0.4444444444444444,
             "#bd3786"
            ],
            [
             0.5555555555555556,
             "#d8576b"
            ],
            [
             0.6666666666666666,
             "#ed7953"
            ],
            [
             0.7777777777777778,
             "#fb9f3a"
            ],
            [
             0.8888888888888888,
             "#fdca26"
            ],
            [
             1.0,
             "#f0f921"
            ]
           ]
          },
          "colorway": [
           "#636efa",
           "#EF553B",
           "#00cc96",
           "#ab63fa",
           "#FFA15A",
           "#19d3f3",
           "#FF6692",
           "#B6E880",
           "#FF97FF",
           "#FECB52"
          ],
          "font": {
           "color": "#2a3f5f"
          },
          "geo": {
           "bgcolor": "white",
           "lakecolor": "white",
           "landcolor": "#E5ECF6",
           "showlakes": true,
           "showland": true,
           "subunitcolor": "white"
          },
          "hoverlabel": {
           "align": "left"
          },
          "hovermode": "closest",
          "mapbox": {
           "style": "light"
          },
          "paper_bgcolor": "white",
          "plot_bgcolor": "#E5ECF6",
          "polar": {
           "angularaxis": {
            "gridcolor": "white",
            "linecolor": "white",
            "ticks": ""
           },
           "bgcolor": "#E5ECF6",
           "radialaxis": {
            "gridcolor": "white",
            "linecolor": "white",
            "ticks": ""
           }
          },
          "scene": {
           "xaxis": {
            "backgroundcolor": "#E5ECF6",
            "gridcolor": "white",
            "gridwidth": 2,
            "linecolor": "white",
            "showbackground": true,
            "ticks": "",
            "zerolinecolor": "white"
           },
           "yaxis": {
            "backgroundcolor": "#E5ECF6",
            "gridcolor": "white",
            "gridwidth": 2,
            "linecolor": "white",
            "showbackground": true,
            "ticks": "",
            "zerolinecolor": "white"
           },
           "zaxis": {
            "backgroundcolor": "#E5ECF6",
            "gridcolor": "white",
            "gridwidth": 2,
            "linecolor": "white",
            "showbackground": true,
            "ticks": "",
            "zerolinecolor": "white"
           }
          },
          "shapedefaults": {
           "line": {
            "color": "#2a3f5f"
           }
          },
          "ternary": {
           "aaxis": {
            "gridcolor": "white",
            "linecolor": "white",
            "ticks": ""
           },
           "baxis": {
            "gridcolor": "white",
            "linecolor": "white",
            "ticks": ""
           },
           "bgcolor": "#E5ECF6",
           "caxis": {
            "gridcolor": "white",
            "linecolor": "white",
            "ticks": ""
           }
          },
          "title": {
           "x": 0.05
          },
          "xaxis": {
           "automargin": true,
           "gridcolor": "white",
           "linecolor": "white",
           "ticks": "",
           "title": {
            "standoff": 15
           },
           "zerolinecolor": "white",
           "zerolinewidth": 2
          },
          "yaxis": {
           "automargin": true,
           "gridcolor": "white",
           "linecolor": "white",
           "ticks": "",
           "title": {
            "standoff": 15
           },
           "zerolinecolor": "white",
           "zerolinewidth": 2
          }
         }
        },
        "xaxis": {
         "anchor": "y",
         "domain": [
          0.0,
          0.49
         ],
         "title": {
          "text": "tick"
         }
        },
        "xaxis2": {
         "anchor": "y2",
         "domain": [
          0.51,
          1.0
         ],
         "matches": "x",
         "title": {
          "text": "tick"
         }
        },
        "yaxis": {
         "anchor": "x",
         "domain": [
          0.0,
          1.0
         ],
         "title": {
          "text": "mean"
         }
        },
        "yaxis2": {
         "anchor": "x2",
         "domain": [
          0.0,
          1.0
         ],
         "matches": "y",
         "showticklabels": false
        }
       }
      },
      "text/html": "<div>                            <div id=\"1819a7ff-5096-4f62-9bc7-69fb492259ec\" class=\"plotly-graph-div\" style=\"height:525px; width:100%;\"></div>            <script type=\"text/javascript\">                require([\"plotly\"], function(Plotly) {                    window.PLOTLYENV=window.PLOTLYENV || {};                                    if (document.getElementById(\"1819a7ff-5096-4f62-9bc7-69fb492259ec\")) {                    Plotly.newPlot(                        \"1819a7ff-5096-4f62-9bc7-69fb492259ec\",                        [{\"hovertemplate\":\"first_factor=0.0<br>second_factor=False<br>tick=%{x}<br>mean=%{y}<extra></extra>\",\"legendgroup\":\"0.0\",\"line\":{\"color\":\"#636efa\",\"dash\":\"solid\"},\"marker\":{\"symbol\":\"circle\"},\"mode\":\"lines\",\"name\":\"0.0\",\"orientation\":\"v\",\"showlegend\":true,\"type\":\"scatter\",\"x\":[1.0,4.0,7.0,10.0,13.0,16.0,19.0,22.0,25.0,28.0,31.0,34.0,37.0,40.0,43.0,46.0,49.0,52.0,55.0,58.0,61.0,64.0,67.0,70.0,73.0,76.0,79.0,82.0,85.0,88.0,91.0,94.0,97.0,100.0,103.0,106.0,109.0,112.0,115.0,118.0,121.0,124.0,127.0,130.0,133.0,136.0,139.0,142.0,145.0,148.0,151.0,154.0,157.0,160.0,163.0,166.0,169.0,172.0,175.0,178.0,181.0,184.0,187.0,190.0,193.0,196.0,199.0,202.0,205.0,208.0,211.0,214.0,217.0,220.0,223.0,226.0,229.0,232.0,235.0,238.0,241.0,244.0,247.0,250.0,253.0,256.0,259.0,262.0,265.0,268.0],\"xaxis\":\"x\",\"y\":[0.4898029948878537,0.4887162939873177,0.5110577581042366,0.5235851694133075,0.5297896354998624,0.5280153426269958,0.5265213016143653,0.524757175259221,0.521164798530118,0.5158980069700112,0.5127955738859613,0.5097159136364167,0.5055253970792817,0.5023913699266089,0.5001483177909799,0.49744330201622083,0.49476110207682883,0.493011632163519,0.4913978276672824,0.48998126910421785,0.48830511008651956,0.48745841939422097,0.4866846513531417,0.4851845458751745,0.4841405963104218,0.48378081332604933,0.4828762064133152,0.4822250963621083,0.4816447800072918,0.48091946458281704,0.48062258871875946,0.4800359509269034,0.4791318253182379,0.4792792549884212,0.4786468979458229,0.4782096616366414,0.47785120719393637,0.47771179075861436,0.47730984428870804,0.47673015435959043,0.47690362984788376,0.47633785420503055,0.4759470287658364,0.47630540196240434,0.47577632788665514,0.47533444347193665,0.4751741653363764,0.4752553002083644,0.4747268074444706,0.4747963845666746,0.4747794381881975,0.47459589889227954,0.47420740335020384,0.4740764589041059,0.47419656457975673,0.4737820473652334,0.47376119474461303,0.47391138499257135,0.47379637287106335,0.47350883801292515,0.473159963420809,0.4733547828796737,0.4732659512894197,0.47302831758533787,0.4728679134329468,0.4730725116808799,0.4726640778144659,0.47276495832482274,0.4730928088371613,0.4727267001326642,0.47282313844510165,0.472629960816542,0.4726633512996034,0.47260246091357155,0.4724798818995856,0.4726215141009168,0.4725148904079583,0.4724514317741173,0.47230883374470173,0.47243321267055144,0.47227533210920086,0.4723109355328852,0.4722744312505738,0.47214153422350036,0.4722155303448118,0.47218179796986426,0.4722276450975764,0.47186338836793895,0.47194968939245957,0.4722274010325838],\"yaxis\":\"y\"},{\"hovertemplate\":\"first_factor=0.0<br>second_factor=True<br>tick=%{x}<br>mean=%{y}<extra></extra>\",\"legendgroup\":\"0.0\",\"line\":{\"color\":\"#636efa\",\"dash\":\"solid\"},\"marker\":{\"symbol\":\"circle\"},\"mode\":\"lines\",\"name\":\"0.0\",\"orientation\":\"v\",\"showlegend\":false,\"type\":\"scatter\",\"x\":[1.0,4.0,7.0,10.0,13.0,16.0,19.0,22.0,25.0,28.0,31.0,34.0,37.0,40.0,43.0,46.0,49.0,52.0,55.0,58.0,61.0,64.0,67.0,70.0,73.0,76.0,79.0,82.0,85.0,88.0,91.0,94.0,97.0,100.0,103.0,106.0,109.0,112.0,115.0,118.0,121.0,124.0,127.0,130.0,133.0,136.0,139.0,142.0,145.0,148.0,151.0,154.0,157.0,160.0,163.0,166.0,169.0,172.0,175.0,178.0,181.0,184.0,187.0,190.0,193.0,196.0,199.0,202.0,205.0,208.0,211.0,214.0,217.0,220.0,223.0,226.0,229.0,232.0,235.0,238.0,241.0,244.0,247.0,250.0,253.0,256.0,259.0,262.0,265.0,268.0],\"xaxis\":\"x2\",\"y\":[0.4896262993579566,0.4884215716688495,0.510987468235698,0.5235221373247017,0.529716540342203,0.5282235365265797,0.5265242316528825,0.5251032802944188,0.5215212230032018,0.5165158163930138,0.5127638504316806,0.5095011808693942,0.505164931621836,0.5018991953946017,0.4995929407149579,0.49712904187502527,0.4946005309516685,0.4928975576592308,0.49140702262912145,0.4893735972353086,0.48807462308279403,0.48709089673786393,0.48625580172642313,0.48481817764182433,0.48441220970073284,0.4834595637894329,0.48238073713636254,0.48198818086413114,0.4813406876406795,0.4804812113660242,0.4801621538257643,0.4799337355779546,0.4793869062205013,0.47840605987839785,0.47800149912106565,0.47801530653591395,0.47770016030666723,0.4771810181628065,0.47693553710603237,0.47675778524997514,0.476137774345528,0.4760092547644871,0.4758724582547564,0.47559663598820945,0.4754383447253851,0.47542890133370774,0.4751633683005777,0.47473436594447593,0.4745302256322637,0.4745484452348238,0.4741870485444017,0.4744381671023611,0.4742707677027077,0.4740965308566785,0.4737140020139355,0.4737117836095753,0.47336605118357605,0.47351684028643365,0.473201088485945,0.4734515394615325,0.4731876155188381,0.47298800994191326,0.47316809352352873,0.4730113150501979,0.47286764633860295,0.47282400512338507,0.4728387740932734,0.4728181807039455,0.4725040918097359,0.47251961260877967,0.47244999423806,0.47261125685740824,0.4725250115091938,0.4727744401075462,0.47236648814733895,0.4721844500298372,0.47217396327521466,0.47193317740564994,0.4718394153596997,0.4721332244987679,0.4721409116335246,0.4720417094709987,0.47183956888516376,0.47170885701600745,0.4718314262506142,0.4718760237837403,0.47206968907948227,0.47169062071569834,0.4718403439572825,0.4712802710654488],\"yaxis\":\"y2\"},{\"hovertemplate\":\"first_factor=0.25<br>second_factor=False<br>tick=%{x}<br>mean=%{y}<extra></extra>\",\"legendgroup\":\"0.25\",\"line\":{\"color\":\"#EF553B\",\"dash\":\"solid\"},\"marker\":{\"symbol\":\"circle\"},\"mode\":\"lines\",\"name\":\"0.25\",\"orientation\":\"v\",\"showlegend\":true,\"type\":\"scatter\",\"x\":[1.0,4.0,7.0,10.0,13.0,16.0,19.0,22.0,25.0,28.0,31.0,34.0,37.0,40.0,43.0,46.0,49.0,52.0,55.0,58.0,61.0,64.0,67.0,70.0,73.0,76.0,79.0,82.0,85.0,88.0,91.0,94.0,97.0,100.0,103.0,106.0,109.0,112.0,115.0,118.0,121.0,124.0,127.0,130.0,133.0,136.0,139.0,142.0,145.0,148.0,151.0,154.0,157.0,160.0,163.0,166.0,169.0,172.0,175.0,178.0,181.0,184.0,187.0,190.0,193.0,196.0,199.0,202.0,205.0,208.0,211.0,214.0,217.0,220.0,223.0,226.0,229.0,232.0,235.0,238.0,241.0,244.0,247.0,250.0,253.0,256.0,259.0,262.0,265.0,268.0],\"xaxis\":\"x\",\"y\":[0.49041559500571097,0.48906511336142,0.5114731344015753,0.523009754876382,0.529144705890354,0.5276901893762582,0.5258504719499295,0.5241587630423842,0.5202709823072601,0.5149448805355199,0.5114585010429131,0.5086628994394335,0.5044050689557161,0.5013026516102629,0.4988763893159048,0.49606239567241356,0.4934967408555065,0.4918414087449156,0.4905366944542965,0.4886560704412663,0.48732144319046405,0.4862362376746368,0.4847764523919226,0.48396135191179174,0.48324883381239864,0.4822675562775746,0.4816403216613337,0.48085420139297713,0.48012526922761917,0.4795830921310555,0.47900994816316717,0.4786067384336838,0.47840470694197346,0.4778595628248149,0.4774000535418979,0.4769293937511388,0.47651859255568346,0.4760421343009821,0.47575385012565286,0.4755810082944121,0.47513850320902873,0.4749428593541027,0.47476219123008406,0.4741957752360649,0.4741889380808009,0.4741562696419467,0.47415733824739553,0.4737071593869596,0.4736265682690029,0.47357664868910254,0.47314011838484377,0.47304648773493435,0.4732587199694495,0.47308270439557787,0.47287291541856297,0.47268335000339695,0.4725493648960748,0.47212704170406145,0.4722577587064947,0.472232827624495,0.47203327357471114,0.4722099061495738,0.472299187176234,0.472132334290741,0.4717981710442106,0.4715056194811298,0.4718817267807765,0.47160865098822946,0.4718529809411277,0.4714375124978802,0.47153136716334515,0.4715379232688918,0.47121161961474745,0.4712959916783392,0.4715089479270296,0.47153413322438453,0.47123375224006236,0.4709486741534981,0.47105145661453834,0.47133835195316837,0.4710085289882499,0.4711540665473774,0.47103173282226596,0.47129385700755155,0.4708630300228407,0.47095261956527873,0.4710031162938426,0.4708361890999361,0.47075039189376955,0.4706713848815541],\"yaxis\":\"y\"},{\"hovertemplate\":\"first_factor=0.25<br>second_factor=True<br>tick=%{x}<br>mean=%{y}<extra></extra>\",\"legendgroup\":\"0.25\",\"line\":{\"color\":\"#EF553B\",\"dash\":\"solid\"},\"marker\":{\"symbol\":\"circle\"},\"mode\":\"lines\",\"name\":\"0.25\",\"orientation\":\"v\",\"showlegend\":false,\"type\":\"scatter\",\"x\":[1.0,4.0,7.0,10.0,13.0,16.0,19.0,22.0,25.0,28.0,31.0,34.0,37.0,40.0,43.0,46.0,49.0,52.0,55.0,58.0,61.0,64.0,67.0,70.0,73.0,76.0,79.0,82.0,85.0,88.0,91.0,94.0,97.0,100.0,103.0,106.0,109.0,112.0,115.0,118.0,121.0,124.0,127.0,130.0,133.0,136.0,139.0,142.0,145.0,148.0,151.0,154.0,157.0,160.0,163.0,166.0,169.0,172.0,175.0,178.0,181.0,184.0,187.0,190.0,193.0,196.0,199.0,202.0,205.0,208.0,211.0,214.0,217.0,220.0,223.0,226.0,229.0,232.0,235.0,238.0,241.0,244.0,247.0,250.0,253.0,256.0,259.0,262.0,265.0,268.0],\"xaxis\":\"x2\",\"y\":[0.4904402456333798,0.4886624873218447,0.511262905676071,0.5232452553148347,0.5294865386376633,0.5279473395664994,0.5268995929588302,0.525075421349915,0.5214020612048891,0.5160451417686827,0.5126265632613592,0.5092155127717025,0.5052516593769245,0.5017736297730777,0.499879513823454,0.49707088704276625,0.4944362585357491,0.492624924196833,0.4910250509444988,0.48944030063376637,0.4881601245667327,0.487167336778893,0.4861999708337664,0.48482487720671624,0.4841679396000745,0.48311602919863383,0.4825032905233194,0.48179363201471137,0.48113589856903,0.4806605167690663,0.4800277609712234,0.47921085584376855,0.47877805765028486,0.47866727158496203,0.47827702562993024,0.4779294744145621,0.47748294233737437,0.4768936917885585,0.47657010173513004,0.47632645559735864,0.47632956571675417,0.4763798024535635,0.47584800194691573,0.4755812723647312,0.47538549639347116,0.47513360159052537,0.47462213300400874,0.47441231888320023,0.47470360482198115,0.4744486883096569,0.4741343373184765,0.47393900948927514,0.4738753038799977,0.4735261821534175,0.47355039665730203,0.4737901596043681,0.4731871058820898,0.47351549089304595,0.4732154992208739,0.4730697763260257,0.472740506987014,0.47286055713181063,0.47284532629866965,0.47284256925508233,0.47277801884474396,0.4722871898567537,0.4723777071869955,0.4721094198342171,0.4720606708991942,0.4726709583585164,0.47232615279621065,0.4720331484304188,0.47206328928378954,0.4719060483223111,0.47177737986804974,0.47185753700498884,0.47204139433447095,0.4720349450239763,0.4717878054719743,0.47159955312148477,0.47167918595026276,0.4716678778644205,0.47153561656344756,0.471721756870769,0.4716826499950335,0.47154964868785904,0.47135055143052423,0.47142440241797356,0.4713326700210321,0.47133790210109694],\"yaxis\":\"y2\"},{\"hovertemplate\":\"first_factor=0.5<br>second_factor=False<br>tick=%{x}<br>mean=%{y}<extra></extra>\",\"legendgroup\":\"0.5\",\"line\":{\"color\":\"#00cc96\",\"dash\":\"solid\"},\"marker\":{\"symbol\":\"circle\"},\"mode\":\"lines\",\"name\":\"0.5\",\"orientation\":\"v\",\"showlegend\":true,\"type\":\"scatter\",\"x\":[1.0,4.0,7.0,10.0,13.0,16.0,19.0,22.0,25.0,28.0,31.0,34.0,37.0,40.0,43.0,46.0,49.0,52.0,55.0,58.0,61.0,64.0,67.0,70.0,73.0,76.0,79.0,82.0,85.0,88.0,91.0,94.0,97.0,100.0,103.0,106.0,109.0,112.0,115.0,118.0,121.0,124.0,127.0,130.0,133.0,136.0,139.0,142.0,145.0,148.0,151.0,154.0,157.0,160.0,163.0,166.0,169.0,172.0,175.0,178.0,181.0,184.0,187.0,190.0,193.0,196.0,199.0,202.0,205.0,208.0,211.0,214.0,217.0,220.0,223.0,226.0,229.0,232.0,235.0,238.0,241.0,244.0,247.0,250.0,253.0,256.0,259.0,262.0,265.0,268.0],\"xaxis\":\"x\",\"y\":[0.49013306532241113,0.48800153145870834,0.5093711501011992,0.5207449598437907,0.5263238674318997,0.5245198197396483,0.5227690112671707,0.5207252928029488,0.5171358011128772,0.5115623410770651,0.5081919899288456,0.5047573607757945,0.5008445008435033,0.4973777711278356,0.494912608517271,0.4922939734943374,0.4896108001152176,0.4879279034274106,0.48674120094587636,0.48472567501737834,0.48343263276065035,0.4824938875718944,0.4814101764443366,0.4798562614835426,0.479333540908125,0.47869533090724786,0.4776978162253337,0.47707390848760034,0.47637553128380977,0.4756881096582544,0.4750344636848924,0.47465146463119723,0.4740895087062905,0.47348247369982227,0.4732224285508212,0.4729183906148197,0.4724375648526649,0.4724895247940964,0.4719745843060768,0.47177781110382905,0.47148567214266607,0.4712595356086208,0.47085197064973705,0.47062628859864236,0.4704502728366119,0.47038032147656517,0.4699026902221319,0.47008289434751727,0.46970234049074094,0.46951371013484144,0.469457255545193,0.46937553835368095,0.46931926008492436,0.4689424704680149,0.4688278297181639,0.4686605100482547,0.4687241085520786,0.4685325909065962,0.46854137254584577,0.46826919449426146,0.4681801913157511,0.4681322870381658,0.4683412271138715,0.46796598679936197,0.46791729982530417,0.467679444300296,0.4678919000533489,0.4678064180413488,0.46755126600438696,0.46741820317010635,0.467474093002316,0.4673343121311423,0.4672087200393887,0.46742542240052587,0.46754774920066566,0.4673034666673414,0.46706658033103976,0.46709645592768356,0.46741313122493744,0.4671946394986286,0.46709113575286154,0.4671606922462439,0.4672809149260659,0.4668645986001643,0.4667770319471151,0.4669665925693561,0.4667821717389186,0.4668487361491577,0.4665257332782735,0.4668561127910655],\"yaxis\":\"y\"},{\"hovertemplate\":\"first_factor=0.5<br>second_factor=True<br>tick=%{x}<br>mean=%{y}<extra></extra>\",\"legendgroup\":\"0.5\",\"line\":{\"color\":\"#00cc96\",\"dash\":\"solid\"},\"marker\":{\"symbol\":\"circle\"},\"mode\":\"lines\",\"name\":\"0.5\",\"orientation\":\"v\",\"showlegend\":false,\"type\":\"scatter\",\"x\":[1.0,4.0,7.0,10.0,13.0,16.0,19.0,22.0,25.0,28.0,31.0,34.0,37.0,40.0,43.0,46.0,49.0,52.0,55.0,58.0,61.0,64.0,67.0,70.0,73.0,76.0,79.0,82.0,85.0,88.0,91.0,94.0,97.0,100.0,103.0,106.0,109.0,112.0,115.0,118.0,121.0,124.0,127.0,130.0,133.0,136.0,139.0,142.0,145.0,148.0,151.0,154.0,157.0,160.0,163.0,166.0,169.0,172.0,175.0,178.0,181.0,184.0,187.0,190.0,193.0,196.0,199.0,202.0,205.0,208.0,211.0,214.0,217.0,220.0,223.0,226.0,229.0,232.0,235.0,238.0,241.0,244.0,247.0,250.0,253.0,256.0,259.0,262.0,265.0,268.0],\"xaxis\":\"x2\",\"y\":[0.4899426278445931,0.4884333282822161,0.5106632325547602,0.5226368723356406,0.5284931424297769,0.5266297117113683,0.5249526961901834,0.5233054605286432,0.5197197051145788,0.5145414748295194,0.5109910867207199,0.5075067119983315,0.5037173984492594,0.5003859603708393,0.4982780072414096,0.4954005329911837,0.4930707826979133,0.4913327766551225,0.4895335791575755,0.48806560074034916,0.4866493320260719,0.4854245555232439,0.4848609650070117,0.4835319097078211,0.48260812375520296,0.48183300268911,0.48103431548063597,0.4801025698426013,0.47968331388099167,0.47944508100926186,0.4785643932791761,0.47812873845213505,0.4776823315213155,0.47714177005605757,0.4767280374143855,0.47651380782361286,0.47612608544415996,0.4756239597108905,0.47559776659891,0.4748949328394474,0.47491449881907155,0.4743885581528419,0.4744291915632423,0.47402949670018535,0.4738321147920109,0.4735896360115177,0.4733737746233778,0.4731144982484023,0.4730167062733904,0.4729859692852955,0.47293278387113435,0.4725325623925106,0.4724594891767199,0.4724940454861333,0.4722026377298379,0.4719813711004535,0.4721303627973054,0.47185557544636547,0.47189161054535356,0.4717293583584307,0.4716097624251855,0.4715713743545819,0.4716682571331868,0.47117641285994166,0.4715154431911738,0.4715678464741149,0.47107777398577627,0.47081030127939216,0.47134093610858674,0.4708529381587565,0.4709346817609993,0.4708734644908357,0.4708470092266243,0.4706309827870726,0.47087570543966845,0.47078277067601193,0.47035942519010604,0.4708708121960094,0.4707640885681975,0.47046694084486596,0.47044857073100227,0.4704748699778653,0.47022608232406615,0.4699894824956925,0.4702226803472859,0.47016269524378607,0.47003267114637265,0.47026260336187714,0.46995304417116,0.4699865715156427],\"yaxis\":\"y2\"},{\"hovertemplate\":\"first_factor=0.75<br>second_factor=False<br>tick=%{x}<br>mean=%{y}<extra></extra>\",\"legendgroup\":\"0.75\",\"line\":{\"color\":\"#ab63fa\",\"dash\":\"solid\"},\"marker\":{\"symbol\":\"circle\"},\"mode\":\"lines\",\"name\":\"0.75\",\"orientation\":\"v\",\"showlegend\":true,\"type\":\"scatter\",\"x\":[1.0,4.0,7.0,10.0,13.0,16.0,19.0,22.0,25.0,28.0,31.0,34.0,37.0,40.0,43.0,46.0,49.0,52.0,55.0,58.0,61.0,64.0,67.0,70.0,73.0,76.0,79.0,82.0,85.0,88.0,91.0,94.0,97.0,100.0,103.0,106.0,109.0,112.0,115.0,118.0,121.0,124.0,127.0,130.0,133.0,136.0,139.0,142.0,145.0,148.0,151.0,154.0,157.0,160.0,163.0,166.0,169.0,172.0,175.0,178.0,181.0,184.0,187.0,190.0,193.0,196.0,199.0,202.0,205.0,208.0,211.0,214.0,217.0,220.0,223.0,226.0,229.0,232.0,235.0,238.0,241.0,244.0,247.0,250.0,253.0,256.0,259.0,262.0,265.0,268.0],\"xaxis\":\"x\",\"y\":[0.48988453645481916,0.48706701956771337,0.5066266468356632,0.5163400149941267,0.5211311940897217,0.5186957371547372,0.516268721768722,0.5140609159744347,0.5100341601231136,0.5041454180802075,0.5003434953431884,0.4969235431004978,0.49301359682635026,0.48963178735236396,0.48712066743662646,0.48471550486070675,0.4814125124029101,0.47977701717829824,0.47829047606694736,0.47676385932324733,0.47497232505297293,0.47436092275210495,0.47334471527125277,0.4720507161967781,0.47109576906115874,0.4706728546860014,0.4698476905073456,0.4692251619783315,0.46838559038550287,0.4680424599245933,0.4671808061505132,0.4666501394948244,0.46626236302832474,0.4662006920972279,0.465316053519224,0.4653866924745812,0.46464831300262815,0.46451100337175844,0.46411379514852613,0.46403112790318396,0.46350059932554555,0.4633831221566315,0.4630155888593875,0.46275153279517683,0.46247629092534626,0.4623070356812002,0.4619064578291427,0.4621098558526702,0.46194915417350646,0.4617700438444611,0.4615205888236122,0.46142194260358704,0.46131613550096356,0.4612545480289198,0.4610195010749039,0.46097048582139644,0.46096427343666885,0.46070401145351775,0.46040709113877404,0.4603425971714563,0.4604596071535126,0.46038756784015616,0.46046338778667095,0.4604939284545858,0.4604342559216098,0.4598898619871626,0.4601077954975904,0.4599691418790556,0.4597976637871424,0.45967642920107205,0.45997278488964355,0.4598679510903683,0.45943124599719776,0.45936203909879797,0.4593135402399023,0.4595481465868054,0.45930391923952213,0.45958388470676764,0.4594626908395733,0.45921070354567284,0.45911471439156787,0.4593998925038332,0.4590621429088826,0.4592243594075426,0.4593408586158722,0.4592752187386702,0.45877049721901453,0.45882269690220523,0.45943243707458675,0.4590944595409093],\"yaxis\":\"y\"},{\"hovertemplate\":\"first_factor=0.75<br>second_factor=True<br>tick=%{x}<br>mean=%{y}<extra></extra>\",\"legendgroup\":\"0.75\",\"line\":{\"color\":\"#ab63fa\",\"dash\":\"solid\"},\"marker\":{\"symbol\":\"circle\"},\"mode\":\"lines\",\"name\":\"0.75\",\"orientation\":\"v\",\"showlegend\":false,\"type\":\"scatter\",\"x\":[1.0,4.0,7.0,10.0,13.0,16.0,19.0,22.0,25.0,28.0,31.0,34.0,37.0,40.0,43.0,46.0,49.0,52.0,55.0,58.0,61.0,64.0,67.0,70.0,73.0,76.0,79.0,82.0,85.0,88.0,91.0,94.0,97.0,100.0,103.0,106.0,109.0,112.0,115.0,118.0,121.0,124.0,127.0,130.0,133.0,136.0,139.0,142.0,145.0,148.0,151.0,154.0,157.0,160.0,163.0,166.0,169.0,172.0,175.0,178.0,181.0,184.0,187.0,190.0,193.0,196.0,199.0,202.0,205.0,208.0,211.0,214.0,217.0,220.0,223.0,226.0,229.0,232.0,235.0,238.0,241.0,244.0,247.0,250.0,253.0,256.0,259.0,262.0,265.0,268.0],\"xaxis\":\"x2\",\"y\":[0.4904602243455,0.4891863178224908,0.510663581358809,0.5217928582884929,0.5276129405001833,0.5252868180501923,0.5235136309115306,0.5215581582786719,0.517865915097066,0.5123271568820156,0.5088519157681237,0.5055646728138374,0.5014228176895125,0.49789091810122843,0.49553048676467787,0.493054429181199,0.4903528862270054,0.48877257916752925,0.4871626433203388,0.4853641250635337,0.48391623722207416,0.48280667951608314,0.4818364654675483,0.4807315557481331,0.48035010237119297,0.47919895641172033,0.47842059376917934,0.4778295539671399,0.4771890678218751,0.4764670733360194,0.4761431222663163,0.47561824703661354,0.4752103964464117,0.47475424583803144,0.47398011168578924,0.47368386880533925,0.47341554309666484,0.4731130897059896,0.4727949438596564,0.4724737105925021,0.47193619443857016,0.47190185034179666,0.47149921853964105,0.47149319705750786,0.4714294285162649,0.47106919283272447,0.4707934262812054,0.4706645532692106,0.4705076526360023,0.47030203520424113,0.4701194885915591,0.47042702852276574,0.4701136914709822,0.46977274336601005,0.46956792849773343,0.4696780255407761,0.4695080543273345,0.4693849607842381,0.4694144722169603,0.4693947382212842,0.46913878950212523,0.46929183735879904,0.46895446541465713,0.46896663775242875,0.4688410245488554,0.46891547667441047,0.4690200687489899,0.4686690844739021,0.4687961840909624,0.4685930571222849,0.468633219869191,0.4684098666333958,0.4687840206548425,0.4684366790673858,0.468279454800355,0.46831906070301416,0.46831794146175615,0.46813012898476725,0.4681906356023711,0.46809019379818056,0.4682686523974436,0.4677723525893001,0.4679165456556189,0.46762087873263736,0.46795106885999577,0.467835875256049,0.4677956551359967,0.4679610269815194,0.46780302647197275,0.46748447085380174],\"yaxis\":\"y2\"},{\"hovertemplate\":\"first_factor=1.0<br>second_factor=False<br>tick=%{x}<br>mean=%{y}<extra></extra>\",\"legendgroup\":\"1.0\",\"line\":{\"color\":\"#FFA15A\",\"dash\":\"solid\"},\"marker\":{\"symbol\":\"circle\"},\"mode\":\"lines\",\"name\":\"1.0\",\"orientation\":\"v\",\"showlegend\":true,\"type\":\"scatter\",\"x\":[1.0,4.0,7.0,10.0,13.0,16.0,19.0,22.0,25.0,28.0,31.0,34.0,37.0,40.0,43.0,46.0,49.0,52.0,55.0,58.0,61.0,64.0,67.0,70.0,73.0,76.0,79.0,82.0,85.0,88.0,91.0,94.0,97.0,100.0,103.0,106.0,109.0,112.0,115.0,118.0,121.0,124.0,127.0,130.0,133.0,136.0,139.0,142.0,145.0,148.0,151.0,154.0,157.0,160.0,163.0,166.0,169.0,172.0,175.0,178.0,181.0,184.0,187.0,190.0,193.0,196.0,199.0,202.0,205.0,208.0,211.0,214.0,217.0,220.0,223.0,226.0,229.0,232.0,235.0,238.0,241.0,244.0,247.0,250.0,253.0,256.0,259.0,262.0,265.0,268.0],\"xaxis\":\"x\",\"y\":[0.48886640012316385,0.48505737291738876,0.5030887124187572,0.5115083270790025,0.5151021293098237,0.511763508509964,0.5087517940158044,0.505922186468374,0.5014233774577764,0.49576308031833777,0.4921656960333241,0.4883448030247212,0.48380264718024685,0.4805556275479058,0.47793060581125507,0.4750824128788323,0.4722431746122494,0.4707077544186405,0.46938246474450207,0.46728089922567534,0.4657243840583376,0.4648942777530715,0.4638309233989192,0.46258084015995776,0.4621992740975068,0.46146501157267195,0.4603910691804776,0.45952854429165046,0.4593721076964309,0.45827307799256345,0.45789383575604775,0.45735136309487084,0.4571161260289177,0.45649629671444814,0.4563699016719341,0.4559613501547571,0.4556222772547836,0.45523763805002987,0.45481753323415613,0.4546904512370056,0.4545265748400669,0.4539884493110643,0.4539221307848942,0.45386425414727294,0.4537904884851836,0.45317554661792037,0.4535193856282448,0.45292009130751487,0.4528592512846351,0.4524621249858523,0.4527294505690272,0.45234900276575657,0.4523326507518808,0.452270196656776,0.4518631154081873,0.45209248735764984,0.45152330592115014,0.45156911297645036,0.45164411797099924,0.4516696462832087,0.45153263001650884,0.4512700057014372,0.45158566519496723,0.450893197329127,0.45091850069219136,0.4510262338953012,0.45080903750904083,0.4507840066071311,0.45089341438231006,0.450677824503481,0.4505139124378206,0.4507149071567834,0.4506197693104278,0.45037859924952844,0.4506712505578291,0.450459212947688,0.4503811316026061,0.4506885347104567,0.4502540372296175,0.45027405651683117,0.4503914730518727,0.45060544139697495,0.4499366588265474,0.45014410012446493,0.45024703771694535,0.4498514353799952,0.44989194590185666,0.4501640855845139,0.4500333825987544,0.4498553888764834],\"yaxis\":\"y\"},{\"hovertemplate\":\"first_factor=1.0<br>second_factor=True<br>tick=%{x}<br>mean=%{y}<extra></extra>\",\"legendgroup\":\"1.0\",\"line\":{\"color\":\"#FFA15A\",\"dash\":\"solid\"},\"marker\":{\"symbol\":\"circle\"},\"mode\":\"lines\",\"name\":\"1.0\",\"orientation\":\"v\",\"showlegend\":false,\"type\":\"scatter\",\"x\":[1.0,4.0,7.0,10.0,13.0,16.0,19.0,22.0,25.0,28.0,31.0,34.0,37.0,40.0,43.0,46.0,49.0,52.0,55.0,58.0,61.0,64.0,67.0,70.0,73.0,76.0,79.0,82.0,85.0,88.0,91.0,94.0,97.0,100.0,103.0,106.0,109.0,112.0,115.0,118.0,121.0,124.0,127.0,130.0,133.0,136.0,139.0,142.0,145.0,148.0,151.0,154.0,157.0,160.0,163.0,166.0,169.0,172.0,175.0,178.0,181.0,184.0,187.0,190.0,193.0,196.0,199.0,202.0,205.0,208.0,211.0,214.0,217.0,220.0,223.0,226.0,229.0,232.0,235.0,238.0,241.0,244.0,247.0,250.0,253.0,256.0,259.0,262.0,265.0,268.0],\"xaxis\":\"x2\",\"y\":[0.4895215995099306,0.48710839640806003,0.5077985497785525,0.5186436697155444,0.5240511344085489,0.5218104187050353,0.5201658960652329,0.5180177350804371,0.5141891212804084,0.509221543440582,0.5055910693750272,0.5021226052768625,0.49795931060818416,0.4944376218303527,0.4922785468666338,0.48986190476741925,0.4869160244525485,0.4850712312565881,0.48370842897259275,0.48208122029494677,0.4805726371994049,0.4795343663966935,0.47885436100407053,0.47744209393572484,0.4763284336135303,0.4757371237005176,0.4751671443578037,0.47431268876030874,0.47362221012414546,0.47341873478200414,0.47288961318126677,0.47231831394342605,0.4716257468635278,0.4714241703984063,0.4708192121780377,0.47062630884651907,0.47043127911807503,0.47010509746864176,0.4695579626989944,0.46918960080930117,0.4688840924672456,0.4685643744295509,0.46842104587900996,0.468025922851515,0.46785049590348177,0.46768194677721325,0.46719928001327643,0.46706509138932834,0.46698074643617216,0.4668444197625262,0.4668409124449312,0.46685521820829934,0.466390420972398,0.46635863664268246,0.46602970792476744,0.46613398278670304,0.46620627931102365,0.46596167326554383,0.4659703945782944,0.4657816131831914,0.46572063912253975,0.4656249258526355,0.46566946361680167,0.4655980210473214,0.46563251726481536,0.46553768342061586,0.46542092743028235,0.4650064835237764,0.46511502892684226,0.4647925499177015,0.4653611650673669,0.4650316001898254,0.46481448988858004,0.4648781092796647,0.46488705276274883,0.46451450458265325,0.46480528836671764,0.4644524097301002,0.46464808237573574,0.4644238324063725,0.4646479059228957,0.46449582334155176,0.464249715097779,0.4642232102693253,0.4644837667941833,0.46432795543568994,0.4643111176120963,0.46398014192592885,0.4641105466836952,0.46420630461765294],\"yaxis\":\"y2\"}],                        {\"annotations\":[{\"font\":{},\"showarrow\":false,\"text\":\"second_factor=False\",\"x\":0.245,\"xanchor\":\"center\",\"xref\":\"paper\",\"y\":1.0,\"yanchor\":\"bottom\",\"yref\":\"paper\"},{\"font\":{},\"showarrow\":false,\"text\":\"second_factor=True\",\"x\":0.755,\"xanchor\":\"center\",\"xref\":\"paper\",\"y\":1.0,\"yanchor\":\"bottom\",\"yref\":\"paper\"}],\"legend\":{\"title\":{\"text\":\"first_factor\"},\"tracegroupgap\":0},\"margin\":{\"t\":60},\"template\":{\"data\":{\"bar\":[{\"error_x\":{\"color\":\"#2a3f5f\"},\"error_y\":{\"color\":\"#2a3f5f\"},\"marker\":{\"line\":{\"color\":\"#E5ECF6\",\"width\":0.5},\"pattern\":{\"fillmode\":\"overlay\",\"size\":10,\"solidity\":0.2}},\"type\":\"bar\"}],\"barpolar\":[{\"marker\":{\"line\":{\"color\":\"#E5ECF6\",\"width\":0.5},\"pattern\":{\"fillmode\":\"overlay\",\"size\":10,\"solidity\":0.2}},\"type\":\"barpolar\"}],\"carpet\":[{\"aaxis\":{\"endlinecolor\":\"#2a3f5f\",\"gridcolor\":\"white\",\"linecolor\":\"white\",\"minorgridcolor\":\"white\",\"startlinecolor\":\"#2a3f5f\"},\"baxis\":{\"endlinecolor\":\"#2a3f5f\",\"gridcolor\":\"white\",\"linecolor\":\"white\",\"minorgridcolor\":\"white\",\"startlinecolor\":\"#2a3f5f\"},\"type\":\"carpet\"}],\"choropleth\":[{\"colorbar\":{\"outlinewidth\":0,\"ticks\":\"\"},\"type\":\"choropleth\"}],\"contour\":[{\"colorbar\":{\"outlinewidth\":0,\"ticks\":\"\"},\"colorscale\":[[0.0,\"#0d0887\"],[0.1111111111111111,\"#46039f\"],[0.2222222222222222,\"#7201a8\"],[0.3333333333333333,\"#9c179e\"],[0.4444444444444444,\"#bd3786\"],[0.5555555555555556,\"#d8576b\"],[0.6666666666666666,\"#ed7953\"],[0.7777777777777778,\"#fb9f3a\"],[0.8888888888888888,\"#fdca26\"],[1.0,\"#f0f921\"]],\"type\":\"contour\"}],\"contourcarpet\":[{\"colorbar\":{\"outlinewidth\":0,\"ticks\":\"\"},\"type\":\"contourcarpet\"}],\"heatmap\":[{\"colorbar\":{\"outlinewidth\":0,\"ticks\":\"\"},\"colorscale\":[[0.0,\"#0d0887\"],[0.1111111111111111,\"#46039f\"],[0.2222222222222222,\"#7201a8\"],[0.3333333333333333,\"#9c179e\"],[0.4444444444444444,\"#bd3786\"],[0.5555555555555556,\"#d8576b\"],[0.6666666666666666,\"#ed7953\"],[0.7777777777777778,\"#fb9f3a\"],[0.8888888888888888,\"#fdca26\"],[1.0,\"#f0f921\"]],\"type\":\"heatmap\"}],\"heatmapgl\":[{\"colorbar\":{\"outlinewidth\":0,\"ticks\":\"\"},\"colorscale\":[[0.0,\"#0d0887\"],[0.1111111111111111,\"#46039f\"],[0.2222222222222222,\"#7201a8\"],[0.3333333333333333,\"#9c179e\"],[0.4444444444444444,\"#bd3786\"],[0.5555555555555556,\"#d8576b\"],[0.6666666666666666,\"#ed7953\"],[0.7777777777777778,\"#fb9f3a\"],[0.8888888888888888,\"#fdca26\"],[1.0,\"#f0f921\"]],\"type\":\"heatmapgl\"}],\"histogram\":[{\"marker\":{\"pattern\":{\"fillmode\":\"overlay\",\"size\":10,\"solidity\":0.2}},\"type\":\"histogram\"}],\"histogram2d\":[{\"colorbar\":{\"outlinewidth\":0,\"ticks\":\"\"},\"colorscale\":[[0.0,\"#0d0887\"],[0.1111111111111111,\"#46039f\"],[0.2222222222222222,\"#7201a8\"],[0.3333333333333333,\"#9c179e\"],[0.4444444444444444,\"#bd3786\"],[0.5555555555555556,\"#d8576b\"],[0.6666666666666666,\"#ed7953\"],[0.7777777777777778,\"#fb9f3a\"],[0.8888888888888888,\"#fdca26\"],[1.0,\"#f0f921\"]],\"type\":\"histogram2d\"}],\"histogram2dcontour\":[{\"colorbar\":{\"outlinewidth\":0,\"ticks\":\"\"},\"colorscale\":[[0.0,\"#0d0887\"],[0.1111111111111111,\"#46039f\"],[0.2222222222222222,\"#7201a8\"],[0.3333333333333333,\"#9c179e\"],[0.4444444444444444,\"#bd3786\"],[0.5555555555555556,\"#d8576b\"],[0.6666666666666666,\"#ed7953\"],[0.7777777777777778,\"#fb9f3a\"],[0.8888888888888888,\"#fdca26\"],[1.0,\"#f0f921\"]],\"type\":\"histogram2dcontour\"}],\"mesh3d\":[{\"colorbar\":{\"outlinewidth\":0,\"ticks\":\"\"},\"type\":\"mesh3d\"}],\"parcoords\":[{\"line\":{\"colorbar\":{\"outlinewidth\":0,\"ticks\":\"\"}},\"type\":\"parcoords\"}],\"pie\":[{\"automargin\":true,\"type\":\"pie\"}],\"scatter\":[{\"marker\":{\"colorbar\":{\"outlinewidth\":0,\"ticks\":\"\"}},\"type\":\"scatter\"}],\"scatter3d\":[{\"line\":{\"colorbar\":{\"outlinewidth\":0,\"ticks\":\"\"}},\"marker\":{\"colorbar\":{\"outlinewidth\":0,\"ticks\":\"\"}},\"type\":\"scatter3d\"}],\"scattercarpet\":[{\"marker\":{\"colorbar\":{\"outlinewidth\":0,\"ticks\":\"\"}},\"type\":\"scattercarpet\"}],\"scattergeo\":[{\"marker\":{\"colorbar\":{\"outlinewidth\":0,\"ticks\":\"\"}},\"type\":\"scattergeo\"}],\"scattergl\":[{\"marker\":{\"colorbar\":{\"outlinewidth\":0,\"ticks\":\"\"}},\"type\":\"scattergl\"}],\"scattermapbox\":[{\"marker\":{\"colorbar\":{\"outlinewidth\":0,\"ticks\":\"\"}},\"type\":\"scattermapbox\"}],\"scatterpolar\":[{\"marker\":{\"colorbar\":{\"outlinewidth\":0,\"ticks\":\"\"}},\"type\":\"scatterpolar\"}],\"scatterpolargl\":[{\"marker\":{\"colorbar\":{\"outlinewidth\":0,\"ticks\":\"\"}},\"type\":\"scatterpolargl\"}],\"scatterternary\":[{\"marker\":{\"colorbar\":{\"outlinewidth\":0,\"ticks\":\"\"}},\"type\":\"scatterternary\"}],\"surface\":[{\"colorbar\":{\"outlinewidth\":0,\"ticks\":\"\"},\"colorscale\":[[0.0,\"#0d0887\"],[0.1111111111111111,\"#46039f\"],[0.2222222222222222,\"#7201a8\"],[0.3333333333333333,\"#9c179e\"],[0.4444444444444444,\"#bd3786\"],[0.5555555555555556,\"#d8576b\"],[0.6666666666666666,\"#ed7953\"],[0.7777777777777778,\"#fb9f3a\"],[0.8888888888888888,\"#fdca26\"],[1.0,\"#f0f921\"]],\"type\":\"surface\"}],\"table\":[{\"cells\":{\"fill\":{\"color\":\"#EBF0F8\"},\"line\":{\"color\":\"white\"}},\"header\":{\"fill\":{\"color\":\"#C8D4E3\"},\"line\":{\"color\":\"white\"}},\"type\":\"table\"}]},\"layout\":{\"annotationdefaults\":{\"arrowcolor\":\"#2a3f5f\",\"arrowhead\":0,\"arrowwidth\":1},\"autotypenumbers\":\"strict\",\"coloraxis\":{\"colorbar\":{\"outlinewidth\":0,\"ticks\":\"\"}},\"colorscale\":{\"diverging\":[[0,\"#8e0152\"],[0.1,\"#c51b7d\"],[0.2,\"#de77ae\"],[0.3,\"#f1b6da\"],[0.4,\"#fde0ef\"],[0.5,\"#f7f7f7\"],[0.6,\"#e6f5d0\"],[0.7,\"#b8e186\"],[0.8,\"#7fbc41\"],[0.9,\"#4d9221\"],[1,\"#276419\"]],\"sequential\":[[0.0,\"#0d0887\"],[0.1111111111111111,\"#46039f\"],[0.2222222222222222,\"#7201a8\"],[0.3333333333333333,\"#9c179e\"],[0.4444444444444444,\"#bd3786\"],[0.5555555555555556,\"#d8576b\"],[0.6666666666666666,\"#ed7953\"],[0.7777777777777778,\"#fb9f3a\"],[0.8888888888888888,\"#fdca26\"],[1.0,\"#f0f921\"]],\"sequentialminus\":[[0.0,\"#0d0887\"],[0.1111111111111111,\"#46039f\"],[0.2222222222222222,\"#7201a8\"],[0.3333333333333333,\"#9c179e\"],[0.4444444444444444,\"#bd3786\"],[0.5555555555555556,\"#d8576b\"],[0.6666666666666666,\"#ed7953\"],[0.7777777777777778,\"#fb9f3a\"],[0.8888888888888888,\"#fdca26\"],[1.0,\"#f0f921\"]]},\"colorway\":[\"#636efa\",\"#EF553B\",\"#00cc96\",\"#ab63fa\",\"#FFA15A\",\"#19d3f3\",\"#FF6692\",\"#B6E880\",\"#FF97FF\",\"#FECB52\"],\"font\":{\"color\":\"#2a3f5f\"},\"geo\":{\"bgcolor\":\"white\",\"lakecolor\":\"white\",\"landcolor\":\"#E5ECF6\",\"showlakes\":true,\"showland\":true,\"subunitcolor\":\"white\"},\"hoverlabel\":{\"align\":\"left\"},\"hovermode\":\"closest\",\"mapbox\":{\"style\":\"light\"},\"paper_bgcolor\":\"white\",\"plot_bgcolor\":\"#E5ECF6\",\"polar\":{\"angularaxis\":{\"gridcolor\":\"white\",\"linecolor\":\"white\",\"ticks\":\"\"},\"bgcolor\":\"#E5ECF6\",\"radialaxis\":{\"gridcolor\":\"white\",\"linecolor\":\"white\",\"ticks\":\"\"}},\"scene\":{\"xaxis\":{\"backgroundcolor\":\"#E5ECF6\",\"gridcolor\":\"white\",\"gridwidth\":2,\"linecolor\":\"white\",\"showbackground\":true,\"ticks\":\"\",\"zerolinecolor\":\"white\"},\"yaxis\":{\"backgroundcolor\":\"#E5ECF6\",\"gridcolor\":\"white\",\"gridwidth\":2,\"linecolor\":\"white\",\"showbackground\":true,\"ticks\":\"\",\"zerolinecolor\":\"white\"},\"zaxis\":{\"backgroundcolor\":\"#E5ECF6\",\"gridcolor\":\"white\",\"gridwidth\":2,\"linecolor\":\"white\",\"showbackground\":true,\"ticks\":\"\",\"zerolinecolor\":\"white\"}},\"shapedefaults\":{\"line\":{\"color\":\"#2a3f5f\"}},\"ternary\":{\"aaxis\":{\"gridcolor\":\"white\",\"linecolor\":\"white\",\"ticks\":\"\"},\"baxis\":{\"gridcolor\":\"white\",\"linecolor\":\"white\",\"ticks\":\"\"},\"bgcolor\":\"#E5ECF6\",\"caxis\":{\"gridcolor\":\"white\",\"linecolor\":\"white\",\"ticks\":\"\"}},\"title\":{\"x\":0.05},\"xaxis\":{\"automargin\":true,\"gridcolor\":\"white\",\"linecolor\":\"white\",\"ticks\":\"\",\"title\":{\"standoff\":15},\"zerolinecolor\":\"white\",\"zerolinewidth\":2},\"yaxis\":{\"automargin\":true,\"gridcolor\":\"white\",\"linecolor\":\"white\",\"ticks\":\"\",\"title\":{\"standoff\":15},\"zerolinecolor\":\"white\",\"zerolinewidth\":2}}},\"xaxis\":{\"anchor\":\"y\",\"domain\":[0.0,0.49],\"title\":{\"text\":\"tick\"}},\"xaxis2\":{\"anchor\":\"y2\",\"domain\":[0.51,1.0],\"matches\":\"x\",\"title\":{\"text\":\"tick\"}},\"yaxis\":{\"anchor\":\"x\",\"domain\":[0.0,1.0],\"title\":{\"text\":\"mean\"}},\"yaxis2\":{\"anchor\":\"x2\",\"domain\":[0.0,1.0],\"matches\":\"y\",\"showticklabels\":false}},                        {\"responsive\": true}                    ).then(function(){\n                            \nvar gd = document.getElementById('1819a7ff-5096-4f62-9bc7-69fb492259ec');\nvar x = new MutationObserver(function (mutations, observer) {{\n        var display = window.getComputedStyle(gd).display;\n        if (!display || display === 'none') {{\n            console.log([gd, 'removed!']);\n            Plotly.purge(gd);\n            observer.disconnect();\n        }}\n}});\n\n// Listen for the removal of the full notebook cells\nvar notebookContainer = gd.closest('#notebook-container');\nif (notebookContainer) {{\n    x.observe(notebookContainer, {childList: true});\n}}\n\n// Listen for the clearing of the current output cell\nvar outputEl = gd.closest('.output');\nif (outputEl) {{\n    x.observe(outputEl, {childList: true});\n}}\n\n                        })                };                });            </script>        </div>"
     },
     "metadata": {},
     "output_type": "display_data"
    }
   ],
   "source": [
    "mean_plot = px.line(reset_df, x = \"tick\", y=\"mean\", color=\"first_factor\",facet_col=\"second_factor\")#, facet_row=\"yetAnother\"\n",
    "mean_plot"
   ],
   "metadata": {
    "collapsed": false,
    "pycharm": {
     "name": "#%%\n"
    }
   }
  },
  {
   "cell_type": "code",
   "execution_count": 69,
   "outputs": [
    {
     "data": {
      "application/vnd.plotly.v1+json": {
       "config": {
        "plotlyServerURL": "https://plot.ly"
       },
       "data": [
        {
         "dimensions": [
          {
           "axis": {
            "matches": true
           },
           "label": "second_factor",
           "values": [
            false,
            true,
            false,
            true,
            false,
            true,
            false,
            true,
            false,
            true,
            false,
            true,
            false,
            true,
            false,
            true,
            false,
            true,
            false,
            true,
            false,
            true,
            false,
            true,
            false,
            true,
            false,
            true,
            false,
            true,
            false,
            true,
            false,
            true,
            false,
            true,
            false,
            true,
            false,
            true,
            false,
            true,
            false,
            true,
            false,
            true,
            false,
            true,
            false,
            true,
            false,
            true,
            false,
            true,
            false,
            true,
            false,
            true,
            false,
            true,
            false,
            true,
            false,
            true,
            false,
            true,
            false,
            true,
            false,
            true,
            false,
            true,
            false,
            true,
            false,
            true,
            false,
            true,
            false,
            true,
            false,
            true,
            false,
            true,
            false,
            true,
            false,
            true,
            false,
            true,
            false,
            true,
            false,
            true,
            false,
            true,
            false,
            true,
            false,
            true,
            false,
            true,
            false,
            true,
            false,
            true,
            false,
            true,
            false,
            true,
            false,
            true,
            false,
            true,
            false,
            true,
            false,
            true,
            false,
            true,
            false,
            true,
            false,
            true,
            false,
            true,
            false,
            true,
            false,
            true,
            false,
            true,
            false,
            true,
            false,
            true,
            false,
            true,
            false,
            true,
            false,
            true,
            false,
            true,
            false,
            true,
            false,
            true,
            false,
            true,
            false,
            true,
            false,
            true,
            false,
            true,
            false,
            true,
            false,
            true,
            false,
            true,
            false,
            true,
            false,
            true,
            false,
            true,
            false,
            true,
            false,
            true,
            false,
            true,
            false,
            true,
            false,
            true,
            false,
            true
           ]
          }
         ],
         "hovertemplate": "first_factor=0.0<br>%{xaxis.title.text}=%{x}<br>%{yaxis.title.text}=%{y}<extra></extra>",
         "legendgroup": "0.0",
         "marker": {
          "color": "#636efa",
          "symbol": "circle"
         },
         "name": "0.0",
         "showlegend": true,
         "type": "splom"
        },
        {
         "dimensions": [
          {
           "axis": {
            "matches": true
           },
           "label": "second_factor",
           "values": [
            false,
            true,
            false,
            true,
            false,
            true,
            false,
            true,
            false,
            true,
            false,
            true,
            false,
            true,
            false,
            true,
            false,
            true,
            false,
            true,
            false,
            true,
            false,
            true,
            false,
            true,
            false,
            true,
            false,
            true,
            false,
            true,
            false,
            true,
            false,
            true,
            false,
            true,
            false,
            true,
            false,
            true,
            false,
            true,
            false,
            true,
            false,
            true,
            false,
            true,
            false,
            true,
            false,
            true,
            false,
            true,
            false,
            true,
            false,
            true,
            false,
            true,
            false,
            true,
            false,
            true,
            false,
            true,
            false,
            true,
            false,
            true,
            false,
            true,
            false,
            true,
            false,
            true,
            false,
            true,
            false,
            true,
            false,
            true,
            false,
            true,
            false,
            true,
            false,
            true,
            false,
            true,
            false,
            true,
            false,
            true,
            false,
            true,
            false,
            true,
            false,
            true,
            false,
            true,
            false,
            true,
            false,
            true,
            false,
            true,
            false,
            true,
            false,
            true,
            false,
            true,
            false,
            true,
            false,
            true,
            false,
            true,
            false,
            true,
            false,
            true,
            false,
            true,
            false,
            true,
            false,
            true,
            false,
            true,
            false,
            true,
            false,
            true,
            false,
            true,
            false,
            true,
            false,
            true,
            false,
            true,
            false,
            true,
            false,
            true,
            false,
            true,
            false,
            true,
            false,
            true,
            false,
            true,
            false,
            true,
            false,
            true,
            false,
            true,
            false,
            true,
            false,
            true,
            false,
            true,
            false,
            true,
            false,
            true,
            false,
            true,
            false,
            true,
            false,
            true
           ]
          }
         ],
         "hovertemplate": "first_factor=0.25<br>%{xaxis.title.text}=%{x}<br>%{yaxis.title.text}=%{y}<extra></extra>",
         "legendgroup": "0.25",
         "marker": {
          "color": "#EF553B",
          "symbol": "circle"
         },
         "name": "0.25",
         "showlegend": true,
         "type": "splom"
        },
        {
         "dimensions": [
          {
           "axis": {
            "matches": true
           },
           "label": "second_factor",
           "values": [
            false,
            true,
            false,
            true,
            false,
            true,
            false,
            true,
            false,
            true,
            false,
            true,
            false,
            true,
            false,
            true,
            false,
            true,
            false,
            true,
            false,
            true,
            false,
            true,
            false,
            true,
            false,
            true,
            false,
            true,
            false,
            true,
            false,
            true,
            false,
            true,
            false,
            true,
            false,
            true,
            false,
            true,
            false,
            true,
            false,
            true,
            false,
            true,
            false,
            true,
            false,
            true,
            false,
            true,
            false,
            true,
            false,
            true,
            false,
            true,
            false,
            true,
            false,
            true,
            false,
            true,
            false,
            true,
            false,
            true,
            false,
            true,
            false,
            true,
            false,
            true,
            false,
            true,
            false,
            true,
            false,
            true,
            false,
            true,
            false,
            true,
            false,
            true,
            false,
            true,
            false,
            true,
            false,
            true,
            false,
            true,
            false,
            true,
            false,
            true,
            false,
            true,
            false,
            true,
            false,
            true,
            false,
            true,
            false,
            true,
            false,
            true,
            false,
            true,
            false,
            true,
            false,
            true,
            false,
            true,
            false,
            true,
            false,
            true,
            false,
            true,
            false,
            true,
            false,
            true,
            false,
            true,
            false,
            true,
            false,
            true,
            false,
            true,
            false,
            true,
            false,
            true,
            false,
            true,
            false,
            true,
            false,
            true,
            false,
            true,
            false,
            true,
            false,
            true,
            false,
            true,
            false,
            true,
            false,
            true,
            false,
            true,
            false,
            true,
            false,
            true,
            false,
            true,
            false,
            true,
            false,
            true,
            false,
            true,
            false,
            true,
            false,
            true,
            false,
            true
           ]
          }
         ],
         "hovertemplate": "first_factor=0.5<br>%{xaxis.title.text}=%{x}<br>%{yaxis.title.text}=%{y}<extra></extra>",
         "legendgroup": "0.5",
         "marker": {
          "color": "#00cc96",
          "symbol": "circle"
         },
         "name": "0.5",
         "showlegend": true,
         "type": "splom"
        },
        {
         "dimensions": [
          {
           "axis": {
            "matches": true
           },
           "label": "second_factor",
           "values": [
            false,
            true,
            false,
            true,
            false,
            true,
            false,
            true,
            false,
            true,
            false,
            true,
            false,
            true,
            false,
            true,
            false,
            true,
            false,
            true,
            false,
            true,
            false,
            true,
            false,
            true,
            false,
            true,
            false,
            true,
            false,
            true,
            false,
            true,
            false,
            true,
            false,
            true,
            false,
            true,
            false,
            true,
            false,
            true,
            false,
            true,
            false,
            true,
            false,
            true,
            false,
            true,
            false,
            true,
            false,
            true,
            false,
            true,
            false,
            true,
            false,
            true,
            false,
            true,
            false,
            true,
            false,
            true,
            false,
            true,
            false,
            true,
            false,
            true,
            false,
            true,
            false,
            true,
            false,
            true,
            false,
            true,
            false,
            true,
            false,
            true,
            false,
            true,
            false,
            true,
            false,
            true,
            false,
            true,
            false,
            true,
            false,
            true,
            false,
            true,
            false,
            true,
            false,
            true,
            false,
            true,
            false,
            true,
            false,
            true,
            false,
            true,
            false,
            true,
            false,
            true,
            false,
            true,
            false,
            true,
            false,
            true,
            false,
            true,
            false,
            true,
            false,
            true,
            false,
            true,
            false,
            true,
            false,
            true,
            false,
            true,
            false,
            true,
            false,
            true,
            false,
            true,
            false,
            true,
            false,
            true,
            false,
            true,
            false,
            true,
            false,
            true,
            false,
            true,
            false,
            true,
            false,
            true,
            false,
            true,
            false,
            true,
            false,
            true,
            false,
            true,
            false,
            true,
            false,
            true,
            false,
            true,
            false,
            true,
            false,
            true,
            false,
            true,
            false,
            true
           ]
          }
         ],
         "hovertemplate": "first_factor=0.75<br>%{xaxis.title.text}=%{x}<br>%{yaxis.title.text}=%{y}<extra></extra>",
         "legendgroup": "0.75",
         "marker": {
          "color": "#ab63fa",
          "symbol": "circle"
         },
         "name": "0.75",
         "showlegend": true,
         "type": "splom"
        },
        {
         "dimensions": [
          {
           "axis": {
            "matches": true
           },
           "label": "second_factor",
           "values": [
            false,
            true,
            false,
            true,
            false,
            true,
            false,
            true,
            false,
            true,
            false,
            true,
            false,
            true,
            false,
            true,
            false,
            true,
            false,
            true,
            false,
            true,
            false,
            true,
            false,
            true,
            false,
            true,
            false,
            true,
            false,
            true,
            false,
            true,
            false,
            true,
            false,
            true,
            false,
            true,
            false,
            true,
            false,
            true,
            false,
            true,
            false,
            true,
            false,
            true,
            false,
            true,
            false,
            true,
            false,
            true,
            false,
            true,
            false,
            true,
            false,
            true,
            false,
            true,
            false,
            true,
            false,
            true,
            false,
            true,
            false,
            true,
            false,
            true,
            false,
            true,
            false,
            true,
            false,
            true,
            false,
            true,
            false,
            true,
            false,
            true,
            false,
            true,
            false,
            true,
            false,
            true,
            false,
            true,
            false,
            true,
            false,
            true,
            false,
            true,
            false,
            true,
            false,
            true,
            false,
            true,
            false,
            true,
            false,
            true,
            false,
            true,
            false,
            true,
            false,
            true,
            false,
            true,
            false,
            true,
            false,
            true,
            false,
            true,
            false,
            true,
            false,
            true,
            false,
            true,
            false,
            true,
            false,
            true,
            false,
            true,
            false,
            true,
            false,
            true,
            false,
            true,
            false,
            true,
            false,
            true,
            false,
            true,
            false,
            true,
            false,
            true,
            false,
            true,
            false,
            true,
            false,
            true,
            false,
            true,
            false,
            true,
            false,
            true,
            false,
            true,
            false,
            true,
            false,
            true,
            false,
            true,
            false,
            true,
            false,
            true,
            false,
            true,
            false,
            true
           ]
          }
         ],
         "hovertemplate": "first_factor=1.0<br>%{xaxis.title.text}=%{x}<br>%{yaxis.title.text}=%{y}<extra></extra>",
         "legendgroup": "1.0",
         "marker": {
          "color": "#FFA15A",
          "symbol": "circle"
         },
         "name": "1.0",
         "showlegend": true,
         "type": "splom"
        }
       ],
       "layout": {
        "dragmode": "select",
        "legend": {
         "title": {
          "text": "first_factor"
         },
         "tracegroupgap": 0
        },
        "margin": {
         "t": 60
        },
        "template": {
         "data": {
          "bar": [
           {
            "error_x": {
             "color": "#2a3f5f"
            },
            "error_y": {
             "color": "#2a3f5f"
            },
            "marker": {
             "line": {
              "color": "#E5ECF6",
              "width": 0.5
             },
             "pattern": {
              "fillmode": "overlay",
              "size": 10,
              "solidity": 0.2
             }
            },
            "type": "bar"
           }
          ],
          "barpolar": [
           {
            "marker": {
             "line": {
              "color": "#E5ECF6",
              "width": 0.5
             },
             "pattern": {
              "fillmode": "overlay",
              "size": 10,
              "solidity": 0.2
             }
            },
            "type": "barpolar"
           }
          ],
          "carpet": [
           {
            "aaxis": {
             "endlinecolor": "#2a3f5f",
             "gridcolor": "white",
             "linecolor": "white",
             "minorgridcolor": "white",
             "startlinecolor": "#2a3f5f"
            },
            "baxis": {
             "endlinecolor": "#2a3f5f",
             "gridcolor": "white",
             "linecolor": "white",
             "minorgridcolor": "white",
             "startlinecolor": "#2a3f5f"
            },
            "type": "carpet"
           }
          ],
          "choropleth": [
           {
            "colorbar": {
             "outlinewidth": 0,
             "ticks": ""
            },
            "type": "choropleth"
           }
          ],
          "contour": [
           {
            "colorbar": {
             "outlinewidth": 0,
             "ticks": ""
            },
            "colorscale": [
             [
              0.0,
              "#0d0887"
             ],
             [
              0.1111111111111111,
              "#46039f"
             ],
             [
              0.2222222222222222,
              "#7201a8"
             ],
             [
              0.3333333333333333,
              "#9c179e"
             ],
             [
              0.4444444444444444,
              "#bd3786"
             ],
             [
              0.5555555555555556,
              "#d8576b"
             ],
             [
              0.6666666666666666,
              "#ed7953"
             ],
             [
              0.7777777777777778,
              "#fb9f3a"
             ],
             [
              0.8888888888888888,
              "#fdca26"
             ],
             [
              1.0,
              "#f0f921"
             ]
            ],
            "type": "contour"
           }
          ],
          "contourcarpet": [
           {
            "colorbar": {
             "outlinewidth": 0,
             "ticks": ""
            },
            "type": "contourcarpet"
           }
          ],
          "heatmap": [
           {
            "colorbar": {
             "outlinewidth": 0,
             "ticks": ""
            },
            "colorscale": [
             [
              0.0,
              "#0d0887"
             ],
             [
              0.1111111111111111,
              "#46039f"
             ],
             [
              0.2222222222222222,
              "#7201a8"
             ],
             [
              0.3333333333333333,
              "#9c179e"
             ],
             [
              0.4444444444444444,
              "#bd3786"
             ],
             [
              0.5555555555555556,
              "#d8576b"
             ],
             [
              0.6666666666666666,
              "#ed7953"
             ],
             [
              0.7777777777777778,
              "#fb9f3a"
             ],
             [
              0.8888888888888888,
              "#fdca26"
             ],
             [
              1.0,
              "#f0f921"
             ]
            ],
            "type": "heatmap"
           }
          ],
          "heatmapgl": [
           {
            "colorbar": {
             "outlinewidth": 0,
             "ticks": ""
            },
            "colorscale": [
             [
              0.0,
              "#0d0887"
             ],
             [
              0.1111111111111111,
              "#46039f"
             ],
             [
              0.2222222222222222,
              "#7201a8"
             ],
             [
              0.3333333333333333,
              "#9c179e"
             ],
             [
              0.4444444444444444,
              "#bd3786"
             ],
             [
              0.5555555555555556,
              "#d8576b"
             ],
             [
              0.6666666666666666,
              "#ed7953"
             ],
             [
              0.7777777777777778,
              "#fb9f3a"
             ],
             [
              0.8888888888888888,
              "#fdca26"
             ],
             [
              1.0,
              "#f0f921"
             ]
            ],
            "type": "heatmapgl"
           }
          ],
          "histogram": [
           {
            "marker": {
             "pattern": {
              "fillmode": "overlay",
              "size": 10,
              "solidity": 0.2
             }
            },
            "type": "histogram"
           }
          ],
          "histogram2d": [
           {
            "colorbar": {
             "outlinewidth": 0,
             "ticks": ""
            },
            "colorscale": [
             [
              0.0,
              "#0d0887"
             ],
             [
              0.1111111111111111,
              "#46039f"
             ],
             [
              0.2222222222222222,
              "#7201a8"
             ],
             [
              0.3333333333333333,
              "#9c179e"
             ],
             [
              0.4444444444444444,
              "#bd3786"
             ],
             [
              0.5555555555555556,
              "#d8576b"
             ],
             [
              0.6666666666666666,
              "#ed7953"
             ],
             [
              0.7777777777777778,
              "#fb9f3a"
             ],
             [
              0.8888888888888888,
              "#fdca26"
             ],
             [
              1.0,
              "#f0f921"
             ]
            ],
            "type": "histogram2d"
           }
          ],
          "histogram2dcontour": [
           {
            "colorbar": {
             "outlinewidth": 0,
             "ticks": ""
            },
            "colorscale": [
             [
              0.0,
              "#0d0887"
             ],
             [
              0.1111111111111111,
              "#46039f"
             ],
             [
              0.2222222222222222,
              "#7201a8"
             ],
             [
              0.3333333333333333,
              "#9c179e"
             ],
             [
              0.4444444444444444,
              "#bd3786"
             ],
             [
              0.5555555555555556,
              "#d8576b"
             ],
             [
              0.6666666666666666,
              "#ed7953"
             ],
             [
              0.7777777777777778,
              "#fb9f3a"
             ],
             [
              0.8888888888888888,
              "#fdca26"
             ],
             [
              1.0,
              "#f0f921"
             ]
            ],
            "type": "histogram2dcontour"
           }
          ],
          "mesh3d": [
           {
            "colorbar": {
             "outlinewidth": 0,
             "ticks": ""
            },
            "type": "mesh3d"
           }
          ],
          "parcoords": [
           {
            "line": {
             "colorbar": {
              "outlinewidth": 0,
              "ticks": ""
             }
            },
            "type": "parcoords"
           }
          ],
          "pie": [
           {
            "automargin": true,
            "type": "pie"
           }
          ],
          "scatter": [
           {
            "marker": {
             "colorbar": {
              "outlinewidth": 0,
              "ticks": ""
             }
            },
            "type": "scatter"
           }
          ],
          "scatter3d": [
           {
            "line": {
             "colorbar": {
              "outlinewidth": 0,
              "ticks": ""
             }
            },
            "marker": {
             "colorbar": {
              "outlinewidth": 0,
              "ticks": ""
             }
            },
            "type": "scatter3d"
           }
          ],
          "scattercarpet": [
           {
            "marker": {
             "colorbar": {
              "outlinewidth": 0,
              "ticks": ""
             }
            },
            "type": "scattercarpet"
           }
          ],
          "scattergeo": [
           {
            "marker": {
             "colorbar": {
              "outlinewidth": 0,
              "ticks": ""
             }
            },
            "type": "scattergeo"
           }
          ],
          "scattergl": [
           {
            "marker": {
             "colorbar": {
              "outlinewidth": 0,
              "ticks": ""
             }
            },
            "type": "scattergl"
           }
          ],
          "scattermapbox": [
           {
            "marker": {
             "colorbar": {
              "outlinewidth": 0,
              "ticks": ""
             }
            },
            "type": "scattermapbox"
           }
          ],
          "scatterpolar": [
           {
            "marker": {
             "colorbar": {
              "outlinewidth": 0,
              "ticks": ""
             }
            },
            "type": "scatterpolar"
           }
          ],
          "scatterpolargl": [
           {
            "marker": {
             "colorbar": {
              "outlinewidth": 0,
              "ticks": ""
             }
            },
            "type": "scatterpolargl"
           }
          ],
          "scatterternary": [
           {
            "marker": {
             "colorbar": {
              "outlinewidth": 0,
              "ticks": ""
             }
            },
            "type": "scatterternary"
           }
          ],
          "surface": [
           {
            "colorbar": {
             "outlinewidth": 0,
             "ticks": ""
            },
            "colorscale": [
             [
              0.0,
              "#0d0887"
             ],
             [
              0.1111111111111111,
              "#46039f"
             ],
             [
              0.2222222222222222,
              "#7201a8"
             ],
             [
              0.3333333333333333,
              "#9c179e"
             ],
             [
              0.4444444444444444,
              "#bd3786"
             ],
             [
              0.5555555555555556,
              "#d8576b"
             ],
             [
              0.6666666666666666,
              "#ed7953"
             ],
             [
              0.7777777777777778,
              "#fb9f3a"
             ],
             [
              0.8888888888888888,
              "#fdca26"
             ],
             [
              1.0,
              "#f0f921"
             ]
            ],
            "type": "surface"
           }
          ],
          "table": [
           {
            "cells": {
             "fill": {
              "color": "#EBF0F8"
             },
             "line": {
              "color": "white"
             }
            },
            "header": {
             "fill": {
              "color": "#C8D4E3"
             },
             "line": {
              "color": "white"
             }
            },
            "type": "table"
           }
          ]
         },
         "layout": {
          "annotationdefaults": {
           "arrowcolor": "#2a3f5f",
           "arrowhead": 0,
           "arrowwidth": 1
          },
          "autotypenumbers": "strict",
          "coloraxis": {
           "colorbar": {
            "outlinewidth": 0,
            "ticks": ""
           }
          },
          "colorscale": {
           "diverging": [
            [
             0,
             "#8e0152"
            ],
            [
             0.1,
             "#c51b7d"
            ],
            [
             0.2,
             "#de77ae"
            ],
            [
             0.3,
             "#f1b6da"
            ],
            [
             0.4,
             "#fde0ef"
            ],
            [
             0.5,
             "#f7f7f7"
            ],
            [
             0.6,
             "#e6f5d0"
            ],
            [
             0.7,
             "#b8e186"
            ],
            [
             0.8,
             "#7fbc41"
            ],
            [
             0.9,
             "#4d9221"
            ],
            [
             1,
             "#276419"
            ]
           ],
           "sequential": [
            [
             0.0,
             "#0d0887"
            ],
            [
             0.1111111111111111,
             "#46039f"
            ],
            [
             0.2222222222222222,
             "#7201a8"
            ],
            [
             0.3333333333333333,
             "#9c179e"
            ],
            [
             0.4444444444444444,
             "#bd3786"
            ],
            [
             0.5555555555555556,
             "#d8576b"
            ],
            [
             0.6666666666666666,
             "#ed7953"
            ],
            [
             0.7777777777777778,
             "#fb9f3a"
            ],
            [
             0.8888888888888888,
             "#fdca26"
            ],
            [
             1.0,
             "#f0f921"
            ]
           ],
           "sequentialminus": [
            [
             0.0,
             "#0d0887"
            ],
            [
             0.1111111111111111,
             "#46039f"
            ],
            [
             0.2222222222222222,
             "#7201a8"
            ],
            [
             0.3333333333333333,
             "#9c179e"
            ],
            [
             0.4444444444444444,
             "#bd3786"
            ],
            [
             0.5555555555555556,
             "#d8576b"
            ],
            [
             0.6666666666666666,
             "#ed7953"
            ],
            [
             0.7777777777777778,
             "#fb9f3a"
            ],
            [
             0.8888888888888888,
             "#fdca26"
            ],
            [
             1.0,
             "#f0f921"
            ]
           ]
          },
          "colorway": [
           "#636efa",
           "#EF553B",
           "#00cc96",
           "#ab63fa",
           "#FFA15A",
           "#19d3f3",
           "#FF6692",
           "#B6E880",
           "#FF97FF",
           "#FECB52"
          ],
          "font": {
           "color": "#2a3f5f"
          },
          "geo": {
           "bgcolor": "white",
           "lakecolor": "white",
           "landcolor": "#E5ECF6",
           "showlakes": true,
           "showland": true,
           "subunitcolor": "white"
          },
          "hoverlabel": {
           "align": "left"
          },
          "hovermode": "closest",
          "mapbox": {
           "style": "light"
          },
          "paper_bgcolor": "white",
          "plot_bgcolor": "#E5ECF6",
          "polar": {
           "angularaxis": {
            "gridcolor": "white",
            "linecolor": "white",
            "ticks": ""
           },
           "bgcolor": "#E5ECF6",
           "radialaxis": {
            "gridcolor": "white",
            "linecolor": "white",
            "ticks": ""
           }
          },
          "scene": {
           "xaxis": {
            "backgroundcolor": "#E5ECF6",
            "gridcolor": "white",
            "gridwidth": 2,
            "linecolor": "white",
            "showbackground": true,
            "ticks": "",
            "zerolinecolor": "white"
           },
           "yaxis": {
            "backgroundcolor": "#E5ECF6",
            "gridcolor": "white",
            "gridwidth": 2,
            "linecolor": "white",
            "showbackground": true,
            "ticks": "",
            "zerolinecolor": "white"
           },
           "zaxis": {
            "backgroundcolor": "#E5ECF6",
            "gridcolor": "white",
            "gridwidth": 2,
            "linecolor": "white",
            "showbackground": true,
            "ticks": "",
            "zerolinecolor": "white"
           }
          },
          "shapedefaults": {
           "line": {
            "color": "#2a3f5f"
           }
          },
          "ternary": {
           "aaxis": {
            "gridcolor": "white",
            "linecolor": "white",
            "ticks": ""
           },
           "baxis": {
            "gridcolor": "white",
            "linecolor": "white",
            "ticks": ""
           },
           "bgcolor": "#E5ECF6",
           "caxis": {
            "gridcolor": "white",
            "linecolor": "white",
            "ticks": ""
           }
          },
          "title": {
           "x": 0.05
          },
          "xaxis": {
           "automargin": true,
           "gridcolor": "white",
           "linecolor": "white",
           "ticks": "",
           "title": {
            "standoff": 15
           },
           "zerolinecolor": "white",
           "zerolinewidth": 2
          },
          "yaxis": {
           "automargin": true,
           "gridcolor": "white",
           "linecolor": "white",
           "ticks": "",
           "title": {
            "standoff": 15
           },
           "zerolinecolor": "white",
           "zerolinewidth": 2
          }
         }
        }
       }
      },
      "text/html": "<div>                            <div id=\"1d3c2b04-f78d-482f-bbcb-7016c6b846ae\" class=\"plotly-graph-div\" style=\"height:525px; width:100%;\"></div>            <script type=\"text/javascript\">                require([\"plotly\"], function(Plotly) {                    window.PLOTLYENV=window.PLOTLYENV || {};                                    if (document.getElementById(\"1d3c2b04-f78d-482f-bbcb-7016c6b846ae\")) {                    Plotly.newPlot(                        \"1d3c2b04-f78d-482f-bbcb-7016c6b846ae\",                        [{\"dimensions\":[{\"axis\":{\"matches\":true},\"label\":\"second_factor\",\"values\":[false,true,false,true,false,true,false,true,false,true,false,true,false,true,false,true,false,true,false,true,false,true,false,true,false,true,false,true,false,true,false,true,false,true,false,true,false,true,false,true,false,true,false,true,false,true,false,true,false,true,false,true,false,true,false,true,false,true,false,true,false,true,false,true,false,true,false,true,false,true,false,true,false,true,false,true,false,true,false,true,false,true,false,true,false,true,false,true,false,true,false,true,false,true,false,true,false,true,false,true,false,true,false,true,false,true,false,true,false,true,false,true,false,true,false,true,false,true,false,true,false,true,false,true,false,true,false,true,false,true,false,true,false,true,false,true,false,true,false,true,false,true,false,true,false,true,false,true,false,true,false,true,false,true,false,true,false,true,false,true,false,true,false,true,false,true,false,true,false,true,false,true,false,true,false,true,false,true,false,true]}],\"hovertemplate\":\"first_factor=0.0<br>%{xaxis.title.text}=%{x}<br>%{yaxis.title.text}=%{y}<extra></extra>\",\"legendgroup\":\"0.0\",\"marker\":{\"color\":\"#636efa\",\"symbol\":\"circle\"},\"name\":\"0.0\",\"showlegend\":true,\"type\":\"splom\"},{\"dimensions\":[{\"axis\":{\"matches\":true},\"label\":\"second_factor\",\"values\":[false,true,false,true,false,true,false,true,false,true,false,true,false,true,false,true,false,true,false,true,false,true,false,true,false,true,false,true,false,true,false,true,false,true,false,true,false,true,false,true,false,true,false,true,false,true,false,true,false,true,false,true,false,true,false,true,false,true,false,true,false,true,false,true,false,true,false,true,false,true,false,true,false,true,false,true,false,true,false,true,false,true,false,true,false,true,false,true,false,true,false,true,false,true,false,true,false,true,false,true,false,true,false,true,false,true,false,true,false,true,false,true,false,true,false,true,false,true,false,true,false,true,false,true,false,true,false,true,false,true,false,true,false,true,false,true,false,true,false,true,false,true,false,true,false,true,false,true,false,true,false,true,false,true,false,true,false,true,false,true,false,true,false,true,false,true,false,true,false,true,false,true,false,true,false,true,false,true,false,true]}],\"hovertemplate\":\"first_factor=0.25<br>%{xaxis.title.text}=%{x}<br>%{yaxis.title.text}=%{y}<extra></extra>\",\"legendgroup\":\"0.25\",\"marker\":{\"color\":\"#EF553B\",\"symbol\":\"circle\"},\"name\":\"0.25\",\"showlegend\":true,\"type\":\"splom\"},{\"dimensions\":[{\"axis\":{\"matches\":true},\"label\":\"second_factor\",\"values\":[false,true,false,true,false,true,false,true,false,true,false,true,false,true,false,true,false,true,false,true,false,true,false,true,false,true,false,true,false,true,false,true,false,true,false,true,false,true,false,true,false,true,false,true,false,true,false,true,false,true,false,true,false,true,false,true,false,true,false,true,false,true,false,true,false,true,false,true,false,true,false,true,false,true,false,true,false,true,false,true,false,true,false,true,false,true,false,true,false,true,false,true,false,true,false,true,false,true,false,true,false,true,false,true,false,true,false,true,false,true,false,true,false,true,false,true,false,true,false,true,false,true,false,true,false,true,false,true,false,true,false,true,false,true,false,true,false,true,false,true,false,true,false,true,false,true,false,true,false,true,false,true,false,true,false,true,false,true,false,true,false,true,false,true,false,true,false,true,false,true,false,true,false,true,false,true,false,true,false,true]}],\"hovertemplate\":\"first_factor=0.5<br>%{xaxis.title.text}=%{x}<br>%{yaxis.title.text}=%{y}<extra></extra>\",\"legendgroup\":\"0.5\",\"marker\":{\"color\":\"#00cc96\",\"symbol\":\"circle\"},\"name\":\"0.5\",\"showlegend\":true,\"type\":\"splom\"},{\"dimensions\":[{\"axis\":{\"matches\":true},\"label\":\"second_factor\",\"values\":[false,true,false,true,false,true,false,true,false,true,false,true,false,true,false,true,false,true,false,true,false,true,false,true,false,true,false,true,false,true,false,true,false,true,false,true,false,true,false,true,false,true,false,true,false,true,false,true,false,true,false,true,false,true,false,true,false,true,false,true,false,true,false,true,false,true,false,true,false,true,false,true,false,true,false,true,false,true,false,true,false,true,false,true,false,true,false,true,false,true,false,true,false,true,false,true,false,true,false,true,false,true,false,true,false,true,false,true,false,true,false,true,false,true,false,true,false,true,false,true,false,true,false,true,false,true,false,true,false,true,false,true,false,true,false,true,false,true,false,true,false,true,false,true,false,true,false,true,false,true,false,true,false,true,false,true,false,true,false,true,false,true,false,true,false,true,false,true,false,true,false,true,false,true,false,true,false,true,false,true]}],\"hovertemplate\":\"first_factor=0.75<br>%{xaxis.title.text}=%{x}<br>%{yaxis.title.text}=%{y}<extra></extra>\",\"legendgroup\":\"0.75\",\"marker\":{\"color\":\"#ab63fa\",\"symbol\":\"circle\"},\"name\":\"0.75\",\"showlegend\":true,\"type\":\"splom\"},{\"dimensions\":[{\"axis\":{\"matches\":true},\"label\":\"second_factor\",\"values\":[false,true,false,true,false,true,false,true,false,true,false,true,false,true,false,true,false,true,false,true,false,true,false,true,false,true,false,true,false,true,false,true,false,true,false,true,false,true,false,true,false,true,false,true,false,true,false,true,false,true,false,true,false,true,false,true,false,true,false,true,false,true,false,true,false,true,false,true,false,true,false,true,false,true,false,true,false,true,false,true,false,true,false,true,false,true,false,true,false,true,false,true,false,true,false,true,false,true,false,true,false,true,false,true,false,true,false,true,false,true,false,true,false,true,false,true,false,true,false,true,false,true,false,true,false,true,false,true,false,true,false,true,false,true,false,true,false,true,false,true,false,true,false,true,false,true,false,true,false,true,false,true,false,true,false,true,false,true,false,true,false,true,false,true,false,true,false,true,false,true,false,true,false,true,false,true,false,true,false,true]}],\"hovertemplate\":\"first_factor=1.0<br>%{xaxis.title.text}=%{x}<br>%{yaxis.title.text}=%{y}<extra></extra>\",\"legendgroup\":\"1.0\",\"marker\":{\"color\":\"#FFA15A\",\"symbol\":\"circle\"},\"name\":\"1.0\",\"showlegend\":true,\"type\":\"splom\"}],                        {\"dragmode\":\"select\",\"legend\":{\"title\":{\"text\":\"first_factor\"},\"tracegroupgap\":0},\"margin\":{\"t\":60},\"template\":{\"data\":{\"bar\":[{\"error_x\":{\"color\":\"#2a3f5f\"},\"error_y\":{\"color\":\"#2a3f5f\"},\"marker\":{\"line\":{\"color\":\"#E5ECF6\",\"width\":0.5},\"pattern\":{\"fillmode\":\"overlay\",\"size\":10,\"solidity\":0.2}},\"type\":\"bar\"}],\"barpolar\":[{\"marker\":{\"line\":{\"color\":\"#E5ECF6\",\"width\":0.5},\"pattern\":{\"fillmode\":\"overlay\",\"size\":10,\"solidity\":0.2}},\"type\":\"barpolar\"}],\"carpet\":[{\"aaxis\":{\"endlinecolor\":\"#2a3f5f\",\"gridcolor\":\"white\",\"linecolor\":\"white\",\"minorgridcolor\":\"white\",\"startlinecolor\":\"#2a3f5f\"},\"baxis\":{\"endlinecolor\":\"#2a3f5f\",\"gridcolor\":\"white\",\"linecolor\":\"white\",\"minorgridcolor\":\"white\",\"startlinecolor\":\"#2a3f5f\"},\"type\":\"carpet\"}],\"choropleth\":[{\"colorbar\":{\"outlinewidth\":0,\"ticks\":\"\"},\"type\":\"choropleth\"}],\"contour\":[{\"colorbar\":{\"outlinewidth\":0,\"ticks\":\"\"},\"colorscale\":[[0.0,\"#0d0887\"],[0.1111111111111111,\"#46039f\"],[0.2222222222222222,\"#7201a8\"],[0.3333333333333333,\"#9c179e\"],[0.4444444444444444,\"#bd3786\"],[0.5555555555555556,\"#d8576b\"],[0.6666666666666666,\"#ed7953\"],[0.7777777777777778,\"#fb9f3a\"],[0.8888888888888888,\"#fdca26\"],[1.0,\"#f0f921\"]],\"type\":\"contour\"}],\"contourcarpet\":[{\"colorbar\":{\"outlinewidth\":0,\"ticks\":\"\"},\"type\":\"contourcarpet\"}],\"heatmap\":[{\"colorbar\":{\"outlinewidth\":0,\"ticks\":\"\"},\"colorscale\":[[0.0,\"#0d0887\"],[0.1111111111111111,\"#46039f\"],[0.2222222222222222,\"#7201a8\"],[0.3333333333333333,\"#9c179e\"],[0.4444444444444444,\"#bd3786\"],[0.5555555555555556,\"#d8576b\"],[0.6666666666666666,\"#ed7953\"],[0.7777777777777778,\"#fb9f3a\"],[0.8888888888888888,\"#fdca26\"],[1.0,\"#f0f921\"]],\"type\":\"heatmap\"}],\"heatmapgl\":[{\"colorbar\":{\"outlinewidth\":0,\"ticks\":\"\"},\"colorscale\":[[0.0,\"#0d0887\"],[0.1111111111111111,\"#46039f\"],[0.2222222222222222,\"#7201a8\"],[0.3333333333333333,\"#9c179e\"],[0.4444444444444444,\"#bd3786\"],[0.5555555555555556,\"#d8576b\"],[0.6666666666666666,\"#ed7953\"],[0.7777777777777778,\"#fb9f3a\"],[0.8888888888888888,\"#fdca26\"],[1.0,\"#f0f921\"]],\"type\":\"heatmapgl\"}],\"histogram\":[{\"marker\":{\"pattern\":{\"fillmode\":\"overlay\",\"size\":10,\"solidity\":0.2}},\"type\":\"histogram\"}],\"histogram2d\":[{\"colorbar\":{\"outlinewidth\":0,\"ticks\":\"\"},\"colorscale\":[[0.0,\"#0d0887\"],[0.1111111111111111,\"#46039f\"],[0.2222222222222222,\"#7201a8\"],[0.3333333333333333,\"#9c179e\"],[0.4444444444444444,\"#bd3786\"],[0.5555555555555556,\"#d8576b\"],[0.6666666666666666,\"#ed7953\"],[0.7777777777777778,\"#fb9f3a\"],[0.8888888888888888,\"#fdca26\"],[1.0,\"#f0f921\"]],\"type\":\"histogram2d\"}],\"histogram2dcontour\":[{\"colorbar\":{\"outlinewidth\":0,\"ticks\":\"\"},\"colorscale\":[[0.0,\"#0d0887\"],[0.1111111111111111,\"#46039f\"],[0.2222222222222222,\"#7201a8\"],[0.3333333333333333,\"#9c179e\"],[0.4444444444444444,\"#bd3786\"],[0.5555555555555556,\"#d8576b\"],[0.6666666666666666,\"#ed7953\"],[0.7777777777777778,\"#fb9f3a\"],[0.8888888888888888,\"#fdca26\"],[1.0,\"#f0f921\"]],\"type\":\"histogram2dcontour\"}],\"mesh3d\":[{\"colorbar\":{\"outlinewidth\":0,\"ticks\":\"\"},\"type\":\"mesh3d\"}],\"parcoords\":[{\"line\":{\"colorbar\":{\"outlinewidth\":0,\"ticks\":\"\"}},\"type\":\"parcoords\"}],\"pie\":[{\"automargin\":true,\"type\":\"pie\"}],\"scatter\":[{\"marker\":{\"colorbar\":{\"outlinewidth\":0,\"ticks\":\"\"}},\"type\":\"scatter\"}],\"scatter3d\":[{\"line\":{\"colorbar\":{\"outlinewidth\":0,\"ticks\":\"\"}},\"marker\":{\"colorbar\":{\"outlinewidth\":0,\"ticks\":\"\"}},\"type\":\"scatter3d\"}],\"scattercarpet\":[{\"marker\":{\"colorbar\":{\"outlinewidth\":0,\"ticks\":\"\"}},\"type\":\"scattercarpet\"}],\"scattergeo\":[{\"marker\":{\"colorbar\":{\"outlinewidth\":0,\"ticks\":\"\"}},\"type\":\"scattergeo\"}],\"scattergl\":[{\"marker\":{\"colorbar\":{\"outlinewidth\":0,\"ticks\":\"\"}},\"type\":\"scattergl\"}],\"scattermapbox\":[{\"marker\":{\"colorbar\":{\"outlinewidth\":0,\"ticks\":\"\"}},\"type\":\"scattermapbox\"}],\"scatterpolar\":[{\"marker\":{\"colorbar\":{\"outlinewidth\":0,\"ticks\":\"\"}},\"type\":\"scatterpolar\"}],\"scatterpolargl\":[{\"marker\":{\"colorbar\":{\"outlinewidth\":0,\"ticks\":\"\"}},\"type\":\"scatterpolargl\"}],\"scatterternary\":[{\"marker\":{\"colorbar\":{\"outlinewidth\":0,\"ticks\":\"\"}},\"type\":\"scatterternary\"}],\"surface\":[{\"colorbar\":{\"outlinewidth\":0,\"ticks\":\"\"},\"colorscale\":[[0.0,\"#0d0887\"],[0.1111111111111111,\"#46039f\"],[0.2222222222222222,\"#7201a8\"],[0.3333333333333333,\"#9c179e\"],[0.4444444444444444,\"#bd3786\"],[0.5555555555555556,\"#d8576b\"],[0.6666666666666666,\"#ed7953\"],[0.7777777777777778,\"#fb9f3a\"],[0.8888888888888888,\"#fdca26\"],[1.0,\"#f0f921\"]],\"type\":\"surface\"}],\"table\":[{\"cells\":{\"fill\":{\"color\":\"#EBF0F8\"},\"line\":{\"color\":\"white\"}},\"header\":{\"fill\":{\"color\":\"#C8D4E3\"},\"line\":{\"color\":\"white\"}},\"type\":\"table\"}]},\"layout\":{\"annotationdefaults\":{\"arrowcolor\":\"#2a3f5f\",\"arrowhead\":0,\"arrowwidth\":1},\"autotypenumbers\":\"strict\",\"coloraxis\":{\"colorbar\":{\"outlinewidth\":0,\"ticks\":\"\"}},\"colorscale\":{\"diverging\":[[0,\"#8e0152\"],[0.1,\"#c51b7d\"],[0.2,\"#de77ae\"],[0.3,\"#f1b6da\"],[0.4,\"#fde0ef\"],[0.5,\"#f7f7f7\"],[0.6,\"#e6f5d0\"],[0.7,\"#b8e186\"],[0.8,\"#7fbc41\"],[0.9,\"#4d9221\"],[1,\"#276419\"]],\"sequential\":[[0.0,\"#0d0887\"],[0.1111111111111111,\"#46039f\"],[0.2222222222222222,\"#7201a8\"],[0.3333333333333333,\"#9c179e\"],[0.4444444444444444,\"#bd3786\"],[0.5555555555555556,\"#d8576b\"],[0.6666666666666666,\"#ed7953\"],[0.7777777777777778,\"#fb9f3a\"],[0.8888888888888888,\"#fdca26\"],[1.0,\"#f0f921\"]],\"sequentialminus\":[[0.0,\"#0d0887\"],[0.1111111111111111,\"#46039f\"],[0.2222222222222222,\"#7201a8\"],[0.3333333333333333,\"#9c179e\"],[0.4444444444444444,\"#bd3786\"],[0.5555555555555556,\"#d8576b\"],[0.6666666666666666,\"#ed7953\"],[0.7777777777777778,\"#fb9f3a\"],[0.8888888888888888,\"#fdca26\"],[1.0,\"#f0f921\"]]},\"colorway\":[\"#636efa\",\"#EF553B\",\"#00cc96\",\"#ab63fa\",\"#FFA15A\",\"#19d3f3\",\"#FF6692\",\"#B6E880\",\"#FF97FF\",\"#FECB52\"],\"font\":{\"color\":\"#2a3f5f\"},\"geo\":{\"bgcolor\":\"white\",\"lakecolor\":\"white\",\"landcolor\":\"#E5ECF6\",\"showlakes\":true,\"showland\":true,\"subunitcolor\":\"white\"},\"hoverlabel\":{\"align\":\"left\"},\"hovermode\":\"closest\",\"mapbox\":{\"style\":\"light\"},\"paper_bgcolor\":\"white\",\"plot_bgcolor\":\"#E5ECF6\",\"polar\":{\"angularaxis\":{\"gridcolor\":\"white\",\"linecolor\":\"white\",\"ticks\":\"\"},\"bgcolor\":\"#E5ECF6\",\"radialaxis\":{\"gridcolor\":\"white\",\"linecolor\":\"white\",\"ticks\":\"\"}},\"scene\":{\"xaxis\":{\"backgroundcolor\":\"#E5ECF6\",\"gridcolor\":\"white\",\"gridwidth\":2,\"linecolor\":\"white\",\"showbackground\":true,\"ticks\":\"\",\"zerolinecolor\":\"white\"},\"yaxis\":{\"backgroundcolor\":\"#E5ECF6\",\"gridcolor\":\"white\",\"gridwidth\":2,\"linecolor\":\"white\",\"showbackground\":true,\"ticks\":\"\",\"zerolinecolor\":\"white\"},\"zaxis\":{\"backgroundcolor\":\"#E5ECF6\",\"gridcolor\":\"white\",\"gridwidth\":2,\"linecolor\":\"white\",\"showbackground\":true,\"ticks\":\"\",\"zerolinecolor\":\"white\"}},\"shapedefaults\":{\"line\":{\"color\":\"#2a3f5f\"}},\"ternary\":{\"aaxis\":{\"gridcolor\":\"white\",\"linecolor\":\"white\",\"ticks\":\"\"},\"baxis\":{\"gridcolor\":\"white\",\"linecolor\":\"white\",\"ticks\":\"\"},\"bgcolor\":\"#E5ECF6\",\"caxis\":{\"gridcolor\":\"white\",\"linecolor\":\"white\",\"ticks\":\"\"}},\"title\":{\"x\":0.05},\"xaxis\":{\"automargin\":true,\"gridcolor\":\"white\",\"linecolor\":\"white\",\"ticks\":\"\",\"title\":{\"standoff\":15},\"zerolinecolor\":\"white\",\"zerolinewidth\":2},\"yaxis\":{\"automargin\":true,\"gridcolor\":\"white\",\"linecolor\":\"white\",\"ticks\":\"\",\"title\":{\"standoff\":15},\"zerolinecolor\":\"white\",\"zerolinewidth\":2}}}},                        {\"responsive\": true}                    ).then(function(){\n                            \nvar gd = document.getElementById('1d3c2b04-f78d-482f-bbcb-7016c6b846ae');\nvar x = new MutationObserver(function (mutations, observer) {{\n        var display = window.getComputedStyle(gd).display;\n        if (!display || display === 'none') {{\n            console.log([gd, 'removed!']);\n            Plotly.purge(gd);\n            observer.disconnect();\n        }}\n}});\n\n// Listen for the removal of the full notebook cells\nvar notebookContainer = gd.closest('#notebook-container');\nif (notebookContainer) {{\n    x.observe(notebookContainer, {childList: true});\n}}\n\n// Listen for the clearing of the current output cell\nvar outputEl = gd.closest('.output');\nif (outputEl) {{\n    x.observe(outputEl, {childList: true});\n}}\n\n                        })                };                });            </script>        </div>"
     },
     "metadata": {},
     "output_type": "display_data"
    }
   ],
   "source": [
    "fig_test = px.line_mapbox(\n",
    "        reset_df, dimensions=[\"second_factor\"], color=\"first_factor\")\n",
    "fig_test"
   ],
   "metadata": {
    "collapsed": false,
    "pycharm": {
     "name": "#%%\n"
    }
   }
  },
  {
   "cell_type": "code",
   "execution_count": null,
   "outputs": [],
   "source": [
    "#median_plot = px.line(reset_df, x = \"tick\", y=\"median\", color=\"SOCIAL_PRESSURE_EFFECT\",facet_col=\"USE_EMOTIONAL_AUTONOMY_FOR_SOCIAL_PRESSURE\")#, facet_row=\"yetAnother\"\n",
    "#upper_ci_plot = px.line(reset_df, x = \"tick\", y=\"ci95_hi\", color=\"SOCIAL_PRESSURE_EFFECT\",facet_col=\"USE_EMOTIONAL_AUTONOMY_FOR_SOCIAL_PRESSURE\")#, facet_row=\"yetAnother\"\n",
    "#lower_ci_plot = px.line(reset_df, x = \"tick\", y=\"ci95_lo\", color=\"SOCIAL_PRESSURE_EFFECT\",facet_col=\"USE_EMOTIONAL_AUTONOMY_FOR_SOCIAL_PRESSURE\")#, facet_row=\"yetAnother\"\n",
    "\n",
    "\n",
    "#my_scatter = mean_plot\n",
    "#my_scatter.append_trace(median_plot)\n",
    "#my_scatter.append_trace(upper_ci_plot)\n",
    "#my_scatter.append_trace(lower_ci_plot)\n",
    "#my_scatter"
   ],
   "metadata": {
    "collapsed": false,
    "pycharm": {
     "name": "#%%\n"
    }
   }
  },
  {
   "cell_type": "code",
   "execution_count": 24,
   "outputs": [
    {
     "ename": "ValueError",
     "evalue": "The truth value of a DataFrame is ambiguous. Use a.empty, a.bool(), a.item(), a.any() or a.all().",
     "output_type": "error",
     "traceback": [
      "\u001B[1;31m---------------------------------------------------------------------------\u001B[0m",
      "\u001B[1;31mValueError\u001B[0m                                Traceback (most recent call last)",
      "\u001B[1;32m~\\AppData\\Local\\Temp/ipykernel_1352/1553472175.py\u001B[0m in \u001B[0;36m<module>\u001B[1;34m\u001B[0m\n\u001B[1;32m----> 1\u001B[1;33m \u001B[0mpx\u001B[0m\u001B[1;33m.\u001B[0m\u001B[0mscatter\u001B[0m\u001B[1;33m(\u001B[0m\u001B[0munstacked_df\u001B[0m\u001B[1;33m,\u001B[0m \u001B[0my\u001B[0m\u001B[1;33m=\u001B[0m\u001B[1;34m\"mean\"\u001B[0m\u001B[1;33m,\u001B[0m \u001B[0mcolor\u001B[0m\u001B[1;33m=\u001B[0m\u001B[1;34m\"SOCIAL_PRESSURE_EFFECT\"\u001B[0m\u001B[1;33m,\u001B[0m\u001B[0mfacet_col\u001B[0m\u001B[1;33m=\u001B[0m\u001B[1;34m\"USE_EMOTIONAL_AUTONOMY_FOR_SOCIAL_PRESSURE\"\u001B[0m\u001B[1;33m)\u001B[0m\u001B[1;31m#, facet_row=\"yetAnother\"\u001B[0m\u001B[1;33m\u001B[0m\u001B[1;33m\u001B[0m\u001B[0m\n\u001B[0m\u001B[0;32m      2\u001B[0m \u001B[1;33m\u001B[0m\u001B[0m\n",
      "\u001B[1;32mc:\\users\\kaub\\plotlygroupby\\lib\\site-packages\\plotly\\express\\_chart_types.py\u001B[0m in \u001B[0;36mscatter\u001B[1;34m(data_frame, x, y, color, symbol, size, hover_name, hover_data, custom_data, text, facet_row, facet_col, facet_col_wrap, facet_row_spacing, facet_col_spacing, error_x, error_x_minus, error_y, error_y_minus, animation_frame, animation_group, category_orders, labels, orientation, color_discrete_sequence, color_discrete_map, color_continuous_scale, range_color, color_continuous_midpoint, symbol_sequence, symbol_map, opacity, size_max, marginal_x, marginal_y, trendline, trendline_options, trendline_color_override, trendline_scope, log_x, log_y, range_x, range_y, render_mode, title, template, width, height)\u001B[0m\n\u001B[0;32m     64\u001B[0m     \u001B[0mmark\u001B[0m \u001B[1;32min\u001B[0m \u001B[1;36m2\u001B[0m\u001B[0mD\u001B[0m \u001B[0mspace\u001B[0m\u001B[1;33m.\u001B[0m\u001B[1;33m\u001B[0m\u001B[1;33m\u001B[0m\u001B[0m\n\u001B[0;32m     65\u001B[0m     \"\"\"\n\u001B[1;32m---> 66\u001B[1;33m     \u001B[1;32mreturn\u001B[0m \u001B[0mmake_figure\u001B[0m\u001B[1;33m(\u001B[0m\u001B[0margs\u001B[0m\u001B[1;33m=\u001B[0m\u001B[0mlocals\u001B[0m\u001B[1;33m(\u001B[0m\u001B[1;33m)\u001B[0m\u001B[1;33m,\u001B[0m \u001B[0mconstructor\u001B[0m\u001B[1;33m=\u001B[0m\u001B[0mgo\u001B[0m\u001B[1;33m.\u001B[0m\u001B[0mScatter\u001B[0m\u001B[1;33m)\u001B[0m\u001B[1;33m\u001B[0m\u001B[1;33m\u001B[0m\u001B[0m\n\u001B[0m\u001B[0;32m     67\u001B[0m \u001B[1;33m\u001B[0m\u001B[0m\n\u001B[0;32m     68\u001B[0m \u001B[1;33m\u001B[0m\u001B[0m\n",
      "\u001B[1;32mc:\\users\\kaub\\plotlygroupby\\lib\\site-packages\\plotly\\express\\_core.py\u001B[0m in \u001B[0;36mmake_figure\u001B[1;34m(args, constructor, trace_patch, layout_patch)\u001B[0m\n\u001B[0;32m   1931\u001B[0m     \u001B[0mapply_default_cascade\u001B[0m\u001B[1;33m(\u001B[0m\u001B[0margs\u001B[0m\u001B[1;33m)\u001B[0m\u001B[1;33m\u001B[0m\u001B[1;33m\u001B[0m\u001B[0m\n\u001B[0;32m   1932\u001B[0m \u001B[1;33m\u001B[0m\u001B[0m\n\u001B[1;32m-> 1933\u001B[1;33m     \u001B[0margs\u001B[0m \u001B[1;33m=\u001B[0m \u001B[0mbuild_dataframe\u001B[0m\u001B[1;33m(\u001B[0m\u001B[0margs\u001B[0m\u001B[1;33m,\u001B[0m \u001B[0mconstructor\u001B[0m\u001B[1;33m)\u001B[0m\u001B[1;33m\u001B[0m\u001B[1;33m\u001B[0m\u001B[0m\n\u001B[0m\u001B[0;32m   1934\u001B[0m     \u001B[1;32mif\u001B[0m \u001B[0mconstructor\u001B[0m \u001B[1;32min\u001B[0m \u001B[1;33m[\u001B[0m\u001B[0mgo\u001B[0m\u001B[1;33m.\u001B[0m\u001B[0mTreemap\u001B[0m\u001B[1;33m,\u001B[0m \u001B[0mgo\u001B[0m\u001B[1;33m.\u001B[0m\u001B[0mSunburst\u001B[0m\u001B[1;33m,\u001B[0m \u001B[0mgo\u001B[0m\u001B[1;33m.\u001B[0m\u001B[0mIcicle\u001B[0m\u001B[1;33m]\u001B[0m \u001B[1;32mand\u001B[0m \u001B[0margs\u001B[0m\u001B[1;33m[\u001B[0m\u001B[1;34m\"path\"\u001B[0m\u001B[1;33m]\u001B[0m \u001B[1;32mis\u001B[0m \u001B[1;32mnot\u001B[0m \u001B[1;32mNone\u001B[0m\u001B[1;33m:\u001B[0m\u001B[1;33m\u001B[0m\u001B[1;33m\u001B[0m\u001B[0m\n\u001B[0;32m   1935\u001B[0m         \u001B[0margs\u001B[0m \u001B[1;33m=\u001B[0m \u001B[0mprocess_dataframe_hierarchy\u001B[0m\u001B[1;33m(\u001B[0m\u001B[0margs\u001B[0m\u001B[1;33m)\u001B[0m\u001B[1;33m\u001B[0m\u001B[1;33m\u001B[0m\u001B[0m\n",
      "\u001B[1;32mc:\\users\\kaub\\plotlygroupby\\lib\\site-packages\\plotly\\express\\_core.py\u001B[0m in \u001B[0;36mbuild_dataframe\u001B[1;34m(args, constructor)\u001B[0m\n\u001B[0;32m   1403\u001B[0m     \u001B[1;31m# now that things have been prepped, we do the systematic rewriting of `args`\u001B[0m\u001B[1;33m\u001B[0m\u001B[1;33m\u001B[0m\u001B[1;33m\u001B[0m\u001B[0m\n\u001B[0;32m   1404\u001B[0m \u001B[1;33m\u001B[0m\u001B[0m\n\u001B[1;32m-> 1405\u001B[1;33m     df_output, wide_id_vars = process_args_into_dataframe(\n\u001B[0m\u001B[0;32m   1406\u001B[0m         \u001B[0margs\u001B[0m\u001B[1;33m,\u001B[0m \u001B[0mwide_mode\u001B[0m\u001B[1;33m,\u001B[0m \u001B[0mvar_name\u001B[0m\u001B[1;33m,\u001B[0m \u001B[0mvalue_name\u001B[0m\u001B[1;33m\u001B[0m\u001B[1;33m\u001B[0m\u001B[0m\n\u001B[0;32m   1407\u001B[0m     )\n",
      "\u001B[1;32mc:\\users\\kaub\\plotlygroupby\\lib\\site-packages\\plotly\\express\\_core.py\u001B[0m in \u001B[0;36mprocess_args_into_dataframe\u001B[1;34m(args, wide_mode, var_name, value_name)\u001B[0m\n\u001B[0;32m   1220\u001B[0m                 \u001B[1;32melse\u001B[0m\u001B[1;33m:\u001B[0m\u001B[1;33m\u001B[0m\u001B[1;33m\u001B[0m\u001B[0m\n\u001B[0;32m   1221\u001B[0m                     \u001B[0mcol_name\u001B[0m \u001B[1;33m=\u001B[0m \u001B[0mstr\u001B[0m\u001B[1;33m(\u001B[0m\u001B[0margument\u001B[0m\u001B[1;33m)\u001B[0m\u001B[1;33m\u001B[0m\u001B[1;33m\u001B[0m\u001B[0m\n\u001B[1;32m-> 1222\u001B[1;33m                     \u001B[0mdf_output\u001B[0m\u001B[1;33m[\u001B[0m\u001B[0mcol_name\u001B[0m\u001B[1;33m]\u001B[0m \u001B[1;33m=\u001B[0m \u001B[0mto_unindexed_series\u001B[0m\u001B[1;33m(\u001B[0m\u001B[0mdf_input\u001B[0m\u001B[1;33m[\u001B[0m\u001B[0margument\u001B[0m\u001B[1;33m]\u001B[0m\u001B[1;33m)\u001B[0m\u001B[1;33m\u001B[0m\u001B[1;33m\u001B[0m\u001B[0m\n\u001B[0m\u001B[0;32m   1223\u001B[0m             \u001B[1;31m# ----------------- argument is likely a column / array / list.... -------\u001B[0m\u001B[1;33m\u001B[0m\u001B[1;33m\u001B[0m\u001B[1;33m\u001B[0m\u001B[0m\n\u001B[0;32m   1224\u001B[0m             \u001B[1;32melse\u001B[0m\u001B[1;33m:\u001B[0m\u001B[1;33m\u001B[0m\u001B[1;33m\u001B[0m\u001B[0m\n",
      "\u001B[1;32mc:\\users\\kaub\\plotlygroupby\\lib\\site-packages\\plotly\\express\\_core.py\u001B[0m in \u001B[0;36mto_unindexed_series\u001B[1;34m(x)\u001B[0m\n\u001B[0;32m   1071\u001B[0m     \u001B[0mrequired\u001B[0m \u001B[0mto\u001B[0m \u001B[0mget\u001B[0m \u001B[0mthings\u001B[0m \u001B[0mto\u001B[0m \u001B[0mmatch\u001B[0m \u001B[0mup\u001B[0m \u001B[0mright\u001B[0m \u001B[1;32min\u001B[0m \u001B[0mthe\u001B[0m \u001B[0mnew\u001B[0m \u001B[0mDataFrame\u001B[0m \u001B[0mwe\u001B[0m\u001B[0;31m'\u001B[0m\u001B[0mre\u001B[0m \u001B[0mbuilding\u001B[0m\u001B[1;33m\u001B[0m\u001B[1;33m\u001B[0m\u001B[0m\n\u001B[0;32m   1072\u001B[0m     \"\"\"\n\u001B[1;32m-> 1073\u001B[1;33m     \u001B[1;32mreturn\u001B[0m \u001B[0mpd\u001B[0m\u001B[1;33m.\u001B[0m\u001B[0mSeries\u001B[0m\u001B[1;33m(\u001B[0m\u001B[0mx\u001B[0m\u001B[1;33m)\u001B[0m\u001B[1;33m.\u001B[0m\u001B[0mreset_index\u001B[0m\u001B[1;33m(\u001B[0m\u001B[0mdrop\u001B[0m\u001B[1;33m=\u001B[0m\u001B[1;32mTrue\u001B[0m\u001B[1;33m)\u001B[0m\u001B[1;33m\u001B[0m\u001B[1;33m\u001B[0m\u001B[0m\n\u001B[0m\u001B[0;32m   1074\u001B[0m \u001B[1;33m\u001B[0m\u001B[0m\n\u001B[0;32m   1075\u001B[0m \u001B[1;33m\u001B[0m\u001B[0m\n",
      "\u001B[1;32mc:\\users\\kaub\\plotlygroupby\\lib\\site-packages\\pandas\\core\\series.py\u001B[0m in \u001B[0;36m__init__\u001B[1;34m(self, data, index, dtype, name, copy, fastpath)\u001B[0m\n\u001B[0;32m    353\u001B[0m             \u001B[0mname\u001B[0m \u001B[1;33m=\u001B[0m \u001B[0mibase\u001B[0m\u001B[1;33m.\u001B[0m\u001B[0mmaybe_extract_name\u001B[0m\u001B[1;33m(\u001B[0m\u001B[0mname\u001B[0m\u001B[1;33m,\u001B[0m \u001B[0mdata\u001B[0m\u001B[1;33m,\u001B[0m \u001B[0mtype\u001B[0m\u001B[1;33m(\u001B[0m\u001B[0mself\u001B[0m\u001B[1;33m)\u001B[0m\u001B[1;33m)\u001B[0m\u001B[1;33m\u001B[0m\u001B[1;33m\u001B[0m\u001B[0m\n\u001B[0;32m    354\u001B[0m \u001B[1;33m\u001B[0m\u001B[0m\n\u001B[1;32m--> 355\u001B[1;33m             \u001B[1;32mif\u001B[0m \u001B[0mis_empty_data\u001B[0m\u001B[1;33m(\u001B[0m\u001B[0mdata\u001B[0m\u001B[1;33m)\u001B[0m \u001B[1;32mand\u001B[0m \u001B[0mdtype\u001B[0m \u001B[1;32mis\u001B[0m \u001B[1;32mNone\u001B[0m\u001B[1;33m:\u001B[0m\u001B[1;33m\u001B[0m\u001B[1;33m\u001B[0m\u001B[0m\n\u001B[0m\u001B[0;32m    356\u001B[0m                 \u001B[1;31m# gh-17261\u001B[0m\u001B[1;33m\u001B[0m\u001B[1;33m\u001B[0m\u001B[1;33m\u001B[0m\u001B[0m\n\u001B[0;32m    357\u001B[0m                 warnings.warn(\n",
      "\u001B[1;32mc:\\users\\kaub\\plotlygroupby\\lib\\site-packages\\pandas\\core\\construction.py\u001B[0m in \u001B[0;36mis_empty_data\u001B[1;34m(data)\u001B[0m\n\u001B[0;32m    795\u001B[0m     \u001B[0mis_none\u001B[0m \u001B[1;33m=\u001B[0m \u001B[0mdata\u001B[0m \u001B[1;32mis\u001B[0m \u001B[1;32mNone\u001B[0m\u001B[1;33m\u001B[0m\u001B[1;33m\u001B[0m\u001B[0m\n\u001B[0;32m    796\u001B[0m     \u001B[0mis_list_like_without_dtype\u001B[0m \u001B[1;33m=\u001B[0m \u001B[0mis_list_like\u001B[0m\u001B[1;33m(\u001B[0m\u001B[0mdata\u001B[0m\u001B[1;33m)\u001B[0m \u001B[1;32mand\u001B[0m \u001B[1;32mnot\u001B[0m \u001B[0mhasattr\u001B[0m\u001B[1;33m(\u001B[0m\u001B[0mdata\u001B[0m\u001B[1;33m,\u001B[0m \u001B[1;34m\"dtype\"\u001B[0m\u001B[1;33m)\u001B[0m\u001B[1;33m\u001B[0m\u001B[1;33m\u001B[0m\u001B[0m\n\u001B[1;32m--> 797\u001B[1;33m     \u001B[0mis_simple_empty\u001B[0m \u001B[1;33m=\u001B[0m \u001B[0mis_list_like_without_dtype\u001B[0m \u001B[1;32mand\u001B[0m \u001B[1;32mnot\u001B[0m \u001B[0mdata\u001B[0m\u001B[1;33m\u001B[0m\u001B[1;33m\u001B[0m\u001B[0m\n\u001B[0m\u001B[0;32m    798\u001B[0m     \u001B[1;32mreturn\u001B[0m \u001B[0mis_none\u001B[0m \u001B[1;32mor\u001B[0m \u001B[0mis_simple_empty\u001B[0m\u001B[1;33m\u001B[0m\u001B[1;33m\u001B[0m\u001B[0m\n\u001B[0;32m    799\u001B[0m \u001B[1;33m\u001B[0m\u001B[0m\n",
      "\u001B[1;32mc:\\users\\kaub\\plotlygroupby\\lib\\site-packages\\pandas\\core\\generic.py\u001B[0m in \u001B[0;36m__nonzero__\u001B[1;34m(self)\u001B[0m\n\u001B[0;32m   1535\u001B[0m     \u001B[1;33m@\u001B[0m\u001B[0mfinal\u001B[0m\u001B[1;33m\u001B[0m\u001B[1;33m\u001B[0m\u001B[0m\n\u001B[0;32m   1536\u001B[0m     \u001B[1;32mdef\u001B[0m \u001B[0m__nonzero__\u001B[0m\u001B[1;33m(\u001B[0m\u001B[0mself\u001B[0m\u001B[1;33m)\u001B[0m\u001B[1;33m:\u001B[0m\u001B[1;33m\u001B[0m\u001B[1;33m\u001B[0m\u001B[0m\n\u001B[1;32m-> 1537\u001B[1;33m         raise ValueError(\n\u001B[0m\u001B[0;32m   1538\u001B[0m             \u001B[1;34mf\"The truth value of a {type(self).__name__} is ambiguous. \"\u001B[0m\u001B[1;33m\u001B[0m\u001B[1;33m\u001B[0m\u001B[0m\n\u001B[0;32m   1539\u001B[0m             \u001B[1;34m\"Use a.empty, a.bool(), a.item(), a.any() or a.all().\"\u001B[0m\u001B[1;33m\u001B[0m\u001B[1;33m\u001B[0m\u001B[0m\n",
      "\u001B[1;31mValueError\u001B[0m: The truth value of a DataFrame is ambiguous. Use a.empty, a.bool(), a.item(), a.any() or a.all()."
     ]
    }
   ],
   "source": [
    "#px.scatter(unstacked_df, y=\"mean\", color=\"SOCIAL_PRESSURE_EFFECT\",facet_col=\"USE_EMOTIONAL_AUTONOMY_FOR_SOCIAL_PRESSURE\")#, facet_row=\"yetAnother\""
   ],
   "metadata": {
    "collapsed": false,
    "pycharm": {
     "name": "#%% plot with unstacked index\n"
    }
   }
  },
  {
   "cell_type": "markdown",
   "source": [
    "### super mega example!"
   ],
   "metadata": {
    "collapsed": false,
    "pycharm": {
     "name": "#%% md\n"
    }
   }
  },
  {
   "cell_type": "code",
   "execution_count": 14,
   "outputs": [
    {
     "ename": "AttributeError",
     "evalue": "'numpy.ndarray' object has no attribute 'show'",
     "output_type": "error",
     "traceback": [
      "\u001B[1;31m---------------------------------------------------------------------------\u001B[0m",
      "\u001B[1;31mAttributeError\u001B[0m                            Traceback (most recent call last)",
      "\u001B[1;32m~\\AppData\\Local\\Temp/ipykernel_12500/1560834384.py\u001B[0m in \u001B[0;36m<module>\u001B[1;34m\u001B[0m\n\u001B[0;32m      3\u001B[0m \u001B[1;32mimport\u001B[0m \u001B[0mmatplotlib\u001B[0m\u001B[1;33m.\u001B[0m\u001B[0mpyplot\u001B[0m \u001B[1;32mas\u001B[0m \u001B[0mplt\u001B[0m\u001B[1;33m\u001B[0m\u001B[1;33m\u001B[0m\u001B[0m\n\u001B[0;32m      4\u001B[0m \u001B[0mplot_test\u001B[0m \u001B[1;33m=\u001B[0m \u001B[0mdf\u001B[0m\u001B[1;33m.\u001B[0m\u001B[0munstack\u001B[0m\u001B[1;33m(\u001B[0m\u001B[0mlevel\u001B[0m\u001B[1;33m=\u001B[0m\u001B[1;36m0\u001B[0m\u001B[1;33m)\u001B[0m\u001B[1;33m.\u001B[0m\u001B[0mplot\u001B[0m\u001B[1;33m(\u001B[0m\u001B[0mkind\u001B[0m\u001B[1;33m=\u001B[0m\u001B[1;34m'line'\u001B[0m\u001B[1;33m,\u001B[0m \u001B[0msubplots\u001B[0m\u001B[1;33m=\u001B[0m\u001B[1;32mTrue\u001B[0m\u001B[1;33m)\u001B[0m\u001B[1;33m\u001B[0m\u001B[1;33m\u001B[0m\u001B[0m\n\u001B[1;32m----> 5\u001B[1;33m \u001B[0mplot_test\u001B[0m\u001B[1;33m.\u001B[0m\u001B[0mshow\u001B[0m\u001B[1;33m(\u001B[0m\u001B[1;33m)\u001B[0m\u001B[1;33m\u001B[0m\u001B[1;33m\u001B[0m\u001B[0m\n\u001B[0m",
      "\u001B[1;31mAttributeError\u001B[0m: 'numpy.ndarray' object has no attribute 'show'"
     ]
    },
    {
     "data": {
      "text/plain": "<Figure size 432x288 with 720 Axes>",
      "image/png": "[encoded data removed]"
     },
     "metadata": {
      "needs_background": "light"
     },
     "output_type": "display_data"
    }
   ],
   "source": [
    "#code!\n",
    "\n",
    "#import matplotlib.pyplot as plt\n",
    "#plot_test = df.unstack(level=0).plot(kind='line', subplots=True)\n",
    "#does not work?"
   ],
   "metadata": {
    "collapsed": false,
    "pycharm": {
     "name": "#%%\n"
    }
   }
  },
  {
   "cell_type": "code",
   "execution_count": 74,
   "outputs": [
    {
     "data": {
      "application/vnd.plotly.v1+json": {
       "config": {
        "plotlyServerURL": "https://plot.ly"
       },
       "data": [
        {
         "line": {
          "color": "rgb(31, 119, 255)"
         },
         "mode": "lines",
         "name": "Mittelwert",
         "type": "scatter",
         "y": [
          0.4898029948878537,
          0.4896262993579566,
          0.49041559500571097,
          0.4904402456333798,
          0.49013306532241113,
          0.4899426278445931,
          0.48988453645481916,
          0.4904602243455,
          0.48886640012316385,
          0.4895215995099306,
          0.4887162939873177,
          0.4884215716688495,
          0.48906511336142,
          0.4886624873218447,
          0.48800153145870834,
          0.4884333282822161,
          0.48706701956771337,
          0.4891863178224908,
          0.48505737291738876,
          0.48710839640806003,
          0.5110577581042366,
          0.510987468235698,
          0.5114731344015753,
          0.511262905676071,
          0.5093711501011992,
          0.5106632325547602,
          0.5066266468356632,
          0.510663581358809,
          0.5030887124187572,
          0.5077985497785525,
          0.5235851694133075,
          0.5235221373247017,
          0.523009754876382,
          0.5232452553148347,
          0.5207449598437907,
          0.5226368723356406,
          0.5163400149941267,
          0.5217928582884929,
          0.5115083270790025,
          0.5186436697155444,
          0.5297896354998624,
          0.529716540342203,
          0.529144705890354,
          0.5294865386376633,
          0.5263238674318997,
          0.5284931424297769,
          0.5211311940897217,
          0.5276129405001833,
          0.5151021293098237,
          0.5240511344085489,
          0.5280153426269958,
          0.5282235365265797,
          0.5276901893762582,
          0.5279473395664994,
          0.5245198197396483,
          0.5266297117113683,
          0.5186957371547372,
          0.5252868180501923,
          0.511763508509964,
          0.5218104187050353,
          0.5265213016143653,
          0.5265242316528825,
          0.5258504719499295,
          0.5268995929588302,
          0.5227690112671707,
          0.5249526961901834,
          0.516268721768722,
          0.5235136309115306,
          0.5087517940158044,
          0.5201658960652329,
          0.524757175259221,
          0.5251032802944188,
          0.5241587630423842,
          0.525075421349915,
          0.5207252928029488,
          0.5233054605286432,
          0.5140609159744347,
          0.5215581582786719,
          0.505922186468374,
          0.5180177350804371,
          0.521164798530118,
          0.5215212230032018,
          0.5202709823072601,
          0.5214020612048891,
          0.5171358011128772,
          0.5197197051145788,
          0.5100341601231136,
          0.517865915097066,
          0.5014233774577764,
          0.5141891212804084,
          0.5158980069700112,
          0.5165158163930138,
          0.5149448805355199,
          0.5160451417686827,
          0.5115623410770651,
          0.5145414748295194,
          0.5041454180802075,
          0.5123271568820156,
          0.49576308031833777,
          0.509221543440582,
          0.5127955738859613,
          0.5127638504316806,
          0.5114585010429131,
          0.5126265632613592,
          0.5081919899288456,
          0.5109910867207199,
          0.5003434953431884,
          0.5088519157681237,
          0.4921656960333241,
          0.5055910693750272,
          0.5097159136364167,
          0.5095011808693942,
          0.5086628994394335,
          0.5092155127717025,
          0.5047573607757945,
          0.5075067119983315,
          0.4969235431004978,
          0.5055646728138374,
          0.4883448030247212,
          0.5021226052768625,
          0.5055253970792817,
          0.505164931621836,
          0.5044050689557161,
          0.5052516593769245,
          0.5008445008435033,
          0.5037173984492594,
          0.49301359682635026,
          0.5014228176895125,
          0.48380264718024685,
          0.49795931060818416,
          0.5023913699266089,
          0.5018991953946017,
          0.5013026516102629,
          0.5017736297730777,
          0.4973777711278356,
          0.5003859603708393,
          0.48963178735236396,
          0.49789091810122843,
          0.4805556275479058,
          0.4944376218303527,
          0.5001483177909799,
          0.4995929407149579,
          0.4988763893159048,
          0.499879513823454,
          0.494912608517271,
          0.4982780072414096,
          0.48712066743662646,
          0.49553048676467787,
          0.47793060581125507,
          0.4922785468666338,
          0.49744330201622083,
          0.49712904187502527,
          0.49606239567241356,
          0.49707088704276625,
          0.4922939734943374,
          0.4954005329911837,
          0.48471550486070675,
          0.493054429181199,
          0.4750824128788323,
          0.48986190476741925,
          0.49476110207682883,
          0.4946005309516685,
          0.4934967408555065,
          0.4944362585357491,
          0.4896108001152176,
          0.4930707826979133,
          0.4814125124029101,
          0.4903528862270054,
          0.4722431746122494,
          0.4869160244525485,
          0.493011632163519,
          0.4928975576592308,
          0.4918414087449156,
          0.492624924196833,
          0.4879279034274106,
          0.4913327766551225,
          0.47977701717829824,
          0.48877257916752925,
          0.4707077544186405,
          0.4850712312565881,
          0.4913978276672824,
          0.49140702262912145,
          0.4905366944542965,
          0.4910250509444988,
          0.48674120094587636,
          0.4895335791575755,
          0.47829047606694736,
          0.4871626433203388,
          0.46938246474450207,
          0.48370842897259275,
          0.48998126910421785,
          0.4893735972353086,
          0.4886560704412663,
          0.48944030063376637,
          0.48472567501737834,
          0.48806560074034916,
          0.47676385932324733,
          0.4853641250635337,
          0.46728089922567534,
          0.48208122029494677,
          0.48830511008651956,
          0.48807462308279403,
          0.48732144319046405,
          0.4881601245667327,
          0.48343263276065035,
          0.4866493320260719,
          0.47497232505297293,
          0.48391623722207416,
          0.4657243840583376,
          0.4805726371994049,
          0.48745841939422097,
          0.48709089673786393,
          0.4862362376746368,
          0.487167336778893,
          0.4824938875718944,
          0.4854245555232439,
          0.47436092275210495,
          0.48280667951608314,
          0.4648942777530715,
          0.4795343663966935,
          0.4866846513531417,
          0.48625580172642313,
          0.4847764523919226,
          0.4861999708337664,
          0.4814101764443366,
          0.4848609650070117,
          0.47334471527125277,
          0.4818364654675483,
          0.4638309233989192,
          0.47885436100407053,
          0.4851845458751745,
          0.48481817764182433,
          0.48396135191179174,
          0.48482487720671624,
          0.4798562614835426,
          0.4835319097078211,
          0.4720507161967781,
          0.4807315557481331,
          0.46258084015995776,
          0.47744209393572484,
          0.4841405963104218,
          0.48441220970073284,
          0.48324883381239864,
          0.4841679396000745,
          0.479333540908125,
          0.48260812375520296,
          0.47109576906115874,
          0.48035010237119297,
          0.4621992740975068,
          0.4763284336135303,
          0.48378081332604933,
          0.4834595637894329,
          0.4822675562775746,
          0.48311602919863383,
          0.47869533090724786,
          0.48183300268911,
          0.4706728546860014,
          0.47919895641172033,
          0.46146501157267195,
          0.4757371237005176,
          0.4828762064133152,
          0.48238073713636254,
          0.4816403216613337,
          0.4825032905233194,
          0.4776978162253337,
          0.48103431548063597,
          0.4698476905073456,
          0.47842059376917934,
          0.4603910691804776,
          0.4751671443578037,
          0.4822250963621083,
          0.48198818086413114,
          0.48085420139297713,
          0.48179363201471137,
          0.47707390848760034,
          0.4801025698426013,
          0.4692251619783315,
          0.4778295539671399,
          0.45952854429165046,
          0.47431268876030874,
          0.4816447800072918,
          0.4813406876406795,
          0.48012526922761917,
          0.48113589856903,
          0.47637553128380977,
          0.47968331388099167,
          0.46838559038550287,
          0.4771890678218751,
          0.4593721076964309,
          0.47362221012414546,
          0.48091946458281704,
          0.4804812113660242,
          0.4795830921310555,
          0.4806605167690663,
          0.4756881096582544,
          0.47944508100926186,
          0.4680424599245933,
          0.4764670733360194,
          0.45827307799256345,
          0.47341873478200414,
          0.48062258871875946,
          0.4801621538257643,
          0.47900994816316717,
          0.4800277609712234,
          0.4750344636848924,
          0.4785643932791761,
          0.4671808061505132,
          0.4761431222663163,
          0.45789383575604775,
          0.47288961318126677,
          0.4800359509269034,
          0.4799337355779546,
          0.4786067384336838,
          0.47921085584376855,
          0.47465146463119723,
          0.47812873845213505,
          0.4666501394948244,
          0.47561824703661354,
          0.45735136309487084,
          0.47231831394342605,
          0.4791318253182379,
          0.4793869062205013,
          0.47840470694197346,
          0.47877805765028486,
          0.4740895087062905,
          0.4776823315213155,
          0.46626236302832474,
          0.4752103964464117,
          0.4571161260289177,
          0.4716257468635278,
          0.4792792549884212,
          0.47840605987839785,
          0.4778595628248149,
          0.47866727158496203,
          0.47348247369982227,
          0.47714177005605757,
          0.4662006920972279,
          0.47475424583803144,
          0.45649629671444814,
          0.4714241703984063,
          0.4786468979458229,
          0.47800149912106565,
          0.4774000535418979,
          0.47827702562993024,
          0.4732224285508212,
          0.4767280374143855,
          0.465316053519224,
          0.47398011168578924,
          0.4563699016719341,
          0.4708192121780377,
          0.4782096616366414,
          0.47801530653591395,
          0.4769293937511388,
          0.4779294744145621,
          0.4729183906148197,
          0.47651380782361286,
          0.4653866924745812,
          0.47368386880533925,
          0.4559613501547571,
          0.47062630884651907,
          0.47785120719393637,
          0.47770016030666723,
          0.47651859255568346,
          0.47748294233737437,
          0.4724375648526649,
          0.47612608544415996,
          0.46464831300262815,
          0.47341554309666484,
          0.4556222772547836,
          0.47043127911807503,
          0.47771179075861436,
          0.4771810181628065,
          0.4760421343009821,
          0.4768936917885585,
          0.4724895247940964,
          0.4756239597108905,
          0.46451100337175844,
          0.4731130897059896,
          0.45523763805002987,
          0.47010509746864176,
          0.47730984428870804,
          0.47693553710603237,
          0.47575385012565286,
          0.47657010173513004,
          0.4719745843060768,
          0.47559776659891,
          0.46411379514852613,
          0.4727949438596564,
          0.45481753323415613,
          0.4695579626989944,
          0.47673015435959043,
          0.47675778524997514,
          0.4755810082944121,
          0.47632645559735864,
          0.47177781110382905,
          0.4748949328394474,
          0.46403112790318396,
          0.4724737105925021,
          0.4546904512370056,
          0.46918960080930117,
          0.47690362984788376,
          0.476137774345528,
          0.47513850320902873,
          0.47632956571675417,
          0.47148567214266607,
          0.47491449881907155,
          0.46350059932554555,
          0.47193619443857016,
          0.4545265748400669,
          0.4688840924672456,
          0.47633785420503055,
          0.4760092547644871,
          0.4749428593541027,
          0.4763798024535635,
          0.4712595356086208,
          0.4743885581528419,
          0.4633831221566315,
          0.47190185034179666,
          0.4539884493110643,
          0.4685643744295509,
          0.4759470287658364,
          0.4758724582547564,
          0.47476219123008406,
          0.47584800194691573,
          0.47085197064973705,
          0.4744291915632423,
          0.4630155888593875,
          0.47149921853964105,
          0.4539221307848942,
          0.46842104587900996,
          0.47630540196240434,
          0.47559663598820945,
          0.4741957752360649,
          0.4755812723647312,
          0.47062628859864236,
          0.47402949670018535,
          0.46275153279517683,
          0.47149319705750786,
          0.45386425414727294,
          0.468025922851515,
          0.47577632788665514,
          0.4754383447253851,
          0.4741889380808009,
          0.47538549639347116,
          0.4704502728366119,
          0.4738321147920109,
          0.46247629092534626,
          0.4714294285162649,
          0.4537904884851836,
          0.46785049590348177,
          0.47533444347193665,
          0.47542890133370774,
          0.4741562696419467,
          0.47513360159052537,
          0.47038032147656517,
          0.4735896360115177,
          0.4623070356812002,
          0.47106919283272447,
          0.45317554661792037,
          0.46768194677721325,
          0.4751741653363764,
          0.4751633683005777,
          0.47415733824739553,
          0.47462213300400874,
          0.4699026902221319,
          0.4733737746233778,
          0.4619064578291427,
          0.4707934262812054,
          0.4535193856282448,
          0.46719928001327643,
          0.4752553002083644,
          0.47473436594447593,
          0.4737071593869596,
          0.47441231888320023,
          0.47008289434751727,
          0.4731144982484023,
          0.4621098558526702,
          0.4706645532692106,
          0.45292009130751487,
          0.46706509138932834,
          0.4747268074444706,
          0.4745302256322637,
          0.4736265682690029,
          0.47470360482198115,
          0.46970234049074094,
          0.4730167062733904,
          0.46194915417350646,
          0.4705076526360023,
          0.4528592512846351,
          0.46698074643617216,
          0.4747963845666746,
          0.4745484452348238,
          0.47357664868910254,
          0.4744486883096569,
          0.46951371013484144,
          0.4729859692852955,
          0.4617700438444611,
          0.47030203520424113,
          0.4524621249858523,
          0.4668444197625262,
          0.4747794381881975,
          0.4741870485444017,
          0.47314011838484377,
          0.4741343373184765,
          0.469457255545193,
          0.47293278387113435,
          0.4615205888236122,
          0.4701194885915591,
          0.4527294505690272,
          0.4668409124449312,
          0.47459589889227954,
          0.4744381671023611,
          0.47304648773493435,
          0.47393900948927514,
          0.46937553835368095,
          0.4725325623925106,
          0.46142194260358704,
          0.47042702852276574,
          0.45234900276575657,
          0.46685521820829934,
          0.47420740335020384,
          0.4742707677027077,
          0.4732587199694495,
          0.4738753038799977,
          0.46931926008492436,
          0.4724594891767199,
          0.46131613550096356,
          0.4701136914709822,
          0.4523326507518808,
          0.466390420972398,
          0.4740764589041059,
          0.4740965308566785,
          0.47308270439557787,
          0.4735261821534175,
          0.4689424704680149,
          0.4724940454861333,
          0.4612545480289198,
          0.46977274336601005,
          0.452270196656776,
          0.46635863664268246,
          0.47419656457975673,
          0.4737140020139355,
          0.47287291541856297,
          0.47355039665730203,
          0.4688278297181639,
          0.4722026377298379,
          0.4610195010749039,
          0.46956792849773343,
          0.4518631154081873,
          0.46602970792476744,
          0.4737820473652334,
          0.4737117836095753,
          0.47268335000339695,
          0.4737901596043681,
          0.4686605100482547,
          0.4719813711004535,
          0.46097048582139644,
          0.4696780255407761,
          0.45209248735764984,
          0.46613398278670304,
          0.47376119474461303,
          0.47336605118357605,
          0.4725493648960748,
          0.4731871058820898,
          0.4687241085520786,
          0.4721303627973054,
          0.46096427343666885,
          0.4695080543273345,
          0.45152330592115014,
          0.46620627931102365,
          0.47391138499257135,
          0.47351684028643365,
          0.47212704170406145,
          0.47351549089304595,
          0.4685325909065962,
          0.47185557544636547,
          0.46070401145351775,
          0.4693849607842381,
          0.45156911297645036,
          0.46596167326554383,
          0.47379637287106335,
          0.473201088485945,
          0.4722577587064947,
          0.4732154992208739,
          0.46854137254584577,
          0.47189161054535356,
          0.46040709113877404,
          0.4694144722169603,
          0.45164411797099924,
          0.4659703945782944,
          0.47350883801292515,
          0.4734515394615325,
          0.472232827624495,
          0.4730697763260257,
          0.46826919449426146,
          0.4717293583584307,
          0.4603425971714563,
          0.4693947382212842,
          0.4516696462832087,
          0.4657816131831914,
          0.473159963420809,
          0.4731876155188381,
          0.47203327357471114,
          0.472740506987014,
          0.4681801913157511,
          0.4716097624251855,
          0.4604596071535126,
          0.46913878950212523,
          0.45153263001650884,
          0.46572063912253975,
          0.4733547828796737,
          0.47298800994191326,
          0.4722099061495738,
          0.47286055713181063,
          0.4681322870381658,
          0.4715713743545819,
          0.46038756784015616,
          0.46929183735879904,
          0.4512700057014372,
          0.4656249258526355,
          0.4732659512894197,
          0.47316809352352873,
          0.472299187176234,
          0.47284532629866965,
          0.4683412271138715,
          0.4716682571331868,
          0.46046338778667095,
          0.46895446541465713,
          0.45158566519496723,
          0.46566946361680167,
          0.47302831758533787,
          0.4730113150501979,
          0.472132334290741,
          0.47284256925508233,
          0.46796598679936197,
          0.47117641285994166,
          0.4604939284545858,
          0.46896663775242875,
          0.450893197329127,
          0.4655980210473214,
          0.4728679134329468,
          0.47286764633860295,
          0.4717981710442106,
          0.47277801884474396,
          0.46791729982530417,
          0.4715154431911738,
          0.4604342559216098,
          0.4688410245488554,
          0.45091850069219136,
          0.46563251726481536,
          0.4730725116808799,
          0.47282400512338507,
          0.4715056194811298,
          0.4722871898567537,
          0.467679444300296,
          0.4715678464741149,
          0.4598898619871626,
          0.46891547667441047,
          0.4510262338953012,
          0.46553768342061586,
          0.4726640778144659,
          0.4728387740932734,
          0.4718817267807765,
          0.4723777071869955,
          0.4678919000533489,
          0.47107777398577627,
          0.4601077954975904,
          0.4690200687489899,
          0.45080903750904083,
          0.46542092743028235,
          0.47276495832482274,
          0.4728181807039455,
          0.47160865098822946,
          0.4721094198342171,
          0.4678064180413488,
          0.47081030127939216,
          0.4599691418790556,
          0.4686690844739021,
          0.4507840066071311,
          0.4650064835237764,
          0.4730928088371613,
          0.4725040918097359,
          0.4718529809411277,
          0.4720606708991942,
          0.46755126600438696,
          0.47134093610858674,
          0.4597976637871424,
          0.4687961840909624,
          0.45089341438231006,
          0.46511502892684226,
          0.4727267001326642,
          0.47251961260877967,
          0.4714375124978802,
          0.4726709583585164,
          0.46741820317010635,
          0.4708529381587565,
          0.45967642920107205,
          0.4685930571222849,
          0.450677824503481,
          0.4647925499177015,
          0.47282313844510165,
          0.47244999423806,
          0.47153136716334515,
          0.47232615279621065,
          0.467474093002316,
          0.4709346817609993,
          0.45997278488964355,
          0.468633219869191,
          0.4505139124378206,
          0.4653611650673669,
          0.472629960816542,
          0.47261125685740824,
          0.4715379232688918,
          0.4720331484304188,
          0.4673343121311423,
          0.4708734644908357,
          0.4598679510903683,
          0.4684098666333958,
          0.4507149071567834,
          0.4650316001898254,
          0.4726633512996034,
          0.4725250115091938,
          0.47121161961474745,
          0.47206328928378954,
          0.4672087200393887,
          0.4708470092266243,
          0.45943124599719776,
          0.4687840206548425,
          0.4506197693104278,
          0.46481448988858004,
          0.47260246091357155,
          0.4727744401075462,
          0.4712959916783392,
          0.4719060483223111,
          0.46742542240052587,
          0.4706309827870726,
          0.45936203909879797,
          0.4684366790673858,
          0.45037859924952844,
          0.4648781092796647,
          0.4724798818995856,
          0.47236648814733895,
          0.4715089479270296,
          0.47177737986804974,
          0.46754774920066566,
          0.47087570543966845,
          0.4593135402399023,
          0.468279454800355,
          0.4506712505578291,
          0.46488705276274883,
          0.4726215141009168,
          0.4721844500298372,
          0.47153413322438453,
          0.47185753700498884,
          0.4673034666673414,
          0.47078277067601193,
          0.4595481465868054,
          0.46831906070301416,
          0.450459212947688,
          0.46451450458265325,
          0.4725148904079583,
          0.47217396327521466,
          0.47123375224006236,
          0.47204139433447095,
          0.46706658033103976,
          0.47035942519010604,
          0.45930391923952213,
          0.46831794146175615,
          0.4503811316026061,
          0.46480528836671764,
          0.4724514317741173,
          0.47193317740564994,
          0.4709486741534981,
          0.4720349450239763,
          0.46709645592768356,
          0.4708708121960094,
          0.45958388470676764,
          0.46813012898476725,
          0.4506885347104567,
          0.4644524097301002,
          0.47230883374470173,
          0.4718394153596997,
          0.47105145661453834,
          0.4717878054719743,
          0.46741313122493744,
          0.4707640885681975,
          0.4594626908395733,
          0.4681906356023711,
          0.4502540372296175,
          0.46464808237573574,
          0.47243321267055144,
          0.4721332244987679,
          0.47133835195316837,
          0.47159955312148477,
          0.4671946394986286,
          0.47046694084486596,
          0.45921070354567284,
          0.46809019379818056,
          0.45027405651683117,
          0.4644238324063725,
          0.47227533210920086,
          0.4721409116335246,
          0.4710085289882499,
          0.47167918595026276,
          0.46709113575286154,
          0.47044857073100227,
          0.45911471439156787,
          0.4682686523974436,
          0.4503914730518727,
          0.4646479059228957,
          0.4723109355328852,
          0.4720417094709987,
          0.4711540665473774,
          0.4716678778644205,
          0.4671606922462439,
          0.4704748699778653,
          0.4593998925038332,
          0.4677723525893001,
          0.45060544139697495,
          0.46449582334155176,
          0.4722744312505738,
          0.47183956888516376,
          0.47103173282226596,
          0.47153561656344756,
          0.4672809149260659,
          0.47022608232406615,
          0.4590621429088826,
          0.4679165456556189,
          0.4499366588265474,
          0.464249715097779,
          0.47214153422350036,
          0.47170885701600745,
          0.47129385700755155,
          0.471721756870769,
          0.4668645986001643,
          0.4699894824956925,
          0.4592243594075426,
          0.46762087873263736,
          0.45014410012446493,
          0.4642232102693253,
          0.4722155303448118,
          0.4718314262506142,
          0.4708630300228407,
          0.4716826499950335,
          0.4667770319471151,
          0.4702226803472859,
          0.4593408586158722,
          0.46795106885999577,
          0.45024703771694535,
          0.4644837667941833,
          0.47218179796986426,
          0.4718760237837403,
          0.47095261956527873,
          0.47154964868785904,
          0.4669665925693561,
          0.47016269524378607,
          0.4592752187386702,
          0.467835875256049,
          0.4498514353799952,
          0.46432795543568994,
          0.4722276450975764,
          0.47206968907948227,
          0.4710031162938426,
          0.47135055143052423,
          0.4667821717389186,
          0.47003267114637265,
          0.45877049721901453,
          0.4677956551359967,
          0.44989194590185666,
          0.4643111176120963,
          0.47186338836793895,
          0.47169062071569834,
          0.4708361890999361,
          0.47142440241797356,
          0.4668487361491577,
          0.47026260336187714,
          0.45882269690220523,
          0.4679610269815194,
          0.4501640855845139,
          0.46398014192592885,
          0.47194968939245957,
          0.4718403439572825,
          0.47075039189376955,
          0.4713326700210321,
          0.4665257332782735,
          0.46995304417116,
          0.45943243707458675,
          0.46780302647197275,
          0.4500333825987544,
          0.4641105466836952,
          0.4722274010325838,
          0.4712802710654488,
          0.4706713848815541,
          0.47133790210109694,
          0.4668561127910655,
          0.4699865715156427,
          0.4590944595409093,
          0.46748447085380174,
          0.4498553888764834,
          0.46420630461765294
         ]
        },
        {
         "line": {
          "color": "rgb(31, 255, 180)"
         },
         "mode": "lines",
         "name": "Median",
         "type": "scatter",
         "y": [
          0.4892905121524852,
          0.4891751270382487,
          0.490188101822505,
          0.4909552204964911,
          0.49083289546828796,
          0.490419275929986,
          0.4895754847470414,
          0.49050995447073104,
          0.48927149754140387,
          0.48915256785806216,
          0.48852929518857985,
          0.4880391536009526,
          0.4890022129522596,
          0.4885646774548859,
          0.48796091603989933,
          0.4890169573371963,
          0.48667697045718905,
          0.4896698279483278,
          0.4854485229817097,
          0.4871977580663493,
          0.5104647089666196,
          0.5111446390249148,
          0.51203652601791,
          0.5114691942876799,
          0.5097513353492638,
          0.5110469401964803,
          0.5060517808619599,
          0.5108486613060669,
          0.5029192726547217,
          0.5077539282200857,
          0.5229731767900041,
          0.5238931084815662,
          0.5229747936528909,
          0.5234482769904858,
          0.5208033059702405,
          0.5229273816506725,
          0.5160259876704902,
          0.5222150610857201,
          0.5116149449636079,
          0.5187882465027855,
          0.5296303113699077,
          0.5299728227921991,
          0.529086987376073,
          0.5290004646119584,
          0.5265667570743982,
          0.5291029030469264,
          0.5205830877071016,
          0.5276039943230586,
          0.5147944174086402,
          0.5243506478009868,
          0.5277445942833338,
          0.5282651007968893,
          0.5276169555965093,
          0.5279826101085501,
          0.525069934466418,
          0.5270278631669606,
          0.5185691614247243,
          0.5244661818826345,
          0.5109234920825944,
          0.5216818514733428,
          0.5262235718865658,
          0.5267936523392418,
          0.5257243413056598,
          0.5269638375933383,
          0.5234014846348173,
          0.5250004362192617,
          0.5157933364048772,
          0.5239006595019634,
          0.5083769743764077,
          0.5201151072823327,
          0.5247927278716484,
          0.5251289062193936,
          0.524104857663515,
          0.5249040192453871,
          0.5205505724793476,
          0.5236236083943171,
          0.5139469663900444,
          0.5213611283946635,
          0.506163343237297,
          0.5182704828600733,
          0.5216054932011708,
          0.5219387716786534,
          0.520295512132661,
          0.5213054579952496,
          0.5174754189855157,
          0.519928830926051,
          0.5102233084824119,
          0.5178228939362453,
          0.5015981844750341,
          0.51425597723627,
          0.5160677467046482,
          0.5164265097146075,
          0.51477951710437,
          0.515691025056479,
          0.5117261324697662,
          0.5147104228781822,
          0.5040075602776941,
          0.5119887016090926,
          0.49597435350040797,
          0.5089757517032412,
          0.5127416699042986,
          0.5125171070753727,
          0.5114204962855249,
          0.5127928847471144,
          0.5084188599497657,
          0.5109869028503553,
          0.5003518180979598,
          0.508937128229529,
          0.4919116983806552,
          0.5055860181747966,
          0.5101129257692246,
          0.509452620589306,
          0.5085542853114968,
          0.5091774193252643,
          0.5046367597572343,
          0.5077528167019878,
          0.49698755173081566,
          0.5054713642777177,
          0.4881645724854386,
          0.5021266831426416,
          0.5054350630733644,
          0.5051820763597075,
          0.5042178485707349,
          0.5053528263373799,
          0.5009700352119759,
          0.5038449205714596,
          0.4928218593543506,
          0.501193209465379,
          0.48371194281924657,
          0.4977473747573705,
          0.5023869019663894,
          0.5018371550671081,
          0.5013774267517008,
          0.5019966576149109,
          0.4974404964578115,
          0.5003361731169408,
          0.48963486504037185,
          0.49783042901777996,
          0.48062071628130454,
          0.4947983434285126,
          0.5000957690775342,
          0.499365878933381,
          0.499094536267885,
          0.49983541091492883,
          0.49511020033144937,
          0.49807964130315197,
          0.4872852262745359,
          0.4953230297344433,
          0.47782706134441544,
          0.4925291143536896,
          0.4974738448763354,
          0.4970589012629232,
          0.4960104143212416,
          0.49690374964742506,
          0.49230743540800964,
          0.49541107206566526,
          0.48458646289084634,
          0.4930400231602262,
          0.47513064020513934,
          0.48997907240551863,
          0.4946918532329271,
          0.4947097893494937,
          0.49344687260019937,
          0.4943706067480448,
          0.4896199390501492,
          0.49305935292067615,
          0.4815043282673444,
          0.4904174520512503,
          0.47271179811509056,
          0.4868121734166144,
          0.4929690001211246,
          0.4927425332836053,
          0.4918353807918229,
          0.4926778122206489,
          0.48801594617455457,
          0.49157449044778984,
          0.479623924630952,
          0.4886396851522897,
          0.4709402970735917,
          0.48521418540060535,
          0.4914398845642062,
          0.4914172097655981,
          0.4905148328721969,
          0.49091064998605094,
          0.4866462819511814,
          0.48945932985213747,
          0.47822676279208265,
          0.48695811306796755,
          0.46984309260443885,
          0.48325065491515407,
          0.489988983072509,
          0.4893559872826715,
          0.4886806959612283,
          0.48936620714403695,
          0.4849814764849213,
          0.48825504666777797,
          0.47687048309263863,
          0.48540506351327395,
          0.46744876253841283,
          0.48223948736048844,
          0.4882256071586629,
          0.4881026282715335,
          0.4871384141002974,
          0.48801175444438644,
          0.4835181470987654,
          0.48643836371505395,
          0.47468364408595987,
          0.4839975570656341,
          0.4656960684328807,
          0.48054074981408146,
          0.48748975672308115,
          0.4871968773314401,
          0.4861727598194106,
          0.48741633415821173,
          0.48256538060632587,
          0.48546031044881854,
          0.47456403283889337,
          0.4824700517057666,
          0.4649162245374695,
          0.47958778679511066,
          0.4866632545550965,
          0.48621006354946716,
          0.4844964129900118,
          0.4861695197665544,
          0.4814020804915344,
          0.4847411619673932,
          0.47329611682960904,
          0.48180233167114717,
          0.463821368337044,
          0.47871573678583956,
          0.4849947147117625,
          0.48484038572491117,
          0.4839800395963621,
          0.48466203111851547,
          0.4797946684535618,
          0.48368304621384794,
          0.47211668598479645,
          0.4806015090192389,
          0.4626500769396642,
          0.47758435883795913,
          0.48411812727865716,
          0.484354738298402,
          0.4832559928488031,
          0.4841697131418537,
          0.47947754264104064,
          0.4827223867980892,
          0.4707964522425246,
          0.4803598146118845,
          0.46227559540470187,
          0.4761876093087248,
          0.4838070324311579,
          0.48355260278171686,
          0.482191161609796,
          0.4831288937286907,
          0.4787043189487902,
          0.4817537728653931,
          0.47078022049494206,
          0.47921111853518683,
          0.46134234678662267,
          0.4759981244274056,
          0.48295981221783235,
          0.4823225315295535,
          0.48193732057125654,
          0.48295044433144585,
          0.47798717700260296,
          0.4808163915866806,
          0.46975366339511326,
          0.4786435769339731,
          0.4605463393442376,
          0.4747397151820144,
          0.4823183500376087,
          0.48194519568813415,
          0.48086504345631126,
          0.48166573500291965,
          0.47703613488814545,
          0.48020791795522233,
          0.46953963377084695,
          0.4778274261804055,
          0.45967004088262553,
          0.474362589587271,
          0.48159342566797947,
          0.48122500156661907,
          0.48016402151149723,
          0.48100290749470914,
          0.4764676132599446,
          0.4796203856588773,
          0.4683883492625275,
          0.47715430062733455,
          0.45899507774652704,
          0.4736451338014739,
          0.48073501535146357,
          0.48063710756954914,
          0.47950515702732094,
          0.4807278153518303,
          0.4760273243175449,
          0.4794635373044148,
          0.4676743564794503,
          0.4766826711281035,
          0.4581194016902594,
          0.47322069379547327,
          0.4807000066093192,
          0.48001113314505583,
          0.47890462593550476,
          0.47978684714645536,
          0.4748744651354797,
          0.4784000045645958,
          0.46755906201609576,
          0.47606130727565077,
          0.45793639247176277,
          0.4726572929519528,
          0.47988047009240575,
          0.47982860864482824,
          0.47849921910490933,
          0.47963048954365334,
          0.47477923776740666,
          0.47817396729289696,
          0.4664672515649772,
          0.4754195355951006,
          0.4577406729737481,
          0.47255389042648094,
          0.47902984813165816,
          0.479276169851247,
          0.4782321700407627,
          0.47873573988525564,
          0.4741481173816523,
          0.4776374948278977,
          0.4662642291880952,
          0.47521444766828547,
          0.45723969834534195,
          0.47136510909621365,
          0.47925173697458606,
          0.47836576859234564,
          0.4777346538377636,
          0.4786147324318108,
          0.47354951368055426,
          0.4769493391226479,
          0.46607300750446123,
          0.4745279711947873,
          0.4566366881802638,
          0.4709470340394579,
          0.478746369940553,
          0.47781887768800957,
          0.47744391513308027,
          0.4782696061170296,
          0.4730456394651254,
          0.4764463479531117,
          0.4652827842495809,
          0.47401691622642217,
          0.4563829170768008,
          0.47048276339026934,
          0.47820390376744826,
          0.47797819358074767,
          0.47703426151493533,
          0.47797662367751204,
          0.47258470343355374,
          0.4764386326133355,
          0.46498475169091735,
          0.4734333627565598,
          0.4558507179622501,
          0.4709308265589752,
          0.47758735780338035,
          0.47769352850607144,
          0.4766398019738414,
          0.47745899386751955,
          0.4723349378377047,
          0.47633122534607364,
          0.4647097429281598,
          0.47360213845452104,
          0.4555018478587143,
          0.4703339151450356,
          0.4776649474659749,
          0.4768671909496234,
          0.47587075082126373,
          0.47703112550297877,
          0.4724034225495519,
          0.47571697382364864,
          0.46440988360020585,
          0.473317861518253,
          0.4550548374351776,
          0.4698003562278132,
          0.4772435399242712,
          0.47694586057778393,
          0.4760449702712278,
          0.47658692704399835,
          0.47178754875524126,
          0.47544018626562257,
          0.4640375870135067,
          0.47263552902903044,
          0.45502818002081913,
          0.4693692448669611,
          0.47673662333443434,
          0.4769762591898053,
          0.4757149246006926,
          0.47652225216287813,
          0.4716639482984791,
          0.47479560988219793,
          0.46377571299599096,
          0.4723445713106414,
          0.45469770998220804,
          0.46914667605143967,
          0.4771550049057234,
          0.47623849468524926,
          0.47502086996451465,
          0.4765756158296591,
          0.471463395006102,
          0.4748291640392118,
          0.46363816071314784,
          0.4719824532113954,
          0.45491730994104773,
          0.468865696982601,
          0.47635247932532354,
          0.47608462024863707,
          0.4752032763851627,
          0.4764482585749451,
          0.47151036738385965,
          0.47434745662613625,
          0.46317505176813495,
          0.47214471619037873,
          0.45389452800985397,
          0.4686189659415017,
          0.47607893376170807,
          0.47591589224767683,
          0.474968221660782,
          0.47583724330537286,
          0.47082072852712115,
          0.47424692780503264,
          0.4630601783807021,
          0.47118521313828465,
          0.45417194208846157,
          0.4684232171697085,
          0.47610146752101534,
          0.47572601249063295,
          0.47410884690198424,
          0.4753821552924625,
          0.47083168616924076,
          0.47427243517660966,
          0.462694162792837,
          0.47150651190086934,
          0.4538326433111953,
          0.4680953361178175,
          0.47578370985771723,
          0.4754802803531228,
          0.47409640169216455,
          0.4751976929025432,
          0.47026868653880316,
          0.47365579516404277,
          0.4624988676652022,
          0.47155642292849237,
          0.45399298302440144,
          0.4678403468540403,
          0.4751889450843821,
          0.4755639987919752,
          0.4742483219160179,
          0.474949596240656,
          0.47048240106267103,
          0.4735424760134376,
          0.46260252645877914,
          0.4712617751694518,
          0.45302503817938533,
          0.46742625392963355,
          0.4750036592485827,
          0.4750513542486756,
          0.47430046362330264,
          0.4746875273197093,
          0.4700922514099754,
          0.4731706399224078,
          0.4619683838379186,
          0.4704832671375201,
          0.453864180835272,
          0.46699568439410766,
          0.4749523424748031,
          0.4749580919860106,
          0.47375070253612783,
          0.4746347394626248,
          0.4699502983397103,
          0.4730346363260416,
          0.4620306629316169,
          0.4707271754026478,
          0.4528216877476682,
          0.46682796334485305,
          0.4746491625034248,
          0.474644289138471,
          0.4736305881184751,
          0.4747497201940081,
          0.46999541761693464,
          0.4732161432145048,
          0.4618833475904638,
          0.4703433560637557,
          0.4529640396183602,
          0.46668125320291,
          0.4746432985570554,
          0.4747697036905113,
          0.4737538465966472,
          0.47469474615155094,
          0.46959886581852545,
          0.4727627326435082,
          0.46170028869017943,
          0.47027150629968534,
          0.45208625892618837,
          0.4668122211873956,
          0.47453945225536065,
          0.47429183439299105,
          0.4731285560982622,
          0.4740509764121322,
          0.46961223212230463,
          0.4727610928543632,
          0.4613288070507716,
          0.47013376205729196,
          0.4524695221646221,
          0.4665970366192608,
          0.47447661214042214,
          0.4744292186703116,
          0.473121434531759,
          0.47400250509123,
          0.4693234734827904,
          0.4727581793766996,
          0.4613032679644036,
          0.47054570161659504,
          0.4519751494786056,
          0.46673465353952076,
          0.47434220637689006,
          0.4743113631478353,
          0.47321116222412124,
          0.4737367422388997,
          0.4692689841455103,
          0.4724817514039606,
          0.46160490654108643,
          0.4699619891576601,
          0.4524606222016525,
          0.46658406466935837,
          0.47407953554112986,
          0.474034033531409,
          0.47313086489994166,
          0.4734953273140803,
          0.46891308824149436,
          0.4725654333425925,
          0.4613472745141881,
          0.46989153023000635,
          0.45230172366232557,
          0.46644543698974295,
          0.47423251891403195,
          0.47366282658762826,
          0.47322315088655087,
          0.47358604950049243,
          0.4690117856396997,
          0.4721099632178303,
          0.46077511850100666,
          0.46948034689899043,
          0.4521634203277005,
          0.4657242793656981,
          0.4738469068260637,
          0.4737160601009669,
          0.47289873554761835,
          0.47379934560973413,
          0.4688069300596194,
          0.47166347364629635,
          0.4607674912753392,
          0.4694023531712339,
          0.4521074881485834,
          0.4661603613614743,
          0.4736248386586023,
          0.47331311298190915,
          0.4726382366584019,
          0.47333301855827653,
          0.4684998627214737,
          0.47195748825604755,
          0.4609242738665916,
          0.46933447772014514,
          0.45170052098963087,
          0.46613974480055254,
          0.47372021197669656,
          0.47346896170180325,
          0.4720869159111073,
          0.4736034304611106,
          0.46858476807908667,
          0.4715822577188392,
          0.460481579511352,
          0.4691094028087408,
          0.4513915287442049,
          0.4661901376458405,
          0.47370096310642185,
          0.4730664111080545,
          0.47237184794937925,
          0.473238800341665,
          0.46847143772670663,
          0.4721965647098741,
          0.4604340028721725,
          0.46946050854572796,
          0.4515026442811223,
          0.4660469540547765,
          0.4734747518161029,
          0.47344437181238463,
          0.4724595665467791,
          0.47303195194890985,
          0.4685037867054789,
          0.47176026260262394,
          0.4600010587333555,
          0.4694806864352923,
          0.45171514470978286,
          0.4660100915542117,
          0.4733338031677451,
          0.4733407112592175,
          0.47211254192437746,
          0.4726831335824187,
          0.4683798283324199,
          0.47154062845682865,
          0.4605172991154813,
          0.46899641240325685,
          0.4515956629118142,
          0.46575427481086284,
          0.4731707842894475,
          0.47316378336564546,
          0.4721365252411104,
          0.4729239799638634,
          0.4681697440891977,
          0.4715645799818524,
          0.46026099920784147,
          0.46936386397970864,
          0.4516417444709978,
          0.4659027925187498,
          0.4731824800267544,
          0.47327215479863144,
          0.47235819948113156,
          0.47262563648715505,
          0.468109575845552,
          0.4720222046250952,
          0.46067451836539997,
          0.4688461400074132,
          0.4519807415548749,
          0.4655425382951456,
          0.4729617534227541,
          0.47315459649244235,
          0.47217841007211386,
          0.47267051238128105,
          0.46822854234140626,
          0.47103921183838343,
          0.4606972436325787,
          0.4689106631586692,
          0.45048205018891435,
          0.46581660707224104,
          0.47272498934262475,
          0.4728873607550266,
          0.472081515537137,
          0.47291857890244193,
          0.46819884422848473,
          0.47153371039094893,
          0.46051499975518617,
          0.4687229978168752,
          0.4509855477210802,
          0.4657347602127824,
          0.4730488238521904,
          0.472740049343621,
          0.47161313325054277,
          0.4721674243746019,
          0.4678001589977384,
          0.47184892510623555,
          0.45967159333005975,
          0.46877498985540306,
          0.45139544498893436,
          0.4658480109961699,
          0.47272917464493047,
          0.47274835550246347,
          0.47204012215065205,
          0.47248199121298384,
          0.46845989651716863,
          0.4711216432599348,
          0.46022328443590743,
          0.4691072703090367,
          0.4509918267378231,
          0.46527136124237845,
          0.4725934400443146,
          0.4728098447489814,
          0.4717206055676384,
          0.47209598878383274,
          0.4679020679692256,
          0.47072359824496895,
          0.45999857209326045,
          0.46847775160266125,
          0.45039104588209905,
          0.46495095592763985,
          0.4729072458966421,
          0.47248388586221785,
          0.4718130619571871,
          0.4719890415726693,
          0.4674139144642079,
          0.4713225036625017,
          0.45960478029077767,
          0.46890727516248054,
          0.4511554275114676,
          0.46509978025543974,
          0.4728335229410162,
          0.47255225006348467,
          0.47145834772738854,
          0.47275967387297235,
          0.4674138831471766,
          0.47079424858122704,
          0.45971391002822426,
          0.4686342848933347,
          0.4505441803401775,
          0.4646224716776842,
          0.47245160574824707,
          0.472643142693846,
          0.4717154760390153,
          0.47240526271453864,
          0.46760640072379145,
          0.4709875892684794,
          0.46018712348117996,
          0.4687566168252762,
          0.4507481746332981,
          0.4655890075326561,
          0.47279795842928996,
          0.47283112839070585,
          0.4716404096295067,
          0.4719619764469671,
          0.4673876225334396,
          0.47066898441461896,
          0.45968670103433384,
          0.46844028006803395,
          0.45061288459107746,
          0.4650451902039666,
          0.4726543877792915,
          0.4724672214546476,
          0.47112545739351785,
          0.4720434687060358,
          0.4669939849762834,
          0.4708400637705227,
          0.45934382916818484,
          0.46891378516647886,
          0.450622134713993,
          0.46488786413887817,
          0.47241831541881263,
          0.47294864259901537,
          0.4710733686467071,
          0.4717657117001915,
          0.46760452835189337,
          0.4703764363143442,
          0.45935935026122415,
          0.4682973915368779,
          0.4506104780551103,
          0.4649254259488572,
          0.47265530981301984,
          0.4722122732768734,
          0.47155523202020205,
          0.4715585166155788,
          0.4679083298814969,
          0.4708583947752441,
          0.45892946187142925,
          0.46839062930146924,
          0.45015496015889056,
          0.4649184176435426,
          0.47248041318930645,
          0.47214356072213604,
          0.47173515835656343,
          0.4718696390504355,
          0.46706086348465364,
          0.47072823527260543,
          0.4594339389480377,
          0.4681288612305712,
          0.4507037110922626,
          0.4643350820493002,
          0.4723454276084605,
          0.47206273123612097,
          0.4712638892055616,
          0.4719141557737182,
          0.46683858580362275,
          0.47024454510629216,
          0.4593939899152204,
          0.46828595768750825,
          0.45065876020358997,
          0.4646663147681215,
          0.4725357153714056,
          0.47193898594339734,
          0.4708032398708585,
          0.4718488692076035,
          0.4671420768056652,
          0.4708326992325027,
          0.45934892761094875,
          0.4681475665092743,
          0.4510249895210888,
          0.46412503598073035,
          0.4721074471689656,
          0.47188493167254975,
          0.4709276819532756,
          0.4716969774041466,
          0.4676804963811903,
          0.47088544138894584,
          0.45929195145414164,
          0.4681489506244605,
          0.45007735766773027,
          0.46465749242735266,
          0.47220932398751203,
          0.4723803201947464,
          0.4714831576049901,
          0.4715446456241874,
          0.46718909018904675,
          0.47051800122023274,
          0.45945489786621485,
          0.4680231920956923,
          0.45047179450831853,
          0.46432084628627157,
          0.47234641232583474,
          0.47191448054781954,
          0.47091484140964013,
          0.4716048032549882,
          0.4672722164231675,
          0.4704636170411721,
          0.4589235274337297,
          0.46844210826710597,
          0.45080116445986335,
          0.4646474207960143,
          0.4723311732449449,
          0.47198912232048096,
          0.47127811430051925,
          0.47150001074785974,
          0.467271735833234,
          0.47024019992193533,
          0.45930079901128473,
          0.467754810949921,
          0.4503249915115347,
          0.4647278942655701,
          0.4720106386515731,
          0.4720325110056395,
          0.4712453523479378,
          0.47159166188100254,
          0.46724830305415943,
          0.4700533710039593,
          0.45889375607806016,
          0.467850428720162,
          0.44996960878869796,
          0.4642970269909374,
          0.47211072964947876,
          0.4716680143658114,
          0.4713114219507971,
          0.4719676299618971,
          0.4672570489633331,
          0.4701216511087364,
          0.45908594957848436,
          0.4673223161471246,
          0.45050318249271915,
          0.46410802296640596,
          0.4721134354275698,
          0.47163007462980916,
          0.47100221143867943,
          0.47155291606224436,
          0.46679943421184394,
          0.4700627367310056,
          0.4591906352347245,
          0.4680115113606914,
          0.4498877917688371,
          0.4644425010413949,
          0.47211834737814706,
          0.47182500703621577,
          0.47105566439692736,
          0.4714898639692193,
          0.4671242887555781,
          0.47023024683213666,
          0.4594516504812062,
          0.46782617226084655,
          0.4496806798269004,
          0.46426760935198796,
          0.47219953806945125,
          0.47219416622978116,
          0.4710401949898195,
          0.4711265896619986,
          0.4670377024299446,
          0.4700741823661041,
          0.458873810084888,
          0.46779033282213056,
          0.449631721261808,
          0.46438424184220095,
          0.4717108065833774,
          0.4717559266215081,
          0.47100826750933433,
          0.4714055718764207,
          0.4666637145102426,
          0.4704194511101125,
          0.4589682601742624,
          0.4676784352459869,
          0.4501132363135187,
          0.46409734712949785,
          0.47179566605005796,
          0.4719426629736438,
          0.4708171470024404,
          0.471547290091912,
          0.4665691985747864,
          0.4698019656716338,
          0.45965876418603613,
          0.46770420895660647,
          0.4498011044129535,
          0.4640714609816346,
          0.4722722396410804,
          0.4712260402056059,
          0.47054501191183373,
          0.47152962928664754,
          0.46685998369354786,
          0.46994184245008275,
          0.4592070635000405,
          0.46792536877674407,
          0.4495703559987933,
          0.4642925944358979
         ]
        },
        {
         "line": {
          "width": 0
         },
         "marker": {
          "color": "#484"
         },
         "mode": "lines",
         "name": "Max",
         "showlegend": true,
         "type": "scatter",
         "y": [
          0.4996729192002642,
          0.4992352545882359,
          0.4959580591740227,
          0.4973439513600917,
          0.4961810843756109,
          0.4958376072589416,
          0.4991337961973317,
          0.4975183640289209,
          0.4985786755721598,
          0.4936057688363167,
          0.4979885864496639,
          0.4975016233225584,
          0.4948162690309665,
          0.4938631884114715,
          0.4944262915196497,
          0.4927955341485795,
          0.4959210681913818,
          0.494535754526757,
          0.4945255029027669,
          0.4912999584896008,
          0.5196687519151726,
          0.5198220597758192,
          0.5160607033598353,
          0.5173329373392994,
          0.5144046138938904,
          0.515552796420093,
          0.5128664272860444,
          0.516042185385895,
          0.5103650642487964,
          0.5123694174051263,
          0.53189656895447,
          0.5285797580377847,
          0.5274235680962882,
          0.527261293846175,
          0.5251508337461314,
          0.5274652021391422,
          0.5224476743650753,
          0.5264644472588501,
          0.5191253569064429,
          0.5225438833579059,
          0.536824062915339,
          0.535401330106566,
          0.5321420573456979,
          0.5334141822264065,
          0.5301583472199298,
          0.5326409087880019,
          0.5277103183814245,
          0.5325335833319739,
          0.5218851159773659,
          0.5273545015875458,
          0.5335376521574747,
          0.5312193441493711,
          0.5318587544854352,
          0.532298873206063,
          0.5275000665473497,
          0.5297459051027089,
          0.5235009059310431,
          0.5296230433726162,
          0.518598907045435,
          0.5245851120569692,
          0.5304256966206345,
          0.5299365979981692,
          0.5297232713871868,
          0.5299395075045626,
          0.5257309311215187,
          0.5295237410676431,
          0.5198618661045288,
          0.5271703971702906,
          0.5136291763434051,
          0.5234312657443135,
          0.5298681844743071,
          0.5277604839601593,
          0.5269896131244017,
          0.5290057046267203,
          0.525278537373238,
          0.5261574448647149,
          0.5177253322432678,
          0.5267207365910566,
          0.5113391911712648,
          0.5206313694763666,
          0.5236930206718584,
          0.5239151487361451,
          0.5239428848324496,
          0.5247932345881956,
          0.5194716902073299,
          0.523413155704006,
          0.5136860134876038,
          0.5218744292850378,
          0.5053580997160552,
          0.5170327430925734,
          0.5181872750371399,
          0.519059383136354,
          0.5185298258921484,
          0.5197889271643035,
          0.514709276143077,
          0.5171099002092148,
          0.506929497278567,
          0.5157061554840721,
          0.5000174437459007,
          0.51107589923186,
          0.5163377680991001,
          0.515730383500536,
          0.5139162196425497,
          0.5146667203799904,
          0.5102640275352222,
          0.5130355342142033,
          0.504115634737494,
          0.5127535740636517,
          0.4961137671522309,
          0.5076719980106359,
          0.5124617508145363,
          0.5115599826058033,
          0.5114784087659519,
          0.512135070138363,
          0.5083831398415262,
          0.5109136141827989,
          0.499626006126114,
          0.5075769359931565,
          0.4919541124243866,
          0.5047322957573317,
          0.5082831327576113,
          0.506890653150505,
          0.5070835299240133,
          0.508174687101027,
          0.5042078258773997,
          0.5060775086621336,
          0.4974657801121789,
          0.504933393508489,
          0.4880479110143203,
          0.5000444916257487,
          0.504725526346691,
          0.504554534637286,
          0.5039422837036747,
          0.5040718890160792,
          0.499380806206008,
          0.5028476756701644,
          0.4921468459727958,
          0.500630711422931,
          0.4835943729526663,
          0.4964954967875233,
          0.5024848735167252,
          0.5015730892240412,
          0.5004108698102211,
          0.5027585193235532,
          0.4969228042133654,
          0.5005897074605996,
          0.4896014798630043,
          0.4989258722942972,
          0.4818446685080582,
          0.4951528259408566,
          0.5001083355237378,
          0.499075984642203,
          0.4984047970189372,
          0.4993160881464464,
          0.4942621644779024,
          0.4979903265389424,
          0.4885648891429528,
          0.4954876168526456,
          0.4788355494248564,
          0.4918741138045227,
          0.4968936464567299,
          0.4963818816837457,
          0.4950447138677702,
          0.4960642565987336,
          0.4925014256386328,
          0.4949995460118332,
          0.4842961330533025,
          0.4932071767812623,
          0.4754716154273415,
          0.4894841364148944,
          0.4954290601771587,
          0.4955917753482481,
          0.4940107693487217,
          0.4950353917855115,
          0.4898525666075765,
          0.4934493558887636,
          0.482627760317337,
          0.4911640875965133,
          0.4734382059415769,
          0.4873925165288901,
          0.4928872573219047,
          0.4937482112393641,
          0.4924909254615464,
          0.493341670529925,
          0.489218267584732,
          0.4919241207657618,
          0.4816851388278002,
          0.4901638087863129,
          0.4729945833629503,
          0.4881023714274029,
          0.492122687293366,
          0.4916399803590309,
          0.4901900637943951,
          0.491884068699428,
          0.4871066563566906,
          0.4905129771178538,
          0.4798279250222328,
          0.4877860857114375,
          0.4694282667238545,
          0.4845289099757567,
          0.49019236101555,
          0.4899957305769563,
          0.4899965371746081,
          0.4904446764053276,
          0.4860076740729056,
          0.4884600541953164,
          0.4778483443038356,
          0.4870602592174278,
          0.4698435595934849,
          0.4832265218339419,
          0.4890738076002445,
          0.488991207637733,
          0.4879258558982678,
          0.4888165173666287,
          0.4848698277917191,
          0.488641183383558,
          0.4766245929634908,
          0.4855546592947427,
          0.4682197999724478,
          0.4824687217386443,
          0.4884577127882518,
          0.4878019146236924,
          0.4868003947737862,
          0.4880697122095178,
          0.4842622274606601,
          0.4874964802917748,
          0.4764924909641311,
          0.484714359263268,
          0.466606531986458,
          0.4822280754119111,
          0.4871032189941882,
          0.4868386640742579,
          0.485637971959979,
          0.4871286561759235,
          0.4820233910560347,
          0.4855616042864608,
          0.4750757760699476,
          0.483376115548817,
          0.4657621148954212,
          0.4808237119662993,
          0.4866822740970425,
          0.4860890061169983,
          0.4854967437163188,
          0.486488681778288,
          0.4818482447949083,
          0.4863994922527668,
          0.474061077314375,
          0.4834877369661621,
          0.4655613928474,
          0.4798452170131986,
          0.4861045643227596,
          0.4857633553004971,
          0.4847100395313036,
          0.4853507300785694,
          0.4804845410742954,
          0.4852767653068564,
          0.47299110909877,
          0.4817015071179023,
          0.4654747451712273,
          0.4778477630524947,
          0.4847029645407057,
          0.4843115427024064,
          0.4832420779253251,
          0.4844539784284427,
          0.4802760913811916,
          0.4837530134306907,
          0.4728389629727809,
          0.4808264734868914,
          0.4632505802865195,
          0.4778073483130178,
          0.4841812070267704,
          0.4844161083129185,
          0.4829940330632173,
          0.4837479556679603,
          0.4807191024527589,
          0.4820652814414516,
          0.4720571777386028,
          0.4805785725348463,
          0.4628501769347218,
          0.4765135011918118,
          0.4831735419345578,
          0.4835378642650612,
          0.4820309960993018,
          0.4831426580809055,
          0.478930225139219,
          0.4813676477041075,
          0.4723158109679803,
          0.4794423617745555,
          0.4634399679589481,
          0.4757552625703878,
          0.4830992556054733,
          0.4828725336635877,
          0.4815597531106986,
          0.4828503532735099,
          0.4778695493798608,
          0.4821500052223845,
          0.470726907909513,
          0.4785682647902881,
          0.4611373367083898,
          0.4757745647222912,
          0.4830246371834975,
          0.4822046703846105,
          0.4808648115142905,
          0.481905432356255,
          0.4780281540106486,
          0.4810910098014983,
          0.4703331564727365,
          0.4785653628047713,
          0.4610360155467221,
          0.4753530984483422,
          0.4825722390207831,
          0.4816371829935571,
          0.4803901596159342,
          0.4806641172047148,
          0.4777560512333333,
          0.4804483951053569,
          0.4717719328480924,
          0.4780330808296414,
          0.460693634157086,
          0.4751636259676314,
          0.4813135509569627,
          0.4811475216972158,
          0.4810570021521204,
          0.4816125974227356,
          0.4766297083315188,
          0.4798521813807185,
          0.4702162573186308,
          0.4790473923889945,
          0.4598065457722896,
          0.4745771544397357,
          0.4808194233299906,
          0.4806351598287393,
          0.4803141704032447,
          0.4810820216756004,
          0.4759894614749499,
          0.4793816528209575,
          0.4700587836195757,
          0.4775293189939288,
          0.4593315688335335,
          0.4741878583976474,
          0.4806354407143632,
          0.4800081418395798,
          0.4799944403341316,
          0.4802521019023442,
          0.47532829032393,
          0.4785444588635104,
          0.4682604526005511,
          0.4762212480818683,
          0.4594072915308082,
          0.4750379918354767,
          0.4802886275211965,
          0.4798616299946386,
          0.4794790374968674,
          0.4799702947660784,
          0.4759640149887847,
          0.478620784679469,
          0.4695120161867171,
          0.4766230980153307,
          0.4599976101064746,
          0.4728332867055784,
          0.4804890029091508,
          0.4796395382474827,
          0.4784758277420559,
          0.4790823901291606,
          0.4748678718931708,
          0.4781755785990386,
          0.4678907344506078,
          0.4768580815292248,
          0.4583984905783538,
          0.4728922256068396,
          0.4793454159340399,
          0.4788623225091633,
          0.4781503446056022,
          0.4790294834781081,
          0.4754013802624902,
          0.4784265410047171,
          0.4678958026053847,
          0.4762106268710432,
          0.4587112650605012,
          0.4736618597322788,
          0.4796284843200419,
          0.4787394759150779,
          0.4779128570495988,
          0.4787004246068907,
          0.4752082406409555,
          0.4787951224285824,
          0.4661054526503676,
          0.4765554814644823,
          0.4582477203644503,
          0.472556639689505,
          0.478546112957578,
          0.4787233258047181,
          0.4782852204096735,
          0.4779795481489393,
          0.4741623081745493,
          0.4771920043931453,
          0.4670544436766132,
          0.4749248166890917,
          0.4581188715038022,
          0.4724458399597267,
          0.4783220040347317,
          0.4783736893001572,
          0.4778036298688069,
          0.4778996183845213,
          0.4743310141727299,
          0.4764858098244836,
          0.4657591574999663,
          0.4746673302535918,
          0.4572641606562885,
          0.471428484244179,
          0.4787899375102135,
          0.4774183669188426,
          0.4767802366986284,
          0.478770730354094,
          0.4747595527852927,
          0.4766308923175775,
          0.4660841807729501,
          0.473978578770544,
          0.4581401029577068,
          0.4721821206523819,
          0.4778244487442272,
          0.4778810684197372,
          0.4763674268864359,
          0.4782995192972221,
          0.4731029128634414,
          0.4762351475635629,
          0.4653235738548495,
          0.4747575889273055,
          0.4574957593750051,
          0.4709178594879318,
          0.4774798174156102,
          0.4774623594052544,
          0.4760871799854733,
          0.4776714426832529,
          0.4727883722841403,
          0.4764880185170484,
          0.46637782617153,
          0.4746646030256461,
          0.4574806348394986,
          0.4708404798276807,
          0.4778593478575952,
          0.4778736848080627,
          0.4762475693076186,
          0.4777276788883282,
          0.4738096169069116,
          0.4765395001967475,
          0.4661491082002321,
          0.4757610111361308,
          0.45641173431847,
          0.4697773118506447,
          0.4776840517034442,
          0.4774976578021875,
          0.4761105029717637,
          0.4777334547516352,
          0.4727919241943599,
          0.4756120560304431,
          0.4651457201628524,
          0.4735736954346407,
          0.4573681297767001,
          0.4711583303652792,
          0.4773986828594777,
          0.4770107591240845,
          0.4765059807955371,
          0.4764989692388497,
          0.4723872626053624,
          0.4761310910819603,
          0.4655076457841164,
          0.4744882015106916,
          0.4570320299606825,
          0.4699120736893966,
          0.4781670351050425,
          0.4772772093548657,
          0.4750548708660084,
          0.476329958511265,
          0.4730212853359574,
          0.4758321679684155,
          0.4658453996160122,
          0.4743621060836012,
          0.4558264668104291,
          0.4696884569562743,
          0.4774167942857508,
          0.4763168629872448,
          0.4762870551500451,
          0.477685897024371,
          0.4730877641046023,
          0.474330355760357,
          0.4650453114598801,
          0.4742812141549766,
          0.4564572866135838,
          0.4706770149143163,
          0.4766613062438858,
          0.476683041366641,
          0.4752204800041013,
          0.4766048721315636,
          0.4717484954934233,
          0.4748724305691376,
          0.464721443923219,
          0.4730235112040974,
          0.4564528494029286,
          0.4689846885330765,
          0.4774434106071306,
          0.4760936333770077,
          0.4755493681508969,
          0.475919576652397,
          0.471743343055958,
          0.4767339862551131,
          0.464728094106239,
          0.4741708458773897,
          0.4562841762352402,
          0.4691445475645791,
          0.4769546006373503,
          0.4759803619888955,
          0.4747776365851851,
          0.4751750650148467,
          0.4714128846681838,
          0.4753972384995855,
          0.4651120160358268,
          0.4750995174195959,
          0.4565869669078468,
          0.4698291845055808,
          0.476916164674819,
          0.4760000694115502,
          0.4756168602862884,
          0.4762242384889931,
          0.4719297318859812,
          0.4744731210990078,
          0.4658287719729716,
          0.4722192609227267,
          0.4557137084106006,
          0.4693174571906224,
          0.4762797702675274,
          0.4769292521595757,
          0.4748192842489337,
          0.4757266773078644,
          0.4719732437420989,
          0.4745410775786999,
          0.4648082841293403,
          0.4718870902268939,
          0.4547586546574874,
          0.4685595419532518,
          0.475967135271073,
          0.4757362742961933,
          0.4750256213767047,
          0.4763720304624791,
          0.4725974432519556,
          0.4745041754401283,
          0.4636341804741387,
          0.4728539602318166,
          0.4552029838430229,
          0.4682073642140125,
          0.4760962209944439,
          0.4760950276336635,
          0.4739491856386323,
          0.4760279225255512,
          0.4704675218237494,
          0.4749660357224646,
          0.4636137902180684,
          0.4744666657500134,
          0.4546761139354472,
          0.4699870469905605,
          0.4763914249298229,
          0.4763659425805042,
          0.4757020960331425,
          0.4751545266539386,
          0.4718130243527879,
          0.4747527260622173,
          0.4631806569016305,
          0.4717283934466891,
          0.4554547501120112,
          0.4679740480315508,
          0.4757626409486196,
          0.4754433774345334,
          0.473906452223352,
          0.4751555541045535,
          0.4716266468039094,
          0.4743970548376282,
          0.4644100497401689,
          0.4729924643626684,
          0.4549671828925588,
          0.4694928441148187,
          0.4768825656867241,
          0.4752814711411716,
          0.4744826752897908,
          0.4749706237243135,
          0.4718932049140314,
          0.4741148035591624,
          0.4637264795708218,
          0.4727412741050355,
          0.4548707104735385,
          0.4688076982536861,
          0.4761293674623412,
          0.475096018201577,
          0.4747420864903529,
          0.4752601394365121,
          0.4707343590338075,
          0.4741539306174071,
          0.463867874340635,
          0.4717190766369382,
          0.4561663631039821,
          0.4680504526233566,
          0.4747901952292209,
          0.4753463158276629,
          0.4747268430822071,
          0.4753198501586869,
          0.4706566825376891,
          0.4739607793861979,
          0.4631138741060695,
          0.4722399396394593,
          0.4558156288242098,
          0.4678616343259614,
          0.4757522259773702,
          0.4754643306182996,
          0.4748118815583882,
          0.4757635532688443,
          0.4701617817665238,
          0.4736860247176703,
          0.4635273673993263,
          0.4718278097304393,
          0.4551291053578918,
          0.4678487557746448,
          0.4755129530308717,
          0.4750872925215462,
          0.4744186723955845,
          0.4755131865112199,
          0.4704956740349301,
          0.4736918131684491,
          0.4641842820933123,
          0.4708128061327631,
          0.4538576790259636,
          0.4685449936656964,
          0.4761231934327122,
          0.4762384967153727,
          0.4734240206627464,
          0.4754671381982311,
          0.4701062783312506,
          0.4728619889945135,
          0.4628200674780643,
          0.4724021105111665,
          0.4546179436487069,
          0.4680590586234219,
          0.4755636010534287,
          0.4748545753177053,
          0.4743960709377447,
          0.4743390764829798,
          0.4703564144533194,
          0.4736733996329613,
          0.4640519865780267,
          0.4716330517658162,
          0.454064990458911,
          0.4684060596961176,
          0.4752638420504636,
          0.474928040473844,
          0.4737924481841482,
          0.4750763553334951,
          0.4693718828852927,
          0.4736776036783685,
          0.4636832180036949,
          0.4713264762975323,
          0.4545656638581111,
          0.4679690375749828,
          0.4746693472402102,
          0.4746081637133237,
          0.4738939494994388,
          0.4742533606343402,
          0.4704700851316873,
          0.4744642854585842,
          0.4625925507106777,
          0.4712531264087645,
          0.4540602533314714,
          0.4679548159806603,
          0.474666198077111,
          0.4748366455398379,
          0.4733730551376949,
          0.4741198923041572,
          0.4698513494468438,
          0.4726547100435086,
          0.4630248538014035,
          0.4710084008417421,
          0.4542887498636624,
          0.467856891616894,
          0.4757202055739387,
          0.4737245506038435,
          0.4740027040896054,
          0.4746155492289331,
          0.4708528258556386,
          0.4732575727645685,
          0.4616562338835639,
          0.470684918396571,
          0.4545527498466462,
          0.4675175516002946,
          0.4756598439730449,
          0.4745010243052268,
          0.4736761033231396,
          0.4749996462278418,
          0.4703040391809551,
          0.4736669679605272,
          0.4619828706975126,
          0.4703847973968201,
          0.4552273307882726,
          0.4676517508049765,
          0.4757638702096936,
          0.4746096260137669,
          0.4730165349723026,
          0.4757976126256512,
          0.4697441645302621,
          0.4730951276650237,
          0.4632813526243275,
          0.4708714526004178,
          0.4530267532805643,
          0.4670672297815913,
          0.4755805447850124,
          0.4745494418361949,
          0.4733822170438537,
          0.4739424915475654,
          0.4704065458871519,
          0.4739406271490441,
          0.4639035649528106,
          0.4711521897960825,
          0.4537584984581084,
          0.4675720540069615,
          0.4760534740237058,
          0.474494078029978,
          0.4729986249560202,
          0.4741061844183671,
          0.4694422722263149,
          0.4733769485858567,
          0.4619636367992941,
          0.4719902542759334,
          0.4544676202275384,
          0.4676536782671707,
          0.4752525487519375,
          0.474396294042185,
          0.4736370677920089,
          0.4744562596060315,
          0.4703176454209478,
          0.4734344155566808,
          0.4623556242696559,
          0.4702305337554315,
          0.4525672180057383,
          0.4678562101754297,
          0.4739141772673064,
          0.4745489386614533,
          0.4736154144116956,
          0.4739241975728813,
          0.4694422500201588,
          0.4730765850153541,
          0.4634399308376966,
          0.4715020959448106,
          0.4547311323128541,
          0.4671430060462783,
          0.4755826024734691,
          0.4746000761374557,
          0.4735037109761444,
          0.4738611329641511,
          0.469860574017753,
          0.4730946159640208,
          0.4624486596825215,
          0.4710257468805092,
          0.4553454167376657,
          0.4671465082630012,
          0.4751756320633303,
          0.4742318129474657,
          0.4731024390786421,
          0.4741723415341119,
          0.4702933551938973,
          0.4723763205053563,
          0.4616363324156661,
          0.4709540211799305,
          0.4533362488975594,
          0.4673465799355601,
          0.4742145054922017,
          0.473710523831389,
          0.4732744312770057,
          0.4742066296047086,
          0.4694707139852193,
          0.4723998246279566,
          0.4626372637693579,
          0.4722195233863229,
          0.4548686894866137,
          0.4669054983464756,
          0.4750516253297622,
          0.4736184255801263,
          0.4735489957388574,
          0.4732583540022143,
          0.4699780098011963,
          0.472655355440895,
          0.4637581712543185,
          0.4715807539356892,
          0.4532619609409758,
          0.4671791505696485,
          0.4740261277335453,
          0.4736156136359468,
          0.4735077147347287,
          0.4743761281367347,
          0.4688919446847684,
          0.4735505547928612,
          0.4620665003643453,
          0.4704475589247627,
          0.4531428946375404,
          0.4675544230520709,
          0.4743771824185594,
          0.4746180131605766,
          0.4736207310691008,
          0.4741639839588519,
          0.4695865831326989,
          0.4732136562560316,
          0.4628255606300812,
          0.4723344701482187,
          0.4533310225806798,
          0.4666316031549108,
          0.4740904992234052,
          0.4741247838332727,
          0.4737155306347221,
          0.4736635385748872,
          0.4694192003928484,
          0.4731626414310556,
          0.4618852296569072,
          0.4717900915743929,
          0.4547584134234552,
          0.4668273378770669,
          0.4756203263507126,
          0.4735706901992831,
          0.4725408453034818,
          0.4737901343882231,
          0.4707777029311752,
          0.4725382392477297,
          0.4628437978445985,
          0.4708167478635028,
          0.4534997905299897,
          0.4679560038213185,
          0.4741872821801561,
          0.4735650128687829,
          0.4735139180101506,
          0.4738777132194068,
          0.4700038787101939,
          0.4718518546687349,
          0.463300947550719,
          0.4709984294377295,
          0.4543903853013628,
          0.466892644039022,
          0.4742573653220118,
          0.473546547834418,
          0.4721636015135291,
          0.4734199420921114,
          0.4688565990078416,
          0.473660242241382,
          0.4623990244438466,
          0.4710756791633481,
          0.4549070666348132,
          0.466809882408346,
          0.4736813566384517,
          0.4739633080916998,
          0.4728103102835282,
          0.4735784557352499,
          0.4694395657088724,
          0.4719340332719677,
          0.4625691587209902,
          0.4709724648377222,
          0.4533069080524456,
          0.467086433835595,
          0.4736196071922042,
          0.4742788251530738,
          0.4731357694374722,
          0.4728782044147174,
          0.4683290347485084,
          0.4724904996943531,
          0.4633167647844828,
          0.4712805937789707,
          0.4535527963273516,
          0.4673085756697439,
          0.4736199604926709,
          0.4734065923082401,
          0.4724446884189332,
          0.4733677211782673,
          0.4702683362017935,
          0.4720675712251306,
          0.4620922492429896,
          0.4709049726667033,
          0.4533039260917278,
          0.4657083127857964,
          0.4736593830095351,
          0.4738044252413874,
          0.4728526582049558,
          0.4731302886721399,
          0.4692737605756742,
          0.4718419111593387,
          0.461757684062117,
          0.4714175942415904,
          0.4530745056980091,
          0.4667079992265599,
          0.47506907418672,
          0.4736648709922885,
          0.4735389452265132,
          0.4742708859264133,
          0.4696310992891563,
          0.4716904813839676,
          0.4619395918567,
          0.4704335711960516,
          0.4527857419213293,
          0.4667150821496268
         ]
        },
        {
         "fill": "tonexty",
         "fillcolor": "rgba(68, 130, 68, 0.3)",
         "line": {
          "width": 0
         },
         "marker": {
          "color": "#464"
         },
         "mode": "lines",
         "name": "Min",
         "showlegend": true,
         "type": "scatter",
         "y": [
          0.48089025705243,
          0.4792529908856341,
          0.4834973345880968,
          0.4835088023252304,
          0.4831136191915353,
          0.4823072462388734,
          0.4833452410104704,
          0.4848806318570098,
          0.4782095322592263,
          0.4846130469108665,
          0.4812989650713442,
          0.4797610139478624,
          0.4810816406337887,
          0.4833217026831962,
          0.4815761723537808,
          0.4829139861646739,
          0.4812386293466405,
          0.4830353762427914,
          0.4772631970345712,
          0.4814708172472585,
          0.5053329464798328,
          0.5045572185588496,
          0.5049646673984337,
          0.5035397557310283,
          0.5045147792245298,
          0.5046089534990573,
          0.5017951617772204,
          0.5045174241445118,
          0.4980446074559515,
          0.5029487421519595,
          0.5176740178465027,
          0.5180882618861284,
          0.5180280440527195,
          0.5183343035718072,
          0.5169198287268065,
          0.5165353621560557,
          0.5110640247464534,
          0.5174828422473277,
          0.5073258542975424,
          0.5143448673391294,
          0.5261071493049203,
          0.5253956612035631,
          0.5243179553191993,
          0.5250969730311783,
          0.5218504517623889,
          0.5235059717282136,
          0.5165772940326667,
          0.5237862331487154,
          0.5107113190462109,
          0.5188380102834245,
          0.5245742123291015,
          0.5233195705275424,
          0.5233004094342113,
          0.5233255940976421,
          0.5200071287514836,
          0.521155300797833,
          0.5136240147428475,
          0.5218181433690865,
          0.5081159893671265,
          0.5183686503387133,
          0.5232416404553627,
          0.52327944039118,
          0.5217272528552745,
          0.5229935091599821,
          0.5191014269212136,
          0.5196281510998982,
          0.5134183255123078,
          0.519772838559515,
          0.5056168176373564,
          0.5159431648160308,
          0.5217617377930195,
          0.5212254307873537,
          0.520235841643137,
          0.5219017886135435,
          0.5173219463504231,
          0.5184562796105059,
          0.5111359811943016,
          0.5188151469451054,
          0.5022337474587566,
          0.514899397929876,
          0.5175526207821626,
          0.5180303633362653,
          0.5160257481347317,
          0.5188969498621406,
          0.5130828692359557,
          0.515050107413934,
          0.5059315552616473,
          0.5142755253181753,
          0.4974805605817194,
          0.5110037045898164,
          0.5126254633510055,
          0.5124251713935466,
          0.5114989685965137,
          0.5133943288931712,
          0.5073846604270938,
          0.5106575340826036,
          0.5005719882633789,
          0.5097740924597349,
          0.4913790403902949,
          0.5065516029814451,
          0.510890721228313,
          0.5094432980860817,
          0.5087829935175179,
          0.5100690254609721,
          0.5044094118922208,
          0.5073602817753097,
          0.4970097447916335,
          0.5054835180120373,
          0.4885828061137364,
          0.5036513517661221,
          0.5062953796374869,
          0.5074994283702298,
          0.5059345019604621,
          0.5066092758794216,
          0.5013159595329372,
          0.5041271682260768,
          0.493751291108399,
          0.502964354204324,
          0.4846141874736069,
          0.4999088495087155,
          0.5032026371297617,
          0.5026631097576798,
          0.502781923633031,
          0.5029792608075156,
          0.4974455669785766,
          0.5003344983547252,
          0.4905679646751373,
          0.4986637603840444,
          0.4809248672095805,
          0.4962824986766356,
          0.5004147479609953,
          0.4989719912243613,
          0.4986205772097002,
          0.4993052978715385,
          0.4952235474296041,
          0.497509735762013,
          0.4867667904681156,
          0.4959884463373896,
          0.4766767290557964,
          0.4922801136417091,
          0.4975523735319824,
          0.4974164993734173,
          0.4963589423865957,
          0.4975296685759089,
          0.4909764349040932,
          0.4960161017892533,
          0.4836465247258818,
          0.4933184306682447,
          0.4741810280273848,
          0.4894975127081015,
          0.4946034496059834,
          0.4952200107654599,
          0.4930588946186102,
          0.4946905915637474,
          0.4898034751217442,
          0.4933519285339595,
          0.4819485063972089,
          0.4911388071849427,
          0.4724713317539659,
          0.4878038264205946,
          0.4928425164238683,
          0.4916374209001307,
          0.4914864924924157,
          0.4926227307712895,
          0.485940454362815,
          0.4909962229705237,
          0.477104118618004,
          0.4864949392929387,
          0.4675946612321983,
          0.4837656382705897,
          0.4907045871000597,
          0.4903132602239245,
          0.4901426726666328,
          0.4912312457242903,
          0.4844018502711646,
          0.4894603185659649,
          0.4764182290047601,
          0.4864831941480653,
          0.4667440332935669,
          0.4826790900255948,
          0.488573433716764,
          0.4898000090688733,
          0.4884796750278469,
          0.4889631272611665,
          0.4834665329451019,
          0.4863073083115647,
          0.475451133521229,
          0.4852250202225212,
          0.4661499520518977,
          0.4821718822874767,
          0.4879058316109246,
          0.4873826758608213,
          0.4868834976617006,
          0.4872564491676424,
          0.4819770850063696,
          0.4851743389307069,
          0.4731219975887139,
          0.483028499933962,
          0.463309756340899,
          0.4796079100788417,
          0.486736958953091,
          0.4859505997466942,
          0.4845348726956482,
          0.4860476249049029,
          0.4797337606423917,
          0.4850103242012245,
          0.4714840218757307,
          0.4819170406513407,
          0.4620367734283691,
          0.4781219224369436,
          0.4859401114052691,
          0.4842665902589498,
          0.4843670164358939,
          0.4850689740994969,
          0.480168301677941,
          0.4835819474844758,
          0.4695068821188104,
          0.480690203538422,
          0.4611300674204812,
          0.4768541702479044,
          0.4842023864909691,
          0.4842379731110836,
          0.4823144354974489,
          0.4846403135923337,
          0.4792744682291828,
          0.4819354495025909,
          0.4688654970623332,
          0.479143496354905,
          0.4602621485087332,
          0.4761745785648695,
          0.483307332497306,
          0.4825588619162115,
          0.4808424591681825,
          0.482826418927663,
          0.4768701959666155,
          0.4807272605315905,
          0.4671669873640283,
          0.4785356134906072,
          0.4590712415160238,
          0.4748651062985483,
          0.4821580165537058,
          0.4821260551945182,
          0.4816929616555888,
          0.4822751574500878,
          0.4758546203056679,
          0.4794441180170272,
          0.4672766673937961,
          0.4778592658129604,
          0.4578751838852853,
          0.4740389355287475,
          0.4818282510033608,
          0.4818022132291818,
          0.480105447313885,
          0.4800489073979249,
          0.4756812873226565,
          0.4797203827454314,
          0.4662913813530308,
          0.4765909179153613,
          0.4572953828234973,
          0.4721957429562636,
          0.4813077601866139,
          0.480233981910861,
          0.478668778221511,
          0.4792573259118434,
          0.4750465386239816,
          0.4788755854748832,
          0.4669729576500404,
          0.4759084889327363,
          0.4562445518800969,
          0.4731070857547103,
          0.4793698461516627,
          0.4783843446204839,
          0.47881816903711,
          0.4802692589533356,
          0.4748769262745901,
          0.4775670540594212,
          0.4643824877412393,
          0.4753684915457419,
          0.4558825116970116,
          0.4718254153624734,
          0.4794741352573211,
          0.4784462424381853,
          0.4781280382344518,
          0.4798607410471188,
          0.474189589098217,
          0.4770045714009349,
          0.4628357768855923,
          0.4744508698408954,
          0.4550821612866568,
          0.4713347780235602,
          0.479353326979006,
          0.4783659159614176,
          0.4769348431047847,
          0.4780459564107276,
          0.4726238674997832,
          0.4773107468387288,
          0.4647591387706061,
          0.4738680140841098,
          0.4550631520834149,
          0.4707498202041768,
          0.4788784201885175,
          0.4778777784304952,
          0.4767694173074935,
          0.4781931189250196,
          0.4724284380523837,
          0.4770242702238679,
          0.4640753712178283,
          0.4736791592131055,
          0.4532842719061568,
          0.4710135160750545,
          0.4777940696493525,
          0.478406895643939,
          0.4761689469183869,
          0.4765000350929779,
          0.4710454437657085,
          0.4765486823740361,
          0.4630040318568418,
          0.4729093142332481,
          0.451936790204375,
          0.4702538038212128,
          0.4771973025309217,
          0.4777679001068389,
          0.4758660577334969,
          0.4764321463502992,
          0.4718032287647538,
          0.4755042132743772,
          0.4627168489429681,
          0.4732234111181641,
          0.4527970893525647,
          0.4694426329186127,
          0.4775390863947366,
          0.4771279324237047,
          0.4762406588711617,
          0.4763722994051705,
          0.4698112194670283,
          0.4754786466454994,
          0.4635880381661512,
          0.4727270674371278,
          0.4531559076467101,
          0.4690908875666266,
          0.4763820839379157,
          0.4763869227353074,
          0.4753026152644965,
          0.4757207410976959,
          0.4712461286970008,
          0.474972091841298,
          0.4604659048584865,
          0.4720588965547443,
          0.4529802450002126,
          0.4685224345015873,
          0.4763393767970679,
          0.4762963515434276,
          0.4746509620151664,
          0.4762511560498459,
          0.4702643182037693,
          0.4754430899206746,
          0.4610346193496847,
          0.4712288901684026,
          0.4523787218137621,
          0.4674819621737971,
          0.4762723415868073,
          0.4758855176629359,
          0.4744901533368842,
          0.4747532707151278,
          0.4701149338489625,
          0.4729940847232844,
          0.4608459171605378,
          0.4709084732184134,
          0.4515928360004996,
          0.4680774816174768,
          0.4757434432369832,
          0.4745681973512742,
          0.4737303773186038,
          0.4746116686344421,
          0.4700941862889523,
          0.4730601205904499,
          0.4599467187649714,
          0.469896755897651,
          0.4520884332595352,
          0.4664410100530431,
          0.4753029115930977,
          0.475244477085508,
          0.4737000553907044,
          0.4746317468329086,
          0.4689601564615645,
          0.4728344274267559,
          0.4618710782413614,
          0.4697859516977971,
          0.4507555440299061,
          0.4677739885570238,
          0.4741982535484167,
          0.474342411637457,
          0.4738360555374483,
          0.4741310100595228,
          0.4693952147188228,
          0.4719402412875227,
          0.4607163585174657,
          0.4698596900782991,
          0.4499410763723416,
          0.4674578292878516,
          0.475021277520615,
          0.4740383090928136,
          0.4731813206103378,
          0.4735028699484983,
          0.4684780462629365,
          0.4733434202626993,
          0.4597330502353043,
          0.4696587636603296,
          0.4500458952876625,
          0.4653992479873772,
          0.4742957542629447,
          0.4723563666746272,
          0.4723840453772805,
          0.474438384851332,
          0.4689630431149955,
          0.4723053027748103,
          0.4592724057716295,
          0.4697284160262657,
          0.4502911409802774,
          0.4653854248252744,
          0.4734640984544415,
          0.4738653443072453,
          0.4721590783087211,
          0.4738618624479442,
          0.4688190028065311,
          0.472874683987604,
          0.459138826707859,
          0.4686661348496304,
          0.448078869537303,
          0.4652520097819393,
          0.474814229374331,
          0.4726221229684926,
          0.4718895577114749,
          0.4739078861088022,
          0.4680092326792555,
          0.4712375451976559,
          0.4592109937734553,
          0.469023652274018,
          0.4497188507877085,
          0.4645909044080402,
          0.4736436713147341,
          0.4730048749755214,
          0.4724491753972979,
          0.4742594723645335,
          0.4671128437279791,
          0.4720877010712991,
          0.4591235828213063,
          0.4688210691935043,
          0.4492346489136383,
          0.465614778553477,
          0.4732901766615706,
          0.4736009244122448,
          0.472176774471837,
          0.4734149492923113,
          0.4662798262768835,
          0.4715843471065727,
          0.458808573759025,
          0.4680547774044966,
          0.4480258410402413,
          0.4652593141880037,
          0.472967373726626,
          0.4733289028248618,
          0.471836540188994,
          0.4722858351571614,
          0.4674892596100145,
          0.4718535901425147,
          0.4586967634214994,
          0.4688528065883869,
          0.4503233041536775,
          0.4650124850368996,
          0.4731413729985861,
          0.4729874726466999,
          0.4714919796123328,
          0.4724726969007459,
          0.4674299641100027,
          0.4709534152489882,
          0.4590538371525646,
          0.4679669948038841,
          0.4492120206048152,
          0.4651774275793323,
          0.4722361170898887,
          0.4727212780819047,
          0.4715068656080631,
          0.4715797398123192,
          0.4657420176160394,
          0.4709592390426387,
          0.4589155474049131,
          0.4674249502988225,
          0.4491034636938155,
          0.4646536596880806,
          0.4723664184386151,
          0.4711291504195466,
          0.4715641682501732,
          0.4722831935164713,
          0.4669150446608476,
          0.4712813782109262,
          0.4582103293936755,
          0.468082554620517,
          0.4500235519504473,
          0.4644300093921183,
          0.4722549999505605,
          0.471638605124818,
          0.4708517921197971,
          0.4722446579041213,
          0.4651518906382901,
          0.4698799310151395,
          0.4583442205187452,
          0.4680480905798478,
          0.4484291005376984,
          0.4641427731774266,
          0.4730085507167658,
          0.4728499992018788,
          0.4707575823253281,
          0.4716111583074472,
          0.4672496289256377,
          0.4699395466206849,
          0.4578042946220866,
          0.4678665346694513,
          0.4487352628394467,
          0.46433361194446,
          0.4721655093678574,
          0.4719304477905697,
          0.4715528189841996,
          0.4719447612971548,
          0.466902732096314,
          0.4706855036651664,
          0.4570683706093376,
          0.4681415628845933,
          0.4478047172049976,
          0.4632822280684618,
          0.4717345003925629,
          0.4716075847223653,
          0.4703032097871192,
          0.4711582499374023,
          0.4652553193207199,
          0.4701333393954196,
          0.4577696626892701,
          0.4679232858811134,
          0.4487566418871863,
          0.4640720866732459,
          0.4723052638659239,
          0.4716086094365395,
          0.470802502059483,
          0.4712267283380361,
          0.4659230330220555,
          0.469726830701314,
          0.4589673366366661,
          0.4677649221792925,
          0.4475299095183801,
          0.4638118991978241,
          0.4716017861738104,
          0.4713372203181865,
          0.4701955688450734,
          0.4718486172152159,
          0.4656398622424081,
          0.4700948528092322,
          0.4569092157995469,
          0.4672266026141167,
          0.4493911915378478,
          0.4634500396556577,
          0.4721713056280352,
          0.4709110605550827,
          0.4701345377904215,
          0.4713616736539977,
          0.465954361281124,
          0.4704336233951052,
          0.4566715322530765,
          0.4674162233149102,
          0.4480737594296407,
          0.4639855715007951,
          0.4724343818553984,
          0.4715492801715287,
          0.4700975064751158,
          0.4718791351010626,
          0.4652304301158791,
          0.4693377634773049,
          0.4562990010449831,
          0.467654063783696,
          0.4491839858529039,
          0.4637248222928662,
          0.4722638924810133,
          0.4712956585346873,
          0.4703115628595979,
          0.4707380332218845,
          0.4651890577400981,
          0.4688521418652611,
          0.4573261298625121,
          0.4667842877640951,
          0.4468054802427847,
          0.462586497441658,
          0.4705989973748667,
          0.4711743172610796,
          0.4692815084795729,
          0.4704401202389173,
          0.4635242772047033,
          0.4697612949613897,
          0.456603158251967,
          0.4671962187494621,
          0.4476312026240365,
          0.4629108653428319,
          0.4711572144730614,
          0.4706955531640533,
          0.4693414771207615,
          0.4707078881711651,
          0.4658381136845793,
          0.4694593970167384,
          0.4561951693300163,
          0.4671015182300697,
          0.4470718369721677,
          0.4633696109312611,
          0.470802119620431,
          0.4708150633537099,
          0.4705462473152712,
          0.470567414474231,
          0.4652105182399999,
          0.4693180269955661,
          0.4567878811133799,
          0.4666795742024049,
          0.4472824454414679,
          0.4628950975260721,
          0.4715564388030994,
          0.4706930997741491,
          0.4693432049483557,
          0.4711498979896202,
          0.4665140002630237,
          0.4689799867441158,
          0.456456110176319,
          0.4671003067651473,
          0.4474760070054133,
          0.463236127144949,
          0.4712573125747142,
          0.4705945963604856,
          0.4705559383591902,
          0.4700612423568739,
          0.4640358413659556,
          0.4700704165734889,
          0.4562330545375708,
          0.4655949851633935,
          0.447979289416632,
          0.4621685272976896,
          0.4713706269296862,
          0.4710508437994962,
          0.4695973035075566,
          0.4707372292711457,
          0.4650710740873071,
          0.4695689244395966,
          0.4573265723146021,
          0.4664472485797169,
          0.4461242244288064,
          0.4620883076728866,
          0.471151366463602,
          0.4714720282404839,
          0.4684261486113227,
          0.4712554669445889,
          0.4652654487140109,
          0.4681101429937137,
          0.4553850134204915,
          0.4666630076783319,
          0.4462873859944676,
          0.4615607441564283,
          0.4703194673322065,
          0.4710672211192072,
          0.4698239716321561,
          0.4705583491800764,
          0.46492541932687,
          0.4671568537545207,
          0.4564552049648717,
          0.4669324806818565,
          0.4451061852463727,
          0.4637213492517181,
          0.4705604119425353,
          0.470300231356868,
          0.4693907785620365,
          0.470403196513883,
          0.4655960750684504,
          0.4684717174213009,
          0.4556043469431078,
          0.4669322374322572,
          0.4456808123053606,
          0.4624185677432553,
          0.4713386506952413,
          0.470304527035695,
          0.4691880499748556,
          0.4698203928362043,
          0.4653034216024941,
          0.4681588002541975,
          0.4564176452146735,
          0.4655060196708988,
          0.4466870430019569,
          0.4628873736898339,
          0.4707591767250023,
          0.4710584886575392,
          0.4693002795497898,
          0.4708265089596928,
          0.4648397060374827,
          0.4683287517175564,
          0.4563194617633752,
          0.4670353918145201,
          0.4471770210681036,
          0.4619714663030196,
          0.4708582387016795,
          0.4708750620167901,
          0.4689951977675916,
          0.4705849650423974,
          0.4642802203225766,
          0.4686004113724509,
          0.4552636483385926,
          0.4661078405907533,
          0.4476535614386432,
          0.461090907152742,
          0.470134921502047,
          0.4703424842062026,
          0.4688838516461242,
          0.4706728735492661,
          0.4645751643604998,
          0.4683653305868316,
          0.456309475761653,
          0.4658388461483372,
          0.446931175210672,
          0.4614712759833848,
          0.4704673340162978,
          0.4709348518931582,
          0.4693376136448324,
          0.4703217393432052,
          0.4646087905163923,
          0.4690110009320484,
          0.4557625785335127,
          0.4657708979889983,
          0.4464811065020794,
          0.4616090841451775,
          0.4709403938343561,
          0.4705409272774903,
          0.4692974945902332,
          0.4695884401358127,
          0.4641212728096461,
          0.4688222332066255,
          0.4554616720091772,
          0.4665381286691886,
          0.446941223217883,
          0.4626589231378487,
          0.4705781869771807,
          0.4702771056033901,
          0.4695140681601732,
          0.4702259624282506,
          0.4647869139022524,
          0.4688964003812247,
          0.4569052977179892,
          0.4652726422263251,
          0.4472945431958515,
          0.4622030365551803,
          0.4705521541705246,
          0.4704714894437695,
          0.4692108967853182,
          0.4703203295942535,
          0.4652531086478407,
          0.4686708717067117,
          0.4553902076665632,
          0.4662504852040669,
          0.446924162887978,
          0.4624012054619053,
          0.4708887834856131,
          0.4700952173747231,
          0.4694112041479803,
          0.4694133944990324,
          0.4642421820264917,
          0.4686676695246995,
          0.4546266048350696,
          0.4658162914580143,
          0.4464298865963559,
          0.4624945798955422,
          0.4704395440647983,
          0.4698164259518098,
          0.4686711450531567,
          0.4706540911124284,
          0.4640448059360684,
          0.4693097981988183,
          0.4553891918734976,
          0.465657579856649,
          0.4467962848504485,
          0.4606671911917399,
          0.4700548979183626,
          0.4701829133295042,
          0.4687687887730112,
          0.4706070685004988,
          0.4647645129468852,
          0.4684456585780318,
          0.455622642124212,
          0.4658985256867644,
          0.4469849552923692,
          0.4617217299631602,
          0.4706954547930194,
          0.4702666393142551,
          0.4682944884337832,
          0.4694947142604385,
          0.4649866997670457,
          0.4678224818154041,
          0.4547277946640594,
          0.4659393506440651,
          0.4458674379742361,
          0.4620213693233924,
          0.4697787514190314,
          0.469685271589185,
          0.4691330828649249,
          0.4697068625585782,
          0.4637890603343674,
          0.4680738871602519,
          0.4554543194371072,
          0.4661091434629537,
          0.4442871405230782,
          0.4620991289956215,
          0.4700021923950293,
          0.4707562009195957,
          0.4688217688724391,
          0.4703306859483791,
          0.4645025607877536,
          0.4690977811530973,
          0.4569112459515108,
          0.4650494998249704,
          0.4464999408816337,
          0.4618996573132077,
          0.4707314500000795,
          0.4698906824585354,
          0.4693510314465041,
          0.4692051989210881,
          0.4643852760250556,
          0.4678427306613218,
          0.4557478606978093,
          0.465595859047706,
          0.446119066524983,
          0.4613575328677557,
          0.4704872193744039,
          0.4695374918824472,
          0.4684420951258528,
          0.4692957292764069,
          0.4640888549891273,
          0.4674082594789212,
          0.4541618308115977,
          0.4654842011010608,
          0.4449326689255449,
          0.4623981805209413,
          0.4704706361220187,
          0.469581209834555,
          0.4687629797206206,
          0.4701698661615836,
          0.4648258531379699,
          0.4682907944229148,
          0.4552417962930162,
          0.4654257657443644,
          0.4470460044421503,
          0.4616311852186396,
          0.4707180747366852,
          0.470511816283336,
          0.468507668544352,
          0.4698889942491849,
          0.4649036933158336,
          0.4678899029236334,
          0.4555259491524454,
          0.46454025707614,
          0.4454340824043292,
          0.4617451255716303,
          0.4696030513839525,
          0.4697915200749142,
          0.4688117827786547,
          0.4697096950165402,
          0.4649235681024194,
          0.4671412202088431,
          0.4545325950190049,
          0.464005816914565,
          0.4448759325536329,
          0.4619655217852983,
          0.4703537667891826,
          0.4702145924798298,
          0.4690061198353111,
          0.4689306112649485,
          0.4642382328952195,
          0.468085824048967,
          0.4532697918322615,
          0.4659349360781264,
          0.4451016811893894,
          0.4610852179006639,
          0.4700250717988928,
          0.4691401524166553,
          0.4686451406020541,
          0.4687701018727438,
          0.4628115707805185,
          0.4677841920876598,
          0.4553857364179604,
          0.4659535448663148,
          0.4457819627825035,
          0.4613856263659545,
          0.469880585665396,
          0.4690429724801515,
          0.4682446177821393,
          0.4678303311604931,
          0.4646289112069044,
          0.4681083772975067,
          0.4560831520486922,
          0.4649214824721221,
          0.4457212975935089,
          0.4618778622873883
         ]
        },
        {
         "line": {
          "width": 0
         },
         "marker": {
          "color": "#644"
         },
         "mode": "lines",
         "name": "Konfidenzintervall",
         "showlegend": true,
         "type": "scatter",
         "y": [
          0.4913350688695232,
          0.491347578162747,
          0.49155748625664464,
          0.49175861204470994,
          0.4914931116781193,
          0.49117655299441626,
          0.4910461470031088,
          0.4915656359195961,
          0.49033831056842647,
          0.4904377174009801,
          0.4902370471875468,
          0.49009875899784366,
          0.4903114849050864,
          0.4896864630452936,
          0.48932317623871346,
          0.489600865438887,
          0.4882224497261869,
          0.49029736637489596,
          0.4864391827373865,
          0.4879475324006533,
          0.5123614222675665,
          0.5124315829055509,
          0.5126362254750977,
          0.5124784772359825,
          0.5105039754021672,
          0.5118196285907763,
          0.5076653509303383,
          0.511757731306304,
          0.5042133530260495,
          0.5086545416266559,
          0.5247973122498015,
          0.524592882467042,
          0.523793059590557,
          0.5242694364936823,
          0.5216940517992887,
          0.523688694395854,
          0.5173923228827106,
          0.5226735030312065,
          0.5126155533730387,
          0.5194263971349524,
          0.5307084795037234,
          0.5306642666251952,
          0.5298700376534597,
          0.5303658732703265,
          0.5271630673934256,
          0.5293876329757552,
          0.5220313484381411,
          0.528384733807866,
          0.5160420055395311,
          0.5248027364613111,
          0.5288646170098897,
          0.5290044732119988,
          0.5284732723015082,
          0.5287258749814046,
          0.525262441402734,
          0.5274266446360721,
          0.5195947421322293,
          0.5261391090570138,
          0.5126170652895712,
          0.5224328722867735,
          0.5273293485640796,
          0.527170164823719,
          0.5265720343655723,
          0.5275484472552366,
          0.5235187903131648,
          0.5258431469676743,
          0.5169308411735479,
          0.524231709443682,
          0.5095570928824772,
          0.5207600473400319,
          0.525422366251554,
          0.5256268464536662,
          0.5247662961480122,
          0.525751290324538,
          0.5215051931380593,
          0.5240652975980509,
          0.5147636172456473,
          0.5221939272848937,
          0.5067297798187838,
          0.5185203840895872,
          0.5217464581514903,
          0.5220919984352224,
          0.5209475630304105,
          0.5219433412182983,
          0.5176972455186931,
          0.5204195630324225,
          0.5107358088074385,
          0.5184829610091894,
          0.5021242628733239,
          0.5147155153937646,
          0.5163983560144292,
          0.5170811952559305,
          0.5155287642535998,
          0.5166073633822944,
          0.512139344150434,
          0.5151042945992393,
          0.5048225507746562,
          0.5129145191962167,
          0.4965807492479743,
          0.5096547697141072,
          0.5133560481658737,
          0.5133022262541452,
          0.5120021684213248,
          0.5130616622877602,
          0.5086853759147438,
          0.5115194171522511,
          0.5009873862733459,
          0.5093969504750866,
          0.492962050096657,
          0.5059888819631956,
          0.5102376012945303,
          0.5098852441356364,
          0.5091359665316427,
          0.5097542902234824,
          0.5052804706257459,
          0.5081165282990994,
          0.49753636184721534,
          0.5059523052187559,
          0.4890858623790119,
          0.5025659113655921,
          0.5059994583278087,
          0.50558116813125,
          0.5048209511187902,
          0.5057764583538671,
          0.5014206975792421,
          0.5041792882686558,
          0.49367544399401037,
          0.5020431121006295,
          0.48443058286123025,
          0.49837690023911574,
          0.502815051060236,
          0.5024106451013027,
          0.5017771545413082,
          0.5022518801559992,
          0.4978247263200432,
          0.5008590374799307,
          0.4901309012779691,
          0.4983071543835445,
          0.48117448397686174,
          0.4948691678142047,
          0.5005688160819242,
          0.49996244513558585,
          0.4992225225233947,
          0.5003485517039364,
          0.49544714240745674,
          0.49871368756599005,
          0.4875724503695469,
          0.49606972621103607,
          0.47856437338895524,
          0.4927661992033141,
          0.4979091876068414,
          0.49750248226900173,
          0.49646880752641875,
          0.49749836853055907,
          0.4927327167891558,
          0.49584118472014405,
          0.4853319333734643,
          0.4935081371403312,
          0.47572733121168337,
          0.49026866850631934,
          0.49513327806775426,
          0.4950052368281314,
          0.49387469655629435,
          0.49476694341108945,
          0.49012748111711285,
          0.49347514514899826,
          0.4820204778461441,
          0.49092196288673423,
          0.4729481430186594,
          0.4874242702019169,
          0.49343742557720455,
          0.493375474874468,
          0.4922451949504297,
          0.49296776423282085,
          0.4885016576607945,
          0.49176869872375517,
          0.48037481760238504,
          0.48922466426954225,
          0.4713612921881257,
          0.48553384444878117,
          0.49182152145892466,
          0.49175466011908436,
          0.4909519615091958,
          0.4914693412789632,
          0.48727595377472477,
          0.49005566623089164,
          0.47886061237691774,
          0.48760309585611317,
          0.4700421903986364,
          0.48417707003616267,
          0.49038553783383454,
          0.48982111146771645,
          0.4889750594573899,
          0.48992986415273365,
          0.4852642274395921,
          0.488513201124593,
          0.477369313093148,
          0.48586914759219973,
          0.4678824560699033,
          0.48256157337045236,
          0.48864275393770457,
          0.48839221223030904,
          0.48779510366682205,
          0.4885322848856844,
          0.48399337425207106,
          0.48699309474501035,
          0.4755211095420525,
          0.4843512720713969,
          0.46641445494589956,
          0.4810694120497177,
          0.48771737471288684,
          0.4874927759367886,
          0.4865809234780073,
          0.4876075998053725,
          0.482997191251889,
          0.4858953147671708,
          0.4748971708684577,
          0.4832535690796465,
          0.4655121175466277,
          0.4799779905681365,
          0.48704474225664657,
          0.4866515879196287,
          0.48520388587740915,
          0.48652531326597515,
          0.4818665832241508,
          0.4853930065901131,
          0.47403386054793706,
          0.4823087212936245,
          0.4644313011789412,
          0.47937956667511783,
          0.48554149877281094,
          0.48515965492245317,
          0.4843328937663438,
          0.48524279403192866,
          0.48036926433445737,
          0.48392440408091436,
          0.47272299468309537,
          0.481179512037119,
          0.4631844583325341,
          0.47790696367528135,
          0.48453220847023293,
          0.48472910603631786,
          0.48365163289981417,
          0.48451413415322275,
          0.4798448593211344,
          0.4830958039038508,
          0.47165700011880946,
          0.480811044905563,
          0.46297611671322847,
          0.4768650698642142,
          0.4841805424881992,
          0.4838633326068988,
          0.48268324884620634,
          0.4835355297762322,
          0.4791240671024611,
          0.48229277227006495,
          0.47133138232296035,
          0.47964553387209113,
          0.4621484708403805,
          0.476250774838137,
          0.4832219468349794,
          0.48278708480490895,
          0.48207258474510845,
          0.4830165776803311,
          0.47819335881912467,
          0.4815285137441373,
          0.470427198776614,
          0.4788789275618583,
          0.461087418046211,
          0.4756092580215171,
          0.4826285501548168,
          0.48246858529065295,
          0.48129534108233857,
          0.482107407787942,
          0.4775407677119005,
          0.4805947202981351,
          0.46991596559304105,
          0.4782789550392656,
          0.4601666066454863,
          0.4747522829756123,
          0.48196915478005087,
          0.4818189702667779,
          0.4804737348180267,
          0.4814758239567319,
          0.4768223902734242,
          0.48006321984201455,
          0.4691559921292121,
          0.47764726572171806,
          0.4600699523621976,
          0.4740885138521143,
          0.48128162372547934,
          0.4808524879428116,
          0.4799796140673091,
          0.4810273112842804,
          0.47623679503302757,
          0.47985754629729793,
          0.46861165633541013,
          0.4769058415160412,
          0.45884664845513684,
          0.47392271032505795,
          0.4809833003427409,
          0.48056484841645947,
          0.47940411520263865,
          0.4803902161984541,
          0.4755436824172064,
          0.47897447222859807,
          0.46774492870304,
          0.4765830724781064,
          0.458513776238214,
          0.47339711352870734,
          0.4804531775953052,
          0.48023340022514954,
          0.4789863873556105,
          0.4796159561297705,
          0.4752315300803251,
          0.4784810874673488,
          0.4674080845582331,
          0.47604260003325255,
          0.4581201122662682,
          0.4727774942386063,
          0.4794974637946296,
          0.4797145378370434,
          0.478864564391432,
          0.4791941645507501,
          0.47457775900787846,
          0.47815880424471974,
          0.4668173034006284,
          0.4756419393227971,
          0.4576935106083194,
          0.4721107268932479,
          0.47963476386243775,
          0.4787272257653051,
          0.4782355725333433,
          0.47912682184489364,
          0.4739560835008422,
          0.4775343582169942,
          0.4667219801207997,
          0.47518316143926687,
          0.45709211660832993,
          0.4719289648052013,
          0.478982268114846,
          0.4783366809031302,
          0.4778448285740922,
          0.478667048150322,
          0.47363215308297413,
          0.47711674550603733,
          0.46588737624852083,
          0.4744027915494834,
          0.4570463894657759,
          0.4713996631760775,
          0.478526970353374,
          0.4783552172773898,
          0.4773573130028051,
          0.4782912372707048,
          0.47335166562496156,
          0.47684571910057605,
          0.46602459009094466,
          0.4742298511301666,
          0.4566449446377583,
          0.4711097635086744,
          0.4782081104136057,
          0.47804185653947157,
          0.47689044961456495,
          0.4778903790715283,
          0.4728965130667506,
          0.4765879386459308,
          0.46523816686177816,
          0.4738720657557973,
          0.4563165054805873,
          0.470873508811131,
          0.4780772273025968,
          0.4775757698533746,
          0.4764292123892156,
          0.4772715565912566,
          0.4729296855202324,
          0.47609988597083813,
          0.4651470620661524,
          0.47361505251304464,
          0.4558852731516447,
          0.4706813139515282,
          0.47770780883672764,
          0.4772589204636527,
          0.47615459107325403,
          0.476923584294739,
          0.4725617550236466,
          0.4761491288372685,
          0.464554070218673,
          0.473284926120893,
          0.45552312196686384,
          0.47008800138705314,
          0.4770946067761466,
          0.4771443960161362,
          0.47595950132077763,
          0.47669858274365584,
          0.4722711428467487,
          0.4754039397349723,
          0.4646304002178323,
          0.47293263390580026,
          0.4554086467821819,
          0.46963568104960657,
          0.4772505189709542,
          0.47654175301313384,
          0.47555084648673296,
          0.4767920687455938,
          0.47199973918020105,
          0.47524183114734403,
          0.4640075738728894,
          0.47235639181737554,
          0.4552453678069061,
          0.4693701807591636,
          0.47675859180202496,
          0.4764029378786919,
          0.4753754462057609,
          0.4767984998022774,
          0.471775161775778,
          0.47480676605179534,
          0.46396612936268766,
          0.4723175144142276,
          0.4547173549296218,
          0.4691147787532059,
          0.4764078025511423,
          0.47617045636452027,
          0.4751854474265866,
          0.4762577660615039,
          0.4712381405944552,
          0.4748116422077554,
          0.46357192046871165,
          0.4720194313061679,
          0.4547078142490777,
          0.46891621886470786,
          0.4765768478336789,
          0.4759965634184165,
          0.47461675206155607,
          0.4759494041907953,
          0.4711068908140433,
          0.47450996361496944,
          0.4633626017658589,
          0.47199813121392575,
          0.4545730843702553,
          0.4685524653126831,
          0.4760741642335818,
          0.475861348737573,
          0.4745583405274549,
          0.4757096488339421,
          0.471031003802891,
          0.4742434798839855,
          0.46304432414908087,
          0.4719417388334207,
          0.454448253588855,
          0.4682771520781789,
          0.47574011781408576,
          0.4757436274114172,
          0.474517627950503,
          0.47556513938324024,
          0.4709473369868009,
          0.47400062698857076,
          0.46288214286094764,
          0.4715779333301816,
          0.4540130000986978,
          0.4681865330433209,
          0.4755825558247182,
          0.47552123810014435,
          0.4746811749661734,
          0.47502024681339483,
          0.47042425221985906,
          0.473764490463138,
          0.4625377885725775,
          0.4712264576256609,
          0.4542122333253897,
          0.467681265127425,
          0.475753882569709,
          0.47510084734682706,
          0.4740617815901585,
          0.47478085237817186,
          0.47058493008386737,
          0.47360091964145834,
          0.46273372484072584,
          0.47113401913985775,
          0.4536300222691833,
          0.46752177247159193,
          0.4751074691522844,
          0.47484978355173724,
          0.47404293655089064,
          0.47516339945470243,
          0.47033367807289284,
          0.4733608255389187,
          0.46252766175848753,
          0.47104502427608463,
          0.4535347101965187,
          0.46751813760979205,
          0.4751915551375531,
          0.4750082627879004,
          0.47391264989219195,
          0.47487539579940613,
          0.4699559344452057,
          0.4733680812703255,
          0.46233940692975123,
          0.47072904235599894,
          0.4530839932734522,
          0.46731933930856967,
          0.475175911817997,
          0.4746038280064016,
          0.47355500144507134,
          0.47443609057745567,
          0.4699765353406652,
          0.47342312387884317,
          0.462091277231405,
          0.47060050462434183,
          0.4534213611912788,
          0.4673271715498425,
          0.47500636624624176,
          0.474778321957161,
          0.4734171529590831,
          0.47424713914089234,
          0.4697998211057266,
          0.472980110120166,
          0.46208015498618366,
          0.470969583614012,
          0.45305176743497505,
          0.46733217746088196,
          0.4746499149810101,
          0.4746282834209695,
          0.47355643833099587,
          0.4742783527750377,
          0.46978630291565987,
          0.4728502013794181,
          0.461980672419764,
          0.4705206187018542,
          0.45295794830675795,
          0.46685369213501776,
          0.4745058935718667,
          0.4744895181540263,
          0.4734296309102082,
          0.4739041666608227,
          0.4694402479039464,
          0.4729270487106586,
          0.46179852692569096,
          0.4701365716967582,
          0.45293370985442005,
          0.4668275090174566,
          0.47458145004211266,
          0.47411682027442437,
          0.4733150432099905,
          0.4740526401714087,
          0.4694078537407881,
          0.47261858436995186,
          0.46151838487576236,
          0.4699949305458838,
          0.4525993174972084,
          0.4664902134376063,
          0.47416875361371175,
          0.4740699598189148,
          0.4730389267646649,
          0.4741436058419893,
          0.4690942387680413,
          0.4723793436097185,
          0.46150717901295873,
          0.4702297638890584,
          0.45266442723155825,
          0.4666956628508543,
          0.47414413481997764,
          0.47379951665332304,
          0.472978009164925,
          0.4735345087291453,
          0.46923312913743664,
          0.4725453243424372,
          0.46150043950984065,
          0.469911172198763,
          0.45226651913901783,
          0.46660715037495165,
          0.4742112910820824,
          0.47386598392188717,
          0.4725157811135947,
          0.4738678411765068,
          0.46906882592980514,
          0.47226881650979136,
          0.4613677291437177,
          0.46983317846709455,
          0.4522133411424282,
          0.46655024255323324,
          0.47411987438029196,
          0.4735734642203087,
          0.47268851759139596,
          0.4735981260202388,
          0.4690558435971371,
          0.47234938287276035,
          0.46095911385627747,
          0.46987322717046104,
          0.45238880012270316,
          0.4665145100364175,
          0.4739765009235169,
          0.4738068555108367,
          0.47268957137721446,
          0.4734586811995252,
          0.4688961401964814,
          0.4721299856178391,
          0.46094062717032125,
          0.4697598187714572,
          0.4524553655264012,
          0.4663040835946636,
          0.4735123396396144,
          0.47357559547545774,
          0.4725464110602296,
          0.4732059843914732,
          0.468655568553012,
          0.4720397271992022,
          0.4610020661581975,
          0.46957817841836375,
          0.45221605809848675,
          0.4661359067949392,
          0.4737622160200775,
          0.4734550270222187,
          0.4725962310052701,
          0.4733337821669306,
          0.4685785526391206,
          0.47191122554347603,
          0.4609323266027844,
          0.46975838666370073,
          0.45202150561900356,
          0.4661813115181838,
          0.4736613132475008,
          0.47355391292808674,
          0.47273775027326015,
          0.4732684774844983,
          0.4688124033368065,
          0.4721044179868597,
          0.46109195427305055,
          0.4693678387313009,
          0.45220672880577406,
          0.466220509611522,
          0.4733761343250279,
          0.47340929095559775,
          0.47244224169519866,
          0.47327735330303206,
          0.46849048406659716,
          0.4714655074593107,
          0.46109476814960426,
          0.469504018319253,
          0.4515551937576477,
          0.4661512759475979,
          0.47326155624397875,
          0.4732147395107709,
          0.4721991992324749,
          0.4731183704623693,
          0.46839752417090835,
          0.47186135607371793,
          0.46106256314387833,
          0.4692961722022862,
          0.4515999929309878,
          0.4662484288778127,
          0.47349023570965476,
          0.47314203519531206,
          0.47200043956264004,
          0.47260690948382755,
          0.46811260555059375,
          0.47201373661447577,
          0.46053136933056577,
          0.46930609848888216,
          0.4517686490102692,
          0.46616032613999353,
          0.47310863916773516,
          0.47314027682714627,
          0.47230801573392345,
          0.47277385901966074,
          0.46845872304717384,
          0.4716301957191028,
          0.4606793168246763,
          0.46942489156765566,
          0.4515189572551105,
          0.4658219237695119,
          0.4731353056586838,
          0.4731806211657232,
          0.4719753737002917,
          0.47249515757648103,
          0.46820273113519995,
          0.4712241780817891,
          0.4605296770215405,
          0.46909191942562883,
          0.4515509452955244,
          0.46551977414503204,
          0.4735141587328458,
          0.4727941424731811,
          0.47226035492667323,
          0.4725146786145468,
          0.46802643428090984,
          0.4717380530059727,
          0.4602953784896326,
          0.4692448351666356,
          0.45164068634287874,
          0.4655774219827249,
          0.4731466176398313,
          0.472855346547227,
          0.4718634409369873,
          0.4730661667330539,
          0.4678533953393059,
          0.4712624711319182,
          0.4602026499359623,
          0.46895701184155847,
          0.4513908196050717,
          0.46529305477210436,
          0.4732795326359768,
          0.4728366503106616,
          0.47192582295169855,
          0.47272394148283536,
          0.4679503141156742,
          0.4714013599712018,
          0.4605736714723393,
          0.46907233280414207,
          0.4511356981033968,
          0.46581584073752497,
          0.47310372313109017,
          0.47295619625790675,
          0.47191886068746297,
          0.4723766269745126,
          0.46778653990150004,
          0.4713568217354258,
          0.46050397263518594,
          0.4688834017196264,
          0.4514520376924263,
          0.46562721230736726,
          0.4730948711326414,
          0.47283271129283994,
          0.4715835179203961,
          0.47246746106520693,
          0.46769690742083514,
          0.4713064603560207,
          0.45998767436613186,
          0.46933109309074045,
          0.4513074481002304,
          0.4653665659631072,
          0.47296301742099883,
          0.47314743494566164,
          0.4717044976174779,
          0.4722901658511624,
          0.46794535508355106,
          0.4710469554523692,
          0.45989175039734514,
          0.46880458979762896,
          0.45095879638308906,
          0.4653403758801644,
          0.47285925602103057,
          0.47283114324558895,
          0.47185014982675705,
          0.47214203921406855,
          0.4680194858024002,
          0.4712969165975801,
          0.4598835424714934,
          0.4687640964634408,
          0.45138204578249314,
          0.46536132237368333,
          0.4730521575495622,
          0.4725102492406746,
          0.4719289447320448,
          0.47221670659375653,
          0.46771525008522413,
          0.4711726491675149,
          0.4601293538707304,
          0.46881414436713087,
          0.4512038320390129,
          0.4649910170158674,
          0.47291649383856366,
          0.47253032595118416,
          0.4715866190109364,
          0.47244984907964793,
          0.46762473295258855,
          0.4707392758654613,
          0.45991517560067885,
          0.4687453361254689,
          0.45104879803093745,
          0.465263715370271,
          0.4727814206998577,
          0.47226828048324687,
          0.47132164936508325,
          0.47237812036170684,
          0.46750693689997214,
          0.47115403425801516,
          0.4601229923838294,
          0.46864102316981293,
          0.45132651216526554,
          0.46503569593471666,
          0.47274563331007013,
          0.47215162475534633,
          0.47150061787859743,
          0.47208227652901186,
          0.46795271097736446,
          0.4711720875477596,
          0.4600971799333363,
          0.4685917766250331,
          0.45090616893046787,
          0.4651758082172737,
          0.4728031142611647,
          0.4724703986640332,
          0.4717791504844377,
          0.4720348327558605,
          0.4675944691260888,
          0.4709057044176616,
          0.4597672261133061,
          0.46852738579521064,
          0.45096307460701196,
          0.4649279651385445,
          0.472702644933489,
          0.47256836391107987,
          0.4713816993579381,
          0.4721044519235862,
          0.4676768948494498,
          0.4709168397171344,
          0.45979992290018745,
          0.468764628834296,
          0.45113190345111437,
          0.4651010718466954,
          0.47267532179021815,
          0.47236165075284264,
          0.47157782131325193,
          0.4719728218810964,
          0.46762570749802806,
          0.47084860391958283,
          0.45988686040827653,
          0.4682860757466551,
          0.4512825292345046,
          0.4649510701344136,
          0.47263669078460796,
          0.4722086449873257,
          0.47137938438873345,
          0.4719495631854347,
          0.46781892809716774,
          0.47065559358572623,
          0.4597342062955052,
          0.46838666368950926,
          0.4506801702329132,
          0.4648184704331295,
          0.4724516589433778,
          0.4720496229688961,
          0.47170911702217166,
          0.47214513661388563,
          0.4673887894422622,
          0.4704177323338541,
          0.459929857278451,
          0.4681045265631445,
          0.4508787910671005,
          0.46468154713694526,
          0.4726081774768721,
          0.4721856854921071,
          0.4712243377663541,
          0.4720404309296243,
          0.4671586148231257,
          0.47067057796704165,
          0.45995212004844477,
          0.46846465801357234,
          0.4509088380758062,
          0.4649227451128583,
          0.4724670532902415,
          0.472233661813132,
          0.47135823752530126,
          0.47195081014997864,
          0.46739334746665606,
          0.4705425164785399,
          0.4599261477355142,
          0.4683837524152893,
          0.4504902380214773,
          0.46483634034667193,
          0.47261156117584946,
          0.4724762392756144,
          0.4713935107767597,
          0.4716448957618749,
          0.4671419253059245,
          0.47053016664829417,
          0.45943511717466956,
          0.4682871023381233,
          0.4507102309266406,
          0.46478482457475695,
          0.472253388109142,
          0.47200302346955103,
          0.4711778458924384,
          0.4717936310163316,
          0.46734825320798146,
          0.4706296575127724,
          0.45947429987753363,
          0.4683986578972933,
          0.4508155634113074,
          0.46448301651272483,
          0.4722893963564685,
          0.47223420030204233,
          0.471163276294083,
          0.47171896181532297,
          0.4670795229771817,
          0.47032850287142014,
          0.4600301995776198,
          0.4682626597276902,
          0.45068670504081265,
          0.46457965163576254,
          0.47268645165408996,
          0.4716541358158139,
          0.4711306319205236,
          0.4718568749557397,
          0.4673544976200137,
          0.47034602245908624,
          0.45969509340955456,
          0.4680154595921601,
          0.4505084973887156,
          0.46465684272391244
         ]
        },
        {
         "fill": "tonexty",
         "fillcolor": "rgba(130, 68, 68, 0.5)",
         "line": {
          "width": 0
         },
         "marker": {
          "color": "#448"
         },
         "mode": "lines",
         "name": "Konfidenzintervall",
         "showlegend": true,
         "type": "scatter",
         "y": [
          0.48827092090618424,
          0.4879050205531662,
          0.4892737037547773,
          0.48912187922204964,
          0.48877301896670294,
          0.4887087026947699,
          0.48872292590652955,
          0.4893548127714039,
          0.4873944896779012,
          0.4886054816188812,
          0.4871955407870886,
          0.4867443843398553,
          0.4878187418177536,
          0.4876385115983958,
          0.4866798866787032,
          0.4872657911255452,
          0.48591158940923984,
          0.4880752692700856,
          0.483675563097391,
          0.48626926041546675,
          0.5097540939409066,
          0.509543353565845,
          0.5103100433280529,
          0.5100473341161595,
          0.5082383248002311,
          0.5095068365187441,
          0.5055879427409881,
          0.5095694314113139,
          0.5019640718114649,
          0.5069425579304492,
          0.5223730265768134,
          0.5224513921823613,
          0.522226450162207,
          0.5222210741359871,
          0.5197958678882926,
          0.5215850502754272,
          0.5152877071055428,
          0.5209122135457792,
          0.5104011007849664,
          0.5178609422961364,
          0.5288707914960014,
          0.5287688140592107,
          0.5284193741272483,
          0.528607204005,
          0.5254846674703739,
          0.5275986518837985,
          0.5202310397413024,
          0.5268411471925005,
          0.5141622530801163,
          0.5232995323557866,
          0.5271660682441018,
          0.5274425998411606,
          0.5269071064510082,
          0.5271688041515943,
          0.5237771980765626,
          0.5258327787866645,
          0.517796732177245,
          0.5244345270433708,
          0.5109099517303568,
          0.5211879651232971,
          0.5257132546646509,
          0.525878298482046,
          0.5251289095342867,
          0.5262507386624237,
          0.5220192322211765,
          0.5240622454126924,
          0.515606602363896,
          0.5227955523793791,
          0.5079464951491316,
          0.5195717447904339,
          0.5240919842668881,
          0.5245797141351713,
          0.5235512299367562,
          0.524399552375292,
          0.5199453924678382,
          0.5225456234592356,
          0.5133582147032221,
          0.5209223892724502,
          0.5051145931179641,
          0.517515086071287,
          0.5205831389087456,
          0.5209504475711813,
          0.5195944015841097,
          0.5208607811914798,
          0.5165743567070612,
          0.519019847196735,
          0.5093325114387888,
          0.5172488691849426,
          0.500722492042229,
          0.5136627271670522,
          0.5153976579255932,
          0.5159504375300971,
          0.51436099681744,
          0.5154829201550709,
          0.5109853380036962,
          0.5139786550597994,
          0.5034682853857588,
          0.5117397945678145,
          0.49494541138870124,
          0.5087883171670569,
          0.512235099606049,
          0.512225474609216,
          0.5109148336645014,
          0.5121914642349583,
          0.5076986039429474,
          0.5104627562891887,
          0.49969960441303096,
          0.5083068810611608,
          0.4913693419699912,
          0.5051932567868588,
          0.509194225978303,
          0.509117117603152,
          0.5081898323472244,
          0.5086767353199226,
          0.5042342509258431,
          0.5068968956975637,
          0.49631072435378026,
          0.505177040408919,
          0.4876037436704305,
          0.5016792991881328,
          0.5050513358307547,
          0.5047486951124219,
          0.503989186792642,
          0.5047268603999819,
          0.5002683041077645,
          0.5032555086298631,
          0.49235174965869016,
          0.5008025232783955,
          0.48317471149926344,
          0.4975417209772526,
          0.5019676887929818,
          0.5013877456879007,
          0.5008281486792175,
          0.5012953793901562,
          0.496930815935628,
          0.4999128832617479,
          0.4891326734267588,
          0.49747468181891236,
          0.4799367711189499,
          0.49400607584650075,
          0.4997278195000357,
          0.49922343629432997,
          0.49853025610841484,
          0.49941047594297167,
          0.4943780746270852,
          0.4978423269168291,
          0.48666888450370605,
          0.49499124731831967,
          0.4772968382335549,
          0.4917908945299535,
          0.4969774164256003,
          0.4967556014810488,
          0.49565598381840836,
          0.49664340555497344,
          0.491855230199519,
          0.49495988126222334,
          0.4840990763479492,
          0.49260072122206683,
          0.4744374945459812,
          0.48945514102851917,
          0.4943889260859034,
          0.4941958250752056,
          0.49311878515471863,
          0.4941055736604087,
          0.4890941191133224,
          0.4926664202468284,
          0.4808045469596761,
          0.4897838095672766,
          0.4715382062058394,
          0.4864077787031801,
          0.49258583874983347,
          0.49241964044399367,
          0.49143762253940154,
          0.4922820841608452,
          0.4873541491940267,
          0.4908968545864898,
          0.47917921675421143,
          0.48832049406551625,
          0.47005421664915525,
          0.484608618064395,
          0.49097413387564015,
          0.49105938513915853,
          0.4901214273993972,
          0.49058076061003436,
          0.48620644811702796,
          0.48901149208425937,
          0.477720339756977,
          0.48672219078456447,
          0.46872273909036777,
          0.48323978790902283,
          0.48957700037460117,
          0.48892608300290075,
          0.4883370814251427,
          0.4889507371147991,
          0.4841871225951646,
          0.4876180003561053,
          0.47615840555334665,
          0.4848591025348677,
          0.46667934238144737,
          0.4816008672194412,
          0.48796746623533455,
          0.487757033935279,
          0.48684778271410606,
          0.487787964247781,
          0.48287189126922964,
          0.4863055693071335,
          0.47442354056389335,
          0.48348120237275144,
          0.46503431317077565,
          0.4800758623490921,
          0.4871994640755551,
          0.4866890175389393,
          0.4858915518712663,
          0.48672707375241353,
          0.48199058389189975,
          0.48495379627931695,
          0.47382467463575223,
          0.48235978995251977,
          0.46427643795951534,
          0.4790907422252505,
          0.48632456044963684,
          0.48586001553321756,
          0.484349018906436,
          0.4858746284015577,
          0.48095376966452236,
          0.4843289234239103,
          0.4726555699945685,
          0.48136420964147214,
          0.46323054561889715,
          0.4783291553330232,
          0.4848275929775381,
          0.4844767003611955,
          0.48358981005723967,
          0.4844069603815038,
          0.47934325863262783,
          0.4831394153347279,
          0.4713784377104608,
          0.48028359945914717,
          0.46197722198738145,
          0.47697722419616834,
          0.48374898415061063,
          0.48409531336514783,
          0.4828460347249831,
          0.4838217450469262,
          0.47882222249511563,
          0.4821204436065551,
          0.47053453800350803,
          0.47988915983682295,
          0.4614224314817851,
          0.4757917973628464,
          0.48338108416389947,
          0.483055794971967,
          0.4818518637089429,
          0.48269652862103546,
          0.47826659471203464,
          0.48137323310815505,
          0.47001432704904245,
          0.47875237895134953,
          0.46078155230496337,
          0.47522347256289815,
          0.482530465991651,
          0.4819743894678161,
          0.48120805857755894,
          0.4819900033663077,
          0.4772022736315427,
          0.48054011721713463,
          0.4692681822380772,
          0.4779622599765004,
          0.45969472031474423,
          0.47472503069409033,
          0.4818216425693998,
          0.48150777643760934,
          0.4804130617036157,
          0.48147985624148076,
          0.47660704926330016,
          0.4796104193870675,
          0.4685343583636219,
          0.4773801528950142,
          0.4588904819378146,
          0.4738730945450052,
          0.4813204052345327,
          0.4808624050145811,
          0.47977680363721165,
          0.4807959731813281,
          0.47592867229419533,
          0.4793034079199688,
          0.46761518864179363,
          0.4767308699220321,
          0.45867426303066416,
          0.4731559063961766,
          0.48055730544015474,
          0.48010993478923675,
          0.4791865701948019,
          0.4802937222538522,
          0.47513942428348127,
          0.4790326157212258,
          0.4674732635137765,
          0.4760283051559976,
          0.45769950752999006,
          0.4729147592389503,
          0.480261877094778,
          0.4797594592350692,
          0.4786157811236957,
          0.4796653057439927,
          0.47452524495257836,
          0.47815431432975414,
          0.4666166835979864,
          0.47570317205452617,
          0.4572738952738815,
          0.4723821128338262,
          0.47961872425850155,
          0.47963407093075966,
          0.4782270895117571,
          0.4788057555577666,
          0.47407139918206936,
          0.4777763894369213,
          0.4658921944314158,
          0.47519389403997453,
          0.4565826139234735,
          0.4718591336482458,
          0.4787661868418462,
          0.4790592746039592,
          0.4779448494925149,
          0.47836195074981963,
          0.4736012584047026,
          0.4772058587979113,
          0.4657074226560211,
          0.47477885357002636,
          0.456538741449516,
          0.47114076683380773,
          0.4789237461144047,
          0.4780848939914906,
          0.4774835531162865,
          0.4782077213250304,
          0.47300886389880237,
          0.47674918189512094,
          0.46567940407365616,
          0.474325330236796,
          0.45590047682056634,
          0.47091937599161127,
          0.47831152777679975,
          0.4776663173390011,
          0.4769552785097036,
          0.47788700310953847,
          0.47281270401866826,
          0.4763393293227337,
          0.4647447307899272,
          0.4735574318220951,
          0.45569341387809226,
          0.47023876117999786,
          0.47789235291990884,
          0.47767539579443813,
          0.4765014744994725,
          0.4775677115584194,
          0.4724851156046779,
          0.47618189654664966,
          0.46474879485821774,
          0.4731378864805119,
          0.4552777556717559,
          0.47014285418436375,
          0.477494303974267,
          0.4773584640738629,
          0.476146735496802,
          0.47707550560322043,
          0.4719786166385792,
          0.47566423224238913,
          0.46405845914347815,
          0.47295902043753235,
          0.45492804902897993,
          0.46998904942501907,
          0.47734635421463195,
          0.47678626647223843,
          0.47565505621274856,
          0.4765158269858604,
          0.4720493640679604,
          0.47514803345094286,
          0.46387494467736445,
          0.47261112689893453,
          0.45459000294841506,
          0.46952888098575535,
          0.47691187974068844,
          0.47661215374841204,
          0.4753531091780517,
          0.47621661917552105,
          0.471387413588507,
          0.4750464043605515,
          0.46367352007837925,
          0.47230496159841984,
          0.45411194450144843,
          0.4690279240109357,
          0.47636570194303424,
          0.4763711744838141,
          0.4752025152680465,
          0.47595432845106145,
          0.4712844793609094,
          0.4743859259439225,
          0.4634318555885356,
          0.47201478727920393,
          0.45397225569182925,
          0.46874352056899576,
          0.4765567407248133,
          0.4757337956779222,
          0.4747261599313245,
          0.4758670626879145,
          0.4709716051051311,
          0.4745871664907991,
          0.4629936247782017,
          0.47151599705976477,
          0.45380778187322773,
          0.4683980041753276,
          0.47591711660803615,
          0.47561557165028223,
          0.4745102725024445,
          0.47596110510484957,
          0.47074390944146366,
          0.4739703502538885,
          0.4628001149505754,
          0.4714861862693657,
          0.4532595436925068,
          0.4680139701058959,
          0.4754862549805305,
          0.4755744601449925,
          0.47433893503358154,
          0.4754382378323276,
          0.4704658007050189,
          0.4740467409187292,
          0.4624592572500633,
          0.4709790057731142,
          0.4531364473207107,
          0.46792587289331206,
          0.4760339560911298,
          0.4751967085580024,
          0.4737747984105737,
          0.4752131405386671,
          0.47014568638324145,
          0.47354902978540125,
          0.46214046382449475,
          0.47098826290108997,
          0.4531554239242906,
          0.46749938039034694,
          0.4754784915397285,
          0.4750153407131972,
          0.47381953563414697,
          0.4750613439530002,
          0.4698695418703328,
          0.47342074970003634,
          0.46190825770161165,
          0.4709171181991091,
          0.4531327233815122,
          0.46742383972878465,
          0.47492876912978754,
          0.4751141752559983,
          0.47379491133339036,
          0.4747020637978105,
          0.4698133059663294,
          0.47317864503446466,
          0.4617319285014527,
          0.47056045233526733,
          0.4523380931371429,
          0.4671773605111056,
          0.4747657748480346,
          0.47480549850101106,
          0.47363350152861766,
          0.47422401919462265,
          0.4693811282244047,
          0.4729830587836176,
          0.4612751270857079,
          0.4703603949367499,
          0.4528265379310999,
          0.46671729489912783,
          0.4747567178470197,
          0.4743678845421248,
          0.47335253718376075,
          0.4740437853882286,
          0.46958085861116716,
          0.47262807685534625,
          0.4614859868646146,
          0.4701950873985634,
          0.45221016034584643,
          0.46660841030706474,
          0.4743461457366568,
          0.4742106677127902,
          0.47321019998711517,
          0.4742438101892599,
          0.46907100290858905,
          0.4726725870078621,
          0.4613706465885254,
          0.46997028099592,
          0.4521837923727515,
          0.46644335526255226,
          0.4744012139957961,
          0.4740886276817472,
          0.47324064748601313,
          0.4740219808199077,
          0.46907148582447716,
          0.47260385730026555,
          0.4612006807591709,
          0.4698750280524833,
          0.4518402566982524,
          0.46636950021648277,
          0.474382964558398,
          0.4737702690824018,
          0.4727252353246162,
          0.4738325840594973,
          0.46893797574972085,
          0.47244244386342554,
          0.4609499004158194,
          0.4696384725587764,
          0.4520375399467756,
          0.4663546533400199,
          0.4741854315383173,
          0.47409801224756115,
          0.4726758225107856,
          0.47363087983765795,
          0.4689512556016353,
          0.47208501466485525,
          0.46076373022099043,
          0.4698844734315195,
          0.4516462380965381,
          0.4663782589557167,
          0.47376489171939756,
          0.4739132519844459,
          0.47296100160790316,
          0.4734722549849577,
          0.46885221725418885,
          0.4720687769740218,
          0.46065159858216315,
          0.4697067642401102,
          0.4517073531970036,
          0.4659271498097783,
          0.4736470242363451,
          0.47370354355933075,
          0.47273577788094756,
          0.47314819764601235,
          0.4684446930320834,
          0.47206104226160794,
          0.46071056913214864,
          0.4694089150352619,
          0.4516066834591319,
          0.4658897642679083,
          0.4738116791174008,
          0.4733111837534466,
          0.4724307876271354,
          0.47304815314319537,
          0.4682478056955397,
          0.47178669108972393,
          0.4605206172740455,
          0.46914092644958305,
          0.4511269133191662,
          0.46556920241192856,
          0.473395341116755,
          0.47335360740023574,
          0.472327773242129,
          0.4734367133667469,
          0.4682267813284681,
          0.47158339859118853,
          0.46043379262983414,
          0.4691262871924938,
          0.45152054748374143,
          0.4655723027225518,
          0.47337825466924843,
          0.47293258571382907,
          0.4721207206272246,
          0.47283970303503425,
          0.4682150879667205,
          0.47171540125217365,
          0.46042810736349704,
          0.469104936455906,
          0.45078009270328245,
          0.46580540824709565,
          0.4736114789030603,
          0.47316769665098013,
          0.4717383022945282,
          0.4731631406095851,
          0.4679963558833873,
          0.4714423343829396,
          0.4600402937633178,
          0.4689367431013816,
          0.4509248848104725,
          0.4653731039778544,
          0.47347287136183475,
          0.4728287127515813,
          0.4718269998215935,
          0.472832872421509,
          0.46802690149455445,
          0.47143383821794677,
          0.4598550684212706,
          0.4689557172634596,
          0.4508994358192953,
          0.46542627912017137,
          0.4730411751023334,
          0.47309622341222834,
          0.4717760838717755,
          0.4726808714525262,
          0.4676422487920415,
          0.47132873109902235,
          0.4597445671725914,
          0.46902965767111116,
          0.45088392704001623,
          0.4652591427717192,
          0.4728075872020036,
          0.47279963556221843,
          0.4715201360891927,
          0.47227502958255474,
          0.46770481407849024,
          0.4711797976511688,
          0.45991714814882767,
          0.4686994005858867,
          0.45084920193453093,
          0.4653053714501403,
          0.4729473497392699,
          0.4725209928616078,
          0.4718235812938775,
          0.47238733209669065,
          0.46768602143721094,
          0.4712315231656878,
          0.45984280907752795,
          0.46882528805389734,
          0.45051850578387087,
          0.46506854018708715,
          0.4728705893313385,
          0.4727822741189707,
          0.4718606240792078,
          0.472422175112841,
          0.4678700508909365,
          0.47123209627951385,
          0.45983482130029135,
          0.46854109209801337,
          0.4509646015841604,
          0.46511841762208134,
          0.47268050084564783,
          0.47261333914479803,
          0.4718224268862833,
          0.4724077852071326,
          0.4674414895321268,
          0.4708873182605726,
          0.45989308875956736,
          0.4684292571856045,
          0.45023120090060637,
          0.4650447661470449,
          0.4724742706219149,
          0.472520553166435,
          0.47139714285594636,
          0.4724376672271186,
          0.4674370754797,
          0.4711695303086296,
          0.45980594869934127,
          0.4683858768954246,
          0.4502370084533949,
          0.465016605651818,
          0.472654787652105,
          0.4725059750514581,
          0.47101079939961954,
          0.4719674702296799,
          0.46724628304999827,
          0.4711219563337541,
          0.4592483546437594,
          0.4685248548599388,
          0.45028381878033324,
          0.4649150407012382,
          0.47221951646119664,
          0.47253727135940055,
          0.47145543782762955,
          0.4719815553543303,
          0.467325077059524,
          0.47052535225244974,
          0.4595362741705045,
          0.4686152459303241,
          0.4500991177629712,
          0.4650199310910528,
          0.4723946109909617,
          0.4724557402421678,
          0.47124192827616723,
          0.4717236820919532,
          0.4674101049474977,
          0.4703964244769952,
          0.45940860673657063,
          0.46824624952217536,
          0.45001706791873775,
          0.4644931929025207,
          0.47267145894147683,
          0.47221404114629073,
          0.4714456069555822,
          0.47160666318384153,
          0.46707609772786407,
          0.47094381921120076,
          0.45929994908465216,
          0.4683475330152892,
          0.4501461424217414,
          0.4646526358709596,
          0.47230678262549713,
          0.47218387867033235,
          0.4710115840587731,
          0.4722757499839789,
          0.4669830110009068,
          0.4704434051855948,
          0.45915020846618176,
          0.4682291024030113,
          0.44996482940189025,
          0.4642920450632987,
          0.47236674425422653,
          0.4720633381654584,
          0.47113691137499175,
          0.47192836410958594,
          0.4669978718889578,
          0.47046800355079677,
          0.4593718983069478,
          0.4681941069342399,
          0.4498921267722443,
          0.46490648939720886,
          0.47215619850199386,
          0.4722663174569097,
          0.4711569858503207,
          0.47168966988632505,
          0.46688208436078454,
          0.47039010724624564,
          0.4592319295455507,
          0.4679363315471652,
          0.4499777766211405,
          0.4644359880722836,
          0.4722318314665654,
          0.47221731172554765,
          0.4708397213090988,
          0.47165911750237216,
          0.4667205326579422,
          0.47038755809722793,
          0.45887481762826365,
          0.4682369482189445,
          0.4499320905206252,
          0.46426241381405287,
          0.4722419044061443,
          0.4724014452694308,
          0.4708874857392005,
          0.4715219307934598,
          0.4669054897175007,
          0.470215010121776,
          0.4588323278002508,
          0.4680687683371426,
          0.44979840211596783,
          0.464415842679165,
          0.47210050777814067,
          0.47190183304908895,
          0.4711677460273021,
          0.4714127205220309,
          0.4670760125989311,
          0.4704544942817568,
          0.4587435380083112,
          0.46779481313726917,
          0.44996045533316503,
          0.46441278315181433,
          0.4721908706522714,
          0.47185865081899986,
          0.4711393217167243,
          0.47149836741622114,
          0.4668916832494587,
          0.47039289218450897,
          0.45896693930288035,
          0.46782397703889744,
          0.4497145938563631,
          0.4640379921494391,
          0.47211328697735294,
          0.47181760059924516,
          0.4708808854691883,
          0.471632939589294,
          0.46650842770949097,
          0.46997957451475075,
          0.4586926628783654,
          0.46789054679804337,
          0.4497134651742748,
          0.4643468613631643,
          0.4721214428483769,
          0.471598074328053,
          0.470575698941913,
          0.47169176968624577,
          0.466685974955395,
          0.47058759013400364,
          0.45904477702970586,
          0.46761923479972156,
          0.4500505572556479,
          0.46386912352548376,
          0.4718720341793333,
          0.47152720596405306,
          0.47060229535047926,
          0.47149333441493674,
          0.4668735514725104,
          0.47035608958863545,
          0.4588282017458103,
          0.46778949457970914,
          0.4496019055287671,
          0.46412035653419775,
          0.47206331107993815,
          0.4717960503335026,
          0.47089755342189904,
          0.47116427348710904,
          0.4667948098711684,
          0.4700281772720703,
          0.45865418097803956,
          0.4676530018011505,
          0.4495850384266504,
          0.46391969967420055,
          0.4718480192849127,
          0.47171345935596937,
          0.4706353586185617,
          0.47125391997693933,
          0.4665053766562733,
          0.46998030174487015,
          0.4584295058829483,
          0.4677726759605912,
          0.44965104265263106,
          0.46419473999909594,
          0.4719465492755523,
          0.4717217681891548,
          0.4707303117815029,
          0.4713629338477446,
          0.46669567699445974,
          0.4701011360361478,
          0.4589129245993898,
          0.4672586294319451,
          0.44992835355944527,
          0.4640405765486899,
          0.4719121717165396,
          0.47147049278300185,
          0.47068408125579847,
          0.47112166994146043,
          0.466742901754964,
          0.4697965710624061,
          0.45839007952225996,
          0.46744642762172856,
          0.44919314742018157,
          0.4636809597624285,
          0.4718314095036229,
          0.47136809106311883,
          0.47087859699293144,
          0.4712983771276524,
          0.46634040775806646,
          0.4695612326575309,
          0.4585188615366342,
          0.4671372309021302,
          0.44940940918182937,
          0.4637648734017053,
          0.47182288321275145,
          0.4714771670091213,
          0.4705017222793273,
          0.47132486906044274,
          0.46639544907110453,
          0.4697747827275302,
          0.45872959718329964,
          0.4674374797064192,
          0.44958523735808453,
          0.4640447884755083,
          0.471896542649487,
          0.47151838575434857,
          0.4705470016052562,
          0.47114848722573943,
          0.4665398376720561,
          0.46978287400903224,
          0.45862428974182623,
          0.46728799809680877,
          0.44921263273851314,
          0.46381957052470796,
          0.4718437290193034,
          0.47166313888335015,
          0.4706127218109255,
          0.47105620709917356,
          0.4664224181719127,
          0.46953517564445113,
          0.4581058772633595,
          0.46730420793387006,
          0.44907366087707273,
          0.4638374106494357,
          0.4714733886267359,
          0.47137821796184565,
          0.47049453230743377,
          0.47105517381961554,
          0.4663492190903339,
          0.46989554921098187,
          0.4581710939268768,
          0.46752339606574556,
          0.44951260775772034,
          0.46347726733913286,
          0.47160998242845065,
          0.4714464876125227,
          0.4703375074934561,
          0.4709463782267412,
          0.46597194357936533,
          0.4695775854708999,
          0.4588346745715537,
          0.4673433932162553,
          0.4493800601566962,
          0.4636414417316279,
          0.4717683504110777,
          0.4709064063150837,
          0.47021213784258453,
          0.4708189292464542,
          0.4663577279621173,
          0.4696271205721992,
          0.4584938256722641,
          0.46695348211544335,
          0.4492022803642512,
          0.46375576651139344
         ]
        }
       ],
       "layout": {
        "template": {
         "data": {
          "bar": [
           {
            "error_x": {
             "color": "#2a3f5f"
            },
            "error_y": {
             "color": "#2a3f5f"
            },
            "marker": {
             "line": {
              "color": "#E5ECF6",
              "width": 0.5
             },
             "pattern": {
              "fillmode": "overlay",
              "size": 10,
              "solidity": 0.2
             }
            },
            "type": "bar"
           }
          ],
          "barpolar": [
           {
            "marker": {
             "line": {
              "color": "#E5ECF6",
              "width": 0.5
             },
             "pattern": {
              "fillmode": "overlay",
              "size": 10,
              "solidity": 0.2
             }
            },
            "type": "barpolar"
           }
          ],
          "carpet": [
           {
            "aaxis": {
             "endlinecolor": "#2a3f5f",
             "gridcolor": "white",
             "linecolor": "white",
             "minorgridcolor": "white",
             "startlinecolor": "#2a3f5f"
            },
            "baxis": {
             "endlinecolor": "#2a3f5f",
             "gridcolor": "white",
             "linecolor": "white",
             "minorgridcolor": "white",
             "startlinecolor": "#2a3f5f"
            },
            "type": "carpet"
           }
          ],
          "choropleth": [
           {
            "colorbar": {
             "outlinewidth": 0,
             "ticks": ""
            },
            "type": "choropleth"
           }
          ],
          "contour": [
           {
            "colorbar": {
             "outlinewidth": 0,
             "ticks": ""
            },
            "colorscale": [
             [
              0.0,
              "#0d0887"
             ],
             [
              0.1111111111111111,
              "#46039f"
             ],
             [
              0.2222222222222222,
              "#7201a8"
             ],
             [
              0.3333333333333333,
              "#9c179e"
             ],
             [
              0.4444444444444444,
              "#bd3786"
             ],
             [
              0.5555555555555556,
              "#d8576b"
             ],
             [
              0.6666666666666666,
              "#ed7953"
             ],
             [
              0.7777777777777778,
              "#fb9f3a"
             ],
             [
              0.8888888888888888,
              "#fdca26"
             ],
             [
              1.0,
              "#f0f921"
             ]
            ],
            "type": "contour"
           }
          ],
          "contourcarpet": [
           {
            "colorbar": {
             "outlinewidth": 0,
             "ticks": ""
            },
            "type": "contourcarpet"
           }
          ],
          "heatmap": [
           {
            "colorbar": {
             "outlinewidth": 0,
             "ticks": ""
            },
            "colorscale": [
             [
              0.0,
              "#0d0887"
             ],
             [
              0.1111111111111111,
              "#46039f"
             ],
             [
              0.2222222222222222,
              "#7201a8"
             ],
             [
              0.3333333333333333,
              "#9c179e"
             ],
             [
              0.4444444444444444,
              "#bd3786"
             ],
             [
              0.5555555555555556,
              "#d8576b"
             ],
             [
              0.6666666666666666,
              "#ed7953"
             ],
             [
              0.7777777777777778,
              "#fb9f3a"
             ],
             [
              0.8888888888888888,
              "#fdca26"
             ],
             [
              1.0,
              "#f0f921"
             ]
            ],
            "type": "heatmap"
           }
          ],
          "heatmapgl": [
           {
            "colorbar": {
             "outlinewidth": 0,
             "ticks": ""
            },
            "colorscale": [
             [
              0.0,
              "#0d0887"
             ],
             [
              0.1111111111111111,
              "#46039f"
             ],
             [
              0.2222222222222222,
              "#7201a8"
             ],
             [
              0.3333333333333333,
              "#9c179e"
             ],
             [
              0.4444444444444444,
              "#bd3786"
             ],
             [
              0.5555555555555556,
              "#d8576b"
             ],
             [
              0.6666666666666666,
              "#ed7953"
             ],
             [
              0.7777777777777778,
              "#fb9f3a"
             ],
             [
              0.8888888888888888,
              "#fdca26"
             ],
             [
              1.0,
              "#f0f921"
             ]
            ],
            "type": "heatmapgl"
           }
          ],
          "histogram": [
           {
            "marker": {
             "pattern": {
              "fillmode": "overlay",
              "size": 10,
              "solidity": 0.2
             }
            },
            "type": "histogram"
           }
          ],
          "histogram2d": [
           {
            "colorbar": {
             "outlinewidth": 0,
             "ticks": ""
            },
            "colorscale": [
             [
              0.0,
              "#0d0887"
             ],
             [
              0.1111111111111111,
              "#46039f"
             ],
             [
              0.2222222222222222,
              "#7201a8"
             ],
             [
              0.3333333333333333,
              "#9c179e"
             ],
             [
              0.4444444444444444,
              "#bd3786"
             ],
             [
              0.5555555555555556,
              "#d8576b"
             ],
             [
              0.6666666666666666,
              "#ed7953"
             ],
             [
              0.7777777777777778,
              "#fb9f3a"
             ],
             [
              0.8888888888888888,
              "#fdca26"
             ],
             [
              1.0,
              "#f0f921"
             ]
            ],
            "type": "histogram2d"
           }
          ],
          "histogram2dcontour": [
           {
            "colorbar": {
             "outlinewidth": 0,
             "ticks": ""
            },
            "colorscale": [
             [
              0.0,
              "#0d0887"
             ],
             [
              0.1111111111111111,
              "#46039f"
             ],
             [
              0.2222222222222222,
              "#7201a8"
             ],
             [
              0.3333333333333333,
              "#9c179e"
             ],
             [
              0.4444444444444444,
              "#bd3786"
             ],
             [
              0.5555555555555556,
              "#d8576b"
             ],
             [
              0.6666666666666666,
              "#ed7953"
             ],
             [
              0.7777777777777778,
              "#fb9f3a"
             ],
             [
              0.8888888888888888,
              "#fdca26"
             ],
             [
              1.0,
              "#f0f921"
             ]
            ],
            "type": "histogram2dcontour"
           }
          ],
          "mesh3d": [
           {
            "colorbar": {
             "outlinewidth": 0,
             "ticks": ""
            },
            "type": "mesh3d"
           }
          ],
          "parcoords": [
           {
            "line": {
             "colorbar": {
              "outlinewidth": 0,
              "ticks": ""
             }
            },
            "type": "parcoords"
           }
          ],
          "pie": [
           {
            "automargin": true,
            "type": "pie"
           }
          ],
          "scatter": [
           {
            "marker": {
             "colorbar": {
              "outlinewidth": 0,
              "ticks": ""
             }
            },
            "type": "scatter"
           }
          ],
          "scatter3d": [
           {
            "line": {
             "colorbar": {
              "outlinewidth": 0,
              "ticks": ""
             }
            },
            "marker": {
             "colorbar": {
              "outlinewidth": 0,
              "ticks": ""
             }
            },
            "type": "scatter3d"
           }
          ],
          "scattercarpet": [
           {
            "marker": {
             "colorbar": {
              "outlinewidth": 0,
              "ticks": ""
             }
            },
            "type": "scattercarpet"
           }
          ],
          "scattergeo": [
           {
            "marker": {
             "colorbar": {
              "outlinewidth": 0,
              "ticks": ""
             }
            },
            "type": "scattergeo"
           }
          ],
          "scattergl": [
           {
            "marker": {
             "colorbar": {
              "outlinewidth": 0,
              "ticks": ""
             }
            },
            "type": "scattergl"
           }
          ],
          "scattermapbox": [
           {
            "marker": {
             "colorbar": {
              "outlinewidth": 0,
              "ticks": ""
             }
            },
            "type": "scattermapbox"
           }
          ],
          "scatterpolar": [
           {
            "marker": {
             "colorbar": {
              "outlinewidth": 0,
              "ticks": ""
             }
            },
            "type": "scatterpolar"
           }
          ],
          "scatterpolargl": [
           {
            "marker": {
             "colorbar": {
              "outlinewidth": 0,
              "ticks": ""
             }
            },
            "type": "scatterpolargl"
           }
          ],
          "scatterternary": [
           {
            "marker": {
             "colorbar": {
              "outlinewidth": 0,
              "ticks": ""
             }
            },
            "type": "scatterternary"
           }
          ],
          "surface": [
           {
            "colorbar": {
             "outlinewidth": 0,
             "ticks": ""
            },
            "colorscale": [
             [
              0.0,
              "#0d0887"
             ],
             [
              0.1111111111111111,
              "#46039f"
             ],
             [
              0.2222222222222222,
              "#7201a8"
             ],
             [
              0.3333333333333333,
              "#9c179e"
             ],
             [
              0.4444444444444444,
              "#bd3786"
             ],
             [
              0.5555555555555556,
              "#d8576b"
             ],
             [
              0.6666666666666666,
              "#ed7953"
             ],
             [
              0.7777777777777778,
              "#fb9f3a"
             ],
             [
              0.8888888888888888,
              "#fdca26"
             ],
             [
              1.0,
              "#f0f921"
             ]
            ],
            "type": "surface"
           }
          ],
          "table": [
           {
            "cells": {
             "fill": {
              "color": "#EBF0F8"
             },
             "line": {
              "color": "white"
             }
            },
            "header": {
             "fill": {
              "color": "#C8D4E3"
             },
             "line": {
              "color": "white"
             }
            },
            "type": "table"
           }
          ]
         },
         "layout": {
          "annotationdefaults": {
           "arrowcolor": "#2a3f5f",
           "arrowhead": 0,
           "arrowwidth": 1
          },
          "autotypenumbers": "strict",
          "coloraxis": {
           "colorbar": {
            "outlinewidth": 0,
            "ticks": ""
           }
          },
          "colorscale": {
           "diverging": [
            [
             0,
             "#8e0152"
            ],
            [
             0.1,
             "#c51b7d"
            ],
            [
             0.2,
             "#de77ae"
            ],
            [
             0.3,
             "#f1b6da"
            ],
            [
             0.4,
             "#fde0ef"
            ],
            [
             0.5,
             "#f7f7f7"
            ],
            [
             0.6,
             "#e6f5d0"
            ],
            [
             0.7,
             "#b8e186"
            ],
            [
             0.8,
             "#7fbc41"
            ],
            [
             0.9,
             "#4d9221"
            ],
            [
             1,
             "#276419"
            ]
           ],
           "sequential": [
            [
             0.0,
             "#0d0887"
            ],
            [
             0.1111111111111111,
             "#46039f"
            ],
            [
             0.2222222222222222,
             "#7201a8"
            ],
            [
             0.3333333333333333,
             "#9c179e"
            ],
            [
             0.4444444444444444,
             "#bd3786"
            ],
            [
             0.5555555555555556,
             "#d8576b"
            ],
            [
             0.6666666666666666,
             "#ed7953"
            ],
            [
             0.7777777777777778,
             "#fb9f3a"
            ],
            [
             0.8888888888888888,
             "#fdca26"
            ],
            [
             1.0,
             "#f0f921"
            ]
           ],
           "sequentialminus": [
            [
             0.0,
             "#0d0887"
            ],
            [
             0.1111111111111111,
             "#46039f"
            ],
            [
             0.2222222222222222,
             "#7201a8"
            ],
            [
             0.3333333333333333,
             "#9c179e"
            ],
            [
             0.4444444444444444,
             "#bd3786"
            ],
            [
             0.5555555555555556,
             "#d8576b"
            ],
            [
             0.6666666666666666,
             "#ed7953"
            ],
            [
             0.7777777777777778,
             "#fb9f3a"
            ],
            [
             0.8888888888888888,
             "#fdca26"
            ],
            [
             1.0,
             "#f0f921"
            ]
           ]
          },
          "colorway": [
           "#636efa",
           "#EF553B",
           "#00cc96",
           "#ab63fa",
           "#FFA15A",
           "#19d3f3",
           "#FF6692",
           "#B6E880",
           "#FF97FF",
           "#FECB52"
          ],
          "font": {
           "color": "#2a3f5f"
          },
          "geo": {
           "bgcolor": "white",
           "lakecolor": "white",
           "landcolor": "#E5ECF6",
           "showlakes": true,
           "showland": true,
           "subunitcolor": "white"
          },
          "hoverlabel": {
           "align": "left"
          },
          "hovermode": "closest",
          "mapbox": {
           "style": "light"
          },
          "paper_bgcolor": "white",
          "plot_bgcolor": "#E5ECF6",
          "polar": {
           "angularaxis": {
            "gridcolor": "white",
            "linecolor": "white",
            "ticks": ""
           },
           "bgcolor": "#E5ECF6",
           "radialaxis": {
            "gridcolor": "white",
            "linecolor": "white",
            "ticks": ""
           }
          },
          "scene": {
           "xaxis": {
            "backgroundcolor": "#E5ECF6",
            "gridcolor": "white",
            "gridwidth": 2,
            "linecolor": "white",
            "showbackground": true,
            "ticks": "",
            "zerolinecolor": "white"
           },
           "yaxis": {
            "backgroundcolor": "#E5ECF6",
            "gridcolor": "white",
            "gridwidth": 2,
            "linecolor": "white",
            "showbackground": true,
            "ticks": "",
            "zerolinecolor": "white"
           },
           "zaxis": {
            "backgroundcolor": "#E5ECF6",
            "gridcolor": "white",
            "gridwidth": 2,
            "linecolor": "white",
            "showbackground": true,
            "ticks": "",
            "zerolinecolor": "white"
           }
          },
          "shapedefaults": {
           "line": {
            "color": "#2a3f5f"
           }
          },
          "ternary": {
           "aaxis": {
            "gridcolor": "white",
            "linecolor": "white",
            "ticks": ""
           },
           "baxis": {
            "gridcolor": "white",
            "linecolor": "white",
            "ticks": ""
           },
           "bgcolor": "#E5ECF6",
           "caxis": {
            "gridcolor": "white",
            "linecolor": "white",
            "ticks": ""
           }
          },
          "title": {
           "x": 0.05
          },
          "xaxis": {
           "automargin": true,
           "gridcolor": "white",
           "linecolor": "white",
           "ticks": "",
           "title": {
            "standoff": 15
           },
           "zerolinecolor": "white",
           "zerolinewidth": 2
          },
          "yaxis": {
           "automargin": true,
           "gridcolor": "white",
           "linecolor": "white",
           "ticks": "",
           "title": {
            "standoff": 15
           },
           "zerolinecolor": "white",
           "zerolinewidth": 2
          }
         }
        }
       }
      },
      "text/html": "<div>                            <div id=\"823c3bad-d88a-40f3-8f1c-790a784a2b64\" class=\"plotly-graph-div\" style=\"height:525px; width:100%;\"></div>            <script type=\"text/javascript\">                require([\"plotly\"], function(Plotly) {                    window.PLOTLYENV=window.PLOTLYENV || {};                                    if (document.getElementById(\"823c3bad-d88a-40f3-8f1c-790a784a2b64\")) {                    Plotly.newPlot(                        \"823c3bad-d88a-40f3-8f1c-790a784a2b64\",                        [{\"line\":{\"color\":\"rgb(31, 119, 255)\"},\"mode\":\"lines\",\"name\":\"Mittelwert\",\"type\":\"scatter\",\"y\":[0.4898029948878537,0.4896262993579566,0.49041559500571097,0.4904402456333798,0.49013306532241113,0.4899426278445931,0.48988453645481916,0.4904602243455,0.48886640012316385,0.4895215995099306,0.4887162939873177,0.4884215716688495,0.48906511336142,0.4886624873218447,0.48800153145870834,0.4884333282822161,0.48706701956771337,0.4891863178224908,0.48505737291738876,0.48710839640806003,0.5110577581042366,0.510987468235698,0.5114731344015753,0.511262905676071,0.5093711501011992,0.5106632325547602,0.5066266468356632,0.510663581358809,0.5030887124187572,0.5077985497785525,0.5235851694133075,0.5235221373247017,0.523009754876382,0.5232452553148347,0.5207449598437907,0.5226368723356406,0.5163400149941267,0.5217928582884929,0.5115083270790025,0.5186436697155444,0.5297896354998624,0.529716540342203,0.529144705890354,0.5294865386376633,0.5263238674318997,0.5284931424297769,0.5211311940897217,0.5276129405001833,0.5151021293098237,0.5240511344085489,0.5280153426269958,0.5282235365265797,0.5276901893762582,0.5279473395664994,0.5245198197396483,0.5266297117113683,0.5186957371547372,0.5252868180501923,0.511763508509964,0.5218104187050353,0.5265213016143653,0.5265242316528825,0.5258504719499295,0.5268995929588302,0.5227690112671707,0.5249526961901834,0.516268721768722,0.5235136309115306,0.5087517940158044,0.5201658960652329,0.524757175259221,0.5251032802944188,0.5241587630423842,0.525075421349915,0.5207252928029488,0.5233054605286432,0.5140609159744347,0.5215581582786719,0.505922186468374,0.5180177350804371,0.521164798530118,0.5215212230032018,0.5202709823072601,0.5214020612048891,0.5171358011128772,0.5197197051145788,0.5100341601231136,0.517865915097066,0.5014233774577764,0.5141891212804084,0.5158980069700112,0.5165158163930138,0.5149448805355199,0.5160451417686827,0.5115623410770651,0.5145414748295194,0.5041454180802075,0.5123271568820156,0.49576308031833777,0.509221543440582,0.5127955738859613,0.5127638504316806,0.5114585010429131,0.5126265632613592,0.5081919899288456,0.5109910867207199,0.5003434953431884,0.5088519157681237,0.4921656960333241,0.5055910693750272,0.5097159136364167,0.5095011808693942,0.5086628994394335,0.5092155127717025,0.5047573607757945,0.5075067119983315,0.4969235431004978,0.5055646728138374,0.4883448030247212,0.5021226052768625,0.5055253970792817,0.505164931621836,0.5044050689557161,0.5052516593769245,0.5008445008435033,0.5037173984492594,0.49301359682635026,0.5014228176895125,0.48380264718024685,0.49795931060818416,0.5023913699266089,0.5018991953946017,0.5013026516102629,0.5017736297730777,0.4973777711278356,0.5003859603708393,0.48963178735236396,0.49789091810122843,0.4805556275479058,0.4944376218303527,0.5001483177909799,0.4995929407149579,0.4988763893159048,0.499879513823454,0.494912608517271,0.4982780072414096,0.48712066743662646,0.49553048676467787,0.47793060581125507,0.4922785468666338,0.49744330201622083,0.49712904187502527,0.49606239567241356,0.49707088704276625,0.4922939734943374,0.4954005329911837,0.48471550486070675,0.493054429181199,0.4750824128788323,0.48986190476741925,0.49476110207682883,0.4946005309516685,0.4934967408555065,0.4944362585357491,0.4896108001152176,0.4930707826979133,0.4814125124029101,0.4903528862270054,0.4722431746122494,0.4869160244525485,0.493011632163519,0.4928975576592308,0.4918414087449156,0.492624924196833,0.4879279034274106,0.4913327766551225,0.47977701717829824,0.48877257916752925,0.4707077544186405,0.4850712312565881,0.4913978276672824,0.49140702262912145,0.4905366944542965,0.4910250509444988,0.48674120094587636,0.4895335791575755,0.47829047606694736,0.4871626433203388,0.46938246474450207,0.48370842897259275,0.48998126910421785,0.4893735972353086,0.4886560704412663,0.48944030063376637,0.48472567501737834,0.48806560074034916,0.47676385932324733,0.4853641250635337,0.46728089922567534,0.48208122029494677,0.48830511008651956,0.48807462308279403,0.48732144319046405,0.4881601245667327,0.48343263276065035,0.4866493320260719,0.47497232505297293,0.48391623722207416,0.4657243840583376,0.4805726371994049,0.48745841939422097,0.48709089673786393,0.4862362376746368,0.487167336778893,0.4824938875718944,0.4854245555232439,0.47436092275210495,0.48280667951608314,0.4648942777530715,0.4795343663966935,0.4866846513531417,0.48625580172642313,0.4847764523919226,0.4861999708337664,0.4814101764443366,0.4848609650070117,0.47334471527125277,0.4818364654675483,0.4638309233989192,0.47885436100407053,0.4851845458751745,0.48481817764182433,0.48396135191179174,0.48482487720671624,0.4798562614835426,0.4835319097078211,0.4720507161967781,0.4807315557481331,0.46258084015995776,0.47744209393572484,0.4841405963104218,0.48441220970073284,0.48324883381239864,0.4841679396000745,0.479333540908125,0.48260812375520296,0.47109576906115874,0.48035010237119297,0.4621992740975068,0.4763284336135303,0.48378081332604933,0.4834595637894329,0.4822675562775746,0.48311602919863383,0.47869533090724786,0.48183300268911,0.4706728546860014,0.47919895641172033,0.46146501157267195,0.4757371237005176,0.4828762064133152,0.48238073713636254,0.4816403216613337,0.4825032905233194,0.4776978162253337,0.48103431548063597,0.4698476905073456,0.47842059376917934,0.4603910691804776,0.4751671443578037,0.4822250963621083,0.48198818086413114,0.48085420139297713,0.48179363201471137,0.47707390848760034,0.4801025698426013,0.4692251619783315,0.4778295539671399,0.45952854429165046,0.47431268876030874,0.4816447800072918,0.4813406876406795,0.48012526922761917,0.48113589856903,0.47637553128380977,0.47968331388099167,0.46838559038550287,0.4771890678218751,0.4593721076964309,0.47362221012414546,0.48091946458281704,0.4804812113660242,0.4795830921310555,0.4806605167690663,0.4756881096582544,0.47944508100926186,0.4680424599245933,0.4764670733360194,0.45827307799256345,0.47341873478200414,0.48062258871875946,0.4801621538257643,0.47900994816316717,0.4800277609712234,0.4750344636848924,0.4785643932791761,0.4671808061505132,0.4761431222663163,0.45789383575604775,0.47288961318126677,0.4800359509269034,0.4799337355779546,0.4786067384336838,0.47921085584376855,0.47465146463119723,0.47812873845213505,0.4666501394948244,0.47561824703661354,0.45735136309487084,0.47231831394342605,0.4791318253182379,0.4793869062205013,0.47840470694197346,0.47877805765028486,0.4740895087062905,0.4776823315213155,0.46626236302832474,0.4752103964464117,0.4571161260289177,0.4716257468635278,0.4792792549884212,0.47840605987839785,0.4778595628248149,0.47866727158496203,0.47348247369982227,0.47714177005605757,0.4662006920972279,0.47475424583803144,0.45649629671444814,0.4714241703984063,0.4786468979458229,0.47800149912106565,0.4774000535418979,0.47827702562993024,0.4732224285508212,0.4767280374143855,0.465316053519224,0.47398011168578924,0.4563699016719341,0.4708192121780377,0.4782096616366414,0.47801530653591395,0.4769293937511388,0.4779294744145621,0.4729183906148197,0.47651380782361286,0.4653866924745812,0.47368386880533925,0.4559613501547571,0.47062630884651907,0.47785120719393637,0.47770016030666723,0.47651859255568346,0.47748294233737437,0.4724375648526649,0.47612608544415996,0.46464831300262815,0.47341554309666484,0.4556222772547836,0.47043127911807503,0.47771179075861436,0.4771810181628065,0.4760421343009821,0.4768936917885585,0.4724895247940964,0.4756239597108905,0.46451100337175844,0.4731130897059896,0.45523763805002987,0.47010509746864176,0.47730984428870804,0.47693553710603237,0.47575385012565286,0.47657010173513004,0.4719745843060768,0.47559776659891,0.46411379514852613,0.4727949438596564,0.45481753323415613,0.4695579626989944,0.47673015435959043,0.47675778524997514,0.4755810082944121,0.47632645559735864,0.47177781110382905,0.4748949328394474,0.46403112790318396,0.4724737105925021,0.4546904512370056,0.46918960080930117,0.47690362984788376,0.476137774345528,0.47513850320902873,0.47632956571675417,0.47148567214266607,0.47491449881907155,0.46350059932554555,0.47193619443857016,0.4545265748400669,0.4688840924672456,0.47633785420503055,0.4760092547644871,0.4749428593541027,0.4763798024535635,0.4712595356086208,0.4743885581528419,0.4633831221566315,0.47190185034179666,0.4539884493110643,0.4685643744295509,0.4759470287658364,0.4758724582547564,0.47476219123008406,0.47584800194691573,0.47085197064973705,0.4744291915632423,0.4630155888593875,0.47149921853964105,0.4539221307848942,0.46842104587900996,0.47630540196240434,0.47559663598820945,0.4741957752360649,0.4755812723647312,0.47062628859864236,0.47402949670018535,0.46275153279517683,0.47149319705750786,0.45386425414727294,0.468025922851515,0.47577632788665514,0.4754383447253851,0.4741889380808009,0.47538549639347116,0.4704502728366119,0.4738321147920109,0.46247629092534626,0.4714294285162649,0.4537904884851836,0.46785049590348177,0.47533444347193665,0.47542890133370774,0.4741562696419467,0.47513360159052537,0.47038032147656517,0.4735896360115177,0.4623070356812002,0.47106919283272447,0.45317554661792037,0.46768194677721325,0.4751741653363764,0.4751633683005777,0.47415733824739553,0.47462213300400874,0.4699026902221319,0.4733737746233778,0.4619064578291427,0.4707934262812054,0.4535193856282448,0.46719928001327643,0.4752553002083644,0.47473436594447593,0.4737071593869596,0.47441231888320023,0.47008289434751727,0.4731144982484023,0.4621098558526702,0.4706645532692106,0.45292009130751487,0.46706509138932834,0.4747268074444706,0.4745302256322637,0.4736265682690029,0.47470360482198115,0.46970234049074094,0.4730167062733904,0.46194915417350646,0.4705076526360023,0.4528592512846351,0.46698074643617216,0.4747963845666746,0.4745484452348238,0.47357664868910254,0.4744486883096569,0.46951371013484144,0.4729859692852955,0.4617700438444611,0.47030203520424113,0.4524621249858523,0.4668444197625262,0.4747794381881975,0.4741870485444017,0.47314011838484377,0.4741343373184765,0.469457255545193,0.47293278387113435,0.4615205888236122,0.4701194885915591,0.4527294505690272,0.4668409124449312,0.47459589889227954,0.4744381671023611,0.47304648773493435,0.47393900948927514,0.46937553835368095,0.4725325623925106,0.46142194260358704,0.47042702852276574,0.45234900276575657,0.46685521820829934,0.47420740335020384,0.4742707677027077,0.4732587199694495,0.4738753038799977,0.46931926008492436,0.4724594891767199,0.46131613550096356,0.4701136914709822,0.4523326507518808,0.466390420972398,0.4740764589041059,0.4740965308566785,0.47308270439557787,0.4735261821534175,0.4689424704680149,0.4724940454861333,0.4612545480289198,0.46977274336601005,0.452270196656776,0.46635863664268246,0.47419656457975673,0.4737140020139355,0.47287291541856297,0.47355039665730203,0.4688278297181639,0.4722026377298379,0.4610195010749039,0.46956792849773343,0.4518631154081873,0.46602970792476744,0.4737820473652334,0.4737117836095753,0.47268335000339695,0.4737901596043681,0.4686605100482547,0.4719813711004535,0.46097048582139644,0.4696780255407761,0.45209248735764984,0.46613398278670304,0.47376119474461303,0.47336605118357605,0.4725493648960748,0.4731871058820898,0.4687241085520786,0.4721303627973054,0.46096427343666885,0.4695080543273345,0.45152330592115014,0.46620627931102365,0.47391138499257135,0.47351684028643365,0.47212704170406145,0.47351549089304595,0.4685325909065962,0.47185557544636547,0.46070401145351775,0.4693849607842381,0.45156911297645036,0.46596167326554383,0.47379637287106335,0.473201088485945,0.4722577587064947,0.4732154992208739,0.46854137254584577,0.47189161054535356,0.46040709113877404,0.4694144722169603,0.45164411797099924,0.4659703945782944,0.47350883801292515,0.4734515394615325,0.472232827624495,0.4730697763260257,0.46826919449426146,0.4717293583584307,0.4603425971714563,0.4693947382212842,0.4516696462832087,0.4657816131831914,0.473159963420809,0.4731876155188381,0.47203327357471114,0.472740506987014,0.4681801913157511,0.4716097624251855,0.4604596071535126,0.46913878950212523,0.45153263001650884,0.46572063912253975,0.4733547828796737,0.47298800994191326,0.4722099061495738,0.47286055713181063,0.4681322870381658,0.4715713743545819,0.46038756784015616,0.46929183735879904,0.4512700057014372,0.4656249258526355,0.4732659512894197,0.47316809352352873,0.472299187176234,0.47284532629866965,0.4683412271138715,0.4716682571331868,0.46046338778667095,0.46895446541465713,0.45158566519496723,0.46566946361680167,0.47302831758533787,0.4730113150501979,0.472132334290741,0.47284256925508233,0.46796598679936197,0.47117641285994166,0.4604939284545858,0.46896663775242875,0.450893197329127,0.4655980210473214,0.4728679134329468,0.47286764633860295,0.4717981710442106,0.47277801884474396,0.46791729982530417,0.4715154431911738,0.4604342559216098,0.4688410245488554,0.45091850069219136,0.46563251726481536,0.4730725116808799,0.47282400512338507,0.4715056194811298,0.4722871898567537,0.467679444300296,0.4715678464741149,0.4598898619871626,0.46891547667441047,0.4510262338953012,0.46553768342061586,0.4726640778144659,0.4728387740932734,0.4718817267807765,0.4723777071869955,0.4678919000533489,0.47107777398577627,0.4601077954975904,0.4690200687489899,0.45080903750904083,0.46542092743028235,0.47276495832482274,0.4728181807039455,0.47160865098822946,0.4721094198342171,0.4678064180413488,0.47081030127939216,0.4599691418790556,0.4686690844739021,0.4507840066071311,0.4650064835237764,0.4730928088371613,0.4725040918097359,0.4718529809411277,0.4720606708991942,0.46755126600438696,0.47134093610858674,0.4597976637871424,0.4687961840909624,0.45089341438231006,0.46511502892684226,0.4727267001326642,0.47251961260877967,0.4714375124978802,0.4726709583585164,0.46741820317010635,0.4708529381587565,0.45967642920107205,0.4685930571222849,0.450677824503481,0.4647925499177015,0.47282313844510165,0.47244999423806,0.47153136716334515,0.47232615279621065,0.467474093002316,0.4709346817609993,0.45997278488964355,0.468633219869191,0.4505139124378206,0.4653611650673669,0.472629960816542,0.47261125685740824,0.4715379232688918,0.4720331484304188,0.4673343121311423,0.4708734644908357,0.4598679510903683,0.4684098666333958,0.4507149071567834,0.4650316001898254,0.4726633512996034,0.4725250115091938,0.47121161961474745,0.47206328928378954,0.4672087200393887,0.4708470092266243,0.45943124599719776,0.4687840206548425,0.4506197693104278,0.46481448988858004,0.47260246091357155,0.4727744401075462,0.4712959916783392,0.4719060483223111,0.46742542240052587,0.4706309827870726,0.45936203909879797,0.4684366790673858,0.45037859924952844,0.4648781092796647,0.4724798818995856,0.47236648814733895,0.4715089479270296,0.47177737986804974,0.46754774920066566,0.47087570543966845,0.4593135402399023,0.468279454800355,0.4506712505578291,0.46488705276274883,0.4726215141009168,0.4721844500298372,0.47153413322438453,0.47185753700498884,0.4673034666673414,0.47078277067601193,0.4595481465868054,0.46831906070301416,0.450459212947688,0.46451450458265325,0.4725148904079583,0.47217396327521466,0.47123375224006236,0.47204139433447095,0.46706658033103976,0.47035942519010604,0.45930391923952213,0.46831794146175615,0.4503811316026061,0.46480528836671764,0.4724514317741173,0.47193317740564994,0.4709486741534981,0.4720349450239763,0.46709645592768356,0.4708708121960094,0.45958388470676764,0.46813012898476725,0.4506885347104567,0.4644524097301002,0.47230883374470173,0.4718394153596997,0.47105145661453834,0.4717878054719743,0.46741313122493744,0.4707640885681975,0.4594626908395733,0.4681906356023711,0.4502540372296175,0.46464808237573574,0.47243321267055144,0.4721332244987679,0.47133835195316837,0.47159955312148477,0.4671946394986286,0.47046694084486596,0.45921070354567284,0.46809019379818056,0.45027405651683117,0.4644238324063725,0.47227533210920086,0.4721409116335246,0.4710085289882499,0.47167918595026276,0.46709113575286154,0.47044857073100227,0.45911471439156787,0.4682686523974436,0.4503914730518727,0.4646479059228957,0.4723109355328852,0.4720417094709987,0.4711540665473774,0.4716678778644205,0.4671606922462439,0.4704748699778653,0.4593998925038332,0.4677723525893001,0.45060544139697495,0.46449582334155176,0.4722744312505738,0.47183956888516376,0.47103173282226596,0.47153561656344756,0.4672809149260659,0.47022608232406615,0.4590621429088826,0.4679165456556189,0.4499366588265474,0.464249715097779,0.47214153422350036,0.47170885701600745,0.47129385700755155,0.471721756870769,0.4668645986001643,0.4699894824956925,0.4592243594075426,0.46762087873263736,0.45014410012446493,0.4642232102693253,0.4722155303448118,0.4718314262506142,0.4708630300228407,0.4716826499950335,0.4667770319471151,0.4702226803472859,0.4593408586158722,0.46795106885999577,0.45024703771694535,0.4644837667941833,0.47218179796986426,0.4718760237837403,0.47095261956527873,0.47154964868785904,0.4669665925693561,0.47016269524378607,0.4592752187386702,0.467835875256049,0.4498514353799952,0.46432795543568994,0.4722276450975764,0.47206968907948227,0.4710031162938426,0.47135055143052423,0.4667821717389186,0.47003267114637265,0.45877049721901453,0.4677956551359967,0.44989194590185666,0.4643111176120963,0.47186338836793895,0.47169062071569834,0.4708361890999361,0.47142440241797356,0.4668487361491577,0.47026260336187714,0.45882269690220523,0.4679610269815194,0.4501640855845139,0.46398014192592885,0.47194968939245957,0.4718403439572825,0.47075039189376955,0.4713326700210321,0.4665257332782735,0.46995304417116,0.45943243707458675,0.46780302647197275,0.4500333825987544,0.4641105466836952,0.4722274010325838,0.4712802710654488,0.4706713848815541,0.47133790210109694,0.4668561127910655,0.4699865715156427,0.4590944595409093,0.46748447085380174,0.4498553888764834,0.46420630461765294]},{\"line\":{\"color\":\"rgb(31, 255, 180)\"},\"mode\":\"lines\",\"name\":\"Median\",\"type\":\"scatter\",\"y\":[0.4892905121524852,0.4891751270382487,0.490188101822505,0.4909552204964911,0.49083289546828796,0.490419275929986,0.4895754847470414,0.49050995447073104,0.48927149754140387,0.48915256785806216,0.48852929518857985,0.4880391536009526,0.4890022129522596,0.4885646774548859,0.48796091603989933,0.4890169573371963,0.48667697045718905,0.4896698279483278,0.4854485229817097,0.4871977580663493,0.5104647089666196,0.5111446390249148,0.51203652601791,0.5114691942876799,0.5097513353492638,0.5110469401964803,0.5060517808619599,0.5108486613060669,0.5029192726547217,0.5077539282200857,0.5229731767900041,0.5238931084815662,0.5229747936528909,0.5234482769904858,0.5208033059702405,0.5229273816506725,0.5160259876704902,0.5222150610857201,0.5116149449636079,0.5187882465027855,0.5296303113699077,0.5299728227921991,0.529086987376073,0.5290004646119584,0.5265667570743982,0.5291029030469264,0.5205830877071016,0.5276039943230586,0.5147944174086402,0.5243506478009868,0.5277445942833338,0.5282651007968893,0.5276169555965093,0.5279826101085501,0.525069934466418,0.5270278631669606,0.5185691614247243,0.5244661818826345,0.5109234920825944,0.5216818514733428,0.5262235718865658,0.5267936523392418,0.5257243413056598,0.5269638375933383,0.5234014846348173,0.5250004362192617,0.5157933364048772,0.5239006595019634,0.5083769743764077,0.5201151072823327,0.5247927278716484,0.5251289062193936,0.524104857663515,0.5249040192453871,0.5205505724793476,0.5236236083943171,0.5139469663900444,0.5213611283946635,0.506163343237297,0.5182704828600733,0.5216054932011708,0.5219387716786534,0.520295512132661,0.5213054579952496,0.5174754189855157,0.519928830926051,0.5102233084824119,0.5178228939362453,0.5015981844750341,0.51425597723627,0.5160677467046482,0.5164265097146075,0.51477951710437,0.515691025056479,0.5117261324697662,0.5147104228781822,0.5040075602776941,0.5119887016090926,0.49597435350040797,0.5089757517032412,0.5127416699042986,0.5125171070753727,0.5114204962855249,0.5127928847471144,0.5084188599497657,0.5109869028503553,0.5003518180979598,0.508937128229529,0.4919116983806552,0.5055860181747966,0.5101129257692246,0.509452620589306,0.5085542853114968,0.5091774193252643,0.5046367597572343,0.5077528167019878,0.49698755173081566,0.5054713642777177,0.4881645724854386,0.5021266831426416,0.5054350630733644,0.5051820763597075,0.5042178485707349,0.5053528263373799,0.5009700352119759,0.5038449205714596,0.4928218593543506,0.501193209465379,0.48371194281924657,0.4977473747573705,0.5023869019663894,0.5018371550671081,0.5013774267517008,0.5019966576149109,0.4974404964578115,0.5003361731169408,0.48963486504037185,0.49783042901777996,0.48062071628130454,0.4947983434285126,0.5000957690775342,0.499365878933381,0.499094536267885,0.49983541091492883,0.49511020033144937,0.49807964130315197,0.4872852262745359,0.4953230297344433,0.47782706134441544,0.4925291143536896,0.4974738448763354,0.4970589012629232,0.4960104143212416,0.49690374964742506,0.49230743540800964,0.49541107206566526,0.48458646289084634,0.4930400231602262,0.47513064020513934,0.48997907240551863,0.4946918532329271,0.4947097893494937,0.49344687260019937,0.4943706067480448,0.4896199390501492,0.49305935292067615,0.4815043282673444,0.4904174520512503,0.47271179811509056,0.4868121734166144,0.4929690001211246,0.4927425332836053,0.4918353807918229,0.4926778122206489,0.48801594617455457,0.49157449044778984,0.479623924630952,0.4886396851522897,0.4709402970735917,0.48521418540060535,0.4914398845642062,0.4914172097655981,0.4905148328721969,0.49091064998605094,0.4866462819511814,0.48945932985213747,0.47822676279208265,0.48695811306796755,0.46984309260443885,0.48325065491515407,0.489988983072509,0.4893559872826715,0.4886806959612283,0.48936620714403695,0.4849814764849213,0.48825504666777797,0.47687048309263863,0.48540506351327395,0.46744876253841283,0.48223948736048844,0.4882256071586629,0.4881026282715335,0.4871384141002974,0.48801175444438644,0.4835181470987654,0.48643836371505395,0.47468364408595987,0.4839975570656341,0.4656960684328807,0.48054074981408146,0.48748975672308115,0.4871968773314401,0.4861727598194106,0.48741633415821173,0.48256538060632587,0.48546031044881854,0.47456403283889337,0.4824700517057666,0.4649162245374695,0.47958778679511066,0.4866632545550965,0.48621006354946716,0.4844964129900118,0.4861695197665544,0.4814020804915344,0.4847411619673932,0.47329611682960904,0.48180233167114717,0.463821368337044,0.47871573678583956,0.4849947147117625,0.48484038572491117,0.4839800395963621,0.48466203111851547,0.4797946684535618,0.48368304621384794,0.47211668598479645,0.4806015090192389,0.4626500769396642,0.47758435883795913,0.48411812727865716,0.484354738298402,0.4832559928488031,0.4841697131418537,0.47947754264104064,0.4827223867980892,0.4707964522425246,0.4803598146118845,0.46227559540470187,0.4761876093087248,0.4838070324311579,0.48355260278171686,0.482191161609796,0.4831288937286907,0.4787043189487902,0.4817537728653931,0.47078022049494206,0.47921111853518683,0.46134234678662267,0.4759981244274056,0.48295981221783235,0.4823225315295535,0.48193732057125654,0.48295044433144585,0.47798717700260296,0.4808163915866806,0.46975366339511326,0.4786435769339731,0.4605463393442376,0.4747397151820144,0.4823183500376087,0.48194519568813415,0.48086504345631126,0.48166573500291965,0.47703613488814545,0.48020791795522233,0.46953963377084695,0.4778274261804055,0.45967004088262553,0.474362589587271,0.48159342566797947,0.48122500156661907,0.48016402151149723,0.48100290749470914,0.4764676132599446,0.4796203856588773,0.4683883492625275,0.47715430062733455,0.45899507774652704,0.4736451338014739,0.48073501535146357,0.48063710756954914,0.47950515702732094,0.4807278153518303,0.4760273243175449,0.4794635373044148,0.4676743564794503,0.4766826711281035,0.4581194016902594,0.47322069379547327,0.4807000066093192,0.48001113314505583,0.47890462593550476,0.47978684714645536,0.4748744651354797,0.4784000045645958,0.46755906201609576,0.47606130727565077,0.45793639247176277,0.4726572929519528,0.47988047009240575,0.47982860864482824,0.47849921910490933,0.47963048954365334,0.47477923776740666,0.47817396729289696,0.4664672515649772,0.4754195355951006,0.4577406729737481,0.47255389042648094,0.47902984813165816,0.479276169851247,0.4782321700407627,0.47873573988525564,0.4741481173816523,0.4776374948278977,0.4662642291880952,0.47521444766828547,0.45723969834534195,0.47136510909621365,0.47925173697458606,0.47836576859234564,0.4777346538377636,0.4786147324318108,0.47354951368055426,0.4769493391226479,0.46607300750446123,0.4745279711947873,0.4566366881802638,0.4709470340394579,0.478746369940553,0.47781887768800957,0.47744391513308027,0.4782696061170296,0.4730456394651254,0.4764463479531117,0.4652827842495809,0.47401691622642217,0.4563829170768008,0.47048276339026934,0.47820390376744826,0.47797819358074767,0.47703426151493533,0.47797662367751204,0.47258470343355374,0.4764386326133355,0.46498475169091735,0.4734333627565598,0.4558507179622501,0.4709308265589752,0.47758735780338035,0.47769352850607144,0.4766398019738414,0.47745899386751955,0.4723349378377047,0.47633122534607364,0.4647097429281598,0.47360213845452104,0.4555018478587143,0.4703339151450356,0.4776649474659749,0.4768671909496234,0.47587075082126373,0.47703112550297877,0.4724034225495519,0.47571697382364864,0.46440988360020585,0.473317861518253,0.4550548374351776,0.4698003562278132,0.4772435399242712,0.47694586057778393,0.4760449702712278,0.47658692704399835,0.47178754875524126,0.47544018626562257,0.4640375870135067,0.47263552902903044,0.45502818002081913,0.4693692448669611,0.47673662333443434,0.4769762591898053,0.4757149246006926,0.47652225216287813,0.4716639482984791,0.47479560988219793,0.46377571299599096,0.4723445713106414,0.45469770998220804,0.46914667605143967,0.4771550049057234,0.47623849468524926,0.47502086996451465,0.4765756158296591,0.471463395006102,0.4748291640392118,0.46363816071314784,0.4719824532113954,0.45491730994104773,0.468865696982601,0.47635247932532354,0.47608462024863707,0.4752032763851627,0.4764482585749451,0.47151036738385965,0.47434745662613625,0.46317505176813495,0.47214471619037873,0.45389452800985397,0.4686189659415017,0.47607893376170807,0.47591589224767683,0.474968221660782,0.47583724330537286,0.47082072852712115,0.47424692780503264,0.4630601783807021,0.47118521313828465,0.45417194208846157,0.4684232171697085,0.47610146752101534,0.47572601249063295,0.47410884690198424,0.4753821552924625,0.47083168616924076,0.47427243517660966,0.462694162792837,0.47150651190086934,0.4538326433111953,0.4680953361178175,0.47578370985771723,0.4754802803531228,0.47409640169216455,0.4751976929025432,0.47026868653880316,0.47365579516404277,0.4624988676652022,0.47155642292849237,0.45399298302440144,0.4678403468540403,0.4751889450843821,0.4755639987919752,0.4742483219160179,0.474949596240656,0.47048240106267103,0.4735424760134376,0.46260252645877914,0.4712617751694518,0.45302503817938533,0.46742625392963355,0.4750036592485827,0.4750513542486756,0.47430046362330264,0.4746875273197093,0.4700922514099754,0.4731706399224078,0.4619683838379186,0.4704832671375201,0.453864180835272,0.46699568439410766,0.4749523424748031,0.4749580919860106,0.47375070253612783,0.4746347394626248,0.4699502983397103,0.4730346363260416,0.4620306629316169,0.4707271754026478,0.4528216877476682,0.46682796334485305,0.4746491625034248,0.474644289138471,0.4736305881184751,0.4747497201940081,0.46999541761693464,0.4732161432145048,0.4618833475904638,0.4703433560637557,0.4529640396183602,0.46668125320291,0.4746432985570554,0.4747697036905113,0.4737538465966472,0.47469474615155094,0.46959886581852545,0.4727627326435082,0.46170028869017943,0.47027150629968534,0.45208625892618837,0.4668122211873956,0.47453945225536065,0.47429183439299105,0.4731285560982622,0.4740509764121322,0.46961223212230463,0.4727610928543632,0.4613288070507716,0.47013376205729196,0.4524695221646221,0.4665970366192608,0.47447661214042214,0.4744292186703116,0.473121434531759,0.47400250509123,0.4693234734827904,0.4727581793766996,0.4613032679644036,0.47054570161659504,0.4519751494786056,0.46673465353952076,0.47434220637689006,0.4743113631478353,0.47321116222412124,0.4737367422388997,0.4692689841455103,0.4724817514039606,0.46160490654108643,0.4699619891576601,0.4524606222016525,0.46658406466935837,0.47407953554112986,0.474034033531409,0.47313086489994166,0.4734953273140803,0.46891308824149436,0.4725654333425925,0.4613472745141881,0.46989153023000635,0.45230172366232557,0.46644543698974295,0.47423251891403195,0.47366282658762826,0.47322315088655087,0.47358604950049243,0.4690117856396997,0.4721099632178303,0.46077511850100666,0.46948034689899043,0.4521634203277005,0.4657242793656981,0.4738469068260637,0.4737160601009669,0.47289873554761835,0.47379934560973413,0.4688069300596194,0.47166347364629635,0.4607674912753392,0.4694023531712339,0.4521074881485834,0.4661603613614743,0.4736248386586023,0.47331311298190915,0.4726382366584019,0.47333301855827653,0.4684998627214737,0.47195748825604755,0.4609242738665916,0.46933447772014514,0.45170052098963087,0.46613974480055254,0.47372021197669656,0.47346896170180325,0.4720869159111073,0.4736034304611106,0.46858476807908667,0.4715822577188392,0.460481579511352,0.4691094028087408,0.4513915287442049,0.4661901376458405,0.47370096310642185,0.4730664111080545,0.47237184794937925,0.473238800341665,0.46847143772670663,0.4721965647098741,0.4604340028721725,0.46946050854572796,0.4515026442811223,0.4660469540547765,0.4734747518161029,0.47344437181238463,0.4724595665467791,0.47303195194890985,0.4685037867054789,0.47176026260262394,0.4600010587333555,0.4694806864352923,0.45171514470978286,0.4660100915542117,0.4733338031677451,0.4733407112592175,0.47211254192437746,0.4726831335824187,0.4683798283324199,0.47154062845682865,0.4605172991154813,0.46899641240325685,0.4515956629118142,0.46575427481086284,0.4731707842894475,0.47316378336564546,0.4721365252411104,0.4729239799638634,0.4681697440891977,0.4715645799818524,0.46026099920784147,0.46936386397970864,0.4516417444709978,0.4659027925187498,0.4731824800267544,0.47327215479863144,0.47235819948113156,0.47262563648715505,0.468109575845552,0.4720222046250952,0.46067451836539997,0.4688461400074132,0.4519807415548749,0.4655425382951456,0.4729617534227541,0.47315459649244235,0.47217841007211386,0.47267051238128105,0.46822854234140626,0.47103921183838343,0.4606972436325787,0.4689106631586692,0.45048205018891435,0.46581660707224104,0.47272498934262475,0.4728873607550266,0.472081515537137,0.47291857890244193,0.46819884422848473,0.47153371039094893,0.46051499975518617,0.4687229978168752,0.4509855477210802,0.4657347602127824,0.4730488238521904,0.472740049343621,0.47161313325054277,0.4721674243746019,0.4678001589977384,0.47184892510623555,0.45967159333005975,0.46877498985540306,0.45139544498893436,0.4658480109961699,0.47272917464493047,0.47274835550246347,0.47204012215065205,0.47248199121298384,0.46845989651716863,0.4711216432599348,0.46022328443590743,0.4691072703090367,0.4509918267378231,0.46527136124237845,0.4725934400443146,0.4728098447489814,0.4717206055676384,0.47209598878383274,0.4679020679692256,0.47072359824496895,0.45999857209326045,0.46847775160266125,0.45039104588209905,0.46495095592763985,0.4729072458966421,0.47248388586221785,0.4718130619571871,0.4719890415726693,0.4674139144642079,0.4713225036625017,0.45960478029077767,0.46890727516248054,0.4511554275114676,0.46509978025543974,0.4728335229410162,0.47255225006348467,0.47145834772738854,0.47275967387297235,0.4674138831471766,0.47079424858122704,0.45971391002822426,0.4686342848933347,0.4505441803401775,0.4646224716776842,0.47245160574824707,0.472643142693846,0.4717154760390153,0.47240526271453864,0.46760640072379145,0.4709875892684794,0.46018712348117996,0.4687566168252762,0.4507481746332981,0.4655890075326561,0.47279795842928996,0.47283112839070585,0.4716404096295067,0.4719619764469671,0.4673876225334396,0.47066898441461896,0.45968670103433384,0.46844028006803395,0.45061288459107746,0.4650451902039666,0.4726543877792915,0.4724672214546476,0.47112545739351785,0.4720434687060358,0.4669939849762834,0.4708400637705227,0.45934382916818484,0.46891378516647886,0.450622134713993,0.46488786413887817,0.47241831541881263,0.47294864259901537,0.4710733686467071,0.4717657117001915,0.46760452835189337,0.4703764363143442,0.45935935026122415,0.4682973915368779,0.4506104780551103,0.4649254259488572,0.47265530981301984,0.4722122732768734,0.47155523202020205,0.4715585166155788,0.4679083298814969,0.4708583947752441,0.45892946187142925,0.46839062930146924,0.45015496015889056,0.4649184176435426,0.47248041318930645,0.47214356072213604,0.47173515835656343,0.4718696390504355,0.46706086348465364,0.47072823527260543,0.4594339389480377,0.4681288612305712,0.4507037110922626,0.4643350820493002,0.4723454276084605,0.47206273123612097,0.4712638892055616,0.4719141557737182,0.46683858580362275,0.47024454510629216,0.4593939899152204,0.46828595768750825,0.45065876020358997,0.4646663147681215,0.4725357153714056,0.47193898594339734,0.4708032398708585,0.4718488692076035,0.4671420768056652,0.4708326992325027,0.45934892761094875,0.4681475665092743,0.4510249895210888,0.46412503598073035,0.4721074471689656,0.47188493167254975,0.4709276819532756,0.4716969774041466,0.4676804963811903,0.47088544138894584,0.45929195145414164,0.4681489506244605,0.45007735766773027,0.46465749242735266,0.47220932398751203,0.4723803201947464,0.4714831576049901,0.4715446456241874,0.46718909018904675,0.47051800122023274,0.45945489786621485,0.4680231920956923,0.45047179450831853,0.46432084628627157,0.47234641232583474,0.47191448054781954,0.47091484140964013,0.4716048032549882,0.4672722164231675,0.4704636170411721,0.4589235274337297,0.46844210826710597,0.45080116445986335,0.4646474207960143,0.4723311732449449,0.47198912232048096,0.47127811430051925,0.47150001074785974,0.467271735833234,0.47024019992193533,0.45930079901128473,0.467754810949921,0.4503249915115347,0.4647278942655701,0.4720106386515731,0.4720325110056395,0.4712453523479378,0.47159166188100254,0.46724830305415943,0.4700533710039593,0.45889375607806016,0.467850428720162,0.44996960878869796,0.4642970269909374,0.47211072964947876,0.4716680143658114,0.4713114219507971,0.4719676299618971,0.4672570489633331,0.4701216511087364,0.45908594957848436,0.4673223161471246,0.45050318249271915,0.46410802296640596,0.4721134354275698,0.47163007462980916,0.47100221143867943,0.47155291606224436,0.46679943421184394,0.4700627367310056,0.4591906352347245,0.4680115113606914,0.4498877917688371,0.4644425010413949,0.47211834737814706,0.47182500703621577,0.47105566439692736,0.4714898639692193,0.4671242887555781,0.47023024683213666,0.4594516504812062,0.46782617226084655,0.4496806798269004,0.46426760935198796,0.47219953806945125,0.47219416622978116,0.4710401949898195,0.4711265896619986,0.4670377024299446,0.4700741823661041,0.458873810084888,0.46779033282213056,0.449631721261808,0.46438424184220095,0.4717108065833774,0.4717559266215081,0.47100826750933433,0.4714055718764207,0.4666637145102426,0.4704194511101125,0.4589682601742624,0.4676784352459869,0.4501132363135187,0.46409734712949785,0.47179566605005796,0.4719426629736438,0.4708171470024404,0.471547290091912,0.4665691985747864,0.4698019656716338,0.45965876418603613,0.46770420895660647,0.4498011044129535,0.4640714609816346,0.4722722396410804,0.4712260402056059,0.47054501191183373,0.47152962928664754,0.46685998369354786,0.46994184245008275,0.4592070635000405,0.46792536877674407,0.4495703559987933,0.4642925944358979]},{\"line\":{\"width\":0},\"marker\":{\"color\":\"#484\"},\"mode\":\"lines\",\"name\":\"Max\",\"showlegend\":true,\"type\":\"scatter\",\"y\":[0.4996729192002642,0.4992352545882359,0.4959580591740227,0.4973439513600917,0.4961810843756109,0.4958376072589416,0.4991337961973317,0.4975183640289209,0.4985786755721598,0.4936057688363167,0.4979885864496639,0.4975016233225584,0.4948162690309665,0.4938631884114715,0.4944262915196497,0.4927955341485795,0.4959210681913818,0.494535754526757,0.4945255029027669,0.4912999584896008,0.5196687519151726,0.5198220597758192,0.5160607033598353,0.5173329373392994,0.5144046138938904,0.515552796420093,0.5128664272860444,0.516042185385895,0.5103650642487964,0.5123694174051263,0.53189656895447,0.5285797580377847,0.5274235680962882,0.527261293846175,0.5251508337461314,0.5274652021391422,0.5224476743650753,0.5264644472588501,0.5191253569064429,0.5225438833579059,0.536824062915339,0.535401330106566,0.5321420573456979,0.5334141822264065,0.5301583472199298,0.5326409087880019,0.5277103183814245,0.5325335833319739,0.5218851159773659,0.5273545015875458,0.5335376521574747,0.5312193441493711,0.5318587544854352,0.532298873206063,0.5275000665473497,0.5297459051027089,0.5235009059310431,0.5296230433726162,0.518598907045435,0.5245851120569692,0.5304256966206345,0.5299365979981692,0.5297232713871868,0.5299395075045626,0.5257309311215187,0.5295237410676431,0.5198618661045288,0.5271703971702906,0.5136291763434051,0.5234312657443135,0.5298681844743071,0.5277604839601593,0.5269896131244017,0.5290057046267203,0.525278537373238,0.5261574448647149,0.5177253322432678,0.5267207365910566,0.5113391911712648,0.5206313694763666,0.5236930206718584,0.5239151487361451,0.5239428848324496,0.5247932345881956,0.5194716902073299,0.523413155704006,0.5136860134876038,0.5218744292850378,0.5053580997160552,0.5170327430925734,0.5181872750371399,0.519059383136354,0.5185298258921484,0.5197889271643035,0.514709276143077,0.5171099002092148,0.506929497278567,0.5157061554840721,0.5000174437459007,0.51107589923186,0.5163377680991001,0.515730383500536,0.5139162196425497,0.5146667203799904,0.5102640275352222,0.5130355342142033,0.504115634737494,0.5127535740636517,0.4961137671522309,0.5076719980106359,0.5124617508145363,0.5115599826058033,0.5114784087659519,0.512135070138363,0.5083831398415262,0.5109136141827989,0.499626006126114,0.5075769359931565,0.4919541124243866,0.5047322957573317,0.5082831327576113,0.506890653150505,0.5070835299240133,0.508174687101027,0.5042078258773997,0.5060775086621336,0.4974657801121789,0.504933393508489,0.4880479110143203,0.5000444916257487,0.504725526346691,0.504554534637286,0.5039422837036747,0.5040718890160792,0.499380806206008,0.5028476756701644,0.4921468459727958,0.500630711422931,0.4835943729526663,0.4964954967875233,0.5024848735167252,0.5015730892240412,0.5004108698102211,0.5027585193235532,0.4969228042133654,0.5005897074605996,0.4896014798630043,0.4989258722942972,0.4818446685080582,0.4951528259408566,0.5001083355237378,0.499075984642203,0.4984047970189372,0.4993160881464464,0.4942621644779024,0.4979903265389424,0.4885648891429528,0.4954876168526456,0.4788355494248564,0.4918741138045227,0.4968936464567299,0.4963818816837457,0.4950447138677702,0.4960642565987336,0.4925014256386328,0.4949995460118332,0.4842961330533025,0.4932071767812623,0.4754716154273415,0.4894841364148944,0.4954290601771587,0.4955917753482481,0.4940107693487217,0.4950353917855115,0.4898525666075765,0.4934493558887636,0.482627760317337,0.4911640875965133,0.4734382059415769,0.4873925165288901,0.4928872573219047,0.4937482112393641,0.4924909254615464,0.493341670529925,0.489218267584732,0.4919241207657618,0.4816851388278002,0.4901638087863129,0.4729945833629503,0.4881023714274029,0.492122687293366,0.4916399803590309,0.4901900637943951,0.491884068699428,0.4871066563566906,0.4905129771178538,0.4798279250222328,0.4877860857114375,0.4694282667238545,0.4845289099757567,0.49019236101555,0.4899957305769563,0.4899965371746081,0.4904446764053276,0.4860076740729056,0.4884600541953164,0.4778483443038356,0.4870602592174278,0.4698435595934849,0.4832265218339419,0.4890738076002445,0.488991207637733,0.4879258558982678,0.4888165173666287,0.4848698277917191,0.488641183383558,0.4766245929634908,0.4855546592947427,0.4682197999724478,0.4824687217386443,0.4884577127882518,0.4878019146236924,0.4868003947737862,0.4880697122095178,0.4842622274606601,0.4874964802917748,0.4764924909641311,0.484714359263268,0.466606531986458,0.4822280754119111,0.4871032189941882,0.4868386640742579,0.485637971959979,0.4871286561759235,0.4820233910560347,0.4855616042864608,0.4750757760699476,0.483376115548817,0.4657621148954212,0.4808237119662993,0.4866822740970425,0.4860890061169983,0.4854967437163188,0.486488681778288,0.4818482447949083,0.4863994922527668,0.474061077314375,0.4834877369661621,0.4655613928474,0.4798452170131986,0.4861045643227596,0.4857633553004971,0.4847100395313036,0.4853507300785694,0.4804845410742954,0.4852767653068564,0.47299110909877,0.4817015071179023,0.4654747451712273,0.4778477630524947,0.4847029645407057,0.4843115427024064,0.4832420779253251,0.4844539784284427,0.4802760913811916,0.4837530134306907,0.4728389629727809,0.4808264734868914,0.4632505802865195,0.4778073483130178,0.4841812070267704,0.4844161083129185,0.4829940330632173,0.4837479556679603,0.4807191024527589,0.4820652814414516,0.4720571777386028,0.4805785725348463,0.4628501769347218,0.4765135011918118,0.4831735419345578,0.4835378642650612,0.4820309960993018,0.4831426580809055,0.478930225139219,0.4813676477041075,0.4723158109679803,0.4794423617745555,0.4634399679589481,0.4757552625703878,0.4830992556054733,0.4828725336635877,0.4815597531106986,0.4828503532735099,0.4778695493798608,0.4821500052223845,0.470726907909513,0.4785682647902881,0.4611373367083898,0.4757745647222912,0.4830246371834975,0.4822046703846105,0.4808648115142905,0.481905432356255,0.4780281540106486,0.4810910098014983,0.4703331564727365,0.4785653628047713,0.4610360155467221,0.4753530984483422,0.4825722390207831,0.4816371829935571,0.4803901596159342,0.4806641172047148,0.4777560512333333,0.4804483951053569,0.4717719328480924,0.4780330808296414,0.460693634157086,0.4751636259676314,0.4813135509569627,0.4811475216972158,0.4810570021521204,0.4816125974227356,0.4766297083315188,0.4798521813807185,0.4702162573186308,0.4790473923889945,0.4598065457722896,0.4745771544397357,0.4808194233299906,0.4806351598287393,0.4803141704032447,0.4810820216756004,0.4759894614749499,0.4793816528209575,0.4700587836195757,0.4775293189939288,0.4593315688335335,0.4741878583976474,0.4806354407143632,0.4800081418395798,0.4799944403341316,0.4802521019023442,0.47532829032393,0.4785444588635104,0.4682604526005511,0.4762212480818683,0.4594072915308082,0.4750379918354767,0.4802886275211965,0.4798616299946386,0.4794790374968674,0.4799702947660784,0.4759640149887847,0.478620784679469,0.4695120161867171,0.4766230980153307,0.4599976101064746,0.4728332867055784,0.4804890029091508,0.4796395382474827,0.4784758277420559,0.4790823901291606,0.4748678718931708,0.4781755785990386,0.4678907344506078,0.4768580815292248,0.4583984905783538,0.4728922256068396,0.4793454159340399,0.4788623225091633,0.4781503446056022,0.4790294834781081,0.4754013802624902,0.4784265410047171,0.4678958026053847,0.4762106268710432,0.4587112650605012,0.4736618597322788,0.4796284843200419,0.4787394759150779,0.4779128570495988,0.4787004246068907,0.4752082406409555,0.4787951224285824,0.4661054526503676,0.4765554814644823,0.4582477203644503,0.472556639689505,0.478546112957578,0.4787233258047181,0.4782852204096735,0.4779795481489393,0.4741623081745493,0.4771920043931453,0.4670544436766132,0.4749248166890917,0.4581188715038022,0.4724458399597267,0.4783220040347317,0.4783736893001572,0.4778036298688069,0.4778996183845213,0.4743310141727299,0.4764858098244836,0.4657591574999663,0.4746673302535918,0.4572641606562885,0.471428484244179,0.4787899375102135,0.4774183669188426,0.4767802366986284,0.478770730354094,0.4747595527852927,0.4766308923175775,0.4660841807729501,0.473978578770544,0.4581401029577068,0.4721821206523819,0.4778244487442272,0.4778810684197372,0.4763674268864359,0.4782995192972221,0.4731029128634414,0.4762351475635629,0.4653235738548495,0.4747575889273055,0.4574957593750051,0.4709178594879318,0.4774798174156102,0.4774623594052544,0.4760871799854733,0.4776714426832529,0.4727883722841403,0.4764880185170484,0.46637782617153,0.4746646030256461,0.4574806348394986,0.4708404798276807,0.4778593478575952,0.4778736848080627,0.4762475693076186,0.4777276788883282,0.4738096169069116,0.4765395001967475,0.4661491082002321,0.4757610111361308,0.45641173431847,0.4697773118506447,0.4776840517034442,0.4774976578021875,0.4761105029717637,0.4777334547516352,0.4727919241943599,0.4756120560304431,0.4651457201628524,0.4735736954346407,0.4573681297767001,0.4711583303652792,0.4773986828594777,0.4770107591240845,0.4765059807955371,0.4764989692388497,0.4723872626053624,0.4761310910819603,0.4655076457841164,0.4744882015106916,0.4570320299606825,0.4699120736893966,0.4781670351050425,0.4772772093548657,0.4750548708660084,0.476329958511265,0.4730212853359574,0.4758321679684155,0.4658453996160122,0.4743621060836012,0.4558264668104291,0.4696884569562743,0.4774167942857508,0.4763168629872448,0.4762870551500451,0.477685897024371,0.4730877641046023,0.474330355760357,0.4650453114598801,0.4742812141549766,0.4564572866135838,0.4706770149143163,0.4766613062438858,0.476683041366641,0.4752204800041013,0.4766048721315636,0.4717484954934233,0.4748724305691376,0.464721443923219,0.4730235112040974,0.4564528494029286,0.4689846885330765,0.4774434106071306,0.4760936333770077,0.4755493681508969,0.475919576652397,0.471743343055958,0.4767339862551131,0.464728094106239,0.4741708458773897,0.4562841762352402,0.4691445475645791,0.4769546006373503,0.4759803619888955,0.4747776365851851,0.4751750650148467,0.4714128846681838,0.4753972384995855,0.4651120160358268,0.4750995174195959,0.4565869669078468,0.4698291845055808,0.476916164674819,0.4760000694115502,0.4756168602862884,0.4762242384889931,0.4719297318859812,0.4744731210990078,0.4658287719729716,0.4722192609227267,0.4557137084106006,0.4693174571906224,0.4762797702675274,0.4769292521595757,0.4748192842489337,0.4757266773078644,0.4719732437420989,0.4745410775786999,0.4648082841293403,0.4718870902268939,0.4547586546574874,0.4685595419532518,0.475967135271073,0.4757362742961933,0.4750256213767047,0.4763720304624791,0.4725974432519556,0.4745041754401283,0.4636341804741387,0.4728539602318166,0.4552029838430229,0.4682073642140125,0.4760962209944439,0.4760950276336635,0.4739491856386323,0.4760279225255512,0.4704675218237494,0.4749660357224646,0.4636137902180684,0.4744666657500134,0.4546761139354472,0.4699870469905605,0.4763914249298229,0.4763659425805042,0.4757020960331425,0.4751545266539386,0.4718130243527879,0.4747527260622173,0.4631806569016305,0.4717283934466891,0.4554547501120112,0.4679740480315508,0.4757626409486196,0.4754433774345334,0.473906452223352,0.4751555541045535,0.4716266468039094,0.4743970548376282,0.4644100497401689,0.4729924643626684,0.4549671828925588,0.4694928441148187,0.4768825656867241,0.4752814711411716,0.4744826752897908,0.4749706237243135,0.4718932049140314,0.4741148035591624,0.4637264795708218,0.4727412741050355,0.4548707104735385,0.4688076982536861,0.4761293674623412,0.475096018201577,0.4747420864903529,0.4752601394365121,0.4707343590338075,0.4741539306174071,0.463867874340635,0.4717190766369382,0.4561663631039821,0.4680504526233566,0.4747901952292209,0.4753463158276629,0.4747268430822071,0.4753198501586869,0.4706566825376891,0.4739607793861979,0.4631138741060695,0.4722399396394593,0.4558156288242098,0.4678616343259614,0.4757522259773702,0.4754643306182996,0.4748118815583882,0.4757635532688443,0.4701617817665238,0.4736860247176703,0.4635273673993263,0.4718278097304393,0.4551291053578918,0.4678487557746448,0.4755129530308717,0.4750872925215462,0.4744186723955845,0.4755131865112199,0.4704956740349301,0.4736918131684491,0.4641842820933123,0.4708128061327631,0.4538576790259636,0.4685449936656964,0.4761231934327122,0.4762384967153727,0.4734240206627464,0.4754671381982311,0.4701062783312506,0.4728619889945135,0.4628200674780643,0.4724021105111665,0.4546179436487069,0.4680590586234219,0.4755636010534287,0.4748545753177053,0.4743960709377447,0.4743390764829798,0.4703564144533194,0.4736733996329613,0.4640519865780267,0.4716330517658162,0.454064990458911,0.4684060596961176,0.4752638420504636,0.474928040473844,0.4737924481841482,0.4750763553334951,0.4693718828852927,0.4736776036783685,0.4636832180036949,0.4713264762975323,0.4545656638581111,0.4679690375749828,0.4746693472402102,0.4746081637133237,0.4738939494994388,0.4742533606343402,0.4704700851316873,0.4744642854585842,0.4625925507106777,0.4712531264087645,0.4540602533314714,0.4679548159806603,0.474666198077111,0.4748366455398379,0.4733730551376949,0.4741198923041572,0.4698513494468438,0.4726547100435086,0.4630248538014035,0.4710084008417421,0.4542887498636624,0.467856891616894,0.4757202055739387,0.4737245506038435,0.4740027040896054,0.4746155492289331,0.4708528258556386,0.4732575727645685,0.4616562338835639,0.470684918396571,0.4545527498466462,0.4675175516002946,0.4756598439730449,0.4745010243052268,0.4736761033231396,0.4749996462278418,0.4703040391809551,0.4736669679605272,0.4619828706975126,0.4703847973968201,0.4552273307882726,0.4676517508049765,0.4757638702096936,0.4746096260137669,0.4730165349723026,0.4757976126256512,0.4697441645302621,0.4730951276650237,0.4632813526243275,0.4708714526004178,0.4530267532805643,0.4670672297815913,0.4755805447850124,0.4745494418361949,0.4733822170438537,0.4739424915475654,0.4704065458871519,0.4739406271490441,0.4639035649528106,0.4711521897960825,0.4537584984581084,0.4675720540069615,0.4760534740237058,0.474494078029978,0.4729986249560202,0.4741061844183671,0.4694422722263149,0.4733769485858567,0.4619636367992941,0.4719902542759334,0.4544676202275384,0.4676536782671707,0.4752525487519375,0.474396294042185,0.4736370677920089,0.4744562596060315,0.4703176454209478,0.4734344155566808,0.4623556242696559,0.4702305337554315,0.4525672180057383,0.4678562101754297,0.4739141772673064,0.4745489386614533,0.4736154144116956,0.4739241975728813,0.4694422500201588,0.4730765850153541,0.4634399308376966,0.4715020959448106,0.4547311323128541,0.4671430060462783,0.4755826024734691,0.4746000761374557,0.4735037109761444,0.4738611329641511,0.469860574017753,0.4730946159640208,0.4624486596825215,0.4710257468805092,0.4553454167376657,0.4671465082630012,0.4751756320633303,0.4742318129474657,0.4731024390786421,0.4741723415341119,0.4702933551938973,0.4723763205053563,0.4616363324156661,0.4709540211799305,0.4533362488975594,0.4673465799355601,0.4742145054922017,0.473710523831389,0.4732744312770057,0.4742066296047086,0.4694707139852193,0.4723998246279566,0.4626372637693579,0.4722195233863229,0.4548686894866137,0.4669054983464756,0.4750516253297622,0.4736184255801263,0.4735489957388574,0.4732583540022143,0.4699780098011963,0.472655355440895,0.4637581712543185,0.4715807539356892,0.4532619609409758,0.4671791505696485,0.4740261277335453,0.4736156136359468,0.4735077147347287,0.4743761281367347,0.4688919446847684,0.4735505547928612,0.4620665003643453,0.4704475589247627,0.4531428946375404,0.4675544230520709,0.4743771824185594,0.4746180131605766,0.4736207310691008,0.4741639839588519,0.4695865831326989,0.4732136562560316,0.4628255606300812,0.4723344701482187,0.4533310225806798,0.4666316031549108,0.4740904992234052,0.4741247838332727,0.4737155306347221,0.4736635385748872,0.4694192003928484,0.4731626414310556,0.4618852296569072,0.4717900915743929,0.4547584134234552,0.4668273378770669,0.4756203263507126,0.4735706901992831,0.4725408453034818,0.4737901343882231,0.4707777029311752,0.4725382392477297,0.4628437978445985,0.4708167478635028,0.4534997905299897,0.4679560038213185,0.4741872821801561,0.4735650128687829,0.4735139180101506,0.4738777132194068,0.4700038787101939,0.4718518546687349,0.463300947550719,0.4709984294377295,0.4543903853013628,0.466892644039022,0.4742573653220118,0.473546547834418,0.4721636015135291,0.4734199420921114,0.4688565990078416,0.473660242241382,0.4623990244438466,0.4710756791633481,0.4549070666348132,0.466809882408346,0.4736813566384517,0.4739633080916998,0.4728103102835282,0.4735784557352499,0.4694395657088724,0.4719340332719677,0.4625691587209902,0.4709724648377222,0.4533069080524456,0.467086433835595,0.4736196071922042,0.4742788251530738,0.4731357694374722,0.4728782044147174,0.4683290347485084,0.4724904996943531,0.4633167647844828,0.4712805937789707,0.4535527963273516,0.4673085756697439,0.4736199604926709,0.4734065923082401,0.4724446884189332,0.4733677211782673,0.4702683362017935,0.4720675712251306,0.4620922492429896,0.4709049726667033,0.4533039260917278,0.4657083127857964,0.4736593830095351,0.4738044252413874,0.4728526582049558,0.4731302886721399,0.4692737605756742,0.4718419111593387,0.461757684062117,0.4714175942415904,0.4530745056980091,0.4667079992265599,0.47506907418672,0.4736648709922885,0.4735389452265132,0.4742708859264133,0.4696310992891563,0.4716904813839676,0.4619395918567,0.4704335711960516,0.4527857419213293,0.4667150821496268]},{\"fill\":\"tonexty\",\"fillcolor\":\"rgba(68, 130, 68, 0.3)\",\"line\":{\"width\":0},\"marker\":{\"color\":\"#464\"},\"mode\":\"lines\",\"name\":\"Min\",\"showlegend\":true,\"type\":\"scatter\",\"y\":[0.48089025705243,0.4792529908856341,0.4834973345880968,0.4835088023252304,0.4831136191915353,0.4823072462388734,0.4833452410104704,0.4848806318570098,0.4782095322592263,0.4846130469108665,0.4812989650713442,0.4797610139478624,0.4810816406337887,0.4833217026831962,0.4815761723537808,0.4829139861646739,0.4812386293466405,0.4830353762427914,0.4772631970345712,0.4814708172472585,0.5053329464798328,0.5045572185588496,0.5049646673984337,0.5035397557310283,0.5045147792245298,0.5046089534990573,0.5017951617772204,0.5045174241445118,0.4980446074559515,0.5029487421519595,0.5176740178465027,0.5180882618861284,0.5180280440527195,0.5183343035718072,0.5169198287268065,0.5165353621560557,0.5110640247464534,0.5174828422473277,0.5073258542975424,0.5143448673391294,0.5261071493049203,0.5253956612035631,0.5243179553191993,0.5250969730311783,0.5218504517623889,0.5235059717282136,0.5165772940326667,0.5237862331487154,0.5107113190462109,0.5188380102834245,0.5245742123291015,0.5233195705275424,0.5233004094342113,0.5233255940976421,0.5200071287514836,0.521155300797833,0.5136240147428475,0.5218181433690865,0.5081159893671265,0.5183686503387133,0.5232416404553627,0.52327944039118,0.5217272528552745,0.5229935091599821,0.5191014269212136,0.5196281510998982,0.5134183255123078,0.519772838559515,0.5056168176373564,0.5159431648160308,0.5217617377930195,0.5212254307873537,0.520235841643137,0.5219017886135435,0.5173219463504231,0.5184562796105059,0.5111359811943016,0.5188151469451054,0.5022337474587566,0.514899397929876,0.5175526207821626,0.5180303633362653,0.5160257481347317,0.5188969498621406,0.5130828692359557,0.515050107413934,0.5059315552616473,0.5142755253181753,0.4974805605817194,0.5110037045898164,0.5126254633510055,0.5124251713935466,0.5114989685965137,0.5133943288931712,0.5073846604270938,0.5106575340826036,0.5005719882633789,0.5097740924597349,0.4913790403902949,0.5065516029814451,0.510890721228313,0.5094432980860817,0.5087829935175179,0.5100690254609721,0.5044094118922208,0.5073602817753097,0.4970097447916335,0.5054835180120373,0.4885828061137364,0.5036513517661221,0.5062953796374869,0.5074994283702298,0.5059345019604621,0.5066092758794216,0.5013159595329372,0.5041271682260768,0.493751291108399,0.502964354204324,0.4846141874736069,0.4999088495087155,0.5032026371297617,0.5026631097576798,0.502781923633031,0.5029792608075156,0.4974455669785766,0.5003344983547252,0.4905679646751373,0.4986637603840444,0.4809248672095805,0.4962824986766356,0.5004147479609953,0.4989719912243613,0.4986205772097002,0.4993052978715385,0.4952235474296041,0.497509735762013,0.4867667904681156,0.4959884463373896,0.4766767290557964,0.4922801136417091,0.4975523735319824,0.4974164993734173,0.4963589423865957,0.4975296685759089,0.4909764349040932,0.4960161017892533,0.4836465247258818,0.4933184306682447,0.4741810280273848,0.4894975127081015,0.4946034496059834,0.4952200107654599,0.4930588946186102,0.4946905915637474,0.4898034751217442,0.4933519285339595,0.4819485063972089,0.4911388071849427,0.4724713317539659,0.4878038264205946,0.4928425164238683,0.4916374209001307,0.4914864924924157,0.4926227307712895,0.485940454362815,0.4909962229705237,0.477104118618004,0.4864949392929387,0.4675946612321983,0.4837656382705897,0.4907045871000597,0.4903132602239245,0.4901426726666328,0.4912312457242903,0.4844018502711646,0.4894603185659649,0.4764182290047601,0.4864831941480653,0.4667440332935669,0.4826790900255948,0.488573433716764,0.4898000090688733,0.4884796750278469,0.4889631272611665,0.4834665329451019,0.4863073083115647,0.475451133521229,0.4852250202225212,0.4661499520518977,0.4821718822874767,0.4879058316109246,0.4873826758608213,0.4868834976617006,0.4872564491676424,0.4819770850063696,0.4851743389307069,0.4731219975887139,0.483028499933962,0.463309756340899,0.4796079100788417,0.486736958953091,0.4859505997466942,0.4845348726956482,0.4860476249049029,0.4797337606423917,0.4850103242012245,0.4714840218757307,0.4819170406513407,0.4620367734283691,0.4781219224369436,0.4859401114052691,0.4842665902589498,0.4843670164358939,0.4850689740994969,0.480168301677941,0.4835819474844758,0.4695068821188104,0.480690203538422,0.4611300674204812,0.4768541702479044,0.4842023864909691,0.4842379731110836,0.4823144354974489,0.4846403135923337,0.4792744682291828,0.4819354495025909,0.4688654970623332,0.479143496354905,0.4602621485087332,0.4761745785648695,0.483307332497306,0.4825588619162115,0.4808424591681825,0.482826418927663,0.4768701959666155,0.4807272605315905,0.4671669873640283,0.4785356134906072,0.4590712415160238,0.4748651062985483,0.4821580165537058,0.4821260551945182,0.4816929616555888,0.4822751574500878,0.4758546203056679,0.4794441180170272,0.4672766673937961,0.4778592658129604,0.4578751838852853,0.4740389355287475,0.4818282510033608,0.4818022132291818,0.480105447313885,0.4800489073979249,0.4756812873226565,0.4797203827454314,0.4662913813530308,0.4765909179153613,0.4572953828234973,0.4721957429562636,0.4813077601866139,0.480233981910861,0.478668778221511,0.4792573259118434,0.4750465386239816,0.4788755854748832,0.4669729576500404,0.4759084889327363,0.4562445518800969,0.4731070857547103,0.4793698461516627,0.4783843446204839,0.47881816903711,0.4802692589533356,0.4748769262745901,0.4775670540594212,0.4643824877412393,0.4753684915457419,0.4558825116970116,0.4718254153624734,0.4794741352573211,0.4784462424381853,0.4781280382344518,0.4798607410471188,0.474189589098217,0.4770045714009349,0.4628357768855923,0.4744508698408954,0.4550821612866568,0.4713347780235602,0.479353326979006,0.4783659159614176,0.4769348431047847,0.4780459564107276,0.4726238674997832,0.4773107468387288,0.4647591387706061,0.4738680140841098,0.4550631520834149,0.4707498202041768,0.4788784201885175,0.4778777784304952,0.4767694173074935,0.4781931189250196,0.4724284380523837,0.4770242702238679,0.4640753712178283,0.4736791592131055,0.4532842719061568,0.4710135160750545,0.4777940696493525,0.478406895643939,0.4761689469183869,0.4765000350929779,0.4710454437657085,0.4765486823740361,0.4630040318568418,0.4729093142332481,0.451936790204375,0.4702538038212128,0.4771973025309217,0.4777679001068389,0.4758660577334969,0.4764321463502992,0.4718032287647538,0.4755042132743772,0.4627168489429681,0.4732234111181641,0.4527970893525647,0.4694426329186127,0.4775390863947366,0.4771279324237047,0.4762406588711617,0.4763722994051705,0.4698112194670283,0.4754786466454994,0.4635880381661512,0.4727270674371278,0.4531559076467101,0.4690908875666266,0.4763820839379157,0.4763869227353074,0.4753026152644965,0.4757207410976959,0.4712461286970008,0.474972091841298,0.4604659048584865,0.4720588965547443,0.4529802450002126,0.4685224345015873,0.4763393767970679,0.4762963515434276,0.4746509620151664,0.4762511560498459,0.4702643182037693,0.4754430899206746,0.4610346193496847,0.4712288901684026,0.4523787218137621,0.4674819621737971,0.4762723415868073,0.4758855176629359,0.4744901533368842,0.4747532707151278,0.4701149338489625,0.4729940847232844,0.4608459171605378,0.4709084732184134,0.4515928360004996,0.4680774816174768,0.4757434432369832,0.4745681973512742,0.4737303773186038,0.4746116686344421,0.4700941862889523,0.4730601205904499,0.4599467187649714,0.469896755897651,0.4520884332595352,0.4664410100530431,0.4753029115930977,0.475244477085508,0.4737000553907044,0.4746317468329086,0.4689601564615645,0.4728344274267559,0.4618710782413614,0.4697859516977971,0.4507555440299061,0.4677739885570238,0.4741982535484167,0.474342411637457,0.4738360555374483,0.4741310100595228,0.4693952147188228,0.4719402412875227,0.4607163585174657,0.4698596900782991,0.4499410763723416,0.4674578292878516,0.475021277520615,0.4740383090928136,0.4731813206103378,0.4735028699484983,0.4684780462629365,0.4733434202626993,0.4597330502353043,0.4696587636603296,0.4500458952876625,0.4653992479873772,0.4742957542629447,0.4723563666746272,0.4723840453772805,0.474438384851332,0.4689630431149955,0.4723053027748103,0.4592724057716295,0.4697284160262657,0.4502911409802774,0.4653854248252744,0.4734640984544415,0.4738653443072453,0.4721590783087211,0.4738618624479442,0.4688190028065311,0.472874683987604,0.459138826707859,0.4686661348496304,0.448078869537303,0.4652520097819393,0.474814229374331,0.4726221229684926,0.4718895577114749,0.4739078861088022,0.4680092326792555,0.4712375451976559,0.4592109937734553,0.469023652274018,0.4497188507877085,0.4645909044080402,0.4736436713147341,0.4730048749755214,0.4724491753972979,0.4742594723645335,0.4671128437279791,0.4720877010712991,0.4591235828213063,0.4688210691935043,0.4492346489136383,0.465614778553477,0.4732901766615706,0.4736009244122448,0.472176774471837,0.4734149492923113,0.4662798262768835,0.4715843471065727,0.458808573759025,0.4680547774044966,0.4480258410402413,0.4652593141880037,0.472967373726626,0.4733289028248618,0.471836540188994,0.4722858351571614,0.4674892596100145,0.4718535901425147,0.4586967634214994,0.4688528065883869,0.4503233041536775,0.4650124850368996,0.4731413729985861,0.4729874726466999,0.4714919796123328,0.4724726969007459,0.4674299641100027,0.4709534152489882,0.4590538371525646,0.4679669948038841,0.4492120206048152,0.4651774275793323,0.4722361170898887,0.4727212780819047,0.4715068656080631,0.4715797398123192,0.4657420176160394,0.4709592390426387,0.4589155474049131,0.4674249502988225,0.4491034636938155,0.4646536596880806,0.4723664184386151,0.4711291504195466,0.4715641682501732,0.4722831935164713,0.4669150446608476,0.4712813782109262,0.4582103293936755,0.468082554620517,0.4500235519504473,0.4644300093921183,0.4722549999505605,0.471638605124818,0.4708517921197971,0.4722446579041213,0.4651518906382901,0.4698799310151395,0.4583442205187452,0.4680480905798478,0.4484291005376984,0.4641427731774266,0.4730085507167658,0.4728499992018788,0.4707575823253281,0.4716111583074472,0.4672496289256377,0.4699395466206849,0.4578042946220866,0.4678665346694513,0.4487352628394467,0.46433361194446,0.4721655093678574,0.4719304477905697,0.4715528189841996,0.4719447612971548,0.466902732096314,0.4706855036651664,0.4570683706093376,0.4681415628845933,0.4478047172049976,0.4632822280684618,0.4717345003925629,0.4716075847223653,0.4703032097871192,0.4711582499374023,0.4652553193207199,0.4701333393954196,0.4577696626892701,0.4679232858811134,0.4487566418871863,0.4640720866732459,0.4723052638659239,0.4716086094365395,0.470802502059483,0.4712267283380361,0.4659230330220555,0.469726830701314,0.4589673366366661,0.4677649221792925,0.4475299095183801,0.4638118991978241,0.4716017861738104,0.4713372203181865,0.4701955688450734,0.4718486172152159,0.4656398622424081,0.4700948528092322,0.4569092157995469,0.4672266026141167,0.4493911915378478,0.4634500396556577,0.4721713056280352,0.4709110605550827,0.4701345377904215,0.4713616736539977,0.465954361281124,0.4704336233951052,0.4566715322530765,0.4674162233149102,0.4480737594296407,0.4639855715007951,0.4724343818553984,0.4715492801715287,0.4700975064751158,0.4718791351010626,0.4652304301158791,0.4693377634773049,0.4562990010449831,0.467654063783696,0.4491839858529039,0.4637248222928662,0.4722638924810133,0.4712956585346873,0.4703115628595979,0.4707380332218845,0.4651890577400981,0.4688521418652611,0.4573261298625121,0.4667842877640951,0.4468054802427847,0.462586497441658,0.4705989973748667,0.4711743172610796,0.4692815084795729,0.4704401202389173,0.4635242772047033,0.4697612949613897,0.456603158251967,0.4671962187494621,0.4476312026240365,0.4629108653428319,0.4711572144730614,0.4706955531640533,0.4693414771207615,0.4707078881711651,0.4658381136845793,0.4694593970167384,0.4561951693300163,0.4671015182300697,0.4470718369721677,0.4633696109312611,0.470802119620431,0.4708150633537099,0.4705462473152712,0.470567414474231,0.4652105182399999,0.4693180269955661,0.4567878811133799,0.4666795742024049,0.4472824454414679,0.4628950975260721,0.4715564388030994,0.4706930997741491,0.4693432049483557,0.4711498979896202,0.4665140002630237,0.4689799867441158,0.456456110176319,0.4671003067651473,0.4474760070054133,0.463236127144949,0.4712573125747142,0.4705945963604856,0.4705559383591902,0.4700612423568739,0.4640358413659556,0.4700704165734889,0.4562330545375708,0.4655949851633935,0.447979289416632,0.4621685272976896,0.4713706269296862,0.4710508437994962,0.4695973035075566,0.4707372292711457,0.4650710740873071,0.4695689244395966,0.4573265723146021,0.4664472485797169,0.4461242244288064,0.4620883076728866,0.471151366463602,0.4714720282404839,0.4684261486113227,0.4712554669445889,0.4652654487140109,0.4681101429937137,0.4553850134204915,0.4666630076783319,0.4462873859944676,0.4615607441564283,0.4703194673322065,0.4710672211192072,0.4698239716321561,0.4705583491800764,0.46492541932687,0.4671568537545207,0.4564552049648717,0.4669324806818565,0.4451061852463727,0.4637213492517181,0.4705604119425353,0.470300231356868,0.4693907785620365,0.470403196513883,0.4655960750684504,0.4684717174213009,0.4556043469431078,0.4669322374322572,0.4456808123053606,0.4624185677432553,0.4713386506952413,0.470304527035695,0.4691880499748556,0.4698203928362043,0.4653034216024941,0.4681588002541975,0.4564176452146735,0.4655060196708988,0.4466870430019569,0.4628873736898339,0.4707591767250023,0.4710584886575392,0.4693002795497898,0.4708265089596928,0.4648397060374827,0.4683287517175564,0.4563194617633752,0.4670353918145201,0.4471770210681036,0.4619714663030196,0.4708582387016795,0.4708750620167901,0.4689951977675916,0.4705849650423974,0.4642802203225766,0.4686004113724509,0.4552636483385926,0.4661078405907533,0.4476535614386432,0.461090907152742,0.470134921502047,0.4703424842062026,0.4688838516461242,0.4706728735492661,0.4645751643604998,0.4683653305868316,0.456309475761653,0.4658388461483372,0.446931175210672,0.4614712759833848,0.4704673340162978,0.4709348518931582,0.4693376136448324,0.4703217393432052,0.4646087905163923,0.4690110009320484,0.4557625785335127,0.4657708979889983,0.4464811065020794,0.4616090841451775,0.4709403938343561,0.4705409272774903,0.4692974945902332,0.4695884401358127,0.4641212728096461,0.4688222332066255,0.4554616720091772,0.4665381286691886,0.446941223217883,0.4626589231378487,0.4705781869771807,0.4702771056033901,0.4695140681601732,0.4702259624282506,0.4647869139022524,0.4688964003812247,0.4569052977179892,0.4652726422263251,0.4472945431958515,0.4622030365551803,0.4705521541705246,0.4704714894437695,0.4692108967853182,0.4703203295942535,0.4652531086478407,0.4686708717067117,0.4553902076665632,0.4662504852040669,0.446924162887978,0.4624012054619053,0.4708887834856131,0.4700952173747231,0.4694112041479803,0.4694133944990324,0.4642421820264917,0.4686676695246995,0.4546266048350696,0.4658162914580143,0.4464298865963559,0.4624945798955422,0.4704395440647983,0.4698164259518098,0.4686711450531567,0.4706540911124284,0.4640448059360684,0.4693097981988183,0.4553891918734976,0.465657579856649,0.4467962848504485,0.4606671911917399,0.4700548979183626,0.4701829133295042,0.4687687887730112,0.4706070685004988,0.4647645129468852,0.4684456585780318,0.455622642124212,0.4658985256867644,0.4469849552923692,0.4617217299631602,0.4706954547930194,0.4702666393142551,0.4682944884337832,0.4694947142604385,0.4649866997670457,0.4678224818154041,0.4547277946640594,0.4659393506440651,0.4458674379742361,0.4620213693233924,0.4697787514190314,0.469685271589185,0.4691330828649249,0.4697068625585782,0.4637890603343674,0.4680738871602519,0.4554543194371072,0.4661091434629537,0.4442871405230782,0.4620991289956215,0.4700021923950293,0.4707562009195957,0.4688217688724391,0.4703306859483791,0.4645025607877536,0.4690977811530973,0.4569112459515108,0.4650494998249704,0.4464999408816337,0.4618996573132077,0.4707314500000795,0.4698906824585354,0.4693510314465041,0.4692051989210881,0.4643852760250556,0.4678427306613218,0.4557478606978093,0.465595859047706,0.446119066524983,0.4613575328677557,0.4704872193744039,0.4695374918824472,0.4684420951258528,0.4692957292764069,0.4640888549891273,0.4674082594789212,0.4541618308115977,0.4654842011010608,0.4449326689255449,0.4623981805209413,0.4704706361220187,0.469581209834555,0.4687629797206206,0.4701698661615836,0.4648258531379699,0.4682907944229148,0.4552417962930162,0.4654257657443644,0.4470460044421503,0.4616311852186396,0.4707180747366852,0.470511816283336,0.468507668544352,0.4698889942491849,0.4649036933158336,0.4678899029236334,0.4555259491524454,0.46454025707614,0.4454340824043292,0.4617451255716303,0.4696030513839525,0.4697915200749142,0.4688117827786547,0.4697096950165402,0.4649235681024194,0.4671412202088431,0.4545325950190049,0.464005816914565,0.4448759325536329,0.4619655217852983,0.4703537667891826,0.4702145924798298,0.4690061198353111,0.4689306112649485,0.4642382328952195,0.468085824048967,0.4532697918322615,0.4659349360781264,0.4451016811893894,0.4610852179006639,0.4700250717988928,0.4691401524166553,0.4686451406020541,0.4687701018727438,0.4628115707805185,0.4677841920876598,0.4553857364179604,0.4659535448663148,0.4457819627825035,0.4613856263659545,0.469880585665396,0.4690429724801515,0.4682446177821393,0.4678303311604931,0.4646289112069044,0.4681083772975067,0.4560831520486922,0.4649214824721221,0.4457212975935089,0.4618778622873883]},{\"line\":{\"width\":0},\"marker\":{\"color\":\"#644\"},\"mode\":\"lines\",\"name\":\"Konfidenzintervall\",\"showlegend\":true,\"type\":\"scatter\",\"y\":[0.4913350688695232,0.491347578162747,0.49155748625664464,0.49175861204470994,0.4914931116781193,0.49117655299441626,0.4910461470031088,0.4915656359195961,0.49033831056842647,0.4904377174009801,0.4902370471875468,0.49009875899784366,0.4903114849050864,0.4896864630452936,0.48932317623871346,0.489600865438887,0.4882224497261869,0.49029736637489596,0.4864391827373865,0.4879475324006533,0.5123614222675665,0.5124315829055509,0.5126362254750977,0.5124784772359825,0.5105039754021672,0.5118196285907763,0.5076653509303383,0.511757731306304,0.5042133530260495,0.5086545416266559,0.5247973122498015,0.524592882467042,0.523793059590557,0.5242694364936823,0.5216940517992887,0.523688694395854,0.5173923228827106,0.5226735030312065,0.5126155533730387,0.5194263971349524,0.5307084795037234,0.5306642666251952,0.5298700376534597,0.5303658732703265,0.5271630673934256,0.5293876329757552,0.5220313484381411,0.528384733807866,0.5160420055395311,0.5248027364613111,0.5288646170098897,0.5290044732119988,0.5284732723015082,0.5287258749814046,0.525262441402734,0.5274266446360721,0.5195947421322293,0.5261391090570138,0.5126170652895712,0.5224328722867735,0.5273293485640796,0.527170164823719,0.5265720343655723,0.5275484472552366,0.5235187903131648,0.5258431469676743,0.5169308411735479,0.524231709443682,0.5095570928824772,0.5207600473400319,0.525422366251554,0.5256268464536662,0.5247662961480122,0.525751290324538,0.5215051931380593,0.5240652975980509,0.5147636172456473,0.5221939272848937,0.5067297798187838,0.5185203840895872,0.5217464581514903,0.5220919984352224,0.5209475630304105,0.5219433412182983,0.5176972455186931,0.5204195630324225,0.5107358088074385,0.5184829610091894,0.5021242628733239,0.5147155153937646,0.5163983560144292,0.5170811952559305,0.5155287642535998,0.5166073633822944,0.512139344150434,0.5151042945992393,0.5048225507746562,0.5129145191962167,0.4965807492479743,0.5096547697141072,0.5133560481658737,0.5133022262541452,0.5120021684213248,0.5130616622877602,0.5086853759147438,0.5115194171522511,0.5009873862733459,0.5093969504750866,0.492962050096657,0.5059888819631956,0.5102376012945303,0.5098852441356364,0.5091359665316427,0.5097542902234824,0.5052804706257459,0.5081165282990994,0.49753636184721534,0.5059523052187559,0.4890858623790119,0.5025659113655921,0.5059994583278087,0.50558116813125,0.5048209511187902,0.5057764583538671,0.5014206975792421,0.5041792882686558,0.49367544399401037,0.5020431121006295,0.48443058286123025,0.49837690023911574,0.502815051060236,0.5024106451013027,0.5017771545413082,0.5022518801559992,0.4978247263200432,0.5008590374799307,0.4901309012779691,0.4983071543835445,0.48117448397686174,0.4948691678142047,0.5005688160819242,0.49996244513558585,0.4992225225233947,0.5003485517039364,0.49544714240745674,0.49871368756599005,0.4875724503695469,0.49606972621103607,0.47856437338895524,0.4927661992033141,0.4979091876068414,0.49750248226900173,0.49646880752641875,0.49749836853055907,0.4927327167891558,0.49584118472014405,0.4853319333734643,0.4935081371403312,0.47572733121168337,0.49026866850631934,0.49513327806775426,0.4950052368281314,0.49387469655629435,0.49476694341108945,0.49012748111711285,0.49347514514899826,0.4820204778461441,0.49092196288673423,0.4729481430186594,0.4874242702019169,0.49343742557720455,0.493375474874468,0.4922451949504297,0.49296776423282085,0.4885016576607945,0.49176869872375517,0.48037481760238504,0.48922466426954225,0.4713612921881257,0.48553384444878117,0.49182152145892466,0.49175466011908436,0.4909519615091958,0.4914693412789632,0.48727595377472477,0.49005566623089164,0.47886061237691774,0.48760309585611317,0.4700421903986364,0.48417707003616267,0.49038553783383454,0.48982111146771645,0.4889750594573899,0.48992986415273365,0.4852642274395921,0.488513201124593,0.477369313093148,0.48586914759219973,0.4678824560699033,0.48256157337045236,0.48864275393770457,0.48839221223030904,0.48779510366682205,0.4885322848856844,0.48399337425207106,0.48699309474501035,0.4755211095420525,0.4843512720713969,0.46641445494589956,0.4810694120497177,0.48771737471288684,0.4874927759367886,0.4865809234780073,0.4876075998053725,0.482997191251889,0.4858953147671708,0.4748971708684577,0.4832535690796465,0.4655121175466277,0.4799779905681365,0.48704474225664657,0.4866515879196287,0.48520388587740915,0.48652531326597515,0.4818665832241508,0.4853930065901131,0.47403386054793706,0.4823087212936245,0.4644313011789412,0.47937956667511783,0.48554149877281094,0.48515965492245317,0.4843328937663438,0.48524279403192866,0.48036926433445737,0.48392440408091436,0.47272299468309537,0.481179512037119,0.4631844583325341,0.47790696367528135,0.48453220847023293,0.48472910603631786,0.48365163289981417,0.48451413415322275,0.4798448593211344,0.4830958039038508,0.47165700011880946,0.480811044905563,0.46297611671322847,0.4768650698642142,0.4841805424881992,0.4838633326068988,0.48268324884620634,0.4835355297762322,0.4791240671024611,0.48229277227006495,0.47133138232296035,0.47964553387209113,0.4621484708403805,0.476250774838137,0.4832219468349794,0.48278708480490895,0.48207258474510845,0.4830165776803311,0.47819335881912467,0.4815285137441373,0.470427198776614,0.4788789275618583,0.461087418046211,0.4756092580215171,0.4826285501548168,0.48246858529065295,0.48129534108233857,0.482107407787942,0.4775407677119005,0.4805947202981351,0.46991596559304105,0.4782789550392656,0.4601666066454863,0.4747522829756123,0.48196915478005087,0.4818189702667779,0.4804737348180267,0.4814758239567319,0.4768223902734242,0.48006321984201455,0.4691559921292121,0.47764726572171806,0.4600699523621976,0.4740885138521143,0.48128162372547934,0.4808524879428116,0.4799796140673091,0.4810273112842804,0.47623679503302757,0.47985754629729793,0.46861165633541013,0.4769058415160412,0.45884664845513684,0.47392271032505795,0.4809833003427409,0.48056484841645947,0.47940411520263865,0.4803902161984541,0.4755436824172064,0.47897447222859807,0.46774492870304,0.4765830724781064,0.458513776238214,0.47339711352870734,0.4804531775953052,0.48023340022514954,0.4789863873556105,0.4796159561297705,0.4752315300803251,0.4784810874673488,0.4674080845582331,0.47604260003325255,0.4581201122662682,0.4727774942386063,0.4794974637946296,0.4797145378370434,0.478864564391432,0.4791941645507501,0.47457775900787846,0.47815880424471974,0.4668173034006284,0.4756419393227971,0.4576935106083194,0.4721107268932479,0.47963476386243775,0.4787272257653051,0.4782355725333433,0.47912682184489364,0.4739560835008422,0.4775343582169942,0.4667219801207997,0.47518316143926687,0.45709211660832993,0.4719289648052013,0.478982268114846,0.4783366809031302,0.4778448285740922,0.478667048150322,0.47363215308297413,0.47711674550603733,0.46588737624852083,0.4744027915494834,0.4570463894657759,0.4713996631760775,0.478526970353374,0.4783552172773898,0.4773573130028051,0.4782912372707048,0.47335166562496156,0.47684571910057605,0.46602459009094466,0.4742298511301666,0.4566449446377583,0.4711097635086744,0.4782081104136057,0.47804185653947157,0.47689044961456495,0.4778903790715283,0.4728965130667506,0.4765879386459308,0.46523816686177816,0.4738720657557973,0.4563165054805873,0.470873508811131,0.4780772273025968,0.4775757698533746,0.4764292123892156,0.4772715565912566,0.4729296855202324,0.47609988597083813,0.4651470620661524,0.47361505251304464,0.4558852731516447,0.4706813139515282,0.47770780883672764,0.4772589204636527,0.47615459107325403,0.476923584294739,0.4725617550236466,0.4761491288372685,0.464554070218673,0.473284926120893,0.45552312196686384,0.47008800138705314,0.4770946067761466,0.4771443960161362,0.47595950132077763,0.47669858274365584,0.4722711428467487,0.4754039397349723,0.4646304002178323,0.47293263390580026,0.4554086467821819,0.46963568104960657,0.4772505189709542,0.47654175301313384,0.47555084648673296,0.4767920687455938,0.47199973918020105,0.47524183114734403,0.4640075738728894,0.47235639181737554,0.4552453678069061,0.4693701807591636,0.47675859180202496,0.4764029378786919,0.4753754462057609,0.4767984998022774,0.471775161775778,0.47480676605179534,0.46396612936268766,0.4723175144142276,0.4547173549296218,0.4691147787532059,0.4764078025511423,0.47617045636452027,0.4751854474265866,0.4762577660615039,0.4712381405944552,0.4748116422077554,0.46357192046871165,0.4720194313061679,0.4547078142490777,0.46891621886470786,0.4765768478336789,0.4759965634184165,0.47461675206155607,0.4759494041907953,0.4711068908140433,0.47450996361496944,0.4633626017658589,0.47199813121392575,0.4545730843702553,0.4685524653126831,0.4760741642335818,0.475861348737573,0.4745583405274549,0.4757096488339421,0.471031003802891,0.4742434798839855,0.46304432414908087,0.4719417388334207,0.454448253588855,0.4682771520781789,0.47574011781408576,0.4757436274114172,0.474517627950503,0.47556513938324024,0.4709473369868009,0.47400062698857076,0.46288214286094764,0.4715779333301816,0.4540130000986978,0.4681865330433209,0.4755825558247182,0.47552123810014435,0.4746811749661734,0.47502024681339483,0.47042425221985906,0.473764490463138,0.4625377885725775,0.4712264576256609,0.4542122333253897,0.467681265127425,0.475753882569709,0.47510084734682706,0.4740617815901585,0.47478085237817186,0.47058493008386737,0.47360091964145834,0.46273372484072584,0.47113401913985775,0.4536300222691833,0.46752177247159193,0.4751074691522844,0.47484978355173724,0.47404293655089064,0.47516339945470243,0.47033367807289284,0.4733608255389187,0.46252766175848753,0.47104502427608463,0.4535347101965187,0.46751813760979205,0.4751915551375531,0.4750082627879004,0.47391264989219195,0.47487539579940613,0.4699559344452057,0.4733680812703255,0.46233940692975123,0.47072904235599894,0.4530839932734522,0.46731933930856967,0.475175911817997,0.4746038280064016,0.47355500144507134,0.47443609057745567,0.4699765353406652,0.47342312387884317,0.462091277231405,0.47060050462434183,0.4534213611912788,0.4673271715498425,0.47500636624624176,0.474778321957161,0.4734171529590831,0.47424713914089234,0.4697998211057266,0.472980110120166,0.46208015498618366,0.470969583614012,0.45305176743497505,0.46733217746088196,0.4746499149810101,0.4746282834209695,0.47355643833099587,0.4742783527750377,0.46978630291565987,0.4728502013794181,0.461980672419764,0.4705206187018542,0.45295794830675795,0.46685369213501776,0.4745058935718667,0.4744895181540263,0.4734296309102082,0.4739041666608227,0.4694402479039464,0.4729270487106586,0.46179852692569096,0.4701365716967582,0.45293370985442005,0.4668275090174566,0.47458145004211266,0.47411682027442437,0.4733150432099905,0.4740526401714087,0.4694078537407881,0.47261858436995186,0.46151838487576236,0.4699949305458838,0.4525993174972084,0.4664902134376063,0.47416875361371175,0.4740699598189148,0.4730389267646649,0.4741436058419893,0.4690942387680413,0.4723793436097185,0.46150717901295873,0.4702297638890584,0.45266442723155825,0.4666956628508543,0.47414413481997764,0.47379951665332304,0.472978009164925,0.4735345087291453,0.46923312913743664,0.4725453243424372,0.46150043950984065,0.469911172198763,0.45226651913901783,0.46660715037495165,0.4742112910820824,0.47386598392188717,0.4725157811135947,0.4738678411765068,0.46906882592980514,0.47226881650979136,0.4613677291437177,0.46983317846709455,0.4522133411424282,0.46655024255323324,0.47411987438029196,0.4735734642203087,0.47268851759139596,0.4735981260202388,0.4690558435971371,0.47234938287276035,0.46095911385627747,0.46987322717046104,0.45238880012270316,0.4665145100364175,0.4739765009235169,0.4738068555108367,0.47268957137721446,0.4734586811995252,0.4688961401964814,0.4721299856178391,0.46094062717032125,0.4697598187714572,0.4524553655264012,0.4663040835946636,0.4735123396396144,0.47357559547545774,0.4725464110602296,0.4732059843914732,0.468655568553012,0.4720397271992022,0.4610020661581975,0.46957817841836375,0.45221605809848675,0.4661359067949392,0.4737622160200775,0.4734550270222187,0.4725962310052701,0.4733337821669306,0.4685785526391206,0.47191122554347603,0.4609323266027844,0.46975838666370073,0.45202150561900356,0.4661813115181838,0.4736613132475008,0.47355391292808674,0.47273775027326015,0.4732684774844983,0.4688124033368065,0.4721044179868597,0.46109195427305055,0.4693678387313009,0.45220672880577406,0.466220509611522,0.4733761343250279,0.47340929095559775,0.47244224169519866,0.47327735330303206,0.46849048406659716,0.4714655074593107,0.46109476814960426,0.469504018319253,0.4515551937576477,0.4661512759475979,0.47326155624397875,0.4732147395107709,0.4721991992324749,0.4731183704623693,0.46839752417090835,0.47186135607371793,0.46106256314387833,0.4692961722022862,0.4515999929309878,0.4662484288778127,0.47349023570965476,0.47314203519531206,0.47200043956264004,0.47260690948382755,0.46811260555059375,0.47201373661447577,0.46053136933056577,0.46930609848888216,0.4517686490102692,0.46616032613999353,0.47310863916773516,0.47314027682714627,0.47230801573392345,0.47277385901966074,0.46845872304717384,0.4716301957191028,0.4606793168246763,0.46942489156765566,0.4515189572551105,0.4658219237695119,0.4731353056586838,0.4731806211657232,0.4719753737002917,0.47249515757648103,0.46820273113519995,0.4712241780817891,0.4605296770215405,0.46909191942562883,0.4515509452955244,0.46551977414503204,0.4735141587328458,0.4727941424731811,0.47226035492667323,0.4725146786145468,0.46802643428090984,0.4717380530059727,0.4602953784896326,0.4692448351666356,0.45164068634287874,0.4655774219827249,0.4731466176398313,0.472855346547227,0.4718634409369873,0.4730661667330539,0.4678533953393059,0.4712624711319182,0.4602026499359623,0.46895701184155847,0.4513908196050717,0.46529305477210436,0.4732795326359768,0.4728366503106616,0.47192582295169855,0.47272394148283536,0.4679503141156742,0.4714013599712018,0.4605736714723393,0.46907233280414207,0.4511356981033968,0.46581584073752497,0.47310372313109017,0.47295619625790675,0.47191886068746297,0.4723766269745126,0.46778653990150004,0.4713568217354258,0.46050397263518594,0.4688834017196264,0.4514520376924263,0.46562721230736726,0.4730948711326414,0.47283271129283994,0.4715835179203961,0.47246746106520693,0.46769690742083514,0.4713064603560207,0.45998767436613186,0.46933109309074045,0.4513074481002304,0.4653665659631072,0.47296301742099883,0.47314743494566164,0.4717044976174779,0.4722901658511624,0.46794535508355106,0.4710469554523692,0.45989175039734514,0.46880458979762896,0.45095879638308906,0.4653403758801644,0.47285925602103057,0.47283114324558895,0.47185014982675705,0.47214203921406855,0.4680194858024002,0.4712969165975801,0.4598835424714934,0.4687640964634408,0.45138204578249314,0.46536132237368333,0.4730521575495622,0.4725102492406746,0.4719289447320448,0.47221670659375653,0.46771525008522413,0.4711726491675149,0.4601293538707304,0.46881414436713087,0.4512038320390129,0.4649910170158674,0.47291649383856366,0.47253032595118416,0.4715866190109364,0.47244984907964793,0.46762473295258855,0.4707392758654613,0.45991517560067885,0.4687453361254689,0.45104879803093745,0.465263715370271,0.4727814206998577,0.47226828048324687,0.47132164936508325,0.47237812036170684,0.46750693689997214,0.47115403425801516,0.4601229923838294,0.46864102316981293,0.45132651216526554,0.46503569593471666,0.47274563331007013,0.47215162475534633,0.47150061787859743,0.47208227652901186,0.46795271097736446,0.4711720875477596,0.4600971799333363,0.4685917766250331,0.45090616893046787,0.4651758082172737,0.4728031142611647,0.4724703986640332,0.4717791504844377,0.4720348327558605,0.4675944691260888,0.4709057044176616,0.4597672261133061,0.46852738579521064,0.45096307460701196,0.4649279651385445,0.472702644933489,0.47256836391107987,0.4713816993579381,0.4721044519235862,0.4676768948494498,0.4709168397171344,0.45979992290018745,0.468764628834296,0.45113190345111437,0.4651010718466954,0.47267532179021815,0.47236165075284264,0.47157782131325193,0.4719728218810964,0.46762570749802806,0.47084860391958283,0.45988686040827653,0.4682860757466551,0.4512825292345046,0.4649510701344136,0.47263669078460796,0.4722086449873257,0.47137938438873345,0.4719495631854347,0.46781892809716774,0.47065559358572623,0.4597342062955052,0.46838666368950926,0.4506801702329132,0.4648184704331295,0.4724516589433778,0.4720496229688961,0.47170911702217166,0.47214513661388563,0.4673887894422622,0.4704177323338541,0.459929857278451,0.4681045265631445,0.4508787910671005,0.46468154713694526,0.4726081774768721,0.4721856854921071,0.4712243377663541,0.4720404309296243,0.4671586148231257,0.47067057796704165,0.45995212004844477,0.46846465801357234,0.4509088380758062,0.4649227451128583,0.4724670532902415,0.472233661813132,0.47135823752530126,0.47195081014997864,0.46739334746665606,0.4705425164785399,0.4599261477355142,0.4683837524152893,0.4504902380214773,0.46483634034667193,0.47261156117584946,0.4724762392756144,0.4713935107767597,0.4716448957618749,0.4671419253059245,0.47053016664829417,0.45943511717466956,0.4682871023381233,0.4507102309266406,0.46478482457475695,0.472253388109142,0.47200302346955103,0.4711778458924384,0.4717936310163316,0.46734825320798146,0.4706296575127724,0.45947429987753363,0.4683986578972933,0.4508155634113074,0.46448301651272483,0.4722893963564685,0.47223420030204233,0.471163276294083,0.47171896181532297,0.4670795229771817,0.47032850287142014,0.4600301995776198,0.4682626597276902,0.45068670504081265,0.46457965163576254,0.47268645165408996,0.4716541358158139,0.4711306319205236,0.4718568749557397,0.4673544976200137,0.47034602245908624,0.45969509340955456,0.4680154595921601,0.4505084973887156,0.46465684272391244]},{\"fill\":\"tonexty\",\"fillcolor\":\"rgba(130, 68, 68, 0.5)\",\"line\":{\"width\":0},\"marker\":{\"color\":\"#448\"},\"mode\":\"lines\",\"name\":\"Konfidenzintervall\",\"showlegend\":true,\"type\":\"scatter\",\"y\":[0.48827092090618424,0.4879050205531662,0.4892737037547773,0.48912187922204964,0.48877301896670294,0.4887087026947699,0.48872292590652955,0.4893548127714039,0.4873944896779012,0.4886054816188812,0.4871955407870886,0.4867443843398553,0.4878187418177536,0.4876385115983958,0.4866798866787032,0.4872657911255452,0.48591158940923984,0.4880752692700856,0.483675563097391,0.48626926041546675,0.5097540939409066,0.509543353565845,0.5103100433280529,0.5100473341161595,0.5082383248002311,0.5095068365187441,0.5055879427409881,0.5095694314113139,0.5019640718114649,0.5069425579304492,0.5223730265768134,0.5224513921823613,0.522226450162207,0.5222210741359871,0.5197958678882926,0.5215850502754272,0.5152877071055428,0.5209122135457792,0.5104011007849664,0.5178609422961364,0.5288707914960014,0.5287688140592107,0.5284193741272483,0.528607204005,0.5254846674703739,0.5275986518837985,0.5202310397413024,0.5268411471925005,0.5141622530801163,0.5232995323557866,0.5271660682441018,0.5274425998411606,0.5269071064510082,0.5271688041515943,0.5237771980765626,0.5258327787866645,0.517796732177245,0.5244345270433708,0.5109099517303568,0.5211879651232971,0.5257132546646509,0.525878298482046,0.5251289095342867,0.5262507386624237,0.5220192322211765,0.5240622454126924,0.515606602363896,0.5227955523793791,0.5079464951491316,0.5195717447904339,0.5240919842668881,0.5245797141351713,0.5235512299367562,0.524399552375292,0.5199453924678382,0.5225456234592356,0.5133582147032221,0.5209223892724502,0.5051145931179641,0.517515086071287,0.5205831389087456,0.5209504475711813,0.5195944015841097,0.5208607811914798,0.5165743567070612,0.519019847196735,0.5093325114387888,0.5172488691849426,0.500722492042229,0.5136627271670522,0.5153976579255932,0.5159504375300971,0.51436099681744,0.5154829201550709,0.5109853380036962,0.5139786550597994,0.5034682853857588,0.5117397945678145,0.49494541138870124,0.5087883171670569,0.512235099606049,0.512225474609216,0.5109148336645014,0.5121914642349583,0.5076986039429474,0.5104627562891887,0.49969960441303096,0.5083068810611608,0.4913693419699912,0.5051932567868588,0.509194225978303,0.509117117603152,0.5081898323472244,0.5086767353199226,0.5042342509258431,0.5068968956975637,0.49631072435378026,0.505177040408919,0.4876037436704305,0.5016792991881328,0.5050513358307547,0.5047486951124219,0.503989186792642,0.5047268603999819,0.5002683041077645,0.5032555086298631,0.49235174965869016,0.5008025232783955,0.48317471149926344,0.4975417209772526,0.5019676887929818,0.5013877456879007,0.5008281486792175,0.5012953793901562,0.496930815935628,0.4999128832617479,0.4891326734267588,0.49747468181891236,0.4799367711189499,0.49400607584650075,0.4997278195000357,0.49922343629432997,0.49853025610841484,0.49941047594297167,0.4943780746270852,0.4978423269168291,0.48666888450370605,0.49499124731831967,0.4772968382335549,0.4917908945299535,0.4969774164256003,0.4967556014810488,0.49565598381840836,0.49664340555497344,0.491855230199519,0.49495988126222334,0.4840990763479492,0.49260072122206683,0.4744374945459812,0.48945514102851917,0.4943889260859034,0.4941958250752056,0.49311878515471863,0.4941055736604087,0.4890941191133224,0.4926664202468284,0.4808045469596761,0.4897838095672766,0.4715382062058394,0.4864077787031801,0.49258583874983347,0.49241964044399367,0.49143762253940154,0.4922820841608452,0.4873541491940267,0.4908968545864898,0.47917921675421143,0.48832049406551625,0.47005421664915525,0.484608618064395,0.49097413387564015,0.49105938513915853,0.4901214273993972,0.49058076061003436,0.48620644811702796,0.48901149208425937,0.477720339756977,0.48672219078456447,0.46872273909036777,0.48323978790902283,0.48957700037460117,0.48892608300290075,0.4883370814251427,0.4889507371147991,0.4841871225951646,0.4876180003561053,0.47615840555334665,0.4848591025348677,0.46667934238144737,0.4816008672194412,0.48796746623533455,0.487757033935279,0.48684778271410606,0.487787964247781,0.48287189126922964,0.4863055693071335,0.47442354056389335,0.48348120237275144,0.46503431317077565,0.4800758623490921,0.4871994640755551,0.4866890175389393,0.4858915518712663,0.48672707375241353,0.48199058389189975,0.48495379627931695,0.47382467463575223,0.48235978995251977,0.46427643795951534,0.4790907422252505,0.48632456044963684,0.48586001553321756,0.484349018906436,0.4858746284015577,0.48095376966452236,0.4843289234239103,0.4726555699945685,0.48136420964147214,0.46323054561889715,0.4783291553330232,0.4848275929775381,0.4844767003611955,0.48358981005723967,0.4844069603815038,0.47934325863262783,0.4831394153347279,0.4713784377104608,0.48028359945914717,0.46197722198738145,0.47697722419616834,0.48374898415061063,0.48409531336514783,0.4828460347249831,0.4838217450469262,0.47882222249511563,0.4821204436065551,0.47053453800350803,0.47988915983682295,0.4614224314817851,0.4757917973628464,0.48338108416389947,0.483055794971967,0.4818518637089429,0.48269652862103546,0.47826659471203464,0.48137323310815505,0.47001432704904245,0.47875237895134953,0.46078155230496337,0.47522347256289815,0.482530465991651,0.4819743894678161,0.48120805857755894,0.4819900033663077,0.4772022736315427,0.48054011721713463,0.4692681822380772,0.4779622599765004,0.45969472031474423,0.47472503069409033,0.4818216425693998,0.48150777643760934,0.4804130617036157,0.48147985624148076,0.47660704926330016,0.4796104193870675,0.4685343583636219,0.4773801528950142,0.4588904819378146,0.4738730945450052,0.4813204052345327,0.4808624050145811,0.47977680363721165,0.4807959731813281,0.47592867229419533,0.4793034079199688,0.46761518864179363,0.4767308699220321,0.45867426303066416,0.4731559063961766,0.48055730544015474,0.48010993478923675,0.4791865701948019,0.4802937222538522,0.47513942428348127,0.4790326157212258,0.4674732635137765,0.4760283051559976,0.45769950752999006,0.4729147592389503,0.480261877094778,0.4797594592350692,0.4786157811236957,0.4796653057439927,0.47452524495257836,0.47815431432975414,0.4666166835979864,0.47570317205452617,0.4572738952738815,0.4723821128338262,0.47961872425850155,0.47963407093075966,0.4782270895117571,0.4788057555577666,0.47407139918206936,0.4777763894369213,0.4658921944314158,0.47519389403997453,0.4565826139234735,0.4718591336482458,0.4787661868418462,0.4790592746039592,0.4779448494925149,0.47836195074981963,0.4736012584047026,0.4772058587979113,0.4657074226560211,0.47477885357002636,0.456538741449516,0.47114076683380773,0.4789237461144047,0.4780848939914906,0.4774835531162865,0.4782077213250304,0.47300886389880237,0.47674918189512094,0.46567940407365616,0.474325330236796,0.45590047682056634,0.47091937599161127,0.47831152777679975,0.4776663173390011,0.4769552785097036,0.47788700310953847,0.47281270401866826,0.4763393293227337,0.4647447307899272,0.4735574318220951,0.45569341387809226,0.47023876117999786,0.47789235291990884,0.47767539579443813,0.4765014744994725,0.4775677115584194,0.4724851156046779,0.47618189654664966,0.46474879485821774,0.4731378864805119,0.4552777556717559,0.47014285418436375,0.477494303974267,0.4773584640738629,0.476146735496802,0.47707550560322043,0.4719786166385792,0.47566423224238913,0.46405845914347815,0.47295902043753235,0.45492804902897993,0.46998904942501907,0.47734635421463195,0.47678626647223843,0.47565505621274856,0.4765158269858604,0.4720493640679604,0.47514803345094286,0.46387494467736445,0.47261112689893453,0.45459000294841506,0.46952888098575535,0.47691187974068844,0.47661215374841204,0.4753531091780517,0.47621661917552105,0.471387413588507,0.4750464043605515,0.46367352007837925,0.47230496159841984,0.45411194450144843,0.4690279240109357,0.47636570194303424,0.4763711744838141,0.4752025152680465,0.47595432845106145,0.4712844793609094,0.4743859259439225,0.4634318555885356,0.47201478727920393,0.45397225569182925,0.46874352056899576,0.4765567407248133,0.4757337956779222,0.4747261599313245,0.4758670626879145,0.4709716051051311,0.4745871664907991,0.4629936247782017,0.47151599705976477,0.45380778187322773,0.4683980041753276,0.47591711660803615,0.47561557165028223,0.4745102725024445,0.47596110510484957,0.47074390944146366,0.4739703502538885,0.4628001149505754,0.4714861862693657,0.4532595436925068,0.4680139701058959,0.4754862549805305,0.4755744601449925,0.47433893503358154,0.4754382378323276,0.4704658007050189,0.4740467409187292,0.4624592572500633,0.4709790057731142,0.4531364473207107,0.46792587289331206,0.4760339560911298,0.4751967085580024,0.4737747984105737,0.4752131405386671,0.47014568638324145,0.47354902978540125,0.46214046382449475,0.47098826290108997,0.4531554239242906,0.46749938039034694,0.4754784915397285,0.4750153407131972,0.47381953563414697,0.4750613439530002,0.4698695418703328,0.47342074970003634,0.46190825770161165,0.4709171181991091,0.4531327233815122,0.46742383972878465,0.47492876912978754,0.4751141752559983,0.47379491133339036,0.4747020637978105,0.4698133059663294,0.47317864503446466,0.4617319285014527,0.47056045233526733,0.4523380931371429,0.4671773605111056,0.4747657748480346,0.47480549850101106,0.47363350152861766,0.47422401919462265,0.4693811282244047,0.4729830587836176,0.4612751270857079,0.4703603949367499,0.4528265379310999,0.46671729489912783,0.4747567178470197,0.4743678845421248,0.47335253718376075,0.4740437853882286,0.46958085861116716,0.47262807685534625,0.4614859868646146,0.4701950873985634,0.45221016034584643,0.46660841030706474,0.4743461457366568,0.4742106677127902,0.47321019998711517,0.4742438101892599,0.46907100290858905,0.4726725870078621,0.4613706465885254,0.46997028099592,0.4521837923727515,0.46644335526255226,0.4744012139957961,0.4740886276817472,0.47324064748601313,0.4740219808199077,0.46907148582447716,0.47260385730026555,0.4612006807591709,0.4698750280524833,0.4518402566982524,0.46636950021648277,0.474382964558398,0.4737702690824018,0.4727252353246162,0.4738325840594973,0.46893797574972085,0.47244244386342554,0.4609499004158194,0.4696384725587764,0.4520375399467756,0.4663546533400199,0.4741854315383173,0.47409801224756115,0.4726758225107856,0.47363087983765795,0.4689512556016353,0.47208501466485525,0.46076373022099043,0.4698844734315195,0.4516462380965381,0.4663782589557167,0.47376489171939756,0.4739132519844459,0.47296100160790316,0.4734722549849577,0.46885221725418885,0.4720687769740218,0.46065159858216315,0.4697067642401102,0.4517073531970036,0.4659271498097783,0.4736470242363451,0.47370354355933075,0.47273577788094756,0.47314819764601235,0.4684446930320834,0.47206104226160794,0.46071056913214864,0.4694089150352619,0.4516066834591319,0.4658897642679083,0.4738116791174008,0.4733111837534466,0.4724307876271354,0.47304815314319537,0.4682478056955397,0.47178669108972393,0.4605206172740455,0.46914092644958305,0.4511269133191662,0.46556920241192856,0.473395341116755,0.47335360740023574,0.472327773242129,0.4734367133667469,0.4682267813284681,0.47158339859118853,0.46043379262983414,0.4691262871924938,0.45152054748374143,0.4655723027225518,0.47337825466924843,0.47293258571382907,0.4721207206272246,0.47283970303503425,0.4682150879667205,0.47171540125217365,0.46042810736349704,0.469104936455906,0.45078009270328245,0.46580540824709565,0.4736114789030603,0.47316769665098013,0.4717383022945282,0.4731631406095851,0.4679963558833873,0.4714423343829396,0.4600402937633178,0.4689367431013816,0.4509248848104725,0.4653731039778544,0.47347287136183475,0.4728287127515813,0.4718269998215935,0.472832872421509,0.46802690149455445,0.47143383821794677,0.4598550684212706,0.4689557172634596,0.4508994358192953,0.46542627912017137,0.4730411751023334,0.47309622341222834,0.4717760838717755,0.4726808714525262,0.4676422487920415,0.47132873109902235,0.4597445671725914,0.46902965767111116,0.45088392704001623,0.4652591427717192,0.4728075872020036,0.47279963556221843,0.4715201360891927,0.47227502958255474,0.46770481407849024,0.4711797976511688,0.45991714814882767,0.4686994005858867,0.45084920193453093,0.4653053714501403,0.4729473497392699,0.4725209928616078,0.4718235812938775,0.47238733209669065,0.46768602143721094,0.4712315231656878,0.45984280907752795,0.46882528805389734,0.45051850578387087,0.46506854018708715,0.4728705893313385,0.4727822741189707,0.4718606240792078,0.472422175112841,0.4678700508909365,0.47123209627951385,0.45983482130029135,0.46854109209801337,0.4509646015841604,0.46511841762208134,0.47268050084564783,0.47261333914479803,0.4718224268862833,0.4724077852071326,0.4674414895321268,0.4708873182605726,0.45989308875956736,0.4684292571856045,0.45023120090060637,0.4650447661470449,0.4724742706219149,0.472520553166435,0.47139714285594636,0.4724376672271186,0.4674370754797,0.4711695303086296,0.45980594869934127,0.4683858768954246,0.4502370084533949,0.465016605651818,0.472654787652105,0.4725059750514581,0.47101079939961954,0.4719674702296799,0.46724628304999827,0.4711219563337541,0.4592483546437594,0.4685248548599388,0.45028381878033324,0.4649150407012382,0.47221951646119664,0.47253727135940055,0.47145543782762955,0.4719815553543303,0.467325077059524,0.47052535225244974,0.4595362741705045,0.4686152459303241,0.4500991177629712,0.4650199310910528,0.4723946109909617,0.4724557402421678,0.47124192827616723,0.4717236820919532,0.4674101049474977,0.4703964244769952,0.45940860673657063,0.46824624952217536,0.45001706791873775,0.4644931929025207,0.47267145894147683,0.47221404114629073,0.4714456069555822,0.47160666318384153,0.46707609772786407,0.47094381921120076,0.45929994908465216,0.4683475330152892,0.4501461424217414,0.4646526358709596,0.47230678262549713,0.47218387867033235,0.4710115840587731,0.4722757499839789,0.4669830110009068,0.4704434051855948,0.45915020846618176,0.4682291024030113,0.44996482940189025,0.4642920450632987,0.47236674425422653,0.4720633381654584,0.47113691137499175,0.47192836410958594,0.4669978718889578,0.47046800355079677,0.4593718983069478,0.4681941069342399,0.4498921267722443,0.46490648939720886,0.47215619850199386,0.4722663174569097,0.4711569858503207,0.47168966988632505,0.46688208436078454,0.47039010724624564,0.4592319295455507,0.4679363315471652,0.4499777766211405,0.4644359880722836,0.4722318314665654,0.47221731172554765,0.4708397213090988,0.47165911750237216,0.4667205326579422,0.47038755809722793,0.45887481762826365,0.4682369482189445,0.4499320905206252,0.46426241381405287,0.4722419044061443,0.4724014452694308,0.4708874857392005,0.4715219307934598,0.4669054897175007,0.470215010121776,0.4588323278002508,0.4680687683371426,0.44979840211596783,0.464415842679165,0.47210050777814067,0.47190183304908895,0.4711677460273021,0.4714127205220309,0.4670760125989311,0.4704544942817568,0.4587435380083112,0.46779481313726917,0.44996045533316503,0.46441278315181433,0.4721908706522714,0.47185865081899986,0.4711393217167243,0.47149836741622114,0.4668916832494587,0.47039289218450897,0.45896693930288035,0.46782397703889744,0.4497145938563631,0.4640379921494391,0.47211328697735294,0.47181760059924516,0.4708808854691883,0.471632939589294,0.46650842770949097,0.46997957451475075,0.4586926628783654,0.46789054679804337,0.4497134651742748,0.4643468613631643,0.4721214428483769,0.471598074328053,0.470575698941913,0.47169176968624577,0.466685974955395,0.47058759013400364,0.45904477702970586,0.46761923479972156,0.4500505572556479,0.46386912352548376,0.4718720341793333,0.47152720596405306,0.47060229535047926,0.47149333441493674,0.4668735514725104,0.47035608958863545,0.4588282017458103,0.46778949457970914,0.4496019055287671,0.46412035653419775,0.47206331107993815,0.4717960503335026,0.47089755342189904,0.47116427348710904,0.4667948098711684,0.4700281772720703,0.45865418097803956,0.4676530018011505,0.4495850384266504,0.46391969967420055,0.4718480192849127,0.47171345935596937,0.4706353586185617,0.47125391997693933,0.4665053766562733,0.46998030174487015,0.4584295058829483,0.4677726759605912,0.44965104265263106,0.46419473999909594,0.4719465492755523,0.4717217681891548,0.4707303117815029,0.4713629338477446,0.46669567699445974,0.4701011360361478,0.4589129245993898,0.4672586294319451,0.44992835355944527,0.4640405765486899,0.4719121717165396,0.47147049278300185,0.47068408125579847,0.47112166994146043,0.466742901754964,0.4697965710624061,0.45839007952225996,0.46744642762172856,0.44919314742018157,0.4636809597624285,0.4718314095036229,0.47136809106311883,0.47087859699293144,0.4712983771276524,0.46634040775806646,0.4695612326575309,0.4585188615366342,0.4671372309021302,0.44940940918182937,0.4637648734017053,0.47182288321275145,0.4714771670091213,0.4705017222793273,0.47132486906044274,0.46639544907110453,0.4697747827275302,0.45872959718329964,0.4674374797064192,0.44958523735808453,0.4640447884755083,0.471896542649487,0.47151838575434857,0.4705470016052562,0.47114848722573943,0.4665398376720561,0.46978287400903224,0.45862428974182623,0.46728799809680877,0.44921263273851314,0.46381957052470796,0.4718437290193034,0.47166313888335015,0.4706127218109255,0.47105620709917356,0.4664224181719127,0.46953517564445113,0.4581058772633595,0.46730420793387006,0.44907366087707273,0.4638374106494357,0.4714733886267359,0.47137821796184565,0.47049453230743377,0.47105517381961554,0.4663492190903339,0.46989554921098187,0.4581710939268768,0.46752339606574556,0.44951260775772034,0.46347726733913286,0.47160998242845065,0.4714464876125227,0.4703375074934561,0.4709463782267412,0.46597194357936533,0.4695775854708999,0.4588346745715537,0.4673433932162553,0.4493800601566962,0.4636414417316279,0.4717683504110777,0.4709064063150837,0.47021213784258453,0.4708189292464542,0.4663577279621173,0.4696271205721992,0.4584938256722641,0.46695348211544335,0.4492022803642512,0.46375576651139344]}],                        {\"template\":{\"data\":{\"bar\":[{\"error_x\":{\"color\":\"#2a3f5f\"},\"error_y\":{\"color\":\"#2a3f5f\"},\"marker\":{\"line\":{\"color\":\"#E5ECF6\",\"width\":0.5},\"pattern\":{\"fillmode\":\"overlay\",\"size\":10,\"solidity\":0.2}},\"type\":\"bar\"}],\"barpolar\":[{\"marker\":{\"line\":{\"color\":\"#E5ECF6\",\"width\":0.5},\"pattern\":{\"fillmode\":\"overlay\",\"size\":10,\"solidity\":0.2}},\"type\":\"barpolar\"}],\"carpet\":[{\"aaxis\":{\"endlinecolor\":\"#2a3f5f\",\"gridcolor\":\"white\",\"linecolor\":\"white\",\"minorgridcolor\":\"white\",\"startlinecolor\":\"#2a3f5f\"},\"baxis\":{\"endlinecolor\":\"#2a3f5f\",\"gridcolor\":\"white\",\"linecolor\":\"white\",\"minorgridcolor\":\"white\",\"startlinecolor\":\"#2a3f5f\"},\"type\":\"carpet\"}],\"choropleth\":[{\"colorbar\":{\"outlinewidth\":0,\"ticks\":\"\"},\"type\":\"choropleth\"}],\"contour\":[{\"colorbar\":{\"outlinewidth\":0,\"ticks\":\"\"},\"colorscale\":[[0.0,\"#0d0887\"],[0.1111111111111111,\"#46039f\"],[0.2222222222222222,\"#7201a8\"],[0.3333333333333333,\"#9c179e\"],[0.4444444444444444,\"#bd3786\"],[0.5555555555555556,\"#d8576b\"],[0.6666666666666666,\"#ed7953\"],[0.7777777777777778,\"#fb9f3a\"],[0.8888888888888888,\"#fdca26\"],[1.0,\"#f0f921\"]],\"type\":\"contour\"}],\"contourcarpet\":[{\"colorbar\":{\"outlinewidth\":0,\"ticks\":\"\"},\"type\":\"contourcarpet\"}],\"heatmap\":[{\"colorbar\":{\"outlinewidth\":0,\"ticks\":\"\"},\"colorscale\":[[0.0,\"#0d0887\"],[0.1111111111111111,\"#46039f\"],[0.2222222222222222,\"#7201a8\"],[0.3333333333333333,\"#9c179e\"],[0.4444444444444444,\"#bd3786\"],[0.5555555555555556,\"#d8576b\"],[0.6666666666666666,\"#ed7953\"],[0.7777777777777778,\"#fb9f3a\"],[0.8888888888888888,\"#fdca26\"],[1.0,\"#f0f921\"]],\"type\":\"heatmap\"}],\"heatmapgl\":[{\"colorbar\":{\"outlinewidth\":0,\"ticks\":\"\"},\"colorscale\":[[0.0,\"#0d0887\"],[0.1111111111111111,\"#46039f\"],[0.2222222222222222,\"#7201a8\"],[0.3333333333333333,\"#9c179e\"],[0.4444444444444444,\"#bd3786\"],[0.5555555555555556,\"#d8576b\"],[0.6666666666666666,\"#ed7953\"],[0.7777777777777778,\"#fb9f3a\"],[0.8888888888888888,\"#fdca26\"],[1.0,\"#f0f921\"]],\"type\":\"heatmapgl\"}],\"histogram\":[{\"marker\":{\"pattern\":{\"fillmode\":\"overlay\",\"size\":10,\"solidity\":0.2}},\"type\":\"histogram\"}],\"histogram2d\":[{\"colorbar\":{\"outlinewidth\":0,\"ticks\":\"\"},\"colorscale\":[[0.0,\"#0d0887\"],[0.1111111111111111,\"#46039f\"],[0.2222222222222222,\"#7201a8\"],[0.3333333333333333,\"#9c179e\"],[0.4444444444444444,\"#bd3786\"],[0.5555555555555556,\"#d8576b\"],[0.6666666666666666,\"#ed7953\"],[0.7777777777777778,\"#fb9f3a\"],[0.8888888888888888,\"#fdca26\"],[1.0,\"#f0f921\"]],\"type\":\"histogram2d\"}],\"histogram2dcontour\":[{\"colorbar\":{\"outlinewidth\":0,\"ticks\":\"\"},\"colorscale\":[[0.0,\"#0d0887\"],[0.1111111111111111,\"#46039f\"],[0.2222222222222222,\"#7201a8\"],[0.3333333333333333,\"#9c179e\"],[0.4444444444444444,\"#bd3786\"],[0.5555555555555556,\"#d8576b\"],[0.6666666666666666,\"#ed7953\"],[0.7777777777777778,\"#fb9f3a\"],[0.8888888888888888,\"#fdca26\"],[1.0,\"#f0f921\"]],\"type\":\"histogram2dcontour\"}],\"mesh3d\":[{\"colorbar\":{\"outlinewidth\":0,\"ticks\":\"\"},\"type\":\"mesh3d\"}],\"parcoords\":[{\"line\":{\"colorbar\":{\"outlinewidth\":0,\"ticks\":\"\"}},\"type\":\"parcoords\"}],\"pie\":[{\"automargin\":true,\"type\":\"pie\"}],\"scatter\":[{\"marker\":{\"colorbar\":{\"outlinewidth\":0,\"ticks\":\"\"}},\"type\":\"scatter\"}],\"scatter3d\":[{\"line\":{\"colorbar\":{\"outlinewidth\":0,\"ticks\":\"\"}},\"marker\":{\"colorbar\":{\"outlinewidth\":0,\"ticks\":\"\"}},\"type\":\"scatter3d\"}],\"scattercarpet\":[{\"marker\":{\"colorbar\":{\"outlinewidth\":0,\"ticks\":\"\"}},\"type\":\"scattercarpet\"}],\"scattergeo\":[{\"marker\":{\"colorbar\":{\"outlinewidth\":0,\"ticks\":\"\"}},\"type\":\"scattergeo\"}],\"scattergl\":[{\"marker\":{\"colorbar\":{\"outlinewidth\":0,\"ticks\":\"\"}},\"type\":\"scattergl\"}],\"scattermapbox\":[{\"marker\":{\"colorbar\":{\"outlinewidth\":0,\"ticks\":\"\"}},\"type\":\"scattermapbox\"}],\"scatterpolar\":[{\"marker\":{\"colorbar\":{\"outlinewidth\":0,\"ticks\":\"\"}},\"type\":\"scatterpolar\"}],\"scatterpolargl\":[{\"marker\":{\"colorbar\":{\"outlinewidth\":0,\"ticks\":\"\"}},\"type\":\"scatterpolargl\"}],\"scatterternary\":[{\"marker\":{\"colorbar\":{\"outlinewidth\":0,\"ticks\":\"\"}},\"type\":\"scatterternary\"}],\"surface\":[{\"colorbar\":{\"outlinewidth\":0,\"ticks\":\"\"},\"colorscale\":[[0.0,\"#0d0887\"],[0.1111111111111111,\"#46039f\"],[0.2222222222222222,\"#7201a8\"],[0.3333333333333333,\"#9c179e\"],[0.4444444444444444,\"#bd3786\"],[0.5555555555555556,\"#d8576b\"],[0.6666666666666666,\"#ed7953\"],[0.7777777777777778,\"#fb9f3a\"],[0.8888888888888888,\"#fdca26\"],[1.0,\"#f0f921\"]],\"type\":\"surface\"}],\"table\":[{\"cells\":{\"fill\":{\"color\":\"#EBF0F8\"},\"line\":{\"color\":\"white\"}},\"header\":{\"fill\":{\"color\":\"#C8D4E3\"},\"line\":{\"color\":\"white\"}},\"type\":\"table\"}]},\"layout\":{\"annotationdefaults\":{\"arrowcolor\":\"#2a3f5f\",\"arrowhead\":0,\"arrowwidth\":1},\"autotypenumbers\":\"strict\",\"coloraxis\":{\"colorbar\":{\"outlinewidth\":0,\"ticks\":\"\"}},\"colorscale\":{\"diverging\":[[0,\"#8e0152\"],[0.1,\"#c51b7d\"],[0.2,\"#de77ae\"],[0.3,\"#f1b6da\"],[0.4,\"#fde0ef\"],[0.5,\"#f7f7f7\"],[0.6,\"#e6f5d0\"],[0.7,\"#b8e186\"],[0.8,\"#7fbc41\"],[0.9,\"#4d9221\"],[1,\"#276419\"]],\"sequential\":[[0.0,\"#0d0887\"],[0.1111111111111111,\"#46039f\"],[0.2222222222222222,\"#7201a8\"],[0.3333333333333333,\"#9c179e\"],[0.4444444444444444,\"#bd3786\"],[0.5555555555555556,\"#d8576b\"],[0.6666666666666666,\"#ed7953\"],[0.7777777777777778,\"#fb9f3a\"],[0.8888888888888888,\"#fdca26\"],[1.0,\"#f0f921\"]],\"sequentialminus\":[[0.0,\"#0d0887\"],[0.1111111111111111,\"#46039f\"],[0.2222222222222222,\"#7201a8\"],[0.3333333333333333,\"#9c179e\"],[0.4444444444444444,\"#bd3786\"],[0.5555555555555556,\"#d8576b\"],[0.6666666666666666,\"#ed7953\"],[0.7777777777777778,\"#fb9f3a\"],[0.8888888888888888,\"#fdca26\"],[1.0,\"#f0f921\"]]},\"colorway\":[\"#636efa\",\"#EF553B\",\"#00cc96\",\"#ab63fa\",\"#FFA15A\",\"#19d3f3\",\"#FF6692\",\"#B6E880\",\"#FF97FF\",\"#FECB52\"],\"font\":{\"color\":\"#2a3f5f\"},\"geo\":{\"bgcolor\":\"white\",\"lakecolor\":\"white\",\"landcolor\":\"#E5ECF6\",\"showlakes\":true,\"showland\":true,\"subunitcolor\":\"white\"},\"hoverlabel\":{\"align\":\"left\"},\"hovermode\":\"closest\",\"mapbox\":{\"style\":\"light\"},\"paper_bgcolor\":\"white\",\"plot_bgcolor\":\"#E5ECF6\",\"polar\":{\"angularaxis\":{\"gridcolor\":\"white\",\"linecolor\":\"white\",\"ticks\":\"\"},\"bgcolor\":\"#E5ECF6\",\"radialaxis\":{\"gridcolor\":\"white\",\"linecolor\":\"white\",\"ticks\":\"\"}},\"scene\":{\"xaxis\":{\"backgroundcolor\":\"#E5ECF6\",\"gridcolor\":\"white\",\"gridwidth\":2,\"linecolor\":\"white\",\"showbackground\":true,\"ticks\":\"\",\"zerolinecolor\":\"white\"},\"yaxis\":{\"backgroundcolor\":\"#E5ECF6\",\"gridcolor\":\"white\",\"gridwidth\":2,\"linecolor\":\"white\",\"showbackground\":true,\"ticks\":\"\",\"zerolinecolor\":\"white\"},\"zaxis\":{\"backgroundcolor\":\"#E5ECF6\",\"gridcolor\":\"white\",\"gridwidth\":2,\"linecolor\":\"white\",\"showbackground\":true,\"ticks\":\"\",\"zerolinecolor\":\"white\"}},\"shapedefaults\":{\"line\":{\"color\":\"#2a3f5f\"}},\"ternary\":{\"aaxis\":{\"gridcolor\":\"white\",\"linecolor\":\"white\",\"ticks\":\"\"},\"baxis\":{\"gridcolor\":\"white\",\"linecolor\":\"white\",\"ticks\":\"\"},\"bgcolor\":\"#E5ECF6\",\"caxis\":{\"gridcolor\":\"white\",\"linecolor\":\"white\",\"ticks\":\"\"}},\"title\":{\"x\":0.05},\"xaxis\":{\"automargin\":true,\"gridcolor\":\"white\",\"linecolor\":\"white\",\"ticks\":\"\",\"title\":{\"standoff\":15},\"zerolinecolor\":\"white\",\"zerolinewidth\":2},\"yaxis\":{\"automargin\":true,\"gridcolor\":\"white\",\"linecolor\":\"white\",\"ticks\":\"\",\"title\":{\"standoff\":15},\"zerolinecolor\":\"white\",\"zerolinewidth\":2}}}},                        {\"responsive\": true}                    ).then(function(){\n                            \nvar gd = document.getElementById('823c3bad-d88a-40f3-8f1c-790a784a2b64');\nvar x = new MutationObserver(function (mutations, observer) {{\n        var display = window.getComputedStyle(gd).display;\n        if (!display || display === 'none') {{\n            console.log([gd, 'removed!']);\n            Plotly.purge(gd);\n            observer.disconnect();\n        }}\n}});\n\n// Listen for the removal of the full notebook cells\nvar notebookContainer = gd.closest('#notebook-container');\nif (notebookContainer) {{\n    x.observe(notebookContainer, {childList: true});\n}}\n\n// Listen for the clearing of the current output cell\nvar outputEl = gd.closest('.output');\nif (outputEl) {{\n    x.observe(outputEl, {childList: true});\n}}\n\n                        })                };                });            </script>        </div>"
     },
     "metadata": {},
     "output_type": "display_data"
    }
   ],
   "source": [
    "myFig2 = go.Figure([\n",
    "    go.Scatter(\n",
    "        name='Mittelwert',\n",
    "        #x=df['tick'],\n",
    "        y=reset_df['mean'],\n",
    "        mode='lines',\n",
    "        line=dict(color='rgb(31, 119, 255)'),\n",
    "    ),\n",
    "    go.Scatter(\n",
    "        name='Median',\n",
    "        #x=df['tick'],\n",
    "        y=reset_df['median'],\n",
    "        mode='lines',\n",
    "        line=dict(color='rgb(31, 255, 180)'),\n",
    "    ),\n",
    "    go.Scatter(\n",
    "        name='Max',\n",
    "        #x=df['tick'],\n",
    "        y=reset_df['max'],\n",
    "        mode='lines',\n",
    "        marker=dict(color=\"#484\"),\n",
    "        line=dict(width=0),\n",
    "        showlegend=True\n",
    "    ),\n",
    "    go.Scatter(\n",
    "        name='Min',\n",
    "        #x=df['tick'],\n",
    "        y=reset_df['min'],\n",
    "        marker=dict(color=\"#464\"),\n",
    "        line=dict(width=0),\n",
    "        mode='lines',\n",
    "        fillcolor='rgba(68, 130, 68, 0.3)',\n",
    "        fill='tonexty',\n",
    "        showlegend=True\n",
    "    ),\n",
    "    go.Scatter(\n",
    "        name='Konfidenzintervall',\n",
    "        #x=df['tick'],\n",
    "        y=reset_df['ci95_hi'],\n",
    "        mode='lines',\n",
    "        marker=dict(color=\"#644\"),\n",
    "        line=dict(width=0),\n",
    "        showlegend=True\n",
    "    ),\n",
    "    go.Scatter(\n",
    "        name='Konfidenzintervall',\n",
    "        #x=df['tick'],\n",
    "        y=reset_df['ci95_lo'],\n",
    "        marker=dict(color=\"#448\"),\n",
    "        line=dict(width=0),\n",
    "        mode='lines',\n",
    "        fillcolor='rgba(130, 68, 68, 0.5)',\n",
    "        fill='tonexty',\n",
    "        showlegend=True\n",
    "    )\n",
    "])\n",
    "myFig.update_layout(\n",
    "    xaxis_title='X Achse',\n",
    "    yaxis_title='Y Achse',\n",
    "    title='Continuous, variable value error bars',\n",
    "    hovermode=\"x\"\n",
    ")\n",
    "myFig2.show()\n"
   ],
   "metadata": {
    "collapsed": false,
    "pycharm": {
     "name": "#%%\n"
    }
   }
  },
  {
   "cell_type": "code",
   "execution_count": 18,
   "outputs": [
    {
     "data": {
      "application/vnd.plotly.v1+json": {
       "config": {
        "plotlyServerURL": "https://plot.ly"
       },
       "data": [
        {
         "mode": "markers",
         "transforms": [
          {
           "groups": [
            "Moe",
            "Larry",
            "Curly",
            "Moe",
            "Larry",
            "Curly",
            "Moe",
            "Larry",
            "Curly",
            "Moe",
            "Larry",
            "Curly"
           ],
           "styles": [
            {
             "target": "Moe",
             "value": {
              "marker": {
               "color": "blue"
              }
             }
            },
            {
             "target": "Larry",
             "value": {
              "marker": {
               "color": "red"
              }
             }
            },
            {
             "target": "Curly",
             "value": {
              "marker": {
               "color": "black"
              }
             }
            }
           ],
           "type": "groupby"
          }
         ],
         "type": "scatter",
         "x": [
          "Moe",
          "Larry",
          "Curly",
          "Moe",
          "Larry",
          "Curly",
          "Moe",
          "Larry",
          "Curly",
          "Moe",
          "Larry",
          "Curly"
         ],
         "y": [
          1,
          6,
          2,
          8,
          2,
          9,
          4,
          5,
          1,
          5,
          2,
          8
         ]
        }
       ]
      },
      "text/html": "<div>                            <div id=\"48d7f2e3-e6e6-4c7f-bcb2-591d10e30dd9\" class=\"plotly-graph-div\" style=\"height:525px; width:100%;\"></div>            <script type=\"text/javascript\">                require([\"plotly\"], function(Plotly) {                    window.PLOTLYENV=window.PLOTLYENV || {};                                    if (document.getElementById(\"48d7f2e3-e6e6-4c7f-bcb2-591d10e30dd9\")) {                    Plotly.newPlot(                        \"48d7f2e3-e6e6-4c7f-bcb2-591d10e30dd9\",                        [{\"mode\":\"markers\",\"transforms\":[{\"groups\":[\"Moe\",\"Larry\",\"Curly\",\"Moe\",\"Larry\",\"Curly\",\"Moe\",\"Larry\",\"Curly\",\"Moe\",\"Larry\",\"Curly\"],\"styles\":[{\"target\":\"Moe\",\"value\":{\"marker\":{\"color\":\"blue\"}}},{\"target\":\"Larry\",\"value\":{\"marker\":{\"color\":\"red\"}}},{\"target\":\"Curly\",\"value\":{\"marker\":{\"color\":\"black\"}}}],\"type\":\"groupby\"}],\"type\":\"scatter\",\"x\":[\"Moe\",\"Larry\",\"Curly\",\"Moe\",\"Larry\",\"Curly\",\"Moe\",\"Larry\",\"Curly\",\"Moe\",\"Larry\",\"Curly\"],\"y\":[1,6,2,8,2,9,4,5,1,5,2,8]}],                        {},                        {\"responsive\": true}                    ).then(function(){\n                            \nvar gd = document.getElementById('48d7f2e3-e6e6-4c7f-bcb2-591d10e30dd9');\nvar x = new MutationObserver(function (mutations, observer) {{\n        var display = window.getComputedStyle(gd).display;\n        if (!display || display === 'none') {{\n            console.log([gd, 'removed!']);\n            Plotly.purge(gd);\n            observer.disconnect();\n        }}\n}});\n\n// Listen for the removal of the full notebook cells\nvar notebookContainer = gd.closest('#notebook-container');\nif (notebookContainer) {{\n    x.observe(notebookContainer, {childList: true});\n}}\n\n// Listen for the clearing of the current output cell\nvar outputEl = gd.closest('.output');\nif (outputEl) {{\n    x.observe(outputEl, {childList: true});\n}}\n\n                        })                };                });            </script>        </div>"
     },
     "metadata": {},
     "output_type": "display_data"
    }
   ],
   "source": [
    "import plotly.io as pio\n",
    "\n",
    "subject = ['Moe','Larry','Curly','Moe','Larry','Curly','Moe','Larry','Curly','Moe','Larry','Curly']\n",
    "score = [1,6,2,8,2,9,4,5,1,5,2,8]\n",
    "\n",
    "data = [dict(\n",
    "  type = 'scatter',\n",
    "  x = subject,\n",
    "  y = score,\n",
    "  mode = 'markers',\n",
    "  transforms = [dict(\n",
    "    type = 'groupby',\n",
    "    groups = subject,\n",
    "    styles = [\n",
    "        dict(target = 'Moe', value = dict(marker = dict(color = 'blue'))),\n",
    "        dict(target = 'Larry', value = dict(marker = dict(color = 'red'))),\n",
    "        dict(target = 'Curly', value = dict(marker = dict(color = 'black')))\n",
    "    ]\n",
    "  )]\n",
    ")]\n",
    "\n",
    "fig_dict = dict(data=data)\n",
    "pio.show(fig_dict, validate=False)\n",
    "\n"
   ],
   "metadata": {
    "collapsed": false,
    "pycharm": {
     "name": "#%%\n"
    }
   }
  },
  {
   "cell_type": "code",
   "execution_count": 111,
   "outputs": [
    {
     "data": {
      "text/plain": "MultiIndex([(  1.0,  0.0, False),\n            (  1.0,  0.0,  True),\n            (  1.0, 0.25, False),\n            (  1.0, 0.25,  True),\n            (  1.0,  0.5, False),\n            (  1.0,  0.5,  True),\n            (  1.0, 0.75, False),\n            (  1.0, 0.75,  True),\n            (  1.0,  1.0, False),\n            (  1.0,  1.0,  True),\n            ...\n            (268.0,  0.0, False),\n            (268.0,  0.0,  True),\n            (268.0, 0.25, False),\n            (268.0, 0.25,  True),\n            (268.0,  0.5, False),\n            (268.0,  0.5,  True),\n            (268.0, 0.75, False),\n            (268.0, 0.75,  True),\n            (268.0,  1.0, False),\n            (268.0,  1.0,  True)],\n           names=['tick', 'first_factor', 'second_factor'], length=900)"
     },
     "execution_count": 111,
     "metadata": {},
     "output_type": "execute_result"
    }
   ],
   "source": [
    "#values = df.index.get_level_values(2)\n",
    "values = df.index.unique()\n",
    "values\n",
    "#type(values)\n",
    "#df[\"first_factor\"]"
   ],
   "metadata": {
    "collapsed": false,
    "pycharm": {
     "name": "#%% preparation iterate over data:\n"
    }
   }
  },
  {
   "cell_type": "code",
   "execution_count": 194,
   "outputs": [
    {
     "data": {
      "text/plain": "      tick  first_factor second_factor      mean    median  count       std  \\\n0      1.0          0.00           yes  0.489626  0.489175     30  0.004610   \n1      1.0          0.25           yes  0.490440  0.490955     30  0.003531   \n2      1.0          0.50           yes  0.489943  0.490419     30  0.003305   \n3      1.0          0.75           yes  0.490460  0.490510     30  0.002960   \n4      1.0          1.00           yes  0.489522  0.489153     30  0.002453   \n..     ...           ...           ...       ...       ...    ...       ...   \n445  268.0          0.00           yes  0.471280  0.471226     30  0.001001   \n446  268.0          0.25           yes  0.471338  0.471530     30  0.001390   \n447  268.0          0.50           yes  0.469987  0.469942     30  0.000963   \n448  268.0          0.75           yes  0.467484  0.467925     30  0.001422   \n449  268.0          1.00           yes  0.464206  0.464293     30  0.001207   \n\n          min       max   ci95_lo   ci95_hi  \n0    0.479253  0.499235  0.487905  0.491348  \n1    0.483509  0.497344  0.489122  0.491759  \n2    0.482307  0.495838  0.488709  0.491177  \n3    0.484881  0.497518  0.489355  0.491566  \n4    0.484613  0.493606  0.488605  0.490438  \n..        ...       ...       ...       ...  \n445  0.469043  0.473665  0.470906  0.471654  \n446  0.467830  0.474271  0.470819  0.471857  \n447  0.468108  0.471690  0.469627  0.470346  \n448  0.464921  0.470434  0.466953  0.468015  \n449  0.461878  0.466715  0.463756  0.464657  \n\n[450 rows x 11 columns]",
      "text/html": "<div>\n<style scoped>\n    .dataframe tbody tr th:only-of-type {\n        vertical-align: middle;\n    }\n\n    .dataframe tbody tr th {\n        vertical-align: top;\n    }\n\n    .dataframe thead th {\n        text-align: right;\n    }\n</style>\n<table border=\"1\" class=\"dataframe\">\n  <thead>\n    <tr style=\"text-align: right;\">\n      <th></th>\n      <th>tick</th>\n      <th>first_factor</th>\n      <th>second_factor</th>\n      <th>mean</th>\n      <th>median</th>\n      <th>count</th>\n      <th>std</th>\n      <th>min</th>\n      <th>max</th>\n      <th>ci95_lo</th>\n      <th>ci95_hi</th>\n    </tr>\n  </thead>\n  <tbody>\n    <tr>\n      <th>0</th>\n      <td>1.0</td>\n      <td>0.00</td>\n      <td>yes</td>\n      <td>0.489626</td>\n      <td>0.489175</td>\n      <td>30</td>\n      <td>0.004610</td>\n      <td>0.479253</td>\n      <td>0.499235</td>\n      <td>0.487905</td>\n      <td>0.491348</td>\n    </tr>\n    <tr>\n      <th>1</th>\n      <td>1.0</td>\n      <td>0.25</td>\n      <td>yes</td>\n      <td>0.490440</td>\n      <td>0.490955</td>\n      <td>30</td>\n      <td>0.003531</td>\n      <td>0.483509</td>\n      <td>0.497344</td>\n      <td>0.489122</td>\n      <td>0.491759</td>\n    </tr>\n    <tr>\n      <th>2</th>\n      <td>1.0</td>\n      <td>0.50</td>\n      <td>yes</td>\n      <td>0.489943</td>\n      <td>0.490419</td>\n      <td>30</td>\n      <td>0.003305</td>\n      <td>0.482307</td>\n      <td>0.495838</td>\n      <td>0.488709</td>\n      <td>0.491177</td>\n    </tr>\n    <tr>\n      <th>3</th>\n      <td>1.0</td>\n      <td>0.75</td>\n      <td>yes</td>\n      <td>0.490460</td>\n      <td>0.490510</td>\n      <td>30</td>\n      <td>0.002960</td>\n      <td>0.484881</td>\n      <td>0.497518</td>\n      <td>0.489355</td>\n      <td>0.491566</td>\n    </tr>\n    <tr>\n      <th>4</th>\n      <td>1.0</td>\n      <td>1.00</td>\n      <td>yes</td>\n      <td>0.489522</td>\n      <td>0.489153</td>\n      <td>30</td>\n      <td>0.002453</td>\n      <td>0.484613</td>\n      <td>0.493606</td>\n      <td>0.488605</td>\n      <td>0.490438</td>\n    </tr>\n    <tr>\n      <th>...</th>\n      <td>...</td>\n      <td>...</td>\n      <td>...</td>\n      <td>...</td>\n      <td>...</td>\n      <td>...</td>\n      <td>...</td>\n      <td>...</td>\n      <td>...</td>\n      <td>...</td>\n      <td>...</td>\n    </tr>\n    <tr>\n      <th>445</th>\n      <td>268.0</td>\n      <td>0.00</td>\n      <td>yes</td>\n      <td>0.471280</td>\n      <td>0.471226</td>\n      <td>30</td>\n      <td>0.001001</td>\n      <td>0.469043</td>\n      <td>0.473665</td>\n      <td>0.470906</td>\n      <td>0.471654</td>\n    </tr>\n    <tr>\n      <th>446</th>\n      <td>268.0</td>\n      <td>0.25</td>\n      <td>yes</td>\n      <td>0.471338</td>\n      <td>0.471530</td>\n      <td>30</td>\n      <td>0.001390</td>\n      <td>0.467830</td>\n      <td>0.474271</td>\n      <td>0.470819</td>\n      <td>0.471857</td>\n    </tr>\n    <tr>\n      <th>447</th>\n      <td>268.0</td>\n      <td>0.50</td>\n      <td>yes</td>\n      <td>0.469987</td>\n      <td>0.469942</td>\n      <td>30</td>\n      <td>0.000963</td>\n      <td>0.468108</td>\n      <td>0.471690</td>\n      <td>0.469627</td>\n      <td>0.470346</td>\n    </tr>\n    <tr>\n      <th>448</th>\n      <td>268.0</td>\n      <td>0.75</td>\n      <td>yes</td>\n      <td>0.467484</td>\n      <td>0.467925</td>\n      <td>30</td>\n      <td>0.001422</td>\n      <td>0.464921</td>\n      <td>0.470434</td>\n      <td>0.466953</td>\n      <td>0.468015</td>\n    </tr>\n    <tr>\n      <th>449</th>\n      <td>268.0</td>\n      <td>1.00</td>\n      <td>yes</td>\n      <td>0.464206</td>\n      <td>0.464293</td>\n      <td>30</td>\n      <td>0.001207</td>\n      <td>0.461878</td>\n      <td>0.466715</td>\n      <td>0.463756</td>\n      <td>0.464657</td>\n    </tr>\n  </tbody>\n</table>\n<p>450 rows × 11 columns</p>\n</div>"
     },
     "execution_count": 194,
     "metadata": {},
     "output_type": "execute_result"
    }
   ],
   "source": [
    "#df.xs()\n",
    "\n",
    "data_at_ignore_tick = df.loc[(slice(None), slice(None),[\"yes\"]),:]\n",
    "data_at_ignore_tick_reset = data_at_ignore_tick.reset_index()\n",
    "data_at_ignore_tick_reset"
   ],
   "metadata": {
    "collapsed": false,
    "pycharm": {
     "name": "#%%\n"
    }
   }
  },
  {
   "cell_type": "code",
   "execution_count": 167,
   "outputs": [
    {
     "data": {
      "text/plain": "1"
     },
     "execution_count": 167,
     "metadata": {},
     "output_type": "execute_result"
    }
   ],
   "source": [
    "data_at_ignore_tick_reset.index.nlevels\n",
    "#df.iloc(1)"
   ],
   "metadata": {
    "collapsed": false,
    "pycharm": {
     "name": "#%%\n"
    }
   }
  },
  {
   "cell_type": "code",
   "execution_count": 181,
   "outputs": [
    {
     "data": {
      "text/plain": "                                      mean    median  count       std  \\\ntick  first_factor second_factor                                        \n1.0   0.00         no             0.489803  0.489291     30  0.004103   \n                   yes            0.489626  0.489175     30  0.004610   \n      0.25         no             0.490416  0.490188     30  0.003058   \n                   yes            0.490440  0.490955     30  0.003531   \n      0.50         no             0.490133  0.490833     30  0.003642   \n...                                    ...       ...    ...       ...   \n268.0 0.50         yes            0.469987  0.469942     30  0.000963   \n      0.75         no             0.459094  0.459207     30  0.001609   \n                   yes            0.467484  0.467925     30  0.001422   \n      1.00         no             0.449855  0.449570     30  0.001749   \n                   yes            0.464206  0.464293     30  0.001207   \n\n                                       min       max   ci95_lo   ci95_hi  \ntick  first_factor second_factor                                          \n1.0   0.00         no             0.480890  0.499673  0.488271  0.491335  \n                   yes            0.479253  0.499235  0.487905  0.491348  \n      0.25         no             0.483497  0.495958  0.489274  0.491557  \n                   yes            0.483509  0.497344  0.489122  0.491759  \n      0.50         no             0.483114  0.496181  0.488773  0.491493  \n...                                    ...       ...       ...       ...  \n268.0 0.50         yes            0.468108  0.471690  0.469627  0.470346  \n      0.75         no             0.456083  0.461940  0.458494  0.459695  \n                   yes            0.464921  0.470434  0.466953  0.468015  \n      1.00         no             0.445721  0.452786  0.449202  0.450508  \n                   yes            0.461878  0.466715  0.463756  0.464657  \n\n[900 rows x 8 columns]",
      "text/html": "<div>\n<style scoped>\n    .dataframe tbody tr th:only-of-type {\n        vertical-align: middle;\n    }\n\n    .dataframe tbody tr th {\n        vertical-align: top;\n    }\n\n    .dataframe thead th {\n        text-align: right;\n    }\n</style>\n<table border=\"1\" class=\"dataframe\">\n  <thead>\n    <tr style=\"text-align: right;\">\n      <th></th>\n      <th></th>\n      <th></th>\n      <th>mean</th>\n      <th>median</th>\n      <th>count</th>\n      <th>std</th>\n      <th>min</th>\n      <th>max</th>\n      <th>ci95_lo</th>\n      <th>ci95_hi</th>\n    </tr>\n    <tr>\n      <th>tick</th>\n      <th>first_factor</th>\n      <th>second_factor</th>\n      <th></th>\n      <th></th>\n      <th></th>\n      <th></th>\n      <th></th>\n      <th></th>\n      <th></th>\n      <th></th>\n    </tr>\n  </thead>\n  <tbody>\n    <tr>\n      <th rowspan=\"5\" valign=\"top\">1.0</th>\n      <th rowspan=\"2\" valign=\"top\">0.00</th>\n      <th>no</th>\n      <td>0.489803</td>\n      <td>0.489291</td>\n      <td>30</td>\n      <td>0.004103</td>\n      <td>0.480890</td>\n      <td>0.499673</td>\n      <td>0.488271</td>\n      <td>0.491335</td>\n    </tr>\n    <tr>\n      <th>yes</th>\n      <td>0.489626</td>\n      <td>0.489175</td>\n      <td>30</td>\n      <td>0.004610</td>\n      <td>0.479253</td>\n      <td>0.499235</td>\n      <td>0.487905</td>\n      <td>0.491348</td>\n    </tr>\n    <tr>\n      <th rowspan=\"2\" valign=\"top\">0.25</th>\n      <th>no</th>\n      <td>0.490416</td>\n      <td>0.490188</td>\n      <td>30</td>\n      <td>0.003058</td>\n      <td>0.483497</td>\n      <td>0.495958</td>\n      <td>0.489274</td>\n      <td>0.491557</td>\n    </tr>\n    <tr>\n      <th>yes</th>\n      <td>0.490440</td>\n      <td>0.490955</td>\n      <td>30</td>\n      <td>0.003531</td>\n      <td>0.483509</td>\n      <td>0.497344</td>\n      <td>0.489122</td>\n      <td>0.491759</td>\n    </tr>\n    <tr>\n      <th>0.50</th>\n      <th>no</th>\n      <td>0.490133</td>\n      <td>0.490833</td>\n      <td>30</td>\n      <td>0.003642</td>\n      <td>0.483114</td>\n      <td>0.496181</td>\n      <td>0.488773</td>\n      <td>0.491493</td>\n    </tr>\n    <tr>\n      <th>...</th>\n      <th>...</th>\n      <th>...</th>\n      <td>...</td>\n      <td>...</td>\n      <td>...</td>\n      <td>...</td>\n      <td>...</td>\n      <td>...</td>\n      <td>...</td>\n      <td>...</td>\n    </tr>\n    <tr>\n      <th rowspan=\"5\" valign=\"top\">268.0</th>\n      <th>0.50</th>\n      <th>yes</th>\n      <td>0.469987</td>\n      <td>0.469942</td>\n      <td>30</td>\n      <td>0.000963</td>\n      <td>0.468108</td>\n      <td>0.471690</td>\n      <td>0.469627</td>\n      <td>0.470346</td>\n    </tr>\n    <tr>\n      <th rowspan=\"2\" valign=\"top\">0.75</th>\n      <th>no</th>\n      <td>0.459094</td>\n      <td>0.459207</td>\n      <td>30</td>\n      <td>0.001609</td>\n      <td>0.456083</td>\n      <td>0.461940</td>\n      <td>0.458494</td>\n      <td>0.459695</td>\n    </tr>\n    <tr>\n      <th>yes</th>\n      <td>0.467484</td>\n      <td>0.467925</td>\n      <td>30</td>\n      <td>0.001422</td>\n      <td>0.464921</td>\n      <td>0.470434</td>\n      <td>0.466953</td>\n      <td>0.468015</td>\n    </tr>\n    <tr>\n      <th rowspan=\"2\" valign=\"top\">1.00</th>\n      <th>no</th>\n      <td>0.449855</td>\n      <td>0.449570</td>\n      <td>30</td>\n      <td>0.001749</td>\n      <td>0.445721</td>\n      <td>0.452786</td>\n      <td>0.449202</td>\n      <td>0.450508</td>\n    </tr>\n    <tr>\n      <th>yes</th>\n      <td>0.464206</td>\n      <td>0.464293</td>\n      <td>30</td>\n      <td>0.001207</td>\n      <td>0.461878</td>\n      <td>0.466715</td>\n      <td>0.463756</td>\n      <td>0.464657</td>\n    </tr>\n  </tbody>\n</table>\n<p>900 rows × 8 columns</p>\n</div>"
     },
     "execution_count": 181,
     "metadata": {},
     "output_type": "execute_result"
    }
   ],
   "source": [
    "#df = data_at_ignore_tick_reset\n",
    "df\n"
   ],
   "metadata": {
    "collapsed": false,
    "pycharm": {
     "name": "#%%\n"
    }
   }
  },
  {
   "cell_type": "code",
   "execution_count": 236,
   "outputs": [],
   "source": [
    "def add_trace_to_figure(plot_data, figure, col, row):\n",
    "    figure.add_trace(\n",
    "        go.Scatter(\n",
    "            name='Mittelwert',\n",
    "            y=plot_data['mean'],\n",
    "            mode='lines',\n",
    "            line=dict(color='rgb(31, 119, 255)'),\n",
    "            ),\n",
    "        row=row, col=col\n",
    "        )\n",
    "    figure.add_trace(\n",
    "        go.Scatter(\n",
    "            name='Median',\n",
    "            y=plot_data['median'],\n",
    "            mode='lines',\n",
    "            line=dict(color='rgb(31, 255, 180)'),\n",
    "            ),\n",
    "        row=row, col=col\n",
    "        )\n",
    "\n",
    "\n"
   ],
   "metadata": {
    "collapsed": false,
    "pycharm": {
     "name": "#%%\n"
    }
   }
  },
  {
   "cell_type": "code",
   "execution_count": 214,
   "outputs": [
    {
     "data": {
      "application/vnd.plotly.v1+json": {
       "config": {
        "plotlyServerURL": "https://plot.ly"
       },
       "data": [
        {
         "line": {
          "color": "rgb(31, 119, 255)"
         },
         "mode": "lines",
         "name": "Mittelwert",
         "type": "scatter",
         "xaxis": "x",
         "y": [
          0.4898029948878537,
          0.4896262993579566,
          0.49041559500571097,
          0.4904402456333798,
          0.49013306532241113,
          0.4899426278445931,
          0.48988453645481916,
          0.4904602243455,
          0.48886640012316385,
          0.4895215995099306,
          0.4887162939873177,
          0.4884215716688495,
          0.48906511336142,
          0.4886624873218447,
          0.48800153145870834,
          0.4884333282822161,
          0.48706701956771337,
          0.4891863178224908,
          0.48505737291738876,
          0.48710839640806003,
          0.5110577581042366,
          0.510987468235698,
          0.5114731344015753,
          0.511262905676071,
          0.5093711501011992,
          0.5106632325547602,
          0.5066266468356632,
          0.510663581358809,
          0.5030887124187572,
          0.5077985497785525,
          0.5235851694133075,
          0.5235221373247017,
          0.523009754876382,
          0.5232452553148347,
          0.5207449598437907,
          0.5226368723356406,
          0.5163400149941267,
          0.5217928582884929,
          0.5115083270790025,
          0.5186436697155444,
          0.5297896354998624,
          0.529716540342203,
          0.529144705890354,
          0.5294865386376633,
          0.5263238674318997,
          0.5284931424297769,
          0.5211311940897217,
          0.5276129405001833,
          0.5151021293098237,
          0.5240511344085489,
          0.5280153426269958,
          0.5282235365265797,
          0.5276901893762582,
          0.5279473395664994,
          0.5245198197396483,
          0.5266297117113683,
          0.5186957371547372,
          0.5252868180501923,
          0.511763508509964,
          0.5218104187050353,
          0.5265213016143653,
          0.5265242316528825,
          0.5258504719499295,
          0.5268995929588302,
          0.5227690112671707,
          0.5249526961901834,
          0.516268721768722,
          0.5235136309115306,
          0.5087517940158044,
          0.5201658960652329,
          0.524757175259221,
          0.5251032802944188,
          0.5241587630423842,
          0.525075421349915,
          0.5207252928029488,
          0.5233054605286432,
          0.5140609159744347,
          0.5215581582786719,
          0.505922186468374,
          0.5180177350804371,
          0.521164798530118,
          0.5215212230032018,
          0.5202709823072601,
          0.5214020612048891,
          0.5171358011128772,
          0.5197197051145788,
          0.5100341601231136,
          0.517865915097066,
          0.5014233774577764,
          0.5141891212804084,
          0.5158980069700112,
          0.5165158163930138,
          0.5149448805355199,
          0.5160451417686827,
          0.5115623410770651,
          0.5145414748295194,
          0.5041454180802075,
          0.5123271568820156,
          0.49576308031833777,
          0.509221543440582,
          0.5127955738859613,
          0.5127638504316806,
          0.5114585010429131,
          0.5126265632613592,
          0.5081919899288456,
          0.5109910867207199,
          0.5003434953431884,
          0.5088519157681237,
          0.4921656960333241,
          0.5055910693750272,
          0.5097159136364167,
          0.5095011808693942,
          0.5086628994394335,
          0.5092155127717025,
          0.5047573607757945,
          0.5075067119983315,
          0.4969235431004978,
          0.5055646728138374,
          0.4883448030247212,
          0.5021226052768625,
          0.5055253970792817,
          0.505164931621836,
          0.5044050689557161,
          0.5052516593769245,
          0.5008445008435033,
          0.5037173984492594,
          0.49301359682635026,
          0.5014228176895125,
          0.48380264718024685,
          0.49795931060818416,
          0.5023913699266089,
          0.5018991953946017,
          0.5013026516102629,
          0.5017736297730777,
          0.4973777711278356,
          0.5003859603708393,
          0.48963178735236396,
          0.49789091810122843,
          0.4805556275479058,
          0.4944376218303527,
          0.5001483177909799,
          0.4995929407149579,
          0.4988763893159048,
          0.499879513823454,
          0.494912608517271,
          0.4982780072414096,
          0.48712066743662646,
          0.49553048676467787,
          0.47793060581125507,
          0.4922785468666338,
          0.49744330201622083,
          0.49712904187502527,
          0.49606239567241356,
          0.49707088704276625,
          0.4922939734943374,
          0.4954005329911837,
          0.48471550486070675,
          0.493054429181199,
          0.4750824128788323,
          0.48986190476741925,
          0.49476110207682883,
          0.4946005309516685,
          0.4934967408555065,
          0.4944362585357491,
          0.4896108001152176,
          0.4930707826979133,
          0.4814125124029101,
          0.4903528862270054,
          0.4722431746122494,
          0.4869160244525485,
          0.493011632163519,
          0.4928975576592308,
          0.4918414087449156,
          0.492624924196833,
          0.4879279034274106,
          0.4913327766551225,
          0.47977701717829824,
          0.48877257916752925,
          0.4707077544186405,
          0.4850712312565881,
          0.4913978276672824,
          0.49140702262912145,
          0.4905366944542965,
          0.4910250509444988,
          0.48674120094587636,
          0.4895335791575755,
          0.47829047606694736,
          0.4871626433203388,
          0.46938246474450207,
          0.48370842897259275,
          0.48998126910421785,
          0.4893735972353086,
          0.4886560704412663,
          0.48944030063376637,
          0.48472567501737834,
          0.48806560074034916,
          0.47676385932324733,
          0.4853641250635337,
          0.46728089922567534,
          0.48208122029494677,
          0.48830511008651956,
          0.48807462308279403,
          0.48732144319046405,
          0.4881601245667327,
          0.48343263276065035,
          0.4866493320260719,
          0.47497232505297293,
          0.48391623722207416,
          0.4657243840583376,
          0.4805726371994049,
          0.48745841939422097,
          0.48709089673786393,
          0.4862362376746368,
          0.487167336778893,
          0.4824938875718944,
          0.4854245555232439,
          0.47436092275210495,
          0.48280667951608314,
          0.4648942777530715,
          0.4795343663966935,
          0.4866846513531417,
          0.48625580172642313,
          0.4847764523919226,
          0.4861999708337664,
          0.4814101764443366,
          0.4848609650070117,
          0.47334471527125277,
          0.4818364654675483,
          0.4638309233989192,
          0.47885436100407053,
          0.4851845458751745,
          0.48481817764182433,
          0.48396135191179174,
          0.48482487720671624,
          0.4798562614835426,
          0.4835319097078211,
          0.4720507161967781,
          0.4807315557481331,
          0.46258084015995776,
          0.47744209393572484,
          0.4841405963104218,
          0.48441220970073284,
          0.48324883381239864,
          0.4841679396000745,
          0.479333540908125,
          0.48260812375520296,
          0.47109576906115874,
          0.48035010237119297,
          0.4621992740975068,
          0.4763284336135303,
          0.48378081332604933,
          0.4834595637894329,
          0.4822675562775746,
          0.48311602919863383,
          0.47869533090724786,
          0.48183300268911,
          0.4706728546860014,
          0.47919895641172033,
          0.46146501157267195,
          0.4757371237005176,
          0.4828762064133152,
          0.48238073713636254,
          0.4816403216613337,
          0.4825032905233194,
          0.4776978162253337,
          0.48103431548063597,
          0.4698476905073456,
          0.47842059376917934,
          0.4603910691804776,
          0.4751671443578037,
          0.4822250963621083,
          0.48198818086413114,
          0.48085420139297713,
          0.48179363201471137,
          0.47707390848760034,
          0.4801025698426013,
          0.4692251619783315,
          0.4778295539671399,
          0.45952854429165046,
          0.47431268876030874,
          0.4816447800072918,
          0.4813406876406795,
          0.48012526922761917,
          0.48113589856903,
          0.47637553128380977,
          0.47968331388099167,
          0.46838559038550287,
          0.4771890678218751,
          0.4593721076964309,
          0.47362221012414546,
          0.48091946458281704,
          0.4804812113660242,
          0.4795830921310555,
          0.4806605167690663,
          0.4756881096582544,
          0.47944508100926186,
          0.4680424599245933,
          0.4764670733360194,
          0.45827307799256345,
          0.47341873478200414,
          0.48062258871875946,
          0.4801621538257643,
          0.47900994816316717,
          0.4800277609712234,
          0.4750344636848924,
          0.4785643932791761,
          0.4671808061505132,
          0.4761431222663163,
          0.45789383575604775,
          0.47288961318126677,
          0.4800359509269034,
          0.4799337355779546,
          0.4786067384336838,
          0.47921085584376855,
          0.47465146463119723,
          0.47812873845213505,
          0.4666501394948244,
          0.47561824703661354,
          0.45735136309487084,
          0.47231831394342605,
          0.4791318253182379,
          0.4793869062205013,
          0.47840470694197346,
          0.47877805765028486,
          0.4740895087062905,
          0.4776823315213155,
          0.46626236302832474,
          0.4752103964464117,
          0.4571161260289177,
          0.4716257468635278,
          0.4792792549884212,
          0.47840605987839785,
          0.4778595628248149,
          0.47866727158496203,
          0.47348247369982227,
          0.47714177005605757,
          0.4662006920972279,
          0.47475424583803144,
          0.45649629671444814,
          0.4714241703984063,
          0.4786468979458229,
          0.47800149912106565,
          0.4774000535418979,
          0.47827702562993024,
          0.4732224285508212,
          0.4767280374143855,
          0.465316053519224,
          0.47398011168578924,
          0.4563699016719341,
          0.4708192121780377,
          0.4782096616366414,
          0.47801530653591395,
          0.4769293937511388,
          0.4779294744145621,
          0.4729183906148197,
          0.47651380782361286,
          0.4653866924745812,
          0.47368386880533925,
          0.4559613501547571,
          0.47062630884651907,
          0.47785120719393637,
          0.47770016030666723,
          0.47651859255568346,
          0.47748294233737437,
          0.4724375648526649,
          0.47612608544415996,
          0.46464831300262815,
          0.47341554309666484,
          0.4556222772547836,
          0.47043127911807503,
          0.47771179075861436,
          0.4771810181628065,
          0.4760421343009821,
          0.4768936917885585,
          0.4724895247940964,
          0.4756239597108905,
          0.46451100337175844,
          0.4731130897059896,
          0.45523763805002987,
          0.47010509746864176,
          0.47730984428870804,
          0.47693553710603237,
          0.47575385012565286,
          0.47657010173513004,
          0.4719745843060768,
          0.47559776659891,
          0.46411379514852613,
          0.4727949438596564,
          0.45481753323415613,
          0.4695579626989944,
          0.47673015435959043,
          0.47675778524997514,
          0.4755810082944121,
          0.47632645559735864,
          0.47177781110382905,
          0.4748949328394474,
          0.46403112790318396,
          0.4724737105925021,
          0.4546904512370056,
          0.46918960080930117,
          0.47690362984788376,
          0.476137774345528,
          0.47513850320902873,
          0.47632956571675417,
          0.47148567214266607,
          0.47491449881907155,
          0.46350059932554555,
          0.47193619443857016,
          0.4545265748400669,
          0.4688840924672456,
          0.47633785420503055,
          0.4760092547644871,
          0.4749428593541027,
          0.4763798024535635,
          0.4712595356086208,
          0.4743885581528419,
          0.4633831221566315,
          0.47190185034179666,
          0.4539884493110643,
          0.4685643744295509,
          0.4759470287658364,
          0.4758724582547564,
          0.47476219123008406,
          0.47584800194691573,
          0.47085197064973705,
          0.4744291915632423,
          0.4630155888593875,
          0.47149921853964105,
          0.4539221307848942,
          0.46842104587900996,
          0.47630540196240434,
          0.47559663598820945,
          0.4741957752360649,
          0.4755812723647312,
          0.47062628859864236,
          0.47402949670018535,
          0.46275153279517683,
          0.47149319705750786,
          0.45386425414727294,
          0.468025922851515,
          0.47577632788665514,
          0.4754383447253851,
          0.4741889380808009,
          0.47538549639347116,
          0.4704502728366119,
          0.4738321147920109,
          0.46247629092534626,
          0.4714294285162649,
          0.4537904884851836,
          0.46785049590348177,
          0.47533444347193665,
          0.47542890133370774,
          0.4741562696419467,
          0.47513360159052537,
          0.47038032147656517,
          0.4735896360115177,
          0.4623070356812002,
          0.47106919283272447,
          0.45317554661792037,
          0.46768194677721325,
          0.4751741653363764,
          0.4751633683005777,
          0.47415733824739553,
          0.47462213300400874,
          0.4699026902221319,
          0.4733737746233778,
          0.4619064578291427,
          0.4707934262812054,
          0.4535193856282448,
          0.46719928001327643,
          0.4752553002083644,
          0.47473436594447593,
          0.4737071593869596,
          0.47441231888320023,
          0.47008289434751727,
          0.4731144982484023,
          0.4621098558526702,
          0.4706645532692106,
          0.45292009130751487,
          0.46706509138932834,
          0.4747268074444706,
          0.4745302256322637,
          0.4736265682690029,
          0.47470360482198115,
          0.46970234049074094,
          0.4730167062733904,
          0.46194915417350646,
          0.4705076526360023,
          0.4528592512846351,
          0.46698074643617216,
          0.4747963845666746,
          0.4745484452348238,
          0.47357664868910254,
          0.4744486883096569,
          0.46951371013484144,
          0.4729859692852955,
          0.4617700438444611,
          0.47030203520424113,
          0.4524621249858523,
          0.4668444197625262,
          0.4747794381881975,
          0.4741870485444017,
          0.47314011838484377,
          0.4741343373184765,
          0.469457255545193,
          0.47293278387113435,
          0.4615205888236122,
          0.4701194885915591,
          0.4527294505690272,
          0.4668409124449312,
          0.47459589889227954,
          0.4744381671023611,
          0.47304648773493435,
          0.47393900948927514,
          0.46937553835368095,
          0.4725325623925106,
          0.46142194260358704,
          0.47042702852276574,
          0.45234900276575657,
          0.46685521820829934,
          0.47420740335020384,
          0.4742707677027077,
          0.4732587199694495,
          0.4738753038799977,
          0.46931926008492436,
          0.4724594891767199,
          0.46131613550096356,
          0.4701136914709822,
          0.4523326507518808,
          0.466390420972398,
          0.4740764589041059,
          0.4740965308566785,
          0.47308270439557787,
          0.4735261821534175,
          0.4689424704680149,
          0.4724940454861333,
          0.4612545480289198,
          0.46977274336601005,
          0.452270196656776,
          0.46635863664268246,
          0.47419656457975673,
          0.4737140020139355,
          0.47287291541856297,
          0.47355039665730203,
          0.4688278297181639,
          0.4722026377298379,
          0.4610195010749039,
          0.46956792849773343,
          0.4518631154081873,
          0.46602970792476744,
          0.4737820473652334,
          0.4737117836095753,
          0.47268335000339695,
          0.4737901596043681,
          0.4686605100482547,
          0.4719813711004535,
          0.46097048582139644,
          0.4696780255407761,
          0.45209248735764984,
          0.46613398278670304,
          0.47376119474461303,
          0.47336605118357605,
          0.4725493648960748,
          0.4731871058820898,
          0.4687241085520786,
          0.4721303627973054,
          0.46096427343666885,
          0.4695080543273345,
          0.45152330592115014,
          0.46620627931102365,
          0.47391138499257135,
          0.47351684028643365,
          0.47212704170406145,
          0.47351549089304595,
          0.4685325909065962,
          0.47185557544636547,
          0.46070401145351775,
          0.4693849607842381,
          0.45156911297645036,
          0.46596167326554383,
          0.47379637287106335,
          0.473201088485945,
          0.4722577587064947,
          0.4732154992208739,
          0.46854137254584577,
          0.47189161054535356,
          0.46040709113877404,
          0.4694144722169603,
          0.45164411797099924,
          0.4659703945782944,
          0.47350883801292515,
          0.4734515394615325,
          0.472232827624495,
          0.4730697763260257,
          0.46826919449426146,
          0.4717293583584307,
          0.4603425971714563,
          0.4693947382212842,
          0.4516696462832087,
          0.4657816131831914,
          0.473159963420809,
          0.4731876155188381,
          0.47203327357471114,
          0.472740506987014,
          0.4681801913157511,
          0.4716097624251855,
          0.4604596071535126,
          0.46913878950212523,
          0.45153263001650884,
          0.46572063912253975,
          0.4733547828796737,
          0.47298800994191326,
          0.4722099061495738,
          0.47286055713181063,
          0.4681322870381658,
          0.4715713743545819,
          0.46038756784015616,
          0.46929183735879904,
          0.4512700057014372,
          0.4656249258526355,
          0.4732659512894197,
          0.47316809352352873,
          0.472299187176234,
          0.47284532629866965,
          0.4683412271138715,
          0.4716682571331868,
          0.46046338778667095,
          0.46895446541465713,
          0.45158566519496723,
          0.46566946361680167,
          0.47302831758533787,
          0.4730113150501979,
          0.472132334290741,
          0.47284256925508233,
          0.46796598679936197,
          0.47117641285994166,
          0.4604939284545858,
          0.46896663775242875,
          0.450893197329127,
          0.4655980210473214,
          0.4728679134329468,
          0.47286764633860295,
          0.4717981710442106,
          0.47277801884474396,
          0.46791729982530417,
          0.4715154431911738,
          0.4604342559216098,
          0.4688410245488554,
          0.45091850069219136,
          0.46563251726481536,
          0.4730725116808799,
          0.47282400512338507,
          0.4715056194811298,
          0.4722871898567537,
          0.467679444300296,
          0.4715678464741149,
          0.4598898619871626,
          0.46891547667441047,
          0.4510262338953012,
          0.46553768342061586,
          0.4726640778144659,
          0.4728387740932734,
          0.4718817267807765,
          0.4723777071869955,
          0.4678919000533489,
          0.47107777398577627,
          0.4601077954975904,
          0.4690200687489899,
          0.45080903750904083,
          0.46542092743028235,
          0.47276495832482274,
          0.4728181807039455,
          0.47160865098822946,
          0.4721094198342171,
          0.4678064180413488,
          0.47081030127939216,
          0.4599691418790556,
          0.4686690844739021,
          0.4507840066071311,
          0.4650064835237764,
          0.4730928088371613,
          0.4725040918097359,
          0.4718529809411277,
          0.4720606708991942,
          0.46755126600438696,
          0.47134093610858674,
          0.4597976637871424,
          0.4687961840909624,
          0.45089341438231006,
          0.46511502892684226,
          0.4727267001326642,
          0.47251961260877967,
          0.4714375124978802,
          0.4726709583585164,
          0.46741820317010635,
          0.4708529381587565,
          0.45967642920107205,
          0.4685930571222849,
          0.450677824503481,
          0.4647925499177015,
          0.47282313844510165,
          0.47244999423806,
          0.47153136716334515,
          0.47232615279621065,
          0.467474093002316,
          0.4709346817609993,
          0.45997278488964355,
          0.468633219869191,
          0.4505139124378206,
          0.4653611650673669,
          0.472629960816542,
          0.47261125685740824,
          0.4715379232688918,
          0.4720331484304188,
          0.4673343121311423,
          0.4708734644908357,
          0.4598679510903683,
          0.4684098666333958,
          0.4507149071567834,
          0.4650316001898254,
          0.4726633512996034,
          0.4725250115091938,
          0.47121161961474745,
          0.47206328928378954,
          0.4672087200393887,
          0.4708470092266243,
          0.45943124599719776,
          0.4687840206548425,
          0.4506197693104278,
          0.46481448988858004,
          0.47260246091357155,
          0.4727744401075462,
          0.4712959916783392,
          0.4719060483223111,
          0.46742542240052587,
          0.4706309827870726,
          0.45936203909879797,
          0.4684366790673858,
          0.45037859924952844,
          0.4648781092796647,
          0.4724798818995856,
          0.47236648814733895,
          0.4715089479270296,
          0.47177737986804974,
          0.46754774920066566,
          0.47087570543966845,
          0.4593135402399023,
          0.468279454800355,
          0.4506712505578291,
          0.46488705276274883,
          0.4726215141009168,
          0.4721844500298372,
          0.47153413322438453,
          0.47185753700498884,
          0.4673034666673414,
          0.47078277067601193,
          0.4595481465868054,
          0.46831906070301416,
          0.450459212947688,
          0.46451450458265325,
          0.4725148904079583,
          0.47217396327521466,
          0.47123375224006236,
          0.47204139433447095,
          0.46706658033103976,
          0.47035942519010604,
          0.45930391923952213,
          0.46831794146175615,
          0.4503811316026061,
          0.46480528836671764,
          0.4724514317741173,
          0.47193317740564994,
          0.4709486741534981,
          0.4720349450239763,
          0.46709645592768356,
          0.4708708121960094,
          0.45958388470676764,
          0.46813012898476725,
          0.4506885347104567,
          0.4644524097301002,
          0.47230883374470173,
          0.4718394153596997,
          0.47105145661453834,
          0.4717878054719743,
          0.46741313122493744,
          0.4707640885681975,
          0.4594626908395733,
          0.4681906356023711,
          0.4502540372296175,
          0.46464808237573574,
          0.47243321267055144,
          0.4721332244987679,
          0.47133835195316837,
          0.47159955312148477,
          0.4671946394986286,
          0.47046694084486596,
          0.45921070354567284,
          0.46809019379818056,
          0.45027405651683117,
          0.4644238324063725,
          0.47227533210920086,
          0.4721409116335246,
          0.4710085289882499,
          0.47167918595026276,
          0.46709113575286154,
          0.47044857073100227,
          0.45911471439156787,
          0.4682686523974436,
          0.4503914730518727,
          0.4646479059228957,
          0.4723109355328852,
          0.4720417094709987,
          0.4711540665473774,
          0.4716678778644205,
          0.4671606922462439,
          0.4704748699778653,
          0.4593998925038332,
          0.4677723525893001,
          0.45060544139697495,
          0.46449582334155176,
          0.4722744312505738,
          0.47183956888516376,
          0.47103173282226596,
          0.47153561656344756,
          0.4672809149260659,
          0.47022608232406615,
          0.4590621429088826,
          0.4679165456556189,
          0.4499366588265474,
          0.464249715097779,
          0.47214153422350036,
          0.47170885701600745,
          0.47129385700755155,
          0.471721756870769,
          0.4668645986001643,
          0.4699894824956925,
          0.4592243594075426,
          0.46762087873263736,
          0.45014410012446493,
          0.4642232102693253,
          0.4722155303448118,
          0.4718314262506142,
          0.4708630300228407,
          0.4716826499950335,
          0.4667770319471151,
          0.4702226803472859,
          0.4593408586158722,
          0.46795106885999577,
          0.45024703771694535,
          0.4644837667941833,
          0.47218179796986426,
          0.4718760237837403,
          0.47095261956527873,
          0.47154964868785904,
          0.4669665925693561,
          0.47016269524378607,
          0.4592752187386702,
          0.467835875256049,
          0.4498514353799952,
          0.46432795543568994,
          0.4722276450975764,
          0.47206968907948227,
          0.4710031162938426,
          0.47135055143052423,
          0.4667821717389186,
          0.47003267114637265,
          0.45877049721901453,
          0.4677956551359967,
          0.44989194590185666,
          0.4643111176120963,
          0.47186338836793895,
          0.47169062071569834,
          0.4708361890999361,
          0.47142440241797356,
          0.4668487361491577,
          0.47026260336187714,
          0.45882269690220523,
          0.4679610269815194,
          0.4501640855845139,
          0.46398014192592885,
          0.47194968939245957,
          0.4718403439572825,
          0.47075039189376955,
          0.4713326700210321,
          0.4665257332782735,
          0.46995304417116,
          0.45943243707458675,
          0.46780302647197275,
          0.4500333825987544,
          0.4641105466836952,
          0.4722274010325838,
          0.4712802710654488,
          0.4706713848815541,
          0.47133790210109694,
          0.4668561127910655,
          0.4699865715156427,
          0.4590944595409093,
          0.46748447085380174,
          0.4498553888764834,
          0.46420630461765294
         ],
         "yaxis": "y"
        },
        {
         "line": {
          "color": "rgb(31, 255, 180)"
         },
         "mode": "lines",
         "name": "Median",
         "type": "scatter",
         "xaxis": "x",
         "y": [
          0.4892905121524852,
          0.4891751270382487,
          0.490188101822505,
          0.4909552204964911,
          0.49083289546828796,
          0.490419275929986,
          0.4895754847470414,
          0.49050995447073104,
          0.48927149754140387,
          0.48915256785806216,
          0.48852929518857985,
          0.4880391536009526,
          0.4890022129522596,
          0.4885646774548859,
          0.48796091603989933,
          0.4890169573371963,
          0.48667697045718905,
          0.4896698279483278,
          0.4854485229817097,
          0.4871977580663493,
          0.5104647089666196,
          0.5111446390249148,
          0.51203652601791,
          0.5114691942876799,
          0.5097513353492638,
          0.5110469401964803,
          0.5060517808619599,
          0.5108486613060669,
          0.5029192726547217,
          0.5077539282200857,
          0.5229731767900041,
          0.5238931084815662,
          0.5229747936528909,
          0.5234482769904858,
          0.5208033059702405,
          0.5229273816506725,
          0.5160259876704902,
          0.5222150610857201,
          0.5116149449636079,
          0.5187882465027855,
          0.5296303113699077,
          0.5299728227921991,
          0.529086987376073,
          0.5290004646119584,
          0.5265667570743982,
          0.5291029030469264,
          0.5205830877071016,
          0.5276039943230586,
          0.5147944174086402,
          0.5243506478009868,
          0.5277445942833338,
          0.5282651007968893,
          0.5276169555965093,
          0.5279826101085501,
          0.525069934466418,
          0.5270278631669606,
          0.5185691614247243,
          0.5244661818826345,
          0.5109234920825944,
          0.5216818514733428,
          0.5262235718865658,
          0.5267936523392418,
          0.5257243413056598,
          0.5269638375933383,
          0.5234014846348173,
          0.5250004362192617,
          0.5157933364048772,
          0.5239006595019634,
          0.5083769743764077,
          0.5201151072823327,
          0.5247927278716484,
          0.5251289062193936,
          0.524104857663515,
          0.5249040192453871,
          0.5205505724793476,
          0.5236236083943171,
          0.5139469663900444,
          0.5213611283946635,
          0.506163343237297,
          0.5182704828600733,
          0.5216054932011708,
          0.5219387716786534,
          0.520295512132661,
          0.5213054579952496,
          0.5174754189855157,
          0.519928830926051,
          0.5102233084824119,
          0.5178228939362453,
          0.5015981844750341,
          0.51425597723627,
          0.5160677467046482,
          0.5164265097146075,
          0.51477951710437,
          0.515691025056479,
          0.5117261324697662,
          0.5147104228781822,
          0.5040075602776941,
          0.5119887016090926,
          0.49597435350040797,
          0.5089757517032412,
          0.5127416699042986,
          0.5125171070753727,
          0.5114204962855249,
          0.5127928847471144,
          0.5084188599497657,
          0.5109869028503553,
          0.5003518180979598,
          0.508937128229529,
          0.4919116983806552,
          0.5055860181747966,
          0.5101129257692246,
          0.509452620589306,
          0.5085542853114968,
          0.5091774193252643,
          0.5046367597572343,
          0.5077528167019878,
          0.49698755173081566,
          0.5054713642777177,
          0.4881645724854386,
          0.5021266831426416,
          0.5054350630733644,
          0.5051820763597075,
          0.5042178485707349,
          0.5053528263373799,
          0.5009700352119759,
          0.5038449205714596,
          0.4928218593543506,
          0.501193209465379,
          0.48371194281924657,
          0.4977473747573705,
          0.5023869019663894,
          0.5018371550671081,
          0.5013774267517008,
          0.5019966576149109,
          0.4974404964578115,
          0.5003361731169408,
          0.48963486504037185,
          0.49783042901777996,
          0.48062071628130454,
          0.4947983434285126,
          0.5000957690775342,
          0.499365878933381,
          0.499094536267885,
          0.49983541091492883,
          0.49511020033144937,
          0.49807964130315197,
          0.4872852262745359,
          0.4953230297344433,
          0.47782706134441544,
          0.4925291143536896,
          0.4974738448763354,
          0.4970589012629232,
          0.4960104143212416,
          0.49690374964742506,
          0.49230743540800964,
          0.49541107206566526,
          0.48458646289084634,
          0.4930400231602262,
          0.47513064020513934,
          0.48997907240551863,
          0.4946918532329271,
          0.4947097893494937,
          0.49344687260019937,
          0.4943706067480448,
          0.4896199390501492,
          0.49305935292067615,
          0.4815043282673444,
          0.4904174520512503,
          0.47271179811509056,
          0.4868121734166144,
          0.4929690001211246,
          0.4927425332836053,
          0.4918353807918229,
          0.4926778122206489,
          0.48801594617455457,
          0.49157449044778984,
          0.479623924630952,
          0.4886396851522897,
          0.4709402970735917,
          0.48521418540060535,
          0.4914398845642062,
          0.4914172097655981,
          0.4905148328721969,
          0.49091064998605094,
          0.4866462819511814,
          0.48945932985213747,
          0.47822676279208265,
          0.48695811306796755,
          0.46984309260443885,
          0.48325065491515407,
          0.489988983072509,
          0.4893559872826715,
          0.4886806959612283,
          0.48936620714403695,
          0.4849814764849213,
          0.48825504666777797,
          0.47687048309263863,
          0.48540506351327395,
          0.46744876253841283,
          0.48223948736048844,
          0.4882256071586629,
          0.4881026282715335,
          0.4871384141002974,
          0.48801175444438644,
          0.4835181470987654,
          0.48643836371505395,
          0.47468364408595987,
          0.4839975570656341,
          0.4656960684328807,
          0.48054074981408146,
          0.48748975672308115,
          0.4871968773314401,
          0.4861727598194106,
          0.48741633415821173,
          0.48256538060632587,
          0.48546031044881854,
          0.47456403283889337,
          0.4824700517057666,
          0.4649162245374695,
          0.47958778679511066,
          0.4866632545550965,
          0.48621006354946716,
          0.4844964129900118,
          0.4861695197665544,
          0.4814020804915344,
          0.4847411619673932,
          0.47329611682960904,
          0.48180233167114717,
          0.463821368337044,
          0.47871573678583956,
          0.4849947147117625,
          0.48484038572491117,
          0.4839800395963621,
          0.48466203111851547,
          0.4797946684535618,
          0.48368304621384794,
          0.47211668598479645,
          0.4806015090192389,
          0.4626500769396642,
          0.47758435883795913,
          0.48411812727865716,
          0.484354738298402,
          0.4832559928488031,
          0.4841697131418537,
          0.47947754264104064,
          0.4827223867980892,
          0.4707964522425246,
          0.4803598146118845,
          0.46227559540470187,
          0.4761876093087248,
          0.4838070324311579,
          0.48355260278171686,
          0.482191161609796,
          0.4831288937286907,
          0.4787043189487902,
          0.4817537728653931,
          0.47078022049494206,
          0.47921111853518683,
          0.46134234678662267,
          0.4759981244274056,
          0.48295981221783235,
          0.4823225315295535,
          0.48193732057125654,
          0.48295044433144585,
          0.47798717700260296,
          0.4808163915866806,
          0.46975366339511326,
          0.4786435769339731,
          0.4605463393442376,
          0.4747397151820144,
          0.4823183500376087,
          0.48194519568813415,
          0.48086504345631126,
          0.48166573500291965,
          0.47703613488814545,
          0.48020791795522233,
          0.46953963377084695,
          0.4778274261804055,
          0.45967004088262553,
          0.474362589587271,
          0.48159342566797947,
          0.48122500156661907,
          0.48016402151149723,
          0.48100290749470914,
          0.4764676132599446,
          0.4796203856588773,
          0.4683883492625275,
          0.47715430062733455,
          0.45899507774652704,
          0.4736451338014739,
          0.48073501535146357,
          0.48063710756954914,
          0.47950515702732094,
          0.4807278153518303,
          0.4760273243175449,
          0.4794635373044148,
          0.4676743564794503,
          0.4766826711281035,
          0.4581194016902594,
          0.47322069379547327,
          0.4807000066093192,
          0.48001113314505583,
          0.47890462593550476,
          0.47978684714645536,
          0.4748744651354797,
          0.4784000045645958,
          0.46755906201609576,
          0.47606130727565077,
          0.45793639247176277,
          0.4726572929519528,
          0.47988047009240575,
          0.47982860864482824,
          0.47849921910490933,
          0.47963048954365334,
          0.47477923776740666,
          0.47817396729289696,
          0.4664672515649772,
          0.4754195355951006,
          0.4577406729737481,
          0.47255389042648094,
          0.47902984813165816,
          0.479276169851247,
          0.4782321700407627,
          0.47873573988525564,
          0.4741481173816523,
          0.4776374948278977,
          0.4662642291880952,
          0.47521444766828547,
          0.45723969834534195,
          0.47136510909621365,
          0.47925173697458606,
          0.47836576859234564,
          0.4777346538377636,
          0.4786147324318108,
          0.47354951368055426,
          0.4769493391226479,
          0.46607300750446123,
          0.4745279711947873,
          0.4566366881802638,
          0.4709470340394579,
          0.478746369940553,
          0.47781887768800957,
          0.47744391513308027,
          0.4782696061170296,
          0.4730456394651254,
          0.4764463479531117,
          0.4652827842495809,
          0.47401691622642217,
          0.4563829170768008,
          0.47048276339026934,
          0.47820390376744826,
          0.47797819358074767,
          0.47703426151493533,
          0.47797662367751204,
          0.47258470343355374,
          0.4764386326133355,
          0.46498475169091735,
          0.4734333627565598,
          0.4558507179622501,
          0.4709308265589752,
          0.47758735780338035,
          0.47769352850607144,
          0.4766398019738414,
          0.47745899386751955,
          0.4723349378377047,
          0.47633122534607364,
          0.4647097429281598,
          0.47360213845452104,
          0.4555018478587143,
          0.4703339151450356,
          0.4776649474659749,
          0.4768671909496234,
          0.47587075082126373,
          0.47703112550297877,
          0.4724034225495519,
          0.47571697382364864,
          0.46440988360020585,
          0.473317861518253,
          0.4550548374351776,
          0.4698003562278132,
          0.4772435399242712,
          0.47694586057778393,
          0.4760449702712278,
          0.47658692704399835,
          0.47178754875524126,
          0.47544018626562257,
          0.4640375870135067,
          0.47263552902903044,
          0.45502818002081913,
          0.4693692448669611,
          0.47673662333443434,
          0.4769762591898053,
          0.4757149246006926,
          0.47652225216287813,
          0.4716639482984791,
          0.47479560988219793,
          0.46377571299599096,
          0.4723445713106414,
          0.45469770998220804,
          0.46914667605143967,
          0.4771550049057234,
          0.47623849468524926,
          0.47502086996451465,
          0.4765756158296591,
          0.471463395006102,
          0.4748291640392118,
          0.46363816071314784,
          0.4719824532113954,
          0.45491730994104773,
          0.468865696982601,
          0.47635247932532354,
          0.47608462024863707,
          0.4752032763851627,
          0.4764482585749451,
          0.47151036738385965,
          0.47434745662613625,
          0.46317505176813495,
          0.47214471619037873,
          0.45389452800985397,
          0.4686189659415017,
          0.47607893376170807,
          0.47591589224767683,
          0.474968221660782,
          0.47583724330537286,
          0.47082072852712115,
          0.47424692780503264,
          0.4630601783807021,
          0.47118521313828465,
          0.45417194208846157,
          0.4684232171697085,
          0.47610146752101534,
          0.47572601249063295,
          0.47410884690198424,
          0.4753821552924625,
          0.47083168616924076,
          0.47427243517660966,
          0.462694162792837,
          0.47150651190086934,
          0.4538326433111953,
          0.4680953361178175,
          0.47578370985771723,
          0.4754802803531228,
          0.47409640169216455,
          0.4751976929025432,
          0.47026868653880316,
          0.47365579516404277,
          0.4624988676652022,
          0.47155642292849237,
          0.45399298302440144,
          0.4678403468540403,
          0.4751889450843821,
          0.4755639987919752,
          0.4742483219160179,
          0.474949596240656,
          0.47048240106267103,
          0.4735424760134376,
          0.46260252645877914,
          0.4712617751694518,
          0.45302503817938533,
          0.46742625392963355,
          0.4750036592485827,
          0.4750513542486756,
          0.47430046362330264,
          0.4746875273197093,
          0.4700922514099754,
          0.4731706399224078,
          0.4619683838379186,
          0.4704832671375201,
          0.453864180835272,
          0.46699568439410766,
          0.4749523424748031,
          0.4749580919860106,
          0.47375070253612783,
          0.4746347394626248,
          0.4699502983397103,
          0.4730346363260416,
          0.4620306629316169,
          0.4707271754026478,
          0.4528216877476682,
          0.46682796334485305,
          0.4746491625034248,
          0.474644289138471,
          0.4736305881184751,
          0.4747497201940081,
          0.46999541761693464,
          0.4732161432145048,
          0.4618833475904638,
          0.4703433560637557,
          0.4529640396183602,
          0.46668125320291,
          0.4746432985570554,
          0.4747697036905113,
          0.4737538465966472,
          0.47469474615155094,
          0.46959886581852545,
          0.4727627326435082,
          0.46170028869017943,
          0.47027150629968534,
          0.45208625892618837,
          0.4668122211873956,
          0.47453945225536065,
          0.47429183439299105,
          0.4731285560982622,
          0.4740509764121322,
          0.46961223212230463,
          0.4727610928543632,
          0.4613288070507716,
          0.47013376205729196,
          0.4524695221646221,
          0.4665970366192608,
          0.47447661214042214,
          0.4744292186703116,
          0.473121434531759,
          0.47400250509123,
          0.4693234734827904,
          0.4727581793766996,
          0.4613032679644036,
          0.47054570161659504,
          0.4519751494786056,
          0.46673465353952076,
          0.47434220637689006,
          0.4743113631478353,
          0.47321116222412124,
          0.4737367422388997,
          0.4692689841455103,
          0.4724817514039606,
          0.46160490654108643,
          0.4699619891576601,
          0.4524606222016525,
          0.46658406466935837,
          0.47407953554112986,
          0.474034033531409,
          0.47313086489994166,
          0.4734953273140803,
          0.46891308824149436,
          0.4725654333425925,
          0.4613472745141881,
          0.46989153023000635,
          0.45230172366232557,
          0.46644543698974295,
          0.47423251891403195,
          0.47366282658762826,
          0.47322315088655087,
          0.47358604950049243,
          0.4690117856396997,
          0.4721099632178303,
          0.46077511850100666,
          0.46948034689899043,
          0.4521634203277005,
          0.4657242793656981,
          0.4738469068260637,
          0.4737160601009669,
          0.47289873554761835,
          0.47379934560973413,
          0.4688069300596194,
          0.47166347364629635,
          0.4607674912753392,
          0.4694023531712339,
          0.4521074881485834,
          0.4661603613614743,
          0.4736248386586023,
          0.47331311298190915,
          0.4726382366584019,
          0.47333301855827653,
          0.4684998627214737,
          0.47195748825604755,
          0.4609242738665916,
          0.46933447772014514,
          0.45170052098963087,
          0.46613974480055254,
          0.47372021197669656,
          0.47346896170180325,
          0.4720869159111073,
          0.4736034304611106,
          0.46858476807908667,
          0.4715822577188392,
          0.460481579511352,
          0.4691094028087408,
          0.4513915287442049,
          0.4661901376458405,
          0.47370096310642185,
          0.4730664111080545,
          0.47237184794937925,
          0.473238800341665,
          0.46847143772670663,
          0.4721965647098741,
          0.4604340028721725,
          0.46946050854572796,
          0.4515026442811223,
          0.4660469540547765,
          0.4734747518161029,
          0.47344437181238463,
          0.4724595665467791,
          0.47303195194890985,
          0.4685037867054789,
          0.47176026260262394,
          0.4600010587333555,
          0.4694806864352923,
          0.45171514470978286,
          0.4660100915542117,
          0.4733338031677451,
          0.4733407112592175,
          0.47211254192437746,
          0.4726831335824187,
          0.4683798283324199,
          0.47154062845682865,
          0.4605172991154813,
          0.46899641240325685,
          0.4515956629118142,
          0.46575427481086284,
          0.4731707842894475,
          0.47316378336564546,
          0.4721365252411104,
          0.4729239799638634,
          0.4681697440891977,
          0.4715645799818524,
          0.46026099920784147,
          0.46936386397970864,
          0.4516417444709978,
          0.4659027925187498,
          0.4731824800267544,
          0.47327215479863144,
          0.47235819948113156,
          0.47262563648715505,
          0.468109575845552,
          0.4720222046250952,
          0.46067451836539997,
          0.4688461400074132,
          0.4519807415548749,
          0.4655425382951456,
          0.4729617534227541,
          0.47315459649244235,
          0.47217841007211386,
          0.47267051238128105,
          0.46822854234140626,
          0.47103921183838343,
          0.4606972436325787,
          0.4689106631586692,
          0.45048205018891435,
          0.46581660707224104,
          0.47272498934262475,
          0.4728873607550266,
          0.472081515537137,
          0.47291857890244193,
          0.46819884422848473,
          0.47153371039094893,
          0.46051499975518617,
          0.4687229978168752,
          0.4509855477210802,
          0.4657347602127824,
          0.4730488238521904,
          0.472740049343621,
          0.47161313325054277,
          0.4721674243746019,
          0.4678001589977384,
          0.47184892510623555,
          0.45967159333005975,
          0.46877498985540306,
          0.45139544498893436,
          0.4658480109961699,
          0.47272917464493047,
          0.47274835550246347,
          0.47204012215065205,
          0.47248199121298384,
          0.46845989651716863,
          0.4711216432599348,
          0.46022328443590743,
          0.4691072703090367,
          0.4509918267378231,
          0.46527136124237845,
          0.4725934400443146,
          0.4728098447489814,
          0.4717206055676384,
          0.47209598878383274,
          0.4679020679692256,
          0.47072359824496895,
          0.45999857209326045,
          0.46847775160266125,
          0.45039104588209905,
          0.46495095592763985,
          0.4729072458966421,
          0.47248388586221785,
          0.4718130619571871,
          0.4719890415726693,
          0.4674139144642079,
          0.4713225036625017,
          0.45960478029077767,
          0.46890727516248054,
          0.4511554275114676,
          0.46509978025543974,
          0.4728335229410162,
          0.47255225006348467,
          0.47145834772738854,
          0.47275967387297235,
          0.4674138831471766,
          0.47079424858122704,
          0.45971391002822426,
          0.4686342848933347,
          0.4505441803401775,
          0.4646224716776842,
          0.47245160574824707,
          0.472643142693846,
          0.4717154760390153,
          0.47240526271453864,
          0.46760640072379145,
          0.4709875892684794,
          0.46018712348117996,
          0.4687566168252762,
          0.4507481746332981,
          0.4655890075326561,
          0.47279795842928996,
          0.47283112839070585,
          0.4716404096295067,
          0.4719619764469671,
          0.4673876225334396,
          0.47066898441461896,
          0.45968670103433384,
          0.46844028006803395,
          0.45061288459107746,
          0.4650451902039666,
          0.4726543877792915,
          0.4724672214546476,
          0.47112545739351785,
          0.4720434687060358,
          0.4669939849762834,
          0.4708400637705227,
          0.45934382916818484,
          0.46891378516647886,
          0.450622134713993,
          0.46488786413887817,
          0.47241831541881263,
          0.47294864259901537,
          0.4710733686467071,
          0.4717657117001915,
          0.46760452835189337,
          0.4703764363143442,
          0.45935935026122415,
          0.4682973915368779,
          0.4506104780551103,
          0.4649254259488572,
          0.47265530981301984,
          0.4722122732768734,
          0.47155523202020205,
          0.4715585166155788,
          0.4679083298814969,
          0.4708583947752441,
          0.45892946187142925,
          0.46839062930146924,
          0.45015496015889056,
          0.4649184176435426,
          0.47248041318930645,
          0.47214356072213604,
          0.47173515835656343,
          0.4718696390504355,
          0.46706086348465364,
          0.47072823527260543,
          0.4594339389480377,
          0.4681288612305712,
          0.4507037110922626,
          0.4643350820493002,
          0.4723454276084605,
          0.47206273123612097,
          0.4712638892055616,
          0.4719141557737182,
          0.46683858580362275,
          0.47024454510629216,
          0.4593939899152204,
          0.46828595768750825,
          0.45065876020358997,
          0.4646663147681215,
          0.4725357153714056,
          0.47193898594339734,
          0.4708032398708585,
          0.4718488692076035,
          0.4671420768056652,
          0.4708326992325027,
          0.45934892761094875,
          0.4681475665092743,
          0.4510249895210888,
          0.46412503598073035,
          0.4721074471689656,
          0.47188493167254975,
          0.4709276819532756,
          0.4716969774041466,
          0.4676804963811903,
          0.47088544138894584,
          0.45929195145414164,
          0.4681489506244605,
          0.45007735766773027,
          0.46465749242735266,
          0.47220932398751203,
          0.4723803201947464,
          0.4714831576049901,
          0.4715446456241874,
          0.46718909018904675,
          0.47051800122023274,
          0.45945489786621485,
          0.4680231920956923,
          0.45047179450831853,
          0.46432084628627157,
          0.47234641232583474,
          0.47191448054781954,
          0.47091484140964013,
          0.4716048032549882,
          0.4672722164231675,
          0.4704636170411721,
          0.4589235274337297,
          0.46844210826710597,
          0.45080116445986335,
          0.4646474207960143,
          0.4723311732449449,
          0.47198912232048096,
          0.47127811430051925,
          0.47150001074785974,
          0.467271735833234,
          0.47024019992193533,
          0.45930079901128473,
          0.467754810949921,
          0.4503249915115347,
          0.4647278942655701,
          0.4720106386515731,
          0.4720325110056395,
          0.4712453523479378,
          0.47159166188100254,
          0.46724830305415943,
          0.4700533710039593,
          0.45889375607806016,
          0.467850428720162,
          0.44996960878869796,
          0.4642970269909374,
          0.47211072964947876,
          0.4716680143658114,
          0.4713114219507971,
          0.4719676299618971,
          0.4672570489633331,
          0.4701216511087364,
          0.45908594957848436,
          0.4673223161471246,
          0.45050318249271915,
          0.46410802296640596,
          0.4721134354275698,
          0.47163007462980916,
          0.47100221143867943,
          0.47155291606224436,
          0.46679943421184394,
          0.4700627367310056,
          0.4591906352347245,
          0.4680115113606914,
          0.4498877917688371,
          0.4644425010413949,
          0.47211834737814706,
          0.47182500703621577,
          0.47105566439692736,
          0.4714898639692193,
          0.4671242887555781,
          0.47023024683213666,
          0.4594516504812062,
          0.46782617226084655,
          0.4496806798269004,
          0.46426760935198796,
          0.47219953806945125,
          0.47219416622978116,
          0.4710401949898195,
          0.4711265896619986,
          0.4670377024299446,
          0.4700741823661041,
          0.458873810084888,
          0.46779033282213056,
          0.449631721261808,
          0.46438424184220095,
          0.4717108065833774,
          0.4717559266215081,
          0.47100826750933433,
          0.4714055718764207,
          0.4666637145102426,
          0.4704194511101125,
          0.4589682601742624,
          0.4676784352459869,
          0.4501132363135187,
          0.46409734712949785,
          0.47179566605005796,
          0.4719426629736438,
          0.4708171470024404,
          0.471547290091912,
          0.4665691985747864,
          0.4698019656716338,
          0.45965876418603613,
          0.46770420895660647,
          0.4498011044129535,
          0.4640714609816346,
          0.4722722396410804,
          0.4712260402056059,
          0.47054501191183373,
          0.47152962928664754,
          0.46685998369354786,
          0.46994184245008275,
          0.4592070635000405,
          0.46792536877674407,
          0.4495703559987933,
          0.4642925944358979
         ],
         "yaxis": "y"
        },
        {
         "type": "scatter",
         "x": [
          20,
          30,
          40
         ],
         "xaxis": "x2",
         "y": [
          50,
          60,
          70
         ],
         "yaxis": "y2"
        }
       ],
       "layout": {
        "height": 600,
        "template": {
         "data": {
          "bar": [
           {
            "error_x": {
             "color": "#2a3f5f"
            },
            "error_y": {
             "color": "#2a3f5f"
            },
            "marker": {
             "line": {
              "color": "#E5ECF6",
              "width": 0.5
             },
             "pattern": {
              "fillmode": "overlay",
              "size": 10,
              "solidity": 0.2
             }
            },
            "type": "bar"
           }
          ],
          "barpolar": [
           {
            "marker": {
             "line": {
              "color": "#E5ECF6",
              "width": 0.5
             },
             "pattern": {
              "fillmode": "overlay",
              "size": 10,
              "solidity": 0.2
             }
            },
            "type": "barpolar"
           }
          ],
          "carpet": [
           {
            "aaxis": {
             "endlinecolor": "#2a3f5f",
             "gridcolor": "white",
             "linecolor": "white",
             "minorgridcolor": "white",
             "startlinecolor": "#2a3f5f"
            },
            "baxis": {
             "endlinecolor": "#2a3f5f",
             "gridcolor": "white",
             "linecolor": "white",
             "minorgridcolor": "white",
             "startlinecolor": "#2a3f5f"
            },
            "type": "carpet"
           }
          ],
          "choropleth": [
           {
            "colorbar": {
             "outlinewidth": 0,
             "ticks": ""
            },
            "type": "choropleth"
           }
          ],
          "contour": [
           {
            "colorbar": {
             "outlinewidth": 0,
             "ticks": ""
            },
            "colorscale": [
             [
              0.0,
              "#0d0887"
             ],
             [
              0.1111111111111111,
              "#46039f"
             ],
             [
              0.2222222222222222,
              "#7201a8"
             ],
             [
              0.3333333333333333,
              "#9c179e"
             ],
             [
              0.4444444444444444,
              "#bd3786"
             ],
             [
              0.5555555555555556,
              "#d8576b"
             ],
             [
              0.6666666666666666,
              "#ed7953"
             ],
             [
              0.7777777777777778,
              "#fb9f3a"
             ],
             [
              0.8888888888888888,
              "#fdca26"
             ],
             [
              1.0,
              "#f0f921"
             ]
            ],
            "type": "contour"
           }
          ],
          "contourcarpet": [
           {
            "colorbar": {
             "outlinewidth": 0,
             "ticks": ""
            },
            "type": "contourcarpet"
           }
          ],
          "heatmap": [
           {
            "colorbar": {
             "outlinewidth": 0,
             "ticks": ""
            },
            "colorscale": [
             [
              0.0,
              "#0d0887"
             ],
             [
              0.1111111111111111,
              "#46039f"
             ],
             [
              0.2222222222222222,
              "#7201a8"
             ],
             [
              0.3333333333333333,
              "#9c179e"
             ],
             [
              0.4444444444444444,
              "#bd3786"
             ],
             [
              0.5555555555555556,
              "#d8576b"
             ],
             [
              0.6666666666666666,
              "#ed7953"
             ],
             [
              0.7777777777777778,
              "#fb9f3a"
             ],
             [
              0.8888888888888888,
              "#fdca26"
             ],
             [
              1.0,
              "#f0f921"
             ]
            ],
            "type": "heatmap"
           }
          ],
          "heatmapgl": [
           {
            "colorbar": {
             "outlinewidth": 0,
             "ticks": ""
            },
            "colorscale": [
             [
              0.0,
              "#0d0887"
             ],
             [
              0.1111111111111111,
              "#46039f"
             ],
             [
              0.2222222222222222,
              "#7201a8"
             ],
             [
              0.3333333333333333,
              "#9c179e"
             ],
             [
              0.4444444444444444,
              "#bd3786"
             ],
             [
              0.5555555555555556,
              "#d8576b"
             ],
             [
              0.6666666666666666,
              "#ed7953"
             ],
             [
              0.7777777777777778,
              "#fb9f3a"
             ],
             [
              0.8888888888888888,
              "#fdca26"
             ],
             [
              1.0,
              "#f0f921"
             ]
            ],
            "type": "heatmapgl"
           }
          ],
          "histogram": [
           {
            "marker": {
             "pattern": {
              "fillmode": "overlay",
              "size": 10,
              "solidity": 0.2
             }
            },
            "type": "histogram"
           }
          ],
          "histogram2d": [
           {
            "colorbar": {
             "outlinewidth": 0,
             "ticks": ""
            },
            "colorscale": [
             [
              0.0,
              "#0d0887"
             ],
             [
              0.1111111111111111,
              "#46039f"
             ],
             [
              0.2222222222222222,
              "#7201a8"
             ],
             [
              0.3333333333333333,
              "#9c179e"
             ],
             [
              0.4444444444444444,
              "#bd3786"
             ],
             [
              0.5555555555555556,
              "#d8576b"
             ],
             [
              0.6666666666666666,
              "#ed7953"
             ],
             [
              0.7777777777777778,
              "#fb9f3a"
             ],
             [
              0.8888888888888888,
              "#fdca26"
             ],
             [
              1.0,
              "#f0f921"
             ]
            ],
            "type": "histogram2d"
           }
          ],
          "histogram2dcontour": [
           {
            "colorbar": {
             "outlinewidth": 0,
             "ticks": ""
            },
            "colorscale": [
             [
              0.0,
              "#0d0887"
             ],
             [
              0.1111111111111111,
              "#46039f"
             ],
             [
              0.2222222222222222,
              "#7201a8"
             ],
             [
              0.3333333333333333,
              "#9c179e"
             ],
             [
              0.4444444444444444,
              "#bd3786"
             ],
             [
              0.5555555555555556,
              "#d8576b"
             ],
             [
              0.6666666666666666,
              "#ed7953"
             ],
             [
              0.7777777777777778,
              "#fb9f3a"
             ],
             [
              0.8888888888888888,
              "#fdca26"
             ],
             [
              1.0,
              "#f0f921"
             ]
            ],
            "type": "histogram2dcontour"
           }
          ],
          "mesh3d": [
           {
            "colorbar": {
             "outlinewidth": 0,
             "ticks": ""
            },
            "type": "mesh3d"
           }
          ],
          "parcoords": [
           {
            "line": {
             "colorbar": {
              "outlinewidth": 0,
              "ticks": ""
             }
            },
            "type": "parcoords"
           }
          ],
          "pie": [
           {
            "automargin": true,
            "type": "pie"
           }
          ],
          "scatter": [
           {
            "marker": {
             "colorbar": {
              "outlinewidth": 0,
              "ticks": ""
             }
            },
            "type": "scatter"
           }
          ],
          "scatter3d": [
           {
            "line": {
             "colorbar": {
              "outlinewidth": 0,
              "ticks": ""
             }
            },
            "marker": {
             "colorbar": {
              "outlinewidth": 0,
              "ticks": ""
             }
            },
            "type": "scatter3d"
           }
          ],
          "scattercarpet": [
           {
            "marker": {
             "colorbar": {
              "outlinewidth": 0,
              "ticks": ""
             }
            },
            "type": "scattercarpet"
           }
          ],
          "scattergeo": [
           {
            "marker": {
             "colorbar": {
              "outlinewidth": 0,
              "ticks": ""
             }
            },
            "type": "scattergeo"
           }
          ],
          "scattergl": [
           {
            "marker": {
             "colorbar": {
              "outlinewidth": 0,
              "ticks": ""
             }
            },
            "type": "scattergl"
           }
          ],
          "scattermapbox": [
           {
            "marker": {
             "colorbar": {
              "outlinewidth": 0,
              "ticks": ""
             }
            },
            "type": "scattermapbox"
           }
          ],
          "scatterpolar": [
           {
            "marker": {
             "colorbar": {
              "outlinewidth": 0,
              "ticks": ""
             }
            },
            "type": "scatterpolar"
           }
          ],
          "scatterpolargl": [
           {
            "marker": {
             "colorbar": {
              "outlinewidth": 0,
              "ticks": ""
             }
            },
            "type": "scatterpolargl"
           }
          ],
          "scatterternary": [
           {
            "marker": {
             "colorbar": {
              "outlinewidth": 0,
              "ticks": ""
             }
            },
            "type": "scatterternary"
           }
          ],
          "surface": [
           {
            "colorbar": {
             "outlinewidth": 0,
             "ticks": ""
            },
            "colorscale": [
             [
              0.0,
              "#0d0887"
             ],
             [
              0.1111111111111111,
              "#46039f"
             ],
             [
              0.2222222222222222,
              "#7201a8"
             ],
             [
              0.3333333333333333,
              "#9c179e"
             ],
             [
              0.4444444444444444,
              "#bd3786"
             ],
             [
              0.5555555555555556,
              "#d8576b"
             ],
             [
              0.6666666666666666,
              "#ed7953"
             ],
             [
              0.7777777777777778,
              "#fb9f3a"
             ],
             [
              0.8888888888888888,
              "#fdca26"
             ],
             [
              1.0,
              "#f0f921"
             ]
            ],
            "type": "surface"
           }
          ],
          "table": [
           {
            "cells": {
             "fill": {
              "color": "#EBF0F8"
             },
             "line": {
              "color": "white"
             }
            },
            "header": {
             "fill": {
              "color": "#C8D4E3"
             },
             "line": {
              "color": "white"
             }
            },
            "type": "table"
           }
          ]
         },
         "layout": {
          "annotationdefaults": {
           "arrowcolor": "#2a3f5f",
           "arrowhead": 0,
           "arrowwidth": 1
          },
          "autotypenumbers": "strict",
          "coloraxis": {
           "colorbar": {
            "outlinewidth": 0,
            "ticks": ""
           }
          },
          "colorscale": {
           "diverging": [
            [
             0,
             "#8e0152"
            ],
            [
             0.1,
             "#c51b7d"
            ],
            [
             0.2,
             "#de77ae"
            ],
            [
             0.3,
             "#f1b6da"
            ],
            [
             0.4,
             "#fde0ef"
            ],
            [
             0.5,
             "#f7f7f7"
            ],
            [
             0.6,
             "#e6f5d0"
            ],
            [
             0.7,
             "#b8e186"
            ],
            [
             0.8,
             "#7fbc41"
            ],
            [
             0.9,
             "#4d9221"
            ],
            [
             1,
             "#276419"
            ]
           ],
           "sequential": [
            [
             0.0,
             "#0d0887"
            ],
            [
             0.1111111111111111,
             "#46039f"
            ],
            [
             0.2222222222222222,
             "#7201a8"
            ],
            [
             0.3333333333333333,
             "#9c179e"
            ],
            [
             0.4444444444444444,
             "#bd3786"
            ],
            [
             0.5555555555555556,
             "#d8576b"
            ],
            [
             0.6666666666666666,
             "#ed7953"
            ],
            [
             0.7777777777777778,
             "#fb9f3a"
            ],
            [
             0.8888888888888888,
             "#fdca26"
            ],
            [
             1.0,
             "#f0f921"
            ]
           ],
           "sequentialminus": [
            [
             0.0,
             "#0d0887"
            ],
            [
             0.1111111111111111,
             "#46039f"
            ],
            [
             0.2222222222222222,
             "#7201a8"
            ],
            [
             0.3333333333333333,
             "#9c179e"
            ],
            [
             0.4444444444444444,
             "#bd3786"
            ],
            [
             0.5555555555555556,
             "#d8576b"
            ],
            [
             0.6666666666666666,
             "#ed7953"
            ],
            [
             0.7777777777777778,
             "#fb9f3a"
            ],
            [
             0.8888888888888888,
             "#fdca26"
            ],
            [
             1.0,
             "#f0f921"
            ]
           ]
          },
          "colorway": [
           "#636efa",
           "#EF553B",
           "#00cc96",
           "#ab63fa",
           "#FFA15A",
           "#19d3f3",
           "#FF6692",
           "#B6E880",
           "#FF97FF",
           "#FECB52"
          ],
          "font": {
           "color": "#2a3f5f"
          },
          "geo": {
           "bgcolor": "white",
           "lakecolor": "white",
           "landcolor": "#E5ECF6",
           "showlakes": true,
           "showland": true,
           "subunitcolor": "white"
          },
          "hoverlabel": {
           "align": "left"
          },
          "hovermode": "closest",
          "mapbox": {
           "style": "light"
          },
          "paper_bgcolor": "white",
          "plot_bgcolor": "#E5ECF6",
          "polar": {
           "angularaxis": {
            "gridcolor": "white",
            "linecolor": "white",
            "ticks": ""
           },
           "bgcolor": "#E5ECF6",
           "radialaxis": {
            "gridcolor": "white",
            "linecolor": "white",
            "ticks": ""
           }
          },
          "scene": {
           "xaxis": {
            "backgroundcolor": "#E5ECF6",
            "gridcolor": "white",
            "gridwidth": 2,
            "linecolor": "white",
            "showbackground": true,
            "ticks": "",
            "zerolinecolor": "white"
           },
           "yaxis": {
            "backgroundcolor": "#E5ECF6",
            "gridcolor": "white",
            "gridwidth": 2,
            "linecolor": "white",
            "showbackground": true,
            "ticks": "",
            "zerolinecolor": "white"
           },
           "zaxis": {
            "backgroundcolor": "#E5ECF6",
            "gridcolor": "white",
            "gridwidth": 2,
            "linecolor": "white",
            "showbackground": true,
            "ticks": "",
            "zerolinecolor": "white"
           }
          },
          "shapedefaults": {
           "line": {
            "color": "#2a3f5f"
           }
          },
          "ternary": {
           "aaxis": {
            "gridcolor": "white",
            "linecolor": "white",
            "ticks": ""
           },
           "baxis": {
            "gridcolor": "white",
            "linecolor": "white",
            "ticks": ""
           },
           "bgcolor": "#E5ECF6",
           "caxis": {
            "gridcolor": "white",
            "linecolor": "white",
            "ticks": ""
           }
          },
          "title": {
           "x": 0.05
          },
          "xaxis": {
           "automargin": true,
           "gridcolor": "white",
           "linecolor": "white",
           "ticks": "",
           "title": {
            "standoff": 15
           },
           "zerolinecolor": "white",
           "zerolinewidth": 2
          },
          "yaxis": {
           "automargin": true,
           "gridcolor": "white",
           "linecolor": "white",
           "ticks": "",
           "title": {
            "standoff": 15
           },
           "zerolinecolor": "white",
           "zerolinewidth": 2
          }
         }
        },
        "title": {
         "text": "Side By Side Subplots"
        },
        "width": 800,
        "xaxis": {
         "anchor": "y",
         "domain": [
          0.0,
          0.45
         ]
        },
        "xaxis10": {
         "anchor": "y10",
         "domain": [
          0.55,
          1.0
         ]
        },
        "xaxis2": {
         "anchor": "y2",
         "domain": [
          0.55,
          1.0
         ]
        },
        "xaxis3": {
         "anchor": "y3",
         "domain": [
          0.0,
          0.45
         ]
        },
        "xaxis4": {
         "anchor": "y4",
         "domain": [
          0.55,
          1.0
         ]
        },
        "xaxis5": {
         "anchor": "y5",
         "domain": [
          0.0,
          0.45
         ]
        },
        "xaxis6": {
         "anchor": "y6",
         "domain": [
          0.55,
          1.0
         ]
        },
        "xaxis7": {
         "anchor": "y7",
         "domain": [
          0.0,
          0.45
         ]
        },
        "xaxis8": {
         "anchor": "y8",
         "domain": [
          0.55,
          1.0
         ]
        },
        "xaxis9": {
         "anchor": "y9",
         "domain": [
          0.0,
          0.45
         ]
        },
        "yaxis": {
         "anchor": "x",
         "domain": [
          0.848,
          1.0
         ]
        },
        "yaxis10": {
         "anchor": "x10",
         "domain": [
          0.0,
          0.152
         ]
        },
        "yaxis2": {
         "anchor": "x2",
         "domain": [
          0.848,
          1.0
         ]
        },
        "yaxis3": {
         "anchor": "x3",
         "domain": [
          0.6359999999999999,
          0.7879999999999999
         ]
        },
        "yaxis4": {
         "anchor": "x4",
         "domain": [
          0.6359999999999999,
          0.7879999999999999
         ]
        },
        "yaxis5": {
         "anchor": "x5",
         "domain": [
          0.424,
          0.576
         ]
        },
        "yaxis6": {
         "anchor": "x6",
         "domain": [
          0.424,
          0.576
         ]
        },
        "yaxis7": {
         "anchor": "x7",
         "domain": [
          0.212,
          0.364
         ]
        },
        "yaxis8": {
         "anchor": "x8",
         "domain": [
          0.212,
          0.364
         ]
        },
        "yaxis9": {
         "anchor": "x9",
         "domain": [
          0.0,
          0.152
         ]
        }
       }
      },
      "text/html": "<div>                            <div id=\"2f708c50-bd2b-4c85-a678-3b1666f9409b\" class=\"plotly-graph-div\" style=\"height:600px; width:800px;\"></div>            <script type=\"text/javascript\">                require([\"plotly\"], function(Plotly) {                    window.PLOTLYENV=window.PLOTLYENV || {};                                    if (document.getElementById(\"2f708c50-bd2b-4c85-a678-3b1666f9409b\")) {                    Plotly.newPlot(                        \"2f708c50-bd2b-4c85-a678-3b1666f9409b\",                        [{\"line\":{\"color\":\"rgb(31, 119, 255)\"},\"mode\":\"lines\",\"name\":\"Mittelwert\",\"type\":\"scatter\",\"xaxis\":\"x\",\"y\":[0.4898029948878537,0.4896262993579566,0.49041559500571097,0.4904402456333798,0.49013306532241113,0.4899426278445931,0.48988453645481916,0.4904602243455,0.48886640012316385,0.4895215995099306,0.4887162939873177,0.4884215716688495,0.48906511336142,0.4886624873218447,0.48800153145870834,0.4884333282822161,0.48706701956771337,0.4891863178224908,0.48505737291738876,0.48710839640806003,0.5110577581042366,0.510987468235698,0.5114731344015753,0.511262905676071,0.5093711501011992,0.5106632325547602,0.5066266468356632,0.510663581358809,0.5030887124187572,0.5077985497785525,0.5235851694133075,0.5235221373247017,0.523009754876382,0.5232452553148347,0.5207449598437907,0.5226368723356406,0.5163400149941267,0.5217928582884929,0.5115083270790025,0.5186436697155444,0.5297896354998624,0.529716540342203,0.529144705890354,0.5294865386376633,0.5263238674318997,0.5284931424297769,0.5211311940897217,0.5276129405001833,0.5151021293098237,0.5240511344085489,0.5280153426269958,0.5282235365265797,0.5276901893762582,0.5279473395664994,0.5245198197396483,0.5266297117113683,0.5186957371547372,0.5252868180501923,0.511763508509964,0.5218104187050353,0.5265213016143653,0.5265242316528825,0.5258504719499295,0.5268995929588302,0.5227690112671707,0.5249526961901834,0.516268721768722,0.5235136309115306,0.5087517940158044,0.5201658960652329,0.524757175259221,0.5251032802944188,0.5241587630423842,0.525075421349915,0.5207252928029488,0.5233054605286432,0.5140609159744347,0.5215581582786719,0.505922186468374,0.5180177350804371,0.521164798530118,0.5215212230032018,0.5202709823072601,0.5214020612048891,0.5171358011128772,0.5197197051145788,0.5100341601231136,0.517865915097066,0.5014233774577764,0.5141891212804084,0.5158980069700112,0.5165158163930138,0.5149448805355199,0.5160451417686827,0.5115623410770651,0.5145414748295194,0.5041454180802075,0.5123271568820156,0.49576308031833777,0.509221543440582,0.5127955738859613,0.5127638504316806,0.5114585010429131,0.5126265632613592,0.5081919899288456,0.5109910867207199,0.5003434953431884,0.5088519157681237,0.4921656960333241,0.5055910693750272,0.5097159136364167,0.5095011808693942,0.5086628994394335,0.5092155127717025,0.5047573607757945,0.5075067119983315,0.4969235431004978,0.5055646728138374,0.4883448030247212,0.5021226052768625,0.5055253970792817,0.505164931621836,0.5044050689557161,0.5052516593769245,0.5008445008435033,0.5037173984492594,0.49301359682635026,0.5014228176895125,0.48380264718024685,0.49795931060818416,0.5023913699266089,0.5018991953946017,0.5013026516102629,0.5017736297730777,0.4973777711278356,0.5003859603708393,0.48963178735236396,0.49789091810122843,0.4805556275479058,0.4944376218303527,0.5001483177909799,0.4995929407149579,0.4988763893159048,0.499879513823454,0.494912608517271,0.4982780072414096,0.48712066743662646,0.49553048676467787,0.47793060581125507,0.4922785468666338,0.49744330201622083,0.49712904187502527,0.49606239567241356,0.49707088704276625,0.4922939734943374,0.4954005329911837,0.48471550486070675,0.493054429181199,0.4750824128788323,0.48986190476741925,0.49476110207682883,0.4946005309516685,0.4934967408555065,0.4944362585357491,0.4896108001152176,0.4930707826979133,0.4814125124029101,0.4903528862270054,0.4722431746122494,0.4869160244525485,0.493011632163519,0.4928975576592308,0.4918414087449156,0.492624924196833,0.4879279034274106,0.4913327766551225,0.47977701717829824,0.48877257916752925,0.4707077544186405,0.4850712312565881,0.4913978276672824,0.49140702262912145,0.4905366944542965,0.4910250509444988,0.48674120094587636,0.4895335791575755,0.47829047606694736,0.4871626433203388,0.46938246474450207,0.48370842897259275,0.48998126910421785,0.4893735972353086,0.4886560704412663,0.48944030063376637,0.48472567501737834,0.48806560074034916,0.47676385932324733,0.4853641250635337,0.46728089922567534,0.48208122029494677,0.48830511008651956,0.48807462308279403,0.48732144319046405,0.4881601245667327,0.48343263276065035,0.4866493320260719,0.47497232505297293,0.48391623722207416,0.4657243840583376,0.4805726371994049,0.48745841939422097,0.48709089673786393,0.4862362376746368,0.487167336778893,0.4824938875718944,0.4854245555232439,0.47436092275210495,0.48280667951608314,0.4648942777530715,0.4795343663966935,0.4866846513531417,0.48625580172642313,0.4847764523919226,0.4861999708337664,0.4814101764443366,0.4848609650070117,0.47334471527125277,0.4818364654675483,0.4638309233989192,0.47885436100407053,0.4851845458751745,0.48481817764182433,0.48396135191179174,0.48482487720671624,0.4798562614835426,0.4835319097078211,0.4720507161967781,0.4807315557481331,0.46258084015995776,0.47744209393572484,0.4841405963104218,0.48441220970073284,0.48324883381239864,0.4841679396000745,0.479333540908125,0.48260812375520296,0.47109576906115874,0.48035010237119297,0.4621992740975068,0.4763284336135303,0.48378081332604933,0.4834595637894329,0.4822675562775746,0.48311602919863383,0.47869533090724786,0.48183300268911,0.4706728546860014,0.47919895641172033,0.46146501157267195,0.4757371237005176,0.4828762064133152,0.48238073713636254,0.4816403216613337,0.4825032905233194,0.4776978162253337,0.48103431548063597,0.4698476905073456,0.47842059376917934,0.4603910691804776,0.4751671443578037,0.4822250963621083,0.48198818086413114,0.48085420139297713,0.48179363201471137,0.47707390848760034,0.4801025698426013,0.4692251619783315,0.4778295539671399,0.45952854429165046,0.47431268876030874,0.4816447800072918,0.4813406876406795,0.48012526922761917,0.48113589856903,0.47637553128380977,0.47968331388099167,0.46838559038550287,0.4771890678218751,0.4593721076964309,0.47362221012414546,0.48091946458281704,0.4804812113660242,0.4795830921310555,0.4806605167690663,0.4756881096582544,0.47944508100926186,0.4680424599245933,0.4764670733360194,0.45827307799256345,0.47341873478200414,0.48062258871875946,0.4801621538257643,0.47900994816316717,0.4800277609712234,0.4750344636848924,0.4785643932791761,0.4671808061505132,0.4761431222663163,0.45789383575604775,0.47288961318126677,0.4800359509269034,0.4799337355779546,0.4786067384336838,0.47921085584376855,0.47465146463119723,0.47812873845213505,0.4666501394948244,0.47561824703661354,0.45735136309487084,0.47231831394342605,0.4791318253182379,0.4793869062205013,0.47840470694197346,0.47877805765028486,0.4740895087062905,0.4776823315213155,0.46626236302832474,0.4752103964464117,0.4571161260289177,0.4716257468635278,0.4792792549884212,0.47840605987839785,0.4778595628248149,0.47866727158496203,0.47348247369982227,0.47714177005605757,0.4662006920972279,0.47475424583803144,0.45649629671444814,0.4714241703984063,0.4786468979458229,0.47800149912106565,0.4774000535418979,0.47827702562993024,0.4732224285508212,0.4767280374143855,0.465316053519224,0.47398011168578924,0.4563699016719341,0.4708192121780377,0.4782096616366414,0.47801530653591395,0.4769293937511388,0.4779294744145621,0.4729183906148197,0.47651380782361286,0.4653866924745812,0.47368386880533925,0.4559613501547571,0.47062630884651907,0.47785120719393637,0.47770016030666723,0.47651859255568346,0.47748294233737437,0.4724375648526649,0.47612608544415996,0.46464831300262815,0.47341554309666484,0.4556222772547836,0.47043127911807503,0.47771179075861436,0.4771810181628065,0.4760421343009821,0.4768936917885585,0.4724895247940964,0.4756239597108905,0.46451100337175844,0.4731130897059896,0.45523763805002987,0.47010509746864176,0.47730984428870804,0.47693553710603237,0.47575385012565286,0.47657010173513004,0.4719745843060768,0.47559776659891,0.46411379514852613,0.4727949438596564,0.45481753323415613,0.4695579626989944,0.47673015435959043,0.47675778524997514,0.4755810082944121,0.47632645559735864,0.47177781110382905,0.4748949328394474,0.46403112790318396,0.4724737105925021,0.4546904512370056,0.46918960080930117,0.47690362984788376,0.476137774345528,0.47513850320902873,0.47632956571675417,0.47148567214266607,0.47491449881907155,0.46350059932554555,0.47193619443857016,0.4545265748400669,0.4688840924672456,0.47633785420503055,0.4760092547644871,0.4749428593541027,0.4763798024535635,0.4712595356086208,0.4743885581528419,0.4633831221566315,0.47190185034179666,0.4539884493110643,0.4685643744295509,0.4759470287658364,0.4758724582547564,0.47476219123008406,0.47584800194691573,0.47085197064973705,0.4744291915632423,0.4630155888593875,0.47149921853964105,0.4539221307848942,0.46842104587900996,0.47630540196240434,0.47559663598820945,0.4741957752360649,0.4755812723647312,0.47062628859864236,0.47402949670018535,0.46275153279517683,0.47149319705750786,0.45386425414727294,0.468025922851515,0.47577632788665514,0.4754383447253851,0.4741889380808009,0.47538549639347116,0.4704502728366119,0.4738321147920109,0.46247629092534626,0.4714294285162649,0.4537904884851836,0.46785049590348177,0.47533444347193665,0.47542890133370774,0.4741562696419467,0.47513360159052537,0.47038032147656517,0.4735896360115177,0.4623070356812002,0.47106919283272447,0.45317554661792037,0.46768194677721325,0.4751741653363764,0.4751633683005777,0.47415733824739553,0.47462213300400874,0.4699026902221319,0.4733737746233778,0.4619064578291427,0.4707934262812054,0.4535193856282448,0.46719928001327643,0.4752553002083644,0.47473436594447593,0.4737071593869596,0.47441231888320023,0.47008289434751727,0.4731144982484023,0.4621098558526702,0.4706645532692106,0.45292009130751487,0.46706509138932834,0.4747268074444706,0.4745302256322637,0.4736265682690029,0.47470360482198115,0.46970234049074094,0.4730167062733904,0.46194915417350646,0.4705076526360023,0.4528592512846351,0.46698074643617216,0.4747963845666746,0.4745484452348238,0.47357664868910254,0.4744486883096569,0.46951371013484144,0.4729859692852955,0.4617700438444611,0.47030203520424113,0.4524621249858523,0.4668444197625262,0.4747794381881975,0.4741870485444017,0.47314011838484377,0.4741343373184765,0.469457255545193,0.47293278387113435,0.4615205888236122,0.4701194885915591,0.4527294505690272,0.4668409124449312,0.47459589889227954,0.4744381671023611,0.47304648773493435,0.47393900948927514,0.46937553835368095,0.4725325623925106,0.46142194260358704,0.47042702852276574,0.45234900276575657,0.46685521820829934,0.47420740335020384,0.4742707677027077,0.4732587199694495,0.4738753038799977,0.46931926008492436,0.4724594891767199,0.46131613550096356,0.4701136914709822,0.4523326507518808,0.466390420972398,0.4740764589041059,0.4740965308566785,0.47308270439557787,0.4735261821534175,0.4689424704680149,0.4724940454861333,0.4612545480289198,0.46977274336601005,0.452270196656776,0.46635863664268246,0.47419656457975673,0.4737140020139355,0.47287291541856297,0.47355039665730203,0.4688278297181639,0.4722026377298379,0.4610195010749039,0.46956792849773343,0.4518631154081873,0.46602970792476744,0.4737820473652334,0.4737117836095753,0.47268335000339695,0.4737901596043681,0.4686605100482547,0.4719813711004535,0.46097048582139644,0.4696780255407761,0.45209248735764984,0.46613398278670304,0.47376119474461303,0.47336605118357605,0.4725493648960748,0.4731871058820898,0.4687241085520786,0.4721303627973054,0.46096427343666885,0.4695080543273345,0.45152330592115014,0.46620627931102365,0.47391138499257135,0.47351684028643365,0.47212704170406145,0.47351549089304595,0.4685325909065962,0.47185557544636547,0.46070401145351775,0.4693849607842381,0.45156911297645036,0.46596167326554383,0.47379637287106335,0.473201088485945,0.4722577587064947,0.4732154992208739,0.46854137254584577,0.47189161054535356,0.46040709113877404,0.4694144722169603,0.45164411797099924,0.4659703945782944,0.47350883801292515,0.4734515394615325,0.472232827624495,0.4730697763260257,0.46826919449426146,0.4717293583584307,0.4603425971714563,0.4693947382212842,0.4516696462832087,0.4657816131831914,0.473159963420809,0.4731876155188381,0.47203327357471114,0.472740506987014,0.4681801913157511,0.4716097624251855,0.4604596071535126,0.46913878950212523,0.45153263001650884,0.46572063912253975,0.4733547828796737,0.47298800994191326,0.4722099061495738,0.47286055713181063,0.4681322870381658,0.4715713743545819,0.46038756784015616,0.46929183735879904,0.4512700057014372,0.4656249258526355,0.4732659512894197,0.47316809352352873,0.472299187176234,0.47284532629866965,0.4683412271138715,0.4716682571331868,0.46046338778667095,0.46895446541465713,0.45158566519496723,0.46566946361680167,0.47302831758533787,0.4730113150501979,0.472132334290741,0.47284256925508233,0.46796598679936197,0.47117641285994166,0.4604939284545858,0.46896663775242875,0.450893197329127,0.4655980210473214,0.4728679134329468,0.47286764633860295,0.4717981710442106,0.47277801884474396,0.46791729982530417,0.4715154431911738,0.4604342559216098,0.4688410245488554,0.45091850069219136,0.46563251726481536,0.4730725116808799,0.47282400512338507,0.4715056194811298,0.4722871898567537,0.467679444300296,0.4715678464741149,0.4598898619871626,0.46891547667441047,0.4510262338953012,0.46553768342061586,0.4726640778144659,0.4728387740932734,0.4718817267807765,0.4723777071869955,0.4678919000533489,0.47107777398577627,0.4601077954975904,0.4690200687489899,0.45080903750904083,0.46542092743028235,0.47276495832482274,0.4728181807039455,0.47160865098822946,0.4721094198342171,0.4678064180413488,0.47081030127939216,0.4599691418790556,0.4686690844739021,0.4507840066071311,0.4650064835237764,0.4730928088371613,0.4725040918097359,0.4718529809411277,0.4720606708991942,0.46755126600438696,0.47134093610858674,0.4597976637871424,0.4687961840909624,0.45089341438231006,0.46511502892684226,0.4727267001326642,0.47251961260877967,0.4714375124978802,0.4726709583585164,0.46741820317010635,0.4708529381587565,0.45967642920107205,0.4685930571222849,0.450677824503481,0.4647925499177015,0.47282313844510165,0.47244999423806,0.47153136716334515,0.47232615279621065,0.467474093002316,0.4709346817609993,0.45997278488964355,0.468633219869191,0.4505139124378206,0.4653611650673669,0.472629960816542,0.47261125685740824,0.4715379232688918,0.4720331484304188,0.4673343121311423,0.4708734644908357,0.4598679510903683,0.4684098666333958,0.4507149071567834,0.4650316001898254,0.4726633512996034,0.4725250115091938,0.47121161961474745,0.47206328928378954,0.4672087200393887,0.4708470092266243,0.45943124599719776,0.4687840206548425,0.4506197693104278,0.46481448988858004,0.47260246091357155,0.4727744401075462,0.4712959916783392,0.4719060483223111,0.46742542240052587,0.4706309827870726,0.45936203909879797,0.4684366790673858,0.45037859924952844,0.4648781092796647,0.4724798818995856,0.47236648814733895,0.4715089479270296,0.47177737986804974,0.46754774920066566,0.47087570543966845,0.4593135402399023,0.468279454800355,0.4506712505578291,0.46488705276274883,0.4726215141009168,0.4721844500298372,0.47153413322438453,0.47185753700498884,0.4673034666673414,0.47078277067601193,0.4595481465868054,0.46831906070301416,0.450459212947688,0.46451450458265325,0.4725148904079583,0.47217396327521466,0.47123375224006236,0.47204139433447095,0.46706658033103976,0.47035942519010604,0.45930391923952213,0.46831794146175615,0.4503811316026061,0.46480528836671764,0.4724514317741173,0.47193317740564994,0.4709486741534981,0.4720349450239763,0.46709645592768356,0.4708708121960094,0.45958388470676764,0.46813012898476725,0.4506885347104567,0.4644524097301002,0.47230883374470173,0.4718394153596997,0.47105145661453834,0.4717878054719743,0.46741313122493744,0.4707640885681975,0.4594626908395733,0.4681906356023711,0.4502540372296175,0.46464808237573574,0.47243321267055144,0.4721332244987679,0.47133835195316837,0.47159955312148477,0.4671946394986286,0.47046694084486596,0.45921070354567284,0.46809019379818056,0.45027405651683117,0.4644238324063725,0.47227533210920086,0.4721409116335246,0.4710085289882499,0.47167918595026276,0.46709113575286154,0.47044857073100227,0.45911471439156787,0.4682686523974436,0.4503914730518727,0.4646479059228957,0.4723109355328852,0.4720417094709987,0.4711540665473774,0.4716678778644205,0.4671606922462439,0.4704748699778653,0.4593998925038332,0.4677723525893001,0.45060544139697495,0.46449582334155176,0.4722744312505738,0.47183956888516376,0.47103173282226596,0.47153561656344756,0.4672809149260659,0.47022608232406615,0.4590621429088826,0.4679165456556189,0.4499366588265474,0.464249715097779,0.47214153422350036,0.47170885701600745,0.47129385700755155,0.471721756870769,0.4668645986001643,0.4699894824956925,0.4592243594075426,0.46762087873263736,0.45014410012446493,0.4642232102693253,0.4722155303448118,0.4718314262506142,0.4708630300228407,0.4716826499950335,0.4667770319471151,0.4702226803472859,0.4593408586158722,0.46795106885999577,0.45024703771694535,0.4644837667941833,0.47218179796986426,0.4718760237837403,0.47095261956527873,0.47154964868785904,0.4669665925693561,0.47016269524378607,0.4592752187386702,0.467835875256049,0.4498514353799952,0.46432795543568994,0.4722276450975764,0.47206968907948227,0.4710031162938426,0.47135055143052423,0.4667821717389186,0.47003267114637265,0.45877049721901453,0.4677956551359967,0.44989194590185666,0.4643111176120963,0.47186338836793895,0.47169062071569834,0.4708361890999361,0.47142440241797356,0.4668487361491577,0.47026260336187714,0.45882269690220523,0.4679610269815194,0.4501640855845139,0.46398014192592885,0.47194968939245957,0.4718403439572825,0.47075039189376955,0.4713326700210321,0.4665257332782735,0.46995304417116,0.45943243707458675,0.46780302647197275,0.4500333825987544,0.4641105466836952,0.4722274010325838,0.4712802710654488,0.4706713848815541,0.47133790210109694,0.4668561127910655,0.4699865715156427,0.4590944595409093,0.46748447085380174,0.4498553888764834,0.46420630461765294],\"yaxis\":\"y\"},{\"line\":{\"color\":\"rgb(31, 255, 180)\"},\"mode\":\"lines\",\"name\":\"Median\",\"type\":\"scatter\",\"xaxis\":\"x\",\"y\":[0.4892905121524852,0.4891751270382487,0.490188101822505,0.4909552204964911,0.49083289546828796,0.490419275929986,0.4895754847470414,0.49050995447073104,0.48927149754140387,0.48915256785806216,0.48852929518857985,0.4880391536009526,0.4890022129522596,0.4885646774548859,0.48796091603989933,0.4890169573371963,0.48667697045718905,0.4896698279483278,0.4854485229817097,0.4871977580663493,0.5104647089666196,0.5111446390249148,0.51203652601791,0.5114691942876799,0.5097513353492638,0.5110469401964803,0.5060517808619599,0.5108486613060669,0.5029192726547217,0.5077539282200857,0.5229731767900041,0.5238931084815662,0.5229747936528909,0.5234482769904858,0.5208033059702405,0.5229273816506725,0.5160259876704902,0.5222150610857201,0.5116149449636079,0.5187882465027855,0.5296303113699077,0.5299728227921991,0.529086987376073,0.5290004646119584,0.5265667570743982,0.5291029030469264,0.5205830877071016,0.5276039943230586,0.5147944174086402,0.5243506478009868,0.5277445942833338,0.5282651007968893,0.5276169555965093,0.5279826101085501,0.525069934466418,0.5270278631669606,0.5185691614247243,0.5244661818826345,0.5109234920825944,0.5216818514733428,0.5262235718865658,0.5267936523392418,0.5257243413056598,0.5269638375933383,0.5234014846348173,0.5250004362192617,0.5157933364048772,0.5239006595019634,0.5083769743764077,0.5201151072823327,0.5247927278716484,0.5251289062193936,0.524104857663515,0.5249040192453871,0.5205505724793476,0.5236236083943171,0.5139469663900444,0.5213611283946635,0.506163343237297,0.5182704828600733,0.5216054932011708,0.5219387716786534,0.520295512132661,0.5213054579952496,0.5174754189855157,0.519928830926051,0.5102233084824119,0.5178228939362453,0.5015981844750341,0.51425597723627,0.5160677467046482,0.5164265097146075,0.51477951710437,0.515691025056479,0.5117261324697662,0.5147104228781822,0.5040075602776941,0.5119887016090926,0.49597435350040797,0.5089757517032412,0.5127416699042986,0.5125171070753727,0.5114204962855249,0.5127928847471144,0.5084188599497657,0.5109869028503553,0.5003518180979598,0.508937128229529,0.4919116983806552,0.5055860181747966,0.5101129257692246,0.509452620589306,0.5085542853114968,0.5091774193252643,0.5046367597572343,0.5077528167019878,0.49698755173081566,0.5054713642777177,0.4881645724854386,0.5021266831426416,0.5054350630733644,0.5051820763597075,0.5042178485707349,0.5053528263373799,0.5009700352119759,0.5038449205714596,0.4928218593543506,0.501193209465379,0.48371194281924657,0.4977473747573705,0.5023869019663894,0.5018371550671081,0.5013774267517008,0.5019966576149109,0.4974404964578115,0.5003361731169408,0.48963486504037185,0.49783042901777996,0.48062071628130454,0.4947983434285126,0.5000957690775342,0.499365878933381,0.499094536267885,0.49983541091492883,0.49511020033144937,0.49807964130315197,0.4872852262745359,0.4953230297344433,0.47782706134441544,0.4925291143536896,0.4974738448763354,0.4970589012629232,0.4960104143212416,0.49690374964742506,0.49230743540800964,0.49541107206566526,0.48458646289084634,0.4930400231602262,0.47513064020513934,0.48997907240551863,0.4946918532329271,0.4947097893494937,0.49344687260019937,0.4943706067480448,0.4896199390501492,0.49305935292067615,0.4815043282673444,0.4904174520512503,0.47271179811509056,0.4868121734166144,0.4929690001211246,0.4927425332836053,0.4918353807918229,0.4926778122206489,0.48801594617455457,0.49157449044778984,0.479623924630952,0.4886396851522897,0.4709402970735917,0.48521418540060535,0.4914398845642062,0.4914172097655981,0.4905148328721969,0.49091064998605094,0.4866462819511814,0.48945932985213747,0.47822676279208265,0.48695811306796755,0.46984309260443885,0.48325065491515407,0.489988983072509,0.4893559872826715,0.4886806959612283,0.48936620714403695,0.4849814764849213,0.48825504666777797,0.47687048309263863,0.48540506351327395,0.46744876253841283,0.48223948736048844,0.4882256071586629,0.4881026282715335,0.4871384141002974,0.48801175444438644,0.4835181470987654,0.48643836371505395,0.47468364408595987,0.4839975570656341,0.4656960684328807,0.48054074981408146,0.48748975672308115,0.4871968773314401,0.4861727598194106,0.48741633415821173,0.48256538060632587,0.48546031044881854,0.47456403283889337,0.4824700517057666,0.4649162245374695,0.47958778679511066,0.4866632545550965,0.48621006354946716,0.4844964129900118,0.4861695197665544,0.4814020804915344,0.4847411619673932,0.47329611682960904,0.48180233167114717,0.463821368337044,0.47871573678583956,0.4849947147117625,0.48484038572491117,0.4839800395963621,0.48466203111851547,0.4797946684535618,0.48368304621384794,0.47211668598479645,0.4806015090192389,0.4626500769396642,0.47758435883795913,0.48411812727865716,0.484354738298402,0.4832559928488031,0.4841697131418537,0.47947754264104064,0.4827223867980892,0.4707964522425246,0.4803598146118845,0.46227559540470187,0.4761876093087248,0.4838070324311579,0.48355260278171686,0.482191161609796,0.4831288937286907,0.4787043189487902,0.4817537728653931,0.47078022049494206,0.47921111853518683,0.46134234678662267,0.4759981244274056,0.48295981221783235,0.4823225315295535,0.48193732057125654,0.48295044433144585,0.47798717700260296,0.4808163915866806,0.46975366339511326,0.4786435769339731,0.4605463393442376,0.4747397151820144,0.4823183500376087,0.48194519568813415,0.48086504345631126,0.48166573500291965,0.47703613488814545,0.48020791795522233,0.46953963377084695,0.4778274261804055,0.45967004088262553,0.474362589587271,0.48159342566797947,0.48122500156661907,0.48016402151149723,0.48100290749470914,0.4764676132599446,0.4796203856588773,0.4683883492625275,0.47715430062733455,0.45899507774652704,0.4736451338014739,0.48073501535146357,0.48063710756954914,0.47950515702732094,0.4807278153518303,0.4760273243175449,0.4794635373044148,0.4676743564794503,0.4766826711281035,0.4581194016902594,0.47322069379547327,0.4807000066093192,0.48001113314505583,0.47890462593550476,0.47978684714645536,0.4748744651354797,0.4784000045645958,0.46755906201609576,0.47606130727565077,0.45793639247176277,0.4726572929519528,0.47988047009240575,0.47982860864482824,0.47849921910490933,0.47963048954365334,0.47477923776740666,0.47817396729289696,0.4664672515649772,0.4754195355951006,0.4577406729737481,0.47255389042648094,0.47902984813165816,0.479276169851247,0.4782321700407627,0.47873573988525564,0.4741481173816523,0.4776374948278977,0.4662642291880952,0.47521444766828547,0.45723969834534195,0.47136510909621365,0.47925173697458606,0.47836576859234564,0.4777346538377636,0.4786147324318108,0.47354951368055426,0.4769493391226479,0.46607300750446123,0.4745279711947873,0.4566366881802638,0.4709470340394579,0.478746369940553,0.47781887768800957,0.47744391513308027,0.4782696061170296,0.4730456394651254,0.4764463479531117,0.4652827842495809,0.47401691622642217,0.4563829170768008,0.47048276339026934,0.47820390376744826,0.47797819358074767,0.47703426151493533,0.47797662367751204,0.47258470343355374,0.4764386326133355,0.46498475169091735,0.4734333627565598,0.4558507179622501,0.4709308265589752,0.47758735780338035,0.47769352850607144,0.4766398019738414,0.47745899386751955,0.4723349378377047,0.47633122534607364,0.4647097429281598,0.47360213845452104,0.4555018478587143,0.4703339151450356,0.4776649474659749,0.4768671909496234,0.47587075082126373,0.47703112550297877,0.4724034225495519,0.47571697382364864,0.46440988360020585,0.473317861518253,0.4550548374351776,0.4698003562278132,0.4772435399242712,0.47694586057778393,0.4760449702712278,0.47658692704399835,0.47178754875524126,0.47544018626562257,0.4640375870135067,0.47263552902903044,0.45502818002081913,0.4693692448669611,0.47673662333443434,0.4769762591898053,0.4757149246006926,0.47652225216287813,0.4716639482984791,0.47479560988219793,0.46377571299599096,0.4723445713106414,0.45469770998220804,0.46914667605143967,0.4771550049057234,0.47623849468524926,0.47502086996451465,0.4765756158296591,0.471463395006102,0.4748291640392118,0.46363816071314784,0.4719824532113954,0.45491730994104773,0.468865696982601,0.47635247932532354,0.47608462024863707,0.4752032763851627,0.4764482585749451,0.47151036738385965,0.47434745662613625,0.46317505176813495,0.47214471619037873,0.45389452800985397,0.4686189659415017,0.47607893376170807,0.47591589224767683,0.474968221660782,0.47583724330537286,0.47082072852712115,0.47424692780503264,0.4630601783807021,0.47118521313828465,0.45417194208846157,0.4684232171697085,0.47610146752101534,0.47572601249063295,0.47410884690198424,0.4753821552924625,0.47083168616924076,0.47427243517660966,0.462694162792837,0.47150651190086934,0.4538326433111953,0.4680953361178175,0.47578370985771723,0.4754802803531228,0.47409640169216455,0.4751976929025432,0.47026868653880316,0.47365579516404277,0.4624988676652022,0.47155642292849237,0.45399298302440144,0.4678403468540403,0.4751889450843821,0.4755639987919752,0.4742483219160179,0.474949596240656,0.47048240106267103,0.4735424760134376,0.46260252645877914,0.4712617751694518,0.45302503817938533,0.46742625392963355,0.4750036592485827,0.4750513542486756,0.47430046362330264,0.4746875273197093,0.4700922514099754,0.4731706399224078,0.4619683838379186,0.4704832671375201,0.453864180835272,0.46699568439410766,0.4749523424748031,0.4749580919860106,0.47375070253612783,0.4746347394626248,0.4699502983397103,0.4730346363260416,0.4620306629316169,0.4707271754026478,0.4528216877476682,0.46682796334485305,0.4746491625034248,0.474644289138471,0.4736305881184751,0.4747497201940081,0.46999541761693464,0.4732161432145048,0.4618833475904638,0.4703433560637557,0.4529640396183602,0.46668125320291,0.4746432985570554,0.4747697036905113,0.4737538465966472,0.47469474615155094,0.46959886581852545,0.4727627326435082,0.46170028869017943,0.47027150629968534,0.45208625892618837,0.4668122211873956,0.47453945225536065,0.47429183439299105,0.4731285560982622,0.4740509764121322,0.46961223212230463,0.4727610928543632,0.4613288070507716,0.47013376205729196,0.4524695221646221,0.4665970366192608,0.47447661214042214,0.4744292186703116,0.473121434531759,0.47400250509123,0.4693234734827904,0.4727581793766996,0.4613032679644036,0.47054570161659504,0.4519751494786056,0.46673465353952076,0.47434220637689006,0.4743113631478353,0.47321116222412124,0.4737367422388997,0.4692689841455103,0.4724817514039606,0.46160490654108643,0.4699619891576601,0.4524606222016525,0.46658406466935837,0.47407953554112986,0.474034033531409,0.47313086489994166,0.4734953273140803,0.46891308824149436,0.4725654333425925,0.4613472745141881,0.46989153023000635,0.45230172366232557,0.46644543698974295,0.47423251891403195,0.47366282658762826,0.47322315088655087,0.47358604950049243,0.4690117856396997,0.4721099632178303,0.46077511850100666,0.46948034689899043,0.4521634203277005,0.4657242793656981,0.4738469068260637,0.4737160601009669,0.47289873554761835,0.47379934560973413,0.4688069300596194,0.47166347364629635,0.4607674912753392,0.4694023531712339,0.4521074881485834,0.4661603613614743,0.4736248386586023,0.47331311298190915,0.4726382366584019,0.47333301855827653,0.4684998627214737,0.47195748825604755,0.4609242738665916,0.46933447772014514,0.45170052098963087,0.46613974480055254,0.47372021197669656,0.47346896170180325,0.4720869159111073,0.4736034304611106,0.46858476807908667,0.4715822577188392,0.460481579511352,0.4691094028087408,0.4513915287442049,0.4661901376458405,0.47370096310642185,0.4730664111080545,0.47237184794937925,0.473238800341665,0.46847143772670663,0.4721965647098741,0.4604340028721725,0.46946050854572796,0.4515026442811223,0.4660469540547765,0.4734747518161029,0.47344437181238463,0.4724595665467791,0.47303195194890985,0.4685037867054789,0.47176026260262394,0.4600010587333555,0.4694806864352923,0.45171514470978286,0.4660100915542117,0.4733338031677451,0.4733407112592175,0.47211254192437746,0.4726831335824187,0.4683798283324199,0.47154062845682865,0.4605172991154813,0.46899641240325685,0.4515956629118142,0.46575427481086284,0.4731707842894475,0.47316378336564546,0.4721365252411104,0.4729239799638634,0.4681697440891977,0.4715645799818524,0.46026099920784147,0.46936386397970864,0.4516417444709978,0.4659027925187498,0.4731824800267544,0.47327215479863144,0.47235819948113156,0.47262563648715505,0.468109575845552,0.4720222046250952,0.46067451836539997,0.4688461400074132,0.4519807415548749,0.4655425382951456,0.4729617534227541,0.47315459649244235,0.47217841007211386,0.47267051238128105,0.46822854234140626,0.47103921183838343,0.4606972436325787,0.4689106631586692,0.45048205018891435,0.46581660707224104,0.47272498934262475,0.4728873607550266,0.472081515537137,0.47291857890244193,0.46819884422848473,0.47153371039094893,0.46051499975518617,0.4687229978168752,0.4509855477210802,0.4657347602127824,0.4730488238521904,0.472740049343621,0.47161313325054277,0.4721674243746019,0.4678001589977384,0.47184892510623555,0.45967159333005975,0.46877498985540306,0.45139544498893436,0.4658480109961699,0.47272917464493047,0.47274835550246347,0.47204012215065205,0.47248199121298384,0.46845989651716863,0.4711216432599348,0.46022328443590743,0.4691072703090367,0.4509918267378231,0.46527136124237845,0.4725934400443146,0.4728098447489814,0.4717206055676384,0.47209598878383274,0.4679020679692256,0.47072359824496895,0.45999857209326045,0.46847775160266125,0.45039104588209905,0.46495095592763985,0.4729072458966421,0.47248388586221785,0.4718130619571871,0.4719890415726693,0.4674139144642079,0.4713225036625017,0.45960478029077767,0.46890727516248054,0.4511554275114676,0.46509978025543974,0.4728335229410162,0.47255225006348467,0.47145834772738854,0.47275967387297235,0.4674138831471766,0.47079424858122704,0.45971391002822426,0.4686342848933347,0.4505441803401775,0.4646224716776842,0.47245160574824707,0.472643142693846,0.4717154760390153,0.47240526271453864,0.46760640072379145,0.4709875892684794,0.46018712348117996,0.4687566168252762,0.4507481746332981,0.4655890075326561,0.47279795842928996,0.47283112839070585,0.4716404096295067,0.4719619764469671,0.4673876225334396,0.47066898441461896,0.45968670103433384,0.46844028006803395,0.45061288459107746,0.4650451902039666,0.4726543877792915,0.4724672214546476,0.47112545739351785,0.4720434687060358,0.4669939849762834,0.4708400637705227,0.45934382916818484,0.46891378516647886,0.450622134713993,0.46488786413887817,0.47241831541881263,0.47294864259901537,0.4710733686467071,0.4717657117001915,0.46760452835189337,0.4703764363143442,0.45935935026122415,0.4682973915368779,0.4506104780551103,0.4649254259488572,0.47265530981301984,0.4722122732768734,0.47155523202020205,0.4715585166155788,0.4679083298814969,0.4708583947752441,0.45892946187142925,0.46839062930146924,0.45015496015889056,0.4649184176435426,0.47248041318930645,0.47214356072213604,0.47173515835656343,0.4718696390504355,0.46706086348465364,0.47072823527260543,0.4594339389480377,0.4681288612305712,0.4507037110922626,0.4643350820493002,0.4723454276084605,0.47206273123612097,0.4712638892055616,0.4719141557737182,0.46683858580362275,0.47024454510629216,0.4593939899152204,0.46828595768750825,0.45065876020358997,0.4646663147681215,0.4725357153714056,0.47193898594339734,0.4708032398708585,0.4718488692076035,0.4671420768056652,0.4708326992325027,0.45934892761094875,0.4681475665092743,0.4510249895210888,0.46412503598073035,0.4721074471689656,0.47188493167254975,0.4709276819532756,0.4716969774041466,0.4676804963811903,0.47088544138894584,0.45929195145414164,0.4681489506244605,0.45007735766773027,0.46465749242735266,0.47220932398751203,0.4723803201947464,0.4714831576049901,0.4715446456241874,0.46718909018904675,0.47051800122023274,0.45945489786621485,0.4680231920956923,0.45047179450831853,0.46432084628627157,0.47234641232583474,0.47191448054781954,0.47091484140964013,0.4716048032549882,0.4672722164231675,0.4704636170411721,0.4589235274337297,0.46844210826710597,0.45080116445986335,0.4646474207960143,0.4723311732449449,0.47198912232048096,0.47127811430051925,0.47150001074785974,0.467271735833234,0.47024019992193533,0.45930079901128473,0.467754810949921,0.4503249915115347,0.4647278942655701,0.4720106386515731,0.4720325110056395,0.4712453523479378,0.47159166188100254,0.46724830305415943,0.4700533710039593,0.45889375607806016,0.467850428720162,0.44996960878869796,0.4642970269909374,0.47211072964947876,0.4716680143658114,0.4713114219507971,0.4719676299618971,0.4672570489633331,0.4701216511087364,0.45908594957848436,0.4673223161471246,0.45050318249271915,0.46410802296640596,0.4721134354275698,0.47163007462980916,0.47100221143867943,0.47155291606224436,0.46679943421184394,0.4700627367310056,0.4591906352347245,0.4680115113606914,0.4498877917688371,0.4644425010413949,0.47211834737814706,0.47182500703621577,0.47105566439692736,0.4714898639692193,0.4671242887555781,0.47023024683213666,0.4594516504812062,0.46782617226084655,0.4496806798269004,0.46426760935198796,0.47219953806945125,0.47219416622978116,0.4710401949898195,0.4711265896619986,0.4670377024299446,0.4700741823661041,0.458873810084888,0.46779033282213056,0.449631721261808,0.46438424184220095,0.4717108065833774,0.4717559266215081,0.47100826750933433,0.4714055718764207,0.4666637145102426,0.4704194511101125,0.4589682601742624,0.4676784352459869,0.4501132363135187,0.46409734712949785,0.47179566605005796,0.4719426629736438,0.4708171470024404,0.471547290091912,0.4665691985747864,0.4698019656716338,0.45965876418603613,0.46770420895660647,0.4498011044129535,0.4640714609816346,0.4722722396410804,0.4712260402056059,0.47054501191183373,0.47152962928664754,0.46685998369354786,0.46994184245008275,0.4592070635000405,0.46792536877674407,0.4495703559987933,0.4642925944358979],\"yaxis\":\"y\"},{\"type\":\"scatter\",\"x\":[20,30,40],\"xaxis\":\"x2\",\"y\":[50,60,70],\"yaxis\":\"y2\"}],                        {\"height\":600,\"template\":{\"data\":{\"bar\":[{\"error_x\":{\"color\":\"#2a3f5f\"},\"error_y\":{\"color\":\"#2a3f5f\"},\"marker\":{\"line\":{\"color\":\"#E5ECF6\",\"width\":0.5},\"pattern\":{\"fillmode\":\"overlay\",\"size\":10,\"solidity\":0.2}},\"type\":\"bar\"}],\"barpolar\":[{\"marker\":{\"line\":{\"color\":\"#E5ECF6\",\"width\":0.5},\"pattern\":{\"fillmode\":\"overlay\",\"size\":10,\"solidity\":0.2}},\"type\":\"barpolar\"}],\"carpet\":[{\"aaxis\":{\"endlinecolor\":\"#2a3f5f\",\"gridcolor\":\"white\",\"linecolor\":\"white\",\"minorgridcolor\":\"white\",\"startlinecolor\":\"#2a3f5f\"},\"baxis\":{\"endlinecolor\":\"#2a3f5f\",\"gridcolor\":\"white\",\"linecolor\":\"white\",\"minorgridcolor\":\"white\",\"startlinecolor\":\"#2a3f5f\"},\"type\":\"carpet\"}],\"choropleth\":[{\"colorbar\":{\"outlinewidth\":0,\"ticks\":\"\"},\"type\":\"choropleth\"}],\"contour\":[{\"colorbar\":{\"outlinewidth\":0,\"ticks\":\"\"},\"colorscale\":[[0.0,\"#0d0887\"],[0.1111111111111111,\"#46039f\"],[0.2222222222222222,\"#7201a8\"],[0.3333333333333333,\"#9c179e\"],[0.4444444444444444,\"#bd3786\"],[0.5555555555555556,\"#d8576b\"],[0.6666666666666666,\"#ed7953\"],[0.7777777777777778,\"#fb9f3a\"],[0.8888888888888888,\"#fdca26\"],[1.0,\"#f0f921\"]],\"type\":\"contour\"}],\"contourcarpet\":[{\"colorbar\":{\"outlinewidth\":0,\"ticks\":\"\"},\"type\":\"contourcarpet\"}],\"heatmap\":[{\"colorbar\":{\"outlinewidth\":0,\"ticks\":\"\"},\"colorscale\":[[0.0,\"#0d0887\"],[0.1111111111111111,\"#46039f\"],[0.2222222222222222,\"#7201a8\"],[0.3333333333333333,\"#9c179e\"],[0.4444444444444444,\"#bd3786\"],[0.5555555555555556,\"#d8576b\"],[0.6666666666666666,\"#ed7953\"],[0.7777777777777778,\"#fb9f3a\"],[0.8888888888888888,\"#fdca26\"],[1.0,\"#f0f921\"]],\"type\":\"heatmap\"}],\"heatmapgl\":[{\"colorbar\":{\"outlinewidth\":0,\"ticks\":\"\"},\"colorscale\":[[0.0,\"#0d0887\"],[0.1111111111111111,\"#46039f\"],[0.2222222222222222,\"#7201a8\"],[0.3333333333333333,\"#9c179e\"],[0.4444444444444444,\"#bd3786\"],[0.5555555555555556,\"#d8576b\"],[0.6666666666666666,\"#ed7953\"],[0.7777777777777778,\"#fb9f3a\"],[0.8888888888888888,\"#fdca26\"],[1.0,\"#f0f921\"]],\"type\":\"heatmapgl\"}],\"histogram\":[{\"marker\":{\"pattern\":{\"fillmode\":\"overlay\",\"size\":10,\"solidity\":0.2}},\"type\":\"histogram\"}],\"histogram2d\":[{\"colorbar\":{\"outlinewidth\":0,\"ticks\":\"\"},\"colorscale\":[[0.0,\"#0d0887\"],[0.1111111111111111,\"#46039f\"],[0.2222222222222222,\"#7201a8\"],[0.3333333333333333,\"#9c179e\"],[0.4444444444444444,\"#bd3786\"],[0.5555555555555556,\"#d8576b\"],[0.6666666666666666,\"#ed7953\"],[0.7777777777777778,\"#fb9f3a\"],[0.8888888888888888,\"#fdca26\"],[1.0,\"#f0f921\"]],\"type\":\"histogram2d\"}],\"histogram2dcontour\":[{\"colorbar\":{\"outlinewidth\":0,\"ticks\":\"\"},\"colorscale\":[[0.0,\"#0d0887\"],[0.1111111111111111,\"#46039f\"],[0.2222222222222222,\"#7201a8\"],[0.3333333333333333,\"#9c179e\"],[0.4444444444444444,\"#bd3786\"],[0.5555555555555556,\"#d8576b\"],[0.6666666666666666,\"#ed7953\"],[0.7777777777777778,\"#fb9f3a\"],[0.8888888888888888,\"#fdca26\"],[1.0,\"#f0f921\"]],\"type\":\"histogram2dcontour\"}],\"mesh3d\":[{\"colorbar\":{\"outlinewidth\":0,\"ticks\":\"\"},\"type\":\"mesh3d\"}],\"parcoords\":[{\"line\":{\"colorbar\":{\"outlinewidth\":0,\"ticks\":\"\"}},\"type\":\"parcoords\"}],\"pie\":[{\"automargin\":true,\"type\":\"pie\"}],\"scatter\":[{\"marker\":{\"colorbar\":{\"outlinewidth\":0,\"ticks\":\"\"}},\"type\":\"scatter\"}],\"scatter3d\":[{\"line\":{\"colorbar\":{\"outlinewidth\":0,\"ticks\":\"\"}},\"marker\":{\"colorbar\":{\"outlinewidth\":0,\"ticks\":\"\"}},\"type\":\"scatter3d\"}],\"scattercarpet\":[{\"marker\":{\"colorbar\":{\"outlinewidth\":0,\"ticks\":\"\"}},\"type\":\"scattercarpet\"}],\"scattergeo\":[{\"marker\":{\"colorbar\":{\"outlinewidth\":0,\"ticks\":\"\"}},\"type\":\"scattergeo\"}],\"scattergl\":[{\"marker\":{\"colorbar\":{\"outlinewidth\":0,\"ticks\":\"\"}},\"type\":\"scattergl\"}],\"scattermapbox\":[{\"marker\":{\"colorbar\":{\"outlinewidth\":0,\"ticks\":\"\"}},\"type\":\"scattermapbox\"}],\"scatterpolar\":[{\"marker\":{\"colorbar\":{\"outlinewidth\":0,\"ticks\":\"\"}},\"type\":\"scatterpolar\"}],\"scatterpolargl\":[{\"marker\":{\"colorbar\":{\"outlinewidth\":0,\"ticks\":\"\"}},\"type\":\"scatterpolargl\"}],\"scatterternary\":[{\"marker\":{\"colorbar\":{\"outlinewidth\":0,\"ticks\":\"\"}},\"type\":\"scatterternary\"}],\"surface\":[{\"colorbar\":{\"outlinewidth\":0,\"ticks\":\"\"},\"colorscale\":[[0.0,\"#0d0887\"],[0.1111111111111111,\"#46039f\"],[0.2222222222222222,\"#7201a8\"],[0.3333333333333333,\"#9c179e\"],[0.4444444444444444,\"#bd3786\"],[0.5555555555555556,\"#d8576b\"],[0.6666666666666666,\"#ed7953\"],[0.7777777777777778,\"#fb9f3a\"],[0.8888888888888888,\"#fdca26\"],[1.0,\"#f0f921\"]],\"type\":\"surface\"}],\"table\":[{\"cells\":{\"fill\":{\"color\":\"#EBF0F8\"},\"line\":{\"color\":\"white\"}},\"header\":{\"fill\":{\"color\":\"#C8D4E3\"},\"line\":{\"color\":\"white\"}},\"type\":\"table\"}]},\"layout\":{\"annotationdefaults\":{\"arrowcolor\":\"#2a3f5f\",\"arrowhead\":0,\"arrowwidth\":1},\"autotypenumbers\":\"strict\",\"coloraxis\":{\"colorbar\":{\"outlinewidth\":0,\"ticks\":\"\"}},\"colorscale\":{\"diverging\":[[0,\"#8e0152\"],[0.1,\"#c51b7d\"],[0.2,\"#de77ae\"],[0.3,\"#f1b6da\"],[0.4,\"#fde0ef\"],[0.5,\"#f7f7f7\"],[0.6,\"#e6f5d0\"],[0.7,\"#b8e186\"],[0.8,\"#7fbc41\"],[0.9,\"#4d9221\"],[1,\"#276419\"]],\"sequential\":[[0.0,\"#0d0887\"],[0.1111111111111111,\"#46039f\"],[0.2222222222222222,\"#7201a8\"],[0.3333333333333333,\"#9c179e\"],[0.4444444444444444,\"#bd3786\"],[0.5555555555555556,\"#d8576b\"],[0.6666666666666666,\"#ed7953\"],[0.7777777777777778,\"#fb9f3a\"],[0.8888888888888888,\"#fdca26\"],[1.0,\"#f0f921\"]],\"sequentialminus\":[[0.0,\"#0d0887\"],[0.1111111111111111,\"#46039f\"],[0.2222222222222222,\"#7201a8\"],[0.3333333333333333,\"#9c179e\"],[0.4444444444444444,\"#bd3786\"],[0.5555555555555556,\"#d8576b\"],[0.6666666666666666,\"#ed7953\"],[0.7777777777777778,\"#fb9f3a\"],[0.8888888888888888,\"#fdca26\"],[1.0,\"#f0f921\"]]},\"colorway\":[\"#636efa\",\"#EF553B\",\"#00cc96\",\"#ab63fa\",\"#FFA15A\",\"#19d3f3\",\"#FF6692\",\"#B6E880\",\"#FF97FF\",\"#FECB52\"],\"font\":{\"color\":\"#2a3f5f\"},\"geo\":{\"bgcolor\":\"white\",\"lakecolor\":\"white\",\"landcolor\":\"#E5ECF6\",\"showlakes\":true,\"showland\":true,\"subunitcolor\":\"white\"},\"hoverlabel\":{\"align\":\"left\"},\"hovermode\":\"closest\",\"mapbox\":{\"style\":\"light\"},\"paper_bgcolor\":\"white\",\"plot_bgcolor\":\"#E5ECF6\",\"polar\":{\"angularaxis\":{\"gridcolor\":\"white\",\"linecolor\":\"white\",\"ticks\":\"\"},\"bgcolor\":\"#E5ECF6\",\"radialaxis\":{\"gridcolor\":\"white\",\"linecolor\":\"white\",\"ticks\":\"\"}},\"scene\":{\"xaxis\":{\"backgroundcolor\":\"#E5ECF6\",\"gridcolor\":\"white\",\"gridwidth\":2,\"linecolor\":\"white\",\"showbackground\":true,\"ticks\":\"\",\"zerolinecolor\":\"white\"},\"yaxis\":{\"backgroundcolor\":\"#E5ECF6\",\"gridcolor\":\"white\",\"gridwidth\":2,\"linecolor\":\"white\",\"showbackground\":true,\"ticks\":\"\",\"zerolinecolor\":\"white\"},\"zaxis\":{\"backgroundcolor\":\"#E5ECF6\",\"gridcolor\":\"white\",\"gridwidth\":2,\"linecolor\":\"white\",\"showbackground\":true,\"ticks\":\"\",\"zerolinecolor\":\"white\"}},\"shapedefaults\":{\"line\":{\"color\":\"#2a3f5f\"}},\"ternary\":{\"aaxis\":{\"gridcolor\":\"white\",\"linecolor\":\"white\",\"ticks\":\"\"},\"baxis\":{\"gridcolor\":\"white\",\"linecolor\":\"white\",\"ticks\":\"\"},\"bgcolor\":\"#E5ECF6\",\"caxis\":{\"gridcolor\":\"white\",\"linecolor\":\"white\",\"ticks\":\"\"}},\"title\":{\"x\":0.05},\"xaxis\":{\"automargin\":true,\"gridcolor\":\"white\",\"linecolor\":\"white\",\"ticks\":\"\",\"title\":{\"standoff\":15},\"zerolinecolor\":\"white\",\"zerolinewidth\":2},\"yaxis\":{\"automargin\":true,\"gridcolor\":\"white\",\"linecolor\":\"white\",\"ticks\":\"\",\"title\":{\"standoff\":15},\"zerolinecolor\":\"white\",\"zerolinewidth\":2}}},\"title\":{\"text\":\"Side By Side Subplots\"},\"width\":800,\"xaxis\":{\"anchor\":\"y\",\"domain\":[0.0,0.45]},\"xaxis10\":{\"anchor\":\"y10\",\"domain\":[0.55,1.0]},\"xaxis2\":{\"anchor\":\"y2\",\"domain\":[0.55,1.0]},\"xaxis3\":{\"anchor\":\"y3\",\"domain\":[0.0,0.45]},\"xaxis4\":{\"anchor\":\"y4\",\"domain\":[0.55,1.0]},\"xaxis5\":{\"anchor\":\"y5\",\"domain\":[0.0,0.45]},\"xaxis6\":{\"anchor\":\"y6\",\"domain\":[0.55,1.0]},\"xaxis7\":{\"anchor\":\"y7\",\"domain\":[0.0,0.45]},\"xaxis8\":{\"anchor\":\"y8\",\"domain\":[0.55,1.0]},\"xaxis9\":{\"anchor\":\"y9\",\"domain\":[0.0,0.45]},\"yaxis\":{\"anchor\":\"x\",\"domain\":[0.848,1.0]},\"yaxis10\":{\"anchor\":\"x10\",\"domain\":[0.0,0.152]},\"yaxis2\":{\"anchor\":\"x2\",\"domain\":[0.848,1.0]},\"yaxis3\":{\"anchor\":\"x3\",\"domain\":[0.6359999999999999,0.7879999999999999]},\"yaxis4\":{\"anchor\":\"x4\",\"domain\":[0.6359999999999999,0.7879999999999999]},\"yaxis5\":{\"anchor\":\"x5\",\"domain\":[0.424,0.576]},\"yaxis6\":{\"anchor\":\"x6\",\"domain\":[0.424,0.576]},\"yaxis7\":{\"anchor\":\"x7\",\"domain\":[0.212,0.364]},\"yaxis8\":{\"anchor\":\"x8\",\"domain\":[0.212,0.364]},\"yaxis9\":{\"anchor\":\"x9\",\"domain\":[0.0,0.152]}},                        {\"responsive\": true}                    ).then(function(){\n                            \nvar gd = document.getElementById('2f708c50-bd2b-4c85-a678-3b1666f9409b');\nvar x = new MutationObserver(function (mutations, observer) {{\n        var display = window.getComputedStyle(gd).display;\n        if (!display || display === 'none') {{\n            console.log([gd, 'removed!']);\n            Plotly.purge(gd);\n            observer.disconnect();\n        }}\n}});\n\n// Listen for the removal of the full notebook cells\nvar notebookContainer = gd.closest('#notebook-container');\nif (notebookContainer) {{\n    x.observe(notebookContainer, {childList: true});\n}}\n\n// Listen for the clearing of the current output cell\nvar outputEl = gd.closest('.output');\nif (outputEl) {{\n    x.observe(outputEl, {childList: true});\n}}\n\n                        })                };                });            </script>        </div>"
     },
     "metadata": {},
     "output_type": "display_data"
    }
   ],
   "source": [
    "number_of_plots = number_of_distinct_experiments\n",
    "## Example with custom arrangement of plots\n",
    "from plotly.subplots import make_subplots\n",
    "fig = make_subplots(rows=3, cols=3, shared_yaxes=\"all\")\n"
   ],
   "metadata": {
    "collapsed": false,
    "pycharm": {
     "name": "#%%\n"
    }
   }
  },
  {
   "cell_type": "code",
   "execution_count": null,
   "outputs": [],
   "source": [
    "values_at_secondIndex = df.index.unique(1)\n",
    "for first_level_value in values_at_secondIndex:\n",
    "    values_at_third_index = df.index.unique(2)\n",
    "    #print(\"values at third level \"+values_at_third_index)\n",
    "    for second_level_value in values_at_third_index:\n",
    "        if df.index.nlevels > 3:\n",
    "            values_at_fourth_index = df.index.unique(3)\n",
    "            for third_level_value in values_at_fourth_index:\n",
    "                 print(str(first_level_value) + \" -> \"+str(second_level_value) + \" -> \"+str(third_level_value))\n",
    "        else:\n",
    "            #print(\"all = \"+values_at_third_index)\n",
    "            #print(\"first = \" + str(first_level_value) + \" -> second = \"+str(second_level_value))\n",
    "            data_ignore_tick = df.loc[(slice(None), [first_level_value],[second_level_value]),:]\n",
    "            #print(\"subset\")\n",
    "            #print(data_ignore_tick)\n",
    "            add_trace_to_figure(data_ignore_tick, fig, 1, 1)\n",
    "\n",
    "\n",
    "\n",
    "fig.update_layout(height=600, width=800, title_text=\"Side By Side Subplots\")\n",
    "fig.show()"
   ],
   "metadata": {
    "collapsed": false,
    "pycharm": {
     "name": "#%%\n"
    }
   }
  },
  {
   "cell_type": "code",
   "execution_count": null,
   "outputs": [],
   "source": [
    "fig.add_trace(\n",
    "    go.Scatter(x=[20, 30, 40], y=[50, 60, 70]),\n",
    "    row=1, col=2\n",
    ")\n",
    "\n",
    "fig.update_layout(height=600, width=800, title_text=\"Side By Side Subplots\")\n",
    "fig.show()\n"
   ],
   "metadata": {
    "collapsed": false,
    "pycharm": {
     "name": "#%%\n"
    }
   }
  },
  {
   "cell_type": "code",
   "execution_count": 258,
   "outputs": [
    {
     "data": {
      "application/vnd.plotly.v1+json": {
       "config": {
        "plotlyServerURL": "https://plot.ly"
       },
       "data": [],
       "layout": {
        "height": 600,
        "template": {
         "data": {
          "bar": [
           {
            "error_x": {
             "color": "#2a3f5f"
            },
            "error_y": {
             "color": "#2a3f5f"
            },
            "marker": {
             "line": {
              "color": "#E5ECF6",
              "width": 0.5
             },
             "pattern": {
              "fillmode": "overlay",
              "size": 10,
              "solidity": 0.2
             }
            },
            "type": "bar"
           }
          ],
          "barpolar": [
           {
            "marker": {
             "line": {
              "color": "#E5ECF6",
              "width": 0.5
             },
             "pattern": {
              "fillmode": "overlay",
              "size": 10,
              "solidity": 0.2
             }
            },
            "type": "barpolar"
           }
          ],
          "carpet": [
           {
            "aaxis": {
             "endlinecolor": "#2a3f5f",
             "gridcolor": "white",
             "linecolor": "white",
             "minorgridcolor": "white",
             "startlinecolor": "#2a3f5f"
            },
            "baxis": {
             "endlinecolor": "#2a3f5f",
             "gridcolor": "white",
             "linecolor": "white",
             "minorgridcolor": "white",
             "startlinecolor": "#2a3f5f"
            },
            "type": "carpet"
           }
          ],
          "choropleth": [
           {
            "colorbar": {
             "outlinewidth": 0,
             "ticks": ""
            },
            "type": "choropleth"
           }
          ],
          "contour": [
           {
            "colorbar": {
             "outlinewidth": 0,
             "ticks": ""
            },
            "colorscale": [
             [
              0.0,
              "#0d0887"
             ],
             [
              0.1111111111111111,
              "#46039f"
             ],
             [
              0.2222222222222222,
              "#7201a8"
             ],
             [
              0.3333333333333333,
              "#9c179e"
             ],
             [
              0.4444444444444444,
              "#bd3786"
             ],
             [
              0.5555555555555556,
              "#d8576b"
             ],
             [
              0.6666666666666666,
              "#ed7953"
             ],
             [
              0.7777777777777778,
              "#fb9f3a"
             ],
             [
              0.8888888888888888,
              "#fdca26"
             ],
             [
              1.0,
              "#f0f921"
             ]
            ],
            "type": "contour"
           }
          ],
          "contourcarpet": [
           {
            "colorbar": {
             "outlinewidth": 0,
             "ticks": ""
            },
            "type": "contourcarpet"
           }
          ],
          "heatmap": [
           {
            "colorbar": {
             "outlinewidth": 0,
             "ticks": ""
            },
            "colorscale": [
             [
              0.0,
              "#0d0887"
             ],
             [
              0.1111111111111111,
              "#46039f"
             ],
             [
              0.2222222222222222,
              "#7201a8"
             ],
             [
              0.3333333333333333,
              "#9c179e"
             ],
             [
              0.4444444444444444,
              "#bd3786"
             ],
             [
              0.5555555555555556,
              "#d8576b"
             ],
             [
              0.6666666666666666,
              "#ed7953"
             ],
             [
              0.7777777777777778,
              "#fb9f3a"
             ],
             [
              0.8888888888888888,
              "#fdca26"
             ],
             [
              1.0,
              "#f0f921"
             ]
            ],
            "type": "heatmap"
           }
          ],
          "heatmapgl": [
           {
            "colorbar": {
             "outlinewidth": 0,
             "ticks": ""
            },
            "colorscale": [
             [
              0.0,
              "#0d0887"
             ],
             [
              0.1111111111111111,
              "#46039f"
             ],
             [
              0.2222222222222222,
              "#7201a8"
             ],
             [
              0.3333333333333333,
              "#9c179e"
             ],
             [
              0.4444444444444444,
              "#bd3786"
             ],
             [
              0.5555555555555556,
              "#d8576b"
             ],
             [
              0.6666666666666666,
              "#ed7953"
             ],
             [
              0.7777777777777778,
              "#fb9f3a"
             ],
             [
              0.8888888888888888,
              "#fdca26"
             ],
             [
              1.0,
              "#f0f921"
             ]
            ],
            "type": "heatmapgl"
           }
          ],
          "histogram": [
           {
            "marker": {
             "pattern": {
              "fillmode": "overlay",
              "size": 10,
              "solidity": 0.2
             }
            },
            "type": "histogram"
           }
          ],
          "histogram2d": [
           {
            "colorbar": {
             "outlinewidth": 0,
             "ticks": ""
            },
            "colorscale": [
             [
              0.0,
              "#0d0887"
             ],
             [
              0.1111111111111111,
              "#46039f"
             ],
             [
              0.2222222222222222,
              "#7201a8"
             ],
             [
              0.3333333333333333,
              "#9c179e"
             ],
             [
              0.4444444444444444,
              "#bd3786"
             ],
             [
              0.5555555555555556,
              "#d8576b"
             ],
             [
              0.6666666666666666,
              "#ed7953"
             ],
             [
              0.7777777777777778,
              "#fb9f3a"
             ],
             [
              0.8888888888888888,
              "#fdca26"
             ],
             [
              1.0,
              "#f0f921"
             ]
            ],
            "type": "histogram2d"
           }
          ],
          "histogram2dcontour": [
           {
            "colorbar": {
             "outlinewidth": 0,
             "ticks": ""
            },
            "colorscale": [
             [
              0.0,
              "#0d0887"
             ],
             [
              0.1111111111111111,
              "#46039f"
             ],
             [
              0.2222222222222222,
              "#7201a8"
             ],
             [
              0.3333333333333333,
              "#9c179e"
             ],
             [
              0.4444444444444444,
              "#bd3786"
             ],
             [
              0.5555555555555556,
              "#d8576b"
             ],
             [
              0.6666666666666666,
              "#ed7953"
             ],
             [
              0.7777777777777778,
              "#fb9f3a"
             ],
             [
              0.8888888888888888,
              "#fdca26"
             ],
             [
              1.0,
              "#f0f921"
             ]
            ],
            "type": "histogram2dcontour"
           }
          ],
          "mesh3d": [
           {
            "colorbar": {
             "outlinewidth": 0,
             "ticks": ""
            },
            "type": "mesh3d"
           }
          ],
          "parcoords": [
           {
            "line": {
             "colorbar": {
              "outlinewidth": 0,
              "ticks": ""
             }
            },
            "type": "parcoords"
           }
          ],
          "pie": [
           {
            "automargin": true,
            "type": "pie"
           }
          ],
          "scatter": [
           {
            "marker": {
             "colorbar": {
              "outlinewidth": 0,
              "ticks": ""
             }
            },
            "type": "scatter"
           }
          ],
          "scatter3d": [
           {
            "line": {
             "colorbar": {
              "outlinewidth": 0,
              "ticks": ""
             }
            },
            "marker": {
             "colorbar": {
              "outlinewidth": 0,
              "ticks": ""
             }
            },
            "type": "scatter3d"
           }
          ],
          "scattercarpet": [
           {
            "marker": {
             "colorbar": {
              "outlinewidth": 0,
              "ticks": ""
             }
            },
            "type": "scattercarpet"
           }
          ],
          "scattergeo": [
           {
            "marker": {
             "colorbar": {
              "outlinewidth": 0,
              "ticks": ""
             }
            },
            "type": "scattergeo"
           }
          ],
          "scattergl": [
           {
            "marker": {
             "colorbar": {
              "outlinewidth": 0,
              "ticks": ""
             }
            },
            "type": "scattergl"
           }
          ],
          "scattermapbox": [
           {
            "marker": {
             "colorbar": {
              "outlinewidth": 0,
              "ticks": ""
             }
            },
            "type": "scattermapbox"
           }
          ],
          "scatterpolar": [
           {
            "marker": {
             "colorbar": {
              "outlinewidth": 0,
              "ticks": ""
             }
            },
            "type": "scatterpolar"
           }
          ],
          "scatterpolargl": [
           {
            "marker": {
             "colorbar": {
              "outlinewidth": 0,
              "ticks": ""
             }
            },
            "type": "scatterpolargl"
           }
          ],
          "scatterternary": [
           {
            "marker": {
             "colorbar": {
              "outlinewidth": 0,
              "ticks": ""
             }
            },
            "type": "scatterternary"
           }
          ],
          "surface": [
           {
            "colorbar": {
             "outlinewidth": 0,
             "ticks": ""
            },
            "colorscale": [
             [
              0.0,
              "#0d0887"
             ],
             [
              0.1111111111111111,
              "#46039f"
             ],
             [
              0.2222222222222222,
              "#7201a8"
             ],
             [
              0.3333333333333333,
              "#9c179e"
             ],
             [
              0.4444444444444444,
              "#bd3786"
             ],
             [
              0.5555555555555556,
              "#d8576b"
             ],
             [
              0.6666666666666666,
              "#ed7953"
             ],
             [
              0.7777777777777778,
              "#fb9f3a"
             ],
             [
              0.8888888888888888,
              "#fdca26"
             ],
             [
              1.0,
              "#f0f921"
             ]
            ],
            "type": "surface"
           }
          ],
          "table": [
           {
            "cells": {
             "fill": {
              "color": "#EBF0F8"
             },
             "line": {
              "color": "white"
             }
            },
            "header": {
             "fill": {
              "color": "#C8D4E3"
             },
             "line": {
              "color": "white"
             }
            },
            "type": "table"
           }
          ]
         },
         "layout": {
          "annotationdefaults": {
           "arrowcolor": "#2a3f5f",
           "arrowhead": 0,
           "arrowwidth": 1
          },
          "autotypenumbers": "strict",
          "coloraxis": {
           "colorbar": {
            "outlinewidth": 0,
            "ticks": ""
           }
          },
          "colorscale": {
           "diverging": [
            [
             0,
             "#8e0152"
            ],
            [
             0.1,
             "#c51b7d"
            ],
            [
             0.2,
             "#de77ae"
            ],
            [
             0.3,
             "#f1b6da"
            ],
            [
             0.4,
             "#fde0ef"
            ],
            [
             0.5,
             "#f7f7f7"
            ],
            [
             0.6,
             "#e6f5d0"
            ],
            [
             0.7,
             "#b8e186"
            ],
            [
             0.8,
             "#7fbc41"
            ],
            [
             0.9,
             "#4d9221"
            ],
            [
             1,
             "#276419"
            ]
           ],
           "sequential": [
            [
             0.0,
             "#0d0887"
            ],
            [
             0.1111111111111111,
             "#46039f"
            ],
            [
             0.2222222222222222,
             "#7201a8"
            ],
            [
             0.3333333333333333,
             "#9c179e"
            ],
            [
             0.4444444444444444,
             "#bd3786"
            ],
            [
             0.5555555555555556,
             "#d8576b"
            ],
            [
             0.6666666666666666,
             "#ed7953"
            ],
            [
             0.7777777777777778,
             "#fb9f3a"
            ],
            [
             0.8888888888888888,
             "#fdca26"
            ],
            [
             1.0,
             "#f0f921"
            ]
           ],
           "sequentialminus": [
            [
             0.0,
             "#0d0887"
            ],
            [
             0.1111111111111111,
             "#46039f"
            ],
            [
             0.2222222222222222,
             "#7201a8"
            ],
            [
             0.3333333333333333,
             "#9c179e"
            ],
            [
             0.4444444444444444,
             "#bd3786"
            ],
            [
             0.5555555555555556,
             "#d8576b"
            ],
            [
             0.6666666666666666,
             "#ed7953"
            ],
            [
             0.7777777777777778,
             "#fb9f3a"
            ],
            [
             0.8888888888888888,
             "#fdca26"
            ],
            [
             1.0,
             "#f0f921"
            ]
           ]
          },
          "colorway": [
           "#636efa",
           "#EF553B",
           "#00cc96",
           "#ab63fa",
           "#FFA15A",
           "#19d3f3",
           "#FF6692",
           "#B6E880",
           "#FF97FF",
           "#FECB52"
          ],
          "font": {
           "color": "#2a3f5f"
          },
          "geo": {
           "bgcolor": "white",
           "lakecolor": "white",
           "landcolor": "#E5ECF6",
           "showlakes": true,
           "showland": true,
           "subunitcolor": "white"
          },
          "hoverlabel": {
           "align": "left"
          },
          "hovermode": "closest",
          "mapbox": {
           "style": "light"
          },
          "paper_bgcolor": "white",
          "plot_bgcolor": "#E5ECF6",
          "polar": {
           "angularaxis": {
            "gridcolor": "white",
            "linecolor": "white",
            "ticks": ""
           },
           "bgcolor": "#E5ECF6",
           "radialaxis": {
            "gridcolor": "white",
            "linecolor": "white",
            "ticks": ""
           }
          },
          "scene": {
           "xaxis": {
            "backgroundcolor": "#E5ECF6",
            "gridcolor": "white",
            "gridwidth": 2,
            "linecolor": "white",
            "showbackground": true,
            "ticks": "",
            "zerolinecolor": "white"
           },
           "yaxis": {
            "backgroundcolor": "#E5ECF6",
            "gridcolor": "white",
            "gridwidth": 2,
            "linecolor": "white",
            "showbackground": true,
            "ticks": "",
            "zerolinecolor": "white"
           },
           "zaxis": {
            "backgroundcolor": "#E5ECF6",
            "gridcolor": "white",
            "gridwidth": 2,
            "linecolor": "white",
            "showbackground": true,
            "ticks": "",
            "zerolinecolor": "white"
           }
          },
          "shapedefaults": {
           "line": {
            "color": "#2a3f5f"
           }
          },
          "ternary": {
           "aaxis": {
            "gridcolor": "white",
            "linecolor": "white",
            "ticks": ""
           },
           "baxis": {
            "gridcolor": "white",
            "linecolor": "white",
            "ticks": ""
           },
           "bgcolor": "#E5ECF6",
           "caxis": {
            "gridcolor": "white",
            "linecolor": "white",
            "ticks": ""
           }
          },
          "title": {
           "x": 0.05
          },
          "xaxis": {
           "automargin": true,
           "gridcolor": "white",
           "linecolor": "white",
           "ticks": "",
           "title": {
            "standoff": 15
           },
           "zerolinecolor": "white",
           "zerolinewidth": 2
          },
          "yaxis": {
           "automargin": true,
           "gridcolor": "white",
           "linecolor": "white",
           "ticks": "",
           "title": {
            "standoff": 15
           },
           "zerolinecolor": "white",
           "zerolinewidth": 2
          }
         }
        },
        "title": {
         "text": "Side By Side Subplots"
        },
        "width": 800,
        "xaxis": {
         "anchor": "y",
         "domain": [
          0.0,
          0.45
         ]
        },
        "xaxis2": {
         "anchor": "y2",
         "domain": [
          0.55,
          1.0
         ]
        },
        "xaxis3": {
         "anchor": "y3",
         "domain": [
          0.0,
          0.45
         ]
        },
        "xaxis4": {
         "anchor": "y4",
         "domain": [
          0.55,
          1.0
         ]
        },
        "xaxis5": {
         "anchor": "y5",
         "domain": [
          0.0,
          0.45
         ]
        },
        "xaxis6": {
         "anchor": "y6",
         "domain": [
          0.55,
          1.0
         ]
        },
        "yaxis": {
         "anchor": "x",
         "domain": [
          0.7333333333333333,
          1.0
         ]
        },
        "yaxis2": {
         "anchor": "x2",
         "domain": [
          0.7333333333333333,
          1.0
         ]
        },
        "yaxis3": {
         "anchor": "x3",
         "domain": [
          0.36666666666666664,
          0.6333333333333333
         ]
        },
        "yaxis4": {
         "anchor": "x4",
         "domain": [
          0.36666666666666664,
          0.6333333333333333
         ]
        },
        "yaxis5": {
         "anchor": "x5",
         "domain": [
          0.0,
          0.26666666666666666
         ]
        },
        "yaxis6": {
         "anchor": "x6",
         "domain": [
          0.0,
          0.26666666666666666
         ]
        }
       }
      },
      "text/html": "<div>                            <div id=\"16e65fc2-8c1a-4c24-b609-ad1b2898e564\" class=\"plotly-graph-div\" style=\"height:600px; width:800px;\"></div>            <script type=\"text/javascript\">                require([\"plotly\"], function(Plotly) {                    window.PLOTLYENV=window.PLOTLYENV || {};                                    if (document.getElementById(\"16e65fc2-8c1a-4c24-b609-ad1b2898e564\")) {                    Plotly.newPlot(                        \"16e65fc2-8c1a-4c24-b609-ad1b2898e564\",                        [],                        {\"height\":600,\"template\":{\"data\":{\"bar\":[{\"error_x\":{\"color\":\"#2a3f5f\"},\"error_y\":{\"color\":\"#2a3f5f\"},\"marker\":{\"line\":{\"color\":\"#E5ECF6\",\"width\":0.5},\"pattern\":{\"fillmode\":\"overlay\",\"size\":10,\"solidity\":0.2}},\"type\":\"bar\"}],\"barpolar\":[{\"marker\":{\"line\":{\"color\":\"#E5ECF6\",\"width\":0.5},\"pattern\":{\"fillmode\":\"overlay\",\"size\":10,\"solidity\":0.2}},\"type\":\"barpolar\"}],\"carpet\":[{\"aaxis\":{\"endlinecolor\":\"#2a3f5f\",\"gridcolor\":\"white\",\"linecolor\":\"white\",\"minorgridcolor\":\"white\",\"startlinecolor\":\"#2a3f5f\"},\"baxis\":{\"endlinecolor\":\"#2a3f5f\",\"gridcolor\":\"white\",\"linecolor\":\"white\",\"minorgridcolor\":\"white\",\"startlinecolor\":\"#2a3f5f\"},\"type\":\"carpet\"}],\"choropleth\":[{\"colorbar\":{\"outlinewidth\":0,\"ticks\":\"\"},\"type\":\"choropleth\"}],\"contour\":[{\"colorbar\":{\"outlinewidth\":0,\"ticks\":\"\"},\"colorscale\":[[0.0,\"#0d0887\"],[0.1111111111111111,\"#46039f\"],[0.2222222222222222,\"#7201a8\"],[0.3333333333333333,\"#9c179e\"],[0.4444444444444444,\"#bd3786\"],[0.5555555555555556,\"#d8576b\"],[0.6666666666666666,\"#ed7953\"],[0.7777777777777778,\"#fb9f3a\"],[0.8888888888888888,\"#fdca26\"],[1.0,\"#f0f921\"]],\"type\":\"contour\"}],\"contourcarpet\":[{\"colorbar\":{\"outlinewidth\":0,\"ticks\":\"\"},\"type\":\"contourcarpet\"}],\"heatmap\":[{\"colorbar\":{\"outlinewidth\":0,\"ticks\":\"\"},\"colorscale\":[[0.0,\"#0d0887\"],[0.1111111111111111,\"#46039f\"],[0.2222222222222222,\"#7201a8\"],[0.3333333333333333,\"#9c179e\"],[0.4444444444444444,\"#bd3786\"],[0.5555555555555556,\"#d8576b\"],[0.6666666666666666,\"#ed7953\"],[0.7777777777777778,\"#fb9f3a\"],[0.8888888888888888,\"#fdca26\"],[1.0,\"#f0f921\"]],\"type\":\"heatmap\"}],\"heatmapgl\":[{\"colorbar\":{\"outlinewidth\":0,\"ticks\":\"\"},\"colorscale\":[[0.0,\"#0d0887\"],[0.1111111111111111,\"#46039f\"],[0.2222222222222222,\"#7201a8\"],[0.3333333333333333,\"#9c179e\"],[0.4444444444444444,\"#bd3786\"],[0.5555555555555556,\"#d8576b\"],[0.6666666666666666,\"#ed7953\"],[0.7777777777777778,\"#fb9f3a\"],[0.8888888888888888,\"#fdca26\"],[1.0,\"#f0f921\"]],\"type\":\"heatmapgl\"}],\"histogram\":[{\"marker\":{\"pattern\":{\"fillmode\":\"overlay\",\"size\":10,\"solidity\":0.2}},\"type\":\"histogram\"}],\"histogram2d\":[{\"colorbar\":{\"outlinewidth\":0,\"ticks\":\"\"},\"colorscale\":[[0.0,\"#0d0887\"],[0.1111111111111111,\"#46039f\"],[0.2222222222222222,\"#7201a8\"],[0.3333333333333333,\"#9c179e\"],[0.4444444444444444,\"#bd3786\"],[0.5555555555555556,\"#d8576b\"],[0.6666666666666666,\"#ed7953\"],[0.7777777777777778,\"#fb9f3a\"],[0.8888888888888888,\"#fdca26\"],[1.0,\"#f0f921\"]],\"type\":\"histogram2d\"}],\"histogram2dcontour\":[{\"colorbar\":{\"outlinewidth\":0,\"ticks\":\"\"},\"colorscale\":[[0.0,\"#0d0887\"],[0.1111111111111111,\"#46039f\"],[0.2222222222222222,\"#7201a8\"],[0.3333333333333333,\"#9c179e\"],[0.4444444444444444,\"#bd3786\"],[0.5555555555555556,\"#d8576b\"],[0.6666666666666666,\"#ed7953\"],[0.7777777777777778,\"#fb9f3a\"],[0.8888888888888888,\"#fdca26\"],[1.0,\"#f0f921\"]],\"type\":\"histogram2dcontour\"}],\"mesh3d\":[{\"colorbar\":{\"outlinewidth\":0,\"ticks\":\"\"},\"type\":\"mesh3d\"}],\"parcoords\":[{\"line\":{\"colorbar\":{\"outlinewidth\":0,\"ticks\":\"\"}},\"type\":\"parcoords\"}],\"pie\":[{\"automargin\":true,\"type\":\"pie\"}],\"scatter\":[{\"marker\":{\"colorbar\":{\"outlinewidth\":0,\"ticks\":\"\"}},\"type\":\"scatter\"}],\"scatter3d\":[{\"line\":{\"colorbar\":{\"outlinewidth\":0,\"ticks\":\"\"}},\"marker\":{\"colorbar\":{\"outlinewidth\":0,\"ticks\":\"\"}},\"type\":\"scatter3d\"}],\"scattercarpet\":[{\"marker\":{\"colorbar\":{\"outlinewidth\":0,\"ticks\":\"\"}},\"type\":\"scattercarpet\"}],\"scattergeo\":[{\"marker\":{\"colorbar\":{\"outlinewidth\":0,\"ticks\":\"\"}},\"type\":\"scattergeo\"}],\"scattergl\":[{\"marker\":{\"colorbar\":{\"outlinewidth\":0,\"ticks\":\"\"}},\"type\":\"scattergl\"}],\"scattermapbox\":[{\"marker\":{\"colorbar\":{\"outlinewidth\":0,\"ticks\":\"\"}},\"type\":\"scattermapbox\"}],\"scatterpolar\":[{\"marker\":{\"colorbar\":{\"outlinewidth\":0,\"ticks\":\"\"}},\"type\":\"scatterpolar\"}],\"scatterpolargl\":[{\"marker\":{\"colorbar\":{\"outlinewidth\":0,\"ticks\":\"\"}},\"type\":\"scatterpolargl\"}],\"scatterternary\":[{\"marker\":{\"colorbar\":{\"outlinewidth\":0,\"ticks\":\"\"}},\"type\":\"scatterternary\"}],\"surface\":[{\"colorbar\":{\"outlinewidth\":0,\"ticks\":\"\"},\"colorscale\":[[0.0,\"#0d0887\"],[0.1111111111111111,\"#46039f\"],[0.2222222222222222,\"#7201a8\"],[0.3333333333333333,\"#9c179e\"],[0.4444444444444444,\"#bd3786\"],[0.5555555555555556,\"#d8576b\"],[0.6666666666666666,\"#ed7953\"],[0.7777777777777778,\"#fb9f3a\"],[0.8888888888888888,\"#fdca26\"],[1.0,\"#f0f921\"]],\"type\":\"surface\"}],\"table\":[{\"cells\":{\"fill\":{\"color\":\"#EBF0F8\"},\"line\":{\"color\":\"white\"}},\"header\":{\"fill\":{\"color\":\"#C8D4E3\"},\"line\":{\"color\":\"white\"}},\"type\":\"table\"}]},\"layout\":{\"annotationdefaults\":{\"arrowcolor\":\"#2a3f5f\",\"arrowhead\":0,\"arrowwidth\":1},\"autotypenumbers\":\"strict\",\"coloraxis\":{\"colorbar\":{\"outlinewidth\":0,\"ticks\":\"\"}},\"colorscale\":{\"diverging\":[[0,\"#8e0152\"],[0.1,\"#c51b7d\"],[0.2,\"#de77ae\"],[0.3,\"#f1b6da\"],[0.4,\"#fde0ef\"],[0.5,\"#f7f7f7\"],[0.6,\"#e6f5d0\"],[0.7,\"#b8e186\"],[0.8,\"#7fbc41\"],[0.9,\"#4d9221\"],[1,\"#276419\"]],\"sequential\":[[0.0,\"#0d0887\"],[0.1111111111111111,\"#46039f\"],[0.2222222222222222,\"#7201a8\"],[0.3333333333333333,\"#9c179e\"],[0.4444444444444444,\"#bd3786\"],[0.5555555555555556,\"#d8576b\"],[0.6666666666666666,\"#ed7953\"],[0.7777777777777778,\"#fb9f3a\"],[0.8888888888888888,\"#fdca26\"],[1.0,\"#f0f921\"]],\"sequentialminus\":[[0.0,\"#0d0887\"],[0.1111111111111111,\"#46039f\"],[0.2222222222222222,\"#7201a8\"],[0.3333333333333333,\"#9c179e\"],[0.4444444444444444,\"#bd3786\"],[0.5555555555555556,\"#d8576b\"],[0.6666666666666666,\"#ed7953\"],[0.7777777777777778,\"#fb9f3a\"],[0.8888888888888888,\"#fdca26\"],[1.0,\"#f0f921\"]]},\"colorway\":[\"#636efa\",\"#EF553B\",\"#00cc96\",\"#ab63fa\",\"#FFA15A\",\"#19d3f3\",\"#FF6692\",\"#B6E880\",\"#FF97FF\",\"#FECB52\"],\"font\":{\"color\":\"#2a3f5f\"},\"geo\":{\"bgcolor\":\"white\",\"lakecolor\":\"white\",\"landcolor\":\"#E5ECF6\",\"showlakes\":true,\"showland\":true,\"subunitcolor\":\"white\"},\"hoverlabel\":{\"align\":\"left\"},\"hovermode\":\"closest\",\"mapbox\":{\"style\":\"light\"},\"paper_bgcolor\":\"white\",\"plot_bgcolor\":\"#E5ECF6\",\"polar\":{\"angularaxis\":{\"gridcolor\":\"white\",\"linecolor\":\"white\",\"ticks\":\"\"},\"bgcolor\":\"#E5ECF6\",\"radialaxis\":{\"gridcolor\":\"white\",\"linecolor\":\"white\",\"ticks\":\"\"}},\"scene\":{\"xaxis\":{\"backgroundcolor\":\"#E5ECF6\",\"gridcolor\":\"white\",\"gridwidth\":2,\"linecolor\":\"white\",\"showbackground\":true,\"ticks\":\"\",\"zerolinecolor\":\"white\"},\"yaxis\":{\"backgroundcolor\":\"#E5ECF6\",\"gridcolor\":\"white\",\"gridwidth\":2,\"linecolor\":\"white\",\"showbackground\":true,\"ticks\":\"\",\"zerolinecolor\":\"white\"},\"zaxis\":{\"backgroundcolor\":\"#E5ECF6\",\"gridcolor\":\"white\",\"gridwidth\":2,\"linecolor\":\"white\",\"showbackground\":true,\"ticks\":\"\",\"zerolinecolor\":\"white\"}},\"shapedefaults\":{\"line\":{\"color\":\"#2a3f5f\"}},\"ternary\":{\"aaxis\":{\"gridcolor\":\"white\",\"linecolor\":\"white\",\"ticks\":\"\"},\"baxis\":{\"gridcolor\":\"white\",\"linecolor\":\"white\",\"ticks\":\"\"},\"bgcolor\":\"#E5ECF6\",\"caxis\":{\"gridcolor\":\"white\",\"linecolor\":\"white\",\"ticks\":\"\"}},\"title\":{\"x\":0.05},\"xaxis\":{\"automargin\":true,\"gridcolor\":\"white\",\"linecolor\":\"white\",\"ticks\":\"\",\"title\":{\"standoff\":15},\"zerolinecolor\":\"white\",\"zerolinewidth\":2},\"yaxis\":{\"automargin\":true,\"gridcolor\":\"white\",\"linecolor\":\"white\",\"ticks\":\"\",\"title\":{\"standoff\":15},\"zerolinecolor\":\"white\",\"zerolinewidth\":2}}},\"title\":{\"text\":\"Side By Side Subplots\"},\"width\":800,\"xaxis\":{\"anchor\":\"y\",\"domain\":[0.0,0.45]},\"xaxis2\":{\"anchor\":\"y2\",\"domain\":[0.55,1.0]},\"xaxis3\":{\"anchor\":\"y3\",\"domain\":[0.0,0.45]},\"xaxis4\":{\"anchor\":\"y4\",\"domain\":[0.55,1.0]},\"xaxis5\":{\"anchor\":\"y5\",\"domain\":[0.0,0.45]},\"xaxis6\":{\"anchor\":\"y6\",\"domain\":[0.55,1.0]},\"yaxis\":{\"anchor\":\"x\",\"domain\":[0.7333333333333333,1.0]},\"yaxis2\":{\"anchor\":\"x2\",\"domain\":[0.7333333333333333,1.0]},\"yaxis3\":{\"anchor\":\"x3\",\"domain\":[0.36666666666666664,0.6333333333333333]},\"yaxis4\":{\"anchor\":\"x4\",\"domain\":[0.36666666666666664,0.6333333333333333]},\"yaxis5\":{\"anchor\":\"x5\",\"domain\":[0.0,0.26666666666666666]},\"yaxis6\":{\"anchor\":\"x6\",\"domain\":[0.0,0.26666666666666666]}},                        {\"responsive\": true}                    ).then(function(){\n                            \nvar gd = document.getElementById('16e65fc2-8c1a-4c24-b609-ad1b2898e564');\nvar x = new MutationObserver(function (mutations, observer) {{\n        var display = window.getComputedStyle(gd).display;\n        if (!display || display === 'none') {{\n            console.log([gd, 'removed!']);\n            Plotly.purge(gd);\n            observer.disconnect();\n        }}\n}});\n\n// Listen for the removal of the full notebook cells\nvar notebookContainer = gd.closest('#notebook-container');\nif (notebookContainer) {{\n    x.observe(notebookContainer, {childList: true});\n}}\n\n// Listen for the clearing of the current output cell\nvar outputEl = gd.closest('.output');\nif (outputEl) {{\n    x.observe(outputEl, {childList: true});\n}}\n\n                        })                };                });            </script>        </div>"
     },
     "metadata": {},
     "output_type": "display_data"
    }
   ],
   "source": [
    "number_of_plots = number_of_distinct_experiments\n",
    "## Example with custom arrangement of plots\n",
    "from plotly.subplots import make_subplots\n",
    "fig = make_subplots(rows=3, cols=2)\n",
    "\n",
    "# add_trace_to_figure(df, fig,2,2)\n",
    "fig.update_layout(height=600, width=800, title_text=\"Side By Side Subplots\")\n",
    "fig.show()\n"
   ],
   "metadata": {
    "collapsed": false,
    "pycharm": {
     "name": "#%%\n"
    }
   }
  },
  {
   "cell_type": "code",
   "execution_count": 259,
   "outputs": [
    {
     "data": {
      "text/plain": "                                      mean    median  count       std  \\\ntick  first_factor second_factor                                        \n1.0   0.0          yes            0.489626  0.489175     30  0.004610   \n4.0   0.0          yes            0.488422  0.488039     30  0.004492   \n7.0   0.0          yes            0.510987  0.511145     30  0.003867   \n10.0  0.0          yes            0.523522  0.523893     30  0.002868   \n13.0  0.0          yes            0.529717  0.529973     30  0.002538   \n...                                    ...       ...    ...       ...   \n256.0 0.0          yes            0.471876  0.471825     30  0.000958   \n259.0 0.0          yes            0.472070  0.472194     30  0.001089   \n262.0 0.0          yes            0.471691  0.471756     30  0.000837   \n265.0 0.0          yes            0.471840  0.471943     30  0.001055   \n268.0 0.0          yes            0.471280  0.471226     30  0.001001   \n\n                                       min       max   ci95_lo   ci95_hi  \ntick  first_factor second_factor                                          \n1.0   0.0          yes            0.479253  0.499235  0.487905  0.491348  \n4.0   0.0          yes            0.479761  0.497502  0.486744  0.490099  \n7.0   0.0          yes            0.504557  0.519822  0.509543  0.512432  \n10.0  0.0          yes            0.518088  0.528580  0.522451  0.524593  \n13.0  0.0          yes            0.525396  0.535401  0.528769  0.530664  \n...                                    ...       ...       ...       ...  \n256.0 0.0          yes            0.470512  0.473963  0.471518  0.472234  \n259.0 0.0          yes            0.469792  0.474279  0.471663  0.472476  \n262.0 0.0          yes            0.470215  0.473407  0.471378  0.472003  \n265.0 0.0          yes            0.469140  0.473804  0.471446  0.472234  \n268.0 0.0          yes            0.469043  0.473665  0.470906  0.471654  \n\n[90 rows x 8 columns]",
      "text/html": "<div>\n<style scoped>\n    .dataframe tbody tr th:only-of-type {\n        vertical-align: middle;\n    }\n\n    .dataframe tbody tr th {\n        vertical-align: top;\n    }\n\n    .dataframe thead th {\n        text-align: right;\n    }\n</style>\n<table border=\"1\" class=\"dataframe\">\n  <thead>\n    <tr style=\"text-align: right;\">\n      <th></th>\n      <th></th>\n      <th></th>\n      <th>mean</th>\n      <th>median</th>\n      <th>count</th>\n      <th>std</th>\n      <th>min</th>\n      <th>max</th>\n      <th>ci95_lo</th>\n      <th>ci95_hi</th>\n    </tr>\n    <tr>\n      <th>tick</th>\n      <th>first_factor</th>\n      <th>second_factor</th>\n      <th></th>\n      <th></th>\n      <th></th>\n      <th></th>\n      <th></th>\n      <th></th>\n      <th></th>\n      <th></th>\n    </tr>\n  </thead>\n  <tbody>\n    <tr>\n      <th>1.0</th>\n      <th>0.0</th>\n      <th>yes</th>\n      <td>0.489626</td>\n      <td>0.489175</td>\n      <td>30</td>\n      <td>0.004610</td>\n      <td>0.479253</td>\n      <td>0.499235</td>\n      <td>0.487905</td>\n      <td>0.491348</td>\n    </tr>\n    <tr>\n      <th>4.0</th>\n      <th>0.0</th>\n      <th>yes</th>\n      <td>0.488422</td>\n      <td>0.488039</td>\n      <td>30</td>\n      <td>0.004492</td>\n      <td>0.479761</td>\n      <td>0.497502</td>\n      <td>0.486744</td>\n      <td>0.490099</td>\n    </tr>\n    <tr>\n      <th>7.0</th>\n      <th>0.0</th>\n      <th>yes</th>\n      <td>0.510987</td>\n      <td>0.511145</td>\n      <td>30</td>\n      <td>0.003867</td>\n      <td>0.504557</td>\n      <td>0.519822</td>\n      <td>0.509543</td>\n      <td>0.512432</td>\n    </tr>\n    <tr>\n      <th>10.0</th>\n      <th>0.0</th>\n      <th>yes</th>\n      <td>0.523522</td>\n      <td>0.523893</td>\n      <td>30</td>\n      <td>0.002868</td>\n      <td>0.518088</td>\n      <td>0.528580</td>\n      <td>0.522451</td>\n      <td>0.524593</td>\n    </tr>\n    <tr>\n      <th>13.0</th>\n      <th>0.0</th>\n      <th>yes</th>\n      <td>0.529717</td>\n      <td>0.529973</td>\n      <td>30</td>\n      <td>0.002538</td>\n      <td>0.525396</td>\n      <td>0.535401</td>\n      <td>0.528769</td>\n      <td>0.530664</td>\n    </tr>\n    <tr>\n      <th>...</th>\n      <th>...</th>\n      <th>...</th>\n      <td>...</td>\n      <td>...</td>\n      <td>...</td>\n      <td>...</td>\n      <td>...</td>\n      <td>...</td>\n      <td>...</td>\n      <td>...</td>\n    </tr>\n    <tr>\n      <th>256.0</th>\n      <th>0.0</th>\n      <th>yes</th>\n      <td>0.471876</td>\n      <td>0.471825</td>\n      <td>30</td>\n      <td>0.000958</td>\n      <td>0.470512</td>\n      <td>0.473963</td>\n      <td>0.471518</td>\n      <td>0.472234</td>\n    </tr>\n    <tr>\n      <th>259.0</th>\n      <th>0.0</th>\n      <th>yes</th>\n      <td>0.472070</td>\n      <td>0.472194</td>\n      <td>30</td>\n      <td>0.001089</td>\n      <td>0.469792</td>\n      <td>0.474279</td>\n      <td>0.471663</td>\n      <td>0.472476</td>\n    </tr>\n    <tr>\n      <th>262.0</th>\n      <th>0.0</th>\n      <th>yes</th>\n      <td>0.471691</td>\n      <td>0.471756</td>\n      <td>30</td>\n      <td>0.000837</td>\n      <td>0.470215</td>\n      <td>0.473407</td>\n      <td>0.471378</td>\n      <td>0.472003</td>\n    </tr>\n    <tr>\n      <th>265.0</th>\n      <th>0.0</th>\n      <th>yes</th>\n      <td>0.471840</td>\n      <td>0.471943</td>\n      <td>30</td>\n      <td>0.001055</td>\n      <td>0.469140</td>\n      <td>0.473804</td>\n      <td>0.471446</td>\n      <td>0.472234</td>\n    </tr>\n    <tr>\n      <th>268.0</th>\n      <th>0.0</th>\n      <th>yes</th>\n      <td>0.471280</td>\n      <td>0.471226</td>\n      <td>30</td>\n      <td>0.001001</td>\n      <td>0.469043</td>\n      <td>0.473665</td>\n      <td>0.470906</td>\n      <td>0.471654</td>\n    </tr>\n  </tbody>\n</table>\n<p>90 rows × 8 columns</p>\n</div>"
     },
     "execution_count": 259,
     "metadata": {},
     "output_type": "execute_result"
    }
   ],
   "source": [
    "#0\n",
    "data_select = df.loc[(slice(None), [0.0],[\"yes\"]),:]\n",
    "add_trace_to_figure(data_select, fig,1,1)\n",
    "data_select"
   ],
   "metadata": {
    "collapsed": false,
    "pycharm": {
     "name": "#%%\n"
    }
   }
  },
  {
   "cell_type": "code",
   "execution_count": null,
   "outputs": [],
   "source": [
    "data_select = df.loc[(slice(None), [0.0],[\"no\"]),:]\n",
    "add_trace_to_figure(data_select, fig,1,1)\n",
    "\n",
    "\n",
    "#0.25\n",
    "data_select = df.loc[(slice(None), [0.25],[\"yes\"]),:]\n",
    "add_trace_to_figure(data_select, fig,1,2)\n",
    "\n",
    "data_select = df.loc[(slice(None), [0.25],[\"no\"]),:]\n",
    "add_trace_to_figure(data_select, fig,1,2)\n",
    "\n",
    "\n",
    "\n",
    "#0.5\n",
    "data_select = df.loc[(slice(None), [0.5],[\"yes\"]),:]\n",
    "add_trace_to_figure(data_select, fig,1,3)\n",
    "\n",
    "data_select = df.loc[(slice(None), [0.5],[\"no\"]),:]\n",
    "add_trace_to_figure(data_select, fig,1,3)\n",
    "\n",
    "\n",
    "\n",
    "#0.75\n",
    "data_select = df.loc[(slice(None), [0.75],[\"yes\"]),:]\n",
    "add_trace_to_figure(data_select, fig,2,1)\n",
    "\n",
    "data_select = df.loc[(slice(None), [0.75],[\"no\"]),:]\n",
    "add_trace_to_figure(data_select, fig,2,1)\n",
    "\n",
    "\n",
    "#0.1\n",
    "data_select = df.loc[(slice(None), [1.0],[\"yes\"]),:]\n",
    "add_trace_to_figure(data_select, fig,2,2)\n",
    "\n",
    "data_select = df.loc[(slice(None), [1.0],[\"no\"]),:]\n",
    "add_trace_to_figure(data_select, fig,2,2)\n",
    "\n",
    "fig.update_layout(height=600, width=800, title_text=\"Side By Side Subplots\")\n",
    "fig.show()\n",
    "\n"
   ],
   "metadata": {
    "collapsed": false,
    "pycharm": {
     "name": "#%%\n"
    }
   }
  },
  {
   "cell_type": "code",
   "execution_count": 249,
   "outputs": [],
   "source": [
    "# next try from stackoverflow: https://stackoverflow.com/questions/61494278/plotly-how-to-make-a-figure-with-multiple-lines-and-shaded-area-for-standard-de/61501980#61501980\n",
    "# df = reset_df\n",
    "\n",
    "import plotly.graph_objs as go\n",
    "import plotly.express as px\n",
    "import pandas as pd\n",
    "import numpy as np\n",
    "# sample data in a pandas dataframe\n",
    "\n",
    "np.random.seed(1)\n",
    "df_for_plot =pd.DataFrame(dict(A=np.random.uniform(low=-1, high=2, size=25).tolist(),\n",
    "                    B=np.random.uniform(low=-4, high=3, size=25).tolist(),\n",
    "                    C=np.random.uniform(low=-1, high=3, size=25).tolist(),\n",
    "                    ))\n",
    "df_for_plot = df_for_plot.cumsum()"
   ],
   "metadata": {
    "collapsed": false,
    "pycharm": {
     "name": "#%%\n"
    }
   }
  },
  {
   "cell_type": "code",
   "execution_count": 301,
   "outputs": [
    {
     "data": {
      "text/plain": "           A          B          C\n0   0.251066   2.262247  -0.922532\n1   1.412039  -1.142444   0.792810\n2   0.412383  -4.869060   0.639322\n3   0.319380  -7.680247   0.701509\n4  -0.240352  -5.533250   1.667802\n5  -0.963336  -8.844822   0.881252\n6  -1.404556  -9.897069   2.177722\n7  -1.367873  -7.191842   1.764637\n8  -1.177571  -7.459685   3.121859\n9  -0.561121  -6.616545   4.920892\n10 -0.303537  -8.407936   4.330230\n11  0.752121  -7.602429   4.986454\n12  0.365478  -5.760050   6.764054\n13  1.999830  -9.632032   7.420772\n14  1.081993  -8.381021   6.620585\n15  2.093396  -5.458994   7.764171\n16  2.345310  -4.221834   9.419350\n17  3.021380  -6.258726  10.478906\n18  2.442540  -4.733771  13.257285\n19  2.036845  -8.011189  14.603505\n20  3.439079  -8.875934  17.217113\n21  5.343863  -6.515766  16.767012\n22  5.284136  -8.460467  16.324117\n23  6.361104 -10.446039  18.553682\n24  7.990271 -13.535839  19.144390",
      "text/html": "<div>\n<style scoped>\n    .dataframe tbody tr th:only-of-type {\n        vertical-align: middle;\n    }\n\n    .dataframe tbody tr th {\n        vertical-align: top;\n    }\n\n    .dataframe thead th {\n        text-align: right;\n    }\n</style>\n<table border=\"1\" class=\"dataframe\">\n  <thead>\n    <tr style=\"text-align: right;\">\n      <th></th>\n      <th>A</th>\n      <th>B</th>\n      <th>C</th>\n    </tr>\n  </thead>\n  <tbody>\n    <tr>\n      <th>0</th>\n      <td>0.251066</td>\n      <td>2.262247</td>\n      <td>-0.922532</td>\n    </tr>\n    <tr>\n      <th>1</th>\n      <td>1.412039</td>\n      <td>-1.142444</td>\n      <td>0.792810</td>\n    </tr>\n    <tr>\n      <th>2</th>\n      <td>0.412383</td>\n      <td>-4.869060</td>\n      <td>0.639322</td>\n    </tr>\n    <tr>\n      <th>3</th>\n      <td>0.319380</td>\n      <td>-7.680247</td>\n      <td>0.701509</td>\n    </tr>\n    <tr>\n      <th>4</th>\n      <td>-0.240352</td>\n      <td>-5.533250</td>\n      <td>1.667802</td>\n    </tr>\n    <tr>\n      <th>5</th>\n      <td>-0.963336</td>\n      <td>-8.844822</td>\n      <td>0.881252</td>\n    </tr>\n    <tr>\n      <th>6</th>\n      <td>-1.404556</td>\n      <td>-9.897069</td>\n      <td>2.177722</td>\n    </tr>\n    <tr>\n      <th>7</th>\n      <td>-1.367873</td>\n      <td>-7.191842</td>\n      <td>1.764637</td>\n    </tr>\n    <tr>\n      <th>8</th>\n      <td>-1.177571</td>\n      <td>-7.459685</td>\n      <td>3.121859</td>\n    </tr>\n    <tr>\n      <th>9</th>\n      <td>-0.561121</td>\n      <td>-6.616545</td>\n      <td>4.920892</td>\n    </tr>\n    <tr>\n      <th>10</th>\n      <td>-0.303537</td>\n      <td>-8.407936</td>\n      <td>4.330230</td>\n    </tr>\n    <tr>\n      <th>11</th>\n      <td>0.752121</td>\n      <td>-7.602429</td>\n      <td>4.986454</td>\n    </tr>\n    <tr>\n      <th>12</th>\n      <td>0.365478</td>\n      <td>-5.760050</td>\n      <td>6.764054</td>\n    </tr>\n    <tr>\n      <th>13</th>\n      <td>1.999830</td>\n      <td>-9.632032</td>\n      <td>7.420772</td>\n    </tr>\n    <tr>\n      <th>14</th>\n      <td>1.081993</td>\n      <td>-8.381021</td>\n      <td>6.620585</td>\n    </tr>\n    <tr>\n      <th>15</th>\n      <td>2.093396</td>\n      <td>-5.458994</td>\n      <td>7.764171</td>\n    </tr>\n    <tr>\n      <th>16</th>\n      <td>2.345310</td>\n      <td>-4.221834</td>\n      <td>9.419350</td>\n    </tr>\n    <tr>\n      <th>17</th>\n      <td>3.021380</td>\n      <td>-6.258726</td>\n      <td>10.478906</td>\n    </tr>\n    <tr>\n      <th>18</th>\n      <td>2.442540</td>\n      <td>-4.733771</td>\n      <td>13.257285</td>\n    </tr>\n    <tr>\n      <th>19</th>\n      <td>2.036845</td>\n      <td>-8.011189</td>\n      <td>14.603505</td>\n    </tr>\n    <tr>\n      <th>20</th>\n      <td>3.439079</td>\n      <td>-8.875934</td>\n      <td>17.217113</td>\n    </tr>\n    <tr>\n      <th>21</th>\n      <td>5.343863</td>\n      <td>-6.515766</td>\n      <td>16.767012</td>\n    </tr>\n    <tr>\n      <th>22</th>\n      <td>5.284136</td>\n      <td>-8.460467</td>\n      <td>16.324117</td>\n    </tr>\n    <tr>\n      <th>23</th>\n      <td>6.361104</td>\n      <td>-10.446039</td>\n      <td>18.553682</td>\n    </tr>\n    <tr>\n      <th>24</th>\n      <td>7.990271</td>\n      <td>-13.535839</td>\n      <td>19.144390</td>\n    </tr>\n  </tbody>\n</table>\n</div>"
     },
     "execution_count": 301,
     "metadata": {},
     "output_type": "execute_result"
    }
   ],
   "source": [
    "df_for_plot"
   ],
   "metadata": {
    "collapsed": false,
    "pycharm": {
     "name": "#%%\n"
    }
   }
  },
  {
   "cell_type": "code",
   "execution_count": 333,
   "outputs": [],
   "source": [
    "\n",
    "# define colors as a list\n",
    "colors = px.colors.qualitative.Plotly\n",
    "\n",
    "# convert plotly hex colors to rgba to enable transparency adjustments\n",
    "def hex_rgba(hex, transparency):\n",
    "    col_hex = hex.lstrip('#')\n",
    "    col_rgb = list(int(col_hex[i:i+2], 16) for i in (0, 2, 4))\n",
    "    col_rgb.extend([transparency])\n",
    "    areacol = tuple(col_rgb)\n",
    "    return areacol\n",
    "\n",
    "rgba = [hex_rgba(c, transparency=0.4) for c in colors]\n",
    "colCycle = ['rgba'+str(elem) for elem in rgba]\n",
    "\n",
    "# Make sure the colors run in cycles if there are more lines than colors\n",
    "def next_col(cols):\n",
    "    while True:\n",
    "        for col in cols:\n",
    "            yield col\n",
    "line_color=next_col(cols=colCycle)"
   ],
   "metadata": {
    "collapsed": false,
    "pycharm": {
     "name": "#%%\n"
    }
   }
  },
  {
   "cell_type": "code",
   "execution_count": 302,
   "outputs": [],
   "source": [
    "one_experiment = reset_df.loc[(reset_df[\"first_factor\"] == 0.5) & reset_df[\"second_factor\"] == True]\n",
    "df_for_plot = one_experiment"
   ],
   "metadata": {
    "collapsed": false,
    "pycharm": {
     "name": "#%%\n"
    }
   }
  },
  {
   "cell_type": "code",
   "execution_count": 305,
   "outputs": [
    {
     "ename": "ValueError",
     "evalue": "too many values to unpack (expected 2)",
     "output_type": "error",
     "traceback": [
      "\u001B[1;31m---------------------------------------------------------------------------\u001B[0m",
      "\u001B[1;31mValueError\u001B[0m                                Traceback (most recent call last)",
      "\u001B[1;32m~\\AppData\\Local\\Temp/ipykernel_12500/132153706.py\u001B[0m in \u001B[0;36m<module>\u001B[1;34m\u001B[0m\n\u001B[0;32m      6\u001B[0m \u001B[1;33m\u001B[0m\u001B[0m\n\u001B[0;32m      7\u001B[0m \u001B[1;31m# add line and shaded area for each series and standards deviation\u001B[0m\u001B[1;33m\u001B[0m\u001B[1;33m\u001B[0m\u001B[1;33m\u001B[0m\u001B[0m\n\u001B[1;32m----> 8\u001B[1;33m \u001B[1;32mfor\u001B[0m \u001B[0mi\u001B[0m\u001B[1;33m,\u001B[0m \u001B[0mcol\u001B[0m \u001B[1;32min\u001B[0m \u001B[1;33m[\u001B[0m\u001B[1;34m\"test\"\u001B[0m\u001B[1;33m]\u001B[0m\u001B[1;33m:\u001B[0m\u001B[1;31m##runs over all columns -> instead of columns i need the values of the second factor\u001B[0m\u001B[1;33m\u001B[0m\u001B[1;33m\u001B[0m\u001B[0m\n\u001B[0m\u001B[0;32m      9\u001B[0m     \u001B[0mnew_col\u001B[0m \u001B[1;33m=\u001B[0m \u001B[0mnext\u001B[0m\u001B[1;33m(\u001B[0m\u001B[0mline_color\u001B[0m\u001B[1;33m)\u001B[0m\u001B[1;33m\u001B[0m\u001B[1;33m\u001B[0m\u001B[0m\n\u001B[0;32m     10\u001B[0m     \u001B[0mx\u001B[0m \u001B[1;33m=\u001B[0m  \u001B[0mdf_for_plot\u001B[0m\u001B[1;33m[\u001B[0m\u001B[1;34m\"tick\"\u001B[0m\u001B[1;33m]\u001B[0m\u001B[1;33m\u001B[0m\u001B[1;33m\u001B[0m\u001B[0m\n",
      "\u001B[1;31mValueError\u001B[0m: too many values to unpack (expected 2)"
     ]
    }
   ],
   "source": [
    "# plotly  figure\n",
    "\n"
   ],
   "metadata": {
    "collapsed": false,
    "pycharm": {
     "name": "#%%\n"
    }
   }
  },
  {
   "cell_type": "code",
   "execution_count": 311,
   "outputs": [
    {
     "data": {
      "text/plain": "pandas.core.series.Series"
     },
     "execution_count": 311,
     "metadata": {},
     "output_type": "execute_result"
    }
   ],
   "source": [
    "data_for_plot =  reset_df.loc[(reset_df[\"first_factor\"] == 0.5)]\n",
    "values_of_second_factor = data_for_plot[\"second_factor\"].drop_duplicates()\n",
    "type(values_of_second_factor)"
   ],
   "metadata": {
    "collapsed": false,
    "pycharm": {
     "name": "#%%\n"
    }
   }
  },
  {
   "cell_type": "code",
   "execution_count": 334,
   "outputs": [
    {
     "name": "stdout",
     "output_type": "stream",
     "text": [
      "current experiment for False\n",
      "current experiment for True\n"
     ]
    },
    {
     "data": {
      "application/vnd.plotly.v1+json": {
       "config": {
        "plotlyServerURL": "https://plot.ly"
       },
       "data": [
        {
         "fill": "tozerox",
         "fillcolor": "rgba(99, 110, 250, 0.4)",
         "line": {
          "color": "rgba(255,255,255,0)"
         },
         "name": "ci False",
         "showlegend": true,
         "type": "scatter",
         "x": [
          1.0,
          4.0,
          7.0,
          10.0,
          13.0,
          16.0,
          19.0,
          22.0,
          25.0,
          28.0,
          31.0,
          34.0,
          37.0,
          40.0,
          43.0,
          46.0,
          49.0,
          52.0,
          55.0,
          58.0,
          61.0,
          64.0,
          67.0,
          70.0,
          73.0,
          76.0,
          79.0,
          82.0,
          85.0,
          88.0,
          91.0,
          94.0,
          97.0,
          100.0,
          103.0,
          106.0,
          109.0,
          112.0,
          115.0,
          118.0,
          121.0,
          124.0,
          127.0,
          130.0,
          133.0,
          136.0,
          139.0,
          142.0,
          145.0,
          148.0,
          151.0,
          154.0,
          157.0,
          160.0,
          163.0,
          166.0,
          169.0,
          172.0,
          175.0,
          178.0,
          181.0,
          184.0,
          187.0,
          190.0,
          193.0,
          196.0,
          199.0,
          202.0,
          205.0,
          208.0,
          211.0,
          214.0,
          217.0,
          220.0,
          223.0,
          226.0,
          229.0,
          232.0,
          235.0,
          238.0,
          241.0,
          244.0,
          247.0,
          250.0,
          253.0,
          256.0,
          259.0,
          262.0,
          265.0,
          268.0
         ],
         "y": [
          0.4914931116781193,
          0.48932317623871346,
          0.5105039754021672,
          0.5216940517992887,
          0.5271630673934256,
          0.525262441402734,
          0.5235187903131648,
          0.5215051931380593,
          0.5176972455186931,
          0.512139344150434,
          0.5086853759147438,
          0.5052804706257459,
          0.5014206975792421,
          0.4978247263200432,
          0.49544714240745674,
          0.4927327167891558,
          0.49012748111711285,
          0.4885016576607945,
          0.48727595377472477,
          0.4852642274395921,
          0.48399337425207106,
          0.482997191251889,
          0.4818665832241508,
          0.48036926433445737,
          0.4798448593211344,
          0.4791240671024611,
          0.47819335881912467,
          0.4775407677119005,
          0.4768223902734242,
          0.47623679503302757,
          0.4755436824172064,
          0.4752315300803251,
          0.47457775900787846,
          0.4739560835008422,
          0.47363215308297413,
          0.47335166562496156,
          0.4728965130667506,
          0.4729296855202324,
          0.4725617550236466,
          0.4722711428467487,
          0.47199973918020105,
          0.471775161775778,
          0.4712381405944552,
          0.4711068908140433,
          0.471031003802891,
          0.4709473369868009,
          0.47042425221985906,
          0.47058493008386737,
          0.47033367807289284,
          0.4699559344452057,
          0.4699765353406652,
          0.4697998211057266,
          0.46978630291565987,
          0.4694402479039464,
          0.4694078537407881,
          0.4690942387680413,
          0.46923312913743664,
          0.46906882592980514,
          0.4690558435971371,
          0.4688961401964814,
          0.468655568553012,
          0.4685785526391206,
          0.4688124033368065,
          0.46849048406659716,
          0.46839752417090835,
          0.46811260555059375,
          0.46845872304717384,
          0.46820273113519995,
          0.46802643428090984,
          0.4678533953393059,
          0.4679503141156742,
          0.46778653990150004,
          0.46769690742083514,
          0.46794535508355106,
          0.4680194858024002,
          0.46771525008522413,
          0.46762473295258855,
          0.46750693689997214,
          0.46795271097736446,
          0.4675944691260888,
          0.4676768948494498,
          0.46762570749802806,
          0.46781892809716774,
          0.4673887894422622,
          0.4671586148231257,
          0.46739334746665606,
          0.4671419253059245,
          0.46734825320798146,
          0.4670795229771817,
          0.4673544976200137
         ]
        },
        {
         "line": {
          "color": "rgba(99, 110, 250, 0.4)",
          "width": 2.5
         },
         "mode": "lines",
         "name": "mean False",
         "type": "scatter",
         "x": [
          1.0,
          4.0,
          7.0,
          10.0,
          13.0,
          16.0,
          19.0,
          22.0,
          25.0,
          28.0,
          31.0,
          34.0,
          37.0,
          40.0,
          43.0,
          46.0,
          49.0,
          52.0,
          55.0,
          58.0,
          61.0,
          64.0,
          67.0,
          70.0,
          73.0,
          76.0,
          79.0,
          82.0,
          85.0,
          88.0,
          91.0,
          94.0,
          97.0,
          100.0,
          103.0,
          106.0,
          109.0,
          112.0,
          115.0,
          118.0,
          121.0,
          124.0,
          127.0,
          130.0,
          133.0,
          136.0,
          139.0,
          142.0,
          145.0,
          148.0,
          151.0,
          154.0,
          157.0,
          160.0,
          163.0,
          166.0,
          169.0,
          172.0,
          175.0,
          178.0,
          181.0,
          184.0,
          187.0,
          190.0,
          193.0,
          196.0,
          199.0,
          202.0,
          205.0,
          208.0,
          211.0,
          214.0,
          217.0,
          220.0,
          223.0,
          226.0,
          229.0,
          232.0,
          235.0,
          238.0,
          241.0,
          244.0,
          247.0,
          250.0,
          253.0,
          256.0,
          259.0,
          262.0,
          265.0,
          268.0
         ],
         "y": [
          0.49013306532241113,
          0.48800153145870834,
          0.5093711501011992,
          0.5207449598437907,
          0.5263238674318997,
          0.5245198197396483,
          0.5227690112671707,
          0.5207252928029488,
          0.5171358011128772,
          0.5115623410770651,
          0.5081919899288456,
          0.5047573607757945,
          0.5008445008435033,
          0.4973777711278356,
          0.494912608517271,
          0.4922939734943374,
          0.4896108001152176,
          0.4879279034274106,
          0.48674120094587636,
          0.48472567501737834,
          0.48343263276065035,
          0.4824938875718944,
          0.4814101764443366,
          0.4798562614835426,
          0.479333540908125,
          0.47869533090724786,
          0.4776978162253337,
          0.47707390848760034,
          0.47637553128380977,
          0.4756881096582544,
          0.4750344636848924,
          0.47465146463119723,
          0.4740895087062905,
          0.47348247369982227,
          0.4732224285508212,
          0.4729183906148197,
          0.4724375648526649,
          0.4724895247940964,
          0.4719745843060768,
          0.47177781110382905,
          0.47148567214266607,
          0.4712595356086208,
          0.47085197064973705,
          0.47062628859864236,
          0.4704502728366119,
          0.47038032147656517,
          0.4699026902221319,
          0.47008289434751727,
          0.46970234049074094,
          0.46951371013484144,
          0.469457255545193,
          0.46937553835368095,
          0.46931926008492436,
          0.4689424704680149,
          0.4688278297181639,
          0.4686605100482547,
          0.4687241085520786,
          0.4685325909065962,
          0.46854137254584577,
          0.46826919449426146,
          0.4681801913157511,
          0.4681322870381658,
          0.4683412271138715,
          0.46796598679936197,
          0.46791729982530417,
          0.467679444300296,
          0.4678919000533489,
          0.4678064180413488,
          0.46755126600438696,
          0.46741820317010635,
          0.467474093002316,
          0.4673343121311423,
          0.4672087200393887,
          0.46742542240052587,
          0.46754774920066566,
          0.4673034666673414,
          0.46706658033103976,
          0.46709645592768356,
          0.46741313122493744,
          0.4671946394986286,
          0.46709113575286154,
          0.4671606922462439,
          0.4672809149260659,
          0.4668645986001643,
          0.4667770319471151,
          0.4669665925693561,
          0.4667821717389186,
          0.4668487361491577,
          0.4665257332782735,
          0.4668561127910655
         ]
        },
        {
         "fill": "tozerox",
         "fillcolor": "rgba(239, 85, 59, 0.4)",
         "line": {
          "color": "rgba(255,255,255,0)"
         },
         "name": "ci True",
         "showlegend": true,
         "type": "scatter",
         "x": [
          1.0,
          4.0,
          7.0,
          10.0,
          13.0,
          16.0,
          19.0,
          22.0,
          25.0,
          28.0,
          31.0,
          34.0,
          37.0,
          40.0,
          43.0,
          46.0,
          49.0,
          52.0,
          55.0,
          58.0,
          61.0,
          64.0,
          67.0,
          70.0,
          73.0,
          76.0,
          79.0,
          82.0,
          85.0,
          88.0,
          91.0,
          94.0,
          97.0,
          100.0,
          103.0,
          106.0,
          109.0,
          112.0,
          115.0,
          118.0,
          121.0,
          124.0,
          127.0,
          130.0,
          133.0,
          136.0,
          139.0,
          142.0,
          145.0,
          148.0,
          151.0,
          154.0,
          157.0,
          160.0,
          163.0,
          166.0,
          169.0,
          172.0,
          175.0,
          178.0,
          181.0,
          184.0,
          187.0,
          190.0,
          193.0,
          196.0,
          199.0,
          202.0,
          205.0,
          208.0,
          211.0,
          214.0,
          217.0,
          220.0,
          223.0,
          226.0,
          229.0,
          232.0,
          235.0,
          238.0,
          241.0,
          244.0,
          247.0,
          250.0,
          253.0,
          256.0,
          259.0,
          262.0,
          265.0,
          268.0
         ],
         "y": [
          0.49117655299441626,
          0.489600865438887,
          0.5118196285907763,
          0.523688694395854,
          0.5293876329757552,
          0.5274266446360721,
          0.5258431469676743,
          0.5240652975980509,
          0.5204195630324225,
          0.5151042945992393,
          0.5115194171522511,
          0.5081165282990994,
          0.5041792882686558,
          0.5008590374799307,
          0.49871368756599005,
          0.49584118472014405,
          0.49347514514899826,
          0.49176869872375517,
          0.49005566623089164,
          0.488513201124593,
          0.48699309474501035,
          0.4858953147671708,
          0.4853930065901131,
          0.48392440408091436,
          0.4830958039038508,
          0.48229277227006495,
          0.4815285137441373,
          0.4805947202981351,
          0.48006321984201455,
          0.47985754629729793,
          0.47897447222859807,
          0.4784810874673488,
          0.47815880424471974,
          0.4775343582169942,
          0.47711674550603733,
          0.47684571910057605,
          0.4765879386459308,
          0.47609988597083813,
          0.4761491288372685,
          0.4754039397349723,
          0.47524183114734403,
          0.47480676605179534,
          0.4748116422077554,
          0.47450996361496944,
          0.4742434798839855,
          0.47400062698857076,
          0.473764490463138,
          0.47360091964145834,
          0.4733608255389187,
          0.4733680812703255,
          0.47342312387884317,
          0.472980110120166,
          0.4728502013794181,
          0.4729270487106586,
          0.47261858436995186,
          0.4723793436097185,
          0.4725453243424372,
          0.47226881650979136,
          0.47234938287276035,
          0.4721299856178391,
          0.4720397271992022,
          0.47191122554347603,
          0.4721044179868597,
          0.4714655074593107,
          0.47186135607371793,
          0.47201373661447577,
          0.4716301957191028,
          0.4712241780817891,
          0.4717380530059727,
          0.4712624711319182,
          0.4714013599712018,
          0.4713568217354258,
          0.4713064603560207,
          0.4710469554523692,
          0.4712969165975801,
          0.4711726491675149,
          0.4707392758654613,
          0.47115403425801516,
          0.4711720875477596,
          0.4709057044176616,
          0.4709168397171344,
          0.47084860391958283,
          0.47065559358572623,
          0.4704177323338541,
          0.47067057796704165,
          0.4705425164785399,
          0.47053016664829417,
          0.4706296575127724,
          0.47032850287142014,
          0.47034602245908624
         ]
        },
        {
         "line": {
          "color": "rgba(239, 85, 59, 0.4)",
          "width": 2.5
         },
         "mode": "lines",
         "name": "mean True",
         "type": "scatter",
         "x": [
          1.0,
          4.0,
          7.0,
          10.0,
          13.0,
          16.0,
          19.0,
          22.0,
          25.0,
          28.0,
          31.0,
          34.0,
          37.0,
          40.0,
          43.0,
          46.0,
          49.0,
          52.0,
          55.0,
          58.0,
          61.0,
          64.0,
          67.0,
          70.0,
          73.0,
          76.0,
          79.0,
          82.0,
          85.0,
          88.0,
          91.0,
          94.0,
          97.0,
          100.0,
          103.0,
          106.0,
          109.0,
          112.0,
          115.0,
          118.0,
          121.0,
          124.0,
          127.0,
          130.0,
          133.0,
          136.0,
          139.0,
          142.0,
          145.0,
          148.0,
          151.0,
          154.0,
          157.0,
          160.0,
          163.0,
          166.0,
          169.0,
          172.0,
          175.0,
          178.0,
          181.0,
          184.0,
          187.0,
          190.0,
          193.0,
          196.0,
          199.0,
          202.0,
          205.0,
          208.0,
          211.0,
          214.0,
          217.0,
          220.0,
          223.0,
          226.0,
          229.0,
          232.0,
          235.0,
          238.0,
          241.0,
          244.0,
          247.0,
          250.0,
          253.0,
          256.0,
          259.0,
          262.0,
          265.0,
          268.0
         ],
         "y": [
          0.4899426278445931,
          0.4884333282822161,
          0.5106632325547602,
          0.5226368723356406,
          0.5284931424297769,
          0.5266297117113683,
          0.5249526961901834,
          0.5233054605286432,
          0.5197197051145788,
          0.5145414748295194,
          0.5109910867207199,
          0.5075067119983315,
          0.5037173984492594,
          0.5003859603708393,
          0.4982780072414096,
          0.4954005329911837,
          0.4930707826979133,
          0.4913327766551225,
          0.4895335791575755,
          0.48806560074034916,
          0.4866493320260719,
          0.4854245555232439,
          0.4848609650070117,
          0.4835319097078211,
          0.48260812375520296,
          0.48183300268911,
          0.48103431548063597,
          0.4801025698426013,
          0.47968331388099167,
          0.47944508100926186,
          0.4785643932791761,
          0.47812873845213505,
          0.4776823315213155,
          0.47714177005605757,
          0.4767280374143855,
          0.47651380782361286,
          0.47612608544415996,
          0.4756239597108905,
          0.47559776659891,
          0.4748949328394474,
          0.47491449881907155,
          0.4743885581528419,
          0.4744291915632423,
          0.47402949670018535,
          0.4738321147920109,
          0.4735896360115177,
          0.4733737746233778,
          0.4731144982484023,
          0.4730167062733904,
          0.4729859692852955,
          0.47293278387113435,
          0.4725325623925106,
          0.4724594891767199,
          0.4724940454861333,
          0.4722026377298379,
          0.4719813711004535,
          0.4721303627973054,
          0.47185557544636547,
          0.47189161054535356,
          0.4717293583584307,
          0.4716097624251855,
          0.4715713743545819,
          0.4716682571331868,
          0.47117641285994166,
          0.4715154431911738,
          0.4715678464741149,
          0.47107777398577627,
          0.47081030127939216,
          0.47134093610858674,
          0.4708529381587565,
          0.4709346817609993,
          0.4708734644908357,
          0.4708470092266243,
          0.4706309827870726,
          0.47087570543966845,
          0.47078277067601193,
          0.47035942519010604,
          0.4708708121960094,
          0.4707640885681975,
          0.47046694084486596,
          0.47044857073100227,
          0.4704748699778653,
          0.47022608232406615,
          0.4699894824956925,
          0.4702226803472859,
          0.47016269524378607,
          0.47003267114637265,
          0.47026260336187714,
          0.46995304417116,
          0.4699865715156427
         ]
        }
       ],
       "layout": {
        "template": {
         "data": {
          "bar": [
           {
            "error_x": {
             "color": "#2a3f5f"
            },
            "error_y": {
             "color": "#2a3f5f"
            },
            "marker": {
             "line": {
              "color": "#E5ECF6",
              "width": 0.5
             },
             "pattern": {
              "fillmode": "overlay",
              "size": 10,
              "solidity": 0.2
             }
            },
            "type": "bar"
           }
          ],
          "barpolar": [
           {
            "marker": {
             "line": {
              "color": "#E5ECF6",
              "width": 0.5
             },
             "pattern": {
              "fillmode": "overlay",
              "size": 10,
              "solidity": 0.2
             }
            },
            "type": "barpolar"
           }
          ],
          "carpet": [
           {
            "aaxis": {
             "endlinecolor": "#2a3f5f",
             "gridcolor": "white",
             "linecolor": "white",
             "minorgridcolor": "white",
             "startlinecolor": "#2a3f5f"
            },
            "baxis": {
             "endlinecolor": "#2a3f5f",
             "gridcolor": "white",
             "linecolor": "white",
             "minorgridcolor": "white",
             "startlinecolor": "#2a3f5f"
            },
            "type": "carpet"
           }
          ],
          "choropleth": [
           {
            "colorbar": {
             "outlinewidth": 0,
             "ticks": ""
            },
            "type": "choropleth"
           }
          ],
          "contour": [
           {
            "colorbar": {
             "outlinewidth": 0,
             "ticks": ""
            },
            "colorscale": [
             [
              0.0,
              "#0d0887"
             ],
             [
              0.1111111111111111,
              "#46039f"
             ],
             [
              0.2222222222222222,
              "#7201a8"
             ],
             [
              0.3333333333333333,
              "#9c179e"
             ],
             [
              0.4444444444444444,
              "#bd3786"
             ],
             [
              0.5555555555555556,
              "#d8576b"
             ],
             [
              0.6666666666666666,
              "#ed7953"
             ],
             [
              0.7777777777777778,
              "#fb9f3a"
             ],
             [
              0.8888888888888888,
              "#fdca26"
             ],
             [
              1.0,
              "#f0f921"
             ]
            ],
            "type": "contour"
           }
          ],
          "contourcarpet": [
           {
            "colorbar": {
             "outlinewidth": 0,
             "ticks": ""
            },
            "type": "contourcarpet"
           }
          ],
          "heatmap": [
           {
            "colorbar": {
             "outlinewidth": 0,
             "ticks": ""
            },
            "colorscale": [
             [
              0.0,
              "#0d0887"
             ],
             [
              0.1111111111111111,
              "#46039f"
             ],
             [
              0.2222222222222222,
              "#7201a8"
             ],
             [
              0.3333333333333333,
              "#9c179e"
             ],
             [
              0.4444444444444444,
              "#bd3786"
             ],
             [
              0.5555555555555556,
              "#d8576b"
             ],
             [
              0.6666666666666666,
              "#ed7953"
             ],
             [
              0.7777777777777778,
              "#fb9f3a"
             ],
             [
              0.8888888888888888,
              "#fdca26"
             ],
             [
              1.0,
              "#f0f921"
             ]
            ],
            "type": "heatmap"
           }
          ],
          "heatmapgl": [
           {
            "colorbar": {
             "outlinewidth": 0,
             "ticks": ""
            },
            "colorscale": [
             [
              0.0,
              "#0d0887"
             ],
             [
              0.1111111111111111,
              "#46039f"
             ],
             [
              0.2222222222222222,
              "#7201a8"
             ],
             [
              0.3333333333333333,
              "#9c179e"
             ],
             [
              0.4444444444444444,
              "#bd3786"
             ],
             [
              0.5555555555555556,
              "#d8576b"
             ],
             [
              0.6666666666666666,
              "#ed7953"
             ],
             [
              0.7777777777777778,
              "#fb9f3a"
             ],
             [
              0.8888888888888888,
              "#fdca26"
             ],
             [
              1.0,
              "#f0f921"
             ]
            ],
            "type": "heatmapgl"
           }
          ],
          "histogram": [
           {
            "marker": {
             "pattern": {
              "fillmode": "overlay",
              "size": 10,
              "solidity": 0.2
             }
            },
            "type": "histogram"
           }
          ],
          "histogram2d": [
           {
            "colorbar": {
             "outlinewidth": 0,
             "ticks": ""
            },
            "colorscale": [
             [
              0.0,
              "#0d0887"
             ],
             [
              0.1111111111111111,
              "#46039f"
             ],
             [
              0.2222222222222222,
              "#7201a8"
             ],
             [
              0.3333333333333333,
              "#9c179e"
             ],
             [
              0.4444444444444444,
              "#bd3786"
             ],
             [
              0.5555555555555556,
              "#d8576b"
             ],
             [
              0.6666666666666666,
              "#ed7953"
             ],
             [
              0.7777777777777778,
              "#fb9f3a"
             ],
             [
              0.8888888888888888,
              "#fdca26"
             ],
             [
              1.0,
              "#f0f921"
             ]
            ],
            "type": "histogram2d"
           }
          ],
          "histogram2dcontour": [
           {
            "colorbar": {
             "outlinewidth": 0,
             "ticks": ""
            },
            "colorscale": [
             [
              0.0,
              "#0d0887"
             ],
             [
              0.1111111111111111,
              "#46039f"
             ],
             [
              0.2222222222222222,
              "#7201a8"
             ],
             [
              0.3333333333333333,
              "#9c179e"
             ],
             [
              0.4444444444444444,
              "#bd3786"
             ],
             [
              0.5555555555555556,
              "#d8576b"
             ],
             [
              0.6666666666666666,
              "#ed7953"
             ],
             [
              0.7777777777777778,
              "#fb9f3a"
             ],
             [
              0.8888888888888888,
              "#fdca26"
             ],
             [
              1.0,
              "#f0f921"
             ]
            ],
            "type": "histogram2dcontour"
           }
          ],
          "mesh3d": [
           {
            "colorbar": {
             "outlinewidth": 0,
             "ticks": ""
            },
            "type": "mesh3d"
           }
          ],
          "parcoords": [
           {
            "line": {
             "colorbar": {
              "outlinewidth": 0,
              "ticks": ""
             }
            },
            "type": "parcoords"
           }
          ],
          "pie": [
           {
            "automargin": true,
            "type": "pie"
           }
          ],
          "scatter": [
           {
            "marker": {
             "colorbar": {
              "outlinewidth": 0,
              "ticks": ""
             }
            },
            "type": "scatter"
           }
          ],
          "scatter3d": [
           {
            "line": {
             "colorbar": {
              "outlinewidth": 0,
              "ticks": ""
             }
            },
            "marker": {
             "colorbar": {
              "outlinewidth": 0,
              "ticks": ""
             }
            },
            "type": "scatter3d"
           }
          ],
          "scattercarpet": [
           {
            "marker": {
             "colorbar": {
              "outlinewidth": 0,
              "ticks": ""
             }
            },
            "type": "scattercarpet"
           }
          ],
          "scattergeo": [
           {
            "marker": {
             "colorbar": {
              "outlinewidth": 0,
              "ticks": ""
             }
            },
            "type": "scattergeo"
           }
          ],
          "scattergl": [
           {
            "marker": {
             "colorbar": {
              "outlinewidth": 0,
              "ticks": ""
             }
            },
            "type": "scattergl"
           }
          ],
          "scattermapbox": [
           {
            "marker": {
             "colorbar": {
              "outlinewidth": 0,
              "ticks": ""
             }
            },
            "type": "scattermapbox"
           }
          ],
          "scatterpolar": [
           {
            "marker": {
             "colorbar": {
              "outlinewidth": 0,
              "ticks": ""
             }
            },
            "type": "scatterpolar"
           }
          ],
          "scatterpolargl": [
           {
            "marker": {
             "colorbar": {
              "outlinewidth": 0,
              "ticks": ""
             }
            },
            "type": "scatterpolargl"
           }
          ],
          "scatterternary": [
           {
            "marker": {
             "colorbar": {
              "outlinewidth": 0,
              "ticks": ""
             }
            },
            "type": "scatterternary"
           }
          ],
          "surface": [
           {
            "colorbar": {
             "outlinewidth": 0,
             "ticks": ""
            },
            "colorscale": [
             [
              0.0,
              "#0d0887"
             ],
             [
              0.1111111111111111,
              "#46039f"
             ],
             [
              0.2222222222222222,
              "#7201a8"
             ],
             [
              0.3333333333333333,
              "#9c179e"
             ],
             [
              0.4444444444444444,
              "#bd3786"
             ],
             [
              0.5555555555555556,
              "#d8576b"
             ],
             [
              0.6666666666666666,
              "#ed7953"
             ],
             [
              0.7777777777777778,
              "#fb9f3a"
             ],
             [
              0.8888888888888888,
              "#fdca26"
             ],
             [
              1.0,
              "#f0f921"
             ]
            ],
            "type": "surface"
           }
          ],
          "table": [
           {
            "cells": {
             "fill": {
              "color": "#EBF0F8"
             },
             "line": {
              "color": "white"
             }
            },
            "header": {
             "fill": {
              "color": "#C8D4E3"
             },
             "line": {
              "color": "white"
             }
            },
            "type": "table"
           }
          ]
         },
         "layout": {
          "annotationdefaults": {
           "arrowcolor": "#2a3f5f",
           "arrowhead": 0,
           "arrowwidth": 1
          },
          "autotypenumbers": "strict",
          "coloraxis": {
           "colorbar": {
            "outlinewidth": 0,
            "ticks": ""
           }
          },
          "colorscale": {
           "diverging": [
            [
             0,
             "#8e0152"
            ],
            [
             0.1,
             "#c51b7d"
            ],
            [
             0.2,
             "#de77ae"
            ],
            [
             0.3,
             "#f1b6da"
            ],
            [
             0.4,
             "#fde0ef"
            ],
            [
             0.5,
             "#f7f7f7"
            ],
            [
             0.6,
             "#e6f5d0"
            ],
            [
             0.7,
             "#b8e186"
            ],
            [
             0.8,
             "#7fbc41"
            ],
            [
             0.9,
             "#4d9221"
            ],
            [
             1,
             "#276419"
            ]
           ],
           "sequential": [
            [
             0.0,
             "#0d0887"
            ],
            [
             0.1111111111111111,
             "#46039f"
            ],
            [
             0.2222222222222222,
             "#7201a8"
            ],
            [
             0.3333333333333333,
             "#9c179e"
            ],
            [
             0.4444444444444444,
             "#bd3786"
            ],
            [
             0.5555555555555556,
             "#d8576b"
            ],
            [
             0.6666666666666666,
             "#ed7953"
            ],
            [
             0.7777777777777778,
             "#fb9f3a"
            ],
            [
             0.8888888888888888,
             "#fdca26"
            ],
            [
             1.0,
             "#f0f921"
            ]
           ],
           "sequentialminus": [
            [
             0.0,
             "#0d0887"
            ],
            [
             0.1111111111111111,
             "#46039f"
            ],
            [
             0.2222222222222222,
             "#7201a8"
            ],
            [
             0.3333333333333333,
             "#9c179e"
            ],
            [
             0.4444444444444444,
             "#bd3786"
            ],
            [
             0.5555555555555556,
             "#d8576b"
            ],
            [
             0.6666666666666666,
             "#ed7953"
            ],
            [
             0.7777777777777778,
             "#fb9f3a"
            ],
            [
             0.8888888888888888,
             "#fdca26"
            ],
            [
             1.0,
             "#f0f921"
            ]
           ]
          },
          "colorway": [
           "#636efa",
           "#EF553B",
           "#00cc96",
           "#ab63fa",
           "#FFA15A",
           "#19d3f3",
           "#FF6692",
           "#B6E880",
           "#FF97FF",
           "#FECB52"
          ],
          "font": {
           "color": "#2a3f5f"
          },
          "geo": {
           "bgcolor": "white",
           "lakecolor": "white",
           "landcolor": "#E5ECF6",
           "showlakes": true,
           "showland": true,
           "subunitcolor": "white"
          },
          "hoverlabel": {
           "align": "left"
          },
          "hovermode": "closest",
          "mapbox": {
           "style": "light"
          },
          "paper_bgcolor": "white",
          "plot_bgcolor": "#E5ECF6",
          "polar": {
           "angularaxis": {
            "gridcolor": "white",
            "linecolor": "white",
            "ticks": ""
           },
           "bgcolor": "#E5ECF6",
           "radialaxis": {
            "gridcolor": "white",
            "linecolor": "white",
            "ticks": ""
           }
          },
          "scene": {
           "xaxis": {
            "backgroundcolor": "#E5ECF6",
            "gridcolor": "white",
            "gridwidth": 2,
            "linecolor": "white",
            "showbackground": true,
            "ticks": "",
            "zerolinecolor": "white"
           },
           "yaxis": {
            "backgroundcolor": "#E5ECF6",
            "gridcolor": "white",
            "gridwidth": 2,
            "linecolor": "white",
            "showbackground": true,
            "ticks": "",
            "zerolinecolor": "white"
           },
           "zaxis": {
            "backgroundcolor": "#E5ECF6",
            "gridcolor": "white",
            "gridwidth": 2,
            "linecolor": "white",
            "showbackground": true,
            "ticks": "",
            "zerolinecolor": "white"
           }
          },
          "shapedefaults": {
           "line": {
            "color": "#2a3f5f"
           }
          },
          "ternary": {
           "aaxis": {
            "gridcolor": "white",
            "linecolor": "white",
            "ticks": ""
           },
           "baxis": {
            "gridcolor": "white",
            "linecolor": "white",
            "ticks": ""
           },
           "bgcolor": "#E5ECF6",
           "caxis": {
            "gridcolor": "white",
            "linecolor": "white",
            "ticks": ""
           }
          },
          "title": {
           "x": 0.05
          },
          "xaxis": {
           "automargin": true,
           "gridcolor": "white",
           "linecolor": "white",
           "ticks": "",
           "title": {
            "standoff": 15
           },
           "zerolinecolor": "white",
           "zerolinewidth": 2
          },
          "yaxis": {
           "automargin": true,
           "gridcolor": "white",
           "linecolor": "white",
           "ticks": "",
           "title": {
            "standoff": 15
           },
           "zerolinecolor": "white",
           "zerolinewidth": 2
          }
         }
        },
        "xaxis": {
         "range": [
          1,
          90
         ]
        }
       }
      },
      "text/html": "<div>                            <div id=\"e677d011-ebe7-414f-b2a4-d5a52d067b14\" class=\"plotly-graph-div\" style=\"height:525px; width:100%;\"></div>            <script type=\"text/javascript\">                require([\"plotly\"], function(Plotly) {                    window.PLOTLYENV=window.PLOTLYENV || {};                                    if (document.getElementById(\"e677d011-ebe7-414f-b2a4-d5a52d067b14\")) {                    Plotly.newPlot(                        \"e677d011-ebe7-414f-b2a4-d5a52d067b14\",                        [{\"fill\":\"tozerox\",\"fillcolor\":\"rgba(99, 110, 250, 0.4)\",\"line\":{\"color\":\"rgba(255,255,255,0)\"},\"name\":\"ci False\",\"showlegend\":true,\"type\":\"scatter\",\"x\":[1.0,4.0,7.0,10.0,13.0,16.0,19.0,22.0,25.0,28.0,31.0,34.0,37.0,40.0,43.0,46.0,49.0,52.0,55.0,58.0,61.0,64.0,67.0,70.0,73.0,76.0,79.0,82.0,85.0,88.0,91.0,94.0,97.0,100.0,103.0,106.0,109.0,112.0,115.0,118.0,121.0,124.0,127.0,130.0,133.0,136.0,139.0,142.0,145.0,148.0,151.0,154.0,157.0,160.0,163.0,166.0,169.0,172.0,175.0,178.0,181.0,184.0,187.0,190.0,193.0,196.0,199.0,202.0,205.0,208.0,211.0,214.0,217.0,220.0,223.0,226.0,229.0,232.0,235.0,238.0,241.0,244.0,247.0,250.0,253.0,256.0,259.0,262.0,265.0,268.0],\"y\":[0.4914931116781193,0.48932317623871346,0.5105039754021672,0.5216940517992887,0.5271630673934256,0.525262441402734,0.5235187903131648,0.5215051931380593,0.5176972455186931,0.512139344150434,0.5086853759147438,0.5052804706257459,0.5014206975792421,0.4978247263200432,0.49544714240745674,0.4927327167891558,0.49012748111711285,0.4885016576607945,0.48727595377472477,0.4852642274395921,0.48399337425207106,0.482997191251889,0.4818665832241508,0.48036926433445737,0.4798448593211344,0.4791240671024611,0.47819335881912467,0.4775407677119005,0.4768223902734242,0.47623679503302757,0.4755436824172064,0.4752315300803251,0.47457775900787846,0.4739560835008422,0.47363215308297413,0.47335166562496156,0.4728965130667506,0.4729296855202324,0.4725617550236466,0.4722711428467487,0.47199973918020105,0.471775161775778,0.4712381405944552,0.4711068908140433,0.471031003802891,0.4709473369868009,0.47042425221985906,0.47058493008386737,0.47033367807289284,0.4699559344452057,0.4699765353406652,0.4697998211057266,0.46978630291565987,0.4694402479039464,0.4694078537407881,0.4690942387680413,0.46923312913743664,0.46906882592980514,0.4690558435971371,0.4688961401964814,0.468655568553012,0.4685785526391206,0.4688124033368065,0.46849048406659716,0.46839752417090835,0.46811260555059375,0.46845872304717384,0.46820273113519995,0.46802643428090984,0.4678533953393059,0.4679503141156742,0.46778653990150004,0.46769690742083514,0.46794535508355106,0.4680194858024002,0.46771525008522413,0.46762473295258855,0.46750693689997214,0.46795271097736446,0.4675944691260888,0.4676768948494498,0.46762570749802806,0.46781892809716774,0.4673887894422622,0.4671586148231257,0.46739334746665606,0.4671419253059245,0.46734825320798146,0.4670795229771817,0.4673544976200137]},{\"line\":{\"color\":\"rgba(99, 110, 250, 0.4)\",\"width\":2.5},\"mode\":\"lines\",\"name\":\"mean False\",\"type\":\"scatter\",\"x\":[1.0,4.0,7.0,10.0,13.0,16.0,19.0,22.0,25.0,28.0,31.0,34.0,37.0,40.0,43.0,46.0,49.0,52.0,55.0,58.0,61.0,64.0,67.0,70.0,73.0,76.0,79.0,82.0,85.0,88.0,91.0,94.0,97.0,100.0,103.0,106.0,109.0,112.0,115.0,118.0,121.0,124.0,127.0,130.0,133.0,136.0,139.0,142.0,145.0,148.0,151.0,154.0,157.0,160.0,163.0,166.0,169.0,172.0,175.0,178.0,181.0,184.0,187.0,190.0,193.0,196.0,199.0,202.0,205.0,208.0,211.0,214.0,217.0,220.0,223.0,226.0,229.0,232.0,235.0,238.0,241.0,244.0,247.0,250.0,253.0,256.0,259.0,262.0,265.0,268.0],\"y\":[0.49013306532241113,0.48800153145870834,0.5093711501011992,0.5207449598437907,0.5263238674318997,0.5245198197396483,0.5227690112671707,0.5207252928029488,0.5171358011128772,0.5115623410770651,0.5081919899288456,0.5047573607757945,0.5008445008435033,0.4973777711278356,0.494912608517271,0.4922939734943374,0.4896108001152176,0.4879279034274106,0.48674120094587636,0.48472567501737834,0.48343263276065035,0.4824938875718944,0.4814101764443366,0.4798562614835426,0.479333540908125,0.47869533090724786,0.4776978162253337,0.47707390848760034,0.47637553128380977,0.4756881096582544,0.4750344636848924,0.47465146463119723,0.4740895087062905,0.47348247369982227,0.4732224285508212,0.4729183906148197,0.4724375648526649,0.4724895247940964,0.4719745843060768,0.47177781110382905,0.47148567214266607,0.4712595356086208,0.47085197064973705,0.47062628859864236,0.4704502728366119,0.47038032147656517,0.4699026902221319,0.47008289434751727,0.46970234049074094,0.46951371013484144,0.469457255545193,0.46937553835368095,0.46931926008492436,0.4689424704680149,0.4688278297181639,0.4686605100482547,0.4687241085520786,0.4685325909065962,0.46854137254584577,0.46826919449426146,0.4681801913157511,0.4681322870381658,0.4683412271138715,0.46796598679936197,0.46791729982530417,0.467679444300296,0.4678919000533489,0.4678064180413488,0.46755126600438696,0.46741820317010635,0.467474093002316,0.4673343121311423,0.4672087200393887,0.46742542240052587,0.46754774920066566,0.4673034666673414,0.46706658033103976,0.46709645592768356,0.46741313122493744,0.4671946394986286,0.46709113575286154,0.4671606922462439,0.4672809149260659,0.4668645986001643,0.4667770319471151,0.4669665925693561,0.4667821717389186,0.4668487361491577,0.4665257332782735,0.4668561127910655]},{\"fill\":\"tozerox\",\"fillcolor\":\"rgba(239, 85, 59, 0.4)\",\"line\":{\"color\":\"rgba(255,255,255,0)\"},\"name\":\"ci True\",\"showlegend\":true,\"type\":\"scatter\",\"x\":[1.0,4.0,7.0,10.0,13.0,16.0,19.0,22.0,25.0,28.0,31.0,34.0,37.0,40.0,43.0,46.0,49.0,52.0,55.0,58.0,61.0,64.0,67.0,70.0,73.0,76.0,79.0,82.0,85.0,88.0,91.0,94.0,97.0,100.0,103.0,106.0,109.0,112.0,115.0,118.0,121.0,124.0,127.0,130.0,133.0,136.0,139.0,142.0,145.0,148.0,151.0,154.0,157.0,160.0,163.0,166.0,169.0,172.0,175.0,178.0,181.0,184.0,187.0,190.0,193.0,196.0,199.0,202.0,205.0,208.0,211.0,214.0,217.0,220.0,223.0,226.0,229.0,232.0,235.0,238.0,241.0,244.0,247.0,250.0,253.0,256.0,259.0,262.0,265.0,268.0],\"y\":[0.49117655299441626,0.489600865438887,0.5118196285907763,0.523688694395854,0.5293876329757552,0.5274266446360721,0.5258431469676743,0.5240652975980509,0.5204195630324225,0.5151042945992393,0.5115194171522511,0.5081165282990994,0.5041792882686558,0.5008590374799307,0.49871368756599005,0.49584118472014405,0.49347514514899826,0.49176869872375517,0.49005566623089164,0.488513201124593,0.48699309474501035,0.4858953147671708,0.4853930065901131,0.48392440408091436,0.4830958039038508,0.48229277227006495,0.4815285137441373,0.4805947202981351,0.48006321984201455,0.47985754629729793,0.47897447222859807,0.4784810874673488,0.47815880424471974,0.4775343582169942,0.47711674550603733,0.47684571910057605,0.4765879386459308,0.47609988597083813,0.4761491288372685,0.4754039397349723,0.47524183114734403,0.47480676605179534,0.4748116422077554,0.47450996361496944,0.4742434798839855,0.47400062698857076,0.473764490463138,0.47360091964145834,0.4733608255389187,0.4733680812703255,0.47342312387884317,0.472980110120166,0.4728502013794181,0.4729270487106586,0.47261858436995186,0.4723793436097185,0.4725453243424372,0.47226881650979136,0.47234938287276035,0.4721299856178391,0.4720397271992022,0.47191122554347603,0.4721044179868597,0.4714655074593107,0.47186135607371793,0.47201373661447577,0.4716301957191028,0.4712241780817891,0.4717380530059727,0.4712624711319182,0.4714013599712018,0.4713568217354258,0.4713064603560207,0.4710469554523692,0.4712969165975801,0.4711726491675149,0.4707392758654613,0.47115403425801516,0.4711720875477596,0.4709057044176616,0.4709168397171344,0.47084860391958283,0.47065559358572623,0.4704177323338541,0.47067057796704165,0.4705425164785399,0.47053016664829417,0.4706296575127724,0.47032850287142014,0.47034602245908624]},{\"line\":{\"color\":\"rgba(239, 85, 59, 0.4)\",\"width\":2.5},\"mode\":\"lines\",\"name\":\"mean True\",\"type\":\"scatter\",\"x\":[1.0,4.0,7.0,10.0,13.0,16.0,19.0,22.0,25.0,28.0,31.0,34.0,37.0,40.0,43.0,46.0,49.0,52.0,55.0,58.0,61.0,64.0,67.0,70.0,73.0,76.0,79.0,82.0,85.0,88.0,91.0,94.0,97.0,100.0,103.0,106.0,109.0,112.0,115.0,118.0,121.0,124.0,127.0,130.0,133.0,136.0,139.0,142.0,145.0,148.0,151.0,154.0,157.0,160.0,163.0,166.0,169.0,172.0,175.0,178.0,181.0,184.0,187.0,190.0,193.0,196.0,199.0,202.0,205.0,208.0,211.0,214.0,217.0,220.0,223.0,226.0,229.0,232.0,235.0,238.0,241.0,244.0,247.0,250.0,253.0,256.0,259.0,262.0,265.0,268.0],\"y\":[0.4899426278445931,0.4884333282822161,0.5106632325547602,0.5226368723356406,0.5284931424297769,0.5266297117113683,0.5249526961901834,0.5233054605286432,0.5197197051145788,0.5145414748295194,0.5109910867207199,0.5075067119983315,0.5037173984492594,0.5003859603708393,0.4982780072414096,0.4954005329911837,0.4930707826979133,0.4913327766551225,0.4895335791575755,0.48806560074034916,0.4866493320260719,0.4854245555232439,0.4848609650070117,0.4835319097078211,0.48260812375520296,0.48183300268911,0.48103431548063597,0.4801025698426013,0.47968331388099167,0.47944508100926186,0.4785643932791761,0.47812873845213505,0.4776823315213155,0.47714177005605757,0.4767280374143855,0.47651380782361286,0.47612608544415996,0.4756239597108905,0.47559776659891,0.4748949328394474,0.47491449881907155,0.4743885581528419,0.4744291915632423,0.47402949670018535,0.4738321147920109,0.4735896360115177,0.4733737746233778,0.4731144982484023,0.4730167062733904,0.4729859692852955,0.47293278387113435,0.4725325623925106,0.4724594891767199,0.4724940454861333,0.4722026377298379,0.4719813711004535,0.4721303627973054,0.47185557544636547,0.47189161054535356,0.4717293583584307,0.4716097624251855,0.4715713743545819,0.4716682571331868,0.47117641285994166,0.4715154431911738,0.4715678464741149,0.47107777398577627,0.47081030127939216,0.47134093610858674,0.4708529381587565,0.4709346817609993,0.4708734644908357,0.4708470092266243,0.4706309827870726,0.47087570543966845,0.47078277067601193,0.47035942519010604,0.4708708121960094,0.4707640885681975,0.47046694084486596,0.47044857073100227,0.4704748699778653,0.47022608232406615,0.4699894824956925,0.4702226803472859,0.47016269524378607,0.47003267114637265,0.47026260336187714,0.46995304417116,0.4699865715156427]}],                        {\"template\":{\"data\":{\"bar\":[{\"error_x\":{\"color\":\"#2a3f5f\"},\"error_y\":{\"color\":\"#2a3f5f\"},\"marker\":{\"line\":{\"color\":\"#E5ECF6\",\"width\":0.5},\"pattern\":{\"fillmode\":\"overlay\",\"size\":10,\"solidity\":0.2}},\"type\":\"bar\"}],\"barpolar\":[{\"marker\":{\"line\":{\"color\":\"#E5ECF6\",\"width\":0.5},\"pattern\":{\"fillmode\":\"overlay\",\"size\":10,\"solidity\":0.2}},\"type\":\"barpolar\"}],\"carpet\":[{\"aaxis\":{\"endlinecolor\":\"#2a3f5f\",\"gridcolor\":\"white\",\"linecolor\":\"white\",\"minorgridcolor\":\"white\",\"startlinecolor\":\"#2a3f5f\"},\"baxis\":{\"endlinecolor\":\"#2a3f5f\",\"gridcolor\":\"white\",\"linecolor\":\"white\",\"minorgridcolor\":\"white\",\"startlinecolor\":\"#2a3f5f\"},\"type\":\"carpet\"}],\"choropleth\":[{\"colorbar\":{\"outlinewidth\":0,\"ticks\":\"\"},\"type\":\"choropleth\"}],\"contour\":[{\"colorbar\":{\"outlinewidth\":0,\"ticks\":\"\"},\"colorscale\":[[0.0,\"#0d0887\"],[0.1111111111111111,\"#46039f\"],[0.2222222222222222,\"#7201a8\"],[0.3333333333333333,\"#9c179e\"],[0.4444444444444444,\"#bd3786\"],[0.5555555555555556,\"#d8576b\"],[0.6666666666666666,\"#ed7953\"],[0.7777777777777778,\"#fb9f3a\"],[0.8888888888888888,\"#fdca26\"],[1.0,\"#f0f921\"]],\"type\":\"contour\"}],\"contourcarpet\":[{\"colorbar\":{\"outlinewidth\":0,\"ticks\":\"\"},\"type\":\"contourcarpet\"}],\"heatmap\":[{\"colorbar\":{\"outlinewidth\":0,\"ticks\":\"\"},\"colorscale\":[[0.0,\"#0d0887\"],[0.1111111111111111,\"#46039f\"],[0.2222222222222222,\"#7201a8\"],[0.3333333333333333,\"#9c179e\"],[0.4444444444444444,\"#bd3786\"],[0.5555555555555556,\"#d8576b\"],[0.6666666666666666,\"#ed7953\"],[0.7777777777777778,\"#fb9f3a\"],[0.8888888888888888,\"#fdca26\"],[1.0,\"#f0f921\"]],\"type\":\"heatmap\"}],\"heatmapgl\":[{\"colorbar\":{\"outlinewidth\":0,\"ticks\":\"\"},\"colorscale\":[[0.0,\"#0d0887\"],[0.1111111111111111,\"#46039f\"],[0.2222222222222222,\"#7201a8\"],[0.3333333333333333,\"#9c179e\"],[0.4444444444444444,\"#bd3786\"],[0.5555555555555556,\"#d8576b\"],[0.6666666666666666,\"#ed7953\"],[0.7777777777777778,\"#fb9f3a\"],[0.8888888888888888,\"#fdca26\"],[1.0,\"#f0f921\"]],\"type\":\"heatmapgl\"}],\"histogram\":[{\"marker\":{\"pattern\":{\"fillmode\":\"overlay\",\"size\":10,\"solidity\":0.2}},\"type\":\"histogram\"}],\"histogram2d\":[{\"colorbar\":{\"outlinewidth\":0,\"ticks\":\"\"},\"colorscale\":[[0.0,\"#0d0887\"],[0.1111111111111111,\"#46039f\"],[0.2222222222222222,\"#7201a8\"],[0.3333333333333333,\"#9c179e\"],[0.4444444444444444,\"#bd3786\"],[0.5555555555555556,\"#d8576b\"],[0.6666666666666666,\"#ed7953\"],[0.7777777777777778,\"#fb9f3a\"],[0.8888888888888888,\"#fdca26\"],[1.0,\"#f0f921\"]],\"type\":\"histogram2d\"}],\"histogram2dcontour\":[{\"colorbar\":{\"outlinewidth\":0,\"ticks\":\"\"},\"colorscale\":[[0.0,\"#0d0887\"],[0.1111111111111111,\"#46039f\"],[0.2222222222222222,\"#7201a8\"],[0.3333333333333333,\"#9c179e\"],[0.4444444444444444,\"#bd3786\"],[0.5555555555555556,\"#d8576b\"],[0.6666666666666666,\"#ed7953\"],[0.7777777777777778,\"#fb9f3a\"],[0.8888888888888888,\"#fdca26\"],[1.0,\"#f0f921\"]],\"type\":\"histogram2dcontour\"}],\"mesh3d\":[{\"colorbar\":{\"outlinewidth\":0,\"ticks\":\"\"},\"type\":\"mesh3d\"}],\"parcoords\":[{\"line\":{\"colorbar\":{\"outlinewidth\":0,\"ticks\":\"\"}},\"type\":\"parcoords\"}],\"pie\":[{\"automargin\":true,\"type\":\"pie\"}],\"scatter\":[{\"marker\":{\"colorbar\":{\"outlinewidth\":0,\"ticks\":\"\"}},\"type\":\"scatter\"}],\"scatter3d\":[{\"line\":{\"colorbar\":{\"outlinewidth\":0,\"ticks\":\"\"}},\"marker\":{\"colorbar\":{\"outlinewidth\":0,\"ticks\":\"\"}},\"type\":\"scatter3d\"}],\"scattercarpet\":[{\"marker\":{\"colorbar\":{\"outlinewidth\":0,\"ticks\":\"\"}},\"type\":\"scattercarpet\"}],\"scattergeo\":[{\"marker\":{\"colorbar\":{\"outlinewidth\":0,\"ticks\":\"\"}},\"type\":\"scattergeo\"}],\"scattergl\":[{\"marker\":{\"colorbar\":{\"outlinewidth\":0,\"ticks\":\"\"}},\"type\":\"scattergl\"}],\"scattermapbox\":[{\"marker\":{\"colorbar\":{\"outlinewidth\":0,\"ticks\":\"\"}},\"type\":\"scattermapbox\"}],\"scatterpolar\":[{\"marker\":{\"colorbar\":{\"outlinewidth\":0,\"ticks\":\"\"}},\"type\":\"scatterpolar\"}],\"scatterpolargl\":[{\"marker\":{\"colorbar\":{\"outlinewidth\":0,\"ticks\":\"\"}},\"type\":\"scatterpolargl\"}],\"scatterternary\":[{\"marker\":{\"colorbar\":{\"outlinewidth\":0,\"ticks\":\"\"}},\"type\":\"scatterternary\"}],\"surface\":[{\"colorbar\":{\"outlinewidth\":0,\"ticks\":\"\"},\"colorscale\":[[0.0,\"#0d0887\"],[0.1111111111111111,\"#46039f\"],[0.2222222222222222,\"#7201a8\"],[0.3333333333333333,\"#9c179e\"],[0.4444444444444444,\"#bd3786\"],[0.5555555555555556,\"#d8576b\"],[0.6666666666666666,\"#ed7953\"],[0.7777777777777778,\"#fb9f3a\"],[0.8888888888888888,\"#fdca26\"],[1.0,\"#f0f921\"]],\"type\":\"surface\"}],\"table\":[{\"cells\":{\"fill\":{\"color\":\"#EBF0F8\"},\"line\":{\"color\":\"white\"}},\"header\":{\"fill\":{\"color\":\"#C8D4E3\"},\"line\":{\"color\":\"white\"}},\"type\":\"table\"}]},\"layout\":{\"annotationdefaults\":{\"arrowcolor\":\"#2a3f5f\",\"arrowhead\":0,\"arrowwidth\":1},\"autotypenumbers\":\"strict\",\"coloraxis\":{\"colorbar\":{\"outlinewidth\":0,\"ticks\":\"\"}},\"colorscale\":{\"diverging\":[[0,\"#8e0152\"],[0.1,\"#c51b7d\"],[0.2,\"#de77ae\"],[0.3,\"#f1b6da\"],[0.4,\"#fde0ef\"],[0.5,\"#f7f7f7\"],[0.6,\"#e6f5d0\"],[0.7,\"#b8e186\"],[0.8,\"#7fbc41\"],[0.9,\"#4d9221\"],[1,\"#276419\"]],\"sequential\":[[0.0,\"#0d0887\"],[0.1111111111111111,\"#46039f\"],[0.2222222222222222,\"#7201a8\"],[0.3333333333333333,\"#9c179e\"],[0.4444444444444444,\"#bd3786\"],[0.5555555555555556,\"#d8576b\"],[0.6666666666666666,\"#ed7953\"],[0.7777777777777778,\"#fb9f3a\"],[0.8888888888888888,\"#fdca26\"],[1.0,\"#f0f921\"]],\"sequentialminus\":[[0.0,\"#0d0887\"],[0.1111111111111111,\"#46039f\"],[0.2222222222222222,\"#7201a8\"],[0.3333333333333333,\"#9c179e\"],[0.4444444444444444,\"#bd3786\"],[0.5555555555555556,\"#d8576b\"],[0.6666666666666666,\"#ed7953\"],[0.7777777777777778,\"#fb9f3a\"],[0.8888888888888888,\"#fdca26\"],[1.0,\"#f0f921\"]]},\"colorway\":[\"#636efa\",\"#EF553B\",\"#00cc96\",\"#ab63fa\",\"#FFA15A\",\"#19d3f3\",\"#FF6692\",\"#B6E880\",\"#FF97FF\",\"#FECB52\"],\"font\":{\"color\":\"#2a3f5f\"},\"geo\":{\"bgcolor\":\"white\",\"lakecolor\":\"white\",\"landcolor\":\"#E5ECF6\",\"showlakes\":true,\"showland\":true,\"subunitcolor\":\"white\"},\"hoverlabel\":{\"align\":\"left\"},\"hovermode\":\"closest\",\"mapbox\":{\"style\":\"light\"},\"paper_bgcolor\":\"white\",\"plot_bgcolor\":\"#E5ECF6\",\"polar\":{\"angularaxis\":{\"gridcolor\":\"white\",\"linecolor\":\"white\",\"ticks\":\"\"},\"bgcolor\":\"#E5ECF6\",\"radialaxis\":{\"gridcolor\":\"white\",\"linecolor\":\"white\",\"ticks\":\"\"}},\"scene\":{\"xaxis\":{\"backgroundcolor\":\"#E5ECF6\",\"gridcolor\":\"white\",\"gridwidth\":2,\"linecolor\":\"white\",\"showbackground\":true,\"ticks\":\"\",\"zerolinecolor\":\"white\"},\"yaxis\":{\"backgroundcolor\":\"#E5ECF6\",\"gridcolor\":\"white\",\"gridwidth\":2,\"linecolor\":\"white\",\"showbackground\":true,\"ticks\":\"\",\"zerolinecolor\":\"white\"},\"zaxis\":{\"backgroundcolor\":\"#E5ECF6\",\"gridcolor\":\"white\",\"gridwidth\":2,\"linecolor\":\"white\",\"showbackground\":true,\"ticks\":\"\",\"zerolinecolor\":\"white\"}},\"shapedefaults\":{\"line\":{\"color\":\"#2a3f5f\"}},\"ternary\":{\"aaxis\":{\"gridcolor\":\"white\",\"linecolor\":\"white\",\"ticks\":\"\"},\"baxis\":{\"gridcolor\":\"white\",\"linecolor\":\"white\",\"ticks\":\"\"},\"bgcolor\":\"#E5ECF6\",\"caxis\":{\"gridcolor\":\"white\",\"linecolor\":\"white\",\"ticks\":\"\"}},\"title\":{\"x\":0.05},\"xaxis\":{\"automargin\":true,\"gridcolor\":\"white\",\"linecolor\":\"white\",\"ticks\":\"\",\"title\":{\"standoff\":15},\"zerolinecolor\":\"white\",\"zerolinewidth\":2},\"yaxis\":{\"automargin\":true,\"gridcolor\":\"white\",\"linecolor\":\"white\",\"ticks\":\"\",\"title\":{\"standoff\":15},\"zerolinecolor\":\"white\",\"zerolinewidth\":2}}},\"xaxis\":{\"range\":[1,90]}},                        {\"responsive\": true}                    ).then(function(){\n                            \nvar gd = document.getElementById('e677d011-ebe7-414f-b2a4-d5a52d067b14');\nvar x = new MutationObserver(function (mutations, observer) {{\n        var display = window.getComputedStyle(gd).display;\n        if (!display || display === 'none') {{\n            console.log([gd, 'removed!']);\n            Plotly.purge(gd);\n            observer.disconnect();\n        }}\n}});\n\n// Listen for the removal of the full notebook cells\nvar notebookContainer = gd.closest('#notebook-container');\nif (notebookContainer) {{\n    x.observe(notebookContainer, {childList: true});\n}}\n\n// Listen for the clearing of the current output cell\nvar outputEl = gd.closest('.output');\nif (outputEl) {{\n    x.observe(outputEl, {childList: true});\n}}\n\n                        })                };                });            </script>        </div>"
     },
     "metadata": {},
     "output_type": "display_data"
    }
   ],
   "source": [
    "# add line and shaded area for each series and standards deviation\n",
    "#for i, experiment in values_of_second_factor:#\n",
    "fig = go.Figure()\n",
    "for index, value in values_of_second_factor.items():\n",
    "    print(\"current experiment for \"+ str(value))\n",
    "    df_for_plot = data_for_plot[(data_for_plot[\"second_factor\"] == value)]\n",
    "    #print(df_for_plot)\n",
    "\n",
    "    #runs over all columns -> instead of columns i need the values of the second factor\n",
    "    new_col = next(line_color)\n",
    "    x =  df_for_plot[\"tick\"]\n",
    "    y1 = df_for_plot[\"mean\"]\n",
    "    y1_upper =  df_for_plot[\"ci95_hi\"]\n",
    "    y1_lower =  df_for_plot[\"ci95_lo\"]\n",
    "\n",
    "    # standard deviation area\n",
    "    fig.add_traces(go.Scatter(x=x,\n",
    "                                y=y1_upper,\n",
    "                                fill='tozerox',\n",
    "                                fillcolor=new_col,\n",
    "                                line=dict(color='rgba(255,255,255,0)'),\n",
    "                                showlegend=True,\n",
    "                                name=\"ci \"+str(value)))\n",
    "\n",
    "    # line trace\n",
    "    fig.add_traces(go.Scatter(x=x,\n",
    "                              y=y1,\n",
    "                              line=dict(color=new_col, width=2.5),\n",
    "                              mode='lines',\n",
    "                              name=\"mean \"+str(value))\n",
    "                                )\n",
    "# set x-axis\n",
    "fig.update_layout(xaxis=dict(range=[1,len(df_for_plot)]))\n",
    "\n",
    "fig.show()\n",
    "\n"
   ],
   "metadata": {
    "collapsed": false,
    "pycharm": {
     "name": "#%%\n"
    }
   }
  }
 ],
 "metadata": {
  "kernelspec": {
   "display_name": "Python 3",
   "language": "python",
   "name": "python3"
  },
  "language_info": {
   "codemirror_mode": {
    "name": "ipython",
    "version": 2
   },
   "file_extension": ".py",
   "mimetype": "text/x-python",
   "name": "python",
   "nbconvert_exporter": "python",
   "pygments_lexer": "ipython2",
   "version": "2.7.6"
  }
 },
 "nbformat": 4,
 "nbformat_minor": 0
}